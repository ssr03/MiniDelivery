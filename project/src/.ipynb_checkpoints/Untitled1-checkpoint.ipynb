{
 "cells": [
  {
   "cell_type": "code",
   "execution_count": 16,
   "metadata": {},
   "outputs": [
    {
     "name": "stderr",
     "output_type": "stream",
     "text": [
      "(0.001) SELECT \"coupon_usergiftcoupon\".\"id\", \"coupon_usergiftcoupon\".\"created_time\", \"coupon_usergiftcoupon\".\"updated_time\", \"coupon_usergiftcoupon\".\"gift_coupon_id\", \"coupon_usergiftcoupon\".\"user_id\", \"coupon_usergiftcoupon\".\"prior_user_id\", \"coupon_usergiftcoupon\".\"is_owner\", \"coupon_usergiftcoupon\".\"is_registrant\", \"coupon_giftcoupon\".\"id\", \"coupon_giftcoupon\".\"created_time\", \"coupon_giftcoupon\".\"updated_time\", \"coupon_giftcoupon\".\"sender_id\", \"coupon_giftcoupon\".\"sender_msg\", \"coupon_giftcoupon\".\"receiver_name\", \"coupon_giftcoupon\".\"receiver_phone\", \"coupon_giftcoupon\".\"receiver_email\", \"coupon_giftcoupon\".\"expire_date\", \"coupon_giftcoupon\".\"coupon_code\", \"coupon_giftcoupon\".\"price\", \"coupon_giftcoupon\".\"is_used\", \"coupon_giftcoupon\".\"used_date\" FROM \"coupon_usergiftcoupon\" LEFT OUTER JOIN \"coupon_giftcoupon\" ON (\"coupon_usergiftcoupon\".\"gift_coupon_id\" = \"coupon_giftcoupon\".\"id\")  LIMIT 21; args=()\n"
     ]
    },
    {
     "data": {
      "text/plain": [
       "<QuerySet []>"
      ]
     },
     "execution_count": 16,
     "metadata": {},
     "output_type": "execute_result"
    }
   ],
   "source": [
    " UserGiftCoupon.objects.select_related('gift_coupon') "
   ]
  },
  {
   "cell_type": "code",
   "execution_count": 17,
   "metadata": {},
   "outputs": [
    {
     "name": "stderr",
     "output_type": "stream",
     "text": [
      "(0.001) SELECT \"coupon_usergiftcoupon\".\"id\", \"coupon_usergiftcoupon\".\"created_time\", \"coupon_usergiftcoupon\".\"updated_time\", \"coupon_usergiftcoupon\".\"gift_coupon_id\", \"coupon_usergiftcoupon\".\"user_id\", \"coupon_usergiftcoupon\".\"prior_user_id\", \"coupon_usergiftcoupon\".\"is_owner\", \"coupon_usergiftcoupon\".\"is_registrant\" FROM \"coupon_usergiftcoupon\"  LIMIT 21; args=()\n"
     ]
    },
    {
     "data": {
      "text/plain": [
       "<QuerySet []>"
      ]
     },
     "execution_count": 17,
     "metadata": {},
     "output_type": "execute_result"
    }
   ],
   "source": [
    "UserGiftCoupon.objects.all()"
   ]
  },
  {
   "cell_type": "code",
   "execution_count": 72,
   "metadata": {},
   "outputs": [
    {
     "name": "stderr",
     "output_type": "stream",
     "text": [
      "(0.001) SELECT \"coupon_giftcoupon\".\"id\", \"coupon_giftcoupon\".\"created_time\", \"coupon_giftcoupon\".\"updated_time\", \"coupon_giftcoupon\".\"sender_id\", \"coupon_giftcoupon\".\"sender_msg\", \"coupon_giftcoupon\".\"receiver_name\", \"coupon_giftcoupon\".\"receiver_phone\", \"coupon_giftcoupon\".\"receiver_email\", \"coupon_giftcoupon\".\"expire_date\", \"coupon_giftcoupon\".\"coupon_code\", \"coupon_giftcoupon\".\"price\", \"coupon_giftcoupon\".\"is_used\", \"coupon_giftcoupon\".\"used_date\" FROM \"coupon_giftcoupon\"  LIMIT 21; args=()\n"
     ]
    },
    {
     "data": {
      "text/plain": [
       "<QuerySet [<GiftCoupon: 693c3140-03b3-48ab-8254-41b0586fbe00>, <GiftCoupon: 171d14fb-b479-4f11-867c-fa427c4b278d>]>"
      ]
     },
     "execution_count": 72,
     "metadata": {},
     "output_type": "execute_result"
    }
   ],
   "source": [
    "GiftCoupon.objects.all()"
   ]
  },
  {
   "cell_type": "code",
   "execution_count": 6,
   "metadata": {},
   "outputs": [
    {
     "name": "stderr",
     "output_type": "stream",
     "text": [
      "(0.001) SELECT \"coupon_giftcoupon\".\"id\", \"coupon_giftcoupon\".\"created_time\", \"coupon_giftcoupon\".\"updated_time\", \"coupon_giftcoupon\".\"sender_id\", \"coupon_giftcoupon\".\"sender_msg\", \"coupon_giftcoupon\".\"receiver_name\", \"coupon_giftcoupon\".\"receiver_phone\", \"coupon_giftcoupon\".\"receiver_email\", \"coupon_giftcoupon\".\"expire_date\", \"coupon_giftcoupon\".\"coupon_code\", \"coupon_giftcoupon\".\"price\", \"coupon_giftcoupon\".\"is_used\", \"coupon_giftcoupon\".\"used_date\" FROM \"coupon_giftcoupon\"  LIMIT 21; args=()\n"
     ]
    },
    {
     "data": {
      "text/plain": [
       "<QuerySet []>"
      ]
     },
     "execution_count": 6,
     "metadata": {},
     "output_type": "execute_result"
    }
   ],
   "source": [
    "GiftCoupon.objects.create()"
   ]
  },
  {
   "cell_type": "code",
   "execution_count": 15,
   "metadata": {},
   "outputs": [
    {
     "name": "stderr",
     "output_type": "stream",
     "text": [
      "(0.001) SELECT \"accounts_user\".\"id\", \"accounts_user\".\"password\", \"accounts_user\".\"last_login\", \"accounts_user\".\"is_superuser\", \"accounts_user\".\"username\", \"accounts_user\".\"first_name\", \"accounts_user\".\"last_name\", \"accounts_user\".\"email\", \"accounts_user\".\"is_staff\", \"accounts_user\".\"is_active\", \"accounts_user\".\"date_joined\", \"accounts_user\".\"phone\", \"accounts_user\".\"address\", \"accounts_user\".\"address_detail\", \"accounts_user\".\"user_type\", \"accounts_user\".\"deactivate_date\" FROM \"accounts_user\"  LIMIT 1; args=()\n",
      "(0.001) INSERT INTO \"coupon_giftcoupon\" (\"created_time\", \"updated_time\", \"sender_id\", \"sender_msg\", \"receiver_name\", \"receiver_phone\", \"receiver_email\", \"expire_date\", \"coupon_code\", \"price\", \"is_used\", \"used_date\") VALUES ('2019-05-13T13:57:39.061255+00:00'::timestamptz, '2019-05-13T13:57:39.061281+00:00'::timestamptz, 1, '', '홍길동', '', 'test190508@gmail.com', '2019-05-13'::date, '693c3140-03b3-48ab-8254-41b0586fbe00'::uuid, 10000, false, NULL) RETURNING \"coupon_giftcoupon\".\"id\"; args=(datetime.datetime(2019, 5, 13, 13, 57, 39, 61255, tzinfo=<UTC>), datetime.datetime(2019, 5, 13, 13, 57, 39, 61281, tzinfo=<UTC>), 1, '', '홍길동', '', 'test190508@gmail.com', datetime.date(2019, 5, 13), UUID('693c3140-03b3-48ab-8254-41b0586fbe00'), 10000, False, None)\n"
     ]
    },
    {
     "data": {
      "text/plain": [
       "<GiftCoupon: 693c3140-03b3-48ab-8254-41b0586fbe00>"
      ]
     },
     "execution_count": 15,
     "metadata": {},
     "output_type": "execute_result"
    }
   ],
   "source": [
    "import datetime\n",
    "user = User.objects.all()[0]\n",
    "GiftCoupon.objects.create(\n",
    "            sender= user,\n",
    "            receiver_name='홍길동',\n",
    "            receiver_email='test190508@gmail.com',\n",
    "            price='10000',\n",
    "            expire_date=datetime.datetime.now(),\n",
    "        )"
   ]
  },
  {
   "cell_type": "code",
   "execution_count": 28,
   "metadata": {},
   "outputs": [
    {
     "name": "stderr",
     "output_type": "stream",
     "text": [
      "(0.001) SELECT \"coupon_usergiftcoupon\".\"id\", \"coupon_usergiftcoupon\".\"created_time\", \"coupon_usergiftcoupon\".\"updated_time\", \"coupon_usergiftcoupon\".\"gift_coupon_id\", \"coupon_usergiftcoupon\".\"user_id\", \"coupon_usergiftcoupon\".\"prior_user_id\", \"coupon_usergiftcoupon\".\"is_owner\", \"coupon_usergiftcoupon\".\"is_registrant\", \"coupon_giftcoupon\".\"id\", \"coupon_giftcoupon\".\"created_time\", \"coupon_giftcoupon\".\"updated_time\", \"coupon_giftcoupon\".\"sender_id\", \"coupon_giftcoupon\".\"sender_msg\", \"coupon_giftcoupon\".\"receiver_name\", \"coupon_giftcoupon\".\"receiver_phone\", \"coupon_giftcoupon\".\"receiver_email\", \"coupon_giftcoupon\".\"expire_date\", \"coupon_giftcoupon\".\"coupon_code\", \"coupon_giftcoupon\".\"price\", \"coupon_giftcoupon\".\"is_used\", \"coupon_giftcoupon\".\"used_date\" FROM \"coupon_usergiftcoupon\" INNER JOIN \"coupon_giftcoupon\" ON (\"coupon_usergiftcoupon\".\"gift_coupon_id\" = \"coupon_giftcoupon\".\"id\") WHERE \"coupon_giftcoupon\".\"coupon_code\" = '693c3140-03b3-48ab-8254-41b0586fbe00'::uuid  LIMIT 21; args=(UUID('693c3140-03b3-48ab-8254-41b0586fbe00'),)\n"
     ]
    },
    {
     "data": {
      "text/plain": [
       "<QuerySet []>"
      ]
     },
     "execution_count": 28,
     "metadata": {},
     "output_type": "execute_result"
    }
   ],
   "source": [
    "coupon_code = '693c3140-03b3-48ab-8254-41b0586fbe00'\n",
    "UserGiftCoupon.objects.select_related('gift_coupon').filter(gift_coupon__coupon_code=coupon_code)"
   ]
  },
  {
   "cell_type": "code",
   "execution_count": 73,
   "metadata": {},
   "outputs": [],
   "source": [
    "coupon_code = '171d14fb-b479-4f11-867c-fa427c4b278d'\n",
    "gift_coupon_obj = GiftCoupon.objects.filter(coupon_code=coupon_code)"
   ]
  },
  {
   "cell_type": "code",
   "execution_count": 77,
   "metadata": {},
   "outputs": [
    {
     "name": "stderr",
     "output_type": "stream",
     "text": [
      "(0.000) SELECT \"coupon_giftcoupon\".\"id\", \"coupon_giftcoupon\".\"created_time\", \"coupon_giftcoupon\".\"updated_time\", \"coupon_giftcoupon\".\"sender_id\", \"coupon_giftcoupon\".\"sender_msg\", \"coupon_giftcoupon\".\"receiver_name\", \"coupon_giftcoupon\".\"receiver_phone\", \"coupon_giftcoupon\".\"receiver_email\", \"coupon_giftcoupon\".\"expire_date\", \"coupon_giftcoupon\".\"coupon_code\", \"coupon_giftcoupon\".\"price\", \"coupon_giftcoupon\".\"is_used\", \"coupon_giftcoupon\".\"used_date\" FROM \"coupon_giftcoupon\"  LIMIT 21; args=()\n"
     ]
    },
    {
     "data": {
      "text/plain": [
       "<QuerySet [<GiftCoupon: 693c3140-03b3-48ab-8254-41b0586fbe00>, <GiftCoupon: 171d14fb-b479-4f11-867c-fa427c4b278d>]>"
      ]
     },
     "execution_count": 77,
     "metadata": {},
     "output_type": "execute_result"
    }
   ],
   "source": [
    "GiftCoupon.objects.all()"
   ]
  },
  {
   "cell_type": "code",
   "execution_count": 56,
   "metadata": {},
   "outputs": [
    {
     "name": "stderr",
     "output_type": "stream",
     "text": [
      "(0.000) SELECT \"coupon_giftcoupon\".\"coupon_code\", \"coupon_giftcoupon\".\"is_used\" FROM \"coupon_giftcoupon\" WHERE \"coupon_giftcoupon\".\"coupon_code\" = '693c3140-03b3-48ab-8254-41b0586fbe01'::uuid  LIMIT 1; args=(UUID('693c3140-03b3-48ab-8254-41b0586fbe01'),)\n"
     ]
    },
    {
     "ename": "IndexError",
     "evalue": "list index out of range",
     "output_type": "error",
     "traceback": [
      "\u001b[0;31m---------------------------------------------------------------------------\u001b[0m",
      "\u001b[0;31mIndexError\u001b[0m                                Traceback (most recent call last)",
      "\u001b[0;32m<ipython-input-56-b55642263c8e>\u001b[0m in \u001b[0;36m<module>\u001b[0;34m\u001b[0m\n\u001b[0;32m----> 1\u001b[0;31m \u001b[0mgift_coupon\u001b[0m\u001b[0;34m[\u001b[0m\u001b[0;36m0\u001b[0m\u001b[0;34m]\u001b[0m\u001b[0;34m[\u001b[0m\u001b[0;34m'is_used'\u001b[0m\u001b[0;34m]\u001b[0m\u001b[0;34m\u001b[0m\u001b[0;34m\u001b[0m\u001b[0m\n\u001b[0m",
      "\u001b[0;32m~/Desktop/rookiehero/project/venv/lib/python3.7/site-packages/django/db/models/query.py\u001b[0m in \u001b[0;36m__getitem__\u001b[0;34m(self, k)\u001b[0m\n\u001b[1;32m    301\u001b[0m         \u001b[0mqs\u001b[0m\u001b[0;34m.\u001b[0m\u001b[0mquery\u001b[0m\u001b[0;34m.\u001b[0m\u001b[0mset_limits\u001b[0m\u001b[0;34m(\u001b[0m\u001b[0mk\u001b[0m\u001b[0;34m,\u001b[0m \u001b[0mk\u001b[0m \u001b[0;34m+\u001b[0m \u001b[0;36m1\u001b[0m\u001b[0;34m)\u001b[0m\u001b[0;34m\u001b[0m\u001b[0;34m\u001b[0m\u001b[0m\n\u001b[1;32m    302\u001b[0m         \u001b[0mqs\u001b[0m\u001b[0;34m.\u001b[0m\u001b[0m_fetch_all\u001b[0m\u001b[0;34m(\u001b[0m\u001b[0;34m)\u001b[0m\u001b[0;34m\u001b[0m\u001b[0;34m\u001b[0m\u001b[0m\n\u001b[0;32m--> 303\u001b[0;31m         \u001b[0;32mreturn\u001b[0m \u001b[0mqs\u001b[0m\u001b[0;34m.\u001b[0m\u001b[0m_result_cache\u001b[0m\u001b[0;34m[\u001b[0m\u001b[0;36m0\u001b[0m\u001b[0;34m]\u001b[0m\u001b[0;34m\u001b[0m\u001b[0;34m\u001b[0m\u001b[0m\n\u001b[0m\u001b[1;32m    304\u001b[0m \u001b[0;34m\u001b[0m\u001b[0m\n\u001b[1;32m    305\u001b[0m     \u001b[0;32mdef\u001b[0m \u001b[0m__and__\u001b[0m\u001b[0;34m(\u001b[0m\u001b[0mself\u001b[0m\u001b[0;34m,\u001b[0m \u001b[0mother\u001b[0m\u001b[0;34m)\u001b[0m\u001b[0;34m:\u001b[0m\u001b[0;34m\u001b[0m\u001b[0;34m\u001b[0m\u001b[0m\n",
      "\u001b[0;31mIndexError\u001b[0m: list index out of range"
     ]
    }
   ],
   "source": [
    "gift_coupon = gift_coupon_obj.values('coupon_code','is_used')\n",
    "gift_coupon[0]['is_used']"
   ]
  },
  {
   "cell_type": "code",
   "execution_count": 66,
   "metadata": {},
   "outputs": [
    {
     "name": "stderr",
     "output_type": "stream",
     "text": [
      "(0.001) SELECT \"coupon_usergiftcoupon\".\"id\", \"coupon_usergiftcoupon\".\"created_time\", \"coupon_usergiftcoupon\".\"updated_time\", \"coupon_usergiftcoupon\".\"gift_coupon_id\", \"coupon_usergiftcoupon\".\"user_id\", \"coupon_usergiftcoupon\".\"prior_user_id\", \"coupon_usergiftcoupon\".\"is_owner\", \"coupon_usergiftcoupon\".\"is_registrant\", \"coupon_giftcoupon\".\"id\", \"coupon_giftcoupon\".\"created_time\", \"coupon_giftcoupon\".\"updated_time\", \"coupon_giftcoupon\".\"sender_id\", \"coupon_giftcoupon\".\"sender_msg\", \"coupon_giftcoupon\".\"receiver_name\", \"coupon_giftcoupon\".\"receiver_phone\", \"coupon_giftcoupon\".\"receiver_email\", \"coupon_giftcoupon\".\"expire_date\", \"coupon_giftcoupon\".\"coupon_code\", \"coupon_giftcoupon\".\"price\", \"coupon_giftcoupon\".\"is_used\", \"coupon_giftcoupon\".\"used_date\" FROM \"coupon_usergiftcoupon\" INNER JOIN \"coupon_giftcoupon\" ON (\"coupon_usergiftcoupon\".\"gift_coupon_id\" = \"coupon_giftcoupon\".\"id\") WHERE \"coupon_giftcoupon\".\"coupon_code\" = '693c3140-03b3-48ab-8254-41b0586fbe01'::uuid  LIMIT 21; args=(UUID('693c3140-03b3-48ab-8254-41b0586fbe01'),)\n"
     ]
    },
    {
     "data": {
      "text/plain": [
       "<QuerySet []>"
      ]
     },
     "execution_count": 66,
     "metadata": {},
     "output_type": "execute_result"
    }
   ],
   "source": [
    "UserGiftCoupon.objects.select_related('gift_coupon').filter(gift_coupon__coupon_code=coupon_code)"
   ]
  },
  {
   "cell_type": "code",
   "execution_count": 74,
   "metadata": {},
   "outputs": [
    {
     "name": "stderr",
     "output_type": "stream",
     "text": [
      "(0.001) SELECT \"coupon_giftcoupon\".\"id\", \"coupon_giftcoupon\".\"created_time\", \"coupon_giftcoupon\".\"updated_time\", \"coupon_giftcoupon\".\"sender_id\", \"coupon_giftcoupon\".\"sender_msg\", \"coupon_giftcoupon\".\"receiver_name\", \"coupon_giftcoupon\".\"receiver_phone\", \"coupon_giftcoupon\".\"receiver_email\", \"coupon_giftcoupon\".\"expire_date\", \"coupon_giftcoupon\".\"coupon_code\", \"coupon_giftcoupon\".\"price\", \"coupon_giftcoupon\".\"is_used\", \"coupon_giftcoupon\".\"used_date\" FROM \"coupon_giftcoupon\" WHERE \"coupon_giftcoupon\".\"coupon_code\" = '171d14fb-b479-4f11-867c-fa427c4b278d'::uuid  LIMIT 1; args=(UUID('171d14fb-b479-4f11-867c-fa427c4b278d'),)\n"
     ]
    }
   ],
   "source": [
    "coupon_code='171d14fb-b479-4f11-867c-fa427c4b278d'\n",
    "gift_coupon_obj = GiftCoupon.objects.filter(coupon_code=coupon_code)[0]\n"
   ]
  },
  {
   "cell_type": "code",
   "execution_count": 75,
   "metadata": {},
   "outputs": [
    {
     "ename": "AttributeError",
     "evalue": "'GiftCoupon' object has no attribute 'values'",
     "output_type": "error",
     "traceback": [
      "\u001b[0;31m---------------------------------------------------------------------------\u001b[0m",
      "\u001b[0;31mAttributeError\u001b[0m                            Traceback (most recent call last)",
      "\u001b[0;32m<ipython-input-75-b02d5f4b56a9>\u001b[0m in \u001b[0;36m<module>\u001b[0;34m\u001b[0m\n\u001b[0;32m----> 1\u001b[0;31m \u001b[0mgift_coupon_obj\u001b[0m\u001b[0;34m.\u001b[0m\u001b[0mvalues\u001b[0m\u001b[0;34m(\u001b[0m\u001b[0;34m'coupon_code'\u001b[0m\u001b[0;34m,\u001b[0m\u001b[0;34m'is_used'\u001b[0m\u001b[0;34m)\u001b[0m\u001b[0;34m\u001b[0m\u001b[0;34m\u001b[0m\u001b[0m\n\u001b[0m\u001b[1;32m      2\u001b[0m \u001b[0;31m#gift_coupon_obj[0]\u001b[0m\u001b[0;34m\u001b[0m\u001b[0;34m\u001b[0m\u001b[0;34m\u001b[0m\u001b[0m\n",
      "\u001b[0;31mAttributeError\u001b[0m: 'GiftCoupon' object has no attribute 'values'"
     ]
    }
   ],
   "source": [
    "gift_coupon_obj.values('coupon_code','is_used')\n",
    "#gift_coupon_obj[0]"
   ]
  },
  {
   "cell_type": "code",
   "execution_count": 76,
   "metadata": {},
   "outputs": [
    {
     "name": "stderr",
     "output_type": "stream",
     "text": [
      "(0.001) SELECT \"coupon_usergiftcoupon\".\"id\", \"coupon_usergiftcoupon\".\"created_time\", \"coupon_usergiftcoupon\".\"updated_time\", \"coupon_usergiftcoupon\".\"gift_coupon_id\", \"coupon_usergiftcoupon\".\"user_id\", \"coupon_usergiftcoupon\".\"prior_user_id\", \"coupon_usergiftcoupon\".\"is_owner\", \"coupon_usergiftcoupon\".\"is_registrant\" FROM \"coupon_usergiftcoupon\" INNER JOIN \"coupon_giftcoupon\" ON (\"coupon_usergiftcoupon\".\"gift_coupon_id\" = \"coupon_giftcoupon\".\"id\") WHERE \"coupon_giftcoupon\".\"coupon_code\" = '171d14fb-b479-4f11-867c-fa427c4b278d'::uuid  LIMIT 21; args=(UUID('171d14fb-b479-4f11-867c-fa427c4b278d'),)\n",
      "(0.001) SELECT \"coupon_giftcoupon\".\"id\", \"coupon_giftcoupon\".\"created_time\", \"coupon_giftcoupon\".\"updated_time\", \"coupon_giftcoupon\".\"sender_id\", \"coupon_giftcoupon\".\"sender_msg\", \"coupon_giftcoupon\".\"receiver_name\", \"coupon_giftcoupon\".\"receiver_phone\", \"coupon_giftcoupon\".\"receiver_email\", \"coupon_giftcoupon\".\"expire_date\", \"coupon_giftcoupon\".\"coupon_code\", \"coupon_giftcoupon\".\"price\", \"coupon_giftcoupon\".\"is_used\", \"coupon_giftcoupon\".\"used_date\" FROM \"coupon_giftcoupon\" WHERE \"coupon_giftcoupon\".\"id\" = 8; args=(8,)\n"
     ]
    },
    {
     "data": {
      "text/plain": [
       "<QuerySet [<UserGiftCoupon: 171d14fb-b479-4f11-867c-fa427c4b278d>]>"
      ]
     },
     "execution_count": 76,
     "metadata": {},
     "output_type": "execute_result"
    }
   ],
   "source": [
    "UserGiftCoupon.objects.filter(gift_coupon__coupon_code=coupon_code)"
   ]
  },
  {
   "cell_type": "code",
   "execution_count": 88,
   "metadata": {},
   "outputs": [
    {
     "name": "stderr",
     "output_type": "stream",
     "text": [
      "(0.001) SELECT \"coupon_giftcoupon\".\"id\", \"coupon_giftcoupon\".\"created_time\", \"coupon_giftcoupon\".\"updated_time\", \"coupon_giftcoupon\".\"sender_id\", \"coupon_giftcoupon\".\"sender_msg\", \"coupon_giftcoupon\".\"receiver_name\", \"coupon_giftcoupon\".\"receiver_phone\", \"coupon_giftcoupon\".\"receiver_email\", \"coupon_giftcoupon\".\"expire_date\", \"coupon_giftcoupon\".\"coupon_code\", \"coupon_giftcoupon\".\"price\", \"coupon_giftcoupon\".\"is_used\", \"coupon_giftcoupon\".\"used_date\" FROM \"coupon_giftcoupon\"  LIMIT 21; args=()\n"
     ]
    },
    {
     "data": {
      "text/plain": [
       "<QuerySet [<GiftCoupon: 693c3140-03b3-48ab-8254-41b0586fbe00>, <GiftCoupon: 171d14fb-b479-4f11-867c-fa427c4b278d>]>"
      ]
     },
     "execution_count": 88,
     "metadata": {},
     "output_type": "execute_result"
    }
   ],
   "source": [
    "GiftCoupon.objects.all()"
   ]
  },
  {
   "cell_type": "code",
   "execution_count": 83,
   "metadata": {},
   "outputs": [
    {
     "name": "stderr",
     "output_type": "stream",
     "text": [
      "(0.000) SELECT \"coupon_usergiftcoupon\".\"id\", \"coupon_usergiftcoupon\".\"created_time\", \"coupon_usergiftcoupon\".\"updated_time\", \"coupon_usergiftcoupon\".\"gift_coupon_id\", \"coupon_usergiftcoupon\".\"user_id\", \"coupon_usergiftcoupon\".\"prior_user_id\", \"coupon_usergiftcoupon\".\"is_owner\", \"coupon_usergiftcoupon\".\"is_registrant\" FROM \"coupon_usergiftcoupon\"  LIMIT 21; args=()\n"
     ]
    },
    {
     "data": {
      "text/plain": [
       "<QuerySet []>"
      ]
     },
     "execution_count": 83,
     "metadata": {},
     "output_type": "execute_result"
    }
   ],
   "source": [
    "UserGiftCoupon.objects.all()"
   ]
  },
  {
   "cell_type": "code",
   "execution_count": 89,
   "metadata": {},
   "outputs": [],
   "source": [
    "coupon_code='171d14fb-b479-4f11-867c-fa427c4b278d'"
   ]
  },
  {
   "cell_type": "code",
   "execution_count": 90,
   "metadata": {},
   "outputs": [
    {
     "name": "stderr",
     "output_type": "stream",
     "text": [
      "(0.001) SELECT \"coupon_giftcoupon\".\"id\", \"coupon_giftcoupon\".\"created_time\", \"coupon_giftcoupon\".\"updated_time\", \"coupon_giftcoupon\".\"sender_id\", \"coupon_giftcoupon\".\"sender_msg\", \"coupon_giftcoupon\".\"receiver_name\", \"coupon_giftcoupon\".\"receiver_phone\", \"coupon_giftcoupon\".\"receiver_email\", \"coupon_giftcoupon\".\"expire_date\", \"coupon_giftcoupon\".\"coupon_code\", \"coupon_giftcoupon\".\"price\", \"coupon_giftcoupon\".\"is_used\", \"coupon_giftcoupon\".\"used_date\" FROM \"coupon_giftcoupon\" WHERE \"coupon_giftcoupon\".\"coupon_code\" = '171d14fb-b479-4f11-867c-fa427c4b278d'::uuid  LIMIT 21; args=(UUID('171d14fb-b479-4f11-867c-fa427c4b278d'),)\n"
     ]
    },
    {
     "data": {
      "text/plain": [
       "<QuerySet [<GiftCoupon: 171d14fb-b479-4f11-867c-fa427c4b278d>]>"
      ]
     },
     "execution_count": 90,
     "metadata": {},
     "output_type": "execute_result"
    }
   ],
   "source": [
    "GiftCoupon.objects.filter(coupon_code=coupon_code)"
   ]
  },
  {
   "cell_type": "code",
   "execution_count": 1,
   "metadata": {},
   "outputs": [
    {
     "name": "stderr",
     "output_type": "stream",
     "text": [
      "(0.002) SELECT \"accounts_user\".\"id\", \"accounts_user\".\"password\", \"accounts_user\".\"last_login\", \"accounts_user\".\"is_superuser\", \"accounts_user\".\"username\", \"accounts_user\".\"first_name\", \"accounts_user\".\"last_name\", \"accounts_user\".\"email\", \"accounts_user\".\"is_staff\", \"accounts_user\".\"is_active\", \"accounts_user\".\"date_joined\", \"accounts_user\".\"phone\", \"accounts_user\".\"address\", \"accounts_user\".\"address_detail\", \"accounts_user\".\"user_type\", \"accounts_user\".\"deactivate_date\" FROM \"accounts_user\" WHERE \"accounts_user\".\"id\" = 1; args=(1,)\n"
     ]
    }
   ],
   "source": [
    "user= User.objects.get(pk=1)\n",
    "received_coupons = UserGiftCoupon.objects.select_related('gift_coupon').\\\n",
    "            filter(user=user).order_by('-created_time')\n",
    "coupons_values = received_coupons.values(\n",
    "    'id', 'gift_coupon__id', 'gift_coupon__coupon_code', 'gift_coupon__is_used', 'is_owner',\n",
    "    'prior_user', 'gift_coupon__sender__username', 'gift_coupon__expire_date',\n",
    "    'gift_coupon__created_time', 'created_time',\n",
    "    )\n",
    "    "
   ]
  },
  {
   "cell_type": "code",
   "execution_count": 2,
   "metadata": {},
   "outputs": [
    {
     "name": "stderr",
     "output_type": "stream",
     "text": [
      "(0.003) SELECT \"coupon_usergiftcoupon\".\"id\", \"coupon_usergiftcoupon\".\"gift_coupon_id\", \"coupon_giftcoupon\".\"coupon_code\", \"coupon_giftcoupon\".\"is_used\", \"coupon_usergiftcoupon\".\"is_owner\", \"coupon_usergiftcoupon\".\"prior_user_id\", T5.\"username\", \"coupon_giftcoupon\".\"expire_date\", \"coupon_giftcoupon\".\"created_time\", \"coupon_usergiftcoupon\".\"created_time\" FROM \"coupon_usergiftcoupon\" INNER JOIN \"coupon_giftcoupon\" ON (\"coupon_usergiftcoupon\".\"gift_coupon_id\" = \"coupon_giftcoupon\".\"id\") INNER JOIN \"accounts_user\" T5 ON (\"coupon_giftcoupon\".\"sender_id\" = T5.\"id\") WHERE \"coupon_usergiftcoupon\".\"user_id\" = 1 ORDER BY \"coupon_usergiftcoupon\".\"created_time\" DESC; args=(1,)\n"
     ]
    },
    {
     "name": "stdout",
     "output_type": "stream",
     "text": [
      "None\n",
      "1\n"
     ]
    }
   ],
   "source": [
    "for coupon in coupons_values:\n",
    "    if coupon['prior_user'] is None:\n",
    "        sender_name = coupon['gift_coupon__sender__username']\n",
    "    sender_name = coupon['prior_user']\n",
    "    print(sender_name)\n",
    "    "
   ]
  },
  {
   "cell_type": "code",
   "execution_count": 5,
   "metadata": {},
   "outputs": [
    {
     "name": "stderr",
     "output_type": "stream",
     "text": [
      "(0.001) SELECT \"accounts_user\".\"id\", \"accounts_user\".\"password\", \"accounts_user\".\"last_login\", \"accounts_user\".\"is_superuser\", \"accounts_user\".\"username\", \"accounts_user\".\"first_name\", \"accounts_user\".\"last_name\", \"accounts_user\".\"email\", \"accounts_user\".\"is_staff\", \"accounts_user\".\"is_active\", \"accounts_user\".\"date_joined\", \"accounts_user\".\"phone\", \"accounts_user\".\"address\", \"accounts_user\".\"address_detail\", \"accounts_user\".\"user_type\", \"accounts_user\".\"deactivate_date\" FROM \"accounts_user\" WHERE \"accounts_user\".\"id\" = 1; args=(1,)\n"
     ]
    }
   ],
   "source": [
    "user = User.objects.get(pk=1)"
   ]
  },
  {
   "cell_type": "code",
   "execution_count": 6,
   "metadata": {},
   "outputs": [
    {
     "name": "stderr",
     "output_type": "stream",
     "text": [
      "(0.001) SELECT \"cart_cart\".\"created_time\", \"cart_cart\".\"updated_time\", \"cart_cart\".\"id\", \"cart_cart\".\"user_id\" FROM \"cart_cart\" WHERE \"cart_cart\".\"user_id\" = 1 ORDER BY \"cart_cart\".\"created_time\" DESC  LIMIT 1; args=(1,)\n"
     ]
    }
   ],
   "source": [
    "cart = user.cart_set.order_by(\n",
    "            '-created_time')[0]"
   ]
  },
  {
   "cell_type": "code",
   "execution_count": 26,
   "metadata": {},
   "outputs": [
    {
     "name": "stderr",
     "output_type": "stream",
     "text": [
      "(0.001) SELECT \"cart_cartitem\".\"id\", \"cart_cartitem\".\"menu_id\", \"cart_cartitem\".\"cart_id\", \"cart_cartitem\".\"quantity\", \"menu_menu\".\"id\", \"menu_menu\".\"created_time\", \"menu_menu\".\"updated_time\", \"menu_menu\".\"restaurant_id\", \"menu_menu\".\"name\", \"menu_menu\".\"img\", \"menu_menu\".\"detail\", \"menu_menu\".\"price\", \"menu_menu\".\"type\", \"restaurant_restaurant\".\"id\", \"restaurant_restaurant\".\"name\", \"restaurant_restaurant\".\"owner\", \"restaurant_restaurant\".\"title\", \"restaurant_restaurant\".\"img\", \"restaurant_restaurant\".\"tel\", \"restaurant_restaurant\".\"min_order_price\", \"restaurant_restaurant\".\"order_way\", \"restaurant_restaurant\".\"origin\", \"restaurant_restaurant\".\"delivery_charge\", \"restaurant_restaurant\".\"info\", \"restaurant_restaurant\".\"type\", \"restaurant_restaurant\".\"estimated_delivery_time\", \"restaurant_restaurant\".\"operation_start_hour\", \"restaurant_restaurant\".\"operation_end_hour\" FROM \"cart_cartitem\" INNER JOIN \"menu_menu\" ON (\"cart_cartitem\".\"menu_id\" = \"menu_menu\".\"id\") INNER JOIN \"restaurant_restaurant\" ON (\"menu_menu\".\"restaurant_id\" = \"restaurant_restaurant\".\"id\") WHERE \"cart_cartitem\".\"cart_id\" = 'b21ae667-3332-457c-95ce-d72ea8bc360b'::uuid  LIMIT 21; args=(UUID('b21ae667-3332-457c-95ce-d72ea8bc360b'),)\n"
     ]
    },
    {
     "data": {
      "text/plain": [
       "<QuerySet [<CartItem: menu2 - 2>, <CartItem: menu1 - 1>]>"
      ]
     },
     "execution_count": 26,
     "metadata": {},
     "output_type": "execute_result"
    }
   ],
   "source": [
    "cart_items = CartItem.objects.select_related(\n",
    "            'menu', 'menu__restaurant').filter(\n",
    "                cart_id=cart.id\n",
    "        )\n",
    "cart_items"
   ]
  },
  {
   "cell_type": "code",
   "execution_count": 18,
   "metadata": {},
   "outputs": [],
   "source": [
    "if cart_items.exists():\n",
    "    user_info = {\n",
    "        'address': user.address,\n",
    "        'address_detail': user.address_detail,\n",
    "        'phone': user.phone\n",
    "    }"
   ]
  },
  {
   "cell_type": "code",
   "execution_count": 22,
   "metadata": {},
   "outputs": [
    {
     "name": "stderr",
     "output_type": "stream",
     "text": [
      "(0.001) SELECT (1) AS \"a\" FROM \"cart_cartitem\" WHERE \"cart_cartitem\".\"cart_id\" = 'b21ae667-3332-457c-95ce-d72ea8bc360b'::uuid  LIMIT 1; args=(UUID('b21ae667-3332-457c-95ce-d72ea8bc360b'),)\n",
      "(0.001) SELECT \"cart_cartitem\".\"id\", \"cart_cartitem\".\"menu_id\", \"cart_cartitem\".\"cart_id\", \"cart_cartitem\".\"quantity\", \"menu_menu\".\"id\", \"menu_menu\".\"created_time\", \"menu_menu\".\"updated_time\", \"menu_menu\".\"restaurant_id\", \"menu_menu\".\"name\", \"menu_menu\".\"img\", \"menu_menu\".\"detail\", \"menu_menu\".\"price\", \"menu_menu\".\"type\", \"restaurant_restaurant\".\"id\", \"restaurant_restaurant\".\"name\", \"restaurant_restaurant\".\"owner\", \"restaurant_restaurant\".\"title\", \"restaurant_restaurant\".\"img\", \"restaurant_restaurant\".\"tel\", \"restaurant_restaurant\".\"min_order_price\", \"restaurant_restaurant\".\"order_way\", \"restaurant_restaurant\".\"origin\", \"restaurant_restaurant\".\"delivery_charge\", \"restaurant_restaurant\".\"info\", \"restaurant_restaurant\".\"type\", \"restaurant_restaurant\".\"estimated_delivery_time\", \"restaurant_restaurant\".\"operation_start_hour\", \"restaurant_restaurant\".\"operation_end_hour\" FROM \"cart_cartitem\" INNER JOIN \"menu_menu\" ON (\"cart_cartitem\".\"menu_id\" = \"menu_menu\".\"id\") INNER JOIN \"restaurant_restaurant\" ON (\"menu_menu\".\"restaurant_id\" = \"restaurant_restaurant\".\"id\") WHERE \"cart_cartitem\".\"cart_id\" = 'b21ae667-3332-457c-95ce-d72ea8bc360b'::uuid; args=(UUID('b21ae667-3332-457c-95ce-d72ea8bc360b'),)\n"
     ]
    }
   ],
   "source": [
    "        if cart_items.exists():\n",
    "            user_info = {\n",
    "                'address': user.address,\n",
    "                'address_detail': user.address_detail,\n",
    "                'phone': user.phone\n",
    "            }\n",
    "            menus_in_cart = [\n",
    "                {\n",
    "                    'id': cart_item.menu.id,\n",
    "                    'name': cart_item.menu.name,\n",
    "                    'description': cart_item.menu.detail,\n",
    "                    'price': cart_item.menu.price,\n",
    "                    'quantity': cart_item.quantity,\n",
    "                    'subtotal': cart_item.subtotal_price,\n",
    "                    'img': cart_item.menu.img.url\n",
    "                }\n",
    "                for cart_item in cart_items\n",
    "            ]\n",
    "            restaurant = cart_items[0].menu.restaurant\n",
    "            restaurant_info = {\n",
    "                'title': restaurant.title,\n",
    "                'delivery_charge': restaurant.delivery_charge,\n",
    "                'min_order_price': restaurant.min_order_price,\n",
    "                'menu': menus_in_cart\n",
    "            }\n",
    "            cart_info = {\n",
    "                'cart_id': cart.id,\n",
    "                'total_price': cart.total_price + restaurant.delivery_charge,\n",
    "                'total_quantity': cart.total_quantity,\n",
    "            }\n",
    "            json_data = {\n",
    "                'cart': cart_info,\n",
    "                'restaurant': restaurant_info,\n",
    "                'user': user_info\n",
    "            }"
   ]
  },
  {
   "cell_type": "code",
   "execution_count": 27,
   "metadata": {},
   "outputs": [
    {
     "name": "stderr",
     "output_type": "stream",
     "text": [
      "(0.001) SELECT \"cart_cartitem\".\"id\", \"cart_cartitem\".\"menu_id\", \"cart_cartitem\".\"cart_id\", \"cart_cartitem\".\"quantity\", \"menu_menu\".\"id\", \"menu_menu\".\"created_time\", \"menu_menu\".\"updated_time\", \"menu_menu\".\"restaurant_id\", \"menu_menu\".\"name\", \"menu_menu\".\"img\", \"menu_menu\".\"detail\", \"menu_menu\".\"price\", \"menu_menu\".\"type\", \"restaurant_restaurant\".\"id\", \"restaurant_restaurant\".\"name\", \"restaurant_restaurant\".\"owner\", \"restaurant_restaurant\".\"title\", \"restaurant_restaurant\".\"img\", \"restaurant_restaurant\".\"tel\", \"restaurant_restaurant\".\"min_order_price\", \"restaurant_restaurant\".\"order_way\", \"restaurant_restaurant\".\"origin\", \"restaurant_restaurant\".\"delivery_charge\", \"restaurant_restaurant\".\"info\", \"restaurant_restaurant\".\"type\", \"restaurant_restaurant\".\"estimated_delivery_time\", \"restaurant_restaurant\".\"operation_start_hour\", \"restaurant_restaurant\".\"operation_end_hour\" FROM \"cart_cartitem\" INNER JOIN \"menu_menu\" ON (\"cart_cartitem\".\"menu_id\" = \"menu_menu\".\"id\") INNER JOIN \"restaurant_restaurant\" ON (\"menu_menu\".\"restaurant_id\" = \"restaurant_restaurant\".\"id\") WHERE \"cart_cartitem\".\"cart_id\" = 'b21ae667-3332-457c-95ce-d72ea8bc360b'::uuid; args=(UUID('b21ae667-3332-457c-95ce-d72ea8bc360b'),)\n"
     ]
    }
   ],
   "source": [
    "for cart_item in cart_items:\n",
    "    cart_item.menu.detail"
   ]
  },
  {
   "cell_type": "code",
   "execution_count": 28,
   "metadata": {},
   "outputs": [
    {
     "ename": "SyntaxError",
     "evalue": "invalid syntax (<ipython-input-28-b0b701c015f4>, line 1)",
     "output_type": "error",
     "traceback": [
      "\u001b[0;36m  File \u001b[0;32m\"<ipython-input-28-b0b701c015f4>\"\u001b[0;36m, line \u001b[0;32m1\u001b[0m\n\u001b[0;31m    (0.002) SELECT \"cart_cart\".\"created_time\", \"cart_cart\".\"updated_time\", \"cart_cart\".\"id\", \"cart_cart\".\"user_id\" FROM \"cart_cart\" WHERE \"cart_cart\".\"user_id\" = 1 ORDER BY \"cart_cart\".\"created_time\" DESC  LIMIT 1; args=(1,)\u001b[0m\n\u001b[0m                 ^\u001b[0m\n\u001b[0;31mSyntaxError\u001b[0m\u001b[0;31m:\u001b[0m invalid syntax\n"
     ]
    }
   ],
   "source": [
    "(0.002) SELECT \"cart_cart\".\"created_time\", \"cart_cart\".\"updated_time\", \"cart_cart\".\"id\", \"cart_cart\".\"user_id\" FROM \"cart_cart\" WHERE \"cart_cart\".\"user_id\" = 1 ORDER BY \"cart_cart\".\"created_time\" DESC  LIMIT 1; args=(1,)\n",
    "(0.001) SELECT (1) AS \"a\" FROM \"cart_cartitem\" WHERE \"cart_cartitem\".\"cart_id\" = 'b21ae667-3332-457c-95ce-d72ea8bc360b'::uuid  LIMIT 1; args=(UUID('b21ae667-3332-457c-95ce-d72ea8bc360b'),)\n",
    "(0.001) SELECT \"cart_cartitem\".\"id\", \"cart_cartitem\".\"menu_id\", \"cart_cartitem\".\"cart_id\", \"cart_cartitem\".\"quantity\", \"menu_menu\".\"id\", \"menu_menu\".\"created_time\", \"menu_menu\".\"updated_time\", \"menu_menu\".\"restaurant_id\", \"menu_menu\".\"name\", \"menu_menu\".\"img\", \"menu_menu\".\"detail\", \"menu_menu\".\"price\", \"menu_menu\".\"type\", \"restaurant_restaurant\".\"id\", \"restaurant_restaurant\".\"name\", \"restaurant_restaurant\".\"owner\", \"restaurant_restaurant\".\"title\", \"restaurant_restaurant\".\"img\", \"restaurant_restaurant\".\"tel\", \"restaurant_restaurant\".\"min_order_price\", \"restaurant_restaurant\".\"order_way\", \"restaurant_restaurant\".\"origin\", \"restaurant_restaurant\".\"delivery_charge\", \"restaurant_restaurant\".\"info\", \"restaurant_restaurant\".\"type\", \"restaurant_restaurant\".\"estimated_delivery_time\", \"restaurant_restaurant\".\"operation_start_hour\", \"restaurant_restaurant\".\"operation_end_hour\" FROM \"cart_cartitem\" INNER JOIN \"menu_menu\" ON (\"cart_cartitem\".\"menu_id\" = \"menu_menu\".\"id\") INNER JOIN \"restaurant_restaurant\" ON (\"menu_menu\".\"restaurant_id\" = \"restaurant_restaurant\".\"id\") WHERE \"cart_cartitem\".\"cart_id\" = 'b21ae667-3332-457c-95ce-d72ea8bc360b'::uuid; args=(UUID('b21ae667-3332-457c-95ce-d72ea8bc360b'),)\n",
    "(0.000) SELECT \"cart_cartitem\".\"id\", \"cart_cartitem\".\"menu_id\", \"cart_cartitem\".\"cart_id\", \"cart_cartitem\".\"quantity\", \"menu_menu\".\"id\", \"menu_menu\".\"created_time\", \"menu_menu\".\"updated_time\", \"menu_menu\".\"restaurant_id\", \"menu_menu\".\"name\", \"menu_menu\".\"img\", \"menu_menu\".\"detail\", \"menu_menu\".\"price\", \"menu_menu\".\"type\" FROM \"cart_cartitem\" INNER JOIN \"menu_menu\" ON (\"cart_cartitem\".\"menu_id\" = \"menu_menu\".\"id\") WHERE \"cart_cartitem\".\"cart_id\" = 'b21ae667-3332-457c-95ce-d72ea8bc360b'::uuid; args=(UUID('b21ae667-3332-457c-95ce-d72ea8bc360b'),)\n",
    "(0.000) SELECT \"cart_cartitem\".\"quantity\" FROM \"cart_cartitem\" WHERE \"cart_cartitem\".\"cart_id\" = 'b21ae667-3332-457c-95ce-d72ea8bc360b'::uuid; args=(UUID('b21ae667-3332-457c-95ce-d72ea8bc360b'),)\n"
   ]
  },
  {
   "cell_type": "code",
   "execution_count": 29,
   "metadata": {},
   "outputs": [
    {
     "ename": "SyntaxError",
     "evalue": "invalid syntax (<ipython-input-29-cd933b06f934>, line 1)",
     "output_type": "error",
     "traceback": [
      "\u001b[0;36m  File \u001b[0;32m\"<ipython-input-29-cd933b06f934>\"\u001b[0;36m, line \u001b[0;32m1\u001b[0m\n\u001b[0;31m    (0.001) SELECT \"cart_cart\".\"created_time\", \"cart_cart\".\"updated_time\", \"cart_cart\".\"id\", \"cart_cart\".\"user_id\" FROM \"cart_cart\" WHERE \"cart_cart\".\"user_id\" = 1 ORDER BY \"cart_cart\".\"created_time\" DESC  LIMIT 1; args=(1,)\u001b[0m\n\u001b[0m                 ^\u001b[0m\n\u001b[0;31mSyntaxError\u001b[0m\u001b[0;31m:\u001b[0m invalid syntax\n"
     ]
    }
   ],
   "source": [
    "(0.001) SELECT \"cart_cart\".\"created_time\", \"cart_cart\".\"updated_time\", \"cart_cart\".\"id\", \"cart_cart\".\"user_id\" FROM \"cart_cart\" WHERE \"cart_cart\".\"user_id\" = 1 ORDER BY \"cart_cart\".\"created_time\" DESC  LIMIT 1; args=(1,)\n",
    "(0.001) SELECT (1) AS \"a\" FROM \"cart_cart\" WHERE \"cart_cart\".\"user_id\" = 1  LIMIT 1; args=(1,)\n",
    "(0.001) SELECT (1) AS \"a\" FROM \"cart_cartitem\" WHERE \"cart_cartitem\".\"cart_id\" = 'b21ae667-3332-457c-95ce-d72ea8bc360b'::uuid  LIMIT 1; args=(UUID('b21ae667-3332-457c-95ce-d72ea8bc360b'),)\n",
    "(0.001) SELECT \"cart_cart\".\"created_time\", \"cart_cart\".\"updated_time\", \"cart_cart\".\"id\", \"cart_cart\".\"user_id\" FROM \"cart_cart\" WHERE \"cart_cart\".\"user_id\" = 1 ORDER BY \"cart_cart\".\"created_time\" DESC  LIMIT 1; args=(1,)\n",
    "(0.000) SELECT \"cart_cart\".\"created_time\", \"cart_cart\".\"updated_time\", \"cart_cart\".\"id\", \"cart_cart\".\"user_id\" FROM \"cart_cart\" WHERE \"cart_cart\".\"user_id\" = 1 ORDER BY \"cart_cart\".\"created_time\" DESC  LIMIT 1; args=(1,)\n",
    "(0.003) SELECT \"cart_cartitem\".\"id\", \"cart_cartitem\".\"menu_id\", \"cart_cartitem\".\"cart_id\", \"cart_cartitem\".\"quantity\", \"menu_menu\".\"id\", \"menu_menu\".\"created_time\", \"menu_menu\".\"updated_time\", \"menu_menu\".\"restaurant_id\", \"menu_menu\".\"name\", \"menu_menu\".\"img\", \"menu_menu\".\"detail\", \"menu_menu\".\"price\", \"menu_menu\".\"type\", \"restaurant_restaurant\".\"id\", \"restaurant_restaurant\".\"name\", \"restaurant_restaurant\".\"owner\", \"restaurant_restaurant\".\"title\", \"restaurant_restaurant\".\"img\", \"restaurant_restaurant\".\"tel\", \"restaurant_restaurant\".\"min_order_price\", \"restaurant_restaurant\".\"order_way\", \"restaurant_restaurant\".\"origin\", \"restaurant_restaurant\".\"delivery_charge\", \"restaurant_restaurant\".\"info\", \"restaurant_restaurant\".\"type\", \"restaurant_restaurant\".\"estimated_delivery_time\", \"restaurant_restaurant\".\"operation_start_hour\", \"restaurant_restaurant\".\"operation_end_hour\" FROM \"cart_cartitem\" INNER JOIN \"menu_menu\" ON (\"cart_cartitem\".\"menu_id\" = \"menu_menu\".\"id\") INNER JOIN \"restaurant_restaurant\" ON (\"menu_menu\".\"restaurant_id\" = \"restaurant_restaurant\".\"id\") WHERE \"cart_cartitem\".\"cart_id\" = 'b21ae667-3332-457c-95ce-d72ea8bc360b'::uuid; args=(UUID('b21ae667-3332-457c-95ce-d72ea8bc360b'),)\n",
    "(0.002) SELECT \"cart_cartitem\".\"quantity\" FROM \"cart_cartitem\" WHERE \"cart_cartitem\".\"cart_id\" = 'b21ae667-3332-457c-95ce-d72ea8bc360b'::uuid; args=(UUID('b21ae667-3332-457c-95ce-d72ea8bc360b'),)\n"
   ]
  },
  {
   "cell_type": "code",
   "execution_count": 33,
   "metadata": {},
   "outputs": [
    {
     "name": "stderr",
     "output_type": "stream",
     "text": [
      "(0.001) SELECT \"accounts_user\".\"id\", \"accounts_user\".\"password\", \"accounts_user\".\"last_login\", \"accounts_user\".\"is_superuser\", \"accounts_user\".\"username\", \"accounts_user\".\"first_name\", \"accounts_user\".\"last_name\", \"accounts_user\".\"email\", \"accounts_user\".\"is_staff\", \"accounts_user\".\"is_active\", \"accounts_user\".\"date_joined\", \"accounts_user\".\"phone\", \"accounts_user\".\"address\", \"accounts_user\".\"address_detail\", \"accounts_user\".\"user_type\", \"accounts_user\".\"deactivate_date\" FROM \"accounts_user\" WHERE \"accounts_user\".\"id\" = 2; args=(2,)\n"
     ]
    }
   ],
   "source": [
    "\n",
    "sent_coupons = (UserGiftCoupon.objects.select_related('gift_coupon')\n",
    "                .filter(gift_coupon__sender=user).order_by('-created_time'))"
   ]
  },
  {
   "cell_type": "code",
   "execution_count": 1,
   "metadata": {},
   "outputs": [
    {
     "name": "stderr",
     "output_type": "stream",
     "text": [
      "(0.002) SELECT \"accounts_user\".\"id\", \"accounts_user\".\"password\", \"accounts_user\".\"last_login\", \"accounts_user\".\"is_superuser\", \"accounts_user\".\"username\", \"accounts_user\".\"first_name\", \"accounts_user\".\"last_name\", \"accounts_user\".\"email\", \"accounts_user\".\"is_staff\", \"accounts_user\".\"is_active\", \"accounts_user\".\"date_joined\", \"accounts_user\".\"phone\", \"accounts_user\".\"address\", \"accounts_user\".\"address_detail\", \"accounts_user\".\"user_type\", \"accounts_user\".\"deactivate_date\" FROM \"accounts_user\" WHERE \"accounts_user\".\"id\" = 2; args=(2,)\n",
      "(0.002) SELECT \"coupon_usergiftcoupon\".\"id\", \"coupon_usergiftcoupon\".\"created_time\", \"coupon_usergiftcoupon\".\"updated_time\", \"coupon_usergiftcoupon\".\"gift_coupon_id\", \"coupon_usergiftcoupon\".\"user_id\", \"coupon_usergiftcoupon\".\"prior_user_id\", \"coupon_usergiftcoupon\".\"is_owner\", \"coupon_usergiftcoupon\".\"is_registrant\", \"coupon_giftcoupon\".\"id\", \"coupon_giftcoupon\".\"created_time\", \"coupon_giftcoupon\".\"updated_time\", \"coupon_giftcoupon\".\"sender_id\", \"coupon_giftcoupon\".\"sender_msg\", \"coupon_giftcoupon\".\"receiver_name\", \"coupon_giftcoupon\".\"receiver_phone\", \"coupon_giftcoupon\".\"receiver_email\", \"coupon_giftcoupon\".\"expire_date\", \"coupon_giftcoupon\".\"coupon_code\", \"coupon_giftcoupon\".\"price\", \"coupon_giftcoupon\".\"is_used\", \"coupon_giftcoupon\".\"used_date\" FROM \"coupon_usergiftcoupon\" INNER JOIN \"coupon_giftcoupon\" ON (\"coupon_usergiftcoupon\".\"gift_coupon_id\" = \"coupon_giftcoupon\".\"id\") WHERE (\"coupon_giftcoupon\".\"sender_id\" = 2 OR \"coupon_usergiftcoupon\".\"prior_user_id\" = 2) ORDER BY \"coupon_usergiftcoupon\".\"created_time\" DESC  LIMIT 21; args=(2, 2)\n"
     ]
    },
    {
     "data": {
      "text/plain": [
       "<QuerySet [<UserGiftCoupon: 171d14fb-b479-4f11-867c-fa427c4b278d>, <UserGiftCoupon: 693c3140-03b3-48ab-8254-41b0586fbe00>]>"
      ]
     },
     "execution_count": 1,
     "metadata": {},
     "output_type": "execute_result"
    }
   ],
   "source": [
    "user = User.objects.get(pk=2)\n",
    "(UserGiftCoupon.objects.select_related('gift_coupon')\n",
    "                        .filter(Q(gift_coupon__sender=user)|Q(prior_user=user)).order_by('-created_time'))\n"
   ]
  },
  {
   "cell_type": "code",
   "execution_count": 5,
   "metadata": {},
   "outputs": [
    {
     "ename": "FieldError",
     "evalue": "Invalid field name(s) given in select_related: 'usergiftcoupon_set'. Choices are: sender",
     "output_type": "error",
     "traceback": [
      "\u001b[0;31m---------------------------------------------------------------------------\u001b[0m",
      "\u001b[0;31mFieldError\u001b[0m                                Traceback (most recent call last)",
      "\u001b[0;32m~/Desktop/rookiehero/project/venv/lib/python3.7/site-packages/IPython/core/formatters.py\u001b[0m in \u001b[0;36m__call__\u001b[0;34m(self, obj)\u001b[0m\n\u001b[1;32m    700\u001b[0m                 \u001b[0mtype_pprinters\u001b[0m\u001b[0;34m=\u001b[0m\u001b[0mself\u001b[0m\u001b[0;34m.\u001b[0m\u001b[0mtype_printers\u001b[0m\u001b[0;34m,\u001b[0m\u001b[0;34m\u001b[0m\u001b[0;34m\u001b[0m\u001b[0m\n\u001b[1;32m    701\u001b[0m                 deferred_pprinters=self.deferred_printers)\n\u001b[0;32m--> 702\u001b[0;31m             \u001b[0mprinter\u001b[0m\u001b[0;34m.\u001b[0m\u001b[0mpretty\u001b[0m\u001b[0;34m(\u001b[0m\u001b[0mobj\u001b[0m\u001b[0;34m)\u001b[0m\u001b[0;34m\u001b[0m\u001b[0;34m\u001b[0m\u001b[0m\n\u001b[0m\u001b[1;32m    703\u001b[0m             \u001b[0mprinter\u001b[0m\u001b[0;34m.\u001b[0m\u001b[0mflush\u001b[0m\u001b[0;34m(\u001b[0m\u001b[0;34m)\u001b[0m\u001b[0;34m\u001b[0m\u001b[0;34m\u001b[0m\u001b[0m\n\u001b[1;32m    704\u001b[0m             \u001b[0;32mreturn\u001b[0m \u001b[0mstream\u001b[0m\u001b[0;34m.\u001b[0m\u001b[0mgetvalue\u001b[0m\u001b[0;34m(\u001b[0m\u001b[0;34m)\u001b[0m\u001b[0;34m\u001b[0m\u001b[0;34m\u001b[0m\u001b[0m\n",
      "\u001b[0;32m~/Desktop/rookiehero/project/venv/lib/python3.7/site-packages/IPython/lib/pretty.py\u001b[0m in \u001b[0;36mpretty\u001b[0;34m(self, obj)\u001b[0m\n\u001b[1;32m    400\u001b[0m                         \u001b[0;32mif\u001b[0m \u001b[0mcls\u001b[0m \u001b[0;32mis\u001b[0m \u001b[0;32mnot\u001b[0m \u001b[0mobject\u001b[0m\u001b[0;31m \u001b[0m\u001b[0;31m\\\u001b[0m\u001b[0;34m\u001b[0m\u001b[0;34m\u001b[0m\u001b[0m\n\u001b[1;32m    401\u001b[0m                                 \u001b[0;32mand\u001b[0m \u001b[0mcallable\u001b[0m\u001b[0;34m(\u001b[0m\u001b[0mcls\u001b[0m\u001b[0;34m.\u001b[0m\u001b[0m__dict__\u001b[0m\u001b[0;34m.\u001b[0m\u001b[0mget\u001b[0m\u001b[0;34m(\u001b[0m\u001b[0;34m'__repr__'\u001b[0m\u001b[0;34m)\u001b[0m\u001b[0;34m)\u001b[0m\u001b[0;34m:\u001b[0m\u001b[0;34m\u001b[0m\u001b[0;34m\u001b[0m\u001b[0m\n\u001b[0;32m--> 402\u001b[0;31m                             \u001b[0;32mreturn\u001b[0m \u001b[0m_repr_pprint\u001b[0m\u001b[0;34m(\u001b[0m\u001b[0mobj\u001b[0m\u001b[0;34m,\u001b[0m \u001b[0mself\u001b[0m\u001b[0;34m,\u001b[0m \u001b[0mcycle\u001b[0m\u001b[0;34m)\u001b[0m\u001b[0;34m\u001b[0m\u001b[0;34m\u001b[0m\u001b[0m\n\u001b[0m\u001b[1;32m    403\u001b[0m \u001b[0;34m\u001b[0m\u001b[0m\n\u001b[1;32m    404\u001b[0m             \u001b[0;32mreturn\u001b[0m \u001b[0m_default_pprint\u001b[0m\u001b[0;34m(\u001b[0m\u001b[0mobj\u001b[0m\u001b[0;34m,\u001b[0m \u001b[0mself\u001b[0m\u001b[0;34m,\u001b[0m \u001b[0mcycle\u001b[0m\u001b[0;34m)\u001b[0m\u001b[0;34m\u001b[0m\u001b[0;34m\u001b[0m\u001b[0m\n",
      "\u001b[0;32m~/Desktop/rookiehero/project/venv/lib/python3.7/site-packages/IPython/lib/pretty.py\u001b[0m in \u001b[0;36m_repr_pprint\u001b[0;34m(obj, p, cycle)\u001b[0m\n\u001b[1;32m    695\u001b[0m     \u001b[0;34m\"\"\"A pprint that just redirects to the normal repr function.\"\"\"\u001b[0m\u001b[0;34m\u001b[0m\u001b[0;34m\u001b[0m\u001b[0m\n\u001b[1;32m    696\u001b[0m     \u001b[0;31m# Find newlines and replace them with p.break_()\u001b[0m\u001b[0;34m\u001b[0m\u001b[0;34m\u001b[0m\u001b[0;34m\u001b[0m\u001b[0m\n\u001b[0;32m--> 697\u001b[0;31m     \u001b[0moutput\u001b[0m \u001b[0;34m=\u001b[0m \u001b[0mrepr\u001b[0m\u001b[0;34m(\u001b[0m\u001b[0mobj\u001b[0m\u001b[0;34m)\u001b[0m\u001b[0;34m\u001b[0m\u001b[0;34m\u001b[0m\u001b[0m\n\u001b[0m\u001b[1;32m    698\u001b[0m     \u001b[0;32mfor\u001b[0m \u001b[0midx\u001b[0m\u001b[0;34m,\u001b[0m\u001b[0moutput_line\u001b[0m \u001b[0;32min\u001b[0m \u001b[0menumerate\u001b[0m\u001b[0;34m(\u001b[0m\u001b[0moutput\u001b[0m\u001b[0;34m.\u001b[0m\u001b[0msplitlines\u001b[0m\u001b[0;34m(\u001b[0m\u001b[0;34m)\u001b[0m\u001b[0;34m)\u001b[0m\u001b[0;34m:\u001b[0m\u001b[0;34m\u001b[0m\u001b[0;34m\u001b[0m\u001b[0m\n\u001b[1;32m    699\u001b[0m         \u001b[0;32mif\u001b[0m \u001b[0midx\u001b[0m\u001b[0;34m:\u001b[0m\u001b[0;34m\u001b[0m\u001b[0;34m\u001b[0m\u001b[0m\n",
      "\u001b[0;32m~/Desktop/rookiehero/project/venv/lib/python3.7/site-packages/django/db/models/query.py\u001b[0m in \u001b[0;36m__repr__\u001b[0;34m(self)\u001b[0m\n\u001b[1;32m    242\u001b[0m \u001b[0;34m\u001b[0m\u001b[0m\n\u001b[1;32m    243\u001b[0m     \u001b[0;32mdef\u001b[0m \u001b[0m__repr__\u001b[0m\u001b[0;34m(\u001b[0m\u001b[0mself\u001b[0m\u001b[0;34m)\u001b[0m\u001b[0;34m:\u001b[0m\u001b[0;34m\u001b[0m\u001b[0;34m\u001b[0m\u001b[0m\n\u001b[0;32m--> 244\u001b[0;31m         \u001b[0mdata\u001b[0m \u001b[0;34m=\u001b[0m \u001b[0mlist\u001b[0m\u001b[0;34m(\u001b[0m\u001b[0mself\u001b[0m\u001b[0;34m[\u001b[0m\u001b[0;34m:\u001b[0m\u001b[0mREPR_OUTPUT_SIZE\u001b[0m \u001b[0;34m+\u001b[0m \u001b[0;36m1\u001b[0m\u001b[0;34m]\u001b[0m\u001b[0;34m)\u001b[0m\u001b[0;34m\u001b[0m\u001b[0;34m\u001b[0m\u001b[0m\n\u001b[0m\u001b[1;32m    245\u001b[0m         \u001b[0;32mif\u001b[0m \u001b[0mlen\u001b[0m\u001b[0;34m(\u001b[0m\u001b[0mdata\u001b[0m\u001b[0;34m)\u001b[0m \u001b[0;34m>\u001b[0m \u001b[0mREPR_OUTPUT_SIZE\u001b[0m\u001b[0;34m:\u001b[0m\u001b[0;34m\u001b[0m\u001b[0;34m\u001b[0m\u001b[0m\n\u001b[1;32m    246\u001b[0m             \u001b[0mdata\u001b[0m\u001b[0;34m[\u001b[0m\u001b[0;34m-\u001b[0m\u001b[0;36m1\u001b[0m\u001b[0;34m]\u001b[0m \u001b[0;34m=\u001b[0m \u001b[0;34m\"...(remaining elements truncated)...\"\u001b[0m\u001b[0;34m\u001b[0m\u001b[0;34m\u001b[0m\u001b[0m\n",
      "\u001b[0;32m~/Desktop/rookiehero/project/venv/lib/python3.7/site-packages/django/db/models/query.py\u001b[0m in \u001b[0;36m__iter__\u001b[0;34m(self)\u001b[0m\n\u001b[1;32m    266\u001b[0m                \u001b[0;34m-\u001b[0m \u001b[0mResponsible\u001b[0m \u001b[0;32mfor\u001b[0m \u001b[0mturning\u001b[0m \u001b[0mthe\u001b[0m \u001b[0mrows\u001b[0m \u001b[0minto\u001b[0m \u001b[0mmodel\u001b[0m \u001b[0mobjects\u001b[0m\u001b[0;34m.\u001b[0m\u001b[0;34m\u001b[0m\u001b[0;34m\u001b[0m\u001b[0m\n\u001b[1;32m    267\u001b[0m         \"\"\"\n\u001b[0;32m--> 268\u001b[0;31m         \u001b[0mself\u001b[0m\u001b[0;34m.\u001b[0m\u001b[0m_fetch_all\u001b[0m\u001b[0;34m(\u001b[0m\u001b[0;34m)\u001b[0m\u001b[0;34m\u001b[0m\u001b[0;34m\u001b[0m\u001b[0m\n\u001b[0m\u001b[1;32m    269\u001b[0m         \u001b[0;32mreturn\u001b[0m \u001b[0miter\u001b[0m\u001b[0;34m(\u001b[0m\u001b[0mself\u001b[0m\u001b[0;34m.\u001b[0m\u001b[0m_result_cache\u001b[0m\u001b[0;34m)\u001b[0m\u001b[0;34m\u001b[0m\u001b[0;34m\u001b[0m\u001b[0m\n\u001b[1;32m    270\u001b[0m \u001b[0;34m\u001b[0m\u001b[0m\n",
      "\u001b[0;32m~/Desktop/rookiehero/project/venv/lib/python3.7/site-packages/django/db/models/query.py\u001b[0m in \u001b[0;36m_fetch_all\u001b[0;34m(self)\u001b[0m\n\u001b[1;32m   1181\u001b[0m     \u001b[0;32mdef\u001b[0m \u001b[0m_fetch_all\u001b[0m\u001b[0;34m(\u001b[0m\u001b[0mself\u001b[0m\u001b[0;34m)\u001b[0m\u001b[0;34m:\u001b[0m\u001b[0;34m\u001b[0m\u001b[0;34m\u001b[0m\u001b[0m\n\u001b[1;32m   1182\u001b[0m         \u001b[0;32mif\u001b[0m \u001b[0mself\u001b[0m\u001b[0;34m.\u001b[0m\u001b[0m_result_cache\u001b[0m \u001b[0;32mis\u001b[0m \u001b[0;32mNone\u001b[0m\u001b[0;34m:\u001b[0m\u001b[0;34m\u001b[0m\u001b[0;34m\u001b[0m\u001b[0m\n\u001b[0;32m-> 1183\u001b[0;31m             \u001b[0mself\u001b[0m\u001b[0;34m.\u001b[0m\u001b[0m_result_cache\u001b[0m \u001b[0;34m=\u001b[0m \u001b[0mlist\u001b[0m\u001b[0;34m(\u001b[0m\u001b[0mself\u001b[0m\u001b[0;34m.\u001b[0m\u001b[0m_iterable_class\u001b[0m\u001b[0;34m(\u001b[0m\u001b[0mself\u001b[0m\u001b[0;34m)\u001b[0m\u001b[0;34m)\u001b[0m\u001b[0;34m\u001b[0m\u001b[0;34m\u001b[0m\u001b[0m\n\u001b[0m\u001b[1;32m   1184\u001b[0m         \u001b[0;32mif\u001b[0m \u001b[0mself\u001b[0m\u001b[0;34m.\u001b[0m\u001b[0m_prefetch_related_lookups\u001b[0m \u001b[0;32mand\u001b[0m \u001b[0;32mnot\u001b[0m \u001b[0mself\u001b[0m\u001b[0;34m.\u001b[0m\u001b[0m_prefetch_done\u001b[0m\u001b[0;34m:\u001b[0m\u001b[0;34m\u001b[0m\u001b[0;34m\u001b[0m\u001b[0m\n\u001b[1;32m   1185\u001b[0m             \u001b[0mself\u001b[0m\u001b[0;34m.\u001b[0m\u001b[0m_prefetch_related_objects\u001b[0m\u001b[0;34m(\u001b[0m\u001b[0;34m)\u001b[0m\u001b[0;34m\u001b[0m\u001b[0;34m\u001b[0m\u001b[0m\n",
      "\u001b[0;32m~/Desktop/rookiehero/project/venv/lib/python3.7/site-packages/django/db/models/query.py\u001b[0m in \u001b[0;36m__iter__\u001b[0;34m(self)\u001b[0m\n\u001b[1;32m     52\u001b[0m         \u001b[0;31m# Execute the query. This will also fill compiler.select, klass_info,\u001b[0m\u001b[0;34m\u001b[0m\u001b[0;34m\u001b[0m\u001b[0;34m\u001b[0m\u001b[0m\n\u001b[1;32m     53\u001b[0m         \u001b[0;31m# and annotations.\u001b[0m\u001b[0;34m\u001b[0m\u001b[0;34m\u001b[0m\u001b[0;34m\u001b[0m\u001b[0m\n\u001b[0;32m---> 54\u001b[0;31m         \u001b[0mresults\u001b[0m \u001b[0;34m=\u001b[0m \u001b[0mcompiler\u001b[0m\u001b[0;34m.\u001b[0m\u001b[0mexecute_sql\u001b[0m\u001b[0;34m(\u001b[0m\u001b[0mchunked_fetch\u001b[0m\u001b[0;34m=\u001b[0m\u001b[0mself\u001b[0m\u001b[0;34m.\u001b[0m\u001b[0mchunked_fetch\u001b[0m\u001b[0;34m,\u001b[0m \u001b[0mchunk_size\u001b[0m\u001b[0;34m=\u001b[0m\u001b[0mself\u001b[0m\u001b[0;34m.\u001b[0m\u001b[0mchunk_size\u001b[0m\u001b[0;34m)\u001b[0m\u001b[0;34m\u001b[0m\u001b[0;34m\u001b[0m\u001b[0m\n\u001b[0m\u001b[1;32m     55\u001b[0m         select, klass_info, annotation_col_map = (compiler.select, compiler.klass_info,\n\u001b[1;32m     56\u001b[0m                                                   compiler.annotation_col_map)\n",
      "\u001b[0;32m~/Desktop/rookiehero/project/venv/lib/python3.7/site-packages/django/db/models/sql/compiler.py\u001b[0m in \u001b[0;36mexecute_sql\u001b[0;34m(self, result_type, chunked_fetch, chunk_size)\u001b[0m\n\u001b[1;32m   1046\u001b[0m         \u001b[0mresult_type\u001b[0m \u001b[0;34m=\u001b[0m \u001b[0mresult_type\u001b[0m \u001b[0;32mor\u001b[0m \u001b[0mNO_RESULTS\u001b[0m\u001b[0;34m\u001b[0m\u001b[0;34m\u001b[0m\u001b[0m\n\u001b[1;32m   1047\u001b[0m         \u001b[0;32mtry\u001b[0m\u001b[0;34m:\u001b[0m\u001b[0;34m\u001b[0m\u001b[0;34m\u001b[0m\u001b[0m\n\u001b[0;32m-> 1048\u001b[0;31m             \u001b[0msql\u001b[0m\u001b[0;34m,\u001b[0m \u001b[0mparams\u001b[0m \u001b[0;34m=\u001b[0m \u001b[0mself\u001b[0m\u001b[0;34m.\u001b[0m\u001b[0mas_sql\u001b[0m\u001b[0;34m(\u001b[0m\u001b[0;34m)\u001b[0m\u001b[0;34m\u001b[0m\u001b[0;34m\u001b[0m\u001b[0m\n\u001b[0m\u001b[1;32m   1049\u001b[0m             \u001b[0;32mif\u001b[0m \u001b[0;32mnot\u001b[0m \u001b[0msql\u001b[0m\u001b[0;34m:\u001b[0m\u001b[0;34m\u001b[0m\u001b[0;34m\u001b[0m\u001b[0m\n\u001b[1;32m   1050\u001b[0m                 \u001b[0;32mraise\u001b[0m \u001b[0mEmptyResultSet\u001b[0m\u001b[0;34m\u001b[0m\u001b[0;34m\u001b[0m\u001b[0m\n",
      "\u001b[0;32m~/Desktop/rookiehero/project/venv/lib/python3.7/site-packages/django/db/models/sql/compiler.py\u001b[0m in \u001b[0;36mas_sql\u001b[0;34m(self, with_limits, with_col_aliases)\u001b[0m\n\u001b[1;32m    443\u001b[0m         \u001b[0mrefcounts_before\u001b[0m \u001b[0;34m=\u001b[0m \u001b[0mself\u001b[0m\u001b[0;34m.\u001b[0m\u001b[0mquery\u001b[0m\u001b[0;34m.\u001b[0m\u001b[0malias_refcount\u001b[0m\u001b[0;34m.\u001b[0m\u001b[0mcopy\u001b[0m\u001b[0;34m(\u001b[0m\u001b[0;34m)\u001b[0m\u001b[0;34m\u001b[0m\u001b[0;34m\u001b[0m\u001b[0m\n\u001b[1;32m    444\u001b[0m         \u001b[0;32mtry\u001b[0m\u001b[0;34m:\u001b[0m\u001b[0;34m\u001b[0m\u001b[0;34m\u001b[0m\u001b[0m\n\u001b[0;32m--> 445\u001b[0;31m             \u001b[0mextra_select\u001b[0m\u001b[0;34m,\u001b[0m \u001b[0morder_by\u001b[0m\u001b[0;34m,\u001b[0m \u001b[0mgroup_by\u001b[0m \u001b[0;34m=\u001b[0m \u001b[0mself\u001b[0m\u001b[0;34m.\u001b[0m\u001b[0mpre_sql_setup\u001b[0m\u001b[0;34m(\u001b[0m\u001b[0;34m)\u001b[0m\u001b[0;34m\u001b[0m\u001b[0;34m\u001b[0m\u001b[0m\n\u001b[0m\u001b[1;32m    446\u001b[0m             \u001b[0mfor_update_part\u001b[0m \u001b[0;34m=\u001b[0m \u001b[0;32mNone\u001b[0m\u001b[0;34m\u001b[0m\u001b[0;34m\u001b[0m\u001b[0m\n\u001b[1;32m    447\u001b[0m             \u001b[0;31m# Is a LIMIT/OFFSET clause needed?\u001b[0m\u001b[0;34m\u001b[0m\u001b[0;34m\u001b[0m\u001b[0;34m\u001b[0m\u001b[0m\n",
      "\u001b[0;32m~/Desktop/rookiehero/project/venv/lib/python3.7/site-packages/django/db/models/sql/compiler.py\u001b[0m in \u001b[0;36mpre_sql_setup\u001b[0;34m(self)\u001b[0m\n\u001b[1;32m     48\u001b[0m         \u001b[0mmight\u001b[0m \u001b[0;32mnot\u001b[0m \u001b[0mhave\u001b[0m \u001b[0mall\u001b[0m \u001b[0mthe\u001b[0m \u001b[0mpieces\u001b[0m \u001b[0;32min\u001b[0m \u001b[0mplace\u001b[0m \u001b[0mat\u001b[0m \u001b[0mthat\u001b[0m \u001b[0mtime\u001b[0m\u001b[0;34m.\u001b[0m\u001b[0;34m\u001b[0m\u001b[0;34m\u001b[0m\u001b[0m\n\u001b[1;32m     49\u001b[0m         \"\"\"\n\u001b[0;32m---> 50\u001b[0;31m         \u001b[0mself\u001b[0m\u001b[0;34m.\u001b[0m\u001b[0msetup_query\u001b[0m\u001b[0;34m(\u001b[0m\u001b[0;34m)\u001b[0m\u001b[0;34m\u001b[0m\u001b[0;34m\u001b[0m\u001b[0m\n\u001b[0m\u001b[1;32m     51\u001b[0m         \u001b[0morder_by\u001b[0m \u001b[0;34m=\u001b[0m \u001b[0mself\u001b[0m\u001b[0;34m.\u001b[0m\u001b[0mget_order_by\u001b[0m\u001b[0;34m(\u001b[0m\u001b[0;34m)\u001b[0m\u001b[0;34m\u001b[0m\u001b[0;34m\u001b[0m\u001b[0m\n\u001b[1;32m     52\u001b[0m         \u001b[0mself\u001b[0m\u001b[0;34m.\u001b[0m\u001b[0mwhere\u001b[0m\u001b[0;34m,\u001b[0m \u001b[0mself\u001b[0m\u001b[0;34m.\u001b[0m\u001b[0mhaving\u001b[0m \u001b[0;34m=\u001b[0m \u001b[0mself\u001b[0m\u001b[0;34m.\u001b[0m\u001b[0mquery\u001b[0m\u001b[0;34m.\u001b[0m\u001b[0mwhere\u001b[0m\u001b[0;34m.\u001b[0m\u001b[0msplit_having\u001b[0m\u001b[0;34m(\u001b[0m\u001b[0;34m)\u001b[0m\u001b[0;34m\u001b[0m\u001b[0;34m\u001b[0m\u001b[0m\n",
      "\u001b[0;32m~/Desktop/rookiehero/project/venv/lib/python3.7/site-packages/django/db/models/sql/compiler.py\u001b[0m in \u001b[0;36msetup_query\u001b[0;34m(self)\u001b[0m\n\u001b[1;32m     39\u001b[0m         \u001b[0;32mif\u001b[0m \u001b[0mall\u001b[0m\u001b[0;34m(\u001b[0m\u001b[0mself\u001b[0m\u001b[0;34m.\u001b[0m\u001b[0mquery\u001b[0m\u001b[0;34m.\u001b[0m\u001b[0malias_refcount\u001b[0m\u001b[0;34m[\u001b[0m\u001b[0ma\u001b[0m\u001b[0;34m]\u001b[0m \u001b[0;34m==\u001b[0m \u001b[0;36m0\u001b[0m \u001b[0;32mfor\u001b[0m \u001b[0ma\u001b[0m \u001b[0;32min\u001b[0m \u001b[0mself\u001b[0m\u001b[0;34m.\u001b[0m\u001b[0mquery\u001b[0m\u001b[0;34m.\u001b[0m\u001b[0malias_map\u001b[0m\u001b[0;34m)\u001b[0m\u001b[0;34m:\u001b[0m\u001b[0;34m\u001b[0m\u001b[0;34m\u001b[0m\u001b[0m\n\u001b[1;32m     40\u001b[0m             \u001b[0mself\u001b[0m\u001b[0;34m.\u001b[0m\u001b[0mquery\u001b[0m\u001b[0;34m.\u001b[0m\u001b[0mget_initial_alias\u001b[0m\u001b[0;34m(\u001b[0m\u001b[0;34m)\u001b[0m\u001b[0;34m\u001b[0m\u001b[0;34m\u001b[0m\u001b[0m\n\u001b[0;32m---> 41\u001b[0;31m         \u001b[0mself\u001b[0m\u001b[0;34m.\u001b[0m\u001b[0mselect\u001b[0m\u001b[0;34m,\u001b[0m \u001b[0mself\u001b[0m\u001b[0;34m.\u001b[0m\u001b[0mklass_info\u001b[0m\u001b[0;34m,\u001b[0m \u001b[0mself\u001b[0m\u001b[0;34m.\u001b[0m\u001b[0mannotation_col_map\u001b[0m \u001b[0;34m=\u001b[0m \u001b[0mself\u001b[0m\u001b[0;34m.\u001b[0m\u001b[0mget_select\u001b[0m\u001b[0;34m(\u001b[0m\u001b[0;34m)\u001b[0m\u001b[0;34m\u001b[0m\u001b[0;34m\u001b[0m\u001b[0m\n\u001b[0m\u001b[1;32m     42\u001b[0m         \u001b[0mself\u001b[0m\u001b[0;34m.\u001b[0m\u001b[0mcol_count\u001b[0m \u001b[0;34m=\u001b[0m \u001b[0mlen\u001b[0m\u001b[0;34m(\u001b[0m\u001b[0mself\u001b[0m\u001b[0;34m.\u001b[0m\u001b[0mselect\u001b[0m\u001b[0;34m)\u001b[0m\u001b[0;34m\u001b[0m\u001b[0;34m\u001b[0m\u001b[0m\n\u001b[1;32m     43\u001b[0m \u001b[0;34m\u001b[0m\u001b[0m\n",
      "\u001b[0;32m~/Desktop/rookiehero/project/venv/lib/python3.7/site-packages/django/db/models/sql/compiler.py\u001b[0m in \u001b[0;36mget_select\u001b[0;34m(self)\u001b[0m\n\u001b[1;32m    228\u001b[0m \u001b[0;34m\u001b[0m\u001b[0m\n\u001b[1;32m    229\u001b[0m         \u001b[0;32mif\u001b[0m \u001b[0mself\u001b[0m\u001b[0;34m.\u001b[0m\u001b[0mquery\u001b[0m\u001b[0;34m.\u001b[0m\u001b[0mselect_related\u001b[0m\u001b[0;34m:\u001b[0m\u001b[0;34m\u001b[0m\u001b[0;34m\u001b[0m\u001b[0m\n\u001b[0;32m--> 230\u001b[0;31m             \u001b[0mrelated_klass_infos\u001b[0m \u001b[0;34m=\u001b[0m \u001b[0mself\u001b[0m\u001b[0;34m.\u001b[0m\u001b[0mget_related_selections\u001b[0m\u001b[0;34m(\u001b[0m\u001b[0mselect\u001b[0m\u001b[0;34m)\u001b[0m\u001b[0;34m\u001b[0m\u001b[0;34m\u001b[0m\u001b[0m\n\u001b[0m\u001b[1;32m    231\u001b[0m             \u001b[0mklass_info\u001b[0m\u001b[0;34m[\u001b[0m\u001b[0;34m'related_klass_infos'\u001b[0m\u001b[0;34m]\u001b[0m \u001b[0;34m=\u001b[0m \u001b[0mrelated_klass_infos\u001b[0m\u001b[0;34m\u001b[0m\u001b[0;34m\u001b[0m\u001b[0m\n\u001b[1;32m    232\u001b[0m \u001b[0;34m\u001b[0m\u001b[0m\n",
      "\u001b[0;32m~/Desktop/rookiehero/project/venv/lib/python3.7/site-packages/django/db/models/sql/compiler.py\u001b[0m in \u001b[0;36mget_related_selections\u001b[0;34m(self, select, opts, root_alias, cur_depth, requested, restricted)\u001b[0m\n\u001b[1;32m    899\u001b[0m                     'Choices are: %s' % (\n\u001b[1;32m    900\u001b[0m                         \u001b[0;34m', '\u001b[0m\u001b[0;34m.\u001b[0m\u001b[0mjoin\u001b[0m\u001b[0;34m(\u001b[0m\u001b[0minvalid_fields\u001b[0m\u001b[0;34m)\u001b[0m\u001b[0;34m,\u001b[0m\u001b[0;34m\u001b[0m\u001b[0;34m\u001b[0m\u001b[0m\n\u001b[0;32m--> 901\u001b[0;31m                         \u001b[0;34m', '\u001b[0m\u001b[0;34m.\u001b[0m\u001b[0mjoin\u001b[0m\u001b[0;34m(\u001b[0m\u001b[0m_get_field_choices\u001b[0m\u001b[0;34m(\u001b[0m\u001b[0;34m)\u001b[0m\u001b[0;34m)\u001b[0m \u001b[0;32mor\u001b[0m \u001b[0;34m'(none)'\u001b[0m\u001b[0;34m,\u001b[0m\u001b[0;34m\u001b[0m\u001b[0;34m\u001b[0m\u001b[0m\n\u001b[0m\u001b[1;32m    902\u001b[0m                     )\n\u001b[1;32m    903\u001b[0m                 )\n",
      "\u001b[0;31mFieldError\u001b[0m: Invalid field name(s) given in select_related: 'usergiftcoupon_set'. Choices are: sender"
     ]
    }
   ],
   "source": [
    "GiftCoupon.objects.all().select_related('usergiftcoupon_set')"
   ]
  },
  {
   "cell_type": "code",
   "execution_count": 6,
   "metadata": {},
   "outputs": [
    {
     "name": "stderr",
     "output_type": "stream",
     "text": [
      "(0.001) SELECT \"coupon_usergiftcoupon\".\"id\", \"coupon_usergiftcoupon\".\"created_time\", \"coupon_usergiftcoupon\".\"updated_time\", \"coupon_usergiftcoupon\".\"gift_coupon_id\", \"coupon_usergiftcoupon\".\"user_id\", \"coupon_usergiftcoupon\".\"prior_user_id\", \"coupon_usergiftcoupon\".\"is_owner\", \"coupon_usergiftcoupon\".\"is_registrant\", \"coupon_giftcoupon\".\"id\", \"coupon_giftcoupon\".\"created_time\", \"coupon_giftcoupon\".\"updated_time\", \"coupon_giftcoupon\".\"sender_id\", \"coupon_giftcoupon\".\"sender_msg\", \"coupon_giftcoupon\".\"receiver_name\", \"coupon_giftcoupon\".\"receiver_phone\", \"coupon_giftcoupon\".\"receiver_email\", \"coupon_giftcoupon\".\"expire_date\", \"coupon_giftcoupon\".\"coupon_code\", \"coupon_giftcoupon\".\"price\", \"coupon_giftcoupon\".\"is_used\", \"coupon_giftcoupon\".\"used_date\" FROM \"coupon_usergiftcoupon\" INNER JOIN \"coupon_giftcoupon\" ON (\"coupon_usergiftcoupon\".\"gift_coupon_id\" = \"coupon_giftcoupon\".\"id\")  LIMIT 21; args=()\n"
     ]
    },
    {
     "data": {
      "text/plain": [
       "<QuerySet [<UserGiftCoupon: 171d14fb-b479-4f11-867c-fa427c4b278d>, <UserGiftCoupon: 693c3140-03b3-48ab-8254-41b0586fbe00>, <UserGiftCoupon: 86b12ab6-8634-49c5-8fa3-da06ecd0f543>]>"
      ]
     },
     "execution_count": 6,
     "metadata": {},
     "output_type": "execute_result"
    }
   ],
   "source": [
    "UserGiftCoupon.objects.select_related('gift_coupon')"
   ]
  },
  {
   "cell_type": "code",
   "execution_count": 8,
   "metadata": {},
   "outputs": [
    {
     "name": "stderr",
     "output_type": "stream",
     "text": [
      "(0.001) SELECT \"coupon_giftcoupon\".\"id\", \"coupon_giftcoupon\".\"created_time\", \"coupon_giftcoupon\".\"updated_time\", \"coupon_giftcoupon\".\"sender_id\", \"coupon_giftcoupon\".\"sender_msg\", \"coupon_giftcoupon\".\"receiver_name\", \"coupon_giftcoupon\".\"receiver_phone\", \"coupon_giftcoupon\".\"receiver_email\", \"coupon_giftcoupon\".\"expire_date\", \"coupon_giftcoupon\".\"coupon_code\", \"coupon_giftcoupon\".\"price\", \"coupon_giftcoupon\".\"is_used\", \"coupon_giftcoupon\".\"used_date\" FROM \"coupon_giftcoupon\"  LIMIT 21; args=()\n",
      "(0.001) SELECT \"coupon_usergiftcoupon\".\"id\", \"coupon_usergiftcoupon\".\"created_time\", \"coupon_usergiftcoupon\".\"updated_time\", \"coupon_usergiftcoupon\".\"gift_coupon_id\", \"coupon_usergiftcoupon\".\"user_id\", \"coupon_usergiftcoupon\".\"prior_user_id\", \"coupon_usergiftcoupon\".\"is_owner\", \"coupon_usergiftcoupon\".\"is_registrant\" FROM \"coupon_usergiftcoupon\" WHERE \"coupon_usergiftcoupon\".\"gift_coupon_id\" IN (8, 9, 7, 10, 11); args=(8, 9, 7, 10, 11)\n"
     ]
    },
    {
     "data": {
      "text/plain": [
       "<QuerySet [<GiftCoupon: 171d14fb-b479-4f11-867c-fa427c4b278d>, <GiftCoupon: acef1335-ce1c-4c43-80b5-288488abe2c8>, <GiftCoupon: 693c3140-03b3-48ab-8254-41b0586fbe00>, <GiftCoupon: 13698f6e-ed2b-46e2-b710-95c232978882>, <GiftCoupon: 86b12ab6-8634-49c5-8fa3-da06ecd0f543>]>"
      ]
     },
     "execution_count": 8,
     "metadata": {},
     "output_type": "execute_result"
    }
   ],
   "source": [
    "GiftCoupon.objects.all().prefetch_related('usergiftcoupon_set')"
   ]
  },
  {
   "cell_type": "code",
   "execution_count": 9,
   "metadata": {},
   "outputs": [
    {
     "ename": "SyntaxError",
     "evalue": "invalid syntax (<ipython-input-9-f70f837f0338>, line 1)",
     "output_type": "error",
     "traceback": [
      "\u001b[0;36m  File \u001b[0;32m\"<ipython-input-9-f70f837f0338>\"\u001b[0;36m, line \u001b[0;32m1\u001b[0m\n\u001b[0;31m    (0.001) SELECT \"coupon_giftcoupon\".\"id\", \"coupon_giftcoupon\".\"created_time\", \"coupon_giftcoupon\".\"updated_time\", \"coupon_giftcoupon\".\"sender_id\", \"coupon_giftcoupon\".\"sender_msg\", \"coupon_giftcoupon\".\"receiver_name\", \"coupon_giftcoupon\".\"receiver_phone\", \"coupon_giftcoupon\".\"receiver_email\", \"coupon_giftcoupon\".\"expire_date\", \"coupon_giftcoupon\".\"coupon_code\", \"coupon_giftcoupon\".\"price\", \"coupon_giftcoupon\".\"is_used\", \"coupon_giftcoupon\".\"used_date\" FROM \"coupon_giftcoupon\"  LIMIT 21; args=()\u001b[0m\n\u001b[0m                 ^\u001b[0m\n\u001b[0;31mSyntaxError\u001b[0m\u001b[0;31m:\u001b[0m invalid syntax\n"
     ]
    }
   ],
   "source": [
    "(0.001) SELECT \"coupon_giftcoupon\".\"id\", \"coupon_giftcoupon\".\"created_time\", \"coupon_giftcoupon\".\"updated_time\", \"coupon_giftcoupon\".\"sender_id\", \"coupon_giftcoupon\".\"sender_msg\", \"coupon_giftcoupon\".\"receiver_name\", \"coupon_giftcoupon\".\"receiver_phone\", \"coupon_giftcoupon\".\"receiver_email\", \"coupon_giftcoupon\".\"expire_date\", \"coupon_giftcoupon\".\"coupon_code\", \"coupon_giftcoupon\".\"price\", \"coupon_giftcoupon\".\"is_used\", \"coupon_giftcoupon\".\"used_date\" FROM \"coupon_giftcoupon\"  LIMIT 21; args=()\n",
    "(0.001) SELECT \"coupon_usergiftcoupon\".\"id\", \"coupon_usergiftcoupon\".\"created_time\", \"coupon_usergiftcoupon\".\"updated_time\", \"coupon_usergiftcoupon\".\"gift_coupon_id\", \"coupon_usergiftcoupon\".\"user_id\", \"coupon_usergiftcoupon\".\"prior_user_id\", \"coupon_usergiftcoupon\".\"is_owner\", \"coupon_usergiftcoupon\".\"is_registrant\" FROM \"coupon_usergiftcoupon\" WHERE \"coupon_usergiftcoupon\".\"gift_coupon_id\" IN (8, 9, 7, 10, 11); args=(8, 9, 7, 10, 11)"
   ]
  },
  {
   "cell_type": "code",
   "execution_count": 10,
   "metadata": {},
   "outputs": [
    {
     "name": "stderr",
     "output_type": "stream",
     "text": [
      "(0.000) SELECT \"coupon_giftcoupon\".\"id\", \"coupon_giftcoupon\".\"created_time\", \"coupon_giftcoupon\".\"updated_time\", \"coupon_giftcoupon\".\"sender_id\", \"coupon_giftcoupon\".\"sender_msg\", \"coupon_giftcoupon\".\"receiver_name\", \"coupon_giftcoupon\".\"receiver_phone\", \"coupon_giftcoupon\".\"receiver_email\", \"coupon_giftcoupon\".\"expire_date\", \"coupon_giftcoupon\".\"coupon_code\", \"coupon_giftcoupon\".\"price\", \"coupon_giftcoupon\".\"is_used\", \"coupon_giftcoupon\".\"used_date\" FROM \"coupon_giftcoupon\"  LIMIT 1; args=()\n",
      "(0.000) SELECT \"coupon_usergiftcoupon\".\"id\", \"coupon_usergiftcoupon\".\"created_time\", \"coupon_usergiftcoupon\".\"updated_time\", \"coupon_usergiftcoupon\".\"gift_coupon_id\", \"coupon_usergiftcoupon\".\"user_id\", \"coupon_usergiftcoupon\".\"prior_user_id\", \"coupon_usergiftcoupon\".\"is_owner\", \"coupon_usergiftcoupon\".\"is_registrant\" FROM \"coupon_usergiftcoupon\" WHERE \"coupon_usergiftcoupon\".\"gift_coupon_id\" = 8  LIMIT 21; args=(8,)\n"
     ]
    },
    {
     "data": {
      "text/plain": [
       "<QuerySet [<UserGiftCoupon: 171d14fb-b479-4f11-867c-fa427c4b278d>]>"
      ]
     },
     "execution_count": 10,
     "metadata": {},
     "output_type": "execute_result"
    }
   ],
   "source": [
    "GiftCoupon.objects.all()[0].usergiftcoupon_set.all()"
   ]
  },
  {
   "cell_type": "code",
   "execution_count": 13,
   "metadata": {},
   "outputs": [
    {
     "name": "stderr",
     "output_type": "stream",
     "text": [
      "(0.001) SELECT \"accounts_user\".\"id\", \"accounts_user\".\"password\", \"accounts_user\".\"last_login\", \"accounts_user\".\"is_superuser\", \"accounts_user\".\"username\", \"accounts_user\".\"first_name\", \"accounts_user\".\"last_name\", \"accounts_user\".\"email\", \"accounts_user\".\"is_staff\", \"accounts_user\".\"is_active\", \"accounts_user\".\"date_joined\", \"accounts_user\".\"phone\", \"accounts_user\".\"address\", \"accounts_user\".\"address_detail\", \"accounts_user\".\"user_type\", \"accounts_user\".\"deactivate_date\" FROM \"accounts_user\" WHERE \"accounts_user\".\"id\" = 2; args=(2,)\n",
      "(0.001) SELECT \"coupon_giftcoupon\".\"id\", \"coupon_giftcoupon\".\"created_time\", \"coupon_giftcoupon\".\"updated_time\", \"coupon_giftcoupon\".\"sender_id\", \"coupon_giftcoupon\".\"sender_msg\", \"coupon_giftcoupon\".\"receiver_name\", \"coupon_giftcoupon\".\"receiver_phone\", \"coupon_giftcoupon\".\"receiver_email\", \"coupon_giftcoupon\".\"expire_date\", \"coupon_giftcoupon\".\"coupon_code\", \"coupon_giftcoupon\".\"price\", \"coupon_giftcoupon\".\"is_used\", \"coupon_giftcoupon\".\"used_date\" FROM \"coupon_giftcoupon\" LEFT OUTER JOIN \"coupon_usergiftcoupon\" ON (\"coupon_giftcoupon\".\"id\" = \"coupon_usergiftcoupon\".\"gift_coupon_id\") WHERE (\"coupon_giftcoupon\".\"sender_id\" = 2 OR \"coupon_usergiftcoupon\".\"id\" = 2)  LIMIT 21; args=(2, 2)\n"
     ]
    },
    {
     "ename": "AttributeError",
     "evalue": "Cannot find 'usergiftcoupon' on GiftCoupon object, 'usergiftcoupon' is an invalid parameter to prefetch_related()",
     "output_type": "error",
     "traceback": [
      "\u001b[0;31m---------------------------------------------------------------------------\u001b[0m",
      "\u001b[0;31mAttributeError\u001b[0m                            Traceback (most recent call last)",
      "\u001b[0;32m~/Desktop/rookiehero/project/venv/lib/python3.7/site-packages/IPython/core/formatters.py\u001b[0m in \u001b[0;36m__call__\u001b[0;34m(self, obj)\u001b[0m\n\u001b[1;32m    700\u001b[0m                 \u001b[0mtype_pprinters\u001b[0m\u001b[0;34m=\u001b[0m\u001b[0mself\u001b[0m\u001b[0;34m.\u001b[0m\u001b[0mtype_printers\u001b[0m\u001b[0;34m,\u001b[0m\u001b[0;34m\u001b[0m\u001b[0;34m\u001b[0m\u001b[0m\n\u001b[1;32m    701\u001b[0m                 deferred_pprinters=self.deferred_printers)\n\u001b[0;32m--> 702\u001b[0;31m             \u001b[0mprinter\u001b[0m\u001b[0;34m.\u001b[0m\u001b[0mpretty\u001b[0m\u001b[0;34m(\u001b[0m\u001b[0mobj\u001b[0m\u001b[0;34m)\u001b[0m\u001b[0;34m\u001b[0m\u001b[0;34m\u001b[0m\u001b[0m\n\u001b[0m\u001b[1;32m    703\u001b[0m             \u001b[0mprinter\u001b[0m\u001b[0;34m.\u001b[0m\u001b[0mflush\u001b[0m\u001b[0;34m(\u001b[0m\u001b[0;34m)\u001b[0m\u001b[0;34m\u001b[0m\u001b[0;34m\u001b[0m\u001b[0m\n\u001b[1;32m    704\u001b[0m             \u001b[0;32mreturn\u001b[0m \u001b[0mstream\u001b[0m\u001b[0;34m.\u001b[0m\u001b[0mgetvalue\u001b[0m\u001b[0;34m(\u001b[0m\u001b[0;34m)\u001b[0m\u001b[0;34m\u001b[0m\u001b[0;34m\u001b[0m\u001b[0m\n",
      "\u001b[0;32m~/Desktop/rookiehero/project/venv/lib/python3.7/site-packages/IPython/lib/pretty.py\u001b[0m in \u001b[0;36mpretty\u001b[0;34m(self, obj)\u001b[0m\n\u001b[1;32m    400\u001b[0m                         \u001b[0;32mif\u001b[0m \u001b[0mcls\u001b[0m \u001b[0;32mis\u001b[0m \u001b[0;32mnot\u001b[0m \u001b[0mobject\u001b[0m\u001b[0;31m \u001b[0m\u001b[0;31m\\\u001b[0m\u001b[0;34m\u001b[0m\u001b[0;34m\u001b[0m\u001b[0m\n\u001b[1;32m    401\u001b[0m                                 \u001b[0;32mand\u001b[0m \u001b[0mcallable\u001b[0m\u001b[0;34m(\u001b[0m\u001b[0mcls\u001b[0m\u001b[0;34m.\u001b[0m\u001b[0m__dict__\u001b[0m\u001b[0;34m.\u001b[0m\u001b[0mget\u001b[0m\u001b[0;34m(\u001b[0m\u001b[0;34m'__repr__'\u001b[0m\u001b[0;34m)\u001b[0m\u001b[0;34m)\u001b[0m\u001b[0;34m:\u001b[0m\u001b[0;34m\u001b[0m\u001b[0;34m\u001b[0m\u001b[0m\n\u001b[0;32m--> 402\u001b[0;31m                             \u001b[0;32mreturn\u001b[0m \u001b[0m_repr_pprint\u001b[0m\u001b[0;34m(\u001b[0m\u001b[0mobj\u001b[0m\u001b[0;34m,\u001b[0m \u001b[0mself\u001b[0m\u001b[0;34m,\u001b[0m \u001b[0mcycle\u001b[0m\u001b[0;34m)\u001b[0m\u001b[0;34m\u001b[0m\u001b[0;34m\u001b[0m\u001b[0m\n\u001b[0m\u001b[1;32m    403\u001b[0m \u001b[0;34m\u001b[0m\u001b[0m\n\u001b[1;32m    404\u001b[0m             \u001b[0;32mreturn\u001b[0m \u001b[0m_default_pprint\u001b[0m\u001b[0;34m(\u001b[0m\u001b[0mobj\u001b[0m\u001b[0;34m,\u001b[0m \u001b[0mself\u001b[0m\u001b[0;34m,\u001b[0m \u001b[0mcycle\u001b[0m\u001b[0;34m)\u001b[0m\u001b[0;34m\u001b[0m\u001b[0;34m\u001b[0m\u001b[0m\n",
      "\u001b[0;32m~/Desktop/rookiehero/project/venv/lib/python3.7/site-packages/IPython/lib/pretty.py\u001b[0m in \u001b[0;36m_repr_pprint\u001b[0;34m(obj, p, cycle)\u001b[0m\n\u001b[1;32m    695\u001b[0m     \u001b[0;34m\"\"\"A pprint that just redirects to the normal repr function.\"\"\"\u001b[0m\u001b[0;34m\u001b[0m\u001b[0;34m\u001b[0m\u001b[0m\n\u001b[1;32m    696\u001b[0m     \u001b[0;31m# Find newlines and replace them with p.break_()\u001b[0m\u001b[0;34m\u001b[0m\u001b[0;34m\u001b[0m\u001b[0;34m\u001b[0m\u001b[0m\n\u001b[0;32m--> 697\u001b[0;31m     \u001b[0moutput\u001b[0m \u001b[0;34m=\u001b[0m \u001b[0mrepr\u001b[0m\u001b[0;34m(\u001b[0m\u001b[0mobj\u001b[0m\u001b[0;34m)\u001b[0m\u001b[0;34m\u001b[0m\u001b[0;34m\u001b[0m\u001b[0m\n\u001b[0m\u001b[1;32m    698\u001b[0m     \u001b[0;32mfor\u001b[0m \u001b[0midx\u001b[0m\u001b[0;34m,\u001b[0m\u001b[0moutput_line\u001b[0m \u001b[0;32min\u001b[0m \u001b[0menumerate\u001b[0m\u001b[0;34m(\u001b[0m\u001b[0moutput\u001b[0m\u001b[0;34m.\u001b[0m\u001b[0msplitlines\u001b[0m\u001b[0;34m(\u001b[0m\u001b[0;34m)\u001b[0m\u001b[0;34m)\u001b[0m\u001b[0;34m:\u001b[0m\u001b[0;34m\u001b[0m\u001b[0;34m\u001b[0m\u001b[0m\n\u001b[1;32m    699\u001b[0m         \u001b[0;32mif\u001b[0m \u001b[0midx\u001b[0m\u001b[0;34m:\u001b[0m\u001b[0;34m\u001b[0m\u001b[0;34m\u001b[0m\u001b[0m\n",
      "\u001b[0;32m~/Desktop/rookiehero/project/venv/lib/python3.7/site-packages/django/db/models/query.py\u001b[0m in \u001b[0;36m__repr__\u001b[0;34m(self)\u001b[0m\n\u001b[1;32m    242\u001b[0m \u001b[0;34m\u001b[0m\u001b[0m\n\u001b[1;32m    243\u001b[0m     \u001b[0;32mdef\u001b[0m \u001b[0m__repr__\u001b[0m\u001b[0;34m(\u001b[0m\u001b[0mself\u001b[0m\u001b[0;34m)\u001b[0m\u001b[0;34m:\u001b[0m\u001b[0;34m\u001b[0m\u001b[0;34m\u001b[0m\u001b[0m\n\u001b[0;32m--> 244\u001b[0;31m         \u001b[0mdata\u001b[0m \u001b[0;34m=\u001b[0m \u001b[0mlist\u001b[0m\u001b[0;34m(\u001b[0m\u001b[0mself\u001b[0m\u001b[0;34m[\u001b[0m\u001b[0;34m:\u001b[0m\u001b[0mREPR_OUTPUT_SIZE\u001b[0m \u001b[0;34m+\u001b[0m \u001b[0;36m1\u001b[0m\u001b[0;34m]\u001b[0m\u001b[0;34m)\u001b[0m\u001b[0;34m\u001b[0m\u001b[0;34m\u001b[0m\u001b[0m\n\u001b[0m\u001b[1;32m    245\u001b[0m         \u001b[0;32mif\u001b[0m \u001b[0mlen\u001b[0m\u001b[0;34m(\u001b[0m\u001b[0mdata\u001b[0m\u001b[0;34m)\u001b[0m \u001b[0;34m>\u001b[0m \u001b[0mREPR_OUTPUT_SIZE\u001b[0m\u001b[0;34m:\u001b[0m\u001b[0;34m\u001b[0m\u001b[0;34m\u001b[0m\u001b[0m\n\u001b[1;32m    246\u001b[0m             \u001b[0mdata\u001b[0m\u001b[0;34m[\u001b[0m\u001b[0;34m-\u001b[0m\u001b[0;36m1\u001b[0m\u001b[0;34m]\u001b[0m \u001b[0;34m=\u001b[0m \u001b[0;34m\"...(remaining elements truncated)...\"\u001b[0m\u001b[0;34m\u001b[0m\u001b[0;34m\u001b[0m\u001b[0m\n",
      "\u001b[0;32m~/Desktop/rookiehero/project/venv/lib/python3.7/site-packages/django/db/models/query.py\u001b[0m in \u001b[0;36m__iter__\u001b[0;34m(self)\u001b[0m\n\u001b[1;32m    266\u001b[0m                \u001b[0;34m-\u001b[0m \u001b[0mResponsible\u001b[0m \u001b[0;32mfor\u001b[0m \u001b[0mturning\u001b[0m \u001b[0mthe\u001b[0m \u001b[0mrows\u001b[0m \u001b[0minto\u001b[0m \u001b[0mmodel\u001b[0m \u001b[0mobjects\u001b[0m\u001b[0;34m.\u001b[0m\u001b[0;34m\u001b[0m\u001b[0;34m\u001b[0m\u001b[0m\n\u001b[1;32m    267\u001b[0m         \"\"\"\n\u001b[0;32m--> 268\u001b[0;31m         \u001b[0mself\u001b[0m\u001b[0;34m.\u001b[0m\u001b[0m_fetch_all\u001b[0m\u001b[0;34m(\u001b[0m\u001b[0;34m)\u001b[0m\u001b[0;34m\u001b[0m\u001b[0;34m\u001b[0m\u001b[0m\n\u001b[0m\u001b[1;32m    269\u001b[0m         \u001b[0;32mreturn\u001b[0m \u001b[0miter\u001b[0m\u001b[0;34m(\u001b[0m\u001b[0mself\u001b[0m\u001b[0;34m.\u001b[0m\u001b[0m_result_cache\u001b[0m\u001b[0;34m)\u001b[0m\u001b[0;34m\u001b[0m\u001b[0;34m\u001b[0m\u001b[0m\n\u001b[1;32m    270\u001b[0m \u001b[0;34m\u001b[0m\u001b[0m\n",
      "\u001b[0;32m~/Desktop/rookiehero/project/venv/lib/python3.7/site-packages/django/db/models/query.py\u001b[0m in \u001b[0;36m_fetch_all\u001b[0;34m(self)\u001b[0m\n\u001b[1;32m   1183\u001b[0m             \u001b[0mself\u001b[0m\u001b[0;34m.\u001b[0m\u001b[0m_result_cache\u001b[0m \u001b[0;34m=\u001b[0m \u001b[0mlist\u001b[0m\u001b[0;34m(\u001b[0m\u001b[0mself\u001b[0m\u001b[0;34m.\u001b[0m\u001b[0m_iterable_class\u001b[0m\u001b[0;34m(\u001b[0m\u001b[0mself\u001b[0m\u001b[0;34m)\u001b[0m\u001b[0;34m)\u001b[0m\u001b[0;34m\u001b[0m\u001b[0;34m\u001b[0m\u001b[0m\n\u001b[1;32m   1184\u001b[0m         \u001b[0;32mif\u001b[0m \u001b[0mself\u001b[0m\u001b[0;34m.\u001b[0m\u001b[0m_prefetch_related_lookups\u001b[0m \u001b[0;32mand\u001b[0m \u001b[0;32mnot\u001b[0m \u001b[0mself\u001b[0m\u001b[0;34m.\u001b[0m\u001b[0m_prefetch_done\u001b[0m\u001b[0;34m:\u001b[0m\u001b[0;34m\u001b[0m\u001b[0;34m\u001b[0m\u001b[0m\n\u001b[0;32m-> 1185\u001b[0;31m             \u001b[0mself\u001b[0m\u001b[0;34m.\u001b[0m\u001b[0m_prefetch_related_objects\u001b[0m\u001b[0;34m(\u001b[0m\u001b[0;34m)\u001b[0m\u001b[0;34m\u001b[0m\u001b[0;34m\u001b[0m\u001b[0m\n\u001b[0m\u001b[1;32m   1186\u001b[0m \u001b[0;34m\u001b[0m\u001b[0m\n\u001b[1;32m   1187\u001b[0m     \u001b[0;32mdef\u001b[0m \u001b[0m_next_is_sticky\u001b[0m\u001b[0;34m(\u001b[0m\u001b[0mself\u001b[0m\u001b[0;34m)\u001b[0m\u001b[0;34m:\u001b[0m\u001b[0;34m\u001b[0m\u001b[0;34m\u001b[0m\u001b[0m\n",
      "\u001b[0;32m~/Desktop/rookiehero/project/venv/lib/python3.7/site-packages/django/db/models/query.py\u001b[0m in \u001b[0;36m_prefetch_related_objects\u001b[0;34m(self)\u001b[0m\n\u001b[1;32m    718\u001b[0m     \u001b[0;32mdef\u001b[0m \u001b[0m_prefetch_related_objects\u001b[0m\u001b[0;34m(\u001b[0m\u001b[0mself\u001b[0m\u001b[0;34m)\u001b[0m\u001b[0;34m:\u001b[0m\u001b[0;34m\u001b[0m\u001b[0;34m\u001b[0m\u001b[0m\n\u001b[1;32m    719\u001b[0m         \u001b[0;31m# This method can only be called once the result cache has been filled.\u001b[0m\u001b[0;34m\u001b[0m\u001b[0;34m\u001b[0m\u001b[0;34m\u001b[0m\u001b[0m\n\u001b[0;32m--> 720\u001b[0;31m         \u001b[0mprefetch_related_objects\u001b[0m\u001b[0;34m(\u001b[0m\u001b[0mself\u001b[0m\u001b[0;34m.\u001b[0m\u001b[0m_result_cache\u001b[0m\u001b[0;34m,\u001b[0m \u001b[0;34m*\u001b[0m\u001b[0mself\u001b[0m\u001b[0;34m.\u001b[0m\u001b[0m_prefetch_related_lookups\u001b[0m\u001b[0;34m)\u001b[0m\u001b[0;34m\u001b[0m\u001b[0;34m\u001b[0m\u001b[0m\n\u001b[0m\u001b[1;32m    721\u001b[0m         \u001b[0mself\u001b[0m\u001b[0;34m.\u001b[0m\u001b[0m_prefetch_done\u001b[0m \u001b[0;34m=\u001b[0m \u001b[0;32mTrue\u001b[0m\u001b[0;34m\u001b[0m\u001b[0;34m\u001b[0m\u001b[0m\n\u001b[1;32m    722\u001b[0m \u001b[0;34m\u001b[0m\u001b[0m\n",
      "\u001b[0;32m~/Desktop/rookiehero/project/venv/lib/python3.7/site-packages/django/db/models/query.py\u001b[0m in \u001b[0;36mprefetch_related_objects\u001b[0;34m(model_instances, *related_lookups)\u001b[0m\n\u001b[1;32m   1553\u001b[0m                 raise AttributeError(\"Cannot find '%s' on %s object, '%s' is an invalid \"\n\u001b[1;32m   1554\u001b[0m                                      \u001b[0;34m\"parameter to prefetch_related()\"\u001b[0m \u001b[0;34m%\u001b[0m\u001b[0;34m\u001b[0m\u001b[0;34m\u001b[0m\u001b[0m\n\u001b[0;32m-> 1555\u001b[0;31m                                      (through_attr, first_obj.__class__.__name__, lookup.prefetch_through))\n\u001b[0m\u001b[1;32m   1556\u001b[0m \u001b[0;34m\u001b[0m\u001b[0m\n\u001b[1;32m   1557\u001b[0m             \u001b[0;32mif\u001b[0m \u001b[0mlevel\u001b[0m \u001b[0;34m==\u001b[0m \u001b[0mlen\u001b[0m\u001b[0;34m(\u001b[0m\u001b[0mthrough_attrs\u001b[0m\u001b[0;34m)\u001b[0m \u001b[0;34m-\u001b[0m \u001b[0;36m1\u001b[0m \u001b[0;32mand\u001b[0m \u001b[0mprefetcher\u001b[0m \u001b[0;32mis\u001b[0m \u001b[0;32mNone\u001b[0m\u001b[0;34m:\u001b[0m\u001b[0;34m\u001b[0m\u001b[0;34m\u001b[0m\u001b[0m\n",
      "\u001b[0;31mAttributeError\u001b[0m: Cannot find 'usergiftcoupon' on GiftCoupon object, 'usergiftcoupon' is an invalid parameter to prefetch_related()"
     ]
    }
   ],
   "source": [
    "user = User.objects.get(pk=2)\n",
    "GiftCoupon.objects.filter(Q(sender=user)|Q(usergiftcoupon=UserGiftCoupon(id=2))).prefetch_related('usergiftcoupon')"
   ]
  },
  {
   "cell_type": "code",
   "execution_count": 14,
   "metadata": {},
   "outputs": [
    {
     "name": "stderr",
     "output_type": "stream",
     "text": [
      "(0.001) SELECT \"coupon_giftcoupon\".\"id\", \"coupon_giftcoupon\".\"created_time\", \"coupon_giftcoupon\".\"updated_time\", \"coupon_giftcoupon\".\"sender_id\", \"coupon_giftcoupon\".\"sender_msg\", \"coupon_giftcoupon\".\"receiver_name\", \"coupon_giftcoupon\".\"receiver_phone\", \"coupon_giftcoupon\".\"receiver_email\", \"coupon_giftcoupon\".\"expire_date\", \"coupon_giftcoupon\".\"coupon_code\", \"coupon_giftcoupon\".\"price\", \"coupon_giftcoupon\".\"is_used\", \"coupon_giftcoupon\".\"used_date\" FROM \"coupon_giftcoupon\" LEFT OUTER JOIN \"coupon_usergiftcoupon\" ON (\"coupon_giftcoupon\".\"id\" = \"coupon_usergiftcoupon\".\"gift_coupon_id\") WHERE (\"coupon_giftcoupon\".\"sender_id\" = 2 OR \"coupon_usergiftcoupon\".\"id\" = 2)  LIMIT 21; args=(2, 2)\n"
     ]
    },
    {
     "data": {
      "text/plain": [
       "<QuerySet [<GiftCoupon: 693c3140-03b3-48ab-8254-41b0586fbe00>, <GiftCoupon: 171d14fb-b479-4f11-867c-fa427c4b278d>, <GiftCoupon: 13698f6e-ed2b-46e2-b710-95c232978882>]>"
      ]
     },
     "execution_count": 14,
     "metadata": {},
     "output_type": "execute_result"
    }
   ],
   "source": [
    " GiftCoupon.objects.filter(Q(sender=user)|Q(usergiftcoupon=UserGiftCoupon(id=2)))"
   ]
  },
  {
   "cell_type": "code",
   "execution_count": 24,
   "metadata": {},
   "outputs": [
    {
     "name": "stderr",
     "output_type": "stream",
     "text": [
      "(0.000) SELECT \"cart_cart\".\"created_time\", \"cart_cart\".\"updated_time\", \"cart_cart\".\"id\", \"cart_cart\".\"user_id\" FROM \"cart_cart\"  LIMIT 1; args=()\n"
     ]
    }
   ],
   "source": [
    "\n",
    "cart=Cart.objects.all()[0]"
   ]
  },
  {
   "cell_type": "code",
   "execution_count": 21,
   "metadata": {},
   "outputs": [
    {
     "name": "stderr",
     "output_type": "stream",
     "text": [
      "(0.002) SELECT \"cart_cartitem\".\"id\", \"cart_cartitem\".\"menu_id\", \"cart_cartitem\".\"cart_id\", \"cart_cartitem\".\"quantity\", \"menu_menu\".\"id\", \"menu_menu\".\"created_time\", \"menu_menu\".\"updated_time\", \"menu_menu\".\"restaurant_id\", \"menu_menu\".\"name\", \"menu_menu\".\"img\", \"menu_menu\".\"detail\", \"menu_menu\".\"price\", \"menu_menu\".\"type\" FROM \"cart_cartitem\" INNER JOIN \"menu_menu\" ON (\"cart_cartitem\".\"menu_id\" = \"menu_menu\".\"id\") WHERE \"cart_cartitem\".\"cart_id\" = 'b21ae667-3332-457c-95ce-d72ea8bc360b'::uuid  LIMIT 21; args=(UUID('b21ae667-3332-457c-95ce-d72ea8bc360b'),)\n"
     ]
    },
    {
     "data": {
      "text/plain": [
       "<QuerySet [<CartItem: menu2 - 2>, <CartItem: menu1 - 1>]>"
      ]
     },
     "execution_count": 21,
     "metadata": {},
     "output_type": "execute_result"
    }
   ],
   "source": [
    "cart_items = CartItem.objects.select_related('menu').filter(cart=cart)\n",
    "cart_items"
   ]
  },
  {
   "cell_type": "code",
   "execution_count": 25,
   "metadata": {},
   "outputs": [],
   "source": [
    "cart_items = CartItem.objects.select_related(\n",
    "    'menu', 'menu__restaurant').filter(\n",
    "        cart_id=cart.id\n",
    ")"
   ]
  },
  {
   "cell_type": "code",
   "execution_count": 26,
   "metadata": {},
   "outputs": [
    {
     "name": "stderr",
     "output_type": "stream",
     "text": [
      "(0.008) SELECT \"cart_cartitem\".\"id\", \"cart_cartitem\".\"menu_id\", \"cart_cartitem\".\"cart_id\", \"cart_cartitem\".\"quantity\", \"menu_menu\".\"id\", \"menu_menu\".\"created_time\", \"menu_menu\".\"updated_time\", \"menu_menu\".\"restaurant_id\", \"menu_menu\".\"name\", \"menu_menu\".\"img\", \"menu_menu\".\"detail\", \"menu_menu\".\"price\", \"menu_menu\".\"type\", \"restaurant_restaurant\".\"id\", \"restaurant_restaurant\".\"name\", \"restaurant_restaurant\".\"owner\", \"restaurant_restaurant\".\"title\", \"restaurant_restaurant\".\"img\", \"restaurant_restaurant\".\"tel\", \"restaurant_restaurant\".\"min_order_price\", \"restaurant_restaurant\".\"order_way\", \"restaurant_restaurant\".\"origin\", \"restaurant_restaurant\".\"delivery_charge\", \"restaurant_restaurant\".\"info\", \"restaurant_restaurant\".\"type\", \"restaurant_restaurant\".\"estimated_delivery_time\", \"restaurant_restaurant\".\"operation_start_hour\", \"restaurant_restaurant\".\"operation_end_hour\" FROM \"cart_cartitem\" INNER JOIN \"menu_menu\" ON (\"cart_cartitem\".\"menu_id\" = \"menu_menu\".\"id\") INNER JOIN \"restaurant_restaurant\" ON (\"menu_menu\".\"restaurant_id\" = \"restaurant_restaurant\".\"id\") WHERE \"cart_cartitem\".\"cart_id\" = 'b21ae667-3332-457c-95ce-d72ea8bc360b'::uuid  LIMIT 21; args=(UUID('b21ae667-3332-457c-95ce-d72ea8bc360b'),)\n"
     ]
    },
    {
     "data": {
      "text/plain": [
       "<QuerySet [<CartItem: menu2 - 2>, <CartItem: menu1 - 1>]>"
      ]
     },
     "execution_count": 26,
     "metadata": {},
     "output_type": "execute_result"
    }
   ],
   "source": [
    "cart_items"
   ]
  },
  {
   "cell_type": "code",
   "execution_count": 27,
   "metadata": {},
   "outputs": [
    {
     "name": "stderr",
     "output_type": "stream",
     "text": [
      "(0.001) SELECT \"cart_cartitem\".\"quantity\" FROM \"cart_cartitem\" WHERE \"cart_cartitem\".\"cart_id\" = 'b21ae667-3332-457c-95ce-d72ea8bc360b'::uuid; args=(UUID('b21ae667-3332-457c-95ce-d72ea8bc360b'),)\n"
     ]
    },
    {
     "data": {
      "text/plain": [
       "3"
      ]
     },
     "execution_count": 27,
     "metadata": {},
     "output_type": "execute_result"
    }
   ],
   "source": [
    "sum(list(cart.cartitem_set.all().values_list(\n",
    "            'quantity',\n",
    "            flat=True\n",
    "        )))"
   ]
  },
  {
   "cell_type": "code",
   "execution_count": 34,
   "metadata": {},
   "outputs": [
    {
     "name": "stderr",
     "output_type": "stream",
     "text": [
      "(0.001) SELECT \"cart_cartitem\".\"id\", \"cart_cartitem\".\"menu_id\", \"cart_cartitem\".\"cart_id\", \"cart_cartitem\".\"quantity\", \"menu_menu\".\"id\", \"menu_menu\".\"created_time\", \"menu_menu\".\"updated_time\", \"menu_menu\".\"restaurant_id\", \"menu_menu\".\"name\", \"menu_menu\".\"img\", \"menu_menu\".\"detail\", \"menu_menu\".\"price\", \"menu_menu\".\"type\", \"restaurant_restaurant\".\"id\", \"restaurant_restaurant\".\"name\", \"restaurant_restaurant\".\"owner\", \"restaurant_restaurant\".\"title\", \"restaurant_restaurant\".\"img\", \"restaurant_restaurant\".\"tel\", \"restaurant_restaurant\".\"min_order_price\", \"restaurant_restaurant\".\"order_way\", \"restaurant_restaurant\".\"origin\", \"restaurant_restaurant\".\"delivery_charge\", \"restaurant_restaurant\".\"info\", \"restaurant_restaurant\".\"type\", \"restaurant_restaurant\".\"estimated_delivery_time\", \"restaurant_restaurant\".\"operation_start_hour\", \"restaurant_restaurant\".\"operation_end_hour\" FROM \"cart_cartitem\" INNER JOIN \"menu_menu\" ON (\"cart_cartitem\".\"menu_id\" = \"menu_menu\".\"id\") INNER JOIN \"restaurant_restaurant\" ON (\"menu_menu\".\"restaurant_id\" = \"restaurant_restaurant\".\"id\") WHERE \"cart_cartitem\".\"cart_id\" = 'b21ae667-3332-457c-95ce-d72ea8bc360b'::uuid; args=(UUID('b21ae667-3332-457c-95ce-d72ea8bc360b'),)\n"
     ]
    }
   ],
   "source": [
    "for cart_item in cart_items: \n",
    "    cart_item.quantity\n"
   ]
  },
  {
   "cell_type": "code",
   "execution_count": 35,
   "metadata": {},
   "outputs": [
    {
     "name": "stderr",
     "output_type": "stream",
     "text": [
      "(0.001) SELECT \"coupon_giftcoupon\".\"id\", \"coupon_giftcoupon\".\"created_time\", \"coupon_giftcoupon\".\"updated_time\", \"coupon_giftcoupon\".\"sender_id\", \"coupon_giftcoupon\".\"sender_msg\", \"coupon_giftcoupon\".\"receiver_name\", \"coupon_giftcoupon\".\"receiver_phone\", \"coupon_giftcoupon\".\"receiver_email\", \"coupon_giftcoupon\".\"expire_date\", \"coupon_giftcoupon\".\"coupon_code\", \"coupon_giftcoupon\".\"price\", \"coupon_giftcoupon\".\"is_used\", \"coupon_giftcoupon\".\"used_date\" FROM \"coupon_giftcoupon\" LEFT OUTER JOIN \"coupon_usergiftcoupon\" ON (\"coupon_giftcoupon\".\"id\" = \"coupon_usergiftcoupon\".\"gift_coupon_id\") WHERE (\"coupon_giftcoupon\".\"sender_id\" = 2 OR \"coupon_usergiftcoupon\".\"id\" IS NULL)  LIMIT 21; args=(2,)\n"
     ]
    },
    {
     "data": {
      "text/plain": [
       "<QuerySet [<GiftCoupon: 693c3140-03b3-48ab-8254-41b0586fbe00>, <GiftCoupon: 171d14fb-b479-4f11-867c-fa427c4b278d>, <GiftCoupon: 13698f6e-ed2b-46e2-b710-95c232978882>, <GiftCoupon: acef1335-ce1c-4c43-80b5-288488abe2c8>]>"
      ]
     },
     "execution_count": 35,
     "metadata": {},
     "output_type": "execute_result"
    }
   ],
   "source": [
    "GiftCoupon.objects.filter(Q(sender=user) | Q(usergiftcoupon=UserGiftCoupon(prior_user=user)))"
   ]
  },
  {
   "cell_type": "code",
   "execution_count": 40,
   "metadata": {},
   "outputs": [],
   "source": [
    "sent_coupons = GiftCoupon.objects.filter(Q(sender=user) | Q(usergiftcoupon=UserGiftCoupon(prior_user=user)))"
   ]
  },
  {
   "cell_type": "code",
   "execution_count": null,
   "metadata": {},
   "outputs": [],
   "source": []
  },
  {
   "cell_type": "code",
   "execution_count": null,
   "metadata": {},
   "outputs": [],
   "source": []
  }
 ],
 "metadata": {
  "kernelspec": {
   "display_name": "Django Shell-Plus",
   "language": "python",
   "name": "django_extensions"
  },
  "language_info": {
   "codemirror_mode": {
    "name": "ipython",
    "version": 3
   },
   "file_extension": ".py",
   "mimetype": "text/x-python",
   "name": "python",
   "nbconvert_exporter": "python",
   "pygments_lexer": "ipython3",
   "version": "3.7.2"
  }
 },
 "nbformat": 4,
 "nbformat_minor": 2
}
