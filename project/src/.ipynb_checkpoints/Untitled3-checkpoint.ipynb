{
 "cells": [
  {
   "cell_type": "code",
   "execution_count": 1,
   "metadata": {},
   "outputs": [],
   "source": [
    "from coupon.models import GiftCoupon\n"
   ]
  },
  {
   "cell_type": "code",
   "execution_count": 3,
   "metadata": {},
   "outputs": [
    {
     "name": "stderr",
     "output_type": "stream",
     "text": [
      "(0.001) SELECT \"accounts_user\".\"id\", \"accounts_user\".\"password\", \"accounts_user\".\"last_login\", \"accounts_user\".\"is_superuser\", \"accounts_user\".\"username\", \"accounts_user\".\"first_name\", \"accounts_user\".\"last_name\", \"accounts_user\".\"email\", \"accounts_user\".\"is_staff\", \"accounts_user\".\"is_active\", \"accounts_user\".\"date_joined\", \"accounts_user\".\"phone\", \"accounts_user\".\"address\", \"accounts_user\".\"address_detail\", \"accounts_user\".\"user_type\", \"accounts_user\".\"deactivate_date\" FROM \"accounts_user\" WHERE \"accounts_user\".\"id\" = 1; args=(1,)\n"
     ]
    }
   ],
   "source": [
    "user = User.objects.get(pk=1)"
   ]
  },
  {
   "cell_type": "code",
   "execution_count": 9,
   "metadata": {},
   "outputs": [
    {
     "data": {
      "text/plain": [
       "'2019-08-07 05:17:13.693437'"
      ]
     },
     "execution_count": 9,
     "metadata": {},
     "output_type": "execute_result"
    }
   ],
   "source": [
    "import datetime\n",
    "expire_date = datetime.datetime.now()+datetime.timedelta(days=90)\n",
    "str(expire_date)\n"
   ]
  },
  {
   "cell_type": "code",
   "execution_count": 14,
   "metadata": {},
   "outputs": [
    {
     "name": "stderr",
     "output_type": "stream",
     "text": [
      "(0.001) INSERT INTO \"coupon_giftcoupon\" (\"created_time\", \"updated_time\", \"sender_id\", \"sender_msg\", \"receiver_name\", \"receiver_phone\", \"receiver_email\", \"expire_date\", \"coupon_code\", \"price\", \"is_used\", \"used_date\") VALUES ('2019-05-09T05:18:37.797874+00:00'::timestamptz, '2019-05-09T05:18:37.797902+00:00'::timestamptz, 1, 'sender_msg', 'receiver_name', 'receiver_phone', 'receiver_email', '2019-08-07'::date, '25fa33f6-7c84-4a61-8887-5383d3b8c150'::uuid, 0, false, NULL) RETURNING \"coupon_giftcoupon\".\"id\"; args=(datetime.datetime(2019, 5, 9, 5, 18, 37, 797874, tzinfo=<UTC>), datetime.datetime(2019, 5, 9, 5, 18, 37, 797902, tzinfo=<UTC>), 1, 'sender_msg', 'receiver_name', 'receiver_phone', 'receiver_email', datetime.date(2019, 8, 7), UUID('25fa33f6-7c84-4a61-8887-5383d3b8c150'), 0, False, None)\n"
     ]
    }
   ],
   "source": [
    "gift_coupon = GiftCoupon.objects.create(\n",
    "            sender= user,\n",
    "            receiver_name='receiver_name',\n",
    "            receiver_email='receiver_email',\n",
    "            receiver_phone='receiver_phone',\n",
    "            sender_msg='sender_msg',\n",
    "            price=0,\n",
    "            expire_date=expire_date)"
   ]
  },
  {
   "cell_type": "code",
   "execution_count": 16,
   "metadata": {},
   "outputs": [
    {
     "data": {
      "text/plain": [
       "coupon.models.GiftCoupon"
      ]
     },
     "execution_count": 16,
     "metadata": {},
     "output_type": "execute_result"
    }
   ],
   "source": [
    "type(gift_coupon)"
   ]
  },
  {
   "cell_type": "code",
   "execution_count": 18,
   "metadata": {},
   "outputs": [
    {
     "data": {
      "text/plain": [
       "UUID('25fa33f6-7c84-4a61-8887-5383d3b8c150')"
      ]
     },
     "execution_count": 18,
     "metadata": {},
     "output_type": "execute_result"
    }
   ],
   "source": [
    "gift_coupon.coupon_code"
   ]
  },
  {
   "cell_type": "code",
   "execution_count": 2,
   "metadata": {},
   "outputs": [],
   "source": [
    "msg={\n",
    "    \"error\": {\n",
    "        \"price\": [\n",
    "            \"만원단위로 금액을 선택해 주세요\"\n",
    "        ]\n",
    "    }\n",
    "}"
   ]
  },
  {
   "cell_type": "code",
   "execution_count": 22,
   "metadata": {},
   "outputs": [],
   "source": [
    "import json\n",
    "\n"
   ]
  },
  {
   "cell_type": "code",
   "execution_count": 55,
   "metadata": {},
   "outputs": [
    {
     "data": {
      "text/plain": [
       "'{\"price\": [{\"message\": \"\\\\ub9cc\\\\uc6d0\\\\ub2e8\\\\uc704\\\\ub85c \\\\uae08\\\\uc561\\\\uc744 \\\\uc120\\\\ud0dd\\\\ud574 \\\\uc8fc\\\\uc138\\\\uc694\", \"code\": \"\"}]}'"
      ]
     },
     "execution_count": 55,
     "metadata": {},
     "output_type": "execute_result"
    }
   ],
   "source": [
    "msg['error']\n"
   ]
  },
  {
   "cell_type": "code",
   "execution_count": 54,
   "metadata": {},
   "outputs": [
    {
     "ename": "AttributeError",
     "evalue": "'dict' object has no attribute 'loads'",
     "output_type": "error",
     "traceback": [
      "\u001b[0;31m---------------------------------------------------------------------------\u001b[0m",
      "\u001b[0;31mAttributeError\u001b[0m                            Traceback (most recent call last)",
      "\u001b[0;32m<ipython-input-54-7c7fb98e297e>\u001b[0m in \u001b[0;36m<module>\u001b[0;34m\u001b[0m\n\u001b[0;32m----> 1\u001b[0;31m \u001b[0mjson\u001b[0m\u001b[0;34m.\u001b[0m\u001b[0mloads\u001b[0m\u001b[0;34m(\u001b[0m\u001b[0mmsg\u001b[0m\u001b[0;34m[\u001b[0m\u001b[0;34m'error'\u001b[0m\u001b[0;34m]\u001b[0m\u001b[0;34m)\u001b[0m\u001b[0;34m\u001b[0m\u001b[0;34m\u001b[0m\u001b[0m\n\u001b[0m",
      "\u001b[0;31mAttributeError\u001b[0m: 'dict' object has no attribute 'loads'"
     ]
    }
   ],
   "source": [
    "json.loads()\n"
   ]
  },
  {
   "cell_type": "code",
   "execution_count": 25,
   "metadata": {},
   "outputs": [
    {
     "ename": "AttributeError",
     "evalue": "'str' object has no attribute 'filter'",
     "output_type": "error",
     "traceback": [
      "\u001b[0;31m---------------------------------------------------------------------------\u001b[0m",
      "\u001b[0;31mAttributeError\u001b[0m                            Traceback (most recent call last)",
      "\u001b[0;32m<ipython-input-25-78056e9e0a0c>\u001b[0m in \u001b[0;36m<module>\u001b[0;34m\u001b[0m\n\u001b[0;32m----> 1\u001b[0;31m \u001b[0mjson_val\u001b[0m\u001b[0;34m.\u001b[0m\u001b[0mfilter\u001b[0m\u001b[0;34m(\u001b[0m\u001b[0;34m'price'\u001b[0m\u001b[0;34m)\u001b[0m\u001b[0;34m\u001b[0m\u001b[0;34m\u001b[0m\u001b[0m\n\u001b[0m",
      "\u001b[0;31mAttributeError\u001b[0m: 'str' object has no attribute 'filter'"
     ]
    }
   ],
   "source": [
    "json_val.filter('price')"
   ]
  },
  {
   "cell_type": "code",
   "execution_count": 41,
   "metadata": {},
   "outputs": [],
   "source": [
    "from coupon.forms import GiftCouponForm"
   ]
  },
  {
   "cell_type": "code",
   "execution_count": null,
   "metadata": {},
   "outputs": [],
   "source": [
    "form.errors.get"
   ]
  }
 ],
 "metadata": {
  "kernelspec": {
   "display_name": "Django Shell-Plus",
   "language": "python",
   "name": "django_extensions"
  },
  "language_info": {
   "codemirror_mode": {
    "name": "ipython",
    "version": 3
   },
   "file_extension": ".py",
   "mimetype": "text/x-python",
   "name": "python",
   "nbconvert_exporter": "python",
   "pygments_lexer": "ipython3",
   "version": "3.7.2"
  }
 },
 "nbformat": 4,
 "nbformat_minor": 2
}
