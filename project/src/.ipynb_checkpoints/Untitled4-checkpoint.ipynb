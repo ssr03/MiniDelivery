{
 "cells": [
  {
   "cell_type": "code",
   "execution_count": 1,
   "metadata": {},
   "outputs": [
    {
     "name": "stderr",
     "output_type": "stream",
     "text": [
      "(0.002) SELECT \"accounts_user\".\"id\", \"accounts_user\".\"password\", \"accounts_user\".\"last_login\", \"accounts_user\".\"is_superuser\", \"accounts_user\".\"username\", \"accounts_user\".\"first_name\", \"accounts_user\".\"last_name\", \"accounts_user\".\"email\", \"accounts_user\".\"is_staff\", \"accounts_user\".\"is_active\", \"accounts_user\".\"date_joined\", \"accounts_user\".\"phone\", \"accounts_user\".\"address\", \"accounts_user\".\"address_detail\", \"accounts_user\".\"user_type\", \"accounts_user\".\"deactivate_date\" FROM \"accounts_user\" WHERE \"accounts_user\".\"id\" = 1; args=(1,)\n"
     ]
    }
   ],
   "source": [
    "    user = User.objects.get(pk=1)\n",
    "    sent_coupons = GiftCoupon.objects.filter(Q(sender=user) | Q(usergiftcoupon=UserGiftCoupon(prior_user=user)))   \n",
    "    sent_coupons_values = (\n",
    "            sent_coupons.annotate(\n",
    "                prior_username=F('usergiftcoupon__prior_user__username'),\n",
    "                prior_user=F('usergiftcoupon__prior_user')\n",
    "            ).values('receiver_name', 'price', 'created_time', 'expire_date',\n",
    "                     'sender', 'is_used', 'usergiftcoupon__user__username', 'prior_user', 'prior_username'))"
   ]
  },
  {
   "cell_type": "code",
   "execution_count": 3,
   "metadata": {},
   "outputs": [
    {
     "name": "stderr",
     "output_type": "stream",
     "text": [
      "(0.001) SELECT \"coupon_giftcoupon\".\"receiver_name\", \"coupon_giftcoupon\".\"price\", \"coupon_giftcoupon\".\"created_time\", \"coupon_giftcoupon\".\"expire_date\", \"coupon_giftcoupon\".\"sender_id\", \"coupon_giftcoupon\".\"is_used\", T5.\"username\", T4.\"username\" AS \"prior_username\", \"coupon_usergiftcoupon\".\"prior_user_id\" AS \"prior_user\" FROM \"coupon_giftcoupon\" LEFT OUTER JOIN \"coupon_usergiftcoupon\" ON (\"coupon_giftcoupon\".\"id\" = \"coupon_usergiftcoupon\".\"gift_coupon_id\") LEFT OUTER JOIN \"accounts_user\" T4 ON (\"coupon_usergiftcoupon\".\"prior_user_id\" = T4.\"id\") LEFT OUTER JOIN \"accounts_user\" T5 ON (\"coupon_usergiftcoupon\".\"user_id\" = T5.\"id\") WHERE (\"coupon_giftcoupon\".\"sender_id\" = 1 OR \"coupon_usergiftcoupon\".\"id\" IS NULL); args=(1,)\n"
     ]
    },
    {
     "data": {
      "text/plain": [
       "[{'receiver_name': '장영실',\n",
       "  'price': 50000,\n",
       "  'created_time': datetime.datetime(2019, 5, 16, 2, 5, 34, 838630, tzinfo=<UTC>),\n",
       "  'expire_date': datetime.date(2019, 8, 14),\n",
       "  'sender': 1,\n",
       "  'is_used': False,\n",
       "  'usergiftcoupon__user__username': 'sora.son',\n",
       "  'prior_username': 'sora.son',\n",
       "  'prior_user': 1},\n",
       " {'receiver_name': '정약용',\n",
       "  'price': 30000,\n",
       "  'created_time': datetime.datetime(2019, 5, 15, 9, 20, 2, 381653, tzinfo=<UTC>),\n",
       "  'expire_date': datetime.date(2019, 8, 13),\n",
       "  'sender': 2,\n",
       "  'is_used': False,\n",
       "  'usergiftcoupon__user__username': None,\n",
       "  'prior_username': None,\n",
       "  'prior_user': None},\n",
       " {'receiver_name': '홍길동',\n",
       "  'price': 30000,\n",
       "  'created_time': datetime.datetime(2019, 5, 15, 3, 29, 30, 329862, tzinfo=<UTC>),\n",
       "  'expire_date': datetime.date(2019, 8, 13),\n",
       "  'sender': 1,\n",
       "  'is_used': True,\n",
       "  'usergiftcoupon__user__username': None,\n",
       "  'prior_username': None,\n",
       "  'prior_user': None}]"
      ]
     },
     "execution_count": 3,
     "metadata": {},
     "output_type": "execute_result"
    }
   ],
   "source": [
    "list(sent_coupons_values)"
   ]
  },
  {
   "cell_type": "code",
   "execution_count": 14,
   "metadata": {},
   "outputs": [
    {
     "name": "stdout",
     "output_type": "stream",
     "text": [
      "sora.son\n",
      "None\n",
      "None\n"
     ]
    }
   ],
   "source": [
    "coupons = []\n",
    "for coupon in sent_coupons_values:\n",
    "    is_registered = True\n",
    "    is_buy = False\n",
    "\n",
    "    ## sender 가 user 이나 이미 양도된 경우 prior\n",
    "    sender = coupon['sender']\n",
    "    prior_user = coupon['prior_user']\n",
    "\n",
    "    receiver_name = coupon['usergiftcoupon__user__username']\n",
    "    print(receiver_name)\n",
    "\n",
    "    if sender == user.id:\n",
    "        receiver_name = coupon['receiver_name']\n",
    "        is_buy = True # 구매한 쿠폰\n",
    "        if not prior_user:\n",
    "            is_registered = False\n",
    "    elif prior_user == user.id:\n",
    "        receiver_name = coupon['usergiftcoupon__user__username']\n",
    "\n",
    "    coupons += [{\n",
    "        'receiver_name': receiver_name,\n",
    "        'price': coupon['price'],\n",
    "        'create_date': coupon['created_time'].date(),\n",
    "        'expire_date': coupon['expire_date'],\n",
    "        'is_registered': is_registered,\n",
    "        'is_buy': is_buy,\n",
    "    }]"
   ]
  },
  {
   "cell_type": "code",
   "execution_count": 10,
   "metadata": {},
   "outputs": [
    {
     "data": {
      "text/plain": [
       "[{'receiver_name': '장영실',\n",
       "  'price': 50000,\n",
       "  'create_date': datetime.date(2019, 5, 16),\n",
       "  'expire_date': datetime.date(2019, 8, 14),\n",
       "  'is_registered': True,\n",
       "  'is_buy': True},\n",
       " {'receiver_name': None,\n",
       "  'price': 30000,\n",
       "  'create_date': datetime.date(2019, 5, 15),\n",
       "  'expire_date': datetime.date(2019, 8, 13),\n",
       "  'is_registered': True,\n",
       "  'is_buy': False},\n",
       " {'receiver_name': '홍길동',\n",
       "  'price': 30000,\n",
       "  'create_date': datetime.date(2019, 5, 15),\n",
       "  'expire_date': datetime.date(2019, 8, 13),\n",
       "  'is_registered': False,\n",
       "  'is_buy': True}]"
      ]
     },
     "execution_count": 10,
     "metadata": {},
     "output_type": "execute_result"
    }
   ],
   "source": [
    "coupons"
   ]
  },
  {
   "cell_type": "code",
   "execution_count": 10,
   "metadata": {},
   "outputs": [
    {
     "name": "stderr",
     "output_type": "stream",
     "text": [
      "(0.001) SELECT \"accounts_user\".\"id\", \"accounts_user\".\"password\", \"accounts_user\".\"last_login\", \"accounts_user\".\"is_superuser\", \"accounts_user\".\"username\", \"accounts_user\".\"first_name\", \"accounts_user\".\"last_name\", \"accounts_user\".\"email\", \"accounts_user\".\"is_staff\", \"accounts_user\".\"is_active\", \"accounts_user\".\"date_joined\", \"accounts_user\".\"phone\", \"accounts_user\".\"address\", \"accounts_user\".\"address_detail\", \"accounts_user\".\"user_type\", \"accounts_user\".\"deactivate_date\" FROM \"accounts_user\" WHERE \"accounts_user\".\"id\" = 12; args=(12,)\n"
     ]
    }
   ],
   "source": [
    "user = User.objects.get(id=12)\n",
    "sent_coupons = GiftCoupon.objects.filter(Q(sender=user) | Q(usergiftcoupon=UserGiftCoupon(pr)))"
   ]
  },
  {
   "cell_type": "code",
   "execution_count": 18,
   "metadata": {},
   "outputs": [],
   "source": [
    "sent_coupons = GiftCoupon.objects.filter(Q(sender=user) | Q(usergiftcoupon__prior_user=user))"
   ]
  },
  {
   "cell_type": "code",
   "execution_count": 19,
   "metadata": {},
   "outputs": [
    {
     "name": "stderr",
     "output_type": "stream",
     "text": [
      "(0.001) SELECT \"coupon_giftcoupon\".\"id\", \"coupon_giftcoupon\".\"created_time\", \"coupon_giftcoupon\".\"updated_time\", \"coupon_giftcoupon\".\"sender_id\", \"coupon_giftcoupon\".\"sender_msg\", \"coupon_giftcoupon\".\"receiver_name\", \"coupon_giftcoupon\".\"receiver_phone\", \"coupon_giftcoupon\".\"receiver_email\", \"coupon_giftcoupon\".\"expire_date\", \"coupon_giftcoupon\".\"coupon_code\", \"coupon_giftcoupon\".\"price\", \"coupon_giftcoupon\".\"is_used\", \"coupon_giftcoupon\".\"used_date\" FROM \"coupon_giftcoupon\" LEFT OUTER JOIN \"coupon_usergiftcoupon\" ON (\"coupon_giftcoupon\".\"id\" = \"coupon_usergiftcoupon\".\"gift_coupon_id\") WHERE (\"coupon_giftcoupon\".\"sender_id\" = 12 OR \"coupon_usergiftcoupon\".\"prior_user_id\" = 12)  LIMIT 21; args=(12, 12)\n"
     ]
    },
    {
     "data": {
      "text/plain": [
       "<QuerySet []>"
      ]
     },
     "execution_count": 19,
     "metadata": {},
     "output_type": "execute_result"
    }
   ],
   "source": [
    "sent_coupons"
   ]
  },
  {
   "cell_type": "code",
   "execution_count": 6,
   "metadata": {},
   "outputs": [
    {
     "ename": "SyntaxError",
     "evalue": "invalid syntax (<ipython-input-6-9d7c2eca3b4f>, line 2)",
     "output_type": "error",
     "traceback": [
      "\u001b[0;36m  File \u001b[0;32m\"<ipython-input-6-9d7c2eca3b4f>\"\u001b[0;36m, line \u001b[0;32m2\u001b[0m\n\u001b[0;31m    \"coupon_giftcoupon\".\"id\", \"coupon_giftcoupon\".\"created_time\", \"coupon_giftcoupon\".\"updated_time\", \"coupon_giftcoupon\".\"sender_id\", \"coupon_giftcoupon\".\"sender_msg\", \"coupon_giftcoupon\".\"receiver_name\", \"coupon_giftcoupon\".\"receiver_phone\", \"coupon_giftcoupon\".\"receiver_email\", \"coupon_giftcoupon\".\"expire_date\", \"coupon_giftcoupon\".\"coupon_code\", \"coupon_giftcoupon\".\"price\", \"coupon_giftcoupon\".\"is_used\", \"coupon_giftcoupon\".\"used_date\"\u001b[0m\n\u001b[0m                           ^\u001b[0m\n\u001b[0;31mSyntaxError\u001b[0m\u001b[0;31m:\u001b[0m invalid syntax\n"
     ]
    }
   ],
   "source": [
    "SELECT \n",
    "\"coupon_giftcoupon\".\"id\", \"coupon_giftcoupon\".\"created_time\", \"coupon_giftcoupon\".\"updated_time\", \"coupon_giftcoupon\".\"sender_id\", \"coupon_giftcoupon\".\"sender_msg\", \"coupon_giftcoupon\".\"receiver_name\", \"coupon_giftcoupon\".\"receiver_phone\", \"coupon_giftcoupon\".\"receiver_email\", \"coupon_giftcoupon\".\"expire_date\", \"coupon_giftcoupon\".\"coupon_code\", \"coupon_giftcoupon\".\"price\", \"coupon_giftcoupon\".\"is_used\", \"coupon_giftcoupon\".\"used_date\" \n",
    "FROM \"coupon_giftcoupon\" \n",
    "LEFT OUTER JOIN \"coupon_usergiftcoupon\" \n",
    "ON (\"coupon_giftcoupon\".\"id\" = \"coupon_usergiftcoupon\".\"gift_coupon_id\") \n",
    "WHERE (\"coupon_giftcoupon\".\"sender_id\" = 12 OR \"coupon_usergiftcoupon\".\"id\" IS NULL)  LIMIT 21; args=(12,)"
   ]
  },
  {
   "cell_type": "code",
   "execution_count": 7,
   "metadata": {},
   "outputs": [
    {
     "ename": "RelatedObjectDoesNotExist",
     "evalue": "UserGiftCoupon has no gift_coupon.",
     "output_type": "error",
     "traceback": [
      "\u001b[0;31m---------------------------------------------------------------------------\u001b[0m",
      "\u001b[0;31mRelatedObjectDoesNotExist\u001b[0m                 Traceback (most recent call last)",
      "\u001b[0;32m~/Desktop/rookiehero/project/venv/lib/python3.7/site-packages/IPython/core/formatters.py\u001b[0m in \u001b[0;36m__call__\u001b[0;34m(self, obj)\u001b[0m\n\u001b[1;32m    700\u001b[0m                 \u001b[0mtype_pprinters\u001b[0m\u001b[0;34m=\u001b[0m\u001b[0mself\u001b[0m\u001b[0;34m.\u001b[0m\u001b[0mtype_printers\u001b[0m\u001b[0;34m,\u001b[0m\u001b[0;34m\u001b[0m\u001b[0;34m\u001b[0m\u001b[0m\n\u001b[1;32m    701\u001b[0m                 deferred_pprinters=self.deferred_printers)\n\u001b[0;32m--> 702\u001b[0;31m             \u001b[0mprinter\u001b[0m\u001b[0;34m.\u001b[0m\u001b[0mpretty\u001b[0m\u001b[0;34m(\u001b[0m\u001b[0mobj\u001b[0m\u001b[0;34m)\u001b[0m\u001b[0;34m\u001b[0m\u001b[0;34m\u001b[0m\u001b[0m\n\u001b[0m\u001b[1;32m    703\u001b[0m             \u001b[0mprinter\u001b[0m\u001b[0;34m.\u001b[0m\u001b[0mflush\u001b[0m\u001b[0;34m(\u001b[0m\u001b[0;34m)\u001b[0m\u001b[0;34m\u001b[0m\u001b[0;34m\u001b[0m\u001b[0m\n\u001b[1;32m    704\u001b[0m             \u001b[0;32mreturn\u001b[0m \u001b[0mstream\u001b[0m\u001b[0;34m.\u001b[0m\u001b[0mgetvalue\u001b[0m\u001b[0;34m(\u001b[0m\u001b[0;34m)\u001b[0m\u001b[0;34m\u001b[0m\u001b[0;34m\u001b[0m\u001b[0m\n",
      "\u001b[0;32m~/Desktop/rookiehero/project/venv/lib/python3.7/site-packages/IPython/lib/pretty.py\u001b[0m in \u001b[0;36mpretty\u001b[0;34m(self, obj)\u001b[0m\n\u001b[1;32m    400\u001b[0m                         \u001b[0;32mif\u001b[0m \u001b[0mcls\u001b[0m \u001b[0;32mis\u001b[0m \u001b[0;32mnot\u001b[0m \u001b[0mobject\u001b[0m\u001b[0;31m \u001b[0m\u001b[0;31m\\\u001b[0m\u001b[0;34m\u001b[0m\u001b[0;34m\u001b[0m\u001b[0m\n\u001b[1;32m    401\u001b[0m                                 \u001b[0;32mand\u001b[0m \u001b[0mcallable\u001b[0m\u001b[0;34m(\u001b[0m\u001b[0mcls\u001b[0m\u001b[0;34m.\u001b[0m\u001b[0m__dict__\u001b[0m\u001b[0;34m.\u001b[0m\u001b[0mget\u001b[0m\u001b[0;34m(\u001b[0m\u001b[0;34m'__repr__'\u001b[0m\u001b[0;34m)\u001b[0m\u001b[0;34m)\u001b[0m\u001b[0;34m:\u001b[0m\u001b[0;34m\u001b[0m\u001b[0;34m\u001b[0m\u001b[0m\n\u001b[0;32m--> 402\u001b[0;31m                             \u001b[0;32mreturn\u001b[0m \u001b[0m_repr_pprint\u001b[0m\u001b[0;34m(\u001b[0m\u001b[0mobj\u001b[0m\u001b[0;34m,\u001b[0m \u001b[0mself\u001b[0m\u001b[0;34m,\u001b[0m \u001b[0mcycle\u001b[0m\u001b[0;34m)\u001b[0m\u001b[0;34m\u001b[0m\u001b[0;34m\u001b[0m\u001b[0m\n\u001b[0m\u001b[1;32m    403\u001b[0m \u001b[0;34m\u001b[0m\u001b[0m\n\u001b[1;32m    404\u001b[0m             \u001b[0;32mreturn\u001b[0m \u001b[0m_default_pprint\u001b[0m\u001b[0;34m(\u001b[0m\u001b[0mobj\u001b[0m\u001b[0;34m,\u001b[0m \u001b[0mself\u001b[0m\u001b[0;34m,\u001b[0m \u001b[0mcycle\u001b[0m\u001b[0;34m)\u001b[0m\u001b[0;34m\u001b[0m\u001b[0;34m\u001b[0m\u001b[0m\n",
      "\u001b[0;32m~/Desktop/rookiehero/project/venv/lib/python3.7/site-packages/IPython/lib/pretty.py\u001b[0m in \u001b[0;36m_repr_pprint\u001b[0;34m(obj, p, cycle)\u001b[0m\n\u001b[1;32m    695\u001b[0m     \u001b[0;34m\"\"\"A pprint that just redirects to the normal repr function.\"\"\"\u001b[0m\u001b[0;34m\u001b[0m\u001b[0;34m\u001b[0m\u001b[0m\n\u001b[1;32m    696\u001b[0m     \u001b[0;31m# Find newlines and replace them with p.break_()\u001b[0m\u001b[0;34m\u001b[0m\u001b[0;34m\u001b[0m\u001b[0;34m\u001b[0m\u001b[0m\n\u001b[0;32m--> 697\u001b[0;31m     \u001b[0moutput\u001b[0m \u001b[0;34m=\u001b[0m \u001b[0mrepr\u001b[0m\u001b[0;34m(\u001b[0m\u001b[0mobj\u001b[0m\u001b[0;34m)\u001b[0m\u001b[0;34m\u001b[0m\u001b[0;34m\u001b[0m\u001b[0m\n\u001b[0m\u001b[1;32m    698\u001b[0m     \u001b[0;32mfor\u001b[0m \u001b[0midx\u001b[0m\u001b[0;34m,\u001b[0m\u001b[0moutput_line\u001b[0m \u001b[0;32min\u001b[0m \u001b[0menumerate\u001b[0m\u001b[0;34m(\u001b[0m\u001b[0moutput\u001b[0m\u001b[0;34m.\u001b[0m\u001b[0msplitlines\u001b[0m\u001b[0;34m(\u001b[0m\u001b[0;34m)\u001b[0m\u001b[0;34m)\u001b[0m\u001b[0;34m:\u001b[0m\u001b[0;34m\u001b[0m\u001b[0;34m\u001b[0m\u001b[0m\n\u001b[1;32m    699\u001b[0m         \u001b[0;32mif\u001b[0m \u001b[0midx\u001b[0m\u001b[0;34m:\u001b[0m\u001b[0;34m\u001b[0m\u001b[0;34m\u001b[0m\u001b[0m\n",
      "\u001b[0;32m~/Desktop/rookiehero/project/venv/lib/python3.7/site-packages/django/db/models/base.py\u001b[0m in \u001b[0;36m__repr__\u001b[0;34m(self)\u001b[0m\n\u001b[1;32m    500\u001b[0m \u001b[0;34m\u001b[0m\u001b[0m\n\u001b[1;32m    501\u001b[0m     \u001b[0;32mdef\u001b[0m \u001b[0m__repr__\u001b[0m\u001b[0;34m(\u001b[0m\u001b[0mself\u001b[0m\u001b[0;34m)\u001b[0m\u001b[0;34m:\u001b[0m\u001b[0;34m\u001b[0m\u001b[0;34m\u001b[0m\u001b[0m\n\u001b[0;32m--> 502\u001b[0;31m         \u001b[0;32mreturn\u001b[0m \u001b[0;34m'<%s: %s>'\u001b[0m \u001b[0;34m%\u001b[0m \u001b[0;34m(\u001b[0m\u001b[0mself\u001b[0m\u001b[0;34m.\u001b[0m\u001b[0m__class__\u001b[0m\u001b[0;34m.\u001b[0m\u001b[0m__name__\u001b[0m\u001b[0;34m,\u001b[0m \u001b[0mself\u001b[0m\u001b[0;34m)\u001b[0m\u001b[0;34m\u001b[0m\u001b[0;34m\u001b[0m\u001b[0m\n\u001b[0m\u001b[1;32m    503\u001b[0m \u001b[0;34m\u001b[0m\u001b[0m\n\u001b[1;32m    504\u001b[0m     \u001b[0;32mdef\u001b[0m \u001b[0m__str__\u001b[0m\u001b[0;34m(\u001b[0m\u001b[0mself\u001b[0m\u001b[0;34m)\u001b[0m\u001b[0;34m:\u001b[0m\u001b[0;34m\u001b[0m\u001b[0;34m\u001b[0m\u001b[0m\n",
      "\u001b[0;32m~/Desktop/rookiehero/project/src/coupon/models.py\u001b[0m in \u001b[0;36m__str__\u001b[0;34m(self)\u001b[0m\n\u001b[1;32m     66\u001b[0m \u001b[0;34m\u001b[0m\u001b[0m\n\u001b[1;32m     67\u001b[0m     \u001b[0;32mdef\u001b[0m \u001b[0m__str__\u001b[0m\u001b[0;34m(\u001b[0m\u001b[0mself\u001b[0m\u001b[0;34m)\u001b[0m\u001b[0;34m:\u001b[0m\u001b[0;34m\u001b[0m\u001b[0;34m\u001b[0m\u001b[0m\n\u001b[0;32m---> 68\u001b[0;31m         \u001b[0;32mreturn\u001b[0m \u001b[0mstr\u001b[0m\u001b[0;34m(\u001b[0m\u001b[0mself\u001b[0m\u001b[0;34m.\u001b[0m\u001b[0mgift_coupon\u001b[0m\u001b[0;34m)\u001b[0m\u001b[0;34m\u001b[0m\u001b[0;34m\u001b[0m\u001b[0m\n\u001b[0m",
      "\u001b[0;32m~/Desktop/rookiehero/project/venv/lib/python3.7/site-packages/django/db/models/fields/related_descriptors.py\u001b[0m in \u001b[0;36m__get__\u001b[0;34m(self, instance, cls)\u001b[0m\n\u001b[1;32m    186\u001b[0m         \u001b[0;32mif\u001b[0m \u001b[0mrel_obj\u001b[0m \u001b[0;32mis\u001b[0m \u001b[0;32mNone\u001b[0m \u001b[0;32mand\u001b[0m \u001b[0;32mnot\u001b[0m \u001b[0mself\u001b[0m\u001b[0;34m.\u001b[0m\u001b[0mfield\u001b[0m\u001b[0;34m.\u001b[0m\u001b[0mnull\u001b[0m\u001b[0;34m:\u001b[0m\u001b[0;34m\u001b[0m\u001b[0;34m\u001b[0m\u001b[0m\n\u001b[1;32m    187\u001b[0m             raise self.RelatedObjectDoesNotExist(\n\u001b[0;32m--> 188\u001b[0;31m                 \u001b[0;34m\"%s has no %s.\"\u001b[0m \u001b[0;34m%\u001b[0m \u001b[0;34m(\u001b[0m\u001b[0mself\u001b[0m\u001b[0;34m.\u001b[0m\u001b[0mfield\u001b[0m\u001b[0;34m.\u001b[0m\u001b[0mmodel\u001b[0m\u001b[0;34m.\u001b[0m\u001b[0m__name__\u001b[0m\u001b[0;34m,\u001b[0m \u001b[0mself\u001b[0m\u001b[0;34m.\u001b[0m\u001b[0mfield\u001b[0m\u001b[0;34m.\u001b[0m\u001b[0mname\u001b[0m\u001b[0;34m)\u001b[0m\u001b[0;34m\u001b[0m\u001b[0;34m\u001b[0m\u001b[0m\n\u001b[0m\u001b[1;32m    189\u001b[0m             )\n\u001b[1;32m    190\u001b[0m         \u001b[0;32melse\u001b[0m\u001b[0;34m:\u001b[0m\u001b[0;34m\u001b[0m\u001b[0;34m\u001b[0m\u001b[0m\n",
      "\u001b[0;31mRelatedObjectDoesNotExist\u001b[0m: UserGiftCoupon has no gift_coupon."
     ]
    }
   ],
   "source": [
    "UserGiftCoupon(prior_user=user)"
   ]
  },
  {
   "cell_type": "code",
   "execution_count": 14,
   "metadata": {},
   "outputs": [
    {
     "name": "stderr",
     "output_type": "stream",
     "text": [
      "(0.001) SELECT \"coupon_usergiftcoupon\".\"id\", \"coupon_usergiftcoupon\".\"created_time\", \"coupon_usergiftcoupon\".\"updated_time\", \"coupon_usergiftcoupon\".\"gift_coupon_id\", \"coupon_usergiftcoupon\".\"user_id\", \"coupon_usergiftcoupon\".\"prior_user_id\", \"coupon_usergiftcoupon\".\"is_owner\", \"coupon_usergiftcoupon\".\"is_registrant\" FROM \"coupon_usergiftcoupon\"  LIMIT 21; args=()\n",
      "(0.001) SELECT \"coupon_giftcoupon\".\"id\", \"coupon_giftcoupon\".\"created_time\", \"coupon_giftcoupon\".\"updated_time\", \"coupon_giftcoupon\".\"sender_id\", \"coupon_giftcoupon\".\"sender_msg\", \"coupon_giftcoupon\".\"receiver_name\", \"coupon_giftcoupon\".\"receiver_phone\", \"coupon_giftcoupon\".\"receiver_email\", \"coupon_giftcoupon\".\"expire_date\", \"coupon_giftcoupon\".\"coupon_code\", \"coupon_giftcoupon\".\"price\", \"coupon_giftcoupon\".\"is_used\", \"coupon_giftcoupon\".\"used_date\" FROM \"coupon_giftcoupon\" WHERE \"coupon_giftcoupon\".\"id\" = 1; args=(1,)\n",
      "(0.000) SELECT \"coupon_giftcoupon\".\"id\", \"coupon_giftcoupon\".\"created_time\", \"coupon_giftcoupon\".\"updated_time\", \"coupon_giftcoupon\".\"sender_id\", \"coupon_giftcoupon\".\"sender_msg\", \"coupon_giftcoupon\".\"receiver_name\", \"coupon_giftcoupon\".\"receiver_phone\", \"coupon_giftcoupon\".\"receiver_email\", \"coupon_giftcoupon\".\"expire_date\", \"coupon_giftcoupon\".\"coupon_code\", \"coupon_giftcoupon\".\"price\", \"coupon_giftcoupon\".\"is_used\", \"coupon_giftcoupon\".\"used_date\" FROM \"coupon_giftcoupon\" WHERE \"coupon_giftcoupon\".\"id\" = 4; args=(4,)\n",
      "(0.000) SELECT \"coupon_giftcoupon\".\"id\", \"coupon_giftcoupon\".\"created_time\", \"coupon_giftcoupon\".\"updated_time\", \"coupon_giftcoupon\".\"sender_id\", \"coupon_giftcoupon\".\"sender_msg\", \"coupon_giftcoupon\".\"receiver_name\", \"coupon_giftcoupon\".\"receiver_phone\", \"coupon_giftcoupon\".\"receiver_email\", \"coupon_giftcoupon\".\"expire_date\", \"coupon_giftcoupon\".\"coupon_code\", \"coupon_giftcoupon\".\"price\", \"coupon_giftcoupon\".\"is_used\", \"coupon_giftcoupon\".\"used_date\" FROM \"coupon_giftcoupon\" WHERE \"coupon_giftcoupon\".\"id\" = 2; args=(2,)\n",
      "(0.000) SELECT \"coupon_giftcoupon\".\"id\", \"coupon_giftcoupon\".\"created_time\", \"coupon_giftcoupon\".\"updated_time\", \"coupon_giftcoupon\".\"sender_id\", \"coupon_giftcoupon\".\"sender_msg\", \"coupon_giftcoupon\".\"receiver_name\", \"coupon_giftcoupon\".\"receiver_phone\", \"coupon_giftcoupon\".\"receiver_email\", \"coupon_giftcoupon\".\"expire_date\", \"coupon_giftcoupon\".\"coupon_code\", \"coupon_giftcoupon\".\"price\", \"coupon_giftcoupon\".\"is_used\", \"coupon_giftcoupon\".\"used_date\" FROM \"coupon_giftcoupon\" WHERE \"coupon_giftcoupon\".\"id\" = 3; args=(3,)\n",
      "(0.000) SELECT \"coupon_giftcoupon\".\"id\", \"coupon_giftcoupon\".\"created_time\", \"coupon_giftcoupon\".\"updated_time\", \"coupon_giftcoupon\".\"sender_id\", \"coupon_giftcoupon\".\"sender_msg\", \"coupon_giftcoupon\".\"receiver_name\", \"coupon_giftcoupon\".\"receiver_phone\", \"coupon_giftcoupon\".\"receiver_email\", \"coupon_giftcoupon\".\"expire_date\", \"coupon_giftcoupon\".\"coupon_code\", \"coupon_giftcoupon\".\"price\", \"coupon_giftcoupon\".\"is_used\", \"coupon_giftcoupon\".\"used_date\" FROM \"coupon_giftcoupon\" WHERE \"coupon_giftcoupon\".\"id\" = 3; args=(3,)\n"
     ]
    },
    {
     "data": {
      "text/plain": [
       "<QuerySet [<UserGiftCoupon: 7b64b886-f8bd-4154-90a3-df5a8150f8a4>, <UserGiftCoupon: 7e67d492-0578-48b8-a307-41c8a7bbbde0>, <UserGiftCoupon: 0d2bf9c0-6584-49d2-b296-243b3c91e7c8>, <UserGiftCoupon: e61c3d08-e2e1-4842-bbb1-b5be5dbc7125>, <UserGiftCoupon: e61c3d08-e2e1-4842-bbb1-b5be5dbc7125>]>"
      ]
     },
     "execution_count": 14,
     "metadata": {},
     "output_type": "execute_result"
    }
   ],
   "source": [
    "UserGiftCoupon.objects.all()"
   ]
  },
  {
   "cell_type": "code",
   "execution_count": 21,
   "metadata": {},
   "outputs": [
    {
     "name": "stderr",
     "output_type": "stream",
     "text": [
      "(0.001) SELECT \"coupon_giftcoupon\".\"id\", \"coupon_giftcoupon\".\"created_time\", \"coupon_giftcoupon\".\"updated_time\", \"coupon_giftcoupon\".\"sender_id\", \"coupon_giftcoupon\".\"sender_msg\", \"coupon_giftcoupon\".\"receiver_name\", \"coupon_giftcoupon\".\"receiver_phone\", \"coupon_giftcoupon\".\"receiver_email\", \"coupon_giftcoupon\".\"expire_date\", \"coupon_giftcoupon\".\"coupon_code\", \"coupon_giftcoupon\".\"price\", \"coupon_giftcoupon\".\"is_used\", \"coupon_giftcoupon\".\"used_date\" FROM \"coupon_giftcoupon\" INNER JOIN \"coupon_usergiftcoupon\" ON (\"coupon_giftcoupon\".\"id\" = \"coupon_usergiftcoupon\".\"gift_coupon_id\") WHERE \"coupon_usergiftcoupon\".\"id\" = 2  LIMIT 1; args=(2,)\n"
     ]
    }
   ],
   "source": [
    "        gift_coupon_obj = GiftCoupon.objects.filter(usergiftcoupon=2)\n",
    "        import datetime\n",
    "        original_expire_date = gift_coupon_obj[0].expire_date\n",
    "        over_expire_date = original_expire_date-datetime.timedelta(days=1)"
   ]
  },
  {
   "cell_type": "code",
   "execution_count": 23,
   "metadata": {},
   "outputs": [
    {
     "data": {
      "text/plain": [
       "datetime.date(2019, 8, 15)"
      ]
     },
     "execution_count": 23,
     "metadata": {},
     "output_type": "execute_result"
    }
   ],
   "source": [
    "original_expire_date"
   ]
  },
  {
   "cell_type": "code",
   "execution_count": 24,
   "metadata": {},
   "outputs": [
    {
     "data": {
      "text/plain": [
       "datetime.date(2019, 8, 14)"
      ]
     },
     "execution_count": 24,
     "metadata": {},
     "output_type": "execute_result"
    }
   ],
   "source": [
    "over_expire_date"
   ]
  },
  {
   "cell_type": "code",
   "execution_count": 28,
   "metadata": {},
   "outputs": [],
   "source": [
    "gift_coupon_obj = GiftCoupon.objects.filter(usergiftcoupon=12)"
   ]
  },
  {
   "cell_type": "code",
   "execution_count": 29,
   "metadata": {},
   "outputs": [
    {
     "name": "stderr",
     "output_type": "stream",
     "text": [
      "(0.001) SELECT \"coupon_giftcoupon\".\"id\", \"coupon_giftcoupon\".\"created_time\", \"coupon_giftcoupon\".\"updated_time\", \"coupon_giftcoupon\".\"sender_id\", \"coupon_giftcoupon\".\"sender_msg\", \"coupon_giftcoupon\".\"receiver_name\", \"coupon_giftcoupon\".\"receiver_phone\", \"coupon_giftcoupon\".\"receiver_email\", \"coupon_giftcoupon\".\"expire_date\", \"coupon_giftcoupon\".\"coupon_code\", \"coupon_giftcoupon\".\"price\", \"coupon_giftcoupon\".\"is_used\", \"coupon_giftcoupon\".\"used_date\" FROM \"coupon_giftcoupon\" INNER JOIN \"coupon_usergiftcoupon\" ON (\"coupon_giftcoupon\".\"id\" = \"coupon_usergiftcoupon\".\"gift_coupon_id\") WHERE \"coupon_usergiftcoupon\".\"id\" = 12  LIMIT 1; args=(12,)\n",
      "(0.002) UPDATE \"coupon_giftcoupon\" SET \"expire_date\" = '2019-08-17'::date WHERE \"coupon_giftcoupon\".\"id\" IN (SELECT U0.\"id\" FROM \"coupon_giftcoupon\" U0 INNER JOIN \"coupon_usergiftcoupon\" U1 ON (U0.\"id\" = U1.\"gift_coupon_id\") WHERE U1.\"id\" = 12); args=(datetime.date(2019, 8, 17), 12)\n"
     ]
    },
    {
     "data": {
      "text/plain": [
       "1"
      ]
     },
     "execution_count": 29,
     "metadata": {},
     "output_type": "execute_result"
    }
   ],
   "source": [
    "original_expire_date = gift_coupon_obj[0].expire_date\n",
    "over_expire_date = original_expire_date-datetime.timedelta(days=1)\n",
    "gift_coupon_obj.update(expire_date=over_expire_date)"
   ]
  },
  {
   "cell_type": "code",
   "execution_count": 18,
   "metadata": {},
   "outputs": [
    {
     "name": "stderr",
     "output_type": "stream",
     "text": [
      "(0.001) SELECT \"accounts_user\".\"id\", \"accounts_user\".\"password\", \"accounts_user\".\"last_login\", \"accounts_user\".\"is_superuser\", \"accounts_user\".\"username\", \"accounts_user\".\"first_name\", \"accounts_user\".\"last_name\", \"accounts_user\".\"email\", \"accounts_user\".\"is_staff\", \"accounts_user\".\"is_active\", \"accounts_user\".\"date_joined\", \"accounts_user\".\"phone\", \"accounts_user\".\"address\", \"accounts_user\".\"address_detail\", \"accounts_user\".\"user_type\", \"accounts_user\".\"deactivate_date\" FROM \"accounts_user\" WHERE \"accounts_user\".\"id\" = 12; args=(12,)\n"
     ]
    }
   ],
   "source": [
    "user = User.objects.get(pk=12)"
   ]
  },
  {
   "cell_type": "code",
   "execution_count": 10,
   "metadata": {},
   "outputs": [
    {
     "name": "stderr",
     "output_type": "stream",
     "text": [
      "(0.001) SELECT \"coupon_usergiftcoupon\".\"id\", \"coupon_usergiftcoupon\".\"created_time\", \"coupon_usergiftcoupon\".\"updated_time\", \"coupon_usergiftcoupon\".\"gift_coupon_id\", \"coupon_usergiftcoupon\".\"user_id\", \"coupon_usergiftcoupon\".\"prior_user_id\", \"coupon_usergiftcoupon\".\"is_owner\", \"coupon_usergiftcoupon\".\"is_registrant\", \"coupon_giftcoupon\".\"id\", \"coupon_giftcoupon\".\"created_time\", \"coupon_giftcoupon\".\"updated_time\", \"coupon_giftcoupon\".\"sender_id\", \"coupon_giftcoupon\".\"sender_msg\", \"coupon_giftcoupon\".\"receiver_name\", \"coupon_giftcoupon\".\"receiver_phone\", \"coupon_giftcoupon\".\"receiver_email\", \"coupon_giftcoupon\".\"expire_date\", \"coupon_giftcoupon\".\"coupon_code\", \"coupon_giftcoupon\".\"price\", \"coupon_giftcoupon\".\"is_used\", \"coupon_giftcoupon\".\"used_date\" FROM \"coupon_usergiftcoupon\" INNER JOIN \"coupon_giftcoupon\" ON (\"coupon_usergiftcoupon\".\"gift_coupon_id\" = \"coupon_giftcoupon\".\"id\") WHERE (\"coupon_usergiftcoupon\".\"user_id\" = 12 AND \"coupon_usergiftcoupon\".\"is_owner\" = true AND \"coupon_giftcoupon\".\"is_used\" = false)  LIMIT 21; args=(12, True, False)\n"
     ]
    },
    {
     "data": {
      "text/plain": [
       "<QuerySet [<UserGiftCoupon: e61c3d08-e2e1-4842-bbb1-b5be5dbc7125>]>"
      ]
     },
     "execution_count": 10,
     "metadata": {},
     "output_type": "execute_result"
    }
   ],
   "source": [
    "(UserGiftCoupon.objects.select_related('gift_coupon')\n",
    "    .filter(user=user)\n",
    "    .filter(is_owner=True)\n",
    "    .filter(gift_coupon__is_used=False))"
   ]
  },
  {
   "cell_type": "code",
   "execution_count": 37,
   "metadata": {},
   "outputs": [],
   "source": [
    "import datetime    \n",
    "available_coupon_objs = (\n",
    "        UserGiftCoupon.objects.select_related('gift_coupon')\n",
    "        .filter(user=user)\n",
    "        .filter(is_owner=True)\n",
    "        .filter(gift_coupon__is_used=False)\n",
    "        .filter(gift_coupon__expire_date__gte=datetime.datetime.now().date()))\n",
    "\n",
    "available_coupon_list = (\n",
    "    available_coupon_objs\n",
    "    .annotate(\n",
    "        price=F('gift_coupon__price'),\n",
    "        create_date=F('gift_coupon__created_time'),\n",
    "        expire_date=F('gift_coupon__expire_date'),\n",
    "        coupon_code=F('gift_coupon__coupon_code'),\n",
    "        prior_username=F('prior_user__username'),\n",
    "    ).values())"
   ]
  },
  {
   "cell_type": "code",
   "execution_count": 38,
   "metadata": {},
   "outputs": [
    {
     "name": "stderr",
     "output_type": "stream",
     "text": [
      "(0.001) SELECT \"coupon_usergiftcoupon\".\"id\", \"coupon_usergiftcoupon\".\"created_time\", \"coupon_usergiftcoupon\".\"updated_time\", \"coupon_usergiftcoupon\".\"gift_coupon_id\", \"coupon_usergiftcoupon\".\"user_id\", \"coupon_usergiftcoupon\".\"prior_user_id\", \"coupon_usergiftcoupon\".\"is_owner\", \"coupon_usergiftcoupon\".\"is_registrant\", \"coupon_giftcoupon\".\"price\" AS \"price\", \"coupon_giftcoupon\".\"created_time\" AS \"create_date\", \"coupon_giftcoupon\".\"expire_date\" AS \"expire_date\", \"coupon_giftcoupon\".\"coupon_code\" AS \"coupon_code\", T4.\"username\" AS \"prior_username\" FROM \"coupon_usergiftcoupon\" INNER JOIN \"coupon_giftcoupon\" ON (\"coupon_usergiftcoupon\".\"gift_coupon_id\" = \"coupon_giftcoupon\".\"id\") LEFT OUTER JOIN \"accounts_user\" T4 ON (\"coupon_usergiftcoupon\".\"prior_user_id\" = T4.\"id\") WHERE (\"coupon_usergiftcoupon\".\"user_id\" = 12 AND \"coupon_usergiftcoupon\".\"is_owner\" = true AND \"coupon_giftcoupon\".\"is_used\" = false AND \"coupon_giftcoupon\".\"expire_date\" >= '2019-05-22'::date); args=(12, True, False, datetime.date(2019, 5, 22))\n"
     ]
    },
    {
     "data": {
      "text/plain": [
       "[{'id': 11,\n",
       "  'created_time': datetime.datetime(2019, 5, 22, 8, 26, 35, 559341, tzinfo=<UTC>),\n",
       "  'updated_time': datetime.datetime(2019, 5, 22, 8, 26, 35, 559374, tzinfo=<UTC>),\n",
       "  'gift_coupon_id': 3,\n",
       "  'user_id': 12,\n",
       "  'prior_user_id': 10,\n",
       "  'is_owner': True,\n",
       "  'is_registrant': False,\n",
       "  'price': 50000,\n",
       "  'create_date': datetime.datetime(2019, 5, 17, 2, 30, 41, 159000, tzinfo=<UTC>),\n",
       "  'expire_date': datetime.date(2019, 8, 15),\n",
       "  'coupon_code': UUID('e61c3d08-e2e1-4842-bbb1-b5be5dbc7125'),\n",
       "  'prior_username': 'sora.son'}]"
      ]
     },
     "execution_count": 38,
     "metadata": {},
     "output_type": "execute_result"
    }
   ],
   "source": [
    "list(available_coupon_list)"
   ]
  },
  {
   "cell_type": "code",
   "execution_count": 40,
   "metadata": {},
   "outputs": [
    {
     "name": "stderr",
     "output_type": "stream",
     "text": [
      "(0.001) SELECT \"coupon_usergiftcoupon\".\"id\", \"coupon_usergiftcoupon\".\"created_time\", \"coupon_usergiftcoupon\".\"updated_time\", \"coupon_usergiftcoupon\".\"gift_coupon_id\", \"coupon_usergiftcoupon\".\"user_id\", \"coupon_usergiftcoupon\".\"prior_user_id\", \"coupon_usergiftcoupon\".\"is_owner\", \"coupon_usergiftcoupon\".\"is_registrant\", \"coupon_giftcoupon\".\"price\" AS \"price\", \"coupon_giftcoupon\".\"created_time\" AS \"create_date\", \"coupon_giftcoupon\".\"expire_date\" AS \"expire_date\", \"coupon_giftcoupon\".\"coupon_code\" AS \"coupon_code\", T4.\"username\" AS \"prior_username\" FROM \"coupon_usergiftcoupon\" INNER JOIN \"coupon_giftcoupon\" ON (\"coupon_usergiftcoupon\".\"gift_coupon_id\" = \"coupon_giftcoupon\".\"id\") LEFT OUTER JOIN \"accounts_user\" T4 ON (\"coupon_usergiftcoupon\".\"prior_user_id\" = T4.\"id\") WHERE (\"coupon_usergiftcoupon\".\"user_id\" = 12 AND \"coupon_usergiftcoupon\".\"is_owner\" = true AND \"coupon_giftcoupon\".\"is_used\" = false AND \"coupon_giftcoupon\".\"expire_date\" >= '2019-05-22'::date); args=(12, True, False, datetime.date(2019, 5, 22))\n"
     ]
    }
   ],
   "source": [
    "available_coupons = (\n",
    "    UserGiftCoupon.objects.select_related('gift_coupon')\n",
    "    .filter(user=user)\n",
    "    .filter(is_owner=True)\n",
    "    .filter(gift_coupon__is_used=False)\n",
    "    .filter(gift_coupon__expire_date__gte=datetime.datetime.now().date())\n",
    "    .annotate(\n",
    "        price=F('gift_coupon__price'),\n",
    "        create_date=F('gift_coupon__created_time'),\n",
    "        expire_date=F('gift_coupon__expire_date'),\n",
    "        coupon_code=F('gift_coupon__coupon_code'),\n",
    "        prior_username=F('prior_user__username'),\n",
    "    ).values())\n",
    "\n",
    "available_coupon_list = list(available_coupons,)"
   ]
  },
  {
   "cell_type": "code",
   "execution_count": 41,
   "metadata": {},
   "outputs": [
    {
     "data": {
      "text/plain": [
       "[{'id': 11,\n",
       "  'created_time': datetime.datetime(2019, 5, 22, 8, 26, 35, 559341, tzinfo=<UTC>),\n",
       "  'updated_time': datetime.datetime(2019, 5, 22, 8, 26, 35, 559374, tzinfo=<UTC>),\n",
       "  'gift_coupon_id': 3,\n",
       "  'user_id': 12,\n",
       "  'prior_user_id': 10,\n",
       "  'is_owner': True,\n",
       "  'is_registrant': False,\n",
       "  'price': 50000,\n",
       "  'create_date': datetime.datetime(2019, 5, 17, 2, 30, 41, 159000, tzinfo=<UTC>),\n",
       "  'expire_date': datetime.date(2019, 8, 15),\n",
       "  'coupon_code': UUID('e61c3d08-e2e1-4842-bbb1-b5be5dbc7125'),\n",
       "  'prior_username': 'sora.son'}]"
      ]
     },
     "execution_count": 41,
     "metadata": {},
     "output_type": "execute_result"
    }
   ],
   "source": [
    "available_coupon_list"
   ]
  },
  {
   "cell_type": "code",
   "execution_count": 42,
   "metadata": {},
   "outputs": [
    {
     "ename": "IndentationError",
     "evalue": "unexpected indent (<ipython-input-42-52cf04134040>, line 2)",
     "output_type": "error",
     "traceback": [
      "\u001b[0;36m  File \u001b[0;32m\"<ipython-input-42-52cf04134040>\"\u001b[0;36m, line \u001b[0;32m2\u001b[0m\n\u001b[0;31m    .filter(user=user)\u001b[0m\n\u001b[0m    ^\u001b[0m\n\u001b[0;31mIndentationError\u001b[0m\u001b[0;31m:\u001b[0m unexpected indent\n"
     ]
    }
   ],
   "source": [
    "UserGiftCoupon.objects.select_related('gift_coupon')\n",
    "            .filter(user=user)\n",
    "            .filter(is_owner=True)\n",
    "            .filter(gift_coupon__is_used=False)\n",
    "            .filter(gift_coupon__expire_date__gte=datetime.datetime.now().date())\n",
    "            .annotate(\n",
    "                price=F('gift_coupon__price'),\n",
    "                create_date=F('gift_coupon__created_time'),\n",
    "                expire_date=F('gift_coupon__expire_date'),\n",
    "                coupon_code=F('gift_coupon__coupon_code'),\n",
    "                prior_username=F('prior_user__username'),\n",
    "            ).values()"
   ]
  },
  {
   "cell_type": "code",
   "execution_count": 43,
   "metadata": {},
   "outputs": [
    {
     "name": "stderr",
     "output_type": "stream",
     "text": [
      "(0.002) SELECT \"coupon_giftcoupon\".\"id\", \"coupon_giftcoupon\".\"created_time\", \"coupon_giftcoupon\".\"updated_time\", \"coupon_giftcoupon\".\"sender_id\", \"coupon_giftcoupon\".\"sender_msg\", \"coupon_giftcoupon\".\"receiver_name\", \"coupon_giftcoupon\".\"receiver_phone\", \"coupon_giftcoupon\".\"receiver_email\", \"coupon_giftcoupon\".\"expire_date\", \"coupon_giftcoupon\".\"coupon_code\", \"coupon_giftcoupon\".\"price\", \"coupon_giftcoupon\".\"is_used\", \"coupon_giftcoupon\".\"used_date\" FROM \"coupon_giftcoupon\" INNER JOIN \"coupon_usergiftcoupon\" ON (\"coupon_giftcoupon\".\"id\" = \"coupon_usergiftcoupon\".\"gift_coupon_id\") INNER JOIN \"coupon_usergiftcoupon\" T3 ON (\"coupon_giftcoupon\".\"id\" = T3.\"gift_coupon_id\") WHERE (\"coupon_usergiftcoupon\".\"is_owner\" = true AND T3.\"user_id\" = 12)  LIMIT 21; args=(True, 12)\n"
     ]
    },
    {
     "data": {
      "text/plain": [
       "<QuerySet [<GiftCoupon: e61c3d08-e2e1-4842-bbb1-b5be5dbc7125>, <GiftCoupon: e61c3d08-e2e1-4842-bbb1-b5be5dbc7125>]>"
      ]
     },
     "execution_count": 43,
     "metadata": {},
     "output_type": "execute_result"
    }
   ],
   "source": [
    "GiftCoupon.objects.filter(usergiftcoupon__is_owner=True).filter(usergiftcoupon__user = user)"
   ]
  },
  {
   "cell_type": "code",
   "execution_count": null,
   "metadata": {},
   "outputs": [],
   "source": []
  },
  {
   "cell_type": "code",
   "execution_count": 45,
   "metadata": {},
   "outputs": [
    {
     "name": "stderr",
     "output_type": "stream",
     "text": [
      "(0.001) SELECT \"coupon_giftcoupon\".\"id\", \"coupon_giftcoupon\".\"created_time\", \"coupon_giftcoupon\".\"updated_time\", \"coupon_giftcoupon\".\"sender_id\", \"coupon_giftcoupon\".\"sender_msg\", \"coupon_giftcoupon\".\"receiver_name\", \"coupon_giftcoupon\".\"receiver_phone\", \"coupon_giftcoupon\".\"receiver_email\", \"coupon_giftcoupon\".\"expire_date\", \"coupon_giftcoupon\".\"coupon_code\", \"coupon_giftcoupon\".\"price\", \"coupon_giftcoupon\".\"is_used\", \"coupon_giftcoupon\".\"used_date\" FROM \"coupon_giftcoupon\" INNER JOIN \"coupon_usergiftcoupon\" ON (\"coupon_giftcoupon\".\"id\" = \"coupon_usergiftcoupon\".\"gift_coupon_id\") INNER JOIN \"coupon_usergiftcoupon\" T3 ON (\"coupon_giftcoupon\".\"id\" = T3.\"gift_coupon_id\") WHERE (\"coupon_usergiftcoupon\".\"is_owner\" = true AND T3.\"user_id\" = 12 AND \"coupon_giftcoupon\".\"is_used\" = false AND \"coupon_giftcoupon\".\"expire_date\" >= '2019-05-23'::date)  LIMIT 21; args=(True, 12, False, datetime.date(2019, 5, 23))\n"
     ]
    },
    {
     "data": {
      "text/plain": [
       "<QuerySet [{'id': 3, 'created_time': datetime.datetime(2019, 5, 17, 2, 30, 41, 159000, tzinfo=<UTC>), 'updated_time': datetime.datetime(2019, 5, 17, 2, 30, 41, 159000, tzinfo=<UTC>), 'sender_id': 10, 'sender_msg': '구구구구구                    ', 'receiver_name': '이순신', 'receiver_phone': '', 'receiver_email': 'sora.son@deliveryhero.co.kr', 'expire_date': datetime.date(2019, 8, 15), 'coupon_code': UUID('e61c3d08-e2e1-4842-bbb1-b5be5dbc7125'), 'price': 50000, 'is_used': False, 'used_date': None}, {'id': 3, 'created_time': datetime.datetime(2019, 5, 17, 2, 30, 41, 159000, tzinfo=<UTC>), 'updated_time': datetime.datetime(2019, 5, 17, 2, 30, 41, 159000, tzinfo=<UTC>), 'sender_id': 10, 'sender_msg': '구구구구구                    ', 'receiver_name': '이순신', 'receiver_phone': '', 'receiver_email': 'sora.son@deliveryhero.co.kr', 'expire_date': datetime.date(2019, 8, 15), 'coupon_code': UUID('e61c3d08-e2e1-4842-bbb1-b5be5dbc7125'), 'price': 50000, 'is_used': False, 'used_date': None}]>"
      ]
     },
     "execution_count": 45,
     "metadata": {},
     "output_type": "execute_result"
    }
   ],
   "source": [
    "(GiftCoupon.objects\n",
    "        .filter(usergiftcoupon__is_owner=True).filter(usergiftcoupon__user = user)\n",
    "        .filter(is_used=False)\n",
    "        .filter(expire_date__gte=datetime.datetime.now().date())\n",
    "        .values())"
   ]
  },
  {
   "cell_type": "code",
   "execution_count": 54,
   "metadata": {},
   "outputs": [
    {
     "name": "stderr",
     "output_type": "stream",
     "text": [
      "(0.001) SELECT \"coupon_giftcoupon\".\"id\", \"coupon_giftcoupon\".\"created_time\", \"coupon_giftcoupon\".\"updated_time\", \"coupon_giftcoupon\".\"sender_id\", \"coupon_giftcoupon\".\"sender_msg\", \"coupon_giftcoupon\".\"receiver_name\", \"coupon_giftcoupon\".\"receiver_phone\", \"coupon_giftcoupon\".\"receiver_email\", \"coupon_giftcoupon\".\"expire_date\", \"coupon_giftcoupon\".\"coupon_code\", \"coupon_giftcoupon\".\"price\", \"coupon_giftcoupon\".\"is_used\", \"coupon_giftcoupon\".\"used_date\" FROM \"coupon_giftcoupon\" LEFT OUTER JOIN \"coupon_usergiftcoupon\" ON (\"coupon_giftcoupon\".\"id\" = \"coupon_usergiftcoupon\".\"gift_coupon_id\") WHERE (\"coupon_giftcoupon\".\"sender_id\" = 12 OR \"coupon_usergiftcoupon\".\"prior_user_id\" = 12) ORDER BY \"coupon_usergiftcoupon\".\"id\" DESC  LIMIT 21; args=(12, 12)\n"
     ]
    },
    {
     "data": {
      "text/plain": [
       "<QuerySet []>"
      ]
     },
     "execution_count": 54,
     "metadata": {},
     "output_type": "execute_result"
    }
   ],
   "source": [
    "GiftCoupon.objects.filter(Q(sender=user) | Q(usergiftcoupon__prior_user=user)).\\\n",
    "order_by('-created_time').\\\n",
    "order_by('-usergiftcoupon')"
   ]
  },
  {
   "cell_type": "code",
   "execution_count": 55,
   "metadata": {},
   "outputs": [
    {
     "ename": "SyntaxError",
     "evalue": "invalid syntax (<ipython-input-55-17d484efbf3c>, line 1)",
     "output_type": "error",
     "traceback": [
      "\u001b[0;36m  File \u001b[0;32m\"<ipython-input-55-17d484efbf3c>\"\u001b[0;36m, line \u001b[0;32m1\u001b[0m\n\u001b[0;31m    SELECT \"coupon_usergiftcoupon\".\"id\", \"coupon_usergiftcoupon\".\"created_time\", \"coupon_usergiftcoupon\".\"updated_time\", \"coupon_usergiftcoupon\".\"gift_coupon_id\", \"coupon_usergiftcoupon\".\"user_id\", \"coupon_usergiftcoupon\".\"prior_user_id\", \"coupon_usergiftcoupon\".\"is_owner\", \"coupon_usergiftcoupon\".\"is_registrant\", \"coupon_giftcoupon\".\"price\" AS \"price\", \"coupon_giftcoupon\".\"created_time\" AS \"create_date\", \"coupon_giftcoupon\".\"expire_date\" AS \"expire_date\", \"coupon_usergiftcoupon\".\"gift_coupon_id\" AS \"coupon_id\", \"coupon_giftcoupon\".\"coupon_code\" AS \"coupon_code\", T4.\"username\" AS \"prior_username\"\u001b[0m\n\u001b[0m                                 ^\u001b[0m\n\u001b[0;31mSyntaxError\u001b[0m\u001b[0;31m:\u001b[0m invalid syntax\n"
     ]
    }
   ],
   "source": [
    "SELECT \"coupon_usergiftcoupon\".\"id\", \"coupon_usergiftcoupon\".\"created_time\", \"coupon_usergiftcoupon\".\"updated_time\", \"coupon_usergiftcoupon\".\"gift_coupon_id\", \"coupon_usergiftcoupon\".\"user_id\", \"coupon_usergiftcoupon\".\"prior_user_id\", \"coupon_usergiftcoupon\".\"is_owner\", \"coupon_usergiftcoupon\".\"is_registrant\", \"coupon_giftcoupon\".\"price\" AS \"price\", \"coupon_giftcoupon\".\"created_time\" AS \"create_date\", \"coupon_giftcoupon\".\"expire_date\" AS \"expire_date\", \"coupon_usergiftcoupon\".\"gift_coupon_id\" AS \"coupon_id\", \"coupon_giftcoupon\".\"coupon_code\" AS \"coupon_code\", T4.\"username\" AS \"prior_username\" \n",
    "FROM \"coupon_usergiftcoupon\" \n",
    "INNER JOIN \"coupon_giftcoupon\" \n",
    "ON (\"coupon_usergiftcoupon\".\"gift_coupon_id\" = \"coupon_giftcoupon\".\"id\") \n",
    "LEFT OUTER JOIN \"accounts_user\" T4 ON (\"coupon_usergiftcoupon\".\"prior_user_id\" = T4.\"id\") \n",
    "WHERE (\"coupon_usergiftcoupon\".\"user_id\" = 10 AND \"coupon_usergiftcoupon\".\"is_owner\" = true AND \"coupon_giftcoupon\".\"is_used\" = false AND \"coupon_giftcoupon\".\"expire_date\" >= '2019-05-23'::date); args=(10, True, "
   ]
  },
  {
   "cell_type": "code",
   "execution_count": 56,
   "metadata": {},
   "outputs": [
    {
     "name": "stderr",
     "output_type": "stream",
     "text": [
      "(0.001) SELECT \"accounts_user\".\"id\", \"accounts_user\".\"password\", \"accounts_user\".\"last_login\", \"accounts_user\".\"is_superuser\", \"accounts_user\".\"username\", \"accounts_user\".\"first_name\", \"accounts_user\".\"last_name\", \"accounts_user\".\"email\", \"accounts_user\".\"is_staff\", \"accounts_user\".\"is_active\", \"accounts_user\".\"date_joined\", \"accounts_user\".\"phone\", \"accounts_user\".\"address\", \"accounts_user\".\"address_detail\", \"accounts_user\".\"user_type\", \"accounts_user\".\"deactivate_date\" FROM \"accounts_user\" WHERE \"accounts_user\".\"username\" = 'sora.son'; args=('sora.son',)\n"
     ]
    }
   ],
   "source": [
    "user= User.objects.get(username='sora.son')\n",
    "received_coupons = (UserGiftCoupon.objects.select_related('gift_coupon')\n",
    "                    .filter(user=user).order_by('-created_time'))\n",
    "\n",
    "coupons_values = received_coupons.values(\n",
    "    'id', 'gift_coupon__id', 'gift_coupon__coupon_code', 'gift_coupon__is_used', 'is_owner',\n",
    "    'prior_user', 'prior_user__username', 'gift_coupon__sender__username', 'gift_coupon__expire_date',\n",
    "    'gift_coupon__price', 'gift_coupon__created_time', 'created_time',\n",
    "    )\n"
   ]
  },
  {
   "cell_type": "code",
   "execution_count": 59,
   "metadata": {},
   "outputs": [],
   "source": [
    "import datetime\n",
    "from datetime import datetime\n",
    "today=datetime.now()"
   ]
  },
  {
   "cell_type": "code",
   "execution_count": 62,
   "metadata": {},
   "outputs": [
    {
     "ename": "TypeError",
     "evalue": "can't compare datetime.datetime to datetime.date",
     "output_type": "error",
     "traceback": [
      "\u001b[0;31m---------------------------------------------------------------------------\u001b[0m",
      "\u001b[0;31mTypeError\u001b[0m                                 Traceback (most recent call last)",
      "\u001b[0;32m<ipython-input-62-4955793f3f37>\u001b[0m in \u001b[0;36m<module>\u001b[0;34m\u001b[0m\n\u001b[1;32m      4\u001b[0m     \u001b[0mis_used\u001b[0m \u001b[0;34m=\u001b[0m \u001b[0mcoupon\u001b[0m\u001b[0;34m[\u001b[0m\u001b[0;34m'gift_coupon__is_used'\u001b[0m\u001b[0;34m]\u001b[0m\u001b[0;34m\u001b[0m\u001b[0;34m\u001b[0m\u001b[0m\n\u001b[1;32m      5\u001b[0m \u001b[0;34m\u001b[0m\u001b[0m\n\u001b[0;32m----> 6\u001b[0;31m     \u001b[0;32mif\u001b[0m \u001b[0mtoday\u001b[0m \u001b[0;34m<=\u001b[0m \u001b[0mexpire_date\u001b[0m\u001b[0;34m:\u001b[0m\u001b[0;34m\u001b[0m\u001b[0;34m\u001b[0m\u001b[0m\n\u001b[0m\u001b[1;32m      7\u001b[0m         \u001b[0mis_expired\u001b[0m \u001b[0;34m=\u001b[0m \u001b[0;32mFalse\u001b[0m\u001b[0;34m\u001b[0m\u001b[0;34m\u001b[0m\u001b[0m\n",
      "\u001b[0;31mTypeError\u001b[0m: can't compare datetime.datetime to datetime.date"
     ]
    }
   ],
   "source": [
    "for coupon in coupons_values:\n",
    "\n",
    "    expire_date = coupon['gift_coupon__expire_date']\n",
    "    is_used = coupon['gift_coupon__is_used']\n",
    "\n",
    "    if today <= expire_date:\n",
    "        is_expired = False"
   ]
  },
  {
   "cell_type": "code",
   "execution_count": 63,
   "metadata": {},
   "outputs": [
    {
     "ename": "SyntaxError",
     "evalue": "invalid syntax (<ipython-input-63-27fb5b6a152e>, line 1)",
     "output_type": "error",
     "traceback": [
      "\u001b[0;36m  File \u001b[0;32m\"<ipython-input-63-27fb5b6a152e>\"\u001b[0;36m, line \u001b[0;32m1\u001b[0m\n\u001b[0;31m    SELECT \"restaurant_restaurant\".\"id\", \"restaurant_restaurant\".\"created_time\", \"restaurant_restaurant\".\"updated_time\", \"restaurant_restaurant\".\"name\", \"restaurant_restaurant\".\"owner\", \"restaurant_restaurant\".\"title\", \"restaurant_restaurant\".\"img\", \"restaurant_restaurant\".\"tel\", \"restaurant_restaurant\".\"min_order_price\", \"restaurant_restaurant\".\"order_way\", \"restaurant_restaurant\".\"origin\", \"restaurant_restaurant\".\"delivery_charge\", \"restaurant_restaurant\".\"info\", \"restaurant_restaurant\".\"type\", \"restaurant_restaurant\".\"estimated_delivery_time\", \"restaurant_restaurant\".\"operation_start_hour\", \"restaurant_restaurant\".\"operation_end_hour\"\u001b[0m\n\u001b[0m                                 ^\u001b[0m\n\u001b[0;31mSyntaxError\u001b[0m\u001b[0;31m:\u001b[0m invalid syntax\n"
     ]
    }
   ],
   "source": [
    "SELECT \"restaurant_restaurant\".\"id\", \"restaurant_restaurant\".\"created_time\", \"restaurant_restaurant\".\"updated_time\", \"restaurant_restaurant\".\"name\", \"restaurant_restaurant\".\"owner\", \"restaurant_restaurant\".\"title\", \"restaurant_restaurant\".\"img\", \"restaurant_restaurant\".\"tel\", \"restaurant_restaurant\".\"min_order_price\", \"restaurant_restaurant\".\"order_way\", \"restaurant_restaurant\".\"origin\", \"restaurant_restaurant\".\"delivery_charge\", \"restaurant_restaurant\".\"info\", \"restaurant_restaurant\".\"type\", \"restaurant_restaurant\".\"estimated_delivery_time\", \"restaurant_restaurant\".\"operation_start_hour\", \"restaurant_restaurant\".\"operation_end_hour\" \n",
    "FROM \"restaurant_restaurant\" \n",
    "INNER JOIN \"accounts_user_restaurant\" \n",
    "ON (\"restaurant_restaurant\".\"id\" = \"accounts_user_restaurant\".\"restaurant_id\") \n",
    "WHERE (\"accounts_user_restaurant\".\"user_id\" = 10 AND \"restaurant_restaurant\".\"id\" = 1); args=(10, 1)\n"
   ]
  },
  {
   "cell_type": "code",
   "execution_count": 1,
   "metadata": {},
   "outputs": [
    {
     "name": "stderr",
     "output_type": "stream",
     "text": [
      "(0.002) SELECT \"accounts_user\".\"id\", \"accounts_user\".\"password\", \"accounts_user\".\"last_login\", \"accounts_user\".\"is_superuser\", \"accounts_user\".\"username\", \"accounts_user\".\"first_name\", \"accounts_user\".\"last_name\", \"accounts_user\".\"email\", \"accounts_user\".\"is_staff\", \"accounts_user\".\"is_active\", \"accounts_user\".\"date_joined\", \"accounts_user\".\"phone\", \"accounts_user\".\"address\", \"accounts_user\".\"address_detail\", \"accounts_user\".\"user_type\", \"accounts_user\".\"deactivate_date\" FROM \"accounts_user\" WHERE \"accounts_user\".\"username\" = 'sora.son'; args=('sora.son',)\n",
      "(0.014) SELECT \"restaurant_restaurant\".\"id\", \"restaurant_restaurant\".\"created_time\", \"restaurant_restaurant\".\"updated_time\", \"restaurant_restaurant\".\"name\", \"restaurant_restaurant\".\"owner\", \"restaurant_restaurant\".\"title\", \"restaurant_restaurant\".\"img\", \"restaurant_restaurant\".\"tel\", \"restaurant_restaurant\".\"min_order_price\", \"restaurant_restaurant\".\"order_way\", \"restaurant_restaurant\".\"origin\", \"restaurant_restaurant\".\"delivery_charge\", \"restaurant_restaurant\".\"info\", \"restaurant_restaurant\".\"type\", \"restaurant_restaurant\".\"estimated_delivery_time\", \"restaurant_restaurant\".\"operation_start_hour\", \"restaurant_restaurant\".\"operation_end_hour\" FROM \"restaurant_restaurant\" INNER JOIN \"accounts_user_subscribed_restaurants\" ON (\"restaurant_restaurant\".\"id\" = \"accounts_user_subscribed_restaurants\".\"restaurant_id\") WHERE (\"accounts_user_subscribed_restaurants\".\"user_id\" = 10 AND \"restaurant_restaurant\".\"id\" = 1)  LIMIT 21; args=(10, 1)\n"
     ]
    },
    {
     "data": {
      "text/plain": [
       "<QuerySet []>"
      ]
     },
     "execution_count": 1,
     "metadata": {},
     "output_type": "execute_result"
    }
   ],
   "source": [
    "user = User.objects.get(username='sora.son')\n",
    "user.subscribed_restaurants.filter(pk=1)"
   ]
  },
  {
   "cell_type": "code",
   "execution_count": 3,
   "metadata": {},
   "outputs": [
    {
     "name": "stderr",
     "output_type": "stream",
     "text": [
      "(0.001) SELECT \"restaurant_restaurant\".\"id\", \"restaurant_restaurant\".\"created_time\", \"restaurant_restaurant\".\"updated_time\", \"restaurant_restaurant\".\"name\", \"restaurant_restaurant\".\"owner\", \"restaurant_restaurant\".\"title\", \"restaurant_restaurant\".\"img\", \"restaurant_restaurant\".\"tel\", \"restaurant_restaurant\".\"min_order_price\", \"restaurant_restaurant\".\"order_way\", \"restaurant_restaurant\".\"origin\", \"restaurant_restaurant\".\"delivery_charge\", \"restaurant_restaurant\".\"info\", \"restaurant_restaurant\".\"type\", \"restaurant_restaurant\".\"estimated_delivery_time\", \"restaurant_restaurant\".\"operation_start_hour\", \"restaurant_restaurant\".\"operation_end_hour\" FROM \"restaurant_restaurant\" INNER JOIN \"accounts_user_subscribed_restaurants\" ON (\"restaurant_restaurant\".\"id\" = \"accounts_user_subscribed_restaurants\".\"restaurant_id\") WHERE (\"accounts_user_subscribed_restaurants\".\"user_id\" = 10 AND \"restaurant_restaurant\".\"id\" = 1); args=(10, 1)\n"
     ]
    },
    {
     "name": "stdout",
     "output_type": "stream",
     "text": [
      "True\n"
     ]
    }
   ],
   "source": [
    "if user.subscribed_restaurants.filter(pk=1):\n",
    "    subscribe_flag = False\n",
    "    print(subscribe_flag)\n",
    "else:\n",
    "    subscribe_flag = True\n",
    "    print(subscribe_flag)"
   ]
  },
  {
   "cell_type": "code",
   "execution_count": 10,
   "metadata": {},
   "outputs": [
    {
     "name": "stderr",
     "output_type": "stream",
     "text": [
      "(0.001) SELECT \"accounts_user\".\"id\", \"accounts_user\".\"password\", \"accounts_user\".\"last_login\", \"accounts_user\".\"is_superuser\", \"accounts_user\".\"username\", \"accounts_user\".\"first_name\", \"accounts_user\".\"last_name\", \"accounts_user\".\"email\", \"accounts_user\".\"is_staff\", \"accounts_user\".\"is_active\", \"accounts_user\".\"date_joined\", \"accounts_user\".\"phone\", \"accounts_user\".\"address\", \"accounts_user\".\"address_detail\", \"accounts_user\".\"user_type\", \"accounts_user\".\"deactivate_date\" FROM \"accounts_user\" WHERE \"accounts_user\".\"username\" = 'sora.son'; args=('sora.son',)\n"
     ]
    }
   ],
   "source": [
    "\n",
    "registered_coupon_id =17\n",
    "gift_coupon = GiftCoupon.objects.filter(\n",
    "    is_used=False,\n",
    "    usergiftcoupon=registered_coupon_id,\n",
    "    usergiftcoupon__is_owner=True,\n",
    "    usergiftcoupon__user=user\n",
    ")"
   ]
  },
  {
   "cell_type": "code",
   "execution_count": 20,
   "metadata": {},
   "outputs": [
    {
     "name": "stderr",
     "output_type": "stream",
     "text": [
      "(0.001) SELECT \"coupon_giftcoupon\".\"id\", \"coupon_giftcoupon\".\"created_time\", \"coupon_giftcoupon\".\"updated_time\", \"coupon_giftcoupon\".\"sender_id\", \"coupon_giftcoupon\".\"sender_msg\", \"coupon_giftcoupon\".\"receiver_name\", \"coupon_giftcoupon\".\"receiver_phone\", \"coupon_giftcoupon\".\"receiver_email\", \"coupon_giftcoupon\".\"expire_date\", \"coupon_giftcoupon\".\"coupon_code\", \"coupon_giftcoupon\".\"price\", \"coupon_giftcoupon\".\"is_used\", \"coupon_giftcoupon\".\"used_date\" FROM \"coupon_giftcoupon\" INNER JOIN \"coupon_usergiftcoupon\" ON (\"coupon_giftcoupon\".\"id\" = \"coupon_usergiftcoupon\".\"gift_coupon_id\") WHERE (\"coupon_giftcoupon\".\"is_used\" = false AND \"coupon_usergiftcoupon\".\"id\" = 17 AND \"coupon_usergiftcoupon\".\"is_owner\" = true AND \"coupon_usergiftcoupon\".\"user_id\" = 10)  LIMIT 1; args=(False, 17, True, 10)\n"
     ]
    },
    {
     "data": {
      "text/plain": [
       "10000"
      ]
     },
     "execution_count": 20,
     "metadata": {},
     "output_type": "execute_result"
    }
   ],
   "source": [
    "user\n",
    "gift_coupon[0].price"
   ]
  },
  {
   "cell_type": "code",
   "execution_count": 14,
   "metadata": {},
   "outputs": [
    {
     "name": "stderr",
     "output_type": "stream",
     "text": [
      "(0.002) UPDATE \"coupon_giftcoupon\" SET \"is_used\" = true WHERE \"coupon_giftcoupon\".\"id\" IN (SELECT U0.\"id\" FROM \"coupon_giftcoupon\" U0 INNER JOIN \"coupon_usergiftcoupon\" U1 ON (U0.\"id\" = U1.\"gift_coupon_id\") WHERE (U0.\"is_used\" = false AND U1.\"id\" = 17 AND U1.\"is_owner\" = true AND U1.\"user_id\" = 10)); args=(True, False, 17, True, 10)\n"
     ]
    },
    {
     "data": {
      "text/plain": [
       "1"
      ]
     },
     "execution_count": 14,
     "metadata": {},
     "output_type": "execute_result"
    }
   ],
   "source": [
    "gift_coupon.update(is_used = True)"
   ]
  },
  {
   "cell_type": "code",
   "execution_count": 15,
   "metadata": {},
   "outputs": [
    {
     "ename": "AttributeError",
     "evalue": "'QuerySet' object has no attribute 'price'",
     "output_type": "error",
     "traceback": [
      "\u001b[0;31m---------------------------------------------------------------------------\u001b[0m",
      "\u001b[0;31mAttributeError\u001b[0m                            Traceback (most recent call last)",
      "\u001b[0;32m<ipython-input-15-7b677bf5c918>\u001b[0m in \u001b[0;36m<module>\u001b[0;34m\u001b[0m\n\u001b[0;32m----> 1\u001b[0;31m \u001b[0mgift_coupon\u001b[0m\u001b[0;34m.\u001b[0m\u001b[0mprice\u001b[0m\u001b[0;34m\u001b[0m\u001b[0;34m\u001b[0m\u001b[0m\n\u001b[0m",
      "\u001b[0;31mAttributeError\u001b[0m: 'QuerySet' object has no attribute 'price'"
     ]
    }
   ],
   "source": [
    "gift_coupon.price\n"
   ]
  },
  {
   "cell_type": "code",
   "execution_count": 28,
   "metadata": {},
   "outputs": [
    {
     "name": "stderr",
     "output_type": "stream",
     "text": [
      "(0.001) SELECT \"accounts_user\".\"id\", \"accounts_user\".\"password\", \"accounts_user\".\"last_login\", \"accounts_user\".\"is_superuser\", \"accounts_user\".\"username\", \"accounts_user\".\"first_name\", \"accounts_user\".\"last_name\", \"accounts_user\".\"email\", \"accounts_user\".\"is_staff\", \"accounts_user\".\"is_active\", \"accounts_user\".\"date_joined\", \"accounts_user\".\"phone\", \"accounts_user\".\"address\", \"accounts_user\".\"address_detail\", \"accounts_user\".\"user_type\", \"accounts_user\".\"deactivate_date\" FROM \"accounts_user\" WHERE \"accounts_user\".\"username\" = 'sora.son'; args=('sora.son',)\n",
      "(0.001) SELECT \"coupon_giftcoupon\".\"id\", \"coupon_giftcoupon\".\"created_time\", \"coupon_giftcoupon\".\"updated_time\", \"coupon_giftcoupon\".\"sender_id\", \"coupon_giftcoupon\".\"sender_msg\", \"coupon_giftcoupon\".\"receiver_name\", \"coupon_giftcoupon\".\"receiver_phone\", \"coupon_giftcoupon\".\"receiver_email\", \"coupon_giftcoupon\".\"expire_date\", \"coupon_giftcoupon\".\"coupon_code\", \"coupon_giftcoupon\".\"price\", \"coupon_giftcoupon\".\"is_used\", \"coupon_giftcoupon\".\"used_date\" FROM \"coupon_giftcoupon\" WHERE (\"coupon_giftcoupon\".\"sender_id\" = 10 AND \"coupon_giftcoupon\".\"id\" = 10)  LIMIT 1; args=(10, 10)\n"
     ]
    }
   ],
   "source": [
    "user = User.objects.get(username='sora.son')\n",
    "coupon_code = (GiftCoupon.objects\n",
    "                .filter(sender=user)\n",
    "                .filter(pk=10)[0].coupon_code)"
   ]
  },
  {
   "cell_type": "code",
   "execution_count": 31,
   "metadata": {},
   "outputs": [
    {
     "name": "stderr",
     "output_type": "stream",
     "text": [
      "(0.001) SELECT \"coupon_giftcoupon\".\"id\", \"coupon_giftcoupon\".\"created_time\", \"coupon_giftcoupon\".\"updated_time\", \"coupon_giftcoupon\".\"sender_id\", \"coupon_giftcoupon\".\"sender_msg\", \"coupon_giftcoupon\".\"receiver_name\", \"coupon_giftcoupon\".\"receiver_phone\", \"coupon_giftcoupon\".\"receiver_email\", \"coupon_giftcoupon\".\"expire_date\", \"coupon_giftcoupon\".\"coupon_code\", \"coupon_giftcoupon\".\"price\", \"coupon_giftcoupon\".\"is_used\", \"coupon_giftcoupon\".\"used_date\" FROM \"coupon_giftcoupon\" INNER JOIN \"coupon_usergiftcoupon\" ON (\"coupon_giftcoupon\".\"id\" = \"coupon_usergiftcoupon\".\"gift_coupon_id\") WHERE (\"coupon_giftcoupon\".\"coupon_code\" = '058036c2-91dc-461e-b0c9-54625478ef1d'::uuid AND \"coupon_usergiftcoupon\".\"is_owner\" = true AND \"coupon_usergiftcoupon\".\"user_id\" = 10); args=(UUID('058036c2-91dc-461e-b0c9-54625478ef1d'), True, 10)\n"
     ]
    }
   ],
   "source": [
    "\n",
    "gift_coupon=(GiftCoupon.objects\n",
    ".get(\n",
    "    usergiftcoupon__is_owner=True,\n",
    "    usergiftcoupon__user=user,\n",
    "    coupon_code=coupon_code))"
   ]
  },
  {
   "cell_type": "code",
   "execution_count": 32,
   "metadata": {},
   "outputs": [
    {
     "data": {
      "text/plain": [
       "10"
      ]
     },
     "execution_count": 32,
     "metadata": {},
     "output_type": "execute_result"
    }
   ],
   "source": [
    "gift_coupon.id"
   ]
  },
  {
   "cell_type": "code",
   "execution_count": 33,
   "metadata": {},
   "outputs": [],
   "source": [
    "def register_coupon():\n",
    "    gift_coupon=(GiftCoupon.objects\n",
    "    .get(\n",
    "        usergiftcoupon__is_owner=True,\n",
    "        usergiftcoupon__user=user,\n",
    "        coupon_code=coupon_code))\n",
    "    return gift_coupon"
   ]
  },
  {
   "cell_type": "code",
   "execution_count": 35,
   "metadata": {},
   "outputs": [
    {
     "name": "stderr",
     "output_type": "stream",
     "text": [
      "(0.001) SELECT \"coupon_giftcoupon\".\"id\", \"coupon_giftcoupon\".\"created_time\", \"coupon_giftcoupon\".\"updated_time\", \"coupon_giftcoupon\".\"sender_id\", \"coupon_giftcoupon\".\"sender_msg\", \"coupon_giftcoupon\".\"receiver_name\", \"coupon_giftcoupon\".\"receiver_phone\", \"coupon_giftcoupon\".\"receiver_email\", \"coupon_giftcoupon\".\"expire_date\", \"coupon_giftcoupon\".\"coupon_code\", \"coupon_giftcoupon\".\"price\", \"coupon_giftcoupon\".\"is_used\", \"coupon_giftcoupon\".\"used_date\" FROM \"coupon_giftcoupon\" INNER JOIN \"coupon_usergiftcoupon\" ON (\"coupon_giftcoupon\".\"id\" = \"coupon_usergiftcoupon\".\"gift_coupon_id\") WHERE (\"coupon_giftcoupon\".\"coupon_code\" = '058036c2-91dc-461e-b0c9-54625478ef1d'::uuid AND \"coupon_usergiftcoupon\".\"is_owner\" = true AND \"coupon_usergiftcoupon\".\"user_id\" = 10); args=(UUID('058036c2-91dc-461e-b0c9-54625478ef1d'), True, 10)\n"
     ]
    }
   ],
   "source": [
    "gift_coupon=register_coupon()"
   ]
  },
  {
   "cell_type": "code",
   "execution_count": 36,
   "metadata": {},
   "outputs": [
    {
     "data": {
      "text/plain": [
       "10"
      ]
     },
     "execution_count": 36,
     "metadata": {},
     "output_type": "execute_result"
    }
   ],
   "source": [
    "gift_coupon.id"
   ]
  },
  {
   "cell_type": "code",
   "execution_count": 37,
   "metadata": {},
   "outputs": [
    {
     "name": "stderr",
     "output_type": "stream",
     "text": [
      "(0.001) SELECT \"restaurant_restaurant\".\"id\", \"restaurant_restaurant\".\"created_time\", \"restaurant_restaurant\".\"updated_time\", \"restaurant_restaurant\".\"name\", \"restaurant_restaurant\".\"owner\", \"restaurant_restaurant\".\"title\", \"restaurant_restaurant\".\"img\", \"restaurant_restaurant\".\"tel\", \"restaurant_restaurant\".\"min_order_price\", \"restaurant_restaurant\".\"order_way\", \"restaurant_restaurant\".\"origin\", \"restaurant_restaurant\".\"delivery_charge\", \"restaurant_restaurant\".\"info\", \"restaurant_restaurant\".\"type\", \"restaurant_restaurant\".\"estimated_delivery_time\", \"restaurant_restaurant\".\"operation_start_hour\", \"restaurant_restaurant\".\"operation_end_hour\" FROM \"restaurant_restaurant\" INNER JOIN \"accounts_user_subscribed_restaurants\" ON (\"restaurant_restaurant\".\"id\" = \"accounts_user_subscribed_restaurants\".\"restaurant_id\") WHERE \"accounts_user_subscribed_restaurants\".\"user_id\" IN (10)  LIMIT 21; args=(10,)\n"
     ]
    },
    {
     "data": {
      "text/plain": [
       "<QuerySet []>"
      ]
     },
     "execution_count": 37,
     "metadata": {},
     "output_type": "execute_result"
    }
   ],
   "source": [
    "Restaurant.objects.filter(subscribers__in=[user])"
   ]
  },
  {
   "cell_type": "code",
   "execution_count": 38,
   "metadata": {},
   "outputs": [
    {
     "name": "stderr",
     "output_type": "stream",
     "text": [
      "(0.001) SELECT \"restaurant_restaurant\".\"id\", \"restaurant_restaurant\".\"created_time\", \"restaurant_restaurant\".\"updated_time\", \"restaurant_restaurant\".\"name\", \"restaurant_restaurant\".\"owner\", \"restaurant_restaurant\".\"title\", \"restaurant_restaurant\".\"img\", \"restaurant_restaurant\".\"tel\", \"restaurant_restaurant\".\"min_order_price\", \"restaurant_restaurant\".\"order_way\", \"restaurant_restaurant\".\"origin\", \"restaurant_restaurant\".\"delivery_charge\", \"restaurant_restaurant\".\"info\", \"restaurant_restaurant\".\"type\", \"restaurant_restaurant\".\"estimated_delivery_time\", \"restaurant_restaurant\".\"operation_start_hour\", \"restaurant_restaurant\".\"operation_end_hour\" FROM \"restaurant_restaurant\" INNER JOIN \"accounts_user_subscribed_restaurants\" ON (\"restaurant_restaurant\".\"id\" = \"accounts_user_subscribed_restaurants\".\"restaurant_id\") WHERE \"accounts_user_subscribed_restaurants\".\"user_id\" = 10  LIMIT 21; args=(10,)\n"
     ]
    },
    {
     "data": {
      "text/plain": [
       "<QuerySet []>"
      ]
     },
     "execution_count": 38,
     "metadata": {},
     "output_type": "execute_result"
    }
   ],
   "source": [
    "user.subscribed_restaurants.all()"
   ]
  },
  {
   "cell_type": "code",
   "execution_count": 11,
   "metadata": {},
   "outputs": [
    {
     "name": "stderr",
     "output_type": "stream",
     "text": [
      "(0.001) SELECT \"accounts_user\".\"id\", \"accounts_user\".\"password\", \"accounts_user\".\"last_login\", \"accounts_user\".\"is_superuser\", \"accounts_user\".\"username\", \"accounts_user\".\"first_name\", \"accounts_user\".\"last_name\", \"accounts_user\".\"email\", \"accounts_user\".\"is_staff\", \"accounts_user\".\"is_active\", \"accounts_user\".\"date_joined\", \"accounts_user\".\"phone\", \"accounts_user\".\"address\", \"accounts_user\".\"address_detail\", \"accounts_user\".\"user_type\", \"accounts_user\".\"deactivate_date\" FROM \"accounts_user\" WHERE \"accounts_user\".\"id\" = 12; args=(12,)\n"
     ]
    }
   ],
   "source": [
    "user = User.objects.get(id=12)\n",
    "registered_coupon = (UserGiftCoupon.objects.select_related('gift_coupon')\n",
    "                                 .filter(user=user)\n",
    "                                 .filter(is_checked=False)\n",
    "                                 .filter(is_owner=True).filter(gift_coupon__is_used=False))"
   ]
  },
  {
   "cell_type": "code",
   "execution_count": 7,
   "metadata": {},
   "outputs": [
    {
     "name": "stderr",
     "output_type": "stream",
     "text": [
      "(0.001) SELECT \"coupon_usergiftcoupon\".\"id\", \"coupon_usergiftcoupon\".\"created_time\", \"coupon_usergiftcoupon\".\"updated_time\", \"coupon_usergiftcoupon\".\"gift_coupon_id\", \"coupon_usergiftcoupon\".\"user_id\", \"coupon_usergiftcoupon\".\"prior_user_id\", \"coupon_usergiftcoupon\".\"is_owner\", \"coupon_usergiftcoupon\".\"is_registrant\", \"coupon_usergiftcoupon\".\"is_checked\", \"coupon_giftcoupon\".\"id\", \"coupon_giftcoupon\".\"created_time\", \"coupon_giftcoupon\".\"updated_time\", \"coupon_giftcoupon\".\"sender_id\", \"coupon_giftcoupon\".\"sender_msg\", \"coupon_giftcoupon\".\"receiver_name\", \"coupon_giftcoupon\".\"receiver_phone\", \"coupon_giftcoupon\".\"receiver_email\", \"coupon_giftcoupon\".\"expire_date\", \"coupon_giftcoupon\".\"coupon_code\", \"coupon_giftcoupon\".\"price\", \"coupon_giftcoupon\".\"is_used\", \"coupon_giftcoupon\".\"used_date\" FROM \"coupon_usergiftcoupon\" INNER JOIN \"coupon_giftcoupon\" ON (\"coupon_usergiftcoupon\".\"gift_coupon_id\" = \"coupon_giftcoupon\".\"id\") WHERE (\"coupon_usergiftcoupon\".\"user_id\" = 10 AND \"coupon_usergiftcoupon\".\"is_checked\" = false AND \"coupon_usergiftcoupon\".\"is_owner\" = true AND \"coupon_giftcoupon\".\"is_used\" = false)  LIMIT 21; args=(10, False, True, False)\n"
     ]
    },
    {
     "data": {
      "text/plain": [
       "<QuerySet [<UserGiftCoupon: e61c3d08-e2e1-4842-bbb1-b5be5dbc7125>, <UserGiftCoupon: 6383a462-2928-4447-b5dc-b7b2ee8925ab>, <UserGiftCoupon: 058036c2-91dc-461e-b0c9-54625478ef1d>]>"
      ]
     },
     "execution_count": 7,
     "metadata": {},
     "output_type": "execute_result"
    }
   ],
   "source": [
    "registered_coupon"
   ]
  },
  {
   "cell_type": "code",
   "execution_count": 20,
   "metadata": {},
   "outputs": [],
   "source": [
    "unchecked_handover_coupon_list = (\n",
    "    UserGiftCoupon.objects.select_related('gift_coupon')\n",
    "    .filter(\n",
    "        user=user,\n",
    "        is_checked=False,\n",
    "        is_owner=True,\n",
    "        is_registrant=False)\n",
    "\n",
    ")"
   ]
  },
  {
   "cell_type": "code",
   "execution_count": 21,
   "metadata": {},
   "outputs": [
    {
     "name": "stderr",
     "output_type": "stream",
     "text": [
      "(0.001) SELECT \"coupon_usergiftcoupon\".\"id\", \"coupon_usergiftcoupon\".\"created_time\", \"coupon_usergiftcoupon\".\"updated_time\", \"coupon_usergiftcoupon\".\"gift_coupon_id\", \"coupon_usergiftcoupon\".\"user_id\", \"coupon_usergiftcoupon\".\"prior_user_id\", \"coupon_usergiftcoupon\".\"is_owner\", \"coupon_usergiftcoupon\".\"is_registrant\", \"coupon_usergiftcoupon\".\"is_checked\", \"coupon_giftcoupon\".\"id\", \"coupon_giftcoupon\".\"created_time\", \"coupon_giftcoupon\".\"updated_time\", \"coupon_giftcoupon\".\"sender_id\", \"coupon_giftcoupon\".\"sender_msg\", \"coupon_giftcoupon\".\"receiver_name\", \"coupon_giftcoupon\".\"receiver_phone\", \"coupon_giftcoupon\".\"receiver_email\", \"coupon_giftcoupon\".\"expire_date\", \"coupon_giftcoupon\".\"coupon_code\", \"coupon_giftcoupon\".\"price\", \"coupon_giftcoupon\".\"is_used\", \"coupon_giftcoupon\".\"used_date\" FROM \"coupon_usergiftcoupon\" INNER JOIN \"coupon_giftcoupon\" ON (\"coupon_usergiftcoupon\".\"gift_coupon_id\" = \"coupon_giftcoupon\".\"id\") WHERE (\"coupon_usergiftcoupon\".\"is_checked\" = false AND \"coupon_usergiftcoupon\".\"is_owner\" = true AND \"coupon_usergiftcoupon\".\"is_registrant\" = false AND \"coupon_usergiftcoupon\".\"user_id\" = 12)  LIMIT 21; args=(False, True, False, 12)\n"
     ]
    },
    {
     "data": {
      "text/plain": [
       "<QuerySet [<UserGiftCoupon: 7e67d492-0578-48b8-a307-41c8a7bbbde0>]>"
      ]
     },
     "execution_count": 21,
     "metadata": {},
     "output_type": "execute_result"
    }
   ],
   "source": [
    "unchecked_handover_coupon_list"
   ]
  },
  {
   "cell_type": "code",
   "execution_count": 28,
   "metadata": {},
   "outputs": [
    {
     "name": "stderr",
     "output_type": "stream",
     "text": [
      "(0.001) SELECT \"accounts_user\".\"id\", \"accounts_user\".\"password\", \"accounts_user\".\"last_login\", \"accounts_user\".\"is_superuser\", \"accounts_user\".\"username\", \"accounts_user\".\"first_name\", \"accounts_user\".\"last_name\", \"accounts_user\".\"email\", \"accounts_user\".\"is_staff\", \"accounts_user\".\"is_active\", \"accounts_user\".\"date_joined\", \"accounts_user\".\"phone\", \"accounts_user\".\"address\", \"accounts_user\".\"address_detail\", \"accounts_user\".\"user_type\", \"accounts_user\".\"deactivate_date\" FROM \"accounts_user\" WHERE \"accounts_user\".\"id\" = 12; args=(12,)\n"
     ]
    }
   ],
   "source": [
    "user = User.objects.get(id=12)\n",
    "unchecked_handover_coupon = (\n",
    "            UserGiftCoupon.objects.select_related('gift_coupon')\n",
    "            .filter(\n",
    "                user=user,\n",
    "                is_checked=False,\n",
    "                is_owner=True,\n",
    "                is_registrant=False))"
   ]
  },
  {
   "cell_type": "code",
   "execution_count": 29,
   "metadata": {},
   "outputs": [
    {
     "name": "stderr",
     "output_type": "stream",
     "text": [
      "(0.001) SELECT \"coupon_usergiftcoupon\".\"id\", \"coupon_usergiftcoupon\".\"created_time\", \"coupon_usergiftcoupon\".\"updated_time\", \"coupon_usergiftcoupon\".\"gift_coupon_id\", \"coupon_usergiftcoupon\".\"user_id\", \"coupon_usergiftcoupon\".\"prior_user_id\", \"coupon_usergiftcoupon\".\"is_owner\", \"coupon_usergiftcoupon\".\"is_registrant\", \"coupon_usergiftcoupon\".\"is_checked\", \"coupon_giftcoupon\".\"id\", \"coupon_giftcoupon\".\"created_time\", \"coupon_giftcoupon\".\"updated_time\", \"coupon_giftcoupon\".\"sender_id\", \"coupon_giftcoupon\".\"sender_msg\", \"coupon_giftcoupon\".\"receiver_name\", \"coupon_giftcoupon\".\"receiver_phone\", \"coupon_giftcoupon\".\"receiver_email\", \"coupon_giftcoupon\".\"expire_date\", \"coupon_giftcoupon\".\"coupon_code\", \"coupon_giftcoupon\".\"price\", \"coupon_giftcoupon\".\"is_used\", \"coupon_giftcoupon\".\"used_date\" FROM \"coupon_usergiftcoupon\" INNER JOIN \"coupon_giftcoupon\" ON (\"coupon_usergiftcoupon\".\"gift_coupon_id\" = \"coupon_giftcoupon\".\"id\") WHERE (\"coupon_usergiftcoupon\".\"is_checked\" = false AND \"coupon_usergiftcoupon\".\"is_owner\" = true AND \"coupon_usergiftcoupon\".\"is_registrant\" = false AND \"coupon_usergiftcoupon\".\"user_id\" = 12); args=(False, True, False, 12)\n"
     ]
    },
    {
     "name": "stdout",
     "output_type": "stream",
     "text": [
      "없음\n"
     ]
    }
   ],
   "source": [
    "if not unchecked_handover_coupon:\n",
    "    print('없음')\n",
    "else:\n",
    "    unchecked_handover_coupon.update(is_checked=True)"
   ]
  },
  {
   "cell_type": "code",
   "execution_count": 31,
   "metadata": {},
   "outputs": [
    {
     "name": "stderr",
     "output_type": "stream",
     "text": [
      "(0.007) SELECT \"accounts_user\".\"id\", \"accounts_user\".\"password\", \"accounts_user\".\"last_login\", \"accounts_user\".\"is_superuser\", \"accounts_user\".\"username\", \"accounts_user\".\"first_name\", \"accounts_user\".\"last_name\", \"accounts_user\".\"email\", \"accounts_user\".\"is_staff\", \"accounts_user\".\"is_active\", \"accounts_user\".\"date_joined\", \"accounts_user\".\"phone\", \"accounts_user\".\"address\", \"accounts_user\".\"address_detail\", \"accounts_user\".\"user_type\", \"accounts_user\".\"deactivate_date\" FROM \"accounts_user\"  LIMIT 1; args=()\n"
     ]
    },
    {
     "ename": "AttributeError",
     "evalue": "'Manager' object has no attribute 'history_list'",
     "output_type": "error",
     "traceback": [
      "\u001b[0;31m---------------------------------------------------------------------------\u001b[0m",
      "\u001b[0;31mAttributeError\u001b[0m                            Traceback (most recent call last)",
      "\u001b[0;32m<ipython-input-31-ddeebb89b067>\u001b[0m in \u001b[0;36m<module>\u001b[0;34m\u001b[0m\n\u001b[1;32m      1\u001b[0m \u001b[0mlogged_in_user\u001b[0m \u001b[0;34m=\u001b[0m\u001b[0mUser\u001b[0m\u001b[0;34m.\u001b[0m\u001b[0mobjects\u001b[0m\u001b[0;34m.\u001b[0m\u001b[0mall\u001b[0m\u001b[0;34m(\u001b[0m\u001b[0;34m)\u001b[0m\u001b[0;34m[\u001b[0m\u001b[0;36m0\u001b[0m\u001b[0;34m]\u001b[0m\u001b[0;34m\u001b[0m\u001b[0;34m\u001b[0m\u001b[0m\n\u001b[0;32m----> 2\u001b[0;31m \u001b[0morder_history_list\u001b[0m \u001b[0;34m=\u001b[0m \u001b[0mlist\u001b[0m\u001b[0;34m(\u001b[0m\u001b[0mOrder\u001b[0m\u001b[0;34m.\u001b[0m\u001b[0mobjects\u001b[0m\u001b[0;34m.\u001b[0m\u001b[0mhistory_list\u001b[0m\u001b[0;34m(\u001b[0m\u001b[0mlogged_in_user\u001b[0m\u001b[0;34m)\u001b[0m\u001b[0;34m)\u001b[0m\u001b[0;34m\u001b[0m\u001b[0;34m\u001b[0m\u001b[0m\n\u001b[0m\u001b[1;32m      3\u001b[0m \u001b[0mcart_items_list\u001b[0m \u001b[0;34m=\u001b[0m \u001b[0mlist\u001b[0m\u001b[0;34m(\u001b[0m\u001b[0mCartItem\u001b[0m\u001b[0;34m.\u001b[0m\u001b[0mobjects\u001b[0m\u001b[0;34m.\u001b[0m\u001b[0mfiltering_user\u001b[0m\u001b[0;34m(\u001b[0m\u001b[0mlogged_in_user\u001b[0m\u001b[0;34m)\u001b[0m\u001b[0;34m)\u001b[0m\u001b[0;34m\u001b[0m\u001b[0;34m\u001b[0m\u001b[0m\n",
      "\u001b[0;31mAttributeError\u001b[0m: 'Manager' object has no attribute 'history_list'"
     ]
    }
   ],
   "source": [
    "logged_in_user =User.objects.all()[0]\n",
    "order_history_list = list(Order.objects.history_list(logged_in_user))\n",
    "cart_items_list = list(CartItem.objects.filtering_user(logged_in_user))"
   ]
  },
  {
   "cell_type": "code",
   "execution_count": 3,
   "metadata": {},
   "outputs": [
    {
     "name": "stderr",
     "output_type": "stream",
     "text": [
      "(0.002) SELECT \"cart_cartitem\".\"menu_id\", \"menu_menu\".\"img\", \"menu_menu\".\"name\" AS \"menu\", SUM(\"cart_cartitem\".\"quantity\") AS \"menu_quantity\" FROM \"cart_cartitem\" INNER JOIN \"cart_cart\" ON (\"cart_cartitem\".\"cart_id\" = \"cart_cart\".\"id\") LEFT OUTER JOIN \"order_order\" ON (\"cart_cart\".\"id\" = \"order_order\".\"cart_id\") INNER JOIN \"menu_menu\" ON (\"cart_cartitem\".\"menu_id\" = \"menu_menu\".\"id\") WHERE (\"order_order\".\"address\"::text LIKE '%서초1동%' AND EXTRACT('hour' FROM \"order_order\".\"created_time\" AT TIME ZONE 'Asia/Seoul') = 18 AND \"order_order\".\"delivery_status\" = 2) GROUP BY \"menu_menu\".\"name\", \"cart_cartitem\".\"menu_id\", \"menu_menu\".\"img\" ORDER BY \"menu_quantity\" DESC  LIMIT 1; args=('%서초1동%', 18, 2)\n"
     ]
    },
    {
     "data": {
      "text/plain": [
       "{'menu_id': 2,\n",
       " 'menu__img': 'menu/2019/05/01/갈비천왕.jpg',\n",
       " 'menu': '갈비천왕',\n",
       " 'menu_quantity': 67}"
      ]
     },
     "execution_count": 3,
     "metadata": {},
     "output_type": "execute_result"
    }
   ],
   "source": [
    "import enum\n",
    "class DeliveryStatus(enum.IntEnum):\n",
    "    WATING = 0\n",
    "    DELIVERING = 1\n",
    "    COMPLETE = 2\n",
    "from datetime import datetime\n",
    "today = datetime.now().date()\n",
    "one_hour = 1\n",
    "current_hour = datetime.now().hour\n",
    "created_hour = current_hour\n",
    "user_address = '서초1동'\n",
    "\n",
    "order = (\n",
    "    CartItem.objects\n",
    "        .select_related('cart', 'menu')\n",
    "        .values(\n",
    "        address=F('cart__order__address'),\n",
    "        delivery_completed=F('cart__order__delivery_status'),\n",
    "        created_time=F('cart__order__created_time'),\n",
    "    )\n",
    "        .filter(\n",
    "        address__contains=user_address,\n",
    "        delivery_completed=DeliveryStatus.COMPLETE,\n",
    "        created_time__hour=created_hour,\n",
    "    )\n",
    "        .values(\n",
    "        'menu__name',\n",
    "    )\n",
    "        .annotate(\n",
    "        menu=F('menu__name'),\n",
    "        menu_quantity=Sum('quantity')\n",
    "    )\n",
    "        .values(\n",
    "        'menu',\n",
    "        'menu_quantity',\n",
    "        'menu_id',\n",
    "        'menu__img',\n",
    "    )\n",
    "        .order_by('-menu_quantity')[:1]\n",
    ")\n",
    "order\n",
    "order[0]  # check_order_for_except_or_not\n",
    "        "
   ]
  },
  {
   "cell_type": "code",
   "execution_count": 16,
   "metadata": {},
   "outputs": [
    {
     "name": "stderr",
     "output_type": "stream",
     "text": [
      "(0.001) SELECT \"restaurant_restaurant\".\"tel\", \"restaurant_restaurant\".\"min_order_price\", \"restaurant_restaurant\".\"order_way\", \"restaurant_restaurant\".\"origin\", \"restaurant_restaurant\".\"delivery_charge\", \"restaurant_restaurant\".\"info\", \"restaurant_restaurant\".\"event\", \"restaurant_restaurant\".\"event_img\", \"restaurant_restaurant\".\"operation_start_hour\", \"restaurant_restaurant\".\"operation_end_hour\" FROM \"restaurant_restaurant\" WHERE \"restaurant_restaurant\".\"id\" = 13; args=(13,)\n"
     ]
    },
    {
     "data": {
      "text/plain": [
       "{'tel': '1',\n",
       " 'min_order_price': 0,\n",
       " 'order_way': '1',\n",
       " 'origin': '12',\n",
       " 'delivery_charge': 0,\n",
       " 'info': '2',\n",
       " 'event': '3',\n",
       " 'event_img': '',\n",
       " 'operation_start_hour': datetime.time(19, 44, 2),\n",
       " 'operation_end_hour': datetime.time(19, 44, 3)}"
      ]
     },
     "execution_count": 16,
     "metadata": {},
     "output_type": "execute_result"
    }
   ],
   "source": [
    "from restaurant.models import Restaurant\n",
    "#list(Restaurant.objects.all().values())\n",
    "list(Restaurant.objects.filter(pk=13).values('tel', 'min_order_price', 'order_way', 'origin', 'delivery_charge', 'info',\n",
    "                                            'event', 'event_img', 'operation_start_hour', 'operation_end_hour'))[0]"
   ]
  },
  {
   "cell_type": "code",
   "execution_count": 18,
   "metadata": {},
   "outputs": [
    {
     "name": "stderr",
     "output_type": "stream",
     "text": [
      "(0.001) SELECT \"restaurant_restaurant\".\"id\", \"restaurant_restaurant\".\"created_time\", \"restaurant_restaurant\".\"updated_time\", \"restaurant_restaurant\".\"name\", \"restaurant_restaurant\".\"owner\", \"restaurant_restaurant\".\"title\", \"restaurant_restaurant\".\"img\", \"restaurant_restaurant\".\"tel\", \"restaurant_restaurant\".\"min_order_price\", \"restaurant_restaurant\".\"order_way\", \"restaurant_restaurant\".\"origin\", \"restaurant_restaurant\".\"delivery_charge\", \"restaurant_restaurant\".\"info\", \"restaurant_restaurant\".\"event\", \"restaurant_restaurant\".\"event_img\", \"restaurant_restaurant\".\"type\", \"restaurant_restaurant\".\"estimated_delivery_time\", \"restaurant_restaurant\".\"operation_start_hour\", \"restaurant_restaurant\".\"operation_end_hour\" FROM \"restaurant_restaurant\" WHERE \"restaurant_restaurant\".\"id\" = 13; args=(13,)\n"
     ]
    },
    {
     "data": {
      "text/plain": [
       "datetime.time(10, 44, 2)"
      ]
     },
     "execution_count": 18,
     "metadata": {},
     "output_type": "execute_result"
    }
   ],
   "source": [
    "prior_restaurant_obj = Restaurant.objects.filter(pk=13).values()\n",
    "prior_restaurant_dict = list(prior_restaurant_obj)[0]\n",
    "prior_restaurant_dict['operation_start_hour']"
   ]
  },
  {
   "cell_type": "code",
   "execution_count": 21,
   "metadata": {},
   "outputs": [
    {
     "ename": "TypeError",
     "evalue": "sequence item 0: expected str instance, datetime.time found",
     "output_type": "error",
     "traceback": [
      "\u001b[0;31m---------------------------------------------------------------------------\u001b[0m",
      "\u001b[0;31mTypeError\u001b[0m                                 Traceback (most recent call last)",
      "\u001b[0;32m<ipython-input-21-d550bbcfae2f>\u001b[0m in \u001b[0;36m<module>\u001b[0;34m\u001b[0m\n\u001b[0;32m----> 1\u001b[0;31m \u001b[0;34m'-'\u001b[0m\u001b[0;34m.\u001b[0m\u001b[0mjoin\u001b[0m\u001b[0;34m(\u001b[0m\u001b[0;34m[\u001b[0m\u001b[0mprior_restaurant_dict\u001b[0m\u001b[0;34m[\u001b[0m\u001b[0;34m'operation_start_hour'\u001b[0m\u001b[0;34m]\u001b[0m\u001b[0;34m,\u001b[0m \u001b[0mprior_restaurant_dict\u001b[0m\u001b[0;34m[\u001b[0m\u001b[0;34m'operation_end_hour'\u001b[0m\u001b[0;34m]\u001b[0m\u001b[0;34m]\u001b[0m\u001b[0;34m)\u001b[0m\u001b[0;34m\u001b[0m\u001b[0;34m\u001b[0m\u001b[0m\n\u001b[0m\u001b[1;32m      2\u001b[0m \u001b[0;34m\u001b[0m\u001b[0m\n",
      "\u001b[0;31mTypeError\u001b[0m: sequence item 0: expected str instance, datetime.time found"
     ]
    }
   ],
   "source": [
    "'-'.join([str(prior_restaurant_dict['operation_start_hour']), str(prior_restaurant_dict['operation_end_hour'])])\n",
    "           "
   ]
  },
  {
   "cell_type": "code",
   "execution_count": 38,
   "metadata": {},
   "outputs": [
    {
     "name": "stderr",
     "output_type": "stream",
     "text": [
      "(0.001) SELECT \"accounts_user\".\"id\", \"accounts_user\".\"password\", \"accounts_user\".\"last_login\", \"accounts_user\".\"is_superuser\", \"accounts_user\".\"username\", \"accounts_user\".\"first_name\", \"accounts_user\".\"last_name\", \"accounts_user\".\"email\", \"accounts_user\".\"is_staff\", \"accounts_user\".\"is_active\", \"accounts_user\".\"date_joined\", \"accounts_user\".\"phone\", \"accounts_user\".\"address\", \"accounts_user\".\"address_detail\", \"accounts_user\".\"user_type\", \"accounts_user\".\"deactivate_date\" FROM \"accounts_user\" WHERE \"accounts_user\".\"id\" = 10; args=(10,)\n"
     ]
    }
   ],
   "source": [
    "user=User.objects.get(pk=10)"
   ]
  },
  {
   "cell_type": "code",
   "execution_count": 42,
   "metadata": {},
   "outputs": [],
   "source": [
    "subscribed_restaurants_qs\n",
    "=user.subscribed_restaurants.all()"
   ]
  },
  {
   "cell_type": "code",
   "execution_count": 39,
   "metadata": {},
   "outputs": [
    {
     "data": {
      "text/plain": [
       "<User: sora.son>"
      ]
     },
     "execution_count": 39,
     "metadata": {},
     "output_type": "execute_result"
    }
   ],
   "source": [
    "subscribed_restaurants_qs"
   ]
  },
  {
   "cell_type": "code",
   "execution_count": 43,
   "metadata": {},
   "outputs": [],
   "source": [
    "from restaurant.models import RestaurantTimeline"
   ]
  },
  {
   "cell_type": "code",
   "execution_count": 46,
   "metadata": {},
   "outputs": [
    {
     "name": "stderr",
     "output_type": "stream",
     "text": [
      "(0.001) SELECT \"restaurant_restauranttimeline\".\"id\", \"restaurant_restauranttimeline\".\"created_time\", \"restaurant_restauranttimeline\".\"updated_time\", \"restaurant_restauranttimeline\".\"restaurant_id\", \"restaurant_restauranttimeline\".\"status\", \"restaurant_restauranttimeline\".\"changed_notice\", \"restaurant_restauranttimeline\".\"changed_img\", \"restaurant_restauranttimeline\".\"prior_info\", \"restaurant_restauranttimeline\".\"post_info\" FROM \"restaurant_restauranttimeline\"  LIMIT 21; args=()\n",
      "(0.001) SELECT \"restaurant_restaurant\".\"id\", \"restaurant_restaurant\".\"created_time\", \"restaurant_restaurant\".\"updated_time\", \"restaurant_restaurant\".\"name\", \"restaurant_restaurant\".\"owner\", \"restaurant_restaurant\".\"title\", \"restaurant_restaurant\".\"img\", \"restaurant_restaurant\".\"tel\", \"restaurant_restaurant\".\"min_order_price\", \"restaurant_restaurant\".\"order_way\", \"restaurant_restaurant\".\"origin\", \"restaurant_restaurant\".\"delivery_charge\", \"restaurant_restaurant\".\"info\", \"restaurant_restaurant\".\"event\", \"restaurant_restaurant\".\"event_img\", \"restaurant_restaurant\".\"type\", \"restaurant_restaurant\".\"estimated_delivery_time\", \"restaurant_restaurant\".\"operation_start_hour\", \"restaurant_restaurant\".\"operation_end_hour\" FROM \"restaurant_restaurant\" WHERE \"restaurant_restaurant\".\"id\" IN (12, 13); args=(12, 13)\n"
     ]
    },
    {
     "data": {
      "text/plain": [
       "<QuerySet [<RestaurantTimeline: RestaurantTimeline object (6)>, <RestaurantTimeline: RestaurantTimeline object (7)>, <RestaurantTimeline: RestaurantTimeline object (8)>, <RestaurantTimeline: RestaurantTimeline object (9)>, <RestaurantTimeline: RestaurantTimeline object (10)>, <RestaurantTimeline: RestaurantTimeline object (11)>, <RestaurantTimeline: RestaurantTimeline object (12)>, <RestaurantTimeline: RestaurantTimeline object (16)>, <RestaurantTimeline: RestaurantTimeline object (17)>, <RestaurantTimeline: RestaurantTimeline object (18)>, <RestaurantTimeline: RestaurantTimeline object (19)>, <RestaurantTimeline: RestaurantTimeline object (20)>, <RestaurantTimeline: RestaurantTimeline object (21)>, <RestaurantTimeline: RestaurantTimeline object (22)>, <RestaurantTimeline: RestaurantTimeline object (23)>, <RestaurantTimeline: RestaurantTimeline object (24)>, <RestaurantTimeline: RestaurantTimeline object (25)>, <RestaurantTimeline: RestaurantTimeline object (26)>]>"
      ]
     },
     "execution_count": 46,
     "metadata": {},
     "output_type": "execute_result"
    }
   ],
   "source": [
    "RestaurantTimeline.objects.prefetch_related('restaurant')\n"
   ]
  },
  {
   "cell_type": "code",
   "execution_count": 52,
   "metadata": {},
   "outputs": [
    {
     "name": "stderr",
     "output_type": "stream",
     "text": [
      "(0.001) SELECT \"restaurant_restauranttimeline\".\"id\", \"restaurant_restauranttimeline\".\"created_time\", \"restaurant_restauranttimeline\".\"updated_time\", \"restaurant_restauranttimeline\".\"restaurant_id\", \"restaurant_restauranttimeline\".\"status\", \"restaurant_restauranttimeline\".\"changed_notice\", \"restaurant_restauranttimeline\".\"changed_img\", \"restaurant_restauranttimeline\".\"prior_info\", \"restaurant_restauranttimeline\".\"post_info\" FROM \"restaurant_restauranttimeline\"; args=()\n"
     ]
    },
    {
     "data": {
      "text/plain": [
       "[{'id': 6,\n",
       "  'created_time': datetime.datetime(2019, 6, 3, 13, 11, 22, 286459, tzinfo=<UTC>),\n",
       "  'updated_time': datetime.datetime(2019, 6, 3, 13, 11, 22, 286485, tzinfo=<UTC>),\n",
       "  'restaurant_id': 13,\n",
       "  'status': 2,\n",
       "  'changed_notice': '이벤트',\n",
       "  'changed_img': 'restaurant/event/2019/06/03/후라이드치킨.jpeg',\n",
       "  'prior_info': '',\n",
       "  'post_info': 'event'},\n",
       " {'id': 7,\n",
       "  'created_time': datetime.datetime(2019, 6, 3, 13, 12, 22, 780121, tzinfo=<UTC>),\n",
       "  'updated_time': datetime.datetime(2019, 6, 3, 13, 12, 22, 780145, tzinfo=<UTC>),\n",
       "  'restaurant_id': 13,\n",
       "  'status': 2,\n",
       "  'changed_notice': '',\n",
       "  'changed_img': '',\n",
       "  'prior_info': '',\n",
       "  'post_info': '10:44:02-20:44:03'},\n",
       " {'id': 8,\n",
       "  'created_time': datetime.datetime(2019, 6, 3, 13, 13, 12, 259357, tzinfo=<UTC>),\n",
       "  'updated_time': datetime.datetime(2019, 6, 3, 13, 13, 12, 259414, tzinfo=<UTC>),\n",
       "  'restaurant_id': 13,\n",
       "  'status': 2,\n",
       "  'changed_notice': '',\n",
       "  'changed_img': '',\n",
       "  'prior_info': '',\n",
       "  'post_info': '08:44:02-12:44:03'},\n",
       " {'id': 9,\n",
       "  'created_time': datetime.datetime(2019, 6, 3, 13, 36, 51, 88156, tzinfo=<UTC>),\n",
       "  'updated_time': datetime.datetime(2019, 6, 3, 13, 36, 51, 88180, tzinfo=<UTC>),\n",
       "  'restaurant_id': 13,\n",
       "  'status': 2,\n",
       "  'changed_notice': '',\n",
       "  'changed_img': '',\n",
       "  'prior_info': '',\n",
       "  'post_info': '200'},\n",
       " {'id': 10,\n",
       "  'created_time': datetime.datetime(2019, 6, 3, 13, 43, 9, 907308, tzinfo=<UTC>),\n",
       "  'updated_time': datetime.datetime(2019, 6, 3, 13, 43, 9, 907329, tzinfo=<UTC>),\n",
       "  'restaurant_id': 13,\n",
       "  'status': 2,\n",
       "  'changed_notice': '',\n",
       "  'changed_img': '',\n",
       "  'prior_info': '',\n",
       "  'post_info': '10:44:02-23:44:03'},\n",
       " {'id': 11,\n",
       "  'created_time': datetime.datetime(2019, 6, 3, 13, 54, 33, 888155, tzinfo=<UTC>),\n",
       "  'updated_time': datetime.datetime(2019, 6, 3, 13, 54, 33, 888218, tzinfo=<UTC>),\n",
       "  'restaurant_id': 12,\n",
       "  'status': 2,\n",
       "  'changed_notice': '자장면 이벤트',\n",
       "  'changed_img': 'restaurant/event/2019/06/03/jjajangmyun.jpg',\n",
       "  'prior_info': '',\n",
       "  'post_info': ''},\n",
       " {'id': 12,\n",
       "  'created_time': datetime.datetime(2019, 6, 3, 13, 54, 33, 932213, tzinfo=<UTC>),\n",
       "  'updated_time': datetime.datetime(2019, 6, 3, 13, 54, 33, 932253, tzinfo=<UTC>),\n",
       "  'restaurant_id': 12,\n",
       "  'status': 2,\n",
       "  'changed_notice': '자장면 이벤트',\n",
       "  'changed_img': 'restaurant/event/2019/06/03/jjajangmyun.jpg',\n",
       "  'prior_info': '',\n",
       "  'post_info': ''},\n",
       " {'id': 16,\n",
       "  'created_time': datetime.datetime(2019, 6, 5, 1, 7, 21, 688755, tzinfo=<UTC>),\n",
       "  'updated_time': datetime.datetime(2019, 6, 5, 1, 7, 21, 688795, tzinfo=<UTC>),\n",
       "  'restaurant_id': 13,\n",
       "  'status': 2,\n",
       "  'changed_notice': '2',\n",
       "  'changed_img': 'restaurant/event/2019/06/03/후라이드치킨.jpeg',\n",
       "  'prior_info': '',\n",
       "  'post_info': ''},\n",
       " {'id': 17,\n",
       "  'created_time': datetime.datetime(2019, 6, 5, 1, 12, 44, 545813, tzinfo=<UTC>),\n",
       "  'updated_time': datetime.datetime(2019, 6, 5, 1, 12, 44, 545836, tzinfo=<UTC>),\n",
       "  'restaurant_id': 13,\n",
       "  'status': 2,\n",
       "  'changed_notice': '',\n",
       "  'changed_img': '',\n",
       "  'prior_info': '10:44:02-23:44:03',\n",
       "  'post_info': '10:44:02-14:44:03'},\n",
       " {'id': 18,\n",
       "  'created_time': datetime.datetime(2019, 6, 5, 1, 14, 10, 469094, tzinfo=<UTC>),\n",
       "  'updated_time': datetime.datetime(2019, 6, 5, 1, 14, 10, 469119, tzinfo=<UTC>),\n",
       "  'restaurant_id': 13,\n",
       "  'status': 2,\n",
       "  'changed_notice': '',\n",
       "  'changed_img': '',\n",
       "  'prior_info': '10:44:02-14:44:03',\n",
       "  'post_info': '09:44:02-15:44:03'},\n",
       " {'id': 19,\n",
       "  'created_time': datetime.datetime(2019, 6, 5, 1, 14, 10, 479816, tzinfo=<UTC>),\n",
       "  'updated_time': datetime.datetime(2019, 6, 5, 1, 14, 10, 479833, tzinfo=<UTC>),\n",
       "  'restaurant_id': 13,\n",
       "  'status': 2,\n",
       "  'changed_notice': '',\n",
       "  'changed_img': '',\n",
       "  'prior_info': '10:44:02-14:44:03',\n",
       "  'post_info': '09:44:02-15:44:03'},\n",
       " {'id': 20,\n",
       "  'created_time': datetime.datetime(2019, 6, 5, 1, 16, 55, 457207, tzinfo=<UTC>),\n",
       "  'updated_time': datetime.datetime(2019, 6, 5, 1, 16, 55, 457230, tzinfo=<UTC>),\n",
       "  'restaurant_id': 13,\n",
       "  'status': 2,\n",
       "  'changed_notice': '이벤트',\n",
       "  'changed_img': 'restaurant/event/2019/06/05/jjajangmyun.jpg',\n",
       "  'prior_info': '',\n",
       "  'post_info': ''},\n",
       " {'id': 21,\n",
       "  'created_time': datetime.datetime(2019, 6, 5, 1, 21, 6, 703477, tzinfo=<UTC>),\n",
       "  'updated_time': datetime.datetime(2019, 6, 5, 1, 21, 6, 703498, tzinfo=<UTC>),\n",
       "  'restaurant_id': 13,\n",
       "  'status': 2,\n",
       "  'changed_notice': '이벤트 test',\n",
       "  'changed_img': 'restaurant/event/2019/06/05/jjajangmyun.jpg',\n",
       "  'prior_info': '',\n",
       "  'post_info': ''},\n",
       " {'id': 22,\n",
       "  'created_time': datetime.datetime(2019, 6, 5, 1, 21, 46, 393571, tzinfo=<UTC>),\n",
       "  'updated_time': datetime.datetime(2019, 6, 5, 1, 21, 46, 393606, tzinfo=<UTC>),\n",
       "  'restaurant_id': 13,\n",
       "  'status': 2,\n",
       "  'changed_notice': '',\n",
       "  'changed_img': '',\n",
       "  'prior_info': '09:44:02-15:44:03',\n",
       "  'post_info': '09:44:02-16:44:03'},\n",
       " {'id': 23,\n",
       "  'created_time': datetime.datetime(2019, 6, 5, 1, 22, 4, 683479, tzinfo=<UTC>),\n",
       "  'updated_time': datetime.datetime(2019, 6, 5, 1, 22, 4, 683504, tzinfo=<UTC>),\n",
       "  'restaurant_id': 13,\n",
       "  'status': 2,\n",
       "  'changed_notice': '',\n",
       "  'changed_img': '',\n",
       "  'prior_info': '09:44:02-16:44:03',\n",
       "  'post_info': '08:44:02-16:44:03'},\n",
       " {'id': 24,\n",
       "  'created_time': datetime.datetime(2019, 6, 5, 1, 22, 25, 523994, tzinfo=<UTC>),\n",
       "  'updated_time': datetime.datetime(2019, 6, 5, 1, 22, 25, 524024, tzinfo=<UTC>),\n",
       "  'restaurant_id': 12,\n",
       "  'status': 2,\n",
       "  'changed_notice': '',\n",
       "  'changed_img': '',\n",
       "  'prior_info': '19:26:39-19:26:40',\n",
       "  'post_info': '10:26:39-20:26:40'},\n",
       " {'id': 25,\n",
       "  'created_time': datetime.datetime(2019, 6, 5, 1, 23, 30, 660417, tzinfo=<UTC>),\n",
       "  'updated_time': datetime.datetime(2019, 6, 5, 1, 23, 30, 660439, tzinfo=<UTC>),\n",
       "  'restaurant_id': 12,\n",
       "  'status': 2,\n",
       "  'changed_notice': '',\n",
       "  'changed_img': '',\n",
       "  'prior_info': '0',\n",
       "  'post_info': '100'},\n",
       " {'id': 26,\n",
       "  'created_time': datetime.datetime(2019, 6, 5, 3, 22, 15, 17085, tzinfo=<UTC>),\n",
       "  'updated_time': datetime.datetime(2019, 6, 5, 3, 22, 15, 17109, tzinfo=<UTC>),\n",
       "  'restaurant_id': 13,\n",
       "  'status': 2,\n",
       "  'changed_notice': '이벤트 test2',\n",
       "  'changed_img': 'restaurant/event/2019/06/05/양념치킨.png',\n",
       "  'prior_info': '',\n",
       "  'post_info': ''}]"
      ]
     },
     "execution_count": 52,
     "metadata": {},
     "output_type": "execute_result"
    }
   ],
   "source": [
    "list(RestaurantTimeline.objects.select_related('restaurant').all().values())"
   ]
  },
  {
   "cell_type": "code",
   "execution_count": 73,
   "metadata": {},
   "outputs": [
    {
     "ename": "KeyError",
     "evalue": "'1'",
     "output_type": "error",
     "traceback": [
      "\u001b[0;31m---------------------------------------------------------------------------\u001b[0m",
      "\u001b[0;31mKeyError\u001b[0m                                  Traceback (most recent call last)",
      "\u001b[0;32m<ipython-input-73-66b7ebb1eee7>\u001b[0m in \u001b[0;36m<module>\u001b[0;34m\u001b[0m\n\u001b[1;32m      1\u001b[0m \u001b[0;32mfrom\u001b[0m \u001b[0mtimeline\u001b[0m\u001b[0;34m.\u001b[0m\u001b[0mmodels\u001b[0m \u001b[0;32mimport\u001b[0m \u001b[0mTYPE_CHOICES\u001b[0m\u001b[0;34m\u001b[0m\u001b[0;34m\u001b[0m\u001b[0m\n\u001b[0;32m----> 2\u001b[0;31m \u001b[0mdict\u001b[0m\u001b[0;34m(\u001b[0m\u001b[0mTYPE_CHOICES\u001b[0m\u001b[0;34m)\u001b[0m\u001b[0;34m[\u001b[0m\u001b[0;34m'1'\u001b[0m\u001b[0;34m]\u001b[0m\u001b[0;34m\u001b[0m\u001b[0;34m\u001b[0m\u001b[0m\n\u001b[0m",
      "\u001b[0;31mKeyError\u001b[0m: '1'"
     ]
    }
   ],
   "source": [
    "from timeline.models import TYPE_CHOICES\n",
    "dict(TYPE_CHOICES)['1']\n"
   ]
  },
  {
   "cell_type": "code",
   "execution_count": 79,
   "metadata": {},
   "outputs": [
    {
     "name": "stderr",
     "output_type": "stream",
     "text": [
      "(0.001) SELECT \"accounts_user\".\"id\", \"accounts_user\".\"password\", \"accounts_user\".\"last_login\", \"accounts_user\".\"is_superuser\", \"accounts_user\".\"username\", \"accounts_user\".\"first_name\", \"accounts_user\".\"last_name\", \"accounts_user\".\"email\", \"accounts_user\".\"is_staff\", \"accounts_user\".\"is_active\", \"accounts_user\".\"date_joined\", \"accounts_user\".\"phone\", \"accounts_user\".\"address\", \"accounts_user\".\"address_detail\", \"accounts_user\".\"user_type\", \"accounts_user\".\"deactivate_date\" FROM \"accounts_user\" WHERE \"accounts_user\".\"id\" = 10; args=(10,)\n"
     ]
    }
   ],
   "source": [
    "user_res=User.objects.get(pk=10).subscribed_restaurants"
   ]
  },
  {
   "cell_type": "code",
   "execution_count": 87,
   "metadata": {},
   "outputs": [
    {
     "name": "stderr",
     "output_type": "stream",
     "text": [
      "(0.001) SELECT \"accounts_user\".\"id\", \"accounts_user\".\"password\", \"accounts_user\".\"last_login\", \"accounts_user\".\"is_superuser\", \"accounts_user\".\"username\", \"accounts_user\".\"first_name\", \"accounts_user\".\"last_name\", \"accounts_user\".\"email\", \"accounts_user\".\"is_staff\", \"accounts_user\".\"is_active\", \"accounts_user\".\"date_joined\", \"accounts_user\".\"phone\", \"accounts_user\".\"address\", \"accounts_user\".\"address_detail\", \"accounts_user\".\"user_type\", \"accounts_user\".\"deactivate_date\" FROM \"accounts_user\" WHERE \"accounts_user\".\"id\" = 10; args=(10,)\n",
      "(0.001) SELECT \"restaurant_restaurant\".\"id\", \"restaurant_restaurant\".\"created_time\", \"restaurant_restaurant\".\"updated_time\", \"restaurant_restaurant\".\"name\", \"restaurant_restaurant\".\"owner\", \"restaurant_restaurant\".\"title\", \"restaurant_restaurant\".\"img\", \"restaurant_restaurant\".\"tel\", \"restaurant_restaurant\".\"min_order_price\", \"restaurant_restaurant\".\"order_way\", \"restaurant_restaurant\".\"origin\", \"restaurant_restaurant\".\"delivery_charge\", \"restaurant_restaurant\".\"info\", \"restaurant_restaurant\".\"event\", \"restaurant_restaurant\".\"event_img\", \"restaurant_restaurant\".\"type\", \"restaurant_restaurant\".\"estimated_delivery_time\", \"restaurant_restaurant\".\"operation_start_hour\", \"restaurant_restaurant\".\"operation_end_hour\" FROM \"restaurant_restaurant\" INNER JOIN \"accounts_user_subscribed_restaurants\" ON (\"restaurant_restaurant\".\"id\" = \"accounts_user_subscribed_restaurants\".\"restaurant_id\") WHERE \"accounts_user_subscribed_restaurants\".\"user_id\" = 10  LIMIT 21; args=(10,)\n",
      "(0.000) SELECT \"restaurant_restauranttimeline\".\"id\", \"restaurant_restauranttimeline\".\"created_time\", \"restaurant_restauranttimeline\".\"updated_time\", \"restaurant_restauranttimeline\".\"restaurant_id\", \"restaurant_restauranttimeline\".\"status\", \"restaurant_restauranttimeline\".\"changed_notice\", \"restaurant_restauranttimeline\".\"changed_img\", \"restaurant_restauranttimeline\".\"prior_info\", \"restaurant_restauranttimeline\".\"post_info\" FROM \"restaurant_restauranttimeline\" WHERE \"restaurant_restauranttimeline\".\"restaurant_id\" IN (8, 12); args=(8, 12)\n"
     ]
    },
    {
     "data": {
      "text/plain": [
       "<QuerySet [<Restaurant: 교촌치킨>, <Restaurant: 1>]>"
      ]
     },
     "execution_count": 87,
     "metadata": {},
     "output_type": "execute_result"
    }
   ],
   "source": [
    "User.objects.get(pk=10).subscribed_restaurants.prefetch_related('restauranttimeline_set')"
   ]
  },
  {
   "cell_type": "code",
   "execution_count": 93,
   "metadata": {},
   "outputs": [
    {
     "name": "stderr",
     "output_type": "stream",
     "text": [
      "(0.001) SELECT \"accounts_user\".\"id\", \"accounts_user\".\"password\", \"accounts_user\".\"last_login\", \"accounts_user\".\"is_superuser\", \"accounts_user\".\"username\", \"accounts_user\".\"first_name\", \"accounts_user\".\"last_name\", \"accounts_user\".\"email\", \"accounts_user\".\"is_staff\", \"accounts_user\".\"is_active\", \"accounts_user\".\"date_joined\", \"accounts_user\".\"phone\", \"accounts_user\".\"address\", \"accounts_user\".\"address_detail\", \"accounts_user\".\"user_type\", \"accounts_user\".\"deactivate_date\" FROM \"accounts_user\" WHERE \"accounts_user\".\"id\" = 10; args=(10,)\n"
     ]
    }
   ],
   "source": [
    "subscribed_restaurants_list=User.objects.get(pk=10).subscribed_restaurants.values('id')"
   ]
  },
  {
   "cell_type": "code",
   "execution_count": 98,
   "metadata": {},
   "outputs": [],
   "source": [
    "subscribed_restaurants_ids=[restaurant['id'] for restaurant in subscribed_restaurants_list]"
   ]
  },
  {
   "cell_type": "code",
   "execution_count": 100,
   "metadata": {},
   "outputs": [
    {
     "name": "stderr",
     "output_type": "stream",
     "text": [
      "(0.001) SELECT \"accounts_user\".\"id\", \"accounts_user\".\"password\", \"accounts_user\".\"last_login\", \"accounts_user\".\"is_superuser\", \"accounts_user\".\"username\", \"accounts_user\".\"first_name\", \"accounts_user\".\"last_name\", \"accounts_user\".\"email\", \"accounts_user\".\"is_staff\", \"accounts_user\".\"is_active\", \"accounts_user\".\"date_joined\", \"accounts_user\".\"phone\", \"accounts_user\".\"address\", \"accounts_user\".\"address_detail\", \"accounts_user\".\"user_type\", \"accounts_user\".\"deactivate_date\" FROM \"accounts_user\" WHERE \"accounts_user\".\"id\" = 10; args=(10,)\n"
     ]
    },
    {
     "ename": "AttributeError",
     "evalue": "'User' object has no attribute 'subscribed_restaurants_ids'",
     "output_type": "error",
     "traceback": [
      "\u001b[0;31m---------------------------------------------------------------------------\u001b[0m",
      "\u001b[0;31mAttributeError\u001b[0m                            Traceback (most recent call last)",
      "\u001b[0;32m<ipython-input-100-a3e68114d13d>\u001b[0m in \u001b[0;36m<module>\u001b[0;34m\u001b[0m\n\u001b[0;32m----> 1\u001b[0;31m \u001b[0mUser\u001b[0m\u001b[0;34m.\u001b[0m\u001b[0mobjects\u001b[0m\u001b[0;34m.\u001b[0m\u001b[0mget\u001b[0m\u001b[0;34m(\u001b[0m\u001b[0mpk\u001b[0m\u001b[0;34m=\u001b[0m\u001b[0;36m10\u001b[0m\u001b[0;34m)\u001b[0m\u001b[0;34m.\u001b[0m\u001b[0msubscribed_restaurants_ids\u001b[0m\u001b[0;34m\u001b[0m\u001b[0;34m\u001b[0m\u001b[0m\n\u001b[0m",
      "\u001b[0;31mAttributeError\u001b[0m: 'User' object has no attribute 'subscribed_restaurants_ids'"
     ]
    }
   ],
   "source": [
    "subscribed_restaurants_ids"
   ]
  },
  {
   "cell_type": "code",
   "execution_count": 101,
   "metadata": {},
   "outputs": [
    {
     "name": "stderr",
     "output_type": "stream",
     "text": [
      "(0.001) SELECT \"accounts_user\".\"id\", \"accounts_user\".\"password\", \"accounts_user\".\"last_login\", \"accounts_user\".\"is_superuser\", \"accounts_user\".\"username\", \"accounts_user\".\"first_name\", \"accounts_user\".\"last_name\", \"accounts_user\".\"email\", \"accounts_user\".\"is_staff\", \"accounts_user\".\"is_active\", \"accounts_user\".\"date_joined\", \"accounts_user\".\"phone\", \"accounts_user\".\"address\", \"accounts_user\".\"address_detail\", \"accounts_user\".\"user_type\", \"accounts_user\".\"deactivate_date\" FROM \"accounts_user\" WHERE \"accounts_user\".\"id\" = 10; args=(10,)\n",
      "(0.001) SELECT \"restaurant_restaurant\".\"id\" FROM \"restaurant_restaurant\" INNER JOIN \"accounts_user_subscribed_restaurants\" ON (\"restaurant_restaurant\".\"id\" = \"accounts_user_subscribed_restaurants\".\"restaurant_id\") WHERE \"accounts_user_subscribed_restaurants\".\"user_id\" = 10; args=(10,)\n"
     ]
    }
   ],
   "source": [
    "user=User.objects.get(pk=10)\n",
    "subscribed_restaurants = user.subscribed_restaurants.values('id')\n",
    "subscribed_restaurants_ids = [restaurant['id'] for restaurant in subscribed_restaurants]"
   ]
  },
  {
   "cell_type": "code",
   "execution_count": 102,
   "metadata": {},
   "outputs": [
    {
     "data": {
      "text/plain": [
       "[8, 12]"
      ]
     },
     "execution_count": 102,
     "metadata": {},
     "output_type": "execute_result"
    }
   ],
   "source": [
    "subscribed_restaurants_ids"
   ]
  },
  {
   "cell_type": "code",
   "execution_count": 105,
   "metadata": {},
   "outputs": [
    {
     "ename": "NameError",
     "evalue": "name 'Restuarant' is not defined",
     "output_type": "error",
     "traceback": [
      "\u001b[0;31m---------------------------------------------------------------------------\u001b[0m",
      "\u001b[0;31mNameError\u001b[0m                                 Traceback (most recent call last)",
      "\u001b[0;32m<ipython-input-105-bf4528c4ddfe>\u001b[0m in \u001b[0;36m<module>\u001b[0;34m\u001b[0m\n\u001b[1;32m      1\u001b[0m \u001b[0;32mfrom\u001b[0m \u001b[0mrestaurant\u001b[0m\u001b[0;34m.\u001b[0m\u001b[0mmodels\u001b[0m \u001b[0;32mimport\u001b[0m \u001b[0mRestaurant\u001b[0m\u001b[0;34m\u001b[0m\u001b[0;34m\u001b[0m\u001b[0m\n\u001b[0;32m----> 2\u001b[0;31m \u001b[0mRestuarant\u001b[0m\u001b[0;34m.\u001b[0m\u001b[0mobjects\u001b[0m\u001b[0;34m.\u001b[0m\u001b[0mall\u001b[0m\u001b[0;34m(\u001b[0m\u001b[0;34m)\u001b[0m\u001b[0;34m[\u001b[0m\u001b[0;36m0\u001b[0m\u001b[0;34m]\u001b[0m\u001b[0;34m\u001b[0m\u001b[0;34m\u001b[0m\u001b[0m\n\u001b[0m",
      "\u001b[0;31mNameError\u001b[0m: name 'Restuarant' is not defined"
     ]
    }
   ],
   "source": [
    "from restaurant.models import Restaurant\n",
    "Restuarant.objects.all()[0]"
   ]
  },
  {
   "cell_type": "code",
   "execution_count": 106,
   "metadata": {},
   "outputs": [],
   "source": [
    "from restaurant.models import Restaurant"
   ]
  },
  {
   "cell_type": "code",
   "execution_count": 110,
   "metadata": {},
   "outputs": [
    {
     "name": "stderr",
     "output_type": "stream",
     "text": [
      "(0.001) SELECT \"restaurant_restaurant\".\"id\", \"restaurant_restaurant\".\"created_time\", \"restaurant_restaurant\".\"updated_time\", \"restaurant_restaurant\".\"name\", \"restaurant_restaurant\".\"owner\", \"restaurant_restaurant\".\"title\", \"restaurant_restaurant\".\"img\", \"restaurant_restaurant\".\"tel\", \"restaurant_restaurant\".\"min_order_price\", \"restaurant_restaurant\".\"order_way\", \"restaurant_restaurant\".\"origin\", \"restaurant_restaurant\".\"delivery_charge\", \"restaurant_restaurant\".\"info\", \"restaurant_restaurant\".\"event\", \"restaurant_restaurant\".\"event_img\", \"restaurant_restaurant\".\"type\", \"restaurant_restaurant\".\"estimated_delivery_time\", \"restaurant_restaurant\".\"operation_start_hour\", \"restaurant_restaurant\".\"operation_end_hour\" FROM \"restaurant_restaurant\"  LIMIT 1; args=()\n"
     ]
    },
    {
     "data": {
      "text/plain": [
       "1"
      ]
     },
     "execution_count": 110,
     "metadata": {},
     "output_type": "execute_result"
    }
   ],
   "source": [
    "Restaurant.objects.all()[0].id"
   ]
  },
  {
   "cell_type": "code",
   "execution_count": 10,
   "metadata": {},
   "outputs": [
    {
     "name": "stderr",
     "output_type": "stream",
     "text": [
      "(0.001) SELECT \"accounts_user\".\"id\", \"accounts_user\".\"password\", \"accounts_user\".\"last_login\", \"accounts_user\".\"is_superuser\", \"accounts_user\".\"username\", \"accounts_user\".\"first_name\", \"accounts_user\".\"last_name\", \"accounts_user\".\"email\", \"accounts_user\".\"is_staff\", \"accounts_user\".\"is_active\", \"accounts_user\".\"date_joined\", \"accounts_user\".\"phone\", \"accounts_user\".\"address\", \"accounts_user\".\"address_detail\", \"accounts_user\".\"user_type\", \"accounts_user\".\"deactivate_date\" FROM \"accounts_user\" WHERE \"accounts_user\".\"id\" = 9; args=(9,)\n"
     ]
    },
    {
     "ename": "AttributeError",
     "evalue": "'QuerySet' object has no attribute 'add'",
     "output_type": "error",
     "traceback": [
      "\u001b[0;31m---------------------------------------------------------------------------\u001b[0m",
      "\u001b[0;31mAttributeError\u001b[0m                            Traceback (most recent call last)",
      "\u001b[0;32m<ipython-input-10-cde6c821bc17>\u001b[0m in \u001b[0;36m<module>\u001b[0;34m\u001b[0m\n\u001b[1;32m      1\u001b[0m \u001b[0muser\u001b[0m \u001b[0;34m=\u001b[0m\u001b[0mUser\u001b[0m\u001b[0;34m.\u001b[0m\u001b[0mobjects\u001b[0m\u001b[0;34m.\u001b[0m\u001b[0mget\u001b[0m\u001b[0;34m(\u001b[0m\u001b[0mpk\u001b[0m\u001b[0;34m=\u001b[0m\u001b[0;36m9\u001b[0m\u001b[0;34m)\u001b[0m\u001b[0;34m\u001b[0m\u001b[0;34m\u001b[0m\u001b[0m\n\u001b[0;32m----> 2\u001b[0;31m \u001b[0mRestaurantTimeline\u001b[0m\u001b[0;34m.\u001b[0m\u001b[0mobjects\u001b[0m\u001b[0;34m.\u001b[0m\u001b[0mfilter\u001b[0m\u001b[0;34m(\u001b[0m\u001b[0mpk\u001b[0m\u001b[0;34m=\u001b[0m\u001b[0;36m3\u001b[0m\u001b[0;34m)\u001b[0m\u001b[0;34m.\u001b[0m\u001b[0madd\u001b[0m\u001b[0;34m(\u001b[0m\u001b[0mlike\u001b[0m\u001b[0;34m=\u001b[0m\u001b[0muser\u001b[0m\u001b[0;34m)\u001b[0m\u001b[0;34m\u001b[0m\u001b[0;34m\u001b[0m\u001b[0m\n\u001b[0m",
      "\u001b[0;31mAttributeError\u001b[0m: 'QuerySet' object has no attribute 'add'"
     ]
    }
   ],
   "source": [
    "user =User.objects.get(pk=9)\n",
    "RestaurantTimeline.objects.filter(pk=3).add(like=user)"
   ]
  },
  {
   "cell_type": "code",
   "execution_count": 1,
   "metadata": {},
   "outputs": [],
   "source": [
    "from restaurant.models import Restaurant, RestaurantTimeline\n",
    "available_restaurant = Restaurant.objects.filter(is_group_purchase=True).order_by('id')"
   ]
  },
  {
   "cell_type": "code",
   "execution_count": 23,
   "metadata": {},
   "outputs": [],
   "source": [
    "available_restaurant = (\n",
    "    Restaurant.objects.select_related('menu')\n",
    "    .filter(\n",
    "        menu__is_group_purchase=True,\n",
    "        is_group_purchase=True\n",
    "    ).order_by('id')\n",
    "    .annotate(\n",
    "        menu_id=F('menu'),\n",
    "        menu_name=F('menu__name'),\n",
    "        menu_detail=F('menu__detail'),\n",
    "        menu_price=F('menu__price'),\n",
    "        max_quantity=F('menu__max_quantity'),\n",
    "        min_quantity=F('menu__min_quantity'),\n",
    "    ).values('id', 'title', 'name', 'menu_id', 'menu_name', 'menu_detail', 'menu_price', 'max_quantity', 'min_quantity'))"
   ]
  },
  {
   "cell_type": "code",
   "execution_count": 24,
   "metadata": {},
   "outputs": [
    {
     "name": "stderr",
     "output_type": "stream",
     "text": [
      "(0.001) SELECT \"restaurant_restaurant\".\"id\", \"restaurant_restaurant\".\"title\", \"restaurant_restaurant\".\"name\", \"menu_menu\".\"id\" AS \"menu_id\", \"menu_menu\".\"name\" AS \"menu_name\", \"menu_menu\".\"detail\" AS \"menu_detail\", \"menu_menu\".\"price\" AS \"menu_price\", \"menu_menu\".\"max_quantity\" AS \"max_quantity\", \"menu_menu\".\"min_quantity\" AS \"min_quantity\" FROM \"restaurant_restaurant\" INNER JOIN \"menu_menu\" ON (\"restaurant_restaurant\".\"id\" = \"menu_menu\".\"restaurant_id\") WHERE (\"restaurant_restaurant\".\"is_group_purchase\" = true AND \"menu_menu\".\"is_group_purchase\" = true) ORDER BY \"restaurant_restaurant\".\"id\" ASC; args=(True, True)\n"
     ]
    }
   ],
   "source": [
    "res_list = list(available_restaurant)"
   ]
  },
  {
   "cell_type": "code",
   "execution_count": 29,
   "metadata": {},
   "outputs": [
    {
     "name": "stdout",
     "output_type": "stream",
     "text": [
      "8\n",
      "8\n",
      "8\n",
      "8\n",
      "8\n",
      "9\n",
      "9\n",
      "9\n",
      "9\n"
     ]
    }
   ],
   "source": [
    "res_list\n",
    "\n",
    "for res in res_list:\n",
    "    print(res['id'])"
   ]
  },
  {
   "cell_type": "code",
   "execution_count": 45,
   "metadata": {},
   "outputs": [],
   "source": [
    "available_menus = (\n",
    "    Menu.objects.select_related('restaurant')\n",
    "    .filter(\n",
    "        is_group_purchase=True,\n",
    "        restaurant__is_group_purchase=True\n",
    "    ).order_by('restaurant_id')\n",
    "    .annotate(\n",
    "        restaurant_name = F('restaurant__name'),\n",
    "        restaurant_title = F('restaurant__title'),\n",
    "    ).values('restaurant_id', 'restaurant_name', 'restaurant_title',\n",
    "             'id', 'name', 'detail', 'price', 'min_quantity', 'max_quantity')\n",
    ")"
   ]
  },
  {
   "cell_type": "code",
   "execution_count": 46,
   "metadata": {},
   "outputs": [
    {
     "name": "stderr",
     "output_type": "stream",
     "text": [
      "(0.001) SELECT \"menu_menu\".\"restaurant_id\", \"menu_menu\".\"id\", \"menu_menu\".\"name\", \"menu_menu\".\"detail\", \"menu_menu\".\"price\", \"menu_menu\".\"min_quantity\", \"menu_menu\".\"max_quantity\", \"restaurant_restaurant\".\"name\" AS \"restaurant_name\", \"restaurant_restaurant\".\"title\" AS \"restaurant_title\" FROM \"menu_menu\" INNER JOIN \"restaurant_restaurant\" ON (\"menu_menu\".\"restaurant_id\" = \"restaurant_restaurant\".\"id\") WHERE (\"menu_menu\".\"is_group_purchase\" = true AND \"restaurant_restaurant\".\"is_group_purchase\" = true) ORDER BY \"menu_menu\".\"restaurant_id\" ASC; args=(True, True)\n"
     ]
    },
    {
     "data": {
      "text/plain": [
       "[{'restaurant_id': 8,\n",
       "  'id': 28,\n",
       "  'name': '교촌 라이스 세트',\n",
       "  'detail': '쌀로 만든 궁극의 바사함, 교촌라이스세트!',\n",
       "  'price': 21000,\n",
       "  'min_quantity': 0,\n",
       "  'max_quantity': 0,\n",
       "  'restaurant_name': '교촌치킨',\n",
       "  'restaurant_title': '교촌치킨 한양대점'},\n",
       " {'restaurant_id': 8,\n",
       "  'id': 29,\n",
       "  'name': '교촌 오리지날',\n",
       "  'detail': '교촌만의 차별화된 마늘과 간장소스의 풍부한 맛이 어우러진 한 마리 치킨',\n",
       "  'price': 15000,\n",
       "  'min_quantity': 0,\n",
       "  'max_quantity': 0,\n",
       "  'restaurant_name': '교촌치킨',\n",
       "  'restaurant_title': '교촌치킨 한양대점'},\n",
       " {'restaurant_id': 8,\n",
       "  'id': 30,\n",
       "  'name': '교촌콤보',\n",
       "  'detail': '마늘과 간장소스의 풍부한 맛에 가장 인기있는 부위인 날개와 다리를 함께 즐길 수 있는 메뉴',\n",
       "  'price': 17000,\n",
       "  'min_quantity': 0,\n",
       "  'max_quantity': 0,\n",
       "  'restaurant_name': '교촌치킨',\n",
       "  'restaurant_title': '교촌치킨 한양대점'},\n",
       " {'restaurant_id': 8,\n",
       "  'id': 31,\n",
       "  'name': '교촌레드스틱',\n",
       "  'detail': '국내산 청양 홍고추의 매콤함에 담백한 다리의 맛이 어우러진 치킨',\n",
       "  'price': 18000,\n",
       "  'min_quantity': 0,\n",
       "  'max_quantity': 0,\n",
       "  'restaurant_name': '교촌치킨',\n",
       "  'restaurant_title': '교촌치킨 한양대점'},\n",
       " {'restaurant_id': 8,\n",
       "  'id': 32,\n",
       "  'name': '교촌레드콤보',\n",
       "  'detail': '국내산 청양 홍고추의 매콤한 맛에 날개와 다리를 함께 즐길 수 있는 메뉴',\n",
       "  'price': 18000,\n",
       "  'min_quantity': 0,\n",
       "  'max_quantity': 0,\n",
       "  'restaurant_name': '교촌치킨',\n",
       "  'restaurant_title': '교촌치킨 한양대점'},\n",
       " {'restaurant_id': 9,\n",
       "  'id': 33,\n",
       "  'name': '떡볶이',\n",
       "  'detail': '맛있는 떡볶이',\n",
       "  'price': 15000,\n",
       "  'min_quantity': 0,\n",
       "  'max_quantity': 0,\n",
       "  'restaurant_name': '신전 떡볶이',\n",
       "  'restaurant_title': '신전 떡볶이 한양대점'},\n",
       " {'restaurant_id': 9,\n",
       "  'id': 36,\n",
       "  'name': '신전라이스',\n",
       "  'detail': '맛있는 신전라이스',\n",
       "  'price': 8000,\n",
       "  'min_quantity': 0,\n",
       "  'max_quantity': 0,\n",
       "  'restaurant_name': '신전 떡볶이',\n",
       "  'restaurant_title': '신전 떡볶이 한양대점'},\n",
       " {'restaurant_id': 9,\n",
       "  'id': 34,\n",
       "  'name': '튀김만두',\n",
       "  'detail': '튀김만두',\n",
       "  'price': 6000,\n",
       "  'min_quantity': 0,\n",
       "  'max_quantity': 0,\n",
       "  'restaurant_name': '신전 떡볶이',\n",
       "  'restaurant_title': '신전 떡볶이 한양대점'},\n",
       " {'restaurant_id': 9,\n",
       "  'id': 35,\n",
       "  'name': '신전치즈김밥',\n",
       "  'detail': '맛있는 신전치즈김밥',\n",
       "  'price': 8000,\n",
       "  'min_quantity': 0,\n",
       "  'max_quantity': 0,\n",
       "  'restaurant_name': '신전 떡볶이',\n",
       "  'restaurant_title': '신전 떡볶이 한양대점'}]"
      ]
     },
     "execution_count": 46,
     "metadata": {},
     "output_type": "execute_result"
    }
   ],
   "source": [
    "list(available_menus)"
   ]
  },
  {
   "cell_type": "code",
   "execution_count": 81,
   "metadata": {},
   "outputs": [],
   "source": [
    "restaurants_list = []\n",
    "menu_list = []\n",
    "restaurant_id\n",
    "for menu in available_menus:\n",
    "    if not restaurants_list:\n",
    "        menu_list.append(menu)\n",
    "        \n",
    "        \n",
    "'''        \n",
    "    menu_list.append(menu)\n",
    "    if restaurant_id != menu['restaurant_id']:\n",
    "        restaurant_id = menu['restaurant_id']\n",
    "        restaurants_list.append(\n",
    "            {\n",
    "                'restaurant_id': restaurant_id,\n",
    "                'restaurant_name': menu['restaurant_name'],\n",
    "                'restaurant_title': menu['restaurant_title'],\n",
    "                'menus':menu_list\n",
    "            })\n",
    "        menu_list.clear()\n",
    "'''"
   ]
  },
  {
   "cell_type": "code",
   "execution_count": 83,
   "metadata": {},
   "outputs": [],
   "source": [
    "available_restaurant = Restaurant.objects.filter(is_group_purchase=True).order_by('id')"
   ]
  },
  {
   "cell_type": "code",
   "execution_count": 85,
   "metadata": {},
   "outputs": [],
   "source": [
    "available_menus = (\n",
    "    Menu.objects.select_related('restaurant')\n",
    "    .filter(\n",
    "        is_group_purchase=True,\n",
    "        restaurant__is_group_purchase=True\n",
    "    ).order_by('restaurant_id')\n",
    "    .annotate(\n",
    "        restaurant_name=F('restaurant__name'),\n",
    "        restaurant_title=F('restaurant__title'),\n",
    "    ).values('restaurant_id', 'restaurant_name', 'restaurant_title',\n",
    "             'id', 'name', 'detail', 'price', 'min_quantity', 'max_quantity')\n",
    ")"
   ]
  },
  {
   "cell_type": "code",
   "execution_count": 88,
   "metadata": {},
   "outputs": [
    {
     "name": "stderr",
     "output_type": "stream",
     "text": [
      "(0.001) SELECT DISTINCT ON (\"menu_menu\".\"restaurant_id\") \"menu_menu\".\"restaurant_id\" FROM \"menu_menu\" INNER JOIN \"restaurant_restaurant\" ON (\"menu_menu\".\"restaurant_id\" = \"restaurant_restaurant\".\"id\") WHERE (\"menu_menu\".\"is_group_purchase\" = true AND \"restaurant_restaurant\".\"is_group_purchase\" = true) ORDER BY \"menu_menu\".\"restaurant_id\" ASC; args=(True, True)\n"
     ]
    }
   ],
   "source": [
    "available_restuarants = list(available_menus.distinct('restaurant_id').values('restaurant_id'))"
   ]
  },
  {
   "cell_type": "code",
   "execution_count": 89,
   "metadata": {},
   "outputs": [
    {
     "data": {
      "text/plain": [
       "[{'restaurant_id': 8}, {'restaurant_id': 9}]"
      ]
     },
     "execution_count": 89,
     "metadata": {},
     "output_type": "execute_result"
    }
   ],
   "source": [
    "available_restuarants"
   ]
  },
  {
   "cell_type": "code",
   "execution_count": 90,
   "metadata": {},
   "outputs": [],
   "source": [
    "available_restaurant = Restaurant.objects.filter(is_group_purchase=True).order_by('id')\n"
   ]
  },
  {
   "cell_type": "code",
   "execution_count": 91,
   "metadata": {},
   "outputs": [
    {
     "name": "stderr",
     "output_type": "stream",
     "text": [
      "(0.001) SELECT DISTINCT ON (\"restaurant_restaurant\".\"id\") \"restaurant_restaurant\".\"id\", \"restaurant_restaurant\".\"created_time\", \"restaurant_restaurant\".\"updated_time\", \"restaurant_restaurant\".\"name\", \"restaurant_restaurant\".\"owner\", \"restaurant_restaurant\".\"title\", \"restaurant_restaurant\".\"img\", \"restaurant_restaurant\".\"tel\", \"restaurant_restaurant\".\"min_order_price\", \"restaurant_restaurant\".\"order_way\", \"restaurant_restaurant\".\"origin\", \"restaurant_restaurant\".\"delivery_charge\", \"restaurant_restaurant\".\"info\", \"restaurant_restaurant\".\"event\", \"restaurant_restaurant\".\"event_img\", \"restaurant_restaurant\".\"type\", \"restaurant_restaurant\".\"estimated_delivery_time\", \"restaurant_restaurant\".\"operation_start_hour\", \"restaurant_restaurant\".\"operation_end_hour\", \"restaurant_restaurant\".\"is_group_purchase\" FROM \"restaurant_restaurant\" WHERE \"restaurant_restaurant\".\"is_group_purchase\" = true ORDER BY \"restaurant_restaurant\".\"id\" ASC  LIMIT 21; args=(True,)\n"
     ]
    },
    {
     "data": {
      "text/plain": [
       "<QuerySet [<Restaurant: 교촌치킨>, <Restaurant: 신전 떡볶이>]>"
      ]
     },
     "execution_count": 91,
     "metadata": {},
     "output_type": "execute_result"
    }
   ],
   "source": [
    "available_restaurant.distinct('id')"
   ]
  },
  {
   "cell_type": "code",
   "execution_count": 92,
   "metadata": {},
   "outputs": [],
   "source": [
    "restaurant_list = (available_restaurant\n",
    "            .filter(\n",
    "                menu__is_group_purchase=True,\n",
    "            ).order_by('id')\n",
    "            .annotate(\n",
    "                menu_id=F('menu'),\n",
    "                menu_name=F('menu__name'),\n",
    "                menu_detail=F('menu__detail'),\n",
    "                menu_price=F('menu__price'),\n",
    "                max_quantity=F('menu__max_quantity'),\n",
    "                min_quantity=F('menu__min_quantity'),\n",
    "            ).values('id', 'title', 'name',\n",
    "                     'menu_id', 'menu_name', 'menu_detail', 'menu_price', 'max_quantity', 'min_quantity'))"
   ]
  },
  {
   "cell_type": "code",
   "execution_count": 93,
   "metadata": {},
   "outputs": [
    {
     "name": "stderr",
     "output_type": "stream",
     "text": [
      "(0.001) SELECT \"restaurant_restaurant\".\"id\", \"restaurant_restaurant\".\"title\", \"restaurant_restaurant\".\"name\", \"menu_menu\".\"id\" AS \"menu_id\", \"menu_menu\".\"name\" AS \"menu_name\", \"menu_menu\".\"detail\" AS \"menu_detail\", \"menu_menu\".\"price\" AS \"menu_price\", \"menu_menu\".\"max_quantity\" AS \"max_quantity\", \"menu_menu\".\"min_quantity\" AS \"min_quantity\" FROM \"restaurant_restaurant\" INNER JOIN \"menu_menu\" ON (\"restaurant_restaurant\".\"id\" = \"menu_menu\".\"restaurant_id\") WHERE (\"restaurant_restaurant\".\"is_group_purchase\" = true AND \"menu_menu\".\"is_group_purchase\" = true) ORDER BY \"restaurant_restaurant\".\"id\" ASC  LIMIT 21; args=(True, True)\n"
     ]
    },
    {
     "data": {
      "text/plain": [
       "<QuerySet [{'id': 8, 'title': '교촌치킨 한양대점', 'name': '교촌치킨', 'menu_id': 28, 'menu_name': '교촌 라이스 세트', 'menu_detail': '쌀로 만든 궁극의 바사함, 교촌라이스세트!', 'menu_price': 21000, 'max_quantity': 0, 'min_quantity': 0}, {'id': 8, 'title': '교촌치킨 한양대점', 'name': '교촌치킨', 'menu_id': 29, 'menu_name': '교촌 오리지날', 'menu_detail': '교촌만의 차별화된 마늘과 간장소스의 풍부한 맛이 어우러진 한 마리 치킨', 'menu_price': 15000, 'max_quantity': 0, 'min_quantity': 0}, {'id': 8, 'title': '교촌치킨 한양대점', 'name': '교촌치킨', 'menu_id': 30, 'menu_name': '교촌콤보', 'menu_detail': '마늘과 간장소스의 풍부한 맛에 가장 인기있는 부위인 날개와 다리를 함께 즐길 수 있는 메뉴', 'menu_price': 17000, 'max_quantity': 0, 'min_quantity': 0}, {'id': 8, 'title': '교촌치킨 한양대점', 'name': '교촌치킨', 'menu_id': 31, 'menu_name': '교촌레드스틱', 'menu_detail': '국내산 청양 홍고추의 매콤함에 담백한 다리의 맛이 어우러진 치킨', 'menu_price': 18000, 'max_quantity': 0, 'min_quantity': 0}, {'id': 8, 'title': '교촌치킨 한양대점', 'name': '교촌치킨', 'menu_id': 32, 'menu_name': '교촌레드콤보', 'menu_detail': '국내산 청양 홍고추의 매콤한 맛에 날개와 다리를 함께 즐길 수 있는 메뉴', 'menu_price': 18000, 'max_quantity': 0, 'min_quantity': 0}, {'id': 9, 'title': '신전 떡볶이 한양대점', 'name': '신전 떡볶이', 'menu_id': 33, 'menu_name': '떡볶이', 'menu_detail': '맛있는 떡볶이', 'menu_price': 15000, 'max_quantity': 0, 'min_quantity': 0}, {'id': 9, 'title': '신전 떡볶이 한양대점', 'name': '신전 떡볶이', 'menu_id': 36, 'menu_name': '신전라이스', 'menu_detail': '맛있는 신전라이스', 'menu_price': 8000, 'max_quantity': 0, 'min_quantity': 0}, {'id': 9, 'title': '신전 떡볶이 한양대점', 'name': '신전 떡볶이', 'menu_id': 34, 'menu_name': '튀김만두', 'menu_detail': '튀김만두', 'menu_price': 6000, 'max_quantity': 0, 'min_quantity': 0}, {'id': 9, 'title': '신전 떡볶이 한양대점', 'name': '신전 떡볶이', 'menu_id': 35, 'menu_name': '신전치즈김밥', 'menu_detail': '맛있는 신전치즈김밥', 'menu_price': 8000, 'max_quantity': 0, 'min_quantity': 0}]>"
      ]
     },
     "execution_count": 93,
     "metadata": {},
     "output_type": "execute_result"
    }
   ],
   "source": [
    "restaurant_list"
   ]
  },
  {
   "cell_type": "code",
   "execution_count": 95,
   "metadata": {},
   "outputs": [
    {
     "name": "stderr",
     "output_type": "stream",
     "text": [
      "(0.001) SELECT DISTINCT ON (\"menu_menu\".\"restaurant_id\") \"menu_menu\".\"restaurant_id\" FROM \"menu_menu\" INNER JOIN \"restaurant_restaurant\" ON (\"menu_menu\".\"restaurant_id\" = \"restaurant_restaurant\".\"id\") WHERE (\"menu_menu\".\"is_group_purchase\" = true AND \"restaurant_restaurant\".\"is_group_purchase\" = true) ORDER BY \"menu_menu\".\"restaurant_id\" ASC; args=(True, True)\n"
     ]
    }
   ],
   "source": [
    "available_menus = (\n",
    "            Menu.objects.select_related('restaurant')\n",
    "            .filter(\n",
    "                is_group_purchase=True,\n",
    "                restaurant__is_group_purchase=True\n",
    "            ).order_by('restaurant_id')\n",
    "            .annotate(\n",
    "                restaurant_name=F('restaurant__name'),\n",
    "                restaurant_title=F('restaurant__title'),\n",
    "            ).values('restaurant_id', 'restaurant_name', 'restaurant_title',\n",
    "                     'id', 'name', 'detail', 'price', 'min_quantity', 'max_quantity')\n",
    "        )\n",
    "\n",
    "available_restuarants = list(available_menus.distinct('restaurant_id').values('restaurant_id'))"
   ]
  },
  {
   "cell_type": "code",
   "execution_count": 98,
   "metadata": {},
   "outputs": [],
   "source": [
    "menu_list=list(available_menus)"
   ]
  },
  {
   "cell_type": "code",
   "execution_count": 107,
   "metadata": {},
   "outputs": [
    {
     "name": "stdout",
     "output_type": "stream",
     "text": [
      "8\n",
      "8\n",
      "8\n",
      "8\n",
      "8\n",
      "9\n",
      "9\n",
      "9\n",
      "9\n"
     ]
    }
   ],
   "source": [
    "for menu in available_menus:\n",
    "    print(menu['restaurant_id'])"
   ]
  },
  {
   "cell_type": "code",
   "execution_count": 136,
   "metadata": {},
   "outputs": [],
   "source": [
    "resturant_ids = set([menu['restaurant_id'] for menu in available_menus])"
   ]
  },
  {
   "cell_type": "code",
   "execution_count": 137,
   "metadata": {},
   "outputs": [
    {
     "data": {
      "text/plain": [
       "{8, 9}"
      ]
     },
     "execution_count": 137,
     "metadata": {},
     "output_type": "execute_result"
    }
   ],
   "source": [
    "resturant_ids"
   ]
  },
  {
   "cell_type": "code",
   "execution_count": 153,
   "metadata": {},
   "outputs": [],
   "source": [
    "restaurants_list = []\n",
    "for resturant_id in resturant_ids:\n",
    "    menu_list = []\n",
    "    for menu in available_menus:\n",
    "        if menu['restaurant_id']==resturant_id:\n",
    "            menu_list.append(menu)\n",
    "     \n",
    "    restaurants_list.append({\n",
    "        'restaurant_id': resturant_id,\n",
    "        'restaurant_name':'',\n",
    "        'restaurant_title':'',\n",
    "        'menus': menu_list\n",
    "    })\n",
    "          \n",
    "            \n",
    "    "
   ]
  },
  {
   "cell_type": "code",
   "execution_count": 151,
   "metadata": {},
   "outputs": [
    {
     "name": "stdout",
     "output_type": "stream",
     "text": [
      "{'restaurant_id': 8, 'restaurant_name': '', 'restaurant_title': '', 'menus': [{'restaurant_id': 8, 'id': 28, 'name': '교촌 라이스 세트', 'detail': '쌀로 만든 궁극의 바사함, 교촌라이스세트!', 'price': 21000, 'min_quantity': 0, 'max_quantity': 0, 'restaurant_name': '교촌치킨', 'restaurant_title': '교촌치킨 한양대점'}, {'restaurant_id': 8, 'id': 29, 'name': '교촌 오리지날', 'detail': '교촌만의 차별화된 마늘과 간장소스의 풍부한 맛이 어우러진 한 마리 치킨', 'price': 15000, 'min_quantity': 0, 'max_quantity': 0, 'restaurant_name': '교촌치킨', 'restaurant_title': '교촌치킨 한양대점'}, {'restaurant_id': 8, 'id': 30, 'name': '교촌콤보', 'detail': '마늘과 간장소스의 풍부한 맛에 가장 인기있는 부위인 날개와 다리를 함께 즐길 수 있는 메뉴', 'price': 17000, 'min_quantity': 0, 'max_quantity': 0, 'restaurant_name': '교촌치킨', 'restaurant_title': '교촌치킨 한양대점'}, {'restaurant_id': 8, 'id': 31, 'name': '교촌레드스틱', 'detail': '국내산 청양 홍고추의 매콤함에 담백한 다리의 맛이 어우러진 치킨', 'price': 18000, 'min_quantity': 0, 'max_quantity': 0, 'restaurant_name': '교촌치킨', 'restaurant_title': '교촌치킨 한양대점'}, {'restaurant_id': 8, 'id': 32, 'name': '교촌레드콤보', 'detail': '국내산 청양 홍고추의 매콤한 맛에 날개와 다리를 함께 즐길 수 있는 메뉴', 'price': 18000, 'min_quantity': 0, 'max_quantity': 0, 'restaurant_name': '교촌치킨', 'restaurant_title': '교촌치킨 한양대점'}]}\n",
      "\n",
      "{'restaurant_id': 9, 'restaurant_name': '', 'restaurant_title': '', 'menus': [{'restaurant_id': 9, 'id': 33, 'name': '떡볶이', 'detail': '맛있는 떡볶이', 'price': 15000, 'min_quantity': 0, 'max_quantity': 0, 'restaurant_name': '신전 떡볶이', 'restaurant_title': '신전 떡볶이 한양대점'}, {'restaurant_id': 9, 'id': 36, 'name': '신전라이스', 'detail': '맛있는 신전라이스', 'price': 8000, 'min_quantity': 0, 'max_quantity': 0, 'restaurant_name': '신전 떡볶이', 'restaurant_title': '신전 떡볶이 한양대점'}, {'restaurant_id': 9, 'id': 34, 'name': '튀김만두', 'detail': '튀김만두', 'price': 6000, 'min_quantity': 0, 'max_quantity': 0, 'restaurant_name': '신전 떡볶이', 'restaurant_title': '신전 떡볶이 한양대점'}, {'restaurant_id': 9, 'id': 35, 'name': '신전치즈김밥', 'detail': '맛있는 신전치즈김밥', 'price': 8000, 'min_quantity': 0, 'max_quantity': 0, 'restaurant_name': '신전 떡볶이', 'restaurant_title': '신전 떡볶이 한양대점'}]}\n",
      "\n"
     ]
    }
   ],
   "source": [
    "for restaurant in restaurants_list:\n",
    "    print(restaurant)\n",
    "    print()"
   ]
  },
  {
   "cell_type": "code",
   "execution_count": 154,
   "metadata": {},
   "outputs": [
    {
     "data": {
      "text/plain": [
       "[{'restaurant_id': 8,\n",
       "  'restaurant_name': '',\n",
       "  'restaurant_title': '',\n",
       "  'menus': [{'restaurant_id': 8,\n",
       "    'id': 28,\n",
       "    'name': '교촌 라이스 세트',\n",
       "    'detail': '쌀로 만든 궁극의 바사함, 교촌라이스세트!',\n",
       "    'price': 21000,\n",
       "    'min_quantity': 0,\n",
       "    'max_quantity': 0,\n",
       "    'restaurant_name': '교촌치킨',\n",
       "    'restaurant_title': '교촌치킨 한양대점'},\n",
       "   {'restaurant_id': 8,\n",
       "    'id': 29,\n",
       "    'name': '교촌 오리지날',\n",
       "    'detail': '교촌만의 차별화된 마늘과 간장소스의 풍부한 맛이 어우러진 한 마리 치킨',\n",
       "    'price': 15000,\n",
       "    'min_quantity': 0,\n",
       "    'max_quantity': 0,\n",
       "    'restaurant_name': '교촌치킨',\n",
       "    'restaurant_title': '교촌치킨 한양대점'},\n",
       "   {'restaurant_id': 8,\n",
       "    'id': 30,\n",
       "    'name': '교촌콤보',\n",
       "    'detail': '마늘과 간장소스의 풍부한 맛에 가장 인기있는 부위인 날개와 다리를 함께 즐길 수 있는 메뉴',\n",
       "    'price': 17000,\n",
       "    'min_quantity': 0,\n",
       "    'max_quantity': 0,\n",
       "    'restaurant_name': '교촌치킨',\n",
       "    'restaurant_title': '교촌치킨 한양대점'},\n",
       "   {'restaurant_id': 8,\n",
       "    'id': 31,\n",
       "    'name': '교촌레드스틱',\n",
       "    'detail': '국내산 청양 홍고추의 매콤함에 담백한 다리의 맛이 어우러진 치킨',\n",
       "    'price': 18000,\n",
       "    'min_quantity': 0,\n",
       "    'max_quantity': 0,\n",
       "    'restaurant_name': '교촌치킨',\n",
       "    'restaurant_title': '교촌치킨 한양대점'},\n",
       "   {'restaurant_id': 8,\n",
       "    'id': 32,\n",
       "    'name': '교촌레드콤보',\n",
       "    'detail': '국내산 청양 홍고추의 매콤한 맛에 날개와 다리를 함께 즐길 수 있는 메뉴',\n",
       "    'price': 18000,\n",
       "    'min_quantity': 0,\n",
       "    'max_quantity': 0,\n",
       "    'restaurant_name': '교촌치킨',\n",
       "    'restaurant_title': '교촌치킨 한양대점'}]},\n",
       " {'restaurant_id': 9,\n",
       "  'restaurant_name': '',\n",
       "  'restaurant_title': '',\n",
       "  'menus': [{'restaurant_id': 9,\n",
       "    'id': 33,\n",
       "    'name': '떡볶이',\n",
       "    'detail': '맛있는 떡볶이',\n",
       "    'price': 15000,\n",
       "    'min_quantity': 0,\n",
       "    'max_quantity': 0,\n",
       "    'restaurant_name': '신전 떡볶이',\n",
       "    'restaurant_title': '신전 떡볶이 한양대점'},\n",
       "   {'restaurant_id': 9,\n",
       "    'id': 36,\n",
       "    'name': '신전라이스',\n",
       "    'detail': '맛있는 신전라이스',\n",
       "    'price': 8000,\n",
       "    'min_quantity': 0,\n",
       "    'max_quantity': 0,\n",
       "    'restaurant_name': '신전 떡볶이',\n",
       "    'restaurant_title': '신전 떡볶이 한양대점'},\n",
       "   {'restaurant_id': 9,\n",
       "    'id': 34,\n",
       "    'name': '튀김만두',\n",
       "    'detail': '튀김만두',\n",
       "    'price': 6000,\n",
       "    'min_quantity': 0,\n",
       "    'max_quantity': 0,\n",
       "    'restaurant_name': '신전 떡볶이',\n",
       "    'restaurant_title': '신전 떡볶이 한양대점'},\n",
       "   {'restaurant_id': 9,\n",
       "    'id': 35,\n",
       "    'name': '신전치즈김밥',\n",
       "    'detail': '맛있는 신전치즈김밥',\n",
       "    'price': 8000,\n",
       "    'min_quantity': 0,\n",
       "    'max_quantity': 0,\n",
       "    'restaurant_name': '신전 떡볶이',\n",
       "    'restaurant_title': '신전 떡볶이 한양대점'}]}]"
      ]
     },
     "execution_count": 154,
     "metadata": {},
     "output_type": "execute_result"
    }
   ],
   "source": [
    "restaurants_list"
   ]
  },
  {
   "cell_type": "code",
   "execution_count": 156,
   "metadata": {},
   "outputs": [
    {
     "name": "stderr",
     "output_type": "stream",
     "text": [
      "(0.002) SELECT \"grouppurchase_grouppurchase\".\"id\", \"grouppurchase_grouppurchase\".\"created_time\", \"grouppurchase_grouppurchase\".\"updated_time\", \"grouppurchase_grouppurchase\".\"restaurant_id\", \"grouppurchase_grouppurchase\".\"menu_id\", \"grouppurchase_grouppurchase\".\"user_id\", \"grouppurchase_grouppurchase\".\"deadline\", \"grouppurchase_grouppurchase\".\"target_number\", \"grouppurchase_grouppurchase\".\"status\", \"grouppurchase_grouppurchase\".\"notice\" FROM \"grouppurchase_grouppurchase\" WHERE (\"grouppurchase_grouppurchase\".\"restaurant_id\" = 3 AND \"grouppurchase_grouppurchase\".\"status\" = 0)  LIMIT 21; args=(3, 0)\n"
     ]
    },
    {
     "data": {
      "text/plain": [
       "<QuerySet []>"
      ]
     },
     "execution_count": 156,
     "metadata": {},
     "output_type": "execute_result"
    }
   ],
   "source": [
    "from grouppurchase.models import GroupPurchase, GrouppurchaseStatus\n",
    "GroupPurchase.objects.filter(restaurant=3, status=not GrouppurchaseStatus.COMPLETE)"
   ]
  },
  {
   "cell_type": "code",
   "execution_count": 160,
   "metadata": {},
   "outputs": [
    {
     "name": "stderr",
     "output_type": "stream",
     "text": [
      "(0.001) SELECT \"menu_menu\".\"id\", \"menu_menu\".\"created_time\", \"menu_menu\".\"updated_time\", \"menu_menu\".\"restaurant_id\", \"menu_menu\".\"name\", \"menu_menu\".\"img\", \"menu_menu\".\"detail\", \"menu_menu\".\"price\", \"menu_menu\".\"type\", \"menu_menu\".\"hit\", \"menu_menu\".\"score\", \"menu_menu\".\"is_recommended\", \"menu_menu\".\"is_group_purchase\", \"menu_menu\".\"min_quantity\", \"menu_menu\".\"max_quantity\" FROM \"menu_menu\" WHERE (\"menu_menu\".\"id\" = 50 AND \"menu_menu\".\"is_group_purchase\" = true); args=(50, True)\n"
     ]
    },
    {
     "ename": "DoesNotExist",
     "evalue": "Menu matching query does not exist.",
     "output_type": "error",
     "traceback": [
      "\u001b[0;31m---------------------------------------------------------------------------\u001b[0m",
      "\u001b[0;31mDoesNotExist\u001b[0m                              Traceback (most recent call last)",
      "\u001b[0;32m<ipython-input-160-3697bee8e423>\u001b[0m in \u001b[0;36m<module>\u001b[0;34m\u001b[0m\n\u001b[1;32m      1\u001b[0m \u001b[0;32mfrom\u001b[0m \u001b[0mmenu\u001b[0m\u001b[0;34m.\u001b[0m\u001b[0mmodels\u001b[0m \u001b[0;32mimport\u001b[0m \u001b[0mMenu\u001b[0m\u001b[0;34m\u001b[0m\u001b[0;34m\u001b[0m\u001b[0m\n\u001b[0;32m----> 2\u001b[0;31m \u001b[0mMenu\u001b[0m\u001b[0;34m.\u001b[0m\u001b[0mobjects\u001b[0m\u001b[0;34m.\u001b[0m\u001b[0mget\u001b[0m\u001b[0;34m(\u001b[0m\u001b[0mid\u001b[0m\u001b[0;34m=\u001b[0m\u001b[0;36m50\u001b[0m\u001b[0;34m,\u001b[0m \u001b[0mis_group_purchase\u001b[0m\u001b[0;34m=\u001b[0m\u001b[0;32mTrue\u001b[0m\u001b[0;34m)\u001b[0m\u001b[0;34m\u001b[0m\u001b[0;34m\u001b[0m\u001b[0m\n\u001b[0m",
      "\u001b[0;32m~/Desktop/rookiehero/project/venv/lib/python3.7/site-packages/django/db/models/manager.py\u001b[0m in \u001b[0;36mmanager_method\u001b[0;34m(self, *args, **kwargs)\u001b[0m\n\u001b[1;32m     80\u001b[0m         \u001b[0;32mdef\u001b[0m \u001b[0mcreate_method\u001b[0m\u001b[0;34m(\u001b[0m\u001b[0mname\u001b[0m\u001b[0;34m,\u001b[0m \u001b[0mmethod\u001b[0m\u001b[0;34m)\u001b[0m\u001b[0;34m:\u001b[0m\u001b[0;34m\u001b[0m\u001b[0;34m\u001b[0m\u001b[0m\n\u001b[1;32m     81\u001b[0m             \u001b[0;32mdef\u001b[0m \u001b[0mmanager_method\u001b[0m\u001b[0;34m(\u001b[0m\u001b[0mself\u001b[0m\u001b[0;34m,\u001b[0m \u001b[0;34m*\u001b[0m\u001b[0margs\u001b[0m\u001b[0;34m,\u001b[0m \u001b[0;34m**\u001b[0m\u001b[0mkwargs\u001b[0m\u001b[0;34m)\u001b[0m\u001b[0;34m:\u001b[0m\u001b[0;34m\u001b[0m\u001b[0;34m\u001b[0m\u001b[0m\n\u001b[0;32m---> 82\u001b[0;31m                 \u001b[0;32mreturn\u001b[0m \u001b[0mgetattr\u001b[0m\u001b[0;34m(\u001b[0m\u001b[0mself\u001b[0m\u001b[0;34m.\u001b[0m\u001b[0mget_queryset\u001b[0m\u001b[0;34m(\u001b[0m\u001b[0;34m)\u001b[0m\u001b[0;34m,\u001b[0m \u001b[0mname\u001b[0m\u001b[0;34m)\u001b[0m\u001b[0;34m(\u001b[0m\u001b[0;34m*\u001b[0m\u001b[0margs\u001b[0m\u001b[0;34m,\u001b[0m \u001b[0;34m**\u001b[0m\u001b[0mkwargs\u001b[0m\u001b[0;34m)\u001b[0m\u001b[0;34m\u001b[0m\u001b[0;34m\u001b[0m\u001b[0m\n\u001b[0m\u001b[1;32m     83\u001b[0m             \u001b[0mmanager_method\u001b[0m\u001b[0;34m.\u001b[0m\u001b[0m__name__\u001b[0m \u001b[0;34m=\u001b[0m \u001b[0mmethod\u001b[0m\u001b[0;34m.\u001b[0m\u001b[0m__name__\u001b[0m\u001b[0;34m\u001b[0m\u001b[0;34m\u001b[0m\u001b[0m\n\u001b[1;32m     84\u001b[0m             \u001b[0mmanager_method\u001b[0m\u001b[0;34m.\u001b[0m\u001b[0m__doc__\u001b[0m \u001b[0;34m=\u001b[0m \u001b[0mmethod\u001b[0m\u001b[0;34m.\u001b[0m\u001b[0m__doc__\u001b[0m\u001b[0;34m\u001b[0m\u001b[0;34m\u001b[0m\u001b[0m\n",
      "\u001b[0;32m~/Desktop/rookiehero/project/venv/lib/python3.7/site-packages/django/db/models/query.py\u001b[0m in \u001b[0;36mget\u001b[0;34m(self, *args, **kwargs)\u001b[0m\n\u001b[1;32m    397\u001b[0m             raise self.model.DoesNotExist(\n\u001b[1;32m    398\u001b[0m                 \u001b[0;34m\"%s matching query does not exist.\"\u001b[0m \u001b[0;34m%\u001b[0m\u001b[0;34m\u001b[0m\u001b[0;34m\u001b[0m\u001b[0m\n\u001b[0;32m--> 399\u001b[0;31m                 \u001b[0mself\u001b[0m\u001b[0;34m.\u001b[0m\u001b[0mmodel\u001b[0m\u001b[0;34m.\u001b[0m\u001b[0m_meta\u001b[0m\u001b[0;34m.\u001b[0m\u001b[0mobject_name\u001b[0m\u001b[0;34m\u001b[0m\u001b[0;34m\u001b[0m\u001b[0m\n\u001b[0m\u001b[1;32m    400\u001b[0m             )\n\u001b[1;32m    401\u001b[0m         raise self.model.MultipleObjectsReturned(\n",
      "\u001b[0;31mDoesNotExist\u001b[0m: Menu matching query does not exist."
     ]
    }
   ],
   "source": [
    "from menu.models import Menu\n",
    "Menu.objects.get(id=50, is_group_purchase=True)"
   ]
  },
  {
   "cell_type": "code",
   "execution_count": 161,
   "metadata": {},
   "outputs": [
    {
     "name": "stderr",
     "output_type": "stream",
     "text": [
      "(0.001) SELECT \"grouppurchase_grouppurchase\".\"id\", \"grouppurchase_grouppurchase\".\"created_time\", \"grouppurchase_grouppurchase\".\"updated_time\", \"grouppurchase_grouppurchase\".\"restaurant_id\", \"grouppurchase_grouppurchase\".\"menu_id\", \"grouppurchase_grouppurchase\".\"user_id\", \"grouppurchase_grouppurchase\".\"deadline\", \"grouppurchase_grouppurchase\".\"target_number\", \"grouppurchase_grouppurchase\".\"status\", \"grouppurchase_grouppurchase\".\"notice\" FROM \"grouppurchase_grouppurchase\" WHERE (\"grouppurchase_grouppurchase\".\"menu_id\" = 1 AND \"grouppurchase_grouppurchase\".\"status\" = 0)  LIMIT 21; args=(1, 0)\n"
     ]
    },
    {
     "data": {
      "text/plain": [
       "<QuerySet []>"
      ]
     },
     "execution_count": 161,
     "metadata": {},
     "output_type": "execute_result"
    }
   ],
   "source": [
    "GroupPurchase.objects.filter(menu=1, status=not GrouppurchaseStatus.COMPLETE)"
   ]
  },
  {
   "cell_type": "code",
   "execution_count": 163,
   "metadata": {},
   "outputs": [
    {
     "name": "stderr",
     "output_type": "stream",
     "text": [
      "(0.001) SELECT \"grouppurchase_grouppurchase\".\"id\", \"grouppurchase_grouppurchase\".\"created_time\", \"grouppurchase_grouppurchase\".\"updated_time\", \"grouppurchase_grouppurchase\".\"restaurant_id\", \"grouppurchase_grouppurchase\".\"menu_id\", \"grouppurchase_grouppurchase\".\"user_id\", \"grouppurchase_grouppurchase\".\"deadline\", \"grouppurchase_grouppurchase\".\"target_number\", \"grouppurchase_grouppurchase\".\"status\", \"grouppurchase_grouppurchase\".\"notice\" FROM \"grouppurchase_grouppurchase\" WHERE (\"grouppurchase_grouppurchase\".\"menu_id\" = 28 AND \"grouppurchase_grouppurchase\".\"status\" = 0)  LIMIT 21; args=(28, 0)\n"
     ]
    },
    {
     "data": {
      "text/plain": [
       "<QuerySet []>"
      ]
     },
     "execution_count": 163,
     "metadata": {},
     "output_type": "execute_result"
    }
   ],
   "source": [
    "GroupPurchase.objects.filter(menu=28, status=not GrouppurchaseStatus.COMPLETE)"
   ]
  },
  {
   "cell_type": "code",
   "execution_count": null,
   "metadata": {},
   "outputs": [],
   "source": []
  }
 ],
 "metadata": {
  "kernelspec": {
   "display_name": "Django Shell-Plus",
   "language": "python",
   "name": "django_extensions"
  },
  "language_info": {
   "codemirror_mode": {
    "name": "ipython",
    "version": 3
   },
   "file_extension": ".py",
   "mimetype": "text/x-python",
   "name": "python",
   "nbconvert_exporter": "python",
   "pygments_lexer": "ipython3",
   "version": "3.7.2"
  }
 },
 "nbformat": 4,
 "nbformat_minor": 2
}
