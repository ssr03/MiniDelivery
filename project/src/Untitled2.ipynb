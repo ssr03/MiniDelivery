{
 "cells": [
  {
   "cell_type": "code",
   "execution_count": 2,
   "metadata": {},
   "outputs": [
    {
     "name": "stderr",
     "output_type": "stream",
     "text": [
      "(0.001) SELECT \"accounts_user\".\"id\", \"accounts_user\".\"password\", \"accounts_user\".\"last_login\", \"accounts_user\".\"is_superuser\", \"accounts_user\".\"username\", \"accounts_user\".\"first_name\", \"accounts_user\".\"last_name\", \"accounts_user\".\"email\", \"accounts_user\".\"is_staff\", \"accounts_user\".\"is_active\", \"accounts_user\".\"date_joined\", \"accounts_user\".\"phone\", \"accounts_user\".\"address\", \"accounts_user\".\"address_detail\", \"accounts_user\".\"user_type\", \"accounts_user\".\"deactivate_date\" FROM \"accounts_user\"  LIMIT 1; args=()\n"
     ]
    }
   ],
   "source": [
    "user = User.objects.all()[0]\n"
   ]
  },
  {
   "cell_type": "code",
   "execution_count": 3,
   "metadata": {},
   "outputs": [
    {
     "name": "stderr",
     "output_type": "stream",
     "text": [
      "(0.001) SELECT \"coupon_usergiftcoupon\".\"id\", \"coupon_usergiftcoupon\".\"created_time\", \"coupon_usergiftcoupon\".\"updated_time\", \"coupon_usergiftcoupon\".\"gift_coupon_id\", \"coupon_usergiftcoupon\".\"user_id\", \"coupon_usergiftcoupon\".\"prior_user_id\", \"coupon_usergiftcoupon\".\"is_owner\", \"coupon_usergiftcoupon\".\"is_registrant\" FROM \"coupon_usergiftcoupon\"  LIMIT 21; args=()\n",
      "(0.001) SELECT \"coupon_giftcoupon\".\"id\", \"coupon_giftcoupon\".\"created_time\", \"coupon_giftcoupon\".\"updated_time\", \"coupon_giftcoupon\".\"sender_id\", \"coupon_giftcoupon\".\"sender_msg\", \"coupon_giftcoupon\".\"receiver_name\", \"coupon_giftcoupon\".\"receiver_phone\", \"coupon_giftcoupon\".\"receiver_email\", \"coupon_giftcoupon\".\"expire_date\", \"coupon_giftcoupon\".\"coupon_code\", \"coupon_giftcoupon\".\"price\", \"coupon_giftcoupon\".\"is_used\", \"coupon_giftcoupon\".\"used_date\" FROM \"coupon_giftcoupon\" WHERE \"coupon_giftcoupon\".\"id\" = 7; args=(7,)\n"
     ]
    },
    {
     "data": {
      "text/plain": [
       "<QuerySet [<UserGiftCoupon: 693c3140-03b3-48ab-8254-41b0586fbe00>]>"
      ]
     },
     "execution_count": 3,
     "metadata": {},
     "output_type": "execute_result"
    }
   ],
   "source": [
    " UserGiftCoupon.objects.all()"
   ]
  },
  {
   "cell_type": "code",
   "execution_count": 4,
   "metadata": {},
   "outputs": [
    {
     "ename": "NameError",
     "evalue": "name 'coupon_code' is not defined",
     "output_type": "error",
     "traceback": [
      "\u001b[0;31m---------------------------------------------------------------------------\u001b[0m",
      "\u001b[0;31mNameError\u001b[0m                                 Traceback (most recent call last)",
      "\u001b[0;32m<ipython-input-4-c03d39f5f27c>\u001b[0m in \u001b[0;36m<module>\u001b[0;34m\u001b[0m\n\u001b[0;32m----> 1\u001b[0;31m \u001b[0mUserGiftCoupon\u001b[0m\u001b[0;34m.\u001b[0m\u001b[0mobjects\u001b[0m\u001b[0;34m.\u001b[0m\u001b[0mfilter\u001b[0m\u001b[0;34m(\u001b[0m\u001b[0mgift_coupon__coupon_code\u001b[0m\u001b[0;34m=\u001b[0m\u001b[0mcoupon_code\u001b[0m\u001b[0;34m)\u001b[0m\u001b[0;34m\u001b[0m\u001b[0;34m\u001b[0m\u001b[0m\n\u001b[0m",
      "\u001b[0;31mNameError\u001b[0m: name 'coupon_code' is not defined"
     ]
    }
   ],
   "source": [
    "UserGiftCoupon.objects.filter(gift_coupon__coupon_code=coupon_code)"
   ]
  },
  {
   "cell_type": "code",
   "execution_count": 28,
   "metadata": {},
   "outputs": [
    {
     "name": "stderr",
     "output_type": "stream",
     "text": [
      "(0.001) SELECT \"accounts_user\".\"id\", \"accounts_user\".\"password\", \"accounts_user\".\"last_login\", \"accounts_user\".\"is_superuser\", \"accounts_user\".\"username\", \"accounts_user\".\"first_name\", \"accounts_user\".\"last_name\", \"accounts_user\".\"email\", \"accounts_user\".\"is_staff\", \"accounts_user\".\"is_active\", \"accounts_user\".\"date_joined\", \"accounts_user\".\"phone\", \"accounts_user\".\"address\", \"accounts_user\".\"address_detail\", \"accounts_user\".\"user_type\", \"accounts_user\".\"deactivate_date\" FROM \"accounts_user\"  LIMIT 1 OFFSET 1; args=()\n",
      "(0.001) SELECT \"coupon_usergiftcoupon\".\"id\", \"coupon_usergiftcoupon\".\"created_time\", \"coupon_usergiftcoupon\".\"updated_time\", \"coupon_usergiftcoupon\".\"gift_coupon_id\", \"coupon_usergiftcoupon\".\"user_id\", \"coupon_usergiftcoupon\".\"prior_user_id\", \"coupon_usergiftcoupon\".\"is_owner\", \"coupon_usergiftcoupon\".\"is_registrant\", \"coupon_giftcoupon\".\"id\", \"coupon_giftcoupon\".\"created_time\", \"coupon_giftcoupon\".\"updated_time\", \"coupon_giftcoupon\".\"sender_id\", \"coupon_giftcoupon\".\"sender_msg\", \"coupon_giftcoupon\".\"receiver_name\", \"coupon_giftcoupon\".\"receiver_phone\", \"coupon_giftcoupon\".\"receiver_email\", \"coupon_giftcoupon\".\"expire_date\", \"coupon_giftcoupon\".\"coupon_code\", \"coupon_giftcoupon\".\"price\", \"coupon_giftcoupon\".\"is_used\", \"coupon_giftcoupon\".\"used_date\" FROM \"coupon_usergiftcoupon\" INNER JOIN \"coupon_giftcoupon\" ON (\"coupon_usergiftcoupon\".\"gift_coupon_id\" = \"coupon_giftcoupon\".\"id\") WHERE (\"coupon_usergiftcoupon\".\"is_registrant\" = true AND \"coupon_giftcoupon\".\"sender_id\" = 1)  LIMIT 21; args=(True, 1)\n"
     ]
    },
    {
     "data": {
      "text/plain": [
       "<QuerySet []>"
      ]
     },
     "execution_count": 28,
     "metadata": {},
     "output_type": "execute_result"
    }
   ],
   "source": [
    "UserGiftCoupon.objects.select_related('gift_coupon').filter(is_registrant=True).\\\n",
    "filter(gift_coupon__sender=User.objects.all()[1])"
   ]
  },
  {
   "cell_type": "code",
   "execution_count": 15,
   "metadata": {},
   "outputs": [
    {
     "name": "stderr",
     "output_type": "stream",
     "text": [
      "(0.001) SELECT \"coupon_usergiftcoupon\".\"id\", \"coupon_usergiftcoupon\".\"created_time\", \"coupon_usergiftcoupon\".\"updated_time\", \"coupon_usergiftcoupon\".\"gift_coupon_id\", \"coupon_usergiftcoupon\".\"user_id\", \"coupon_usergiftcoupon\".\"prior_user_id\", \"coupon_usergiftcoupon\".\"is_owner\", \"coupon_usergiftcoupon\".\"is_registrant\" FROM \"coupon_usergiftcoupon\" WHERE \"coupon_usergiftcoupon\".\"is_registrant\" = true  LIMIT 21; args=(True,)\n",
      "(0.001) SELECT \"coupon_giftcoupon\".\"id\", \"coupon_giftcoupon\".\"created_time\", \"coupon_giftcoupon\".\"updated_time\", \"coupon_giftcoupon\".\"sender_id\", \"coupon_giftcoupon\".\"sender_msg\", \"coupon_giftcoupon\".\"receiver_name\", \"coupon_giftcoupon\".\"receiver_phone\", \"coupon_giftcoupon\".\"receiver_email\", \"coupon_giftcoupon\".\"expire_date\", \"coupon_giftcoupon\".\"coupon_code\", \"coupon_giftcoupon\".\"price\", \"coupon_giftcoupon\".\"is_used\", \"coupon_giftcoupon\".\"used_date\" FROM \"coupon_giftcoupon\" WHERE \"coupon_giftcoupon\".\"id\" = 8; args=(8,)\n",
      "(0.000) SELECT \"coupon_giftcoupon\".\"id\", \"coupon_giftcoupon\".\"created_time\", \"coupon_giftcoupon\".\"updated_time\", \"coupon_giftcoupon\".\"sender_id\", \"coupon_giftcoupon\".\"sender_msg\", \"coupon_giftcoupon\".\"receiver_name\", \"coupon_giftcoupon\".\"receiver_phone\", \"coupon_giftcoupon\".\"receiver_email\", \"coupon_giftcoupon\".\"expire_date\", \"coupon_giftcoupon\".\"coupon_code\", \"coupon_giftcoupon\".\"price\", \"coupon_giftcoupon\".\"is_used\", \"coupon_giftcoupon\".\"used_date\" FROM \"coupon_giftcoupon\" WHERE \"coupon_giftcoupon\".\"id\" = 7; args=(7,)\n"
     ]
    },
    {
     "data": {
      "text/plain": [
       "<QuerySet [<UserGiftCoupon: 171d14fb-b479-4f11-867c-fa427c4b278d>, <UserGiftCoupon: 693c3140-03b3-48ab-8254-41b0586fbe00>]>"
      ]
     },
     "execution_count": 15,
     "metadata": {},
     "output_type": "execute_result"
    }
   ],
   "source": [
    "UserGiftCoupon.objects.filter(is_registrant = True)"
   ]
  },
  {
   "cell_type": "code",
   "execution_count": 48,
   "metadata": {},
   "outputs": [
    {
     "name": "stderr",
     "output_type": "stream",
     "text": [
      "(0.001) SELECT \"accounts_user\".\"id\", \"accounts_user\".\"password\", \"accounts_user\".\"last_login\", \"accounts_user\".\"is_superuser\", \"accounts_user\".\"username\", \"accounts_user\".\"first_name\", \"accounts_user\".\"last_name\", \"accounts_user\".\"email\", \"accounts_user\".\"is_staff\", \"accounts_user\".\"is_active\", \"accounts_user\".\"date_joined\", \"accounts_user\".\"phone\", \"accounts_user\".\"address\", \"accounts_user\".\"address_detail\", \"accounts_user\".\"user_type\", \"accounts_user\".\"deactivate_date\" FROM \"accounts_user\"  LIMIT 1 OFFSET 1; args=()\n"
     ]
    }
   ],
   "source": [
    "received_coupon=UserGiftCoupon.objects.select_related('gift_coupon').\\\n",
    "                filter(user=User.objects.all()[1]).order_by('-created_time')"
   ]
  },
  {
   "cell_type": "code",
   "execution_count": 33,
   "metadata": {},
   "outputs": [
    {
     "name": "stderr",
     "output_type": "stream",
     "text": [
      "(0.001) SELECT \"coupon_usergiftcoupon\".\"id\", \"coupon_usergiftcoupon\".\"created_time\", \"coupon_usergiftcoupon\".\"updated_time\", \"coupon_usergiftcoupon\".\"gift_coupon_id\", \"coupon_usergiftcoupon\".\"user_id\", \"coupon_usergiftcoupon\".\"prior_user_id\", \"coupon_usergiftcoupon\".\"is_owner\", \"coupon_usergiftcoupon\".\"is_registrant\", \"coupon_giftcoupon\".\"id\", \"coupon_giftcoupon\".\"created_time\", \"coupon_giftcoupon\".\"updated_time\", \"coupon_giftcoupon\".\"sender_id\", \"coupon_giftcoupon\".\"sender_msg\", \"coupon_giftcoupon\".\"receiver_name\", \"coupon_giftcoupon\".\"receiver_phone\", \"coupon_giftcoupon\".\"receiver_email\", \"coupon_giftcoupon\".\"expire_date\", \"coupon_giftcoupon\".\"coupon_code\", \"coupon_giftcoupon\".\"price\", \"coupon_giftcoupon\".\"is_used\", \"coupon_giftcoupon\".\"used_date\" FROM \"coupon_usergiftcoupon\" INNER JOIN \"coupon_giftcoupon\" ON (\"coupon_usergiftcoupon\".\"gift_coupon_id\" = \"coupon_giftcoupon\".\"id\") WHERE \"coupon_usergiftcoupon\".\"user_id\" = 1 ORDER BY \"coupon_usergiftcoupon\".\"created_time\" DESC  LIMIT 21; args=(1,)\n"
     ]
    },
    {
     "data": {
      "text/plain": [
       "<QuerySet [<UserGiftCoupon: 693c3140-03b3-48ab-8254-41b0586fbe00>, <UserGiftCoupon: 171d14fb-b479-4f11-867c-fa427c4b278d>]>"
      ]
     },
     "execution_count": 33,
     "metadata": {},
     "output_type": "execute_result"
    }
   ],
   "source": [
    "sent_coupon"
   ]
  },
  {
   "cell_type": "code",
   "execution_count": 71,
   "metadata": {},
   "outputs": [],
   "source": [
    "coupons_list=received_coupon.values('gift_coupon__id', 'gift_coupon__sender__username','gift_coupon__coupon_code', 'gift_coupon__expire_date',\n",
    "                  'gift_coupon__created_time', 'created_time', 'gift_coupon__is_used','is_owner')"
   ]
  },
  {
   "cell_type": "code",
   "execution_count": 74,
   "metadata": {},
   "outputs": [
    {
     "name": "stderr",
     "output_type": "stream",
     "text": [
      "(0.001) SELECT \"coupon_usergiftcoupon\".\"gift_coupon_id\", T4.\"username\", \"coupon_giftcoupon\".\"coupon_code\", \"coupon_giftcoupon\".\"expire_date\", \"coupon_giftcoupon\".\"created_time\", \"coupon_usergiftcoupon\".\"created_time\", \"coupon_giftcoupon\".\"is_used\", \"coupon_usergiftcoupon\".\"is_owner\" FROM \"coupon_usergiftcoupon\" INNER JOIN \"coupon_giftcoupon\" ON (\"coupon_usergiftcoupon\".\"gift_coupon_id\" = \"coupon_giftcoupon\".\"id\") INNER JOIN \"accounts_user\" T4 ON (\"coupon_giftcoupon\".\"sender_id\" = T4.\"id\") WHERE \"coupon_usergiftcoupon\".\"user_id\" = 1 ORDER BY \"coupon_usergiftcoupon\".\"created_time\" DESC  LIMIT 1; args=(1,)\n"
     ]
    },
    {
     "data": {
      "text/plain": [
       "7"
      ]
     },
     "execution_count": 74,
     "metadata": {},
     "output_type": "execute_result"
    }
   ],
   "source": [
    "coupons_list[0]['gift_coupon__id']\n"
   ]
  },
  {
   "cell_type": "code",
   "execution_count": 60,
   "metadata": {},
   "outputs": [
    {
     "data": {
      "text/plain": [
       "[(13,\n",
       "  'admin',\n",
       "  UUID('693c3140-03b3-48ab-8254-41b0586fbe00'),\n",
       "  datetime.date(2019, 5, 13),\n",
       "  datetime.datetime(2019, 5, 13, 13, 57, 39, 61255, tzinfo=<UTC>),\n",
       "  datetime.datetime(2019, 5, 14, 6, 8, 10, 592544, tzinfo=<UTC>),\n",
       "  False,\n",
       "  True),\n",
       " (12,\n",
       "  'admin',\n",
       "  UUID('171d14fb-b479-4f11-867c-fa427c4b278d'),\n",
       "  datetime.date(2019, 8, 11),\n",
       "  datetime.datetime(2019, 5, 13, 14, 30, 48, 630095, tzinfo=<UTC>),\n",
       "  datetime.datetime(2019, 5, 14, 6, 6, 22, 181773, tzinfo=<UTC>),\n",
       "  False,\n",
       "  True)]"
      ]
     },
     "execution_count": 60,
     "metadata": {},
     "output_type": "execute_result"
    }
   ],
   "source": []
  },
  {
   "cell_type": "code",
   "execution_count": null,
   "metadata": {},
   "outputs": [],
   "source": []
  }
 ],
 "metadata": {
  "kernelspec": {
   "display_name": "Django Shell-Plus",
   "language": "python",
   "name": "django_extensions"
  },
  "language_info": {
   "codemirror_mode": {
    "name": "ipython",
    "version": 3
   },
   "file_extension": ".py",
   "mimetype": "text/x-python",
   "name": "python",
   "nbconvert_exporter": "python",
   "pygments_lexer": "ipython3",
   "version": "3.7.2"
  }
 },
 "nbformat": 4,
 "nbformat_minor": 2
}
