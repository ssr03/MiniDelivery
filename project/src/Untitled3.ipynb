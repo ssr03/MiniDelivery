{
 "cells": [
  {
   "cell_type": "code",
   "execution_count": 1,
   "metadata": {},
   "outputs": [
    {
     "name": "stderr",
     "output_type": "stream",
     "text": [
      "(0.002) SELECT \"accounts_user\".\"id\", \"accounts_user\".\"password\", \"accounts_user\".\"last_login\", \"accounts_user\".\"is_superuser\", \"accounts_user\".\"username\", \"accounts_user\".\"first_name\", \"accounts_user\".\"last_name\", \"accounts_user\".\"email\", \"accounts_user\".\"is_staff\", \"accounts_user\".\"is_active\", \"accounts_user\".\"date_joined\", \"accounts_user\".\"phone\", \"accounts_user\".\"address\", \"accounts_user\".\"address_detail\", \"accounts_user\".\"user_type\", \"accounts_user\".\"deactivate_date\" FROM \"accounts_user\" WHERE \"accounts_user\".\"id\" = 1; args=(1,)\n"
     ]
    },
    {
     "data": {
      "text/plain": [
       "<User: sora.son>"
      ]
     },
     "execution_count": 1,
     "metadata": {},
     "output_type": "execute_result"
    }
   ],
   "source": [
    "user = User.objects.get(pk=1)\n",
    "user\n"
   ]
  },
  {
   "cell_type": "code",
   "execution_count": 2,
   "metadata": {
    "scrolled": true
   },
   "outputs": [],
   "source": [
    "sent_coupons=GiftCoupon.objects.filter(Q(sender=user) | Q(usergiftcoupon__id=UserGiftCoupon(prior_user=user).id))\n",
    "from django.db.models import F\n"
   ]
  },
  {
   "cell_type": "code",
   "execution_count": 5,
   "metadata": {},
   "outputs": [
    {
     "name": "stderr",
     "output_type": "stream",
     "text": [
      "(0.001) SELECT \"coupon_giftcoupon\".\"receiver_name\", \"coupon_giftcoupon\".\"price\", \"coupon_giftcoupon\".\"created_time\", \"coupon_giftcoupon\".\"expire_date\", \"coupon_giftcoupon\".\"is_used\", \"coupon_usergiftcoupon\".\"prior_user_id\", T4.\"username\" AS \"prior_username\" FROM \"coupon_giftcoupon\" LEFT OUTER JOIN \"coupon_usergiftcoupon\" ON (\"coupon_giftcoupon\".\"id\" = \"coupon_usergiftcoupon\".\"gift_coupon_id\") LEFT OUTER JOIN \"accounts_user\" T4 ON (\"coupon_usergiftcoupon\".\"prior_user_id\" = T4.\"id\") WHERE (\"coupon_giftcoupon\".\"sender_id\" = 1 OR \"coupon_usergiftcoupon\".\"id\" IS NULL); args=(1,)\n"
     ]
    }
   ],
   "source": [
    "sent_coupons_values = list(sent_coupons.annotate(prior_username=F('usergiftcoupon__prior_user__username')).values(\n",
    "            'receiver_name', 'price', 'created_time', 'expire_date',  'is_used',\n",
    "            'usergiftcoupon__prior_user', 'prior_username'))"
   ]
  },
  {
   "cell_type": "code",
   "execution_count": 7,
   "metadata": {},
   "outputs": [],
   "source": [
    "sent_coupons_values = (\n",
    "                sent_coupons.annotate(prior_username=F('usergiftcoupon__prior_user__username'),prior_user = F('usergiftcoupon__prior_user')).\n",
    "                    values('receiver_name', 'price', 'created_time', 'expire_date', 'is_used', 'prior_user'\n",
    "                           , 'prior_username'))"
   ]
  },
  {
   "cell_type": "code",
   "execution_count": 8,
   "metadata": {},
   "outputs": [
    {
     "name": "stderr",
     "output_type": "stream",
     "text": [
      "(0.001) SELECT \"coupon_giftcoupon\".\"receiver_name\", \"coupon_giftcoupon\".\"price\", \"coupon_giftcoupon\".\"created_time\", \"coupon_giftcoupon\".\"expire_date\", \"coupon_giftcoupon\".\"is_used\", T4.\"username\" AS \"prior_username\", \"coupon_usergiftcoupon\".\"prior_user_id\" AS \"prior_user\" FROM \"coupon_giftcoupon\" LEFT OUTER JOIN \"coupon_usergiftcoupon\" ON (\"coupon_giftcoupon\".\"id\" = \"coupon_usergiftcoupon\".\"gift_coupon_id\") LEFT OUTER JOIN \"accounts_user\" T4 ON (\"coupon_usergiftcoupon\".\"prior_user_id\" = T4.\"id\") WHERE (\"coupon_giftcoupon\".\"sender_id\" = 1 OR \"coupon_usergiftcoupon\".\"id\" IS NULL); args=(1,)\n"
     ]
    },
    {
     "data": {
      "text/plain": [
       "[{'receiver_name': '장영실',\n",
       "  'price': 50000,\n",
       "  'created_time': datetime.datetime(2019, 5, 16, 2, 5, 34, 838630, tzinfo=<UTC>),\n",
       "  'expire_date': datetime.date(2019, 8, 14),\n",
       "  'is_used': False,\n",
       "  'prior_username': 'sora.son',\n",
       "  'prior_user': 1},\n",
       " {'receiver_name': '정약용',\n",
       "  'price': 30000,\n",
       "  'created_time': datetime.datetime(2019, 5, 15, 9, 20, 2, 381653, tzinfo=<UTC>),\n",
       "  'expire_date': datetime.date(2019, 8, 13),\n",
       "  'is_used': False,\n",
       "  'prior_username': None,\n",
       "  'prior_user': None},\n",
       " {'receiver_name': '홍길동',\n",
       "  'price': 30000,\n",
       "  'created_time': datetime.datetime(2019, 5, 15, 3, 29, 30, 329862, tzinfo=<UTC>),\n",
       "  'expire_date': datetime.date(2019, 8, 13),\n",
       "  'is_used': True,\n",
       "  'prior_username': None,\n",
       "  'prior_user': None}]"
      ]
     },
     "execution_count": 8,
     "metadata": {},
     "output_type": "execute_result"
    }
   ],
   "source": [
    "list(sent_coupons_values)"
   ]
  },
  {
   "cell_type": "code",
   "execution_count": 10,
   "metadata": {},
   "outputs": [
    {
     "name": "stderr",
     "output_type": "stream",
     "text": [
      "(0.001) SELECT \"coupon_usergiftcoupon\".\"id\", \"coupon_usergiftcoupon\".\"created_time\", \"coupon_usergiftcoupon\".\"updated_time\", \"coupon_usergiftcoupon\".\"gift_coupon_id\", \"coupon_usergiftcoupon\".\"user_id\", \"coupon_usergiftcoupon\".\"prior_user_id\", \"coupon_usergiftcoupon\".\"is_owner\", \"coupon_usergiftcoupon\".\"is_registrant\" FROM \"coupon_usergiftcoupon\"  LIMIT 21; args=()\n"
     ]
    },
    {
     "ename": "ProgrammingError",
     "evalue": "relation \"coupon_usergiftcoupon\" does not exist\nLINE 1: ...er\", \"coupon_usergiftcoupon\".\"is_registrant\" FROM \"coupon_us...\n                                                             ^\n",
     "output_type": "error",
     "traceback": [
      "\u001b[0;31m---------------------------------------------------------------------------\u001b[0m",
      "\u001b[0;31mUndefinedTable\u001b[0m                            Traceback (most recent call last)",
      "\u001b[0;32m~/Desktop/rookiehero/project/venv/lib/python3.7/site-packages/django/db/backends/utils.py\u001b[0m in \u001b[0;36m_execute\u001b[0;34m(self, sql, params, *ignored_wrapper_args)\u001b[0m\n\u001b[1;32m     84\u001b[0m             \u001b[0;32melse\u001b[0m\u001b[0;34m:\u001b[0m\u001b[0;34m\u001b[0m\u001b[0;34m\u001b[0m\u001b[0m\n\u001b[0;32m---> 85\u001b[0;31m                 \u001b[0;32mreturn\u001b[0m \u001b[0mself\u001b[0m\u001b[0;34m.\u001b[0m\u001b[0mcursor\u001b[0m\u001b[0;34m.\u001b[0m\u001b[0mexecute\u001b[0m\u001b[0;34m(\u001b[0m\u001b[0msql\u001b[0m\u001b[0;34m,\u001b[0m \u001b[0mparams\u001b[0m\u001b[0;34m)\u001b[0m\u001b[0;34m\u001b[0m\u001b[0;34m\u001b[0m\u001b[0m\n\u001b[0m\u001b[1;32m     86\u001b[0m \u001b[0;34m\u001b[0m\u001b[0m\n",
      "\u001b[0;31mUndefinedTable\u001b[0m: relation \"coupon_usergiftcoupon\" does not exist\nLINE 1: ...er\", \"coupon_usergiftcoupon\".\"is_registrant\" FROM \"coupon_us...\n                                                             ^\n",
      "\nThe above exception was the direct cause of the following exception:\n",
      "\u001b[0;31mProgrammingError\u001b[0m                          Traceback (most recent call last)",
      "\u001b[0;32m~/Desktop/rookiehero/project/venv/lib/python3.7/site-packages/IPython/core/formatters.py\u001b[0m in \u001b[0;36m__call__\u001b[0;34m(self, obj)\u001b[0m\n\u001b[1;32m    700\u001b[0m                 \u001b[0mtype_pprinters\u001b[0m\u001b[0;34m=\u001b[0m\u001b[0mself\u001b[0m\u001b[0;34m.\u001b[0m\u001b[0mtype_printers\u001b[0m\u001b[0;34m,\u001b[0m\u001b[0;34m\u001b[0m\u001b[0;34m\u001b[0m\u001b[0m\n\u001b[1;32m    701\u001b[0m                 deferred_pprinters=self.deferred_printers)\n\u001b[0;32m--> 702\u001b[0;31m             \u001b[0mprinter\u001b[0m\u001b[0;34m.\u001b[0m\u001b[0mpretty\u001b[0m\u001b[0;34m(\u001b[0m\u001b[0mobj\u001b[0m\u001b[0;34m)\u001b[0m\u001b[0;34m\u001b[0m\u001b[0;34m\u001b[0m\u001b[0m\n\u001b[0m\u001b[1;32m    703\u001b[0m             \u001b[0mprinter\u001b[0m\u001b[0;34m.\u001b[0m\u001b[0mflush\u001b[0m\u001b[0;34m(\u001b[0m\u001b[0;34m)\u001b[0m\u001b[0;34m\u001b[0m\u001b[0;34m\u001b[0m\u001b[0m\n\u001b[1;32m    704\u001b[0m             \u001b[0;32mreturn\u001b[0m \u001b[0mstream\u001b[0m\u001b[0;34m.\u001b[0m\u001b[0mgetvalue\u001b[0m\u001b[0;34m(\u001b[0m\u001b[0;34m)\u001b[0m\u001b[0;34m\u001b[0m\u001b[0;34m\u001b[0m\u001b[0m\n",
      "\u001b[0;32m~/Desktop/rookiehero/project/venv/lib/python3.7/site-packages/IPython/lib/pretty.py\u001b[0m in \u001b[0;36mpretty\u001b[0;34m(self, obj)\u001b[0m\n\u001b[1;32m    400\u001b[0m                         \u001b[0;32mif\u001b[0m \u001b[0mcls\u001b[0m \u001b[0;32mis\u001b[0m \u001b[0;32mnot\u001b[0m \u001b[0mobject\u001b[0m\u001b[0;31m \u001b[0m\u001b[0;31m\\\u001b[0m\u001b[0;34m\u001b[0m\u001b[0;34m\u001b[0m\u001b[0m\n\u001b[1;32m    401\u001b[0m                                 \u001b[0;32mand\u001b[0m \u001b[0mcallable\u001b[0m\u001b[0;34m(\u001b[0m\u001b[0mcls\u001b[0m\u001b[0;34m.\u001b[0m\u001b[0m__dict__\u001b[0m\u001b[0;34m.\u001b[0m\u001b[0mget\u001b[0m\u001b[0;34m(\u001b[0m\u001b[0;34m'__repr__'\u001b[0m\u001b[0;34m)\u001b[0m\u001b[0;34m)\u001b[0m\u001b[0;34m:\u001b[0m\u001b[0;34m\u001b[0m\u001b[0;34m\u001b[0m\u001b[0m\n\u001b[0;32m--> 402\u001b[0;31m                             \u001b[0;32mreturn\u001b[0m \u001b[0m_repr_pprint\u001b[0m\u001b[0;34m(\u001b[0m\u001b[0mobj\u001b[0m\u001b[0;34m,\u001b[0m \u001b[0mself\u001b[0m\u001b[0;34m,\u001b[0m \u001b[0mcycle\u001b[0m\u001b[0;34m)\u001b[0m\u001b[0;34m\u001b[0m\u001b[0;34m\u001b[0m\u001b[0m\n\u001b[0m\u001b[1;32m    403\u001b[0m \u001b[0;34m\u001b[0m\u001b[0m\n\u001b[1;32m    404\u001b[0m             \u001b[0;32mreturn\u001b[0m \u001b[0m_default_pprint\u001b[0m\u001b[0;34m(\u001b[0m\u001b[0mobj\u001b[0m\u001b[0;34m,\u001b[0m \u001b[0mself\u001b[0m\u001b[0;34m,\u001b[0m \u001b[0mcycle\u001b[0m\u001b[0;34m)\u001b[0m\u001b[0;34m\u001b[0m\u001b[0;34m\u001b[0m\u001b[0m\n",
      "\u001b[0;32m~/Desktop/rookiehero/project/venv/lib/python3.7/site-packages/IPython/lib/pretty.py\u001b[0m in \u001b[0;36m_repr_pprint\u001b[0;34m(obj, p, cycle)\u001b[0m\n\u001b[1;32m    695\u001b[0m     \u001b[0;34m\"\"\"A pprint that just redirects to the normal repr function.\"\"\"\u001b[0m\u001b[0;34m\u001b[0m\u001b[0;34m\u001b[0m\u001b[0m\n\u001b[1;32m    696\u001b[0m     \u001b[0;31m# Find newlines and replace them with p.break_()\u001b[0m\u001b[0;34m\u001b[0m\u001b[0;34m\u001b[0m\u001b[0;34m\u001b[0m\u001b[0m\n\u001b[0;32m--> 697\u001b[0;31m     \u001b[0moutput\u001b[0m \u001b[0;34m=\u001b[0m \u001b[0mrepr\u001b[0m\u001b[0;34m(\u001b[0m\u001b[0mobj\u001b[0m\u001b[0;34m)\u001b[0m\u001b[0;34m\u001b[0m\u001b[0;34m\u001b[0m\u001b[0m\n\u001b[0m\u001b[1;32m    698\u001b[0m     \u001b[0;32mfor\u001b[0m \u001b[0midx\u001b[0m\u001b[0;34m,\u001b[0m\u001b[0moutput_line\u001b[0m \u001b[0;32min\u001b[0m \u001b[0menumerate\u001b[0m\u001b[0;34m(\u001b[0m\u001b[0moutput\u001b[0m\u001b[0;34m.\u001b[0m\u001b[0msplitlines\u001b[0m\u001b[0;34m(\u001b[0m\u001b[0;34m)\u001b[0m\u001b[0;34m)\u001b[0m\u001b[0;34m:\u001b[0m\u001b[0;34m\u001b[0m\u001b[0;34m\u001b[0m\u001b[0m\n\u001b[1;32m    699\u001b[0m         \u001b[0;32mif\u001b[0m \u001b[0midx\u001b[0m\u001b[0;34m:\u001b[0m\u001b[0;34m\u001b[0m\u001b[0;34m\u001b[0m\u001b[0m\n",
      "\u001b[0;32m~/Desktop/rookiehero/project/venv/lib/python3.7/site-packages/django/db/models/query.py\u001b[0m in \u001b[0;36m__repr__\u001b[0;34m(self)\u001b[0m\n\u001b[1;32m    242\u001b[0m \u001b[0;34m\u001b[0m\u001b[0m\n\u001b[1;32m    243\u001b[0m     \u001b[0;32mdef\u001b[0m \u001b[0m__repr__\u001b[0m\u001b[0;34m(\u001b[0m\u001b[0mself\u001b[0m\u001b[0;34m)\u001b[0m\u001b[0;34m:\u001b[0m\u001b[0;34m\u001b[0m\u001b[0;34m\u001b[0m\u001b[0m\n\u001b[0;32m--> 244\u001b[0;31m         \u001b[0mdata\u001b[0m \u001b[0;34m=\u001b[0m \u001b[0mlist\u001b[0m\u001b[0;34m(\u001b[0m\u001b[0mself\u001b[0m\u001b[0;34m[\u001b[0m\u001b[0;34m:\u001b[0m\u001b[0mREPR_OUTPUT_SIZE\u001b[0m \u001b[0;34m+\u001b[0m \u001b[0;36m1\u001b[0m\u001b[0;34m]\u001b[0m\u001b[0;34m)\u001b[0m\u001b[0;34m\u001b[0m\u001b[0;34m\u001b[0m\u001b[0m\n\u001b[0m\u001b[1;32m    245\u001b[0m         \u001b[0;32mif\u001b[0m \u001b[0mlen\u001b[0m\u001b[0;34m(\u001b[0m\u001b[0mdata\u001b[0m\u001b[0;34m)\u001b[0m \u001b[0;34m>\u001b[0m \u001b[0mREPR_OUTPUT_SIZE\u001b[0m\u001b[0;34m:\u001b[0m\u001b[0;34m\u001b[0m\u001b[0;34m\u001b[0m\u001b[0m\n\u001b[1;32m    246\u001b[0m             \u001b[0mdata\u001b[0m\u001b[0;34m[\u001b[0m\u001b[0;34m-\u001b[0m\u001b[0;36m1\u001b[0m\u001b[0;34m]\u001b[0m \u001b[0;34m=\u001b[0m \u001b[0;34m\"...(remaining elements truncated)...\"\u001b[0m\u001b[0;34m\u001b[0m\u001b[0;34m\u001b[0m\u001b[0m\n",
      "\u001b[0;32m~/Desktop/rookiehero/project/venv/lib/python3.7/site-packages/django/db/models/query.py\u001b[0m in \u001b[0;36m__iter__\u001b[0;34m(self)\u001b[0m\n\u001b[1;32m    266\u001b[0m                \u001b[0;34m-\u001b[0m \u001b[0mResponsible\u001b[0m \u001b[0;32mfor\u001b[0m \u001b[0mturning\u001b[0m \u001b[0mthe\u001b[0m \u001b[0mrows\u001b[0m \u001b[0minto\u001b[0m \u001b[0mmodel\u001b[0m \u001b[0mobjects\u001b[0m\u001b[0;34m.\u001b[0m\u001b[0;34m\u001b[0m\u001b[0;34m\u001b[0m\u001b[0m\n\u001b[1;32m    267\u001b[0m         \"\"\"\n\u001b[0;32m--> 268\u001b[0;31m         \u001b[0mself\u001b[0m\u001b[0;34m.\u001b[0m\u001b[0m_fetch_all\u001b[0m\u001b[0;34m(\u001b[0m\u001b[0;34m)\u001b[0m\u001b[0;34m\u001b[0m\u001b[0;34m\u001b[0m\u001b[0m\n\u001b[0m\u001b[1;32m    269\u001b[0m         \u001b[0;32mreturn\u001b[0m \u001b[0miter\u001b[0m\u001b[0;34m(\u001b[0m\u001b[0mself\u001b[0m\u001b[0;34m.\u001b[0m\u001b[0m_result_cache\u001b[0m\u001b[0;34m)\u001b[0m\u001b[0;34m\u001b[0m\u001b[0;34m\u001b[0m\u001b[0m\n\u001b[1;32m    270\u001b[0m \u001b[0;34m\u001b[0m\u001b[0m\n",
      "\u001b[0;32m~/Desktop/rookiehero/project/venv/lib/python3.7/site-packages/django/db/models/query.py\u001b[0m in \u001b[0;36m_fetch_all\u001b[0;34m(self)\u001b[0m\n\u001b[1;32m   1181\u001b[0m     \u001b[0;32mdef\u001b[0m \u001b[0m_fetch_all\u001b[0m\u001b[0;34m(\u001b[0m\u001b[0mself\u001b[0m\u001b[0;34m)\u001b[0m\u001b[0;34m:\u001b[0m\u001b[0;34m\u001b[0m\u001b[0;34m\u001b[0m\u001b[0m\n\u001b[1;32m   1182\u001b[0m         \u001b[0;32mif\u001b[0m \u001b[0mself\u001b[0m\u001b[0;34m.\u001b[0m\u001b[0m_result_cache\u001b[0m \u001b[0;32mis\u001b[0m \u001b[0;32mNone\u001b[0m\u001b[0;34m:\u001b[0m\u001b[0;34m\u001b[0m\u001b[0;34m\u001b[0m\u001b[0m\n\u001b[0;32m-> 1183\u001b[0;31m             \u001b[0mself\u001b[0m\u001b[0;34m.\u001b[0m\u001b[0m_result_cache\u001b[0m \u001b[0;34m=\u001b[0m \u001b[0mlist\u001b[0m\u001b[0;34m(\u001b[0m\u001b[0mself\u001b[0m\u001b[0;34m.\u001b[0m\u001b[0m_iterable_class\u001b[0m\u001b[0;34m(\u001b[0m\u001b[0mself\u001b[0m\u001b[0;34m)\u001b[0m\u001b[0;34m)\u001b[0m\u001b[0;34m\u001b[0m\u001b[0;34m\u001b[0m\u001b[0m\n\u001b[0m\u001b[1;32m   1184\u001b[0m         \u001b[0;32mif\u001b[0m \u001b[0mself\u001b[0m\u001b[0;34m.\u001b[0m\u001b[0m_prefetch_related_lookups\u001b[0m \u001b[0;32mand\u001b[0m \u001b[0;32mnot\u001b[0m \u001b[0mself\u001b[0m\u001b[0;34m.\u001b[0m\u001b[0m_prefetch_done\u001b[0m\u001b[0;34m:\u001b[0m\u001b[0;34m\u001b[0m\u001b[0;34m\u001b[0m\u001b[0m\n\u001b[1;32m   1185\u001b[0m             \u001b[0mself\u001b[0m\u001b[0;34m.\u001b[0m\u001b[0m_prefetch_related_objects\u001b[0m\u001b[0;34m(\u001b[0m\u001b[0;34m)\u001b[0m\u001b[0;34m\u001b[0m\u001b[0;34m\u001b[0m\u001b[0m\n",
      "\u001b[0;32m~/Desktop/rookiehero/project/venv/lib/python3.7/site-packages/django/db/models/query.py\u001b[0m in \u001b[0;36m__iter__\u001b[0;34m(self)\u001b[0m\n\u001b[1;32m     52\u001b[0m         \u001b[0;31m# Execute the query. This will also fill compiler.select, klass_info,\u001b[0m\u001b[0;34m\u001b[0m\u001b[0;34m\u001b[0m\u001b[0;34m\u001b[0m\u001b[0m\n\u001b[1;32m     53\u001b[0m         \u001b[0;31m# and annotations.\u001b[0m\u001b[0;34m\u001b[0m\u001b[0;34m\u001b[0m\u001b[0;34m\u001b[0m\u001b[0m\n\u001b[0;32m---> 54\u001b[0;31m         \u001b[0mresults\u001b[0m \u001b[0;34m=\u001b[0m \u001b[0mcompiler\u001b[0m\u001b[0;34m.\u001b[0m\u001b[0mexecute_sql\u001b[0m\u001b[0;34m(\u001b[0m\u001b[0mchunked_fetch\u001b[0m\u001b[0;34m=\u001b[0m\u001b[0mself\u001b[0m\u001b[0;34m.\u001b[0m\u001b[0mchunked_fetch\u001b[0m\u001b[0;34m,\u001b[0m \u001b[0mchunk_size\u001b[0m\u001b[0;34m=\u001b[0m\u001b[0mself\u001b[0m\u001b[0;34m.\u001b[0m\u001b[0mchunk_size\u001b[0m\u001b[0;34m)\u001b[0m\u001b[0;34m\u001b[0m\u001b[0;34m\u001b[0m\u001b[0m\n\u001b[0m\u001b[1;32m     55\u001b[0m         select, klass_info, annotation_col_map = (compiler.select, compiler.klass_info,\n\u001b[1;32m     56\u001b[0m                                                   compiler.annotation_col_map)\n",
      "\u001b[0;32m~/Desktop/rookiehero/project/venv/lib/python3.7/site-packages/django/db/models/sql/compiler.py\u001b[0m in \u001b[0;36mexecute_sql\u001b[0;34m(self, result_type, chunked_fetch, chunk_size)\u001b[0m\n\u001b[1;32m   1059\u001b[0m             \u001b[0mcursor\u001b[0m \u001b[0;34m=\u001b[0m \u001b[0mself\u001b[0m\u001b[0;34m.\u001b[0m\u001b[0mconnection\u001b[0m\u001b[0;34m.\u001b[0m\u001b[0mcursor\u001b[0m\u001b[0;34m(\u001b[0m\u001b[0;34m)\u001b[0m\u001b[0;34m\u001b[0m\u001b[0;34m\u001b[0m\u001b[0m\n\u001b[1;32m   1060\u001b[0m         \u001b[0;32mtry\u001b[0m\u001b[0;34m:\u001b[0m\u001b[0;34m\u001b[0m\u001b[0;34m\u001b[0m\u001b[0m\n\u001b[0;32m-> 1061\u001b[0;31m             \u001b[0mcursor\u001b[0m\u001b[0;34m.\u001b[0m\u001b[0mexecute\u001b[0m\u001b[0;34m(\u001b[0m\u001b[0msql\u001b[0m\u001b[0;34m,\u001b[0m \u001b[0mparams\u001b[0m\u001b[0;34m)\u001b[0m\u001b[0;34m\u001b[0m\u001b[0;34m\u001b[0m\u001b[0m\n\u001b[0m\u001b[1;32m   1062\u001b[0m         \u001b[0;32mexcept\u001b[0m \u001b[0mException\u001b[0m\u001b[0;34m:\u001b[0m\u001b[0;34m\u001b[0m\u001b[0;34m\u001b[0m\u001b[0m\n\u001b[1;32m   1063\u001b[0m             \u001b[0;31m# Might fail for server-side cursors (e.g. connection closed)\u001b[0m\u001b[0;34m\u001b[0m\u001b[0;34m\u001b[0m\u001b[0;34m\u001b[0m\u001b[0m\n",
      "\u001b[0;32m~/Desktop/rookiehero/project/venv/lib/python3.7/site-packages/django/db/backends/utils.py\u001b[0m in \u001b[0;36mexecute\u001b[0;34m(self, sql, params)\u001b[0m\n\u001b[1;32m     98\u001b[0m         \u001b[0mstart\u001b[0m \u001b[0;34m=\u001b[0m \u001b[0mtime\u001b[0m\u001b[0;34m(\u001b[0m\u001b[0;34m)\u001b[0m\u001b[0;34m\u001b[0m\u001b[0;34m\u001b[0m\u001b[0m\n\u001b[1;32m     99\u001b[0m         \u001b[0;32mtry\u001b[0m\u001b[0;34m:\u001b[0m\u001b[0;34m\u001b[0m\u001b[0;34m\u001b[0m\u001b[0m\n\u001b[0;32m--> 100\u001b[0;31m             \u001b[0;32mreturn\u001b[0m \u001b[0msuper\u001b[0m\u001b[0;34m(\u001b[0m\u001b[0;34m)\u001b[0m\u001b[0;34m.\u001b[0m\u001b[0mexecute\u001b[0m\u001b[0;34m(\u001b[0m\u001b[0msql\u001b[0m\u001b[0;34m,\u001b[0m \u001b[0mparams\u001b[0m\u001b[0;34m)\u001b[0m\u001b[0;34m\u001b[0m\u001b[0;34m\u001b[0m\u001b[0m\n\u001b[0m\u001b[1;32m    101\u001b[0m         \u001b[0;32mfinally\u001b[0m\u001b[0;34m:\u001b[0m\u001b[0;34m\u001b[0m\u001b[0;34m\u001b[0m\u001b[0m\n\u001b[1;32m    102\u001b[0m             \u001b[0mstop\u001b[0m \u001b[0;34m=\u001b[0m \u001b[0mtime\u001b[0m\u001b[0;34m(\u001b[0m\u001b[0;34m)\u001b[0m\u001b[0;34m\u001b[0m\u001b[0;34m\u001b[0m\u001b[0m\n",
      "\u001b[0;32m~/Desktop/rookiehero/project/venv/lib/python3.7/site-packages/django/db/backends/utils.py\u001b[0m in \u001b[0;36mexecute\u001b[0;34m(self, sql, params)\u001b[0m\n\u001b[1;32m     66\u001b[0m \u001b[0;34m\u001b[0m\u001b[0m\n\u001b[1;32m     67\u001b[0m     \u001b[0;32mdef\u001b[0m \u001b[0mexecute\u001b[0m\u001b[0;34m(\u001b[0m\u001b[0mself\u001b[0m\u001b[0;34m,\u001b[0m \u001b[0msql\u001b[0m\u001b[0;34m,\u001b[0m \u001b[0mparams\u001b[0m\u001b[0;34m=\u001b[0m\u001b[0;32mNone\u001b[0m\u001b[0;34m)\u001b[0m\u001b[0;34m:\u001b[0m\u001b[0;34m\u001b[0m\u001b[0;34m\u001b[0m\u001b[0m\n\u001b[0;32m---> 68\u001b[0;31m         \u001b[0;32mreturn\u001b[0m \u001b[0mself\u001b[0m\u001b[0;34m.\u001b[0m\u001b[0m_execute_with_wrappers\u001b[0m\u001b[0;34m(\u001b[0m\u001b[0msql\u001b[0m\u001b[0;34m,\u001b[0m \u001b[0mparams\u001b[0m\u001b[0;34m,\u001b[0m \u001b[0mmany\u001b[0m\u001b[0;34m=\u001b[0m\u001b[0;32mFalse\u001b[0m\u001b[0;34m,\u001b[0m \u001b[0mexecutor\u001b[0m\u001b[0;34m=\u001b[0m\u001b[0mself\u001b[0m\u001b[0;34m.\u001b[0m\u001b[0m_execute\u001b[0m\u001b[0;34m)\u001b[0m\u001b[0;34m\u001b[0m\u001b[0;34m\u001b[0m\u001b[0m\n\u001b[0m\u001b[1;32m     69\u001b[0m \u001b[0;34m\u001b[0m\u001b[0m\n\u001b[1;32m     70\u001b[0m     \u001b[0;32mdef\u001b[0m \u001b[0mexecutemany\u001b[0m\u001b[0;34m(\u001b[0m\u001b[0mself\u001b[0m\u001b[0;34m,\u001b[0m \u001b[0msql\u001b[0m\u001b[0;34m,\u001b[0m \u001b[0mparam_list\u001b[0m\u001b[0;34m)\u001b[0m\u001b[0;34m:\u001b[0m\u001b[0;34m\u001b[0m\u001b[0;34m\u001b[0m\u001b[0m\n",
      "\u001b[0;32m~/Desktop/rookiehero/project/venv/lib/python3.7/site-packages/django/db/backends/utils.py\u001b[0m in \u001b[0;36m_execute_with_wrappers\u001b[0;34m(self, sql, params, many, executor)\u001b[0m\n\u001b[1;32m     75\u001b[0m         \u001b[0;32mfor\u001b[0m \u001b[0mwrapper\u001b[0m \u001b[0;32min\u001b[0m \u001b[0mreversed\u001b[0m\u001b[0;34m(\u001b[0m\u001b[0mself\u001b[0m\u001b[0;34m.\u001b[0m\u001b[0mdb\u001b[0m\u001b[0;34m.\u001b[0m\u001b[0mexecute_wrappers\u001b[0m\u001b[0;34m)\u001b[0m\u001b[0;34m:\u001b[0m\u001b[0;34m\u001b[0m\u001b[0;34m\u001b[0m\u001b[0m\n\u001b[1;32m     76\u001b[0m             \u001b[0mexecutor\u001b[0m \u001b[0;34m=\u001b[0m \u001b[0mfunctools\u001b[0m\u001b[0;34m.\u001b[0m\u001b[0mpartial\u001b[0m\u001b[0;34m(\u001b[0m\u001b[0mwrapper\u001b[0m\u001b[0;34m,\u001b[0m \u001b[0mexecutor\u001b[0m\u001b[0;34m)\u001b[0m\u001b[0;34m\u001b[0m\u001b[0;34m\u001b[0m\u001b[0m\n\u001b[0;32m---> 77\u001b[0;31m         \u001b[0;32mreturn\u001b[0m \u001b[0mexecutor\u001b[0m\u001b[0;34m(\u001b[0m\u001b[0msql\u001b[0m\u001b[0;34m,\u001b[0m \u001b[0mparams\u001b[0m\u001b[0;34m,\u001b[0m \u001b[0mmany\u001b[0m\u001b[0;34m,\u001b[0m \u001b[0mcontext\u001b[0m\u001b[0;34m)\u001b[0m\u001b[0;34m\u001b[0m\u001b[0;34m\u001b[0m\u001b[0m\n\u001b[0m\u001b[1;32m     78\u001b[0m \u001b[0;34m\u001b[0m\u001b[0m\n\u001b[1;32m     79\u001b[0m     \u001b[0;32mdef\u001b[0m \u001b[0m_execute\u001b[0m\u001b[0;34m(\u001b[0m\u001b[0mself\u001b[0m\u001b[0;34m,\u001b[0m \u001b[0msql\u001b[0m\u001b[0;34m,\u001b[0m \u001b[0mparams\u001b[0m\u001b[0;34m,\u001b[0m \u001b[0;34m*\u001b[0m\u001b[0mignored_wrapper_args\u001b[0m\u001b[0;34m)\u001b[0m\u001b[0;34m:\u001b[0m\u001b[0;34m\u001b[0m\u001b[0;34m\u001b[0m\u001b[0m\n",
      "\u001b[0;32m~/Desktop/rookiehero/project/venv/lib/python3.7/site-packages/django/db/backends/utils.py\u001b[0m in \u001b[0;36m_execute\u001b[0;34m(self, sql, params, *ignored_wrapper_args)\u001b[0m\n\u001b[1;32m     83\u001b[0m                 \u001b[0;32mreturn\u001b[0m \u001b[0mself\u001b[0m\u001b[0;34m.\u001b[0m\u001b[0mcursor\u001b[0m\u001b[0;34m.\u001b[0m\u001b[0mexecute\u001b[0m\u001b[0;34m(\u001b[0m\u001b[0msql\u001b[0m\u001b[0;34m)\u001b[0m\u001b[0;34m\u001b[0m\u001b[0;34m\u001b[0m\u001b[0m\n\u001b[1;32m     84\u001b[0m             \u001b[0;32melse\u001b[0m\u001b[0;34m:\u001b[0m\u001b[0;34m\u001b[0m\u001b[0;34m\u001b[0m\u001b[0m\n\u001b[0;32m---> 85\u001b[0;31m                 \u001b[0;32mreturn\u001b[0m \u001b[0mself\u001b[0m\u001b[0;34m.\u001b[0m\u001b[0mcursor\u001b[0m\u001b[0;34m.\u001b[0m\u001b[0mexecute\u001b[0m\u001b[0;34m(\u001b[0m\u001b[0msql\u001b[0m\u001b[0;34m,\u001b[0m \u001b[0mparams\u001b[0m\u001b[0;34m)\u001b[0m\u001b[0;34m\u001b[0m\u001b[0;34m\u001b[0m\u001b[0m\n\u001b[0m\u001b[1;32m     86\u001b[0m \u001b[0;34m\u001b[0m\u001b[0m\n\u001b[1;32m     87\u001b[0m     \u001b[0;32mdef\u001b[0m \u001b[0m_executemany\u001b[0m\u001b[0;34m(\u001b[0m\u001b[0mself\u001b[0m\u001b[0;34m,\u001b[0m \u001b[0msql\u001b[0m\u001b[0;34m,\u001b[0m \u001b[0mparam_list\u001b[0m\u001b[0;34m,\u001b[0m \u001b[0;34m*\u001b[0m\u001b[0mignored_wrapper_args\u001b[0m\u001b[0;34m)\u001b[0m\u001b[0;34m:\u001b[0m\u001b[0;34m\u001b[0m\u001b[0;34m\u001b[0m\u001b[0m\n",
      "\u001b[0;32m~/Desktop/rookiehero/project/venv/lib/python3.7/site-packages/django/db/utils.py\u001b[0m in \u001b[0;36m__exit__\u001b[0;34m(self, exc_type, exc_value, traceback)\u001b[0m\n\u001b[1;32m     87\u001b[0m                 \u001b[0;32mif\u001b[0m \u001b[0mdj_exc_type\u001b[0m \u001b[0;32mnot\u001b[0m \u001b[0;32min\u001b[0m \u001b[0;34m(\u001b[0m\u001b[0mDataError\u001b[0m\u001b[0;34m,\u001b[0m \u001b[0mIntegrityError\u001b[0m\u001b[0;34m)\u001b[0m\u001b[0;34m:\u001b[0m\u001b[0;34m\u001b[0m\u001b[0;34m\u001b[0m\u001b[0m\n\u001b[1;32m     88\u001b[0m                     \u001b[0mself\u001b[0m\u001b[0;34m.\u001b[0m\u001b[0mwrapper\u001b[0m\u001b[0;34m.\u001b[0m\u001b[0merrors_occurred\u001b[0m \u001b[0;34m=\u001b[0m \u001b[0;32mTrue\u001b[0m\u001b[0;34m\u001b[0m\u001b[0;34m\u001b[0m\u001b[0m\n\u001b[0;32m---> 89\u001b[0;31m                 \u001b[0;32mraise\u001b[0m \u001b[0mdj_exc_value\u001b[0m\u001b[0;34m.\u001b[0m\u001b[0mwith_traceback\u001b[0m\u001b[0;34m(\u001b[0m\u001b[0mtraceback\u001b[0m\u001b[0;34m)\u001b[0m \u001b[0;32mfrom\u001b[0m \u001b[0mexc_value\u001b[0m\u001b[0;34m\u001b[0m\u001b[0;34m\u001b[0m\u001b[0m\n\u001b[0m\u001b[1;32m     90\u001b[0m \u001b[0;34m\u001b[0m\u001b[0m\n\u001b[1;32m     91\u001b[0m     \u001b[0;32mdef\u001b[0m \u001b[0m__call__\u001b[0m\u001b[0;34m(\u001b[0m\u001b[0mself\u001b[0m\u001b[0;34m,\u001b[0m \u001b[0mfunc\u001b[0m\u001b[0;34m)\u001b[0m\u001b[0;34m:\u001b[0m\u001b[0;34m\u001b[0m\u001b[0;34m\u001b[0m\u001b[0m\n",
      "\u001b[0;32m~/Desktop/rookiehero/project/venv/lib/python3.7/site-packages/django/db/backends/utils.py\u001b[0m in \u001b[0;36m_execute\u001b[0;34m(self, sql, params, *ignored_wrapper_args)\u001b[0m\n\u001b[1;32m     83\u001b[0m                 \u001b[0;32mreturn\u001b[0m \u001b[0mself\u001b[0m\u001b[0;34m.\u001b[0m\u001b[0mcursor\u001b[0m\u001b[0;34m.\u001b[0m\u001b[0mexecute\u001b[0m\u001b[0;34m(\u001b[0m\u001b[0msql\u001b[0m\u001b[0;34m)\u001b[0m\u001b[0;34m\u001b[0m\u001b[0;34m\u001b[0m\u001b[0m\n\u001b[1;32m     84\u001b[0m             \u001b[0;32melse\u001b[0m\u001b[0;34m:\u001b[0m\u001b[0;34m\u001b[0m\u001b[0;34m\u001b[0m\u001b[0m\n\u001b[0;32m---> 85\u001b[0;31m                 \u001b[0;32mreturn\u001b[0m \u001b[0mself\u001b[0m\u001b[0;34m.\u001b[0m\u001b[0mcursor\u001b[0m\u001b[0;34m.\u001b[0m\u001b[0mexecute\u001b[0m\u001b[0;34m(\u001b[0m\u001b[0msql\u001b[0m\u001b[0;34m,\u001b[0m \u001b[0mparams\u001b[0m\u001b[0;34m)\u001b[0m\u001b[0;34m\u001b[0m\u001b[0;34m\u001b[0m\u001b[0m\n\u001b[0m\u001b[1;32m     86\u001b[0m \u001b[0;34m\u001b[0m\u001b[0m\n\u001b[1;32m     87\u001b[0m     \u001b[0;32mdef\u001b[0m \u001b[0m_executemany\u001b[0m\u001b[0;34m(\u001b[0m\u001b[0mself\u001b[0m\u001b[0;34m,\u001b[0m \u001b[0msql\u001b[0m\u001b[0;34m,\u001b[0m \u001b[0mparam_list\u001b[0m\u001b[0;34m,\u001b[0m \u001b[0;34m*\u001b[0m\u001b[0mignored_wrapper_args\u001b[0m\u001b[0;34m)\u001b[0m\u001b[0;34m:\u001b[0m\u001b[0;34m\u001b[0m\u001b[0;34m\u001b[0m\u001b[0m\n",
      "\u001b[0;31mProgrammingError\u001b[0m: relation \"coupon_usergiftcoupon\" does not exist\nLINE 1: ...er\", \"coupon_usergiftcoupon\".\"is_registrant\" FROM \"coupon_us...\n                                                             ^\n"
     ]
    }
   ],
   "source": [
    "UserGiftCoupon.objects.all()"
   ]
  },
  {
   "cell_type": "code",
   "execution_count": 11,
   "metadata": {},
   "outputs": [],
   "source": [
    "registered_coupon=UserGiftCoupon.objects.select_related('gift_coupon').filter(pk=1)\n"
   ]
  },
  {
   "cell_type": "code",
   "execution_count": 13,
   "metadata": {},
   "outputs": [
    {
     "name": "stderr",
     "output_type": "stream",
     "text": [
      "(0.001) SELECT \"coupon_usergiftcoupon\".\"id\", \"coupon_usergiftcoupon\".\"created_time\", \"coupon_usergiftcoupon\".\"updated_time\", \"coupon_usergiftcoupon\".\"gift_coupon_id\", \"coupon_usergiftcoupon\".\"user_id\", \"coupon_usergiftcoupon\".\"prior_user_id\", \"coupon_usergiftcoupon\".\"is_owner\", \"coupon_usergiftcoupon\".\"is_registrant\" FROM \"coupon_usergiftcoupon\" WHERE \"coupon_usergiftcoupon\".\"id\" = 1  LIMIT 21; args=(1,)\n"
     ]
    },
    {
     "data": {
      "text/plain": [
       "<QuerySet [{'id': 1, 'created_time': datetime.datetime(2019, 5, 16, 8, 25, 48, 96000, tzinfo=<UTC>), 'updated_time': datetime.datetime(2019, 5, 16, 8, 25, 48, 96000, tzinfo=<UTC>), 'gift_coupon_id': 1, 'user_id': 9, 'prior_user_id': None, 'is_owner': True, 'is_registrant': True}]>"
      ]
     },
     "execution_count": 13,
     "metadata": {},
     "output_type": "execute_result"
    }
   ],
   "source": [
    "registered_coupon.values()"
   ]
  },
  {
   "cell_type": "code",
   "execution_count": 14,
   "metadata": {},
   "outputs": [
    {
     "name": "stderr",
     "output_type": "stream",
     "text": [
      "(0.001) UPDATE \"coupon_usergiftcoupon\" SET \"is_owner\" = false WHERE \"coupon_usergiftcoupon\".\"id\" = 1; args=(False, 1)\n"
     ]
    },
    {
     "data": {
      "text/plain": [
       "1"
      ]
     },
     "execution_count": 14,
     "metadata": {},
     "output_type": "execute_result"
    }
   ],
   "source": [
    "registered_coupon.update(is_owner=False)"
   ]
  },
  {
   "cell_type": "code",
   "execution_count": 16,
   "metadata": {},
   "outputs": [
    {
     "name": "stderr",
     "output_type": "stream",
     "text": [
      "(0.001) SELECT \"coupon_usergiftcoupon\".\"id\", \"coupon_usergiftcoupon\".\"created_time\", \"coupon_usergiftcoupon\".\"updated_time\", \"coupon_usergiftcoupon\".\"gift_coupon_id\", \"coupon_usergiftcoupon\".\"user_id\", \"coupon_usergiftcoupon\".\"prior_user_id\", \"coupon_usergiftcoupon\".\"is_owner\", \"coupon_usergiftcoupon\".\"is_registrant\" FROM \"coupon_usergiftcoupon\" WHERE \"coupon_usergiftcoupon\".\"id\" = 1; args=(1,)\n"
     ]
    },
    {
     "data": {
      "text/plain": [
       "[{'id': 1,\n",
       "  'created_time': datetime.datetime(2019, 5, 16, 8, 25, 48, 96000, tzinfo=<UTC>),\n",
       "  'updated_time': datetime.datetime(2019, 5, 16, 8, 25, 48, 96000, tzinfo=<UTC>),\n",
       "  'gift_coupon_id': 1,\n",
       "  'user_id': 9,\n",
       "  'prior_user_id': None,\n",
       "  'is_owner': False,\n",
       "  'is_registrant': True}]"
      ]
     },
     "execution_count": 16,
     "metadata": {},
     "output_type": "execute_result"
    }
   ],
   "source": [
    "list(registered_coupon.values())"
   ]
  },
  {
   "cell_type": "code",
   "execution_count": 18,
   "metadata": {},
   "outputs": [],
   "source": [
    "registered_coupon = UserGiftCoupon.objects.select_related('gift_coupon').filter(pk=1)"
   ]
  },
  {
   "cell_type": "code",
   "execution_count": 26,
   "metadata": {},
   "outputs": [
    {
     "name": "stderr",
     "output_type": "stream",
     "text": [
      "(0.001) SELECT \"coupon_usergiftcoupon\".\"id\", \"coupon_usergiftcoupon\".\"created_time\", \"coupon_usergiftcoupon\".\"updated_time\", \"coupon_usergiftcoupon\".\"gift_coupon_id\", \"coupon_usergiftcoupon\".\"user_id\", \"coupon_usergiftcoupon\".\"prior_user_id\", \"coupon_usergiftcoupon\".\"is_owner\", \"coupon_usergiftcoupon\".\"is_registrant\", \"coupon_giftcoupon\".\"id\", \"coupon_giftcoupon\".\"created_time\", \"coupon_giftcoupon\".\"updated_time\", \"coupon_giftcoupon\".\"sender_id\", \"coupon_giftcoupon\".\"sender_msg\", \"coupon_giftcoupon\".\"receiver_name\", \"coupon_giftcoupon\".\"receiver_phone\", \"coupon_giftcoupon\".\"receiver_email\", \"coupon_giftcoupon\".\"expire_date\", \"coupon_giftcoupon\".\"coupon_code\", \"coupon_giftcoupon\".\"price\", \"coupon_giftcoupon\".\"is_used\", \"coupon_giftcoupon\".\"used_date\" FROM \"coupon_usergiftcoupon\" INNER JOIN \"coupon_giftcoupon\" ON (\"coupon_usergiftcoupon\".\"gift_coupon_id\" = \"coupon_giftcoupon\".\"id\") WHERE \"coupon_usergiftcoupon\".\"id\" = 1  LIMIT 1; args=(1,)\n"
     ]
    },
    {
     "data": {
      "text/plain": [
       "1"
      ]
     },
     "execution_count": 26,
     "metadata": {},
     "output_type": "execute_result"
    }
   ],
   "source": [
    "registered_coupon[0].id"
   ]
  },
  {
   "cell_type": "code",
   "execution_count": 29,
   "metadata": {},
   "outputs": [],
   "source": [
    "registered_coupon_id =2\n",
    "registered_coupon = UserGiftCoupon.objects.select_related('gift_coupon').filter(pk=registered_coupon_id).filter(is_owner=True)\n"
   ]
  },
  {
   "cell_type": "code",
   "execution_count": 30,
   "metadata": {},
   "outputs": [
    {
     "name": "stderr",
     "output_type": "stream",
     "text": [
      "(0.001) SELECT \"coupon_usergiftcoupon\".\"id\", \"coupon_usergiftcoupon\".\"created_time\", \"coupon_usergiftcoupon\".\"updated_time\", \"coupon_usergiftcoupon\".\"gift_coupon_id\", \"coupon_usergiftcoupon\".\"user_id\", \"coupon_usergiftcoupon\".\"prior_user_id\", \"coupon_usergiftcoupon\".\"is_owner\", \"coupon_usergiftcoupon\".\"is_registrant\", \"coupon_giftcoupon\".\"id\", \"coupon_giftcoupon\".\"created_time\", \"coupon_giftcoupon\".\"updated_time\", \"coupon_giftcoupon\".\"sender_id\", \"coupon_giftcoupon\".\"sender_msg\", \"coupon_giftcoupon\".\"receiver_name\", \"coupon_giftcoupon\".\"receiver_phone\", \"coupon_giftcoupon\".\"receiver_email\", \"coupon_giftcoupon\".\"expire_date\", \"coupon_giftcoupon\".\"coupon_code\", \"coupon_giftcoupon\".\"price\", \"coupon_giftcoupon\".\"is_used\", \"coupon_giftcoupon\".\"used_date\" FROM \"coupon_usergiftcoupon\" INNER JOIN \"coupon_giftcoupon\" ON (\"coupon_usergiftcoupon\".\"gift_coupon_id\" = \"coupon_giftcoupon\".\"id\") WHERE (\"coupon_usergiftcoupon\".\"id\" = 2 AND \"coupon_usergiftcoupon\".\"is_owner\" = true)  LIMIT 21; args=(2, True)\n"
     ]
    },
    {
     "data": {
      "text/plain": [
       "<QuerySet [<UserGiftCoupon: 0d2bf9c0-6584-49d2-b296-243b3c91e7c8>]>"
      ]
     },
     "execution_count": 30,
     "metadata": {},
     "output_type": "execute_result"
    }
   ],
   "source": [
    "registered_coupon"
   ]
  },
  {
   "cell_type": "code",
   "execution_count": 31,
   "metadata": {},
   "outputs": [
    {
     "name": "stderr",
     "output_type": "stream",
     "text": [
      "(0.001) SELECT \"coupon_usergiftcoupon\".\"id\", \"coupon_usergiftcoupon\".\"created_time\", \"coupon_usergiftcoupon\".\"updated_time\", \"coupon_usergiftcoupon\".\"gift_coupon_id\", \"coupon_usergiftcoupon\".\"user_id\", \"coupon_usergiftcoupon\".\"prior_user_id\", \"coupon_usergiftcoupon\".\"is_owner\", \"coupon_usergiftcoupon\".\"is_registrant\" FROM \"coupon_usergiftcoupon\" ORDER BY \"coupon_usergiftcoupon\".\"created_time\" DESC  LIMIT 1; args=()\n"
     ]
    },
    {
     "data": {
      "text/plain": [
       "12"
      ]
     },
     "execution_count": 31,
     "metadata": {},
     "output_type": "execute_result"
    }
   ],
   "source": [
    "UserGiftCoupon.objects.all().order_by('-created_time')[0].id"
   ]
  },
  {
   "cell_type": "code",
   "execution_count": 36,
   "metadata": {},
   "outputs": [
    {
     "name": "stderr",
     "output_type": "stream",
     "text": [
      "(0.001) SELECT \"coupon_usergiftcoupon\".\"id\", \"coupon_usergiftcoupon\".\"created_time\", \"coupon_usergiftcoupon\".\"updated_time\", \"coupon_usergiftcoupon\".\"gift_coupon_id\", \"coupon_usergiftcoupon\".\"user_id\", \"coupon_usergiftcoupon\".\"prior_user_id\", \"coupon_usergiftcoupon\".\"is_owner\", \"coupon_usergiftcoupon\".\"is_registrant\", \"coupon_giftcoupon\".\"id\", \"coupon_giftcoupon\".\"created_time\", \"coupon_giftcoupon\".\"updated_time\", \"coupon_giftcoupon\".\"sender_id\", \"coupon_giftcoupon\".\"sender_msg\", \"coupon_giftcoupon\".\"receiver_name\", \"coupon_giftcoupon\".\"receiver_phone\", \"coupon_giftcoupon\".\"receiver_email\", \"coupon_giftcoupon\".\"expire_date\", \"coupon_giftcoupon\".\"coupon_code\", \"coupon_giftcoupon\".\"price\", \"coupon_giftcoupon\".\"is_used\", \"coupon_giftcoupon\".\"used_date\" FROM \"coupon_usergiftcoupon\" INNER JOIN \"coupon_giftcoupon\" ON (\"coupon_usergiftcoupon\".\"gift_coupon_id\" = \"coupon_giftcoupon\".\"id\") WHERE \"coupon_usergiftcoupon\".\"id\" = 3  LIMIT 21; args=(3,)\n"
     ]
    },
    {
     "data": {
      "text/plain": [
       "<QuerySet [<UserGiftCoupon: e61c3d08-e2e1-4842-bbb1-b5be5dbc7125>]>"
      ]
     },
     "execution_count": 36,
     "metadata": {},
     "output_type": "execute_result"
    }
   ],
   "source": [
    "UserG"
   ]
  },
  {
   "cell_type": "code",
   "execution_count": 1,
   "metadata": {},
   "outputs": [
    {
     "name": "stderr",
     "output_type": "stream",
     "text": [
      "(0.002) SELECT \"accounts_user\".\"id\", \"accounts_user\".\"password\", \"accounts_user\".\"last_login\", \"accounts_user\".\"is_superuser\", \"accounts_user\".\"username\", \"accounts_user\".\"first_name\", \"accounts_user\".\"last_name\", \"accounts_user\".\"email\", \"accounts_user\".\"is_staff\", \"accounts_user\".\"is_active\", \"accounts_user\".\"date_joined\", \"accounts_user\".\"phone\", \"accounts_user\".\"address\", \"accounts_user\".\"address_detail\", \"accounts_user\".\"user_type\", \"accounts_user\".\"deactivate_date\" FROM \"accounts_user\" WHERE \"accounts_user\".\"id\" = 10; args=(10,)\n",
      "(0.001) SELECT \"accounts_taste\".\"id\", \"accounts_taste\".\"name\" FROM \"accounts_taste\" INNER JOIN \"accounts_user_tastes\" ON (\"accounts_taste\".\"id\" = \"accounts_user_tastes\".\"taste_id\") WHERE \"accounts_user_tastes\".\"user_id\" = 10; args=(10,)\n"
     ]
    }
   ],
   "source": [
    "user = User.objects.get(pk=10)\n",
    "user_tastes = list(user.tastes.values('id', 'name'))\n"
   ]
  },
  {
   "cell_type": "code",
   "execution_count": 2,
   "metadata": {},
   "outputs": [],
   "source": [
    "menus = (Menu.objects.filter(\n",
    "            tastes__in=[(lambda taste: taste['id'])(taste)\n",
    "                        for taste in user_tastes]\n",
    "        ).prefetch_related('tastes')\n",
    "        .select_related('restaurant')\n",
    "        .order_by('-score')\n",
    "        .distinct()\n",
    "        )"
   ]
  },
  {
   "cell_type": "code",
   "execution_count": 3,
   "metadata": {},
   "outputs": [
    {
     "name": "stderr",
     "output_type": "stream",
     "text": [
      "(0.004) SELECT DISTINCT \"menu_menu\".\"id\", \"menu_menu\".\"created_time\", \"menu_menu\".\"updated_time\", \"menu_menu\".\"restaurant_id\", \"menu_menu\".\"name\", \"menu_menu\".\"img\", \"menu_menu\".\"detail\", \"menu_menu\".\"price\", \"menu_menu\".\"type\", \"menu_menu\".\"hit\", \"menu_menu\".\"score\", \"restaurant_restaurant\".\"id\", \"restaurant_restaurant\".\"created_time\", \"restaurant_restaurant\".\"updated_time\", \"restaurant_restaurant\".\"name\", \"restaurant_restaurant\".\"owner\", \"restaurant_restaurant\".\"title\", \"restaurant_restaurant\".\"img\", \"restaurant_restaurant\".\"tel\", \"restaurant_restaurant\".\"min_order_price\", \"restaurant_restaurant\".\"order_way\", \"restaurant_restaurant\".\"origin\", \"restaurant_restaurant\".\"delivery_charge\", \"restaurant_restaurant\".\"info\", \"restaurant_restaurant\".\"type\", \"restaurant_restaurant\".\"estimated_delivery_time\", \"restaurant_restaurant\".\"operation_start_hour\", \"restaurant_restaurant\".\"operation_end_hour\" FROM \"menu_menu\" INNER JOIN \"menu_menu_tastes\" ON (\"menu_menu\".\"id\" = \"menu_menu_tastes\".\"menu_id\") INNER JOIN \"restaurant_restaurant\" ON (\"menu_menu\".\"restaurant_id\" = \"restaurant_restaurant\".\"id\") WHERE \"menu_menu_tastes\".\"taste_id\" IN (2, 3) ORDER BY \"menu_menu\".\"score\" DESC  LIMIT 21; args=(2, 3)\n",
      "(0.001) SELECT (\"menu_menu_tastes\".\"menu_id\") AS \"_prefetch_related_val_menu_id\", \"accounts_taste\".\"id\", \"accounts_taste\".\"created_time\", \"accounts_taste\".\"updated_time\", \"accounts_taste\".\"name\" FROM \"accounts_taste\" INNER JOIN \"menu_menu_tastes\" ON (\"accounts_taste\".\"id\" = \"menu_menu_tastes\".\"taste_id\") WHERE \"menu_menu_tastes\".\"menu_id\" IN (4, 5, 6, 7, 8, 9, 10, 11, 12); args=(4, 5, 6, 7, 8, 9, 10, 11, 12)\n"
     ]
    },
    {
     "data": {
      "text/plain": [
       "<QuerySet [<Menu: 볼케이노>, <Menu: 통날개>, <Menu: 통다리>, <Menu: 짜장면>, <Menu: 짜장밥>, <Menu: 짬뽕>, <Menu: 짬뽕밥>, <Menu: 군만두>, <Menu: 깐풍기>]>"
      ]
     },
     "execution_count": 3,
     "metadata": {},
     "output_type": "execute_result"
    }
   ],
   "source": [
    "menus"
   ]
  },
  {
   "cell_type": "code",
   "execution_count": 8,
   "metadata": {},
   "outputs": [
    {
     "name": "stderr",
     "output_type": "stream",
     "text": [
      "(0.001) SELECT DISTINCT (1) AS \"a\", \"menu_menu\".\"id\", \"menu_menu\".\"created_time\", \"menu_menu\".\"updated_time\", \"menu_menu\".\"restaurant_id\", \"menu_menu\".\"name\", \"menu_menu\".\"img\", \"menu_menu\".\"detail\", \"menu_menu\".\"price\", \"menu_menu\".\"type\", \"menu_menu\".\"hit\", \"menu_menu\".\"score\", \"restaurant_restaurant\".\"id\", \"restaurant_restaurant\".\"created_time\", \"restaurant_restaurant\".\"updated_time\", \"restaurant_restaurant\".\"name\", \"restaurant_restaurant\".\"owner\", \"restaurant_restaurant\".\"title\", \"restaurant_restaurant\".\"img\", \"restaurant_restaurant\".\"tel\", \"restaurant_restaurant\".\"min_order_price\", \"restaurant_restaurant\".\"order_way\", \"restaurant_restaurant\".\"origin\", \"restaurant_restaurant\".\"delivery_charge\", \"restaurant_restaurant\".\"info\", \"restaurant_restaurant\".\"type\", \"restaurant_restaurant\".\"estimated_delivery_time\", \"restaurant_restaurant\".\"operation_start_hour\", \"restaurant_restaurant\".\"operation_end_hour\" FROM \"menu_menu\" INNER JOIN \"menu_menu_tastes\" ON (\"menu_menu\".\"id\" = \"menu_menu_tastes\".\"menu_id\") INNER JOIN \"restaurant_restaurant\" ON (\"menu_menu\".\"restaurant_id\" = \"restaurant_restaurant\".\"id\") WHERE \"menu_menu_tastes\".\"taste_id\" IN (2, 3)  LIMIT 1; args=(2, 3)\n"
     ]
    },
    {
     "data": {
      "text/plain": [
       "False"
      ]
     },
     "execution_count": 8,
     "metadata": {},
     "output_type": "execute_result"
    }
   ],
   "source": [
    "not menus.exists()\n",
    "\n"
   ]
  },
  {
   "cell_type": "code",
   "execution_count": null,
   "metadata": {},
   "outputs": [],
   "source": []
  }
 ],
 "metadata": {
  "kernelspec": {
   "display_name": "Django Shell-Plus",
   "language": "python",
   "name": "django_extensions"
  },
  "language_info": {
   "codemirror_mode": {
    "name": "ipython",
    "version": 3
   },
   "file_extension": ".py",
   "mimetype": "text/x-python",
   "name": "python",
   "nbconvert_exporter": "python",
   "pygments_lexer": "ipython3",
   "version": "3.7.2"
  }
 },
 "nbformat": 4,
 "nbformat_minor": 2
}
