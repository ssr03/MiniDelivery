{
 "cells": [
  {
   "cell_type": "code",
   "execution_count": 1,
   "metadata": {},
   "outputs": [
    {
     "name": "stderr",
     "output_type": "stream",
     "text": [
      "(0.002) SELECT \"accounts_user\".\"id\", \"accounts_user\".\"password\", \"accounts_user\".\"last_login\", \"accounts_user\".\"is_superuser\", \"accounts_user\".\"username\", \"accounts_user\".\"first_name\", \"accounts_user\".\"last_name\", \"accounts_user\".\"email\", \"accounts_user\".\"is_staff\", \"accounts_user\".\"is_active\", \"accounts_user\".\"date_joined\", \"accounts_user\".\"phone\", \"accounts_user\".\"address\", \"accounts_user\".\"address_detail\", \"accounts_user\".\"user_type\", \"accounts_user\".\"deactivate_date\" FROM \"accounts_user\" WHERE \"accounts_user\".\"id\" = 1; args=(1,)\n"
     ]
    }
   ],
   "source": [
    "    user = User.objects.get(pk=1)\n",
    "    sent_coupons = GiftCoupon.objects.filter(Q(sender=user) | Q(usergiftcoupon=UserGiftCoupon(prior_user=user)))   \n",
    "    sent_coupons_values = (\n",
    "            sent_coupons.annotate(\n",
    "                prior_username=F('usergiftcoupon__prior_user__username'),\n",
    "                prior_user=F('usergiftcoupon__prior_user')\n",
    "            ).values('receiver_name', 'price', 'created_time', 'expire_date',\n",
    "                     'sender', 'is_used', 'usergiftcoupon__user__username', 'prior_user', 'prior_username'))"
   ]
  },
  {
   "cell_type": "code",
   "execution_count": 3,
   "metadata": {},
   "outputs": [
    {
     "name": "stderr",
     "output_type": "stream",
     "text": [
      "(0.001) SELECT \"coupon_giftcoupon\".\"receiver_name\", \"coupon_giftcoupon\".\"price\", \"coupon_giftcoupon\".\"created_time\", \"coupon_giftcoupon\".\"expire_date\", \"coupon_giftcoupon\".\"sender_id\", \"coupon_giftcoupon\".\"is_used\", T5.\"username\", T4.\"username\" AS \"prior_username\", \"coupon_usergiftcoupon\".\"prior_user_id\" AS \"prior_user\" FROM \"coupon_giftcoupon\" LEFT OUTER JOIN \"coupon_usergiftcoupon\" ON (\"coupon_giftcoupon\".\"id\" = \"coupon_usergiftcoupon\".\"gift_coupon_id\") LEFT OUTER JOIN \"accounts_user\" T4 ON (\"coupon_usergiftcoupon\".\"prior_user_id\" = T4.\"id\") LEFT OUTER JOIN \"accounts_user\" T5 ON (\"coupon_usergiftcoupon\".\"user_id\" = T5.\"id\") WHERE (\"coupon_giftcoupon\".\"sender_id\" = 1 OR \"coupon_usergiftcoupon\".\"id\" IS NULL); args=(1,)\n"
     ]
    },
    {
     "data": {
      "text/plain": [
       "[{'receiver_name': '장영실',\n",
       "  'price': 50000,\n",
       "  'created_time': datetime.datetime(2019, 5, 16, 2, 5, 34, 838630, tzinfo=<UTC>),\n",
       "  'expire_date': datetime.date(2019, 8, 14),\n",
       "  'sender': 1,\n",
       "  'is_used': False,\n",
       "  'usergiftcoupon__user__username': 'sora.son',\n",
       "  'prior_username': 'sora.son',\n",
       "  'prior_user': 1},\n",
       " {'receiver_name': '정약용',\n",
       "  'price': 30000,\n",
       "  'created_time': datetime.datetime(2019, 5, 15, 9, 20, 2, 381653, tzinfo=<UTC>),\n",
       "  'expire_date': datetime.date(2019, 8, 13),\n",
       "  'sender': 2,\n",
       "  'is_used': False,\n",
       "  'usergiftcoupon__user__username': None,\n",
       "  'prior_username': None,\n",
       "  'prior_user': None},\n",
       " {'receiver_name': '홍길동',\n",
       "  'price': 30000,\n",
       "  'created_time': datetime.datetime(2019, 5, 15, 3, 29, 30, 329862, tzinfo=<UTC>),\n",
       "  'expire_date': datetime.date(2019, 8, 13),\n",
       "  'sender': 1,\n",
       "  'is_used': True,\n",
       "  'usergiftcoupon__user__username': None,\n",
       "  'prior_username': None,\n",
       "  'prior_user': None}]"
      ]
     },
     "execution_count": 3,
     "metadata": {},
     "output_type": "execute_result"
    }
   ],
   "source": [
    "list(sent_coupons_values)"
   ]
  },
  {
   "cell_type": "code",
   "execution_count": 14,
   "metadata": {},
   "outputs": [
    {
     "name": "stdout",
     "output_type": "stream",
     "text": [
      "sora.son\n",
      "None\n",
      "None\n"
     ]
    }
   ],
   "source": [
    "coupons = []\n",
    "for coupon in sent_coupons_values:\n",
    "    is_registered = True\n",
    "    is_buy = False\n",
    "\n",
    "    ## sender 가 user 이나 이미 양도된 경우 prior\n",
    "    sender = coupon['sender']\n",
    "    prior_user = coupon['prior_user']\n",
    "\n",
    "    receiver_name = coupon['usergiftcoupon__user__username']\n",
    "    print(receiver_name)\n",
    "\n",
    "    if sender == user.id:\n",
    "        receiver_name = coupon['receiver_name']\n",
    "        is_buy = True # 구매한 쿠폰\n",
    "        if not prior_user:\n",
    "            is_registered = False\n",
    "    elif prior_user == user.id:\n",
    "        receiver_name = coupon['usergiftcoupon__user__username']\n",
    "\n",
    "    coupons += [{\n",
    "        'receiver_name': receiver_name,\n",
    "        'price': coupon['price'],\n",
    "        'create_date': coupon['created_time'].date(),\n",
    "        'expire_date': coupon['expire_date'],\n",
    "        'is_registered': is_registered,\n",
    "        'is_buy': is_buy,\n",
    "    }]"
   ]
  },
  {
   "cell_type": "code",
   "execution_count": 10,
   "metadata": {},
   "outputs": [
    {
     "data": {
      "text/plain": [
       "[{'receiver_name': '장영실',\n",
       "  'price': 50000,\n",
       "  'create_date': datetime.date(2019, 5, 16),\n",
       "  'expire_date': datetime.date(2019, 8, 14),\n",
       "  'is_registered': True,\n",
       "  'is_buy': True},\n",
       " {'receiver_name': None,\n",
       "  'price': 30000,\n",
       "  'create_date': datetime.date(2019, 5, 15),\n",
       "  'expire_date': datetime.date(2019, 8, 13),\n",
       "  'is_registered': True,\n",
       "  'is_buy': False},\n",
       " {'receiver_name': '홍길동',\n",
       "  'price': 30000,\n",
       "  'create_date': datetime.date(2019, 5, 15),\n",
       "  'expire_date': datetime.date(2019, 8, 13),\n",
       "  'is_registered': False,\n",
       "  'is_buy': True}]"
      ]
     },
     "execution_count": 10,
     "metadata": {},
     "output_type": "execute_result"
    }
   ],
   "source": [
    "coupons"
   ]
  },
  {
   "cell_type": "code",
   "execution_count": 10,
   "metadata": {},
   "outputs": [
    {
     "name": "stderr",
     "output_type": "stream",
     "text": [
      "(0.001) SELECT \"accounts_user\".\"id\", \"accounts_user\".\"password\", \"accounts_user\".\"last_login\", \"accounts_user\".\"is_superuser\", \"accounts_user\".\"username\", \"accounts_user\".\"first_name\", \"accounts_user\".\"last_name\", \"accounts_user\".\"email\", \"accounts_user\".\"is_staff\", \"accounts_user\".\"is_active\", \"accounts_user\".\"date_joined\", \"accounts_user\".\"phone\", \"accounts_user\".\"address\", \"accounts_user\".\"address_detail\", \"accounts_user\".\"user_type\", \"accounts_user\".\"deactivate_date\" FROM \"accounts_user\" WHERE \"accounts_user\".\"id\" = 12; args=(12,)\n"
     ]
    }
   ],
   "source": [
    "user = User.objects.get(id=12)\n",
    "sent_coupons = GiftCoupon.objects.filter(Q(sender=user) | Q(usergiftcoupon=UserGiftCoupon(pr)))"
   ]
  },
  {
   "cell_type": "code",
   "execution_count": 18,
   "metadata": {},
   "outputs": [],
   "source": [
    "sent_coupons = GiftCoupon.objects.filter(Q(sender=user) | Q(usergiftcoupon__prior_user=user))"
   ]
  },
  {
   "cell_type": "code",
   "execution_count": 19,
   "metadata": {},
   "outputs": [
    {
     "name": "stderr",
     "output_type": "stream",
     "text": [
      "(0.001) SELECT \"coupon_giftcoupon\".\"id\", \"coupon_giftcoupon\".\"created_time\", \"coupon_giftcoupon\".\"updated_time\", \"coupon_giftcoupon\".\"sender_id\", \"coupon_giftcoupon\".\"sender_msg\", \"coupon_giftcoupon\".\"receiver_name\", \"coupon_giftcoupon\".\"receiver_phone\", \"coupon_giftcoupon\".\"receiver_email\", \"coupon_giftcoupon\".\"expire_date\", \"coupon_giftcoupon\".\"coupon_code\", \"coupon_giftcoupon\".\"price\", \"coupon_giftcoupon\".\"is_used\", \"coupon_giftcoupon\".\"used_date\" FROM \"coupon_giftcoupon\" LEFT OUTER JOIN \"coupon_usergiftcoupon\" ON (\"coupon_giftcoupon\".\"id\" = \"coupon_usergiftcoupon\".\"gift_coupon_id\") WHERE (\"coupon_giftcoupon\".\"sender_id\" = 12 OR \"coupon_usergiftcoupon\".\"prior_user_id\" = 12)  LIMIT 21; args=(12, 12)\n"
     ]
    },
    {
     "data": {
      "text/plain": [
       "<QuerySet []>"
      ]
     },
     "execution_count": 19,
     "metadata": {},
     "output_type": "execute_result"
    }
   ],
   "source": [
    "sent_coupons"
   ]
  },
  {
   "cell_type": "code",
   "execution_count": 6,
   "metadata": {},
   "outputs": [
    {
     "ename": "SyntaxError",
     "evalue": "invalid syntax (<ipython-input-6-9d7c2eca3b4f>, line 2)",
     "output_type": "error",
     "traceback": [
      "\u001b[0;36m  File \u001b[0;32m\"<ipython-input-6-9d7c2eca3b4f>\"\u001b[0;36m, line \u001b[0;32m2\u001b[0m\n\u001b[0;31m    \"coupon_giftcoupon\".\"id\", \"coupon_giftcoupon\".\"created_time\", \"coupon_giftcoupon\".\"updated_time\", \"coupon_giftcoupon\".\"sender_id\", \"coupon_giftcoupon\".\"sender_msg\", \"coupon_giftcoupon\".\"receiver_name\", \"coupon_giftcoupon\".\"receiver_phone\", \"coupon_giftcoupon\".\"receiver_email\", \"coupon_giftcoupon\".\"expire_date\", \"coupon_giftcoupon\".\"coupon_code\", \"coupon_giftcoupon\".\"price\", \"coupon_giftcoupon\".\"is_used\", \"coupon_giftcoupon\".\"used_date\"\u001b[0m\n\u001b[0m                           ^\u001b[0m\n\u001b[0;31mSyntaxError\u001b[0m\u001b[0;31m:\u001b[0m invalid syntax\n"
     ]
    }
   ],
   "source": [
    "SELECT \n",
    "\"coupon_giftcoupon\".\"id\", \"coupon_giftcoupon\".\"created_time\", \"coupon_giftcoupon\".\"updated_time\", \"coupon_giftcoupon\".\"sender_id\", \"coupon_giftcoupon\".\"sender_msg\", \"coupon_giftcoupon\".\"receiver_name\", \"coupon_giftcoupon\".\"receiver_phone\", \"coupon_giftcoupon\".\"receiver_email\", \"coupon_giftcoupon\".\"expire_date\", \"coupon_giftcoupon\".\"coupon_code\", \"coupon_giftcoupon\".\"price\", \"coupon_giftcoupon\".\"is_used\", \"coupon_giftcoupon\".\"used_date\" \n",
    "FROM \"coupon_giftcoupon\" \n",
    "LEFT OUTER JOIN \"coupon_usergiftcoupon\" \n",
    "ON (\"coupon_giftcoupon\".\"id\" = \"coupon_usergiftcoupon\".\"gift_coupon_id\") \n",
    "WHERE (\"coupon_giftcoupon\".\"sender_id\" = 12 OR \"coupon_usergiftcoupon\".\"id\" IS NULL)  LIMIT 21; args=(12,)"
   ]
  },
  {
   "cell_type": "code",
   "execution_count": 7,
   "metadata": {},
   "outputs": [
    {
     "ename": "RelatedObjectDoesNotExist",
     "evalue": "UserGiftCoupon has no gift_coupon.",
     "output_type": "error",
     "traceback": [
      "\u001b[0;31m---------------------------------------------------------------------------\u001b[0m",
      "\u001b[0;31mRelatedObjectDoesNotExist\u001b[0m                 Traceback (most recent call last)",
      "\u001b[0;32m~/Desktop/rookiehero/project/venv/lib/python3.7/site-packages/IPython/core/formatters.py\u001b[0m in \u001b[0;36m__call__\u001b[0;34m(self, obj)\u001b[0m\n\u001b[1;32m    700\u001b[0m                 \u001b[0mtype_pprinters\u001b[0m\u001b[0;34m=\u001b[0m\u001b[0mself\u001b[0m\u001b[0;34m.\u001b[0m\u001b[0mtype_printers\u001b[0m\u001b[0;34m,\u001b[0m\u001b[0;34m\u001b[0m\u001b[0;34m\u001b[0m\u001b[0m\n\u001b[1;32m    701\u001b[0m                 deferred_pprinters=self.deferred_printers)\n\u001b[0;32m--> 702\u001b[0;31m             \u001b[0mprinter\u001b[0m\u001b[0;34m.\u001b[0m\u001b[0mpretty\u001b[0m\u001b[0;34m(\u001b[0m\u001b[0mobj\u001b[0m\u001b[0;34m)\u001b[0m\u001b[0;34m\u001b[0m\u001b[0;34m\u001b[0m\u001b[0m\n\u001b[0m\u001b[1;32m    703\u001b[0m             \u001b[0mprinter\u001b[0m\u001b[0;34m.\u001b[0m\u001b[0mflush\u001b[0m\u001b[0;34m(\u001b[0m\u001b[0;34m)\u001b[0m\u001b[0;34m\u001b[0m\u001b[0;34m\u001b[0m\u001b[0m\n\u001b[1;32m    704\u001b[0m             \u001b[0;32mreturn\u001b[0m \u001b[0mstream\u001b[0m\u001b[0;34m.\u001b[0m\u001b[0mgetvalue\u001b[0m\u001b[0;34m(\u001b[0m\u001b[0;34m)\u001b[0m\u001b[0;34m\u001b[0m\u001b[0;34m\u001b[0m\u001b[0m\n",
      "\u001b[0;32m~/Desktop/rookiehero/project/venv/lib/python3.7/site-packages/IPython/lib/pretty.py\u001b[0m in \u001b[0;36mpretty\u001b[0;34m(self, obj)\u001b[0m\n\u001b[1;32m    400\u001b[0m                         \u001b[0;32mif\u001b[0m \u001b[0mcls\u001b[0m \u001b[0;32mis\u001b[0m \u001b[0;32mnot\u001b[0m \u001b[0mobject\u001b[0m\u001b[0;31m \u001b[0m\u001b[0;31m\\\u001b[0m\u001b[0;34m\u001b[0m\u001b[0;34m\u001b[0m\u001b[0m\n\u001b[1;32m    401\u001b[0m                                 \u001b[0;32mand\u001b[0m \u001b[0mcallable\u001b[0m\u001b[0;34m(\u001b[0m\u001b[0mcls\u001b[0m\u001b[0;34m.\u001b[0m\u001b[0m__dict__\u001b[0m\u001b[0;34m.\u001b[0m\u001b[0mget\u001b[0m\u001b[0;34m(\u001b[0m\u001b[0;34m'__repr__'\u001b[0m\u001b[0;34m)\u001b[0m\u001b[0;34m)\u001b[0m\u001b[0;34m:\u001b[0m\u001b[0;34m\u001b[0m\u001b[0;34m\u001b[0m\u001b[0m\n\u001b[0;32m--> 402\u001b[0;31m                             \u001b[0;32mreturn\u001b[0m \u001b[0m_repr_pprint\u001b[0m\u001b[0;34m(\u001b[0m\u001b[0mobj\u001b[0m\u001b[0;34m,\u001b[0m \u001b[0mself\u001b[0m\u001b[0;34m,\u001b[0m \u001b[0mcycle\u001b[0m\u001b[0;34m)\u001b[0m\u001b[0;34m\u001b[0m\u001b[0;34m\u001b[0m\u001b[0m\n\u001b[0m\u001b[1;32m    403\u001b[0m \u001b[0;34m\u001b[0m\u001b[0m\n\u001b[1;32m    404\u001b[0m             \u001b[0;32mreturn\u001b[0m \u001b[0m_default_pprint\u001b[0m\u001b[0;34m(\u001b[0m\u001b[0mobj\u001b[0m\u001b[0;34m,\u001b[0m \u001b[0mself\u001b[0m\u001b[0;34m,\u001b[0m \u001b[0mcycle\u001b[0m\u001b[0;34m)\u001b[0m\u001b[0;34m\u001b[0m\u001b[0;34m\u001b[0m\u001b[0m\n",
      "\u001b[0;32m~/Desktop/rookiehero/project/venv/lib/python3.7/site-packages/IPython/lib/pretty.py\u001b[0m in \u001b[0;36m_repr_pprint\u001b[0;34m(obj, p, cycle)\u001b[0m\n\u001b[1;32m    695\u001b[0m     \u001b[0;34m\"\"\"A pprint that just redirects to the normal repr function.\"\"\"\u001b[0m\u001b[0;34m\u001b[0m\u001b[0;34m\u001b[0m\u001b[0m\n\u001b[1;32m    696\u001b[0m     \u001b[0;31m# Find newlines and replace them with p.break_()\u001b[0m\u001b[0;34m\u001b[0m\u001b[0;34m\u001b[0m\u001b[0;34m\u001b[0m\u001b[0m\n\u001b[0;32m--> 697\u001b[0;31m     \u001b[0moutput\u001b[0m \u001b[0;34m=\u001b[0m \u001b[0mrepr\u001b[0m\u001b[0;34m(\u001b[0m\u001b[0mobj\u001b[0m\u001b[0;34m)\u001b[0m\u001b[0;34m\u001b[0m\u001b[0;34m\u001b[0m\u001b[0m\n\u001b[0m\u001b[1;32m    698\u001b[0m     \u001b[0;32mfor\u001b[0m \u001b[0midx\u001b[0m\u001b[0;34m,\u001b[0m\u001b[0moutput_line\u001b[0m \u001b[0;32min\u001b[0m \u001b[0menumerate\u001b[0m\u001b[0;34m(\u001b[0m\u001b[0moutput\u001b[0m\u001b[0;34m.\u001b[0m\u001b[0msplitlines\u001b[0m\u001b[0;34m(\u001b[0m\u001b[0;34m)\u001b[0m\u001b[0;34m)\u001b[0m\u001b[0;34m:\u001b[0m\u001b[0;34m\u001b[0m\u001b[0;34m\u001b[0m\u001b[0m\n\u001b[1;32m    699\u001b[0m         \u001b[0;32mif\u001b[0m \u001b[0midx\u001b[0m\u001b[0;34m:\u001b[0m\u001b[0;34m\u001b[0m\u001b[0;34m\u001b[0m\u001b[0m\n",
      "\u001b[0;32m~/Desktop/rookiehero/project/venv/lib/python3.7/site-packages/django/db/models/base.py\u001b[0m in \u001b[0;36m__repr__\u001b[0;34m(self)\u001b[0m\n\u001b[1;32m    500\u001b[0m \u001b[0;34m\u001b[0m\u001b[0m\n\u001b[1;32m    501\u001b[0m     \u001b[0;32mdef\u001b[0m \u001b[0m__repr__\u001b[0m\u001b[0;34m(\u001b[0m\u001b[0mself\u001b[0m\u001b[0;34m)\u001b[0m\u001b[0;34m:\u001b[0m\u001b[0;34m\u001b[0m\u001b[0;34m\u001b[0m\u001b[0m\n\u001b[0;32m--> 502\u001b[0;31m         \u001b[0;32mreturn\u001b[0m \u001b[0;34m'<%s: %s>'\u001b[0m \u001b[0;34m%\u001b[0m \u001b[0;34m(\u001b[0m\u001b[0mself\u001b[0m\u001b[0;34m.\u001b[0m\u001b[0m__class__\u001b[0m\u001b[0;34m.\u001b[0m\u001b[0m__name__\u001b[0m\u001b[0;34m,\u001b[0m \u001b[0mself\u001b[0m\u001b[0;34m)\u001b[0m\u001b[0;34m\u001b[0m\u001b[0;34m\u001b[0m\u001b[0m\n\u001b[0m\u001b[1;32m    503\u001b[0m \u001b[0;34m\u001b[0m\u001b[0m\n\u001b[1;32m    504\u001b[0m     \u001b[0;32mdef\u001b[0m \u001b[0m__str__\u001b[0m\u001b[0;34m(\u001b[0m\u001b[0mself\u001b[0m\u001b[0;34m)\u001b[0m\u001b[0;34m:\u001b[0m\u001b[0;34m\u001b[0m\u001b[0;34m\u001b[0m\u001b[0m\n",
      "\u001b[0;32m~/Desktop/rookiehero/project/src/coupon/models.py\u001b[0m in \u001b[0;36m__str__\u001b[0;34m(self)\u001b[0m\n\u001b[1;32m     66\u001b[0m \u001b[0;34m\u001b[0m\u001b[0m\n\u001b[1;32m     67\u001b[0m     \u001b[0;32mdef\u001b[0m \u001b[0m__str__\u001b[0m\u001b[0;34m(\u001b[0m\u001b[0mself\u001b[0m\u001b[0;34m)\u001b[0m\u001b[0;34m:\u001b[0m\u001b[0;34m\u001b[0m\u001b[0;34m\u001b[0m\u001b[0m\n\u001b[0;32m---> 68\u001b[0;31m         \u001b[0;32mreturn\u001b[0m \u001b[0mstr\u001b[0m\u001b[0;34m(\u001b[0m\u001b[0mself\u001b[0m\u001b[0;34m.\u001b[0m\u001b[0mgift_coupon\u001b[0m\u001b[0;34m)\u001b[0m\u001b[0;34m\u001b[0m\u001b[0;34m\u001b[0m\u001b[0m\n\u001b[0m",
      "\u001b[0;32m~/Desktop/rookiehero/project/venv/lib/python3.7/site-packages/django/db/models/fields/related_descriptors.py\u001b[0m in \u001b[0;36m__get__\u001b[0;34m(self, instance, cls)\u001b[0m\n\u001b[1;32m    186\u001b[0m         \u001b[0;32mif\u001b[0m \u001b[0mrel_obj\u001b[0m \u001b[0;32mis\u001b[0m \u001b[0;32mNone\u001b[0m \u001b[0;32mand\u001b[0m \u001b[0;32mnot\u001b[0m \u001b[0mself\u001b[0m\u001b[0;34m.\u001b[0m\u001b[0mfield\u001b[0m\u001b[0;34m.\u001b[0m\u001b[0mnull\u001b[0m\u001b[0;34m:\u001b[0m\u001b[0;34m\u001b[0m\u001b[0;34m\u001b[0m\u001b[0m\n\u001b[1;32m    187\u001b[0m             raise self.RelatedObjectDoesNotExist(\n\u001b[0;32m--> 188\u001b[0;31m                 \u001b[0;34m\"%s has no %s.\"\u001b[0m \u001b[0;34m%\u001b[0m \u001b[0;34m(\u001b[0m\u001b[0mself\u001b[0m\u001b[0;34m.\u001b[0m\u001b[0mfield\u001b[0m\u001b[0;34m.\u001b[0m\u001b[0mmodel\u001b[0m\u001b[0;34m.\u001b[0m\u001b[0m__name__\u001b[0m\u001b[0;34m,\u001b[0m \u001b[0mself\u001b[0m\u001b[0;34m.\u001b[0m\u001b[0mfield\u001b[0m\u001b[0;34m.\u001b[0m\u001b[0mname\u001b[0m\u001b[0;34m)\u001b[0m\u001b[0;34m\u001b[0m\u001b[0;34m\u001b[0m\u001b[0m\n\u001b[0m\u001b[1;32m    189\u001b[0m             )\n\u001b[1;32m    190\u001b[0m         \u001b[0;32melse\u001b[0m\u001b[0;34m:\u001b[0m\u001b[0;34m\u001b[0m\u001b[0;34m\u001b[0m\u001b[0m\n",
      "\u001b[0;31mRelatedObjectDoesNotExist\u001b[0m: UserGiftCoupon has no gift_coupon."
     ]
    }
   ],
   "source": [
    "UserGiftCoupon(prior_user=user)"
   ]
  },
  {
   "cell_type": "code",
   "execution_count": 14,
   "metadata": {},
   "outputs": [
    {
     "name": "stderr",
     "output_type": "stream",
     "text": [
      "(0.001) SELECT \"coupon_usergiftcoupon\".\"id\", \"coupon_usergiftcoupon\".\"created_time\", \"coupon_usergiftcoupon\".\"updated_time\", \"coupon_usergiftcoupon\".\"gift_coupon_id\", \"coupon_usergiftcoupon\".\"user_id\", \"coupon_usergiftcoupon\".\"prior_user_id\", \"coupon_usergiftcoupon\".\"is_owner\", \"coupon_usergiftcoupon\".\"is_registrant\" FROM \"coupon_usergiftcoupon\"  LIMIT 21; args=()\n",
      "(0.001) SELECT \"coupon_giftcoupon\".\"id\", \"coupon_giftcoupon\".\"created_time\", \"coupon_giftcoupon\".\"updated_time\", \"coupon_giftcoupon\".\"sender_id\", \"coupon_giftcoupon\".\"sender_msg\", \"coupon_giftcoupon\".\"receiver_name\", \"coupon_giftcoupon\".\"receiver_phone\", \"coupon_giftcoupon\".\"receiver_email\", \"coupon_giftcoupon\".\"expire_date\", \"coupon_giftcoupon\".\"coupon_code\", \"coupon_giftcoupon\".\"price\", \"coupon_giftcoupon\".\"is_used\", \"coupon_giftcoupon\".\"used_date\" FROM \"coupon_giftcoupon\" WHERE \"coupon_giftcoupon\".\"id\" = 1; args=(1,)\n",
      "(0.000) SELECT \"coupon_giftcoupon\".\"id\", \"coupon_giftcoupon\".\"created_time\", \"coupon_giftcoupon\".\"updated_time\", \"coupon_giftcoupon\".\"sender_id\", \"coupon_giftcoupon\".\"sender_msg\", \"coupon_giftcoupon\".\"receiver_name\", \"coupon_giftcoupon\".\"receiver_phone\", \"coupon_giftcoupon\".\"receiver_email\", \"coupon_giftcoupon\".\"expire_date\", \"coupon_giftcoupon\".\"coupon_code\", \"coupon_giftcoupon\".\"price\", \"coupon_giftcoupon\".\"is_used\", \"coupon_giftcoupon\".\"used_date\" FROM \"coupon_giftcoupon\" WHERE \"coupon_giftcoupon\".\"id\" = 4; args=(4,)\n",
      "(0.000) SELECT \"coupon_giftcoupon\".\"id\", \"coupon_giftcoupon\".\"created_time\", \"coupon_giftcoupon\".\"updated_time\", \"coupon_giftcoupon\".\"sender_id\", \"coupon_giftcoupon\".\"sender_msg\", \"coupon_giftcoupon\".\"receiver_name\", \"coupon_giftcoupon\".\"receiver_phone\", \"coupon_giftcoupon\".\"receiver_email\", \"coupon_giftcoupon\".\"expire_date\", \"coupon_giftcoupon\".\"coupon_code\", \"coupon_giftcoupon\".\"price\", \"coupon_giftcoupon\".\"is_used\", \"coupon_giftcoupon\".\"used_date\" FROM \"coupon_giftcoupon\" WHERE \"coupon_giftcoupon\".\"id\" = 2; args=(2,)\n",
      "(0.000) SELECT \"coupon_giftcoupon\".\"id\", \"coupon_giftcoupon\".\"created_time\", \"coupon_giftcoupon\".\"updated_time\", \"coupon_giftcoupon\".\"sender_id\", \"coupon_giftcoupon\".\"sender_msg\", \"coupon_giftcoupon\".\"receiver_name\", \"coupon_giftcoupon\".\"receiver_phone\", \"coupon_giftcoupon\".\"receiver_email\", \"coupon_giftcoupon\".\"expire_date\", \"coupon_giftcoupon\".\"coupon_code\", \"coupon_giftcoupon\".\"price\", \"coupon_giftcoupon\".\"is_used\", \"coupon_giftcoupon\".\"used_date\" FROM \"coupon_giftcoupon\" WHERE \"coupon_giftcoupon\".\"id\" = 3; args=(3,)\n",
      "(0.000) SELECT \"coupon_giftcoupon\".\"id\", \"coupon_giftcoupon\".\"created_time\", \"coupon_giftcoupon\".\"updated_time\", \"coupon_giftcoupon\".\"sender_id\", \"coupon_giftcoupon\".\"sender_msg\", \"coupon_giftcoupon\".\"receiver_name\", \"coupon_giftcoupon\".\"receiver_phone\", \"coupon_giftcoupon\".\"receiver_email\", \"coupon_giftcoupon\".\"expire_date\", \"coupon_giftcoupon\".\"coupon_code\", \"coupon_giftcoupon\".\"price\", \"coupon_giftcoupon\".\"is_used\", \"coupon_giftcoupon\".\"used_date\" FROM \"coupon_giftcoupon\" WHERE \"coupon_giftcoupon\".\"id\" = 3; args=(3,)\n"
     ]
    },
    {
     "data": {
      "text/plain": [
       "<QuerySet [<UserGiftCoupon: 7b64b886-f8bd-4154-90a3-df5a8150f8a4>, <UserGiftCoupon: 7e67d492-0578-48b8-a307-41c8a7bbbde0>, <UserGiftCoupon: 0d2bf9c0-6584-49d2-b296-243b3c91e7c8>, <UserGiftCoupon: e61c3d08-e2e1-4842-bbb1-b5be5dbc7125>, <UserGiftCoupon: e61c3d08-e2e1-4842-bbb1-b5be5dbc7125>]>"
      ]
     },
     "execution_count": 14,
     "metadata": {},
     "output_type": "execute_result"
    }
   ],
   "source": [
    "UserGiftCoupon.objects.all()"
   ]
  },
  {
   "cell_type": "code",
   "execution_count": 21,
   "metadata": {},
   "outputs": [
    {
     "name": "stderr",
     "output_type": "stream",
     "text": [
      "(0.001) SELECT \"coupon_giftcoupon\".\"id\", \"coupon_giftcoupon\".\"created_time\", \"coupon_giftcoupon\".\"updated_time\", \"coupon_giftcoupon\".\"sender_id\", \"coupon_giftcoupon\".\"sender_msg\", \"coupon_giftcoupon\".\"receiver_name\", \"coupon_giftcoupon\".\"receiver_phone\", \"coupon_giftcoupon\".\"receiver_email\", \"coupon_giftcoupon\".\"expire_date\", \"coupon_giftcoupon\".\"coupon_code\", \"coupon_giftcoupon\".\"price\", \"coupon_giftcoupon\".\"is_used\", \"coupon_giftcoupon\".\"used_date\" FROM \"coupon_giftcoupon\" INNER JOIN \"coupon_usergiftcoupon\" ON (\"coupon_giftcoupon\".\"id\" = \"coupon_usergiftcoupon\".\"gift_coupon_id\") WHERE \"coupon_usergiftcoupon\".\"id\" = 2  LIMIT 1; args=(2,)\n"
     ]
    }
   ],
   "source": [
    "        gift_coupon_obj = GiftCoupon.objects.filter(usergiftcoupon=2)\n",
    "        import datetime\n",
    "        original_expire_date = gift_coupon_obj[0].expire_date\n",
    "        over_expire_date = original_expire_date-datetime.timedelta(days=1)"
   ]
  },
  {
   "cell_type": "code",
   "execution_count": 23,
   "metadata": {},
   "outputs": [
    {
     "data": {
      "text/plain": [
       "datetime.date(2019, 8, 15)"
      ]
     },
     "execution_count": 23,
     "metadata": {},
     "output_type": "execute_result"
    }
   ],
   "source": [
    "original_expire_date"
   ]
  },
  {
   "cell_type": "code",
   "execution_count": 24,
   "metadata": {},
   "outputs": [
    {
     "data": {
      "text/plain": [
       "datetime.date(2019, 8, 14)"
      ]
     },
     "execution_count": 24,
     "metadata": {},
     "output_type": "execute_result"
    }
   ],
   "source": [
    "over_expire_date"
   ]
  },
  {
   "cell_type": "code",
   "execution_count": 28,
   "metadata": {},
   "outputs": [],
   "source": [
    "gift_coupon_obj = GiftCoupon.objects.filter(usergiftcoupon=12)"
   ]
  },
  {
   "cell_type": "code",
   "execution_count": 29,
   "metadata": {},
   "outputs": [
    {
     "name": "stderr",
     "output_type": "stream",
     "text": [
      "(0.001) SELECT \"coupon_giftcoupon\".\"id\", \"coupon_giftcoupon\".\"created_time\", \"coupon_giftcoupon\".\"updated_time\", \"coupon_giftcoupon\".\"sender_id\", \"coupon_giftcoupon\".\"sender_msg\", \"coupon_giftcoupon\".\"receiver_name\", \"coupon_giftcoupon\".\"receiver_phone\", \"coupon_giftcoupon\".\"receiver_email\", \"coupon_giftcoupon\".\"expire_date\", \"coupon_giftcoupon\".\"coupon_code\", \"coupon_giftcoupon\".\"price\", \"coupon_giftcoupon\".\"is_used\", \"coupon_giftcoupon\".\"used_date\" FROM \"coupon_giftcoupon\" INNER JOIN \"coupon_usergiftcoupon\" ON (\"coupon_giftcoupon\".\"id\" = \"coupon_usergiftcoupon\".\"gift_coupon_id\") WHERE \"coupon_usergiftcoupon\".\"id\" = 12  LIMIT 1; args=(12,)\n",
      "(0.002) UPDATE \"coupon_giftcoupon\" SET \"expire_date\" = '2019-08-17'::date WHERE \"coupon_giftcoupon\".\"id\" IN (SELECT U0.\"id\" FROM \"coupon_giftcoupon\" U0 INNER JOIN \"coupon_usergiftcoupon\" U1 ON (U0.\"id\" = U1.\"gift_coupon_id\") WHERE U1.\"id\" = 12); args=(datetime.date(2019, 8, 17), 12)\n"
     ]
    },
    {
     "data": {
      "text/plain": [
       "1"
      ]
     },
     "execution_count": 29,
     "metadata": {},
     "output_type": "execute_result"
    }
   ],
   "source": [
    "original_expire_date = gift_coupon_obj[0].expire_date\n",
    "over_expire_date = original_expire_date-datetime.timedelta(days=1)\n",
    "gift_coupon_obj.update(expire_date=over_expire_date)"
   ]
  },
  {
   "cell_type": "code",
   "execution_count": 18,
   "metadata": {},
   "outputs": [
    {
     "name": "stderr",
     "output_type": "stream",
     "text": [
      "(0.001) SELECT \"accounts_user\".\"id\", \"accounts_user\".\"password\", \"accounts_user\".\"last_login\", \"accounts_user\".\"is_superuser\", \"accounts_user\".\"username\", \"accounts_user\".\"first_name\", \"accounts_user\".\"last_name\", \"accounts_user\".\"email\", \"accounts_user\".\"is_staff\", \"accounts_user\".\"is_active\", \"accounts_user\".\"date_joined\", \"accounts_user\".\"phone\", \"accounts_user\".\"address\", \"accounts_user\".\"address_detail\", \"accounts_user\".\"user_type\", \"accounts_user\".\"deactivate_date\" FROM \"accounts_user\" WHERE \"accounts_user\".\"id\" = 12; args=(12,)\n"
     ]
    }
   ],
   "source": [
    "user = User.objects.get(pk=12)"
   ]
  },
  {
   "cell_type": "code",
   "execution_count": 10,
   "metadata": {},
   "outputs": [
    {
     "name": "stderr",
     "output_type": "stream",
     "text": [
      "(0.001) SELECT \"coupon_usergiftcoupon\".\"id\", \"coupon_usergiftcoupon\".\"created_time\", \"coupon_usergiftcoupon\".\"updated_time\", \"coupon_usergiftcoupon\".\"gift_coupon_id\", \"coupon_usergiftcoupon\".\"user_id\", \"coupon_usergiftcoupon\".\"prior_user_id\", \"coupon_usergiftcoupon\".\"is_owner\", \"coupon_usergiftcoupon\".\"is_registrant\", \"coupon_giftcoupon\".\"id\", \"coupon_giftcoupon\".\"created_time\", \"coupon_giftcoupon\".\"updated_time\", \"coupon_giftcoupon\".\"sender_id\", \"coupon_giftcoupon\".\"sender_msg\", \"coupon_giftcoupon\".\"receiver_name\", \"coupon_giftcoupon\".\"receiver_phone\", \"coupon_giftcoupon\".\"receiver_email\", \"coupon_giftcoupon\".\"expire_date\", \"coupon_giftcoupon\".\"coupon_code\", \"coupon_giftcoupon\".\"price\", \"coupon_giftcoupon\".\"is_used\", \"coupon_giftcoupon\".\"used_date\" FROM \"coupon_usergiftcoupon\" INNER JOIN \"coupon_giftcoupon\" ON (\"coupon_usergiftcoupon\".\"gift_coupon_id\" = \"coupon_giftcoupon\".\"id\") WHERE (\"coupon_usergiftcoupon\".\"user_id\" = 12 AND \"coupon_usergiftcoupon\".\"is_owner\" = true AND \"coupon_giftcoupon\".\"is_used\" = false)  LIMIT 21; args=(12, True, False)\n"
     ]
    },
    {
     "data": {
      "text/plain": [
       "<QuerySet [<UserGiftCoupon: e61c3d08-e2e1-4842-bbb1-b5be5dbc7125>]>"
      ]
     },
     "execution_count": 10,
     "metadata": {},
     "output_type": "execute_result"
    }
   ],
   "source": [
    "(UserGiftCoupon.objects.select_related('gift_coupon')\n",
    "    .filter(user=user)\n",
    "    .filter(is_owner=True)\n",
    "    .filter(gift_coupon__is_used=False))"
   ]
  },
  {
   "cell_type": "code",
   "execution_count": 37,
   "metadata": {},
   "outputs": [],
   "source": [
    "import datetime    \n",
    "available_coupon_objs = (\n",
    "        UserGiftCoupon.objects.select_related('gift_coupon')\n",
    "        .filter(user=user)\n",
    "        .filter(is_owner=True)\n",
    "        .filter(gift_coupon__is_used=False)\n",
    "        .filter(gift_coupon__expire_date__gte=datetime.datetime.now().date()))\n",
    "\n",
    "available_coupon_list = (\n",
    "    available_coupon_objs\n",
    "    .annotate(\n",
    "        price=F('gift_coupon__price'),\n",
    "        create_date=F('gift_coupon__created_time'),\n",
    "        expire_date=F('gift_coupon__expire_date'),\n",
    "        coupon_code=F('gift_coupon__coupon_code'),\n",
    "        prior_username=F('prior_user__username'),\n",
    "    ).values())"
   ]
  },
  {
   "cell_type": "code",
   "execution_count": 38,
   "metadata": {},
   "outputs": [
    {
     "name": "stderr",
     "output_type": "stream",
     "text": [
      "(0.001) SELECT \"coupon_usergiftcoupon\".\"id\", \"coupon_usergiftcoupon\".\"created_time\", \"coupon_usergiftcoupon\".\"updated_time\", \"coupon_usergiftcoupon\".\"gift_coupon_id\", \"coupon_usergiftcoupon\".\"user_id\", \"coupon_usergiftcoupon\".\"prior_user_id\", \"coupon_usergiftcoupon\".\"is_owner\", \"coupon_usergiftcoupon\".\"is_registrant\", \"coupon_giftcoupon\".\"price\" AS \"price\", \"coupon_giftcoupon\".\"created_time\" AS \"create_date\", \"coupon_giftcoupon\".\"expire_date\" AS \"expire_date\", \"coupon_giftcoupon\".\"coupon_code\" AS \"coupon_code\", T4.\"username\" AS \"prior_username\" FROM \"coupon_usergiftcoupon\" INNER JOIN \"coupon_giftcoupon\" ON (\"coupon_usergiftcoupon\".\"gift_coupon_id\" = \"coupon_giftcoupon\".\"id\") LEFT OUTER JOIN \"accounts_user\" T4 ON (\"coupon_usergiftcoupon\".\"prior_user_id\" = T4.\"id\") WHERE (\"coupon_usergiftcoupon\".\"user_id\" = 12 AND \"coupon_usergiftcoupon\".\"is_owner\" = true AND \"coupon_giftcoupon\".\"is_used\" = false AND \"coupon_giftcoupon\".\"expire_date\" >= '2019-05-22'::date); args=(12, True, False, datetime.date(2019, 5, 22))\n"
     ]
    },
    {
     "data": {
      "text/plain": [
       "[{'id': 11,\n",
       "  'created_time': datetime.datetime(2019, 5, 22, 8, 26, 35, 559341, tzinfo=<UTC>),\n",
       "  'updated_time': datetime.datetime(2019, 5, 22, 8, 26, 35, 559374, tzinfo=<UTC>),\n",
       "  'gift_coupon_id': 3,\n",
       "  'user_id': 12,\n",
       "  'prior_user_id': 10,\n",
       "  'is_owner': True,\n",
       "  'is_registrant': False,\n",
       "  'price': 50000,\n",
       "  'create_date': datetime.datetime(2019, 5, 17, 2, 30, 41, 159000, tzinfo=<UTC>),\n",
       "  'expire_date': datetime.date(2019, 8, 15),\n",
       "  'coupon_code': UUID('e61c3d08-e2e1-4842-bbb1-b5be5dbc7125'),\n",
       "  'prior_username': 'sora.son'}]"
      ]
     },
     "execution_count": 38,
     "metadata": {},
     "output_type": "execute_result"
    }
   ],
   "source": [
    "list(available_coupon_list)"
   ]
  },
  {
   "cell_type": "code",
   "execution_count": 40,
   "metadata": {},
   "outputs": [
    {
     "name": "stderr",
     "output_type": "stream",
     "text": [
      "(0.001) SELECT \"coupon_usergiftcoupon\".\"id\", \"coupon_usergiftcoupon\".\"created_time\", \"coupon_usergiftcoupon\".\"updated_time\", \"coupon_usergiftcoupon\".\"gift_coupon_id\", \"coupon_usergiftcoupon\".\"user_id\", \"coupon_usergiftcoupon\".\"prior_user_id\", \"coupon_usergiftcoupon\".\"is_owner\", \"coupon_usergiftcoupon\".\"is_registrant\", \"coupon_giftcoupon\".\"price\" AS \"price\", \"coupon_giftcoupon\".\"created_time\" AS \"create_date\", \"coupon_giftcoupon\".\"expire_date\" AS \"expire_date\", \"coupon_giftcoupon\".\"coupon_code\" AS \"coupon_code\", T4.\"username\" AS \"prior_username\" FROM \"coupon_usergiftcoupon\" INNER JOIN \"coupon_giftcoupon\" ON (\"coupon_usergiftcoupon\".\"gift_coupon_id\" = \"coupon_giftcoupon\".\"id\") LEFT OUTER JOIN \"accounts_user\" T4 ON (\"coupon_usergiftcoupon\".\"prior_user_id\" = T4.\"id\") WHERE (\"coupon_usergiftcoupon\".\"user_id\" = 12 AND \"coupon_usergiftcoupon\".\"is_owner\" = true AND \"coupon_giftcoupon\".\"is_used\" = false AND \"coupon_giftcoupon\".\"expire_date\" >= '2019-05-22'::date); args=(12, True, False, datetime.date(2019, 5, 22))\n"
     ]
    }
   ],
   "source": [
    "available_coupons = (\n",
    "    UserGiftCoupon.objects.select_related('gift_coupon')\n",
    "    .filter(user=user)\n",
    "    .filter(is_owner=True)\n",
    "    .filter(gift_coupon__is_used=False)\n",
    "    .filter(gift_coupon__expire_date__gte=datetime.datetime.now().date())\n",
    "    .annotate(\n",
    "        price=F('gift_coupon__price'),\n",
    "        create_date=F('gift_coupon__created_time'),\n",
    "        expire_date=F('gift_coupon__expire_date'),\n",
    "        coupon_code=F('gift_coupon__coupon_code'),\n",
    "        prior_username=F('prior_user__username'),\n",
    "    ).values())\n",
    "\n",
    "available_coupon_list = list(available_coupons,)"
   ]
  },
  {
   "cell_type": "code",
   "execution_count": 41,
   "metadata": {},
   "outputs": [
    {
     "data": {
      "text/plain": [
       "[{'id': 11,\n",
       "  'created_time': datetime.datetime(2019, 5, 22, 8, 26, 35, 559341, tzinfo=<UTC>),\n",
       "  'updated_time': datetime.datetime(2019, 5, 22, 8, 26, 35, 559374, tzinfo=<UTC>),\n",
       "  'gift_coupon_id': 3,\n",
       "  'user_id': 12,\n",
       "  'prior_user_id': 10,\n",
       "  'is_owner': True,\n",
       "  'is_registrant': False,\n",
       "  'price': 50000,\n",
       "  'create_date': datetime.datetime(2019, 5, 17, 2, 30, 41, 159000, tzinfo=<UTC>),\n",
       "  'expire_date': datetime.date(2019, 8, 15),\n",
       "  'coupon_code': UUID('e61c3d08-e2e1-4842-bbb1-b5be5dbc7125'),\n",
       "  'prior_username': 'sora.son'}]"
      ]
     },
     "execution_count": 41,
     "metadata": {},
     "output_type": "execute_result"
    }
   ],
   "source": [
    "available_coupon_list"
   ]
  },
  {
   "cell_type": "code",
   "execution_count": 42,
   "metadata": {},
   "outputs": [
    {
     "ename": "IndentationError",
     "evalue": "unexpected indent (<ipython-input-42-52cf04134040>, line 2)",
     "output_type": "error",
     "traceback": [
      "\u001b[0;36m  File \u001b[0;32m\"<ipython-input-42-52cf04134040>\"\u001b[0;36m, line \u001b[0;32m2\u001b[0m\n\u001b[0;31m    .filter(user=user)\u001b[0m\n\u001b[0m    ^\u001b[0m\n\u001b[0;31mIndentationError\u001b[0m\u001b[0;31m:\u001b[0m unexpected indent\n"
     ]
    }
   ],
   "source": [
    "UserGiftCoupon.objects.select_related('gift_coupon')\n",
    "            .filter(user=user)\n",
    "            .filter(is_owner=True)\n",
    "            .filter(gift_coupon__is_used=False)\n",
    "            .filter(gift_coupon__expire_date__gte=datetime.datetime.now().date())\n",
    "            .annotate(\n",
    "                price=F('gift_coupon__price'),\n",
    "                create_date=F('gift_coupon__created_time'),\n",
    "                expire_date=F('gift_coupon__expire_date'),\n",
    "                coupon_code=F('gift_coupon__coupon_code'),\n",
    "                prior_username=F('prior_user__username'),\n",
    "            ).values()"
   ]
  },
  {
   "cell_type": "code",
   "execution_count": 43,
   "metadata": {},
   "outputs": [
    {
     "name": "stderr",
     "output_type": "stream",
     "text": [
      "(0.002) SELECT \"coupon_giftcoupon\".\"id\", \"coupon_giftcoupon\".\"created_time\", \"coupon_giftcoupon\".\"updated_time\", \"coupon_giftcoupon\".\"sender_id\", \"coupon_giftcoupon\".\"sender_msg\", \"coupon_giftcoupon\".\"receiver_name\", \"coupon_giftcoupon\".\"receiver_phone\", \"coupon_giftcoupon\".\"receiver_email\", \"coupon_giftcoupon\".\"expire_date\", \"coupon_giftcoupon\".\"coupon_code\", \"coupon_giftcoupon\".\"price\", \"coupon_giftcoupon\".\"is_used\", \"coupon_giftcoupon\".\"used_date\" FROM \"coupon_giftcoupon\" INNER JOIN \"coupon_usergiftcoupon\" ON (\"coupon_giftcoupon\".\"id\" = \"coupon_usergiftcoupon\".\"gift_coupon_id\") INNER JOIN \"coupon_usergiftcoupon\" T3 ON (\"coupon_giftcoupon\".\"id\" = T3.\"gift_coupon_id\") WHERE (\"coupon_usergiftcoupon\".\"is_owner\" = true AND T3.\"user_id\" = 12)  LIMIT 21; args=(True, 12)\n"
     ]
    },
    {
     "data": {
      "text/plain": [
       "<QuerySet [<GiftCoupon: e61c3d08-e2e1-4842-bbb1-b5be5dbc7125>, <GiftCoupon: e61c3d08-e2e1-4842-bbb1-b5be5dbc7125>]>"
      ]
     },
     "execution_count": 43,
     "metadata": {},
     "output_type": "execute_result"
    }
   ],
   "source": [
    "GiftCoupon.objects.filter(usergiftcoupon__is_owner=True).filter(usergiftcoupon__user = user)"
   ]
  },
  {
   "cell_type": "code",
   "execution_count": null,
   "metadata": {},
   "outputs": [],
   "source": []
  },
  {
   "cell_type": "code",
   "execution_count": 45,
   "metadata": {},
   "outputs": [
    {
     "name": "stderr",
     "output_type": "stream",
     "text": [
      "(0.001) SELECT \"coupon_giftcoupon\".\"id\", \"coupon_giftcoupon\".\"created_time\", \"coupon_giftcoupon\".\"updated_time\", \"coupon_giftcoupon\".\"sender_id\", \"coupon_giftcoupon\".\"sender_msg\", \"coupon_giftcoupon\".\"receiver_name\", \"coupon_giftcoupon\".\"receiver_phone\", \"coupon_giftcoupon\".\"receiver_email\", \"coupon_giftcoupon\".\"expire_date\", \"coupon_giftcoupon\".\"coupon_code\", \"coupon_giftcoupon\".\"price\", \"coupon_giftcoupon\".\"is_used\", \"coupon_giftcoupon\".\"used_date\" FROM \"coupon_giftcoupon\" INNER JOIN \"coupon_usergiftcoupon\" ON (\"coupon_giftcoupon\".\"id\" = \"coupon_usergiftcoupon\".\"gift_coupon_id\") INNER JOIN \"coupon_usergiftcoupon\" T3 ON (\"coupon_giftcoupon\".\"id\" = T3.\"gift_coupon_id\") WHERE (\"coupon_usergiftcoupon\".\"is_owner\" = true AND T3.\"user_id\" = 12 AND \"coupon_giftcoupon\".\"is_used\" = false AND \"coupon_giftcoupon\".\"expire_date\" >= '2019-05-23'::date)  LIMIT 21; args=(True, 12, False, datetime.date(2019, 5, 23))\n"
     ]
    },
    {
     "data": {
      "text/plain": [
       "<QuerySet [{'id': 3, 'created_time': datetime.datetime(2019, 5, 17, 2, 30, 41, 159000, tzinfo=<UTC>), 'updated_time': datetime.datetime(2019, 5, 17, 2, 30, 41, 159000, tzinfo=<UTC>), 'sender_id': 10, 'sender_msg': '구구구구구                    ', 'receiver_name': '이순신', 'receiver_phone': '', 'receiver_email': 'sora.son@deliveryhero.co.kr', 'expire_date': datetime.date(2019, 8, 15), 'coupon_code': UUID('e61c3d08-e2e1-4842-bbb1-b5be5dbc7125'), 'price': 50000, 'is_used': False, 'used_date': None}, {'id': 3, 'created_time': datetime.datetime(2019, 5, 17, 2, 30, 41, 159000, tzinfo=<UTC>), 'updated_time': datetime.datetime(2019, 5, 17, 2, 30, 41, 159000, tzinfo=<UTC>), 'sender_id': 10, 'sender_msg': '구구구구구                    ', 'receiver_name': '이순신', 'receiver_phone': '', 'receiver_email': 'sora.son@deliveryhero.co.kr', 'expire_date': datetime.date(2019, 8, 15), 'coupon_code': UUID('e61c3d08-e2e1-4842-bbb1-b5be5dbc7125'), 'price': 50000, 'is_used': False, 'used_date': None}]>"
      ]
     },
     "execution_count": 45,
     "metadata": {},
     "output_type": "execute_result"
    }
   ],
   "source": [
    "(GiftCoupon.objects\n",
    "        .filter(usergiftcoupon__is_owner=True).filter(usergiftcoupon__user = user)\n",
    "        .filter(is_used=False)\n",
    "        .filter(expire_date__gte=datetime.datetime.now().date())\n",
    "        .values())"
   ]
  },
  {
   "cell_type": "code",
   "execution_count": 54,
   "metadata": {},
   "outputs": [
    {
     "name": "stderr",
     "output_type": "stream",
     "text": [
      "(0.001) SELECT \"coupon_giftcoupon\".\"id\", \"coupon_giftcoupon\".\"created_time\", \"coupon_giftcoupon\".\"updated_time\", \"coupon_giftcoupon\".\"sender_id\", \"coupon_giftcoupon\".\"sender_msg\", \"coupon_giftcoupon\".\"receiver_name\", \"coupon_giftcoupon\".\"receiver_phone\", \"coupon_giftcoupon\".\"receiver_email\", \"coupon_giftcoupon\".\"expire_date\", \"coupon_giftcoupon\".\"coupon_code\", \"coupon_giftcoupon\".\"price\", \"coupon_giftcoupon\".\"is_used\", \"coupon_giftcoupon\".\"used_date\" FROM \"coupon_giftcoupon\" LEFT OUTER JOIN \"coupon_usergiftcoupon\" ON (\"coupon_giftcoupon\".\"id\" = \"coupon_usergiftcoupon\".\"gift_coupon_id\") WHERE (\"coupon_giftcoupon\".\"sender_id\" = 12 OR \"coupon_usergiftcoupon\".\"prior_user_id\" = 12) ORDER BY \"coupon_usergiftcoupon\".\"id\" DESC  LIMIT 21; args=(12, 12)\n"
     ]
    },
    {
     "data": {
      "text/plain": [
       "<QuerySet []>"
      ]
     },
     "execution_count": 54,
     "metadata": {},
     "output_type": "execute_result"
    }
   ],
   "source": [
    "GiftCoupon.objects.filter(Q(sender=user) | Q(usergiftcoupon__prior_user=user)).\\\n",
    "order_by('-created_time').\\\n",
    "order_by('-usergiftcoupon')"
   ]
  },
  {
   "cell_type": "code",
   "execution_count": 55,
   "metadata": {},
   "outputs": [
    {
     "ename": "SyntaxError",
     "evalue": "invalid syntax (<ipython-input-55-17d484efbf3c>, line 1)",
     "output_type": "error",
     "traceback": [
      "\u001b[0;36m  File \u001b[0;32m\"<ipython-input-55-17d484efbf3c>\"\u001b[0;36m, line \u001b[0;32m1\u001b[0m\n\u001b[0;31m    SELECT \"coupon_usergiftcoupon\".\"id\", \"coupon_usergiftcoupon\".\"created_time\", \"coupon_usergiftcoupon\".\"updated_time\", \"coupon_usergiftcoupon\".\"gift_coupon_id\", \"coupon_usergiftcoupon\".\"user_id\", \"coupon_usergiftcoupon\".\"prior_user_id\", \"coupon_usergiftcoupon\".\"is_owner\", \"coupon_usergiftcoupon\".\"is_registrant\", \"coupon_giftcoupon\".\"price\" AS \"price\", \"coupon_giftcoupon\".\"created_time\" AS \"create_date\", \"coupon_giftcoupon\".\"expire_date\" AS \"expire_date\", \"coupon_usergiftcoupon\".\"gift_coupon_id\" AS \"coupon_id\", \"coupon_giftcoupon\".\"coupon_code\" AS \"coupon_code\", T4.\"username\" AS \"prior_username\"\u001b[0m\n\u001b[0m                                 ^\u001b[0m\n\u001b[0;31mSyntaxError\u001b[0m\u001b[0;31m:\u001b[0m invalid syntax\n"
     ]
    }
   ],
   "source": [
    "SELECT \"coupon_usergiftcoupon\".\"id\", \"coupon_usergiftcoupon\".\"created_time\", \"coupon_usergiftcoupon\".\"updated_time\", \"coupon_usergiftcoupon\".\"gift_coupon_id\", \"coupon_usergiftcoupon\".\"user_id\", \"coupon_usergiftcoupon\".\"prior_user_id\", \"coupon_usergiftcoupon\".\"is_owner\", \"coupon_usergiftcoupon\".\"is_registrant\", \"coupon_giftcoupon\".\"price\" AS \"price\", \"coupon_giftcoupon\".\"created_time\" AS \"create_date\", \"coupon_giftcoupon\".\"expire_date\" AS \"expire_date\", \"coupon_usergiftcoupon\".\"gift_coupon_id\" AS \"coupon_id\", \"coupon_giftcoupon\".\"coupon_code\" AS \"coupon_code\", T4.\"username\" AS \"prior_username\" \n",
    "FROM \"coupon_usergiftcoupon\" \n",
    "INNER JOIN \"coupon_giftcoupon\" \n",
    "ON (\"coupon_usergiftcoupon\".\"gift_coupon_id\" = \"coupon_giftcoupon\".\"id\") \n",
    "LEFT OUTER JOIN \"accounts_user\" T4 ON (\"coupon_usergiftcoupon\".\"prior_user_id\" = T4.\"id\") \n",
    "WHERE (\"coupon_usergiftcoupon\".\"user_id\" = 10 AND \"coupon_usergiftcoupon\".\"is_owner\" = true AND \"coupon_giftcoupon\".\"is_used\" = false AND \"coupon_giftcoupon\".\"expire_date\" >= '2019-05-23'::date); args=(10, True, "
   ]
  },
  {
   "cell_type": "code",
   "execution_count": 56,
   "metadata": {},
   "outputs": [
    {
     "name": "stderr",
     "output_type": "stream",
     "text": [
      "(0.001) SELECT \"accounts_user\".\"id\", \"accounts_user\".\"password\", \"accounts_user\".\"last_login\", \"accounts_user\".\"is_superuser\", \"accounts_user\".\"username\", \"accounts_user\".\"first_name\", \"accounts_user\".\"last_name\", \"accounts_user\".\"email\", \"accounts_user\".\"is_staff\", \"accounts_user\".\"is_active\", \"accounts_user\".\"date_joined\", \"accounts_user\".\"phone\", \"accounts_user\".\"address\", \"accounts_user\".\"address_detail\", \"accounts_user\".\"user_type\", \"accounts_user\".\"deactivate_date\" FROM \"accounts_user\" WHERE \"accounts_user\".\"username\" = 'sora.son'; args=('sora.son',)\n"
     ]
    }
   ],
   "source": [
    "user= User.objects.get(username='sora.son')\n",
    "received_coupons = (UserGiftCoupon.objects.select_related('gift_coupon')\n",
    "                    .filter(user=user).order_by('-created_time'))\n",
    "\n",
    "coupons_values = received_coupons.values(\n",
    "    'id', 'gift_coupon__id', 'gift_coupon__coupon_code', 'gift_coupon__is_used', 'is_owner',\n",
    "    'prior_user', 'prior_user__username', 'gift_coupon__sender__username', 'gift_coupon__expire_date',\n",
    "    'gift_coupon__price', 'gift_coupon__created_time', 'created_time',\n",
    "    )\n"
   ]
  },
  {
   "cell_type": "code",
   "execution_count": 59,
   "metadata": {},
   "outputs": [],
   "source": [
    "import datetime\n",
    "from datetime import datetime\n",
    "today=datetime.now()"
   ]
  },
  {
   "cell_type": "code",
   "execution_count": 62,
   "metadata": {},
   "outputs": [
    {
     "ename": "TypeError",
     "evalue": "can't compare datetime.datetime to datetime.date",
     "output_type": "error",
     "traceback": [
      "\u001b[0;31m---------------------------------------------------------------------------\u001b[0m",
      "\u001b[0;31mTypeError\u001b[0m                                 Traceback (most recent call last)",
      "\u001b[0;32m<ipython-input-62-4955793f3f37>\u001b[0m in \u001b[0;36m<module>\u001b[0;34m\u001b[0m\n\u001b[1;32m      4\u001b[0m     \u001b[0mis_used\u001b[0m \u001b[0;34m=\u001b[0m \u001b[0mcoupon\u001b[0m\u001b[0;34m[\u001b[0m\u001b[0;34m'gift_coupon__is_used'\u001b[0m\u001b[0;34m]\u001b[0m\u001b[0;34m\u001b[0m\u001b[0;34m\u001b[0m\u001b[0m\n\u001b[1;32m      5\u001b[0m \u001b[0;34m\u001b[0m\u001b[0m\n\u001b[0;32m----> 6\u001b[0;31m     \u001b[0;32mif\u001b[0m \u001b[0mtoday\u001b[0m \u001b[0;34m<=\u001b[0m \u001b[0mexpire_date\u001b[0m\u001b[0;34m:\u001b[0m\u001b[0;34m\u001b[0m\u001b[0;34m\u001b[0m\u001b[0m\n\u001b[0m\u001b[1;32m      7\u001b[0m         \u001b[0mis_expired\u001b[0m \u001b[0;34m=\u001b[0m \u001b[0;32mFalse\u001b[0m\u001b[0;34m\u001b[0m\u001b[0;34m\u001b[0m\u001b[0m\n",
      "\u001b[0;31mTypeError\u001b[0m: can't compare datetime.datetime to datetime.date"
     ]
    }
   ],
   "source": [
    "for coupon in coupons_values:\n",
    "\n",
    "    expire_date = coupon['gift_coupon__expire_date']\n",
    "    is_used = coupon['gift_coupon__is_used']\n",
    "\n",
    "    if today <= expire_date:\n",
    "        is_expired = False"
   ]
  },
  {
   "cell_type": "code",
   "execution_count": 63,
   "metadata": {},
   "outputs": [
    {
     "ename": "SyntaxError",
     "evalue": "invalid syntax (<ipython-input-63-27fb5b6a152e>, line 1)",
     "output_type": "error",
     "traceback": [
      "\u001b[0;36m  File \u001b[0;32m\"<ipython-input-63-27fb5b6a152e>\"\u001b[0;36m, line \u001b[0;32m1\u001b[0m\n\u001b[0;31m    SELECT \"restaurant_restaurant\".\"id\", \"restaurant_restaurant\".\"created_time\", \"restaurant_restaurant\".\"updated_time\", \"restaurant_restaurant\".\"name\", \"restaurant_restaurant\".\"owner\", \"restaurant_restaurant\".\"title\", \"restaurant_restaurant\".\"img\", \"restaurant_restaurant\".\"tel\", \"restaurant_restaurant\".\"min_order_price\", \"restaurant_restaurant\".\"order_way\", \"restaurant_restaurant\".\"origin\", \"restaurant_restaurant\".\"delivery_charge\", \"restaurant_restaurant\".\"info\", \"restaurant_restaurant\".\"type\", \"restaurant_restaurant\".\"estimated_delivery_time\", \"restaurant_restaurant\".\"operation_start_hour\", \"restaurant_restaurant\".\"operation_end_hour\"\u001b[0m\n\u001b[0m                                 ^\u001b[0m\n\u001b[0;31mSyntaxError\u001b[0m\u001b[0;31m:\u001b[0m invalid syntax\n"
     ]
    }
   ],
   "source": [
    "SELECT \"restaurant_restaurant\".\"id\", \"restaurant_restaurant\".\"created_time\", \"restaurant_restaurant\".\"updated_time\", \"restaurant_restaurant\".\"name\", \"restaurant_restaurant\".\"owner\", \"restaurant_restaurant\".\"title\", \"restaurant_restaurant\".\"img\", \"restaurant_restaurant\".\"tel\", \"restaurant_restaurant\".\"min_order_price\", \"restaurant_restaurant\".\"order_way\", \"restaurant_restaurant\".\"origin\", \"restaurant_restaurant\".\"delivery_charge\", \"restaurant_restaurant\".\"info\", \"restaurant_restaurant\".\"type\", \"restaurant_restaurant\".\"estimated_delivery_time\", \"restaurant_restaurant\".\"operation_start_hour\", \"restaurant_restaurant\".\"operation_end_hour\" \n",
    "FROM \"restaurant_restaurant\" \n",
    "INNER JOIN \"accounts_user_restaurant\" \n",
    "ON (\"restaurant_restaurant\".\"id\" = \"accounts_user_restaurant\".\"restaurant_id\") \n",
    "WHERE (\"accounts_user_restaurant\".\"user_id\" = 10 AND \"restaurant_restaurant\".\"id\" = 1); args=(10, 1)\n"
   ]
  },
  {
   "cell_type": "code",
   "execution_count": 1,
   "metadata": {},
   "outputs": [
    {
     "name": "stderr",
     "output_type": "stream",
     "text": [
      "(0.002) SELECT \"accounts_user\".\"id\", \"accounts_user\".\"password\", \"accounts_user\".\"last_login\", \"accounts_user\".\"is_superuser\", \"accounts_user\".\"username\", \"accounts_user\".\"first_name\", \"accounts_user\".\"last_name\", \"accounts_user\".\"email\", \"accounts_user\".\"is_staff\", \"accounts_user\".\"is_active\", \"accounts_user\".\"date_joined\", \"accounts_user\".\"phone\", \"accounts_user\".\"address\", \"accounts_user\".\"address_detail\", \"accounts_user\".\"user_type\", \"accounts_user\".\"deactivate_date\" FROM \"accounts_user\" WHERE \"accounts_user\".\"username\" = 'sora.son'; args=('sora.son',)\n",
      "(0.014) SELECT \"restaurant_restaurant\".\"id\", \"restaurant_restaurant\".\"created_time\", \"restaurant_restaurant\".\"updated_time\", \"restaurant_restaurant\".\"name\", \"restaurant_restaurant\".\"owner\", \"restaurant_restaurant\".\"title\", \"restaurant_restaurant\".\"img\", \"restaurant_restaurant\".\"tel\", \"restaurant_restaurant\".\"min_order_price\", \"restaurant_restaurant\".\"order_way\", \"restaurant_restaurant\".\"origin\", \"restaurant_restaurant\".\"delivery_charge\", \"restaurant_restaurant\".\"info\", \"restaurant_restaurant\".\"type\", \"restaurant_restaurant\".\"estimated_delivery_time\", \"restaurant_restaurant\".\"operation_start_hour\", \"restaurant_restaurant\".\"operation_end_hour\" FROM \"restaurant_restaurant\" INNER JOIN \"accounts_user_subscribed_restaurants\" ON (\"restaurant_restaurant\".\"id\" = \"accounts_user_subscribed_restaurants\".\"restaurant_id\") WHERE (\"accounts_user_subscribed_restaurants\".\"user_id\" = 10 AND \"restaurant_restaurant\".\"id\" = 1)  LIMIT 21; args=(10, 1)\n"
     ]
    },
    {
     "data": {
      "text/plain": [
       "<QuerySet []>"
      ]
     },
     "execution_count": 1,
     "metadata": {},
     "output_type": "execute_result"
    }
   ],
   "source": [
    "user = User.objects.get(username='sora.son')\n",
    "user.subscribed_restaurants.filter(pk=1)"
   ]
  },
  {
   "cell_type": "code",
   "execution_count": 3,
   "metadata": {},
   "outputs": [
    {
     "name": "stderr",
     "output_type": "stream",
     "text": [
      "(0.001) SELECT \"restaurant_restaurant\".\"id\", \"restaurant_restaurant\".\"created_time\", \"restaurant_restaurant\".\"updated_time\", \"restaurant_restaurant\".\"name\", \"restaurant_restaurant\".\"owner\", \"restaurant_restaurant\".\"title\", \"restaurant_restaurant\".\"img\", \"restaurant_restaurant\".\"tel\", \"restaurant_restaurant\".\"min_order_price\", \"restaurant_restaurant\".\"order_way\", \"restaurant_restaurant\".\"origin\", \"restaurant_restaurant\".\"delivery_charge\", \"restaurant_restaurant\".\"info\", \"restaurant_restaurant\".\"type\", \"restaurant_restaurant\".\"estimated_delivery_time\", \"restaurant_restaurant\".\"operation_start_hour\", \"restaurant_restaurant\".\"operation_end_hour\" FROM \"restaurant_restaurant\" INNER JOIN \"accounts_user_subscribed_restaurants\" ON (\"restaurant_restaurant\".\"id\" = \"accounts_user_subscribed_restaurants\".\"restaurant_id\") WHERE (\"accounts_user_subscribed_restaurants\".\"user_id\" = 10 AND \"restaurant_restaurant\".\"id\" = 1); args=(10, 1)\n"
     ]
    },
    {
     "name": "stdout",
     "output_type": "stream",
     "text": [
      "True\n"
     ]
    }
   ],
   "source": [
    "if user.subscribed_restaurants.filter(pk=1):\n",
    "    subscribe_flag = False\n",
    "    print(subscribe_flag)\n",
    "else:\n",
    "    subscribe_flag = True\n",
    "    print(subscribe_flag)"
   ]
  },
  {
   "cell_type": "code",
   "execution_count": 10,
   "metadata": {},
   "outputs": [
    {
     "name": "stderr",
     "output_type": "stream",
     "text": [
      "(0.001) SELECT \"accounts_user\".\"id\", \"accounts_user\".\"password\", \"accounts_user\".\"last_login\", \"accounts_user\".\"is_superuser\", \"accounts_user\".\"username\", \"accounts_user\".\"first_name\", \"accounts_user\".\"last_name\", \"accounts_user\".\"email\", \"accounts_user\".\"is_staff\", \"accounts_user\".\"is_active\", \"accounts_user\".\"date_joined\", \"accounts_user\".\"phone\", \"accounts_user\".\"address\", \"accounts_user\".\"address_detail\", \"accounts_user\".\"user_type\", \"accounts_user\".\"deactivate_date\" FROM \"accounts_user\" WHERE \"accounts_user\".\"username\" = 'sora.son'; args=('sora.son',)\n"
     ]
    }
   ],
   "source": [
    "\n",
    "registered_coupon_id =17\n",
    "gift_coupon = GiftCoupon.objects.filter(\n",
    "    is_used=False,\n",
    "    usergiftcoupon=registered_coupon_id,\n",
    "    usergiftcoupon__is_owner=True,\n",
    "    usergiftcoupon__user=user\n",
    ")"
   ]
  },
  {
   "cell_type": "code",
   "execution_count": 20,
   "metadata": {},
   "outputs": [
    {
     "name": "stderr",
     "output_type": "stream",
     "text": [
      "(0.001) SELECT \"coupon_giftcoupon\".\"id\", \"coupon_giftcoupon\".\"created_time\", \"coupon_giftcoupon\".\"updated_time\", \"coupon_giftcoupon\".\"sender_id\", \"coupon_giftcoupon\".\"sender_msg\", \"coupon_giftcoupon\".\"receiver_name\", \"coupon_giftcoupon\".\"receiver_phone\", \"coupon_giftcoupon\".\"receiver_email\", \"coupon_giftcoupon\".\"expire_date\", \"coupon_giftcoupon\".\"coupon_code\", \"coupon_giftcoupon\".\"price\", \"coupon_giftcoupon\".\"is_used\", \"coupon_giftcoupon\".\"used_date\" FROM \"coupon_giftcoupon\" INNER JOIN \"coupon_usergiftcoupon\" ON (\"coupon_giftcoupon\".\"id\" = \"coupon_usergiftcoupon\".\"gift_coupon_id\") WHERE (\"coupon_giftcoupon\".\"is_used\" = false AND \"coupon_usergiftcoupon\".\"id\" = 17 AND \"coupon_usergiftcoupon\".\"is_owner\" = true AND \"coupon_usergiftcoupon\".\"user_id\" = 10)  LIMIT 1; args=(False, 17, True, 10)\n"
     ]
    },
    {
     "data": {
      "text/plain": [
       "10000"
      ]
     },
     "execution_count": 20,
     "metadata": {},
     "output_type": "execute_result"
    }
   ],
   "source": [
    "user\n",
    "gift_coupon[0].price"
   ]
  },
  {
   "cell_type": "code",
   "execution_count": 14,
   "metadata": {},
   "outputs": [
    {
     "name": "stderr",
     "output_type": "stream",
     "text": [
      "(0.002) UPDATE \"coupon_giftcoupon\" SET \"is_used\" = true WHERE \"coupon_giftcoupon\".\"id\" IN (SELECT U0.\"id\" FROM \"coupon_giftcoupon\" U0 INNER JOIN \"coupon_usergiftcoupon\" U1 ON (U0.\"id\" = U1.\"gift_coupon_id\") WHERE (U0.\"is_used\" = false AND U1.\"id\" = 17 AND U1.\"is_owner\" = true AND U1.\"user_id\" = 10)); args=(True, False, 17, True, 10)\n"
     ]
    },
    {
     "data": {
      "text/plain": [
       "1"
      ]
     },
     "execution_count": 14,
     "metadata": {},
     "output_type": "execute_result"
    }
   ],
   "source": [
    "gift_coupon.update(is_used = True)"
   ]
  },
  {
   "cell_type": "code",
   "execution_count": 15,
   "metadata": {},
   "outputs": [
    {
     "ename": "AttributeError",
     "evalue": "'QuerySet' object has no attribute 'price'",
     "output_type": "error",
     "traceback": [
      "\u001b[0;31m---------------------------------------------------------------------------\u001b[0m",
      "\u001b[0;31mAttributeError\u001b[0m                            Traceback (most recent call last)",
      "\u001b[0;32m<ipython-input-15-7b677bf5c918>\u001b[0m in \u001b[0;36m<module>\u001b[0;34m\u001b[0m\n\u001b[0;32m----> 1\u001b[0;31m \u001b[0mgift_coupon\u001b[0m\u001b[0;34m.\u001b[0m\u001b[0mprice\u001b[0m\u001b[0;34m\u001b[0m\u001b[0;34m\u001b[0m\u001b[0m\n\u001b[0m",
      "\u001b[0;31mAttributeError\u001b[0m: 'QuerySet' object has no attribute 'price'"
     ]
    }
   ],
   "source": [
    "gift_coupon.price\n"
   ]
  },
  {
   "cell_type": "code",
   "execution_count": 28,
   "metadata": {},
   "outputs": [
    {
     "name": "stderr",
     "output_type": "stream",
     "text": [
      "(0.001) SELECT \"accounts_user\".\"id\", \"accounts_user\".\"password\", \"accounts_user\".\"last_login\", \"accounts_user\".\"is_superuser\", \"accounts_user\".\"username\", \"accounts_user\".\"first_name\", \"accounts_user\".\"last_name\", \"accounts_user\".\"email\", \"accounts_user\".\"is_staff\", \"accounts_user\".\"is_active\", \"accounts_user\".\"date_joined\", \"accounts_user\".\"phone\", \"accounts_user\".\"address\", \"accounts_user\".\"address_detail\", \"accounts_user\".\"user_type\", \"accounts_user\".\"deactivate_date\" FROM \"accounts_user\" WHERE \"accounts_user\".\"username\" = 'sora.son'; args=('sora.son',)\n",
      "(0.001) SELECT \"coupon_giftcoupon\".\"id\", \"coupon_giftcoupon\".\"created_time\", \"coupon_giftcoupon\".\"updated_time\", \"coupon_giftcoupon\".\"sender_id\", \"coupon_giftcoupon\".\"sender_msg\", \"coupon_giftcoupon\".\"receiver_name\", \"coupon_giftcoupon\".\"receiver_phone\", \"coupon_giftcoupon\".\"receiver_email\", \"coupon_giftcoupon\".\"expire_date\", \"coupon_giftcoupon\".\"coupon_code\", \"coupon_giftcoupon\".\"price\", \"coupon_giftcoupon\".\"is_used\", \"coupon_giftcoupon\".\"used_date\" FROM \"coupon_giftcoupon\" WHERE (\"coupon_giftcoupon\".\"sender_id\" = 10 AND \"coupon_giftcoupon\".\"id\" = 10)  LIMIT 1; args=(10, 10)\n"
     ]
    }
   ],
   "source": [
    "user = User.objects.get(username='sora.son')\n",
    "coupon_code = (GiftCoupon.objects\n",
    "                .filter(sender=user)\n",
    "                .filter(pk=10)[0].coupon_code)"
   ]
  },
  {
   "cell_type": "code",
   "execution_count": 31,
   "metadata": {},
   "outputs": [
    {
     "name": "stderr",
     "output_type": "stream",
     "text": [
      "(0.001) SELECT \"coupon_giftcoupon\".\"id\", \"coupon_giftcoupon\".\"created_time\", \"coupon_giftcoupon\".\"updated_time\", \"coupon_giftcoupon\".\"sender_id\", \"coupon_giftcoupon\".\"sender_msg\", \"coupon_giftcoupon\".\"receiver_name\", \"coupon_giftcoupon\".\"receiver_phone\", \"coupon_giftcoupon\".\"receiver_email\", \"coupon_giftcoupon\".\"expire_date\", \"coupon_giftcoupon\".\"coupon_code\", \"coupon_giftcoupon\".\"price\", \"coupon_giftcoupon\".\"is_used\", \"coupon_giftcoupon\".\"used_date\" FROM \"coupon_giftcoupon\" INNER JOIN \"coupon_usergiftcoupon\" ON (\"coupon_giftcoupon\".\"id\" = \"coupon_usergiftcoupon\".\"gift_coupon_id\") WHERE (\"coupon_giftcoupon\".\"coupon_code\" = '058036c2-91dc-461e-b0c9-54625478ef1d'::uuid AND \"coupon_usergiftcoupon\".\"is_owner\" = true AND \"coupon_usergiftcoupon\".\"user_id\" = 10); args=(UUID('058036c2-91dc-461e-b0c9-54625478ef1d'), True, 10)\n"
     ]
    }
   ],
   "source": [
    "\n",
    "gift_coupon=(GiftCoupon.objects\n",
    ".get(\n",
    "    usergiftcoupon__is_owner=True,\n",
    "    usergiftcoupon__user=user,\n",
    "    coupon_code=coupon_code))"
   ]
  },
  {
   "cell_type": "code",
   "execution_count": 32,
   "metadata": {},
   "outputs": [
    {
     "data": {
      "text/plain": [
       "10"
      ]
     },
     "execution_count": 32,
     "metadata": {},
     "output_type": "execute_result"
    }
   ],
   "source": [
    "gift_coupon.id"
   ]
  },
  {
   "cell_type": "code",
   "execution_count": 33,
   "metadata": {},
   "outputs": [],
   "source": [
    "def register_coupon():\n",
    "    gift_coupon=(GiftCoupon.objects\n",
    "    .get(\n",
    "        usergiftcoupon__is_owner=True,\n",
    "        usergiftcoupon__user=user,\n",
    "        coupon_code=coupon_code))\n",
    "    return gift_coupon"
   ]
  },
  {
   "cell_type": "code",
   "execution_count": 35,
   "metadata": {},
   "outputs": [
    {
     "name": "stderr",
     "output_type": "stream",
     "text": [
      "(0.001) SELECT \"coupon_giftcoupon\".\"id\", \"coupon_giftcoupon\".\"created_time\", \"coupon_giftcoupon\".\"updated_time\", \"coupon_giftcoupon\".\"sender_id\", \"coupon_giftcoupon\".\"sender_msg\", \"coupon_giftcoupon\".\"receiver_name\", \"coupon_giftcoupon\".\"receiver_phone\", \"coupon_giftcoupon\".\"receiver_email\", \"coupon_giftcoupon\".\"expire_date\", \"coupon_giftcoupon\".\"coupon_code\", \"coupon_giftcoupon\".\"price\", \"coupon_giftcoupon\".\"is_used\", \"coupon_giftcoupon\".\"used_date\" FROM \"coupon_giftcoupon\" INNER JOIN \"coupon_usergiftcoupon\" ON (\"coupon_giftcoupon\".\"id\" = \"coupon_usergiftcoupon\".\"gift_coupon_id\") WHERE (\"coupon_giftcoupon\".\"coupon_code\" = '058036c2-91dc-461e-b0c9-54625478ef1d'::uuid AND \"coupon_usergiftcoupon\".\"is_owner\" = true AND \"coupon_usergiftcoupon\".\"user_id\" = 10); args=(UUID('058036c2-91dc-461e-b0c9-54625478ef1d'), True, 10)\n"
     ]
    }
   ],
   "source": [
    "gift_coupon=register_coupon()"
   ]
  },
  {
   "cell_type": "code",
   "execution_count": 36,
   "metadata": {},
   "outputs": [
    {
     "data": {
      "text/plain": [
       "10"
      ]
     },
     "execution_count": 36,
     "metadata": {},
     "output_type": "execute_result"
    }
   ],
   "source": [
    "gift_coupon.id"
   ]
  },
  {
   "cell_type": "code",
   "execution_count": 37,
   "metadata": {},
   "outputs": [
    {
     "name": "stderr",
     "output_type": "stream",
     "text": [
      "(0.001) SELECT \"restaurant_restaurant\".\"id\", \"restaurant_restaurant\".\"created_time\", \"restaurant_restaurant\".\"updated_time\", \"restaurant_restaurant\".\"name\", \"restaurant_restaurant\".\"owner\", \"restaurant_restaurant\".\"title\", \"restaurant_restaurant\".\"img\", \"restaurant_restaurant\".\"tel\", \"restaurant_restaurant\".\"min_order_price\", \"restaurant_restaurant\".\"order_way\", \"restaurant_restaurant\".\"origin\", \"restaurant_restaurant\".\"delivery_charge\", \"restaurant_restaurant\".\"info\", \"restaurant_restaurant\".\"type\", \"restaurant_restaurant\".\"estimated_delivery_time\", \"restaurant_restaurant\".\"operation_start_hour\", \"restaurant_restaurant\".\"operation_end_hour\" FROM \"restaurant_restaurant\" INNER JOIN \"accounts_user_subscribed_restaurants\" ON (\"restaurant_restaurant\".\"id\" = \"accounts_user_subscribed_restaurants\".\"restaurant_id\") WHERE \"accounts_user_subscribed_restaurants\".\"user_id\" IN (10)  LIMIT 21; args=(10,)\n"
     ]
    },
    {
     "data": {
      "text/plain": [
       "<QuerySet []>"
      ]
     },
     "execution_count": 37,
     "metadata": {},
     "output_type": "execute_result"
    }
   ],
   "source": [
    "Restaurant.objects.filter(subscribers__in=[user])"
   ]
  },
  {
   "cell_type": "code",
   "execution_count": 38,
   "metadata": {},
   "outputs": [
    {
     "name": "stderr",
     "output_type": "stream",
     "text": [
      "(0.001) SELECT \"restaurant_restaurant\".\"id\", \"restaurant_restaurant\".\"created_time\", \"restaurant_restaurant\".\"updated_time\", \"restaurant_restaurant\".\"name\", \"restaurant_restaurant\".\"owner\", \"restaurant_restaurant\".\"title\", \"restaurant_restaurant\".\"img\", \"restaurant_restaurant\".\"tel\", \"restaurant_restaurant\".\"min_order_price\", \"restaurant_restaurant\".\"order_way\", \"restaurant_restaurant\".\"origin\", \"restaurant_restaurant\".\"delivery_charge\", \"restaurant_restaurant\".\"info\", \"restaurant_restaurant\".\"type\", \"restaurant_restaurant\".\"estimated_delivery_time\", \"restaurant_restaurant\".\"operation_start_hour\", \"restaurant_restaurant\".\"operation_end_hour\" FROM \"restaurant_restaurant\" INNER JOIN \"accounts_user_subscribed_restaurants\" ON (\"restaurant_restaurant\".\"id\" = \"accounts_user_subscribed_restaurants\".\"restaurant_id\") WHERE \"accounts_user_subscribed_restaurants\".\"user_id\" = 10  LIMIT 21; args=(10,)\n"
     ]
    },
    {
     "data": {
      "text/plain": [
       "<QuerySet []>"
      ]
     },
     "execution_count": 38,
     "metadata": {},
     "output_type": "execute_result"
    }
   ],
   "source": [
    "user.subscribed_restaurants.all()"
   ]
  },
  {
   "cell_type": "code",
   "execution_count": 11,
   "metadata": {},
   "outputs": [
    {
     "name": "stderr",
     "output_type": "stream",
     "text": [
      "(0.001) SELECT \"accounts_user\".\"id\", \"accounts_user\".\"password\", \"accounts_user\".\"last_login\", \"accounts_user\".\"is_superuser\", \"accounts_user\".\"username\", \"accounts_user\".\"first_name\", \"accounts_user\".\"last_name\", \"accounts_user\".\"email\", \"accounts_user\".\"is_staff\", \"accounts_user\".\"is_active\", \"accounts_user\".\"date_joined\", \"accounts_user\".\"phone\", \"accounts_user\".\"address\", \"accounts_user\".\"address_detail\", \"accounts_user\".\"user_type\", \"accounts_user\".\"deactivate_date\" FROM \"accounts_user\" WHERE \"accounts_user\".\"id\" = 12; args=(12,)\n"
     ]
    }
   ],
   "source": [
    "user = User.objects.get(id=12)\n",
    "registered_coupon = (UserGiftCoupon.objects.select_related('gift_coupon')\n",
    "                                 .filter(user=user)\n",
    "                                 .filter(is_checked=False)\n",
    "                                 .filter(is_owner=True).filter(gift_coupon__is_used=False))"
   ]
  },
  {
   "cell_type": "code",
   "execution_count": 7,
   "metadata": {},
   "outputs": [
    {
     "name": "stderr",
     "output_type": "stream",
     "text": [
      "(0.001) SELECT \"coupon_usergiftcoupon\".\"id\", \"coupon_usergiftcoupon\".\"created_time\", \"coupon_usergiftcoupon\".\"updated_time\", \"coupon_usergiftcoupon\".\"gift_coupon_id\", \"coupon_usergiftcoupon\".\"user_id\", \"coupon_usergiftcoupon\".\"prior_user_id\", \"coupon_usergiftcoupon\".\"is_owner\", \"coupon_usergiftcoupon\".\"is_registrant\", \"coupon_usergiftcoupon\".\"is_checked\", \"coupon_giftcoupon\".\"id\", \"coupon_giftcoupon\".\"created_time\", \"coupon_giftcoupon\".\"updated_time\", \"coupon_giftcoupon\".\"sender_id\", \"coupon_giftcoupon\".\"sender_msg\", \"coupon_giftcoupon\".\"receiver_name\", \"coupon_giftcoupon\".\"receiver_phone\", \"coupon_giftcoupon\".\"receiver_email\", \"coupon_giftcoupon\".\"expire_date\", \"coupon_giftcoupon\".\"coupon_code\", \"coupon_giftcoupon\".\"price\", \"coupon_giftcoupon\".\"is_used\", \"coupon_giftcoupon\".\"used_date\" FROM \"coupon_usergiftcoupon\" INNER JOIN \"coupon_giftcoupon\" ON (\"coupon_usergiftcoupon\".\"gift_coupon_id\" = \"coupon_giftcoupon\".\"id\") WHERE (\"coupon_usergiftcoupon\".\"user_id\" = 10 AND \"coupon_usergiftcoupon\".\"is_checked\" = false AND \"coupon_usergiftcoupon\".\"is_owner\" = true AND \"coupon_giftcoupon\".\"is_used\" = false)  LIMIT 21; args=(10, False, True, False)\n"
     ]
    },
    {
     "data": {
      "text/plain": [
       "<QuerySet [<UserGiftCoupon: e61c3d08-e2e1-4842-bbb1-b5be5dbc7125>, <UserGiftCoupon: 6383a462-2928-4447-b5dc-b7b2ee8925ab>, <UserGiftCoupon: 058036c2-91dc-461e-b0c9-54625478ef1d>]>"
      ]
     },
     "execution_count": 7,
     "metadata": {},
     "output_type": "execute_result"
    }
   ],
   "source": [
    "registered_coupon"
   ]
  },
  {
   "cell_type": "code",
   "execution_count": 20,
   "metadata": {},
   "outputs": [],
   "source": [
    "unchecked_handover_coupon_list = (\n",
    "    UserGiftCoupon.objects.select_related('gift_coupon')\n",
    "    .filter(\n",
    "        user=user,\n",
    "        is_checked=False,\n",
    "        is_owner=True,\n",
    "        is_registrant=False)\n",
    "\n",
    ")"
   ]
  },
  {
   "cell_type": "code",
   "execution_count": 21,
   "metadata": {},
   "outputs": [
    {
     "name": "stderr",
     "output_type": "stream",
     "text": [
      "(0.001) SELECT \"coupon_usergiftcoupon\".\"id\", \"coupon_usergiftcoupon\".\"created_time\", \"coupon_usergiftcoupon\".\"updated_time\", \"coupon_usergiftcoupon\".\"gift_coupon_id\", \"coupon_usergiftcoupon\".\"user_id\", \"coupon_usergiftcoupon\".\"prior_user_id\", \"coupon_usergiftcoupon\".\"is_owner\", \"coupon_usergiftcoupon\".\"is_registrant\", \"coupon_usergiftcoupon\".\"is_checked\", \"coupon_giftcoupon\".\"id\", \"coupon_giftcoupon\".\"created_time\", \"coupon_giftcoupon\".\"updated_time\", \"coupon_giftcoupon\".\"sender_id\", \"coupon_giftcoupon\".\"sender_msg\", \"coupon_giftcoupon\".\"receiver_name\", \"coupon_giftcoupon\".\"receiver_phone\", \"coupon_giftcoupon\".\"receiver_email\", \"coupon_giftcoupon\".\"expire_date\", \"coupon_giftcoupon\".\"coupon_code\", \"coupon_giftcoupon\".\"price\", \"coupon_giftcoupon\".\"is_used\", \"coupon_giftcoupon\".\"used_date\" FROM \"coupon_usergiftcoupon\" INNER JOIN \"coupon_giftcoupon\" ON (\"coupon_usergiftcoupon\".\"gift_coupon_id\" = \"coupon_giftcoupon\".\"id\") WHERE (\"coupon_usergiftcoupon\".\"is_checked\" = false AND \"coupon_usergiftcoupon\".\"is_owner\" = true AND \"coupon_usergiftcoupon\".\"is_registrant\" = false AND \"coupon_usergiftcoupon\".\"user_id\" = 12)  LIMIT 21; args=(False, True, False, 12)\n"
     ]
    },
    {
     "data": {
      "text/plain": [
       "<QuerySet [<UserGiftCoupon: 7e67d492-0578-48b8-a307-41c8a7bbbde0>]>"
      ]
     },
     "execution_count": 21,
     "metadata": {},
     "output_type": "execute_result"
    }
   ],
   "source": [
    "unchecked_handover_coupon_list"
   ]
  },
  {
   "cell_type": "code",
   "execution_count": 28,
   "metadata": {},
   "outputs": [
    {
     "name": "stderr",
     "output_type": "stream",
     "text": [
      "(0.001) SELECT \"accounts_user\".\"id\", \"accounts_user\".\"password\", \"accounts_user\".\"last_login\", \"accounts_user\".\"is_superuser\", \"accounts_user\".\"username\", \"accounts_user\".\"first_name\", \"accounts_user\".\"last_name\", \"accounts_user\".\"email\", \"accounts_user\".\"is_staff\", \"accounts_user\".\"is_active\", \"accounts_user\".\"date_joined\", \"accounts_user\".\"phone\", \"accounts_user\".\"address\", \"accounts_user\".\"address_detail\", \"accounts_user\".\"user_type\", \"accounts_user\".\"deactivate_date\" FROM \"accounts_user\" WHERE \"accounts_user\".\"id\" = 12; args=(12,)\n"
     ]
    }
   ],
   "source": [
    "user = User.objects.get(id=12)\n",
    "unchecked_handover_coupon = (\n",
    "            UserGiftCoupon.objects.select_related('gift_coupon')\n",
    "            .filter(\n",
    "                user=user,\n",
    "                is_checked=False,\n",
    "                is_owner=True,\n",
    "                is_registrant=False))"
   ]
  },
  {
   "cell_type": "code",
   "execution_count": 29,
   "metadata": {},
   "outputs": [
    {
     "name": "stderr",
     "output_type": "stream",
     "text": [
      "(0.001) SELECT \"coupon_usergiftcoupon\".\"id\", \"coupon_usergiftcoupon\".\"created_time\", \"coupon_usergiftcoupon\".\"updated_time\", \"coupon_usergiftcoupon\".\"gift_coupon_id\", \"coupon_usergiftcoupon\".\"user_id\", \"coupon_usergiftcoupon\".\"prior_user_id\", \"coupon_usergiftcoupon\".\"is_owner\", \"coupon_usergiftcoupon\".\"is_registrant\", \"coupon_usergiftcoupon\".\"is_checked\", \"coupon_giftcoupon\".\"id\", \"coupon_giftcoupon\".\"created_time\", \"coupon_giftcoupon\".\"updated_time\", \"coupon_giftcoupon\".\"sender_id\", \"coupon_giftcoupon\".\"sender_msg\", \"coupon_giftcoupon\".\"receiver_name\", \"coupon_giftcoupon\".\"receiver_phone\", \"coupon_giftcoupon\".\"receiver_email\", \"coupon_giftcoupon\".\"expire_date\", \"coupon_giftcoupon\".\"coupon_code\", \"coupon_giftcoupon\".\"price\", \"coupon_giftcoupon\".\"is_used\", \"coupon_giftcoupon\".\"used_date\" FROM \"coupon_usergiftcoupon\" INNER JOIN \"coupon_giftcoupon\" ON (\"coupon_usergiftcoupon\".\"gift_coupon_id\" = \"coupon_giftcoupon\".\"id\") WHERE (\"coupon_usergiftcoupon\".\"is_checked\" = false AND \"coupon_usergiftcoupon\".\"is_owner\" = true AND \"coupon_usergiftcoupon\".\"is_registrant\" = false AND \"coupon_usergiftcoupon\".\"user_id\" = 12); args=(False, True, False, 12)\n"
     ]
    },
    {
     "name": "stdout",
     "output_type": "stream",
     "text": [
      "없음\n"
     ]
    }
   ],
   "source": [
    "if not unchecked_handover_coupon:\n",
    "    print('없음')\n",
    "else:\n",
    "    unchecked_handover_coupon.update(is_checked=True)"
   ]
  },
  {
   "cell_type": "code",
   "execution_count": 31,
   "metadata": {},
   "outputs": [
    {
     "name": "stderr",
     "output_type": "stream",
     "text": [
      "(0.007) SELECT \"accounts_user\".\"id\", \"accounts_user\".\"password\", \"accounts_user\".\"last_login\", \"accounts_user\".\"is_superuser\", \"accounts_user\".\"username\", \"accounts_user\".\"first_name\", \"accounts_user\".\"last_name\", \"accounts_user\".\"email\", \"accounts_user\".\"is_staff\", \"accounts_user\".\"is_active\", \"accounts_user\".\"date_joined\", \"accounts_user\".\"phone\", \"accounts_user\".\"address\", \"accounts_user\".\"address_detail\", \"accounts_user\".\"user_type\", \"accounts_user\".\"deactivate_date\" FROM \"accounts_user\"  LIMIT 1; args=()\n"
     ]
    },
    {
     "ename": "AttributeError",
     "evalue": "'Manager' object has no attribute 'history_list'",
     "output_type": "error",
     "traceback": [
      "\u001b[0;31m---------------------------------------------------------------------------\u001b[0m",
      "\u001b[0;31mAttributeError\u001b[0m                            Traceback (most recent call last)",
      "\u001b[0;32m<ipython-input-31-ddeebb89b067>\u001b[0m in \u001b[0;36m<module>\u001b[0;34m\u001b[0m\n\u001b[1;32m      1\u001b[0m \u001b[0mlogged_in_user\u001b[0m \u001b[0;34m=\u001b[0m\u001b[0mUser\u001b[0m\u001b[0;34m.\u001b[0m\u001b[0mobjects\u001b[0m\u001b[0;34m.\u001b[0m\u001b[0mall\u001b[0m\u001b[0;34m(\u001b[0m\u001b[0;34m)\u001b[0m\u001b[0;34m[\u001b[0m\u001b[0;36m0\u001b[0m\u001b[0;34m]\u001b[0m\u001b[0;34m\u001b[0m\u001b[0;34m\u001b[0m\u001b[0m\n\u001b[0;32m----> 2\u001b[0;31m \u001b[0morder_history_list\u001b[0m \u001b[0;34m=\u001b[0m \u001b[0mlist\u001b[0m\u001b[0;34m(\u001b[0m\u001b[0mOrder\u001b[0m\u001b[0;34m.\u001b[0m\u001b[0mobjects\u001b[0m\u001b[0;34m.\u001b[0m\u001b[0mhistory_list\u001b[0m\u001b[0;34m(\u001b[0m\u001b[0mlogged_in_user\u001b[0m\u001b[0;34m)\u001b[0m\u001b[0;34m)\u001b[0m\u001b[0;34m\u001b[0m\u001b[0;34m\u001b[0m\u001b[0m\n\u001b[0m\u001b[1;32m      3\u001b[0m \u001b[0mcart_items_list\u001b[0m \u001b[0;34m=\u001b[0m \u001b[0mlist\u001b[0m\u001b[0;34m(\u001b[0m\u001b[0mCartItem\u001b[0m\u001b[0;34m.\u001b[0m\u001b[0mobjects\u001b[0m\u001b[0;34m.\u001b[0m\u001b[0mfiltering_user\u001b[0m\u001b[0;34m(\u001b[0m\u001b[0mlogged_in_user\u001b[0m\u001b[0;34m)\u001b[0m\u001b[0;34m)\u001b[0m\u001b[0;34m\u001b[0m\u001b[0;34m\u001b[0m\u001b[0m\n",
      "\u001b[0;31mAttributeError\u001b[0m: 'Manager' object has no attribute 'history_list'"
     ]
    }
   ],
   "source": [
    "logged_in_user =User.objects.all()[0]\n",
    "order_history_list = list(Order.objects.history_list(logged_in_user))\n",
    "cart_items_list = list(CartItem.objects.filtering_user(logged_in_user))"
   ]
  },
  {
   "cell_type": "code",
   "execution_count": 3,
   "metadata": {},
   "outputs": [
    {
     "name": "stderr",
     "output_type": "stream",
     "text": [
      "(0.002) SELECT \"cart_cartitem\".\"menu_id\", \"menu_menu\".\"img\", \"menu_menu\".\"name\" AS \"menu\", SUM(\"cart_cartitem\".\"quantity\") AS \"menu_quantity\" FROM \"cart_cartitem\" INNER JOIN \"cart_cart\" ON (\"cart_cartitem\".\"cart_id\" = \"cart_cart\".\"id\") LEFT OUTER JOIN \"order_order\" ON (\"cart_cart\".\"id\" = \"order_order\".\"cart_id\") INNER JOIN \"menu_menu\" ON (\"cart_cartitem\".\"menu_id\" = \"menu_menu\".\"id\") WHERE (\"order_order\".\"address\"::text LIKE '%서초1동%' AND EXTRACT('hour' FROM \"order_order\".\"created_time\" AT TIME ZONE 'Asia/Seoul') = 18 AND \"order_order\".\"delivery_status\" = 2) GROUP BY \"menu_menu\".\"name\", \"cart_cartitem\".\"menu_id\", \"menu_menu\".\"img\" ORDER BY \"menu_quantity\" DESC  LIMIT 1; args=('%서초1동%', 18, 2)\n"
     ]
    },
    {
     "data": {
      "text/plain": [
       "{'menu_id': 2,\n",
       " 'menu__img': 'menu/2019/05/01/갈비천왕.jpg',\n",
       " 'menu': '갈비천왕',\n",
       " 'menu_quantity': 67}"
      ]
     },
     "execution_count": 3,
     "metadata": {},
     "output_type": "execute_result"
    }
   ],
   "source": [
    "import enum\n",
    "class DeliveryStatus(enum.IntEnum):\n",
    "    WATING = 0\n",
    "    DELIVERING = 1\n",
    "    COMPLETE = 2\n",
    "from datetime import datetime\n",
    "today = datetime.now().date()\n",
    "one_hour = 1\n",
    "current_hour = datetime.now().hour\n",
    "created_hour = current_hour\n",
    "user_address = '서초1동'\n",
    "\n",
    "order = (\n",
    "    CartItem.objects\n",
    "        .select_related('cart', 'menu')\n",
    "        .values(\n",
    "        address=F('cart__order__address'),\n",
    "        delivery_completed=F('cart__order__delivery_status'),\n",
    "        created_time=F('cart__order__created_time'),\n",
    "    )\n",
    "        .filter(\n",
    "        address__contains=user_address,\n",
    "        delivery_completed=DeliveryStatus.COMPLETE,\n",
    "        created_time__hour=created_hour,\n",
    "    )\n",
    "        .values(\n",
    "        'menu__name',\n",
    "    )\n",
    "        .annotate(\n",
    "        menu=F('menu__name'),\n",
    "        menu_quantity=Sum('quantity')\n",
    "    )\n",
    "        .values(\n",
    "        'menu',\n",
    "        'menu_quantity',\n",
    "        'menu_id',\n",
    "        'menu__img',\n",
    "    )\n",
    "        .order_by('-menu_quantity')[:1]\n",
    ")\n",
    "order\n",
    "order[0]  # check_order_for_except_or_not\n",
    "        "
   ]
  },
  {
   "cell_type": "code",
   "execution_count": 16,
   "metadata": {},
   "outputs": [
    {
     "name": "stderr",
     "output_type": "stream",
     "text": [
      "(0.001) SELECT \"restaurant_restaurant\".\"tel\", \"restaurant_restaurant\".\"min_order_price\", \"restaurant_restaurant\".\"order_way\", \"restaurant_restaurant\".\"origin\", \"restaurant_restaurant\".\"delivery_charge\", \"restaurant_restaurant\".\"info\", \"restaurant_restaurant\".\"event\", \"restaurant_restaurant\".\"event_img\", \"restaurant_restaurant\".\"operation_start_hour\", \"restaurant_restaurant\".\"operation_end_hour\" FROM \"restaurant_restaurant\" WHERE \"restaurant_restaurant\".\"id\" = 13; args=(13,)\n"
     ]
    },
    {
     "data": {
      "text/plain": [
       "{'tel': '1',\n",
       " 'min_order_price': 0,\n",
       " 'order_way': '1',\n",
       " 'origin': '12',\n",
       " 'delivery_charge': 0,\n",
       " 'info': '2',\n",
       " 'event': '3',\n",
       " 'event_img': '',\n",
       " 'operation_start_hour': datetime.time(19, 44, 2),\n",
       " 'operation_end_hour': datetime.time(19, 44, 3)}"
      ]
     },
     "execution_count": 16,
     "metadata": {},
     "output_type": "execute_result"
    }
   ],
   "source": [
    "from restaurant.models import Restaurant\n",
    "#list(Restaurant.objects.all().values())\n",
    "list(Restaurant.objects.filter(pk=13).values('tel', 'min_order_price', 'order_way', 'origin', 'delivery_charge', 'info',\n",
    "                                            'event', 'event_img', 'operation_start_hour', 'operation_end_hour'))[0]"
   ]
  },
  {
   "cell_type": "code",
   "execution_count": 18,
   "metadata": {},
   "outputs": [
    {
     "name": "stderr",
     "output_type": "stream",
     "text": [
      "(0.001) SELECT \"restaurant_restaurant\".\"id\", \"restaurant_restaurant\".\"created_time\", \"restaurant_restaurant\".\"updated_time\", \"restaurant_restaurant\".\"name\", \"restaurant_restaurant\".\"owner\", \"restaurant_restaurant\".\"title\", \"restaurant_restaurant\".\"img\", \"restaurant_restaurant\".\"tel\", \"restaurant_restaurant\".\"min_order_price\", \"restaurant_restaurant\".\"order_way\", \"restaurant_restaurant\".\"origin\", \"restaurant_restaurant\".\"delivery_charge\", \"restaurant_restaurant\".\"info\", \"restaurant_restaurant\".\"event\", \"restaurant_restaurant\".\"event_img\", \"restaurant_restaurant\".\"type\", \"restaurant_restaurant\".\"estimated_delivery_time\", \"restaurant_restaurant\".\"operation_start_hour\", \"restaurant_restaurant\".\"operation_end_hour\" FROM \"restaurant_restaurant\" WHERE \"restaurant_restaurant\".\"id\" = 13; args=(13,)\n"
     ]
    },
    {
     "data": {
      "text/plain": [
       "datetime.time(10, 44, 2)"
      ]
     },
     "execution_count": 18,
     "metadata": {},
     "output_type": "execute_result"
    }
   ],
   "source": [
    "prior_restaurant_obj = Restaurant.objects.filter(pk=13).values()\n",
    "prior_restaurant_dict = list(prior_restaurant_obj)[0]\n",
    "prior_restaurant_dict['operation_start_hour']"
   ]
  },
  {
   "cell_type": "code",
   "execution_count": 21,
   "metadata": {},
   "outputs": [
    {
     "ename": "TypeError",
     "evalue": "sequence item 0: expected str instance, datetime.time found",
     "output_type": "error",
     "traceback": [
      "\u001b[0;31m---------------------------------------------------------------------------\u001b[0m",
      "\u001b[0;31mTypeError\u001b[0m                                 Traceback (most recent call last)",
      "\u001b[0;32m<ipython-input-21-d550bbcfae2f>\u001b[0m in \u001b[0;36m<module>\u001b[0;34m\u001b[0m\n\u001b[0;32m----> 1\u001b[0;31m \u001b[0;34m'-'\u001b[0m\u001b[0;34m.\u001b[0m\u001b[0mjoin\u001b[0m\u001b[0;34m(\u001b[0m\u001b[0;34m[\u001b[0m\u001b[0mprior_restaurant_dict\u001b[0m\u001b[0;34m[\u001b[0m\u001b[0;34m'operation_start_hour'\u001b[0m\u001b[0;34m]\u001b[0m\u001b[0;34m,\u001b[0m \u001b[0mprior_restaurant_dict\u001b[0m\u001b[0;34m[\u001b[0m\u001b[0;34m'operation_end_hour'\u001b[0m\u001b[0;34m]\u001b[0m\u001b[0;34m]\u001b[0m\u001b[0;34m)\u001b[0m\u001b[0;34m\u001b[0m\u001b[0;34m\u001b[0m\u001b[0m\n\u001b[0m\u001b[1;32m      2\u001b[0m \u001b[0;34m\u001b[0m\u001b[0m\n",
      "\u001b[0;31mTypeError\u001b[0m: sequence item 0: expected str instance, datetime.time found"
     ]
    }
   ],
   "source": [
    "'-'.join([str(prior_restaurant_dict['operation_start_hour']), str(prior_restaurant_dict['operation_end_hour'])])\n",
    "           "
   ]
  },
  {
   "cell_type": "code",
   "execution_count": 38,
   "metadata": {},
   "outputs": [
    {
     "name": "stderr",
     "output_type": "stream",
     "text": [
      "(0.001) SELECT \"accounts_user\".\"id\", \"accounts_user\".\"password\", \"accounts_user\".\"last_login\", \"accounts_user\".\"is_superuser\", \"accounts_user\".\"username\", \"accounts_user\".\"first_name\", \"accounts_user\".\"last_name\", \"accounts_user\".\"email\", \"accounts_user\".\"is_staff\", \"accounts_user\".\"is_active\", \"accounts_user\".\"date_joined\", \"accounts_user\".\"phone\", \"accounts_user\".\"address\", \"accounts_user\".\"address_detail\", \"accounts_user\".\"user_type\", \"accounts_user\".\"deactivate_date\" FROM \"accounts_user\" WHERE \"accounts_user\".\"id\" = 10; args=(10,)\n"
     ]
    }
   ],
   "source": [
    "user=User.objects.get(pk=10)"
   ]
  },
  {
   "cell_type": "code",
   "execution_count": 42,
   "metadata": {},
   "outputs": [],
   "source": [
    "subscribed_restaurants_qs\n",
    "=user.subscribed_restaurants.all()"
   ]
  },
  {
   "cell_type": "code",
   "execution_count": 39,
   "metadata": {},
   "outputs": [
    {
     "data": {
      "text/plain": [
       "<User: sora.son>"
      ]
     },
     "execution_count": 39,
     "metadata": {},
     "output_type": "execute_result"
    }
   ],
   "source": [
    "subscribed_restaurants_qs"
   ]
  },
  {
   "cell_type": "code",
   "execution_count": 43,
   "metadata": {},
   "outputs": [],
   "source": [
    "from restaurant.models import RestaurantTimeline"
   ]
  },
  {
   "cell_type": "code",
   "execution_count": 46,
   "metadata": {},
   "outputs": [
    {
     "name": "stderr",
     "output_type": "stream",
     "text": [
      "(0.001) SELECT \"restaurant_restauranttimeline\".\"id\", \"restaurant_restauranttimeline\".\"created_time\", \"restaurant_restauranttimeline\".\"updated_time\", \"restaurant_restauranttimeline\".\"restaurant_id\", \"restaurant_restauranttimeline\".\"status\", \"restaurant_restauranttimeline\".\"changed_notice\", \"restaurant_restauranttimeline\".\"changed_img\", \"restaurant_restauranttimeline\".\"prior_info\", \"restaurant_restauranttimeline\".\"post_info\" FROM \"restaurant_restauranttimeline\"  LIMIT 21; args=()\n",
      "(0.001) SELECT \"restaurant_restaurant\".\"id\", \"restaurant_restaurant\".\"created_time\", \"restaurant_restaurant\".\"updated_time\", \"restaurant_restaurant\".\"name\", \"restaurant_restaurant\".\"owner\", \"restaurant_restaurant\".\"title\", \"restaurant_restaurant\".\"img\", \"restaurant_restaurant\".\"tel\", \"restaurant_restaurant\".\"min_order_price\", \"restaurant_restaurant\".\"order_way\", \"restaurant_restaurant\".\"origin\", \"restaurant_restaurant\".\"delivery_charge\", \"restaurant_restaurant\".\"info\", \"restaurant_restaurant\".\"event\", \"restaurant_restaurant\".\"event_img\", \"restaurant_restaurant\".\"type\", \"restaurant_restaurant\".\"estimated_delivery_time\", \"restaurant_restaurant\".\"operation_start_hour\", \"restaurant_restaurant\".\"operation_end_hour\" FROM \"restaurant_restaurant\" WHERE \"restaurant_restaurant\".\"id\" IN (12, 13); args=(12, 13)\n"
     ]
    },
    {
     "data": {
      "text/plain": [
       "<QuerySet [<RestaurantTimeline: RestaurantTimeline object (6)>, <RestaurantTimeline: RestaurantTimeline object (7)>, <RestaurantTimeline: RestaurantTimeline object (8)>, <RestaurantTimeline: RestaurantTimeline object (9)>, <RestaurantTimeline: RestaurantTimeline object (10)>, <RestaurantTimeline: RestaurantTimeline object (11)>, <RestaurantTimeline: RestaurantTimeline object (12)>, <RestaurantTimeline: RestaurantTimeline object (16)>, <RestaurantTimeline: RestaurantTimeline object (17)>, <RestaurantTimeline: RestaurantTimeline object (18)>, <RestaurantTimeline: RestaurantTimeline object (19)>, <RestaurantTimeline: RestaurantTimeline object (20)>, <RestaurantTimeline: RestaurantTimeline object (21)>, <RestaurantTimeline: RestaurantTimeline object (22)>, <RestaurantTimeline: RestaurantTimeline object (23)>, <RestaurantTimeline: RestaurantTimeline object (24)>, <RestaurantTimeline: RestaurantTimeline object (25)>, <RestaurantTimeline: RestaurantTimeline object (26)>]>"
      ]
     },
     "execution_count": 46,
     "metadata": {},
     "output_type": "execute_result"
    }
   ],
   "source": [
    "RestaurantTimeline.objects.prefetch_related('restaurant')\n"
   ]
  },
  {
   "cell_type": "code",
   "execution_count": 52,
   "metadata": {},
   "outputs": [
    {
     "name": "stderr",
     "output_type": "stream",
     "text": [
      "(0.001) SELECT \"restaurant_restauranttimeline\".\"id\", \"restaurant_restauranttimeline\".\"created_time\", \"restaurant_restauranttimeline\".\"updated_time\", \"restaurant_restauranttimeline\".\"restaurant_id\", \"restaurant_restauranttimeline\".\"status\", \"restaurant_restauranttimeline\".\"changed_notice\", \"restaurant_restauranttimeline\".\"changed_img\", \"restaurant_restauranttimeline\".\"prior_info\", \"restaurant_restauranttimeline\".\"post_info\" FROM \"restaurant_restauranttimeline\"; args=()\n"
     ]
    },
    {
     "data": {
      "text/plain": [
       "[{'id': 6,\n",
       "  'created_time': datetime.datetime(2019, 6, 3, 13, 11, 22, 286459, tzinfo=<UTC>),\n",
       "  'updated_time': datetime.datetime(2019, 6, 3, 13, 11, 22, 286485, tzinfo=<UTC>),\n",
       "  'restaurant_id': 13,\n",
       "  'status': 2,\n",
       "  'changed_notice': '이벤트',\n",
       "  'changed_img': 'restaurant/event/2019/06/03/후라이드치킨.jpeg',\n",
       "  'prior_info': '',\n",
       "  'post_info': 'event'},\n",
       " {'id': 7,\n",
       "  'created_time': datetime.datetime(2019, 6, 3, 13, 12, 22, 780121, tzinfo=<UTC>),\n",
       "  'updated_time': datetime.datetime(2019, 6, 3, 13, 12, 22, 780145, tzinfo=<UTC>),\n",
       "  'restaurant_id': 13,\n",
       "  'status': 2,\n",
       "  'changed_notice': '',\n",
       "  'changed_img': '',\n",
       "  'prior_info': '',\n",
       "  'post_info': '10:44:02-20:44:03'},\n",
       " {'id': 8,\n",
       "  'created_time': datetime.datetime(2019, 6, 3, 13, 13, 12, 259357, tzinfo=<UTC>),\n",
       "  'updated_time': datetime.datetime(2019, 6, 3, 13, 13, 12, 259414, tzinfo=<UTC>),\n",
       "  'restaurant_id': 13,\n",
       "  'status': 2,\n",
       "  'changed_notice': '',\n",
       "  'changed_img': '',\n",
       "  'prior_info': '',\n",
       "  'post_info': '08:44:02-12:44:03'},\n",
       " {'id': 9,\n",
       "  'created_time': datetime.datetime(2019, 6, 3, 13, 36, 51, 88156, tzinfo=<UTC>),\n",
       "  'updated_time': datetime.datetime(2019, 6, 3, 13, 36, 51, 88180, tzinfo=<UTC>),\n",
       "  'restaurant_id': 13,\n",
       "  'status': 2,\n",
       "  'changed_notice': '',\n",
       "  'changed_img': '',\n",
       "  'prior_info': '',\n",
       "  'post_info': '200'},\n",
       " {'id': 10,\n",
       "  'created_time': datetime.datetime(2019, 6, 3, 13, 43, 9, 907308, tzinfo=<UTC>),\n",
       "  'updated_time': datetime.datetime(2019, 6, 3, 13, 43, 9, 907329, tzinfo=<UTC>),\n",
       "  'restaurant_id': 13,\n",
       "  'status': 2,\n",
       "  'changed_notice': '',\n",
       "  'changed_img': '',\n",
       "  'prior_info': '',\n",
       "  'post_info': '10:44:02-23:44:03'},\n",
       " {'id': 11,\n",
       "  'created_time': datetime.datetime(2019, 6, 3, 13, 54, 33, 888155, tzinfo=<UTC>),\n",
       "  'updated_time': datetime.datetime(2019, 6, 3, 13, 54, 33, 888218, tzinfo=<UTC>),\n",
       "  'restaurant_id': 12,\n",
       "  'status': 2,\n",
       "  'changed_notice': '자장면 이벤트',\n",
       "  'changed_img': 'restaurant/event/2019/06/03/jjajangmyun.jpg',\n",
       "  'prior_info': '',\n",
       "  'post_info': ''},\n",
       " {'id': 12,\n",
       "  'created_time': datetime.datetime(2019, 6, 3, 13, 54, 33, 932213, tzinfo=<UTC>),\n",
       "  'updated_time': datetime.datetime(2019, 6, 3, 13, 54, 33, 932253, tzinfo=<UTC>),\n",
       "  'restaurant_id': 12,\n",
       "  'status': 2,\n",
       "  'changed_notice': '자장면 이벤트',\n",
       "  'changed_img': 'restaurant/event/2019/06/03/jjajangmyun.jpg',\n",
       "  'prior_info': '',\n",
       "  'post_info': ''},\n",
       " {'id': 16,\n",
       "  'created_time': datetime.datetime(2019, 6, 5, 1, 7, 21, 688755, tzinfo=<UTC>),\n",
       "  'updated_time': datetime.datetime(2019, 6, 5, 1, 7, 21, 688795, tzinfo=<UTC>),\n",
       "  'restaurant_id': 13,\n",
       "  'status': 2,\n",
       "  'changed_notice': '2',\n",
       "  'changed_img': 'restaurant/event/2019/06/03/후라이드치킨.jpeg',\n",
       "  'prior_info': '',\n",
       "  'post_info': ''},\n",
       " {'id': 17,\n",
       "  'created_time': datetime.datetime(2019, 6, 5, 1, 12, 44, 545813, tzinfo=<UTC>),\n",
       "  'updated_time': datetime.datetime(2019, 6, 5, 1, 12, 44, 545836, tzinfo=<UTC>),\n",
       "  'restaurant_id': 13,\n",
       "  'status': 2,\n",
       "  'changed_notice': '',\n",
       "  'changed_img': '',\n",
       "  'prior_info': '10:44:02-23:44:03',\n",
       "  'post_info': '10:44:02-14:44:03'},\n",
       " {'id': 18,\n",
       "  'created_time': datetime.datetime(2019, 6, 5, 1, 14, 10, 469094, tzinfo=<UTC>),\n",
       "  'updated_time': datetime.datetime(2019, 6, 5, 1, 14, 10, 469119, tzinfo=<UTC>),\n",
       "  'restaurant_id': 13,\n",
       "  'status': 2,\n",
       "  'changed_notice': '',\n",
       "  'changed_img': '',\n",
       "  'prior_info': '10:44:02-14:44:03',\n",
       "  'post_info': '09:44:02-15:44:03'},\n",
       " {'id': 19,\n",
       "  'created_time': datetime.datetime(2019, 6, 5, 1, 14, 10, 479816, tzinfo=<UTC>),\n",
       "  'updated_time': datetime.datetime(2019, 6, 5, 1, 14, 10, 479833, tzinfo=<UTC>),\n",
       "  'restaurant_id': 13,\n",
       "  'status': 2,\n",
       "  'changed_notice': '',\n",
       "  'changed_img': '',\n",
       "  'prior_info': '10:44:02-14:44:03',\n",
       "  'post_info': '09:44:02-15:44:03'},\n",
       " {'id': 20,\n",
       "  'created_time': datetime.datetime(2019, 6, 5, 1, 16, 55, 457207, tzinfo=<UTC>),\n",
       "  'updated_time': datetime.datetime(2019, 6, 5, 1, 16, 55, 457230, tzinfo=<UTC>),\n",
       "  'restaurant_id': 13,\n",
       "  'status': 2,\n",
       "  'changed_notice': '이벤트',\n",
       "  'changed_img': 'restaurant/event/2019/06/05/jjajangmyun.jpg',\n",
       "  'prior_info': '',\n",
       "  'post_info': ''},\n",
       " {'id': 21,\n",
       "  'created_time': datetime.datetime(2019, 6, 5, 1, 21, 6, 703477, tzinfo=<UTC>),\n",
       "  'updated_time': datetime.datetime(2019, 6, 5, 1, 21, 6, 703498, tzinfo=<UTC>),\n",
       "  'restaurant_id': 13,\n",
       "  'status': 2,\n",
       "  'changed_notice': '이벤트 test',\n",
       "  'changed_img': 'restaurant/event/2019/06/05/jjajangmyun.jpg',\n",
       "  'prior_info': '',\n",
       "  'post_info': ''},\n",
       " {'id': 22,\n",
       "  'created_time': datetime.datetime(2019, 6, 5, 1, 21, 46, 393571, tzinfo=<UTC>),\n",
       "  'updated_time': datetime.datetime(2019, 6, 5, 1, 21, 46, 393606, tzinfo=<UTC>),\n",
       "  'restaurant_id': 13,\n",
       "  'status': 2,\n",
       "  'changed_notice': '',\n",
       "  'changed_img': '',\n",
       "  'prior_info': '09:44:02-15:44:03',\n",
       "  'post_info': '09:44:02-16:44:03'},\n",
       " {'id': 23,\n",
       "  'created_time': datetime.datetime(2019, 6, 5, 1, 22, 4, 683479, tzinfo=<UTC>),\n",
       "  'updated_time': datetime.datetime(2019, 6, 5, 1, 22, 4, 683504, tzinfo=<UTC>),\n",
       "  'restaurant_id': 13,\n",
       "  'status': 2,\n",
       "  'changed_notice': '',\n",
       "  'changed_img': '',\n",
       "  'prior_info': '09:44:02-16:44:03',\n",
       "  'post_info': '08:44:02-16:44:03'},\n",
       " {'id': 24,\n",
       "  'created_time': datetime.datetime(2019, 6, 5, 1, 22, 25, 523994, tzinfo=<UTC>),\n",
       "  'updated_time': datetime.datetime(2019, 6, 5, 1, 22, 25, 524024, tzinfo=<UTC>),\n",
       "  'restaurant_id': 12,\n",
       "  'status': 2,\n",
       "  'changed_notice': '',\n",
       "  'changed_img': '',\n",
       "  'prior_info': '19:26:39-19:26:40',\n",
       "  'post_info': '10:26:39-20:26:40'},\n",
       " {'id': 25,\n",
       "  'created_time': datetime.datetime(2019, 6, 5, 1, 23, 30, 660417, tzinfo=<UTC>),\n",
       "  'updated_time': datetime.datetime(2019, 6, 5, 1, 23, 30, 660439, tzinfo=<UTC>),\n",
       "  'restaurant_id': 12,\n",
       "  'status': 2,\n",
       "  'changed_notice': '',\n",
       "  'changed_img': '',\n",
       "  'prior_info': '0',\n",
       "  'post_info': '100'},\n",
       " {'id': 26,\n",
       "  'created_time': datetime.datetime(2019, 6, 5, 3, 22, 15, 17085, tzinfo=<UTC>),\n",
       "  'updated_time': datetime.datetime(2019, 6, 5, 3, 22, 15, 17109, tzinfo=<UTC>),\n",
       "  'restaurant_id': 13,\n",
       "  'status': 2,\n",
       "  'changed_notice': '이벤트 test2',\n",
       "  'changed_img': 'restaurant/event/2019/06/05/양념치킨.png',\n",
       "  'prior_info': '',\n",
       "  'post_info': ''}]"
      ]
     },
     "execution_count": 52,
     "metadata": {},
     "output_type": "execute_result"
    }
   ],
   "source": [
    "list(RestaurantTimeline.objects.select_related('restaurant').all().values())"
   ]
  },
  {
   "cell_type": "code",
   "execution_count": 73,
   "metadata": {},
   "outputs": [
    {
     "ename": "KeyError",
     "evalue": "'1'",
     "output_type": "error",
     "traceback": [
      "\u001b[0;31m---------------------------------------------------------------------------\u001b[0m",
      "\u001b[0;31mKeyError\u001b[0m                                  Traceback (most recent call last)",
      "\u001b[0;32m<ipython-input-73-66b7ebb1eee7>\u001b[0m in \u001b[0;36m<module>\u001b[0;34m\u001b[0m\n\u001b[1;32m      1\u001b[0m \u001b[0;32mfrom\u001b[0m \u001b[0mtimeline\u001b[0m\u001b[0;34m.\u001b[0m\u001b[0mmodels\u001b[0m \u001b[0;32mimport\u001b[0m \u001b[0mTYPE_CHOICES\u001b[0m\u001b[0;34m\u001b[0m\u001b[0;34m\u001b[0m\u001b[0m\n\u001b[0;32m----> 2\u001b[0;31m \u001b[0mdict\u001b[0m\u001b[0;34m(\u001b[0m\u001b[0mTYPE_CHOICES\u001b[0m\u001b[0;34m)\u001b[0m\u001b[0;34m[\u001b[0m\u001b[0;34m'1'\u001b[0m\u001b[0;34m]\u001b[0m\u001b[0;34m\u001b[0m\u001b[0;34m\u001b[0m\u001b[0m\n\u001b[0m",
      "\u001b[0;31mKeyError\u001b[0m: '1'"
     ]
    }
   ],
   "source": [
    "from timeline.models import TYPE_CHOICES\n",
    "dict(TYPE_CHOICES)['1']\n"
   ]
  },
  {
   "cell_type": "code",
   "execution_count": 79,
   "metadata": {},
   "outputs": [
    {
     "name": "stderr",
     "output_type": "stream",
     "text": [
      "(0.001) SELECT \"accounts_user\".\"id\", \"accounts_user\".\"password\", \"accounts_user\".\"last_login\", \"accounts_user\".\"is_superuser\", \"accounts_user\".\"username\", \"accounts_user\".\"first_name\", \"accounts_user\".\"last_name\", \"accounts_user\".\"email\", \"accounts_user\".\"is_staff\", \"accounts_user\".\"is_active\", \"accounts_user\".\"date_joined\", \"accounts_user\".\"phone\", \"accounts_user\".\"address\", \"accounts_user\".\"address_detail\", \"accounts_user\".\"user_type\", \"accounts_user\".\"deactivate_date\" FROM \"accounts_user\" WHERE \"accounts_user\".\"id\" = 10; args=(10,)\n"
     ]
    }
   ],
   "source": [
    "user_res=User.objects.get(pk=10).subscribed_restaurants"
   ]
  },
  {
   "cell_type": "code",
   "execution_count": 87,
   "metadata": {},
   "outputs": [
    {
     "name": "stderr",
     "output_type": "stream",
     "text": [
      "(0.001) SELECT \"accounts_user\".\"id\", \"accounts_user\".\"password\", \"accounts_user\".\"last_login\", \"accounts_user\".\"is_superuser\", \"accounts_user\".\"username\", \"accounts_user\".\"first_name\", \"accounts_user\".\"last_name\", \"accounts_user\".\"email\", \"accounts_user\".\"is_staff\", \"accounts_user\".\"is_active\", \"accounts_user\".\"date_joined\", \"accounts_user\".\"phone\", \"accounts_user\".\"address\", \"accounts_user\".\"address_detail\", \"accounts_user\".\"user_type\", \"accounts_user\".\"deactivate_date\" FROM \"accounts_user\" WHERE \"accounts_user\".\"id\" = 10; args=(10,)\n",
      "(0.001) SELECT \"restaurant_restaurant\".\"id\", \"restaurant_restaurant\".\"created_time\", \"restaurant_restaurant\".\"updated_time\", \"restaurant_restaurant\".\"name\", \"restaurant_restaurant\".\"owner\", \"restaurant_restaurant\".\"title\", \"restaurant_restaurant\".\"img\", \"restaurant_restaurant\".\"tel\", \"restaurant_restaurant\".\"min_order_price\", \"restaurant_restaurant\".\"order_way\", \"restaurant_restaurant\".\"origin\", \"restaurant_restaurant\".\"delivery_charge\", \"restaurant_restaurant\".\"info\", \"restaurant_restaurant\".\"event\", \"restaurant_restaurant\".\"event_img\", \"restaurant_restaurant\".\"type\", \"restaurant_restaurant\".\"estimated_delivery_time\", \"restaurant_restaurant\".\"operation_start_hour\", \"restaurant_restaurant\".\"operation_end_hour\" FROM \"restaurant_restaurant\" INNER JOIN \"accounts_user_subscribed_restaurants\" ON (\"restaurant_restaurant\".\"id\" = \"accounts_user_subscribed_restaurants\".\"restaurant_id\") WHERE \"accounts_user_subscribed_restaurants\".\"user_id\" = 10  LIMIT 21; args=(10,)\n",
      "(0.000) SELECT \"restaurant_restauranttimeline\".\"id\", \"restaurant_restauranttimeline\".\"created_time\", \"restaurant_restauranttimeline\".\"updated_time\", \"restaurant_restauranttimeline\".\"restaurant_id\", \"restaurant_restauranttimeline\".\"status\", \"restaurant_restauranttimeline\".\"changed_notice\", \"restaurant_restauranttimeline\".\"changed_img\", \"restaurant_restauranttimeline\".\"prior_info\", \"restaurant_restauranttimeline\".\"post_info\" FROM \"restaurant_restauranttimeline\" WHERE \"restaurant_restauranttimeline\".\"restaurant_id\" IN (8, 12); args=(8, 12)\n"
     ]
    },
    {
     "data": {
      "text/plain": [
       "<QuerySet [<Restaurant: 교촌치킨>, <Restaurant: 1>]>"
      ]
     },
     "execution_count": 87,
     "metadata": {},
     "output_type": "execute_result"
    }
   ],
   "source": [
    "User.objects.get(pk=10).subscribed_restaurants.prefetch_related('restauranttimeline_set')"
   ]
  },
  {
   "cell_type": "code",
   "execution_count": 93,
   "metadata": {},
   "outputs": [
    {
     "name": "stderr",
     "output_type": "stream",
     "text": [
      "(0.001) SELECT \"accounts_user\".\"id\", \"accounts_user\".\"password\", \"accounts_user\".\"last_login\", \"accounts_user\".\"is_superuser\", \"accounts_user\".\"username\", \"accounts_user\".\"first_name\", \"accounts_user\".\"last_name\", \"accounts_user\".\"email\", \"accounts_user\".\"is_staff\", \"accounts_user\".\"is_active\", \"accounts_user\".\"date_joined\", \"accounts_user\".\"phone\", \"accounts_user\".\"address\", \"accounts_user\".\"address_detail\", \"accounts_user\".\"user_type\", \"accounts_user\".\"deactivate_date\" FROM \"accounts_user\" WHERE \"accounts_user\".\"id\" = 10; args=(10,)\n"
     ]
    }
   ],
   "source": [
    "subscribed_restaurants_list=User.objects.get(pk=10).subscribed_restaurants.values('id')"
   ]
  },
  {
   "cell_type": "code",
   "execution_count": 98,
   "metadata": {},
   "outputs": [],
   "source": [
    "subscribed_restaurants_ids=[restaurant['id'] for restaurant in subscribed_restaurants_list]"
   ]
  },
  {
   "cell_type": "code",
   "execution_count": 100,
   "metadata": {},
   "outputs": [
    {
     "name": "stderr",
     "output_type": "stream",
     "text": [
      "(0.001) SELECT \"accounts_user\".\"id\", \"accounts_user\".\"password\", \"accounts_user\".\"last_login\", \"accounts_user\".\"is_superuser\", \"accounts_user\".\"username\", \"accounts_user\".\"first_name\", \"accounts_user\".\"last_name\", \"accounts_user\".\"email\", \"accounts_user\".\"is_staff\", \"accounts_user\".\"is_active\", \"accounts_user\".\"date_joined\", \"accounts_user\".\"phone\", \"accounts_user\".\"address\", \"accounts_user\".\"address_detail\", \"accounts_user\".\"user_type\", \"accounts_user\".\"deactivate_date\" FROM \"accounts_user\" WHERE \"accounts_user\".\"id\" = 10; args=(10,)\n"
     ]
    },
    {
     "ename": "AttributeError",
     "evalue": "'User' object has no attribute 'subscribed_restaurants_ids'",
     "output_type": "error",
     "traceback": [
      "\u001b[0;31m---------------------------------------------------------------------------\u001b[0m",
      "\u001b[0;31mAttributeError\u001b[0m                            Traceback (most recent call last)",
      "\u001b[0;32m<ipython-input-100-a3e68114d13d>\u001b[0m in \u001b[0;36m<module>\u001b[0;34m\u001b[0m\n\u001b[0;32m----> 1\u001b[0;31m \u001b[0mUser\u001b[0m\u001b[0;34m.\u001b[0m\u001b[0mobjects\u001b[0m\u001b[0;34m.\u001b[0m\u001b[0mget\u001b[0m\u001b[0;34m(\u001b[0m\u001b[0mpk\u001b[0m\u001b[0;34m=\u001b[0m\u001b[0;36m10\u001b[0m\u001b[0;34m)\u001b[0m\u001b[0;34m.\u001b[0m\u001b[0msubscribed_restaurants_ids\u001b[0m\u001b[0;34m\u001b[0m\u001b[0;34m\u001b[0m\u001b[0m\n\u001b[0m",
      "\u001b[0;31mAttributeError\u001b[0m: 'User' object has no attribute 'subscribed_restaurants_ids'"
     ]
    }
   ],
   "source": [
    "subscribed_restaurants_ids"
   ]
  },
  {
   "cell_type": "code",
   "execution_count": 101,
   "metadata": {},
   "outputs": [
    {
     "name": "stderr",
     "output_type": "stream",
     "text": [
      "(0.001) SELECT \"accounts_user\".\"id\", \"accounts_user\".\"password\", \"accounts_user\".\"last_login\", \"accounts_user\".\"is_superuser\", \"accounts_user\".\"username\", \"accounts_user\".\"first_name\", \"accounts_user\".\"last_name\", \"accounts_user\".\"email\", \"accounts_user\".\"is_staff\", \"accounts_user\".\"is_active\", \"accounts_user\".\"date_joined\", \"accounts_user\".\"phone\", \"accounts_user\".\"address\", \"accounts_user\".\"address_detail\", \"accounts_user\".\"user_type\", \"accounts_user\".\"deactivate_date\" FROM \"accounts_user\" WHERE \"accounts_user\".\"id\" = 10; args=(10,)\n",
      "(0.001) SELECT \"restaurant_restaurant\".\"id\" FROM \"restaurant_restaurant\" INNER JOIN \"accounts_user_subscribed_restaurants\" ON (\"restaurant_restaurant\".\"id\" = \"accounts_user_subscribed_restaurants\".\"restaurant_id\") WHERE \"accounts_user_subscribed_restaurants\".\"user_id\" = 10; args=(10,)\n"
     ]
    }
   ],
   "source": [
    "user=User.objects.get(pk=10)\n",
    "subscribed_restaurants = user.subscribed_restaurants.values('id')\n",
    "subscribed_restaurants_ids = [restaurant['id'] for restaurant in subscribed_restaurants]"
   ]
  },
  {
   "cell_type": "code",
   "execution_count": 102,
   "metadata": {},
   "outputs": [
    {
     "data": {
      "text/plain": [
       "[8, 12]"
      ]
     },
     "execution_count": 102,
     "metadata": {},
     "output_type": "execute_result"
    }
   ],
   "source": [
    "subscribed_restaurants_ids"
   ]
  },
  {
   "cell_type": "code",
   "execution_count": 105,
   "metadata": {},
   "outputs": [
    {
     "ename": "NameError",
     "evalue": "name 'Restuarant' is not defined",
     "output_type": "error",
     "traceback": [
      "\u001b[0;31m---------------------------------------------------------------------------\u001b[0m",
      "\u001b[0;31mNameError\u001b[0m                                 Traceback (most recent call last)",
      "\u001b[0;32m<ipython-input-105-bf4528c4ddfe>\u001b[0m in \u001b[0;36m<module>\u001b[0;34m\u001b[0m\n\u001b[1;32m      1\u001b[0m \u001b[0;32mfrom\u001b[0m \u001b[0mrestaurant\u001b[0m\u001b[0;34m.\u001b[0m\u001b[0mmodels\u001b[0m \u001b[0;32mimport\u001b[0m \u001b[0mRestaurant\u001b[0m\u001b[0;34m\u001b[0m\u001b[0;34m\u001b[0m\u001b[0m\n\u001b[0;32m----> 2\u001b[0;31m \u001b[0mRestuarant\u001b[0m\u001b[0;34m.\u001b[0m\u001b[0mobjects\u001b[0m\u001b[0;34m.\u001b[0m\u001b[0mall\u001b[0m\u001b[0;34m(\u001b[0m\u001b[0;34m)\u001b[0m\u001b[0;34m[\u001b[0m\u001b[0;36m0\u001b[0m\u001b[0;34m]\u001b[0m\u001b[0;34m\u001b[0m\u001b[0;34m\u001b[0m\u001b[0m\n\u001b[0m",
      "\u001b[0;31mNameError\u001b[0m: name 'Restuarant' is not defined"
     ]
    }
   ],
   "source": [
    "from restaurant.models import Restaurant\n",
    "Restuarant.objects.all()[0]"
   ]
  },
  {
   "cell_type": "code",
   "execution_count": 106,
   "metadata": {},
   "outputs": [],
   "source": [
    "from restaurant.models import Restaurant"
   ]
  },
  {
   "cell_type": "code",
   "execution_count": 110,
   "metadata": {},
   "outputs": [
    {
     "name": "stderr",
     "output_type": "stream",
     "text": [
      "(0.001) SELECT \"restaurant_restaurant\".\"id\", \"restaurant_restaurant\".\"created_time\", \"restaurant_restaurant\".\"updated_time\", \"restaurant_restaurant\".\"name\", \"restaurant_restaurant\".\"owner\", \"restaurant_restaurant\".\"title\", \"restaurant_restaurant\".\"img\", \"restaurant_restaurant\".\"tel\", \"restaurant_restaurant\".\"min_order_price\", \"restaurant_restaurant\".\"order_way\", \"restaurant_restaurant\".\"origin\", \"restaurant_restaurant\".\"delivery_charge\", \"restaurant_restaurant\".\"info\", \"restaurant_restaurant\".\"event\", \"restaurant_restaurant\".\"event_img\", \"restaurant_restaurant\".\"type\", \"restaurant_restaurant\".\"estimated_delivery_time\", \"restaurant_restaurant\".\"operation_start_hour\", \"restaurant_restaurant\".\"operation_end_hour\" FROM \"restaurant_restaurant\"  LIMIT 1; args=()\n"
     ]
    },
    {
     "data": {
      "text/plain": [
       "1"
      ]
     },
     "execution_count": 110,
     "metadata": {},
     "output_type": "execute_result"
    }
   ],
   "source": [
    "Restaurant.objects.all()[0].id"
   ]
  },
  {
   "cell_type": "code",
   "execution_count": 10,
   "metadata": {},
   "outputs": [
    {
     "name": "stderr",
     "output_type": "stream",
     "text": [
      "(0.001) SELECT \"accounts_user\".\"id\", \"accounts_user\".\"password\", \"accounts_user\".\"last_login\", \"accounts_user\".\"is_superuser\", \"accounts_user\".\"username\", \"accounts_user\".\"first_name\", \"accounts_user\".\"last_name\", \"accounts_user\".\"email\", \"accounts_user\".\"is_staff\", \"accounts_user\".\"is_active\", \"accounts_user\".\"date_joined\", \"accounts_user\".\"phone\", \"accounts_user\".\"address\", \"accounts_user\".\"address_detail\", \"accounts_user\".\"user_type\", \"accounts_user\".\"deactivate_date\" FROM \"accounts_user\" WHERE \"accounts_user\".\"id\" = 9; args=(9,)\n"
     ]
    },
    {
     "ename": "AttributeError",
     "evalue": "'QuerySet' object has no attribute 'add'",
     "output_type": "error",
     "traceback": [
      "\u001b[0;31m---------------------------------------------------------------------------\u001b[0m",
      "\u001b[0;31mAttributeError\u001b[0m                            Traceback (most recent call last)",
      "\u001b[0;32m<ipython-input-10-cde6c821bc17>\u001b[0m in \u001b[0;36m<module>\u001b[0;34m\u001b[0m\n\u001b[1;32m      1\u001b[0m \u001b[0muser\u001b[0m \u001b[0;34m=\u001b[0m\u001b[0mUser\u001b[0m\u001b[0;34m.\u001b[0m\u001b[0mobjects\u001b[0m\u001b[0;34m.\u001b[0m\u001b[0mget\u001b[0m\u001b[0;34m(\u001b[0m\u001b[0mpk\u001b[0m\u001b[0;34m=\u001b[0m\u001b[0;36m9\u001b[0m\u001b[0;34m)\u001b[0m\u001b[0;34m\u001b[0m\u001b[0;34m\u001b[0m\u001b[0m\n\u001b[0;32m----> 2\u001b[0;31m \u001b[0mRestaurantTimeline\u001b[0m\u001b[0;34m.\u001b[0m\u001b[0mobjects\u001b[0m\u001b[0;34m.\u001b[0m\u001b[0mfilter\u001b[0m\u001b[0;34m(\u001b[0m\u001b[0mpk\u001b[0m\u001b[0;34m=\u001b[0m\u001b[0;36m3\u001b[0m\u001b[0;34m)\u001b[0m\u001b[0;34m.\u001b[0m\u001b[0madd\u001b[0m\u001b[0;34m(\u001b[0m\u001b[0mlike\u001b[0m\u001b[0;34m=\u001b[0m\u001b[0muser\u001b[0m\u001b[0;34m)\u001b[0m\u001b[0;34m\u001b[0m\u001b[0;34m\u001b[0m\u001b[0m\n\u001b[0m",
      "\u001b[0;31mAttributeError\u001b[0m: 'QuerySet' object has no attribute 'add'"
     ]
    }
   ],
   "source": [
    "user =User.objects.get(pk=9)\n",
    "RestaurantTimeline.objects.filter(pk=3).add(like=user)"
   ]
  },
  {
   "cell_type": "code",
   "execution_count": 1,
   "metadata": {},
   "outputs": [],
   "source": [
    "from restaurant.models import Restaurant, RestaurantTimeline\n",
    "available_restaurant = Restaurant.objects.filter(is_group_purchase=True).order_by('id')"
   ]
  },
  {
   "cell_type": "code",
   "execution_count": 23,
   "metadata": {},
   "outputs": [],
   "source": [
    "available_restaurant = (\n",
    "    Restaurant.objects.select_related('menu')\n",
    "    .filter(\n",
    "        menu__is_group_purchase=True,\n",
    "        is_group_purchase=True\n",
    "    ).order_by('id')\n",
    "    .annotate(\n",
    "        menu_id=F('menu'),\n",
    "        menu_name=F('menu__name'),\n",
    "        menu_detail=F('menu__detail'),\n",
    "        menu_price=F('menu__price'),\n",
    "        max_quantity=F('menu__max_quantity'),\n",
    "        min_quantity=F('menu__min_quantity'),\n",
    "    ).values('id', 'title', 'name', 'menu_id', 'menu_name', 'menu_detail', 'menu_price', 'max_quantity', 'min_quantity'))"
   ]
  },
  {
   "cell_type": "code",
   "execution_count": 24,
   "metadata": {},
   "outputs": [
    {
     "name": "stderr",
     "output_type": "stream",
     "text": [
      "(0.001) SELECT \"restaurant_restaurant\".\"id\", \"restaurant_restaurant\".\"title\", \"restaurant_restaurant\".\"name\", \"menu_menu\".\"id\" AS \"menu_id\", \"menu_menu\".\"name\" AS \"menu_name\", \"menu_menu\".\"detail\" AS \"menu_detail\", \"menu_menu\".\"price\" AS \"menu_price\", \"menu_menu\".\"max_quantity\" AS \"max_quantity\", \"menu_menu\".\"min_quantity\" AS \"min_quantity\" FROM \"restaurant_restaurant\" INNER JOIN \"menu_menu\" ON (\"restaurant_restaurant\".\"id\" = \"menu_menu\".\"restaurant_id\") WHERE (\"restaurant_restaurant\".\"is_group_purchase\" = true AND \"menu_menu\".\"is_group_purchase\" = true) ORDER BY \"restaurant_restaurant\".\"id\" ASC; args=(True, True)\n"
     ]
    }
   ],
   "source": [
    "res_list = list(available_restaurant)"
   ]
  },
  {
   "cell_type": "code",
   "execution_count": 29,
   "metadata": {},
   "outputs": [
    {
     "name": "stdout",
     "output_type": "stream",
     "text": [
      "8\n",
      "8\n",
      "8\n",
      "8\n",
      "8\n",
      "9\n",
      "9\n",
      "9\n",
      "9\n"
     ]
    }
   ],
   "source": [
    "res_list\n",
    "\n",
    "for res in res_list:\n",
    "    print(res['id'])"
   ]
  },
  {
   "cell_type": "code",
   "execution_count": 45,
   "metadata": {},
   "outputs": [],
   "source": [
    "available_menus = (\n",
    "    Menu.objects.select_related('restaurant')\n",
    "    .filter(\n",
    "        is_group_purchase=True,\n",
    "        restaurant__is_group_purchase=True\n",
    "    ).order_by('restaurant_id')\n",
    "    .annotate(\n",
    "        restaurant_name = F('restaurant__name'),\n",
    "        restaurant_title = F('restaurant__title'),\n",
    "    ).values('restaurant_id', 'restaurant_name', 'restaurant_title',\n",
    "             'id', 'name', 'detail', 'price', 'min_quantity', 'max_quantity')\n",
    ")"
   ]
  },
  {
   "cell_type": "code",
   "execution_count": 46,
   "metadata": {},
   "outputs": [
    {
     "name": "stderr",
     "output_type": "stream",
     "text": [
      "(0.001) SELECT \"menu_menu\".\"restaurant_id\", \"menu_menu\".\"id\", \"menu_menu\".\"name\", \"menu_menu\".\"detail\", \"menu_menu\".\"price\", \"menu_menu\".\"min_quantity\", \"menu_menu\".\"max_quantity\", \"restaurant_restaurant\".\"name\" AS \"restaurant_name\", \"restaurant_restaurant\".\"title\" AS \"restaurant_title\" FROM \"menu_menu\" INNER JOIN \"restaurant_restaurant\" ON (\"menu_menu\".\"restaurant_id\" = \"restaurant_restaurant\".\"id\") WHERE (\"menu_menu\".\"is_group_purchase\" = true AND \"restaurant_restaurant\".\"is_group_purchase\" = true) ORDER BY \"menu_menu\".\"restaurant_id\" ASC; args=(True, True)\n"
     ]
    },
    {
     "data": {
      "text/plain": [
       "[{'restaurant_id': 8,\n",
       "  'id': 28,\n",
       "  'name': '교촌 라이스 세트',\n",
       "  'detail': '쌀로 만든 궁극의 바사함, 교촌라이스세트!',\n",
       "  'price': 21000,\n",
       "  'min_quantity': 0,\n",
       "  'max_quantity': 0,\n",
       "  'restaurant_name': '교촌치킨',\n",
       "  'restaurant_title': '교촌치킨 한양대점'},\n",
       " {'restaurant_id': 8,\n",
       "  'id': 29,\n",
       "  'name': '교촌 오리지날',\n",
       "  'detail': '교촌만의 차별화된 마늘과 간장소스의 풍부한 맛이 어우러진 한 마리 치킨',\n",
       "  'price': 15000,\n",
       "  'min_quantity': 0,\n",
       "  'max_quantity': 0,\n",
       "  'restaurant_name': '교촌치킨',\n",
       "  'restaurant_title': '교촌치킨 한양대점'},\n",
       " {'restaurant_id': 8,\n",
       "  'id': 30,\n",
       "  'name': '교촌콤보',\n",
       "  'detail': '마늘과 간장소스의 풍부한 맛에 가장 인기있는 부위인 날개와 다리를 함께 즐길 수 있는 메뉴',\n",
       "  'price': 17000,\n",
       "  'min_quantity': 0,\n",
       "  'max_quantity': 0,\n",
       "  'restaurant_name': '교촌치킨',\n",
       "  'restaurant_title': '교촌치킨 한양대점'},\n",
       " {'restaurant_id': 8,\n",
       "  'id': 31,\n",
       "  'name': '교촌레드스틱',\n",
       "  'detail': '국내산 청양 홍고추의 매콤함에 담백한 다리의 맛이 어우러진 치킨',\n",
       "  'price': 18000,\n",
       "  'min_quantity': 0,\n",
       "  'max_quantity': 0,\n",
       "  'restaurant_name': '교촌치킨',\n",
       "  'restaurant_title': '교촌치킨 한양대점'},\n",
       " {'restaurant_id': 8,\n",
       "  'id': 32,\n",
       "  'name': '교촌레드콤보',\n",
       "  'detail': '국내산 청양 홍고추의 매콤한 맛에 날개와 다리를 함께 즐길 수 있는 메뉴',\n",
       "  'price': 18000,\n",
       "  'min_quantity': 0,\n",
       "  'max_quantity': 0,\n",
       "  'restaurant_name': '교촌치킨',\n",
       "  'restaurant_title': '교촌치킨 한양대점'},\n",
       " {'restaurant_id': 9,\n",
       "  'id': 33,\n",
       "  'name': '떡볶이',\n",
       "  'detail': '맛있는 떡볶이',\n",
       "  'price': 15000,\n",
       "  'min_quantity': 0,\n",
       "  'max_quantity': 0,\n",
       "  'restaurant_name': '신전 떡볶이',\n",
       "  'restaurant_title': '신전 떡볶이 한양대점'},\n",
       " {'restaurant_id': 9,\n",
       "  'id': 36,\n",
       "  'name': '신전라이스',\n",
       "  'detail': '맛있는 신전라이스',\n",
       "  'price': 8000,\n",
       "  'min_quantity': 0,\n",
       "  'max_quantity': 0,\n",
       "  'restaurant_name': '신전 떡볶이',\n",
       "  'restaurant_title': '신전 떡볶이 한양대점'},\n",
       " {'restaurant_id': 9,\n",
       "  'id': 34,\n",
       "  'name': '튀김만두',\n",
       "  'detail': '튀김만두',\n",
       "  'price': 6000,\n",
       "  'min_quantity': 0,\n",
       "  'max_quantity': 0,\n",
       "  'restaurant_name': '신전 떡볶이',\n",
       "  'restaurant_title': '신전 떡볶이 한양대점'},\n",
       " {'restaurant_id': 9,\n",
       "  'id': 35,\n",
       "  'name': '신전치즈김밥',\n",
       "  'detail': '맛있는 신전치즈김밥',\n",
       "  'price': 8000,\n",
       "  'min_quantity': 0,\n",
       "  'max_quantity': 0,\n",
       "  'restaurant_name': '신전 떡볶이',\n",
       "  'restaurant_title': '신전 떡볶이 한양대점'}]"
      ]
     },
     "execution_count": 46,
     "metadata": {},
     "output_type": "execute_result"
    }
   ],
   "source": [
    "list(available_menus)"
   ]
  },
  {
   "cell_type": "code",
   "execution_count": 81,
   "metadata": {},
   "outputs": [],
   "source": [
    "restaurants_list = []\n",
    "menu_list = []\n",
    "restaurant_id\n",
    "for menu in available_menus:\n",
    "    if not restaurants_list:\n",
    "        menu_list.append(menu)\n",
    "        \n",
    "        \n",
    "'''        \n",
    "    menu_list.append(menu)\n",
    "    if restaurant_id != menu['restaurant_id']:\n",
    "        restaurant_id = menu['restaurant_id']\n",
    "        restaurants_list.append(\n",
    "            {\n",
    "                'restaurant_id': restaurant_id,\n",
    "                'restaurant_name': menu['restaurant_name'],\n",
    "                'restaurant_title': menu['restaurant_title'],\n",
    "                'menus':menu_list\n",
    "            })\n",
    "        menu_list.clear()\n",
    "'''"
   ]
  },
  {
   "cell_type": "code",
   "execution_count": 83,
   "metadata": {},
   "outputs": [],
   "source": [
    "available_restaurant = Restaurant.objects.filter(is_group_purchase=True).order_by('id')"
   ]
  },
  {
   "cell_type": "code",
   "execution_count": 85,
   "metadata": {},
   "outputs": [],
   "source": [
    "available_menus = (\n",
    "    Menu.objects.select_related('restaurant')\n",
    "    .filter(\n",
    "        is_group_purchase=True,\n",
    "        restaurant__is_group_purchase=True\n",
    "    ).order_by('restaurant_id')\n",
    "    .annotate(\n",
    "        restaurant_name=F('restaurant__name'),\n",
    "        restaurant_title=F('restaurant__title'),\n",
    "    ).values('restaurant_id', 'restaurant_name', 'restaurant_title',\n",
    "             'id', 'name', 'detail', 'price', 'min_quantity', 'max_quantity')\n",
    ")"
   ]
  },
  {
   "cell_type": "code",
   "execution_count": 88,
   "metadata": {},
   "outputs": [
    {
     "name": "stderr",
     "output_type": "stream",
     "text": [
      "(0.001) SELECT DISTINCT ON (\"menu_menu\".\"restaurant_id\") \"menu_menu\".\"restaurant_id\" FROM \"menu_menu\" INNER JOIN \"restaurant_restaurant\" ON (\"menu_menu\".\"restaurant_id\" = \"restaurant_restaurant\".\"id\") WHERE (\"menu_menu\".\"is_group_purchase\" = true AND \"restaurant_restaurant\".\"is_group_purchase\" = true) ORDER BY \"menu_menu\".\"restaurant_id\" ASC; args=(True, True)\n"
     ]
    }
   ],
   "source": [
    "available_restuarants = list(available_menus.distinct('restaurant_id').values('restaurant_id'))"
   ]
  },
  {
   "cell_type": "code",
   "execution_count": 89,
   "metadata": {},
   "outputs": [
    {
     "data": {
      "text/plain": [
       "[{'restaurant_id': 8}, {'restaurant_id': 9}]"
      ]
     },
     "execution_count": 89,
     "metadata": {},
     "output_type": "execute_result"
    }
   ],
   "source": [
    "available_restuarants"
   ]
  },
  {
   "cell_type": "code",
   "execution_count": 90,
   "metadata": {},
   "outputs": [],
   "source": [
    "available_restaurant = Restaurant.objects.filter(is_group_purchase=True).order_by('id')\n"
   ]
  },
  {
   "cell_type": "code",
   "execution_count": 91,
   "metadata": {},
   "outputs": [
    {
     "name": "stderr",
     "output_type": "stream",
     "text": [
      "(0.001) SELECT DISTINCT ON (\"restaurant_restaurant\".\"id\") \"restaurant_restaurant\".\"id\", \"restaurant_restaurant\".\"created_time\", \"restaurant_restaurant\".\"updated_time\", \"restaurant_restaurant\".\"name\", \"restaurant_restaurant\".\"owner\", \"restaurant_restaurant\".\"title\", \"restaurant_restaurant\".\"img\", \"restaurant_restaurant\".\"tel\", \"restaurant_restaurant\".\"min_order_price\", \"restaurant_restaurant\".\"order_way\", \"restaurant_restaurant\".\"origin\", \"restaurant_restaurant\".\"delivery_charge\", \"restaurant_restaurant\".\"info\", \"restaurant_restaurant\".\"event\", \"restaurant_restaurant\".\"event_img\", \"restaurant_restaurant\".\"type\", \"restaurant_restaurant\".\"estimated_delivery_time\", \"restaurant_restaurant\".\"operation_start_hour\", \"restaurant_restaurant\".\"operation_end_hour\", \"restaurant_restaurant\".\"is_group_purchase\" FROM \"restaurant_restaurant\" WHERE \"restaurant_restaurant\".\"is_group_purchase\" = true ORDER BY \"restaurant_restaurant\".\"id\" ASC  LIMIT 21; args=(True,)\n"
     ]
    },
    {
     "data": {
      "text/plain": [
       "<QuerySet [<Restaurant: 교촌치킨>, <Restaurant: 신전 떡볶이>]>"
      ]
     },
     "execution_count": 91,
     "metadata": {},
     "output_type": "execute_result"
    }
   ],
   "source": [
    "available_restaurant.distinct('id')"
   ]
  },
  {
   "cell_type": "code",
   "execution_count": 92,
   "metadata": {},
   "outputs": [],
   "source": [
    "restaurant_list = (available_restaurant\n",
    "            .filter(\n",
    "                menu__is_group_purchase=True,\n",
    "            ).order_by('id')\n",
    "            .annotate(\n",
    "                menu_id=F('menu'),\n",
    "                menu_name=F('menu__name'),\n",
    "                menu_detail=F('menu__detail'),\n",
    "                menu_price=F('menu__price'),\n",
    "                max_quantity=F('menu__max_quantity'),\n",
    "                min_quantity=F('menu__min_quantity'),\n",
    "            ).values('id', 'title', 'name',\n",
    "                     'menu_id', 'menu_name', 'menu_detail', 'menu_price', 'max_quantity', 'min_quantity'))"
   ]
  },
  {
   "cell_type": "code",
   "execution_count": 93,
   "metadata": {},
   "outputs": [
    {
     "name": "stderr",
     "output_type": "stream",
     "text": [
      "(0.001) SELECT \"restaurant_restaurant\".\"id\", \"restaurant_restaurant\".\"title\", \"restaurant_restaurant\".\"name\", \"menu_menu\".\"id\" AS \"menu_id\", \"menu_menu\".\"name\" AS \"menu_name\", \"menu_menu\".\"detail\" AS \"menu_detail\", \"menu_menu\".\"price\" AS \"menu_price\", \"menu_menu\".\"max_quantity\" AS \"max_quantity\", \"menu_menu\".\"min_quantity\" AS \"min_quantity\" FROM \"restaurant_restaurant\" INNER JOIN \"menu_menu\" ON (\"restaurant_restaurant\".\"id\" = \"menu_menu\".\"restaurant_id\") WHERE (\"restaurant_restaurant\".\"is_group_purchase\" = true AND \"menu_menu\".\"is_group_purchase\" = true) ORDER BY \"restaurant_restaurant\".\"id\" ASC  LIMIT 21; args=(True, True)\n"
     ]
    },
    {
     "data": {
      "text/plain": [
       "<QuerySet [{'id': 8, 'title': '교촌치킨 한양대점', 'name': '교촌치킨', 'menu_id': 28, 'menu_name': '교촌 라이스 세트', 'menu_detail': '쌀로 만든 궁극의 바사함, 교촌라이스세트!', 'menu_price': 21000, 'max_quantity': 0, 'min_quantity': 0}, {'id': 8, 'title': '교촌치킨 한양대점', 'name': '교촌치킨', 'menu_id': 29, 'menu_name': '교촌 오리지날', 'menu_detail': '교촌만의 차별화된 마늘과 간장소스의 풍부한 맛이 어우러진 한 마리 치킨', 'menu_price': 15000, 'max_quantity': 0, 'min_quantity': 0}, {'id': 8, 'title': '교촌치킨 한양대점', 'name': '교촌치킨', 'menu_id': 30, 'menu_name': '교촌콤보', 'menu_detail': '마늘과 간장소스의 풍부한 맛에 가장 인기있는 부위인 날개와 다리를 함께 즐길 수 있는 메뉴', 'menu_price': 17000, 'max_quantity': 0, 'min_quantity': 0}, {'id': 8, 'title': '교촌치킨 한양대점', 'name': '교촌치킨', 'menu_id': 31, 'menu_name': '교촌레드스틱', 'menu_detail': '국내산 청양 홍고추의 매콤함에 담백한 다리의 맛이 어우러진 치킨', 'menu_price': 18000, 'max_quantity': 0, 'min_quantity': 0}, {'id': 8, 'title': '교촌치킨 한양대점', 'name': '교촌치킨', 'menu_id': 32, 'menu_name': '교촌레드콤보', 'menu_detail': '국내산 청양 홍고추의 매콤한 맛에 날개와 다리를 함께 즐길 수 있는 메뉴', 'menu_price': 18000, 'max_quantity': 0, 'min_quantity': 0}, {'id': 9, 'title': '신전 떡볶이 한양대점', 'name': '신전 떡볶이', 'menu_id': 33, 'menu_name': '떡볶이', 'menu_detail': '맛있는 떡볶이', 'menu_price': 15000, 'max_quantity': 0, 'min_quantity': 0}, {'id': 9, 'title': '신전 떡볶이 한양대점', 'name': '신전 떡볶이', 'menu_id': 36, 'menu_name': '신전라이스', 'menu_detail': '맛있는 신전라이스', 'menu_price': 8000, 'max_quantity': 0, 'min_quantity': 0}, {'id': 9, 'title': '신전 떡볶이 한양대점', 'name': '신전 떡볶이', 'menu_id': 34, 'menu_name': '튀김만두', 'menu_detail': '튀김만두', 'menu_price': 6000, 'max_quantity': 0, 'min_quantity': 0}, {'id': 9, 'title': '신전 떡볶이 한양대점', 'name': '신전 떡볶이', 'menu_id': 35, 'menu_name': '신전치즈김밥', 'menu_detail': '맛있는 신전치즈김밥', 'menu_price': 8000, 'max_quantity': 0, 'min_quantity': 0}]>"
      ]
     },
     "execution_count": 93,
     "metadata": {},
     "output_type": "execute_result"
    }
   ],
   "source": [
    "restaurant_list"
   ]
  },
  {
   "cell_type": "code",
   "execution_count": 95,
   "metadata": {},
   "outputs": [
    {
     "name": "stderr",
     "output_type": "stream",
     "text": [
      "(0.001) SELECT DISTINCT ON (\"menu_menu\".\"restaurant_id\") \"menu_menu\".\"restaurant_id\" FROM \"menu_menu\" INNER JOIN \"restaurant_restaurant\" ON (\"menu_menu\".\"restaurant_id\" = \"restaurant_restaurant\".\"id\") WHERE (\"menu_menu\".\"is_group_purchase\" = true AND \"restaurant_restaurant\".\"is_group_purchase\" = true) ORDER BY \"menu_menu\".\"restaurant_id\" ASC; args=(True, True)\n"
     ]
    }
   ],
   "source": [
    "available_menus = (\n",
    "            Menu.objects.select_related('restaurant')\n",
    "            .filter(\n",
    "                is_group_purchase=True,\n",
    "                restaurant__is_group_purchase=True\n",
    "            ).order_by('restaurant_id')\n",
    "            .annotate(\n",
    "                restaurant_name=F('restaurant__name'),\n",
    "                restaurant_title=F('restaurant__title'),\n",
    "            ).values('restaurant_id', 'restaurant_name', 'restaurant_title',\n",
    "                     'id', 'name', 'detail', 'price', 'min_quantity', 'max_quantity')\n",
    "        )\n",
    "\n",
    "available_restuarants = list(available_menus.distinct('restaurant_id').values('restaurant_id'))"
   ]
  },
  {
   "cell_type": "code",
   "execution_count": 98,
   "metadata": {},
   "outputs": [],
   "source": [
    "menu_list=list(available_menus)"
   ]
  },
  {
   "cell_type": "code",
   "execution_count": 107,
   "metadata": {},
   "outputs": [
    {
     "name": "stdout",
     "output_type": "stream",
     "text": [
      "8\n",
      "8\n",
      "8\n",
      "8\n",
      "8\n",
      "9\n",
      "9\n",
      "9\n",
      "9\n"
     ]
    }
   ],
   "source": [
    "for menu in available_menus:\n",
    "    print(menu['restaurant_id'])"
   ]
  },
  {
   "cell_type": "code",
   "execution_count": 136,
   "metadata": {},
   "outputs": [],
   "source": [
    "resturant_ids = set([menu['restaurant_id'] for menu in available_menus])"
   ]
  },
  {
   "cell_type": "code",
   "execution_count": 137,
   "metadata": {},
   "outputs": [
    {
     "data": {
      "text/plain": [
       "{8, 9}"
      ]
     },
     "execution_count": 137,
     "metadata": {},
     "output_type": "execute_result"
    }
   ],
   "source": [
    "resturant_ids"
   ]
  },
  {
   "cell_type": "code",
   "execution_count": 153,
   "metadata": {},
   "outputs": [],
   "source": [
    "restaurants_list = []\n",
    "for resturant_id in resturant_ids:\n",
    "    menu_list = []\n",
    "    for menu in available_menus:\n",
    "        if menu['restaurant_id']==resturant_id:\n",
    "            menu_list.append(menu)\n",
    "     \n",
    "    restaurants_list.append({\n",
    "        'restaurant_id': resturant_id,\n",
    "        'restaurant_name':'',\n",
    "        'restaurant_title':'',\n",
    "        'menus': menu_list\n",
    "    })\n",
    "          \n",
    "            \n",
    "    "
   ]
  },
  {
   "cell_type": "code",
   "execution_count": 151,
   "metadata": {},
   "outputs": [
    {
     "name": "stdout",
     "output_type": "stream",
     "text": [
      "{'restaurant_id': 8, 'restaurant_name': '', 'restaurant_title': '', 'menus': [{'restaurant_id': 8, 'id': 28, 'name': '교촌 라이스 세트', 'detail': '쌀로 만든 궁극의 바사함, 교촌라이스세트!', 'price': 21000, 'min_quantity': 0, 'max_quantity': 0, 'restaurant_name': '교촌치킨', 'restaurant_title': '교촌치킨 한양대점'}, {'restaurant_id': 8, 'id': 29, 'name': '교촌 오리지날', 'detail': '교촌만의 차별화된 마늘과 간장소스의 풍부한 맛이 어우러진 한 마리 치킨', 'price': 15000, 'min_quantity': 0, 'max_quantity': 0, 'restaurant_name': '교촌치킨', 'restaurant_title': '교촌치킨 한양대점'}, {'restaurant_id': 8, 'id': 30, 'name': '교촌콤보', 'detail': '마늘과 간장소스의 풍부한 맛에 가장 인기있는 부위인 날개와 다리를 함께 즐길 수 있는 메뉴', 'price': 17000, 'min_quantity': 0, 'max_quantity': 0, 'restaurant_name': '교촌치킨', 'restaurant_title': '교촌치킨 한양대점'}, {'restaurant_id': 8, 'id': 31, 'name': '교촌레드스틱', 'detail': '국내산 청양 홍고추의 매콤함에 담백한 다리의 맛이 어우러진 치킨', 'price': 18000, 'min_quantity': 0, 'max_quantity': 0, 'restaurant_name': '교촌치킨', 'restaurant_title': '교촌치킨 한양대점'}, {'restaurant_id': 8, 'id': 32, 'name': '교촌레드콤보', 'detail': '국내산 청양 홍고추의 매콤한 맛에 날개와 다리를 함께 즐길 수 있는 메뉴', 'price': 18000, 'min_quantity': 0, 'max_quantity': 0, 'restaurant_name': '교촌치킨', 'restaurant_title': '교촌치킨 한양대점'}]}\n",
      "\n",
      "{'restaurant_id': 9, 'restaurant_name': '', 'restaurant_title': '', 'menus': [{'restaurant_id': 9, 'id': 33, 'name': '떡볶이', 'detail': '맛있는 떡볶이', 'price': 15000, 'min_quantity': 0, 'max_quantity': 0, 'restaurant_name': '신전 떡볶이', 'restaurant_title': '신전 떡볶이 한양대점'}, {'restaurant_id': 9, 'id': 36, 'name': '신전라이스', 'detail': '맛있는 신전라이스', 'price': 8000, 'min_quantity': 0, 'max_quantity': 0, 'restaurant_name': '신전 떡볶이', 'restaurant_title': '신전 떡볶이 한양대점'}, {'restaurant_id': 9, 'id': 34, 'name': '튀김만두', 'detail': '튀김만두', 'price': 6000, 'min_quantity': 0, 'max_quantity': 0, 'restaurant_name': '신전 떡볶이', 'restaurant_title': '신전 떡볶이 한양대점'}, {'restaurant_id': 9, 'id': 35, 'name': '신전치즈김밥', 'detail': '맛있는 신전치즈김밥', 'price': 8000, 'min_quantity': 0, 'max_quantity': 0, 'restaurant_name': '신전 떡볶이', 'restaurant_title': '신전 떡볶이 한양대점'}]}\n",
      "\n"
     ]
    }
   ],
   "source": [
    "for restaurant in restaurants_list:\n",
    "    print(restaurant)\n",
    "    print()"
   ]
  },
  {
   "cell_type": "code",
   "execution_count": 154,
   "metadata": {},
   "outputs": [
    {
     "data": {
      "text/plain": [
       "[{'restaurant_id': 8,\n",
       "  'restaurant_name': '',\n",
       "  'restaurant_title': '',\n",
       "  'menus': [{'restaurant_id': 8,\n",
       "    'id': 28,\n",
       "    'name': '교촌 라이스 세트',\n",
       "    'detail': '쌀로 만든 궁극의 바사함, 교촌라이스세트!',\n",
       "    'price': 21000,\n",
       "    'min_quantity': 0,\n",
       "    'max_quantity': 0,\n",
       "    'restaurant_name': '교촌치킨',\n",
       "    'restaurant_title': '교촌치킨 한양대점'},\n",
       "   {'restaurant_id': 8,\n",
       "    'id': 29,\n",
       "    'name': '교촌 오리지날',\n",
       "    'detail': '교촌만의 차별화된 마늘과 간장소스의 풍부한 맛이 어우러진 한 마리 치킨',\n",
       "    'price': 15000,\n",
       "    'min_quantity': 0,\n",
       "    'max_quantity': 0,\n",
       "    'restaurant_name': '교촌치킨',\n",
       "    'restaurant_title': '교촌치킨 한양대점'},\n",
       "   {'restaurant_id': 8,\n",
       "    'id': 30,\n",
       "    'name': '교촌콤보',\n",
       "    'detail': '마늘과 간장소스의 풍부한 맛에 가장 인기있는 부위인 날개와 다리를 함께 즐길 수 있는 메뉴',\n",
       "    'price': 17000,\n",
       "    'min_quantity': 0,\n",
       "    'max_quantity': 0,\n",
       "    'restaurant_name': '교촌치킨',\n",
       "    'restaurant_title': '교촌치킨 한양대점'},\n",
       "   {'restaurant_id': 8,\n",
       "    'id': 31,\n",
       "    'name': '교촌레드스틱',\n",
       "    'detail': '국내산 청양 홍고추의 매콤함에 담백한 다리의 맛이 어우러진 치킨',\n",
       "    'price': 18000,\n",
       "    'min_quantity': 0,\n",
       "    'max_quantity': 0,\n",
       "    'restaurant_name': '교촌치킨',\n",
       "    'restaurant_title': '교촌치킨 한양대점'},\n",
       "   {'restaurant_id': 8,\n",
       "    'id': 32,\n",
       "    'name': '교촌레드콤보',\n",
       "    'detail': '국내산 청양 홍고추의 매콤한 맛에 날개와 다리를 함께 즐길 수 있는 메뉴',\n",
       "    'price': 18000,\n",
       "    'min_quantity': 0,\n",
       "    'max_quantity': 0,\n",
       "    'restaurant_name': '교촌치킨',\n",
       "    'restaurant_title': '교촌치킨 한양대점'}]},\n",
       " {'restaurant_id': 9,\n",
       "  'restaurant_name': '',\n",
       "  'restaurant_title': '',\n",
       "  'menus': [{'restaurant_id': 9,\n",
       "    'id': 33,\n",
       "    'name': '떡볶이',\n",
       "    'detail': '맛있는 떡볶이',\n",
       "    'price': 15000,\n",
       "    'min_quantity': 0,\n",
       "    'max_quantity': 0,\n",
       "    'restaurant_name': '신전 떡볶이',\n",
       "    'restaurant_title': '신전 떡볶이 한양대점'},\n",
       "   {'restaurant_id': 9,\n",
       "    'id': 36,\n",
       "    'name': '신전라이스',\n",
       "    'detail': '맛있는 신전라이스',\n",
       "    'price': 8000,\n",
       "    'min_quantity': 0,\n",
       "    'max_quantity': 0,\n",
       "    'restaurant_name': '신전 떡볶이',\n",
       "    'restaurant_title': '신전 떡볶이 한양대점'},\n",
       "   {'restaurant_id': 9,\n",
       "    'id': 34,\n",
       "    'name': '튀김만두',\n",
       "    'detail': '튀김만두',\n",
       "    'price': 6000,\n",
       "    'min_quantity': 0,\n",
       "    'max_quantity': 0,\n",
       "    'restaurant_name': '신전 떡볶이',\n",
       "    'restaurant_title': '신전 떡볶이 한양대점'},\n",
       "   {'restaurant_id': 9,\n",
       "    'id': 35,\n",
       "    'name': '신전치즈김밥',\n",
       "    'detail': '맛있는 신전치즈김밥',\n",
       "    'price': 8000,\n",
       "    'min_quantity': 0,\n",
       "    'max_quantity': 0,\n",
       "    'restaurant_name': '신전 떡볶이',\n",
       "    'restaurant_title': '신전 떡볶이 한양대점'}]}]"
      ]
     },
     "execution_count": 154,
     "metadata": {},
     "output_type": "execute_result"
    }
   ],
   "source": [
    "restaurants_list"
   ]
  },
  {
   "cell_type": "code",
   "execution_count": 156,
   "metadata": {},
   "outputs": [
    {
     "name": "stderr",
     "output_type": "stream",
     "text": [
      "(0.002) SELECT \"grouppurchase_grouppurchase\".\"id\", \"grouppurchase_grouppurchase\".\"created_time\", \"grouppurchase_grouppurchase\".\"updated_time\", \"grouppurchase_grouppurchase\".\"restaurant_id\", \"grouppurchase_grouppurchase\".\"menu_id\", \"grouppurchase_grouppurchase\".\"user_id\", \"grouppurchase_grouppurchase\".\"deadline\", \"grouppurchase_grouppurchase\".\"target_number\", \"grouppurchase_grouppurchase\".\"status\", \"grouppurchase_grouppurchase\".\"notice\" FROM \"grouppurchase_grouppurchase\" WHERE (\"grouppurchase_grouppurchase\".\"restaurant_id\" = 3 AND \"grouppurchase_grouppurchase\".\"status\" = 0)  LIMIT 21; args=(3, 0)\n"
     ]
    },
    {
     "data": {
      "text/plain": [
       "<QuerySet []>"
      ]
     },
     "execution_count": 156,
     "metadata": {},
     "output_type": "execute_result"
    }
   ],
   "source": [
    "from grouppurchase.models import GroupPurchase, GrouppurchaseStatus\n",
    "GroupPurchase.objects.filter(restaurant=3, status=not GrouppurchaseStatus.COMPLETE)"
   ]
  },
  {
   "cell_type": "code",
   "execution_count": 160,
   "metadata": {},
   "outputs": [
    {
     "name": "stderr",
     "output_type": "stream",
     "text": [
      "(0.001) SELECT \"menu_menu\".\"id\", \"menu_menu\".\"created_time\", \"menu_menu\".\"updated_time\", \"menu_menu\".\"restaurant_id\", \"menu_menu\".\"name\", \"menu_menu\".\"img\", \"menu_menu\".\"detail\", \"menu_menu\".\"price\", \"menu_menu\".\"type\", \"menu_menu\".\"hit\", \"menu_menu\".\"score\", \"menu_menu\".\"is_recommended\", \"menu_menu\".\"is_group_purchase\", \"menu_menu\".\"min_quantity\", \"menu_menu\".\"max_quantity\" FROM \"menu_menu\" WHERE (\"menu_menu\".\"id\" = 50 AND \"menu_menu\".\"is_group_purchase\" = true); args=(50, True)\n"
     ]
    },
    {
     "ename": "DoesNotExist",
     "evalue": "Menu matching query does not exist.",
     "output_type": "error",
     "traceback": [
      "\u001b[0;31m---------------------------------------------------------------------------\u001b[0m",
      "\u001b[0;31mDoesNotExist\u001b[0m                              Traceback (most recent call last)",
      "\u001b[0;32m<ipython-input-160-3697bee8e423>\u001b[0m in \u001b[0;36m<module>\u001b[0;34m\u001b[0m\n\u001b[1;32m      1\u001b[0m \u001b[0;32mfrom\u001b[0m \u001b[0mmenu\u001b[0m\u001b[0;34m.\u001b[0m\u001b[0mmodels\u001b[0m \u001b[0;32mimport\u001b[0m \u001b[0mMenu\u001b[0m\u001b[0;34m\u001b[0m\u001b[0;34m\u001b[0m\u001b[0m\n\u001b[0;32m----> 2\u001b[0;31m \u001b[0mMenu\u001b[0m\u001b[0;34m.\u001b[0m\u001b[0mobjects\u001b[0m\u001b[0;34m.\u001b[0m\u001b[0mget\u001b[0m\u001b[0;34m(\u001b[0m\u001b[0mid\u001b[0m\u001b[0;34m=\u001b[0m\u001b[0;36m50\u001b[0m\u001b[0;34m,\u001b[0m \u001b[0mis_group_purchase\u001b[0m\u001b[0;34m=\u001b[0m\u001b[0;32mTrue\u001b[0m\u001b[0;34m)\u001b[0m\u001b[0;34m\u001b[0m\u001b[0;34m\u001b[0m\u001b[0m\n\u001b[0m",
      "\u001b[0;32m~/Desktop/rookiehero/project/venv/lib/python3.7/site-packages/django/db/models/manager.py\u001b[0m in \u001b[0;36mmanager_method\u001b[0;34m(self, *args, **kwargs)\u001b[0m\n\u001b[1;32m     80\u001b[0m         \u001b[0;32mdef\u001b[0m \u001b[0mcreate_method\u001b[0m\u001b[0;34m(\u001b[0m\u001b[0mname\u001b[0m\u001b[0;34m,\u001b[0m \u001b[0mmethod\u001b[0m\u001b[0;34m)\u001b[0m\u001b[0;34m:\u001b[0m\u001b[0;34m\u001b[0m\u001b[0;34m\u001b[0m\u001b[0m\n\u001b[1;32m     81\u001b[0m             \u001b[0;32mdef\u001b[0m \u001b[0mmanager_method\u001b[0m\u001b[0;34m(\u001b[0m\u001b[0mself\u001b[0m\u001b[0;34m,\u001b[0m \u001b[0;34m*\u001b[0m\u001b[0margs\u001b[0m\u001b[0;34m,\u001b[0m \u001b[0;34m**\u001b[0m\u001b[0mkwargs\u001b[0m\u001b[0;34m)\u001b[0m\u001b[0;34m:\u001b[0m\u001b[0;34m\u001b[0m\u001b[0;34m\u001b[0m\u001b[0m\n\u001b[0;32m---> 82\u001b[0;31m                 \u001b[0;32mreturn\u001b[0m \u001b[0mgetattr\u001b[0m\u001b[0;34m(\u001b[0m\u001b[0mself\u001b[0m\u001b[0;34m.\u001b[0m\u001b[0mget_queryset\u001b[0m\u001b[0;34m(\u001b[0m\u001b[0;34m)\u001b[0m\u001b[0;34m,\u001b[0m \u001b[0mname\u001b[0m\u001b[0;34m)\u001b[0m\u001b[0;34m(\u001b[0m\u001b[0;34m*\u001b[0m\u001b[0margs\u001b[0m\u001b[0;34m,\u001b[0m \u001b[0;34m**\u001b[0m\u001b[0mkwargs\u001b[0m\u001b[0;34m)\u001b[0m\u001b[0;34m\u001b[0m\u001b[0;34m\u001b[0m\u001b[0m\n\u001b[0m\u001b[1;32m     83\u001b[0m             \u001b[0mmanager_method\u001b[0m\u001b[0;34m.\u001b[0m\u001b[0m__name__\u001b[0m \u001b[0;34m=\u001b[0m \u001b[0mmethod\u001b[0m\u001b[0;34m.\u001b[0m\u001b[0m__name__\u001b[0m\u001b[0;34m\u001b[0m\u001b[0;34m\u001b[0m\u001b[0m\n\u001b[1;32m     84\u001b[0m             \u001b[0mmanager_method\u001b[0m\u001b[0;34m.\u001b[0m\u001b[0m__doc__\u001b[0m \u001b[0;34m=\u001b[0m \u001b[0mmethod\u001b[0m\u001b[0;34m.\u001b[0m\u001b[0m__doc__\u001b[0m\u001b[0;34m\u001b[0m\u001b[0;34m\u001b[0m\u001b[0m\n",
      "\u001b[0;32m~/Desktop/rookiehero/project/venv/lib/python3.7/site-packages/django/db/models/query.py\u001b[0m in \u001b[0;36mget\u001b[0;34m(self, *args, **kwargs)\u001b[0m\n\u001b[1;32m    397\u001b[0m             raise self.model.DoesNotExist(\n\u001b[1;32m    398\u001b[0m                 \u001b[0;34m\"%s matching query does not exist.\"\u001b[0m \u001b[0;34m%\u001b[0m\u001b[0;34m\u001b[0m\u001b[0;34m\u001b[0m\u001b[0m\n\u001b[0;32m--> 399\u001b[0;31m                 \u001b[0mself\u001b[0m\u001b[0;34m.\u001b[0m\u001b[0mmodel\u001b[0m\u001b[0;34m.\u001b[0m\u001b[0m_meta\u001b[0m\u001b[0;34m.\u001b[0m\u001b[0mobject_name\u001b[0m\u001b[0;34m\u001b[0m\u001b[0;34m\u001b[0m\u001b[0m\n\u001b[0m\u001b[1;32m    400\u001b[0m             )\n\u001b[1;32m    401\u001b[0m         raise self.model.MultipleObjectsReturned(\n",
      "\u001b[0;31mDoesNotExist\u001b[0m: Menu matching query does not exist."
     ]
    }
   ],
   "source": [
    "from menu.models import Menu\n",
    "Menu.objects.get(id=50, is_group_purchase=True)"
   ]
  },
  {
   "cell_type": "code",
   "execution_count": 161,
   "metadata": {},
   "outputs": [
    {
     "name": "stderr",
     "output_type": "stream",
     "text": [
      "(0.001) SELECT \"grouppurchase_grouppurchase\".\"id\", \"grouppurchase_grouppurchase\".\"created_time\", \"grouppurchase_grouppurchase\".\"updated_time\", \"grouppurchase_grouppurchase\".\"restaurant_id\", \"grouppurchase_grouppurchase\".\"menu_id\", \"grouppurchase_grouppurchase\".\"user_id\", \"grouppurchase_grouppurchase\".\"deadline\", \"grouppurchase_grouppurchase\".\"target_number\", \"grouppurchase_grouppurchase\".\"status\", \"grouppurchase_grouppurchase\".\"notice\" FROM \"grouppurchase_grouppurchase\" WHERE (\"grouppurchase_grouppurchase\".\"menu_id\" = 1 AND \"grouppurchase_grouppurchase\".\"status\" = 0)  LIMIT 21; args=(1, 0)\n"
     ]
    },
    {
     "data": {
      "text/plain": [
       "<QuerySet []>"
      ]
     },
     "execution_count": 161,
     "metadata": {},
     "output_type": "execute_result"
    }
   ],
   "source": [
    "GroupPurchase.objects.filter(menu=1, status=not GrouppurchaseStatus.COMPLETE)"
   ]
  },
  {
   "cell_type": "code",
   "execution_count": 167,
   "metadata": {},
   "outputs": [
    {
     "name": "stderr",
     "output_type": "stream",
     "text": [
      "(0.001) SELECT \"grouppurchase_grouppurchase\".\"id\", \"grouppurchase_grouppurchase\".\"created_time\", \"grouppurchase_grouppurchase\".\"updated_time\", \"grouppurchase_grouppurchase\".\"restaurant_id\", \"grouppurchase_grouppurchase\".\"menu_id\", \"grouppurchase_grouppurchase\".\"user_id\", \"grouppurchase_grouppurchase\".\"deadline\", \"grouppurchase_grouppurchase\".\"target_number\", \"grouppurchase_grouppurchase\".\"status\", \"grouppurchase_grouppurchase\".\"notice\" FROM \"grouppurchase_grouppurchase\" WHERE (\"grouppurchase_grouppurchase\".\"menu_id\" = 28 AND \"grouppurchase_grouppurchase\".\"status\" = 0)  LIMIT 21; args=(28, 0)\n"
     ]
    },
    {
     "data": {
      "text/plain": [
       "<QuerySet []>"
      ]
     },
     "execution_count": 167,
     "metadata": {},
     "output_type": "execute_result"
    }
   ],
   "source": [
    "GroupPurchase.objects.filter(menu=28, status= not GrouppurchaseStatus.COMPLETE)"
   ]
  },
  {
   "cell_type": "code",
   "execution_count": 24,
   "metadata": {},
   "outputs": [],
   "source": [
    "from menu.models import Menu\n",
    "from django.db.models import F, Q\n",
    "\\\n",
    "```\n",
    "available_menus = (\n",
    "            Menu.objects.select_related('restaurant', 'grouppurchase')\n",
    "            .filter(\n",
    "                is_group_purchase=True,\n",
    "                restaurant__is_group_purchase=True,\n",
    "            ).filter(Q(grouppurchase=None)|Q(grouppurchase__status =3)).order_by('restaurant_id')\n",
    "            .annotate(\n",
    "                restaurant_name=F('restaurant__name'),\n",
    "                restaurant_title=F('restaurant__title'),\n",
    "            ).values('restaurant_id', 'restaurant_name', 'restaurant_title',\n",
    "                     'id', 'name', 'detail', 'price', 'min_quantity', 'max_quantity')\n",
    "        )\n",
    "```"
   ]
  },
  {
   "cell_type": "code",
   "execution_count": 25,
   "metadata": {},
   "outputs": [
    {
     "name": "stderr",
     "output_type": "stream",
     "text": [
      "(0.001) SELECT \"menu_menu\".\"restaurant_id\", \"menu_menu\".\"id\", \"menu_menu\".\"name\", \"menu_menu\".\"detail\", \"menu_menu\".\"price\", \"menu_menu\".\"min_quantity\", \"menu_menu\".\"max_quantity\", \"restaurant_restaurant\".\"name\" AS \"restaurant_name\", \"restaurant_restaurant\".\"title\" AS \"restaurant_title\" FROM \"menu_menu\" INNER JOIN \"restaurant_restaurant\" ON (\"menu_menu\".\"restaurant_id\" = \"restaurant_restaurant\".\"id\") LEFT OUTER JOIN \"grouppurchase_grouppurchase\" ON (\"menu_menu\".\"id\" = \"grouppurchase_grouppurchase\".\"menu_id\") WHERE (\"menu_menu\".\"is_group_purchase\" = true AND \"restaurant_restaurant\".\"is_group_purchase\" = true AND (\"grouppurchase_grouppurchase\".\"id\" IS NULL OR \"grouppurchase_grouppurchase\".\"status\" = 3)) ORDER BY \"menu_menu\".\"restaurant_id\" ASC; args=(True, True, 3)\n"
     ]
    },
    {
     "data": {
      "text/plain": [
       "[{'restaurant_id': 8,\n",
       "  'id': 32,\n",
       "  'name': '교촌레드콤보',\n",
       "  'detail': '국내산 청양 홍고추의 매콤한 맛에 날개와 다리를 함께 즐길 수 있는 메뉴',\n",
       "  'price': 18000,\n",
       "  'min_quantity': 2,\n",
       "  'max_quantity': 10,\n",
       "  'restaurant_name': '교촌치킨',\n",
       "  'restaurant_title': '교촌치킨 한양대점'},\n",
       " {'restaurant_id': 8,\n",
       "  'id': 31,\n",
       "  'name': '교촌레드스틱',\n",
       "  'detail': '국내산 청양 홍고추의 매콤함에 담백한 다리의 맛이 어우러진 치킨',\n",
       "  'price': 18000,\n",
       "  'min_quantity': 2,\n",
       "  'max_quantity': 10,\n",
       "  'restaurant_name': '교촌치킨',\n",
       "  'restaurant_title': '교촌치킨 한양대점'},\n",
       " {'restaurant_id': 8,\n",
       "  'id': 30,\n",
       "  'name': '교촌콤보',\n",
       "  'detail': '마늘과 간장소스의 풍부한 맛에 가장 인기있는 부위인 날개와 다리를 함께 즐길 수 있는 메뉴',\n",
       "  'price': 17000,\n",
       "  'min_quantity': 2,\n",
       "  'max_quantity': 10,\n",
       "  'restaurant_name': '교촌치킨',\n",
       "  'restaurant_title': '교촌치킨 한양대점'},\n",
       " {'restaurant_id': 9,\n",
       "  'id': 33,\n",
       "  'name': '떡볶이',\n",
       "  'detail': '맛있는 떡볶이',\n",
       "  'price': 15000,\n",
       "  'min_quantity': 2,\n",
       "  'max_quantity': 10,\n",
       "  'restaurant_name': '신전 떡볶이',\n",
       "  'restaurant_title': '신전 떡볶이 한양대점'},\n",
       " {'restaurant_id': 9,\n",
       "  'id': 35,\n",
       "  'name': '신전치즈김밥',\n",
       "  'detail': '맛있는 신전치즈김밥',\n",
       "  'price': 8000,\n",
       "  'min_quantity': 2,\n",
       "  'max_quantity': 10,\n",
       "  'restaurant_name': '신전 떡볶이',\n",
       "  'restaurant_title': '신전 떡볶이 한양대점'},\n",
       " {'restaurant_id': 9,\n",
       "  'id': 36,\n",
       "  'name': '신전라이스',\n",
       "  'detail': '맛있는 신전라이스',\n",
       "  'price': 8000,\n",
       "  'min_quantity': 2,\n",
       "  'max_quantity': 10,\n",
       "  'restaurant_name': '신전 떡볶이',\n",
       "  'restaurant_title': '신전 떡볶이 한양대점'},\n",
       " {'restaurant_id': 9,\n",
       "  'id': 34,\n",
       "  'name': '튀김만두',\n",
       "  'detail': '튀김만두',\n",
       "  'price': 6000,\n",
       "  'min_quantity': 2,\n",
       "  'max_quantity': 10,\n",
       "  'restaurant_name': '신전 떡볶이',\n",
       "  'restaurant_title': '신전 떡볶이 한양대점'}]"
      ]
     },
     "execution_count": 25,
     "metadata": {},
     "output_type": "execute_result"
    }
   ],
   "source": [
    "list(available_menus)"
   ]
  },
  {
   "cell_type": "code",
   "execution_count": 28,
   "metadata": {},
   "outputs": [
    {
     "name": "stderr",
     "output_type": "stream",
     "text": [
      "(0.004) SELECT \"accounts_user\".\"id\", \"accounts_user\".\"password\", \"accounts_user\".\"last_login\", \"accounts_user\".\"is_superuser\", \"accounts_user\".\"username\", \"accounts_user\".\"first_name\", \"accounts_user\".\"last_name\", \"accounts_user\".\"email\", \"accounts_user\".\"is_staff\", \"accounts_user\".\"is_active\", \"accounts_user\".\"date_joined\", \"accounts_user\".\"phone\", \"accounts_user\".\"address\", \"accounts_user\".\"address_detail\", \"accounts_user\".\"user_type\", \"accounts_user\".\"deactivate_date\" FROM \"accounts_user\" WHERE \"accounts_user\".\"username\" = 'admin'; args=('admin',)\n",
      "(0.001) SELECT \"restaurant_restaurant\".\"id\" FROM \"restaurant_restaurant\" INNER JOIN \"accounts_user_subscribed_restaurants\" ON (\"restaurant_restaurant\".\"id\" = \"accounts_user_subscribed_restaurants\".\"restaurant_id\") WHERE \"accounts_user_subscribed_restaurants\".\"user_id\" = 1; args=(1,)\n"
     ]
    }
   ],
   "source": [
    "user = User.objects.get(username='admin')\n",
    "subscribed_restaurants = user.subscribed_restaurants.values('id')\n",
    "\n",
    "\n",
    "\n",
    "subscribed_restaurants_ids = [restaurant['id'] for restaurant in subscribed_restaurants]\n",
    "\n",
    "timeline_qs = (\n",
    "    RestaurantTimeline.objects\n",
    "    .select_related('restaurant')\n",
    "    .filter(restaurant_id__in=subscribed_restaurants_ids).order_by('-created_time'))\n",
    "\n",
    "timeline_values = (\n",
    "    timeline_qs\n",
    "    .annotate(\n",
    "        restaurant_title=F('restaurant__title'),\n",
    "        restaurant_name=F('restaurant__name'),\n",
    "        restaurant_img=F('restaurant__img'),\n",
    "        min_price=F('restaurant__min_order_price'),\n",
    "        delivery_charge=F('restaurant__delivery_charge'),\n",
    "        like_count=Count('like')).values())\n"
   ]
  },
  {
   "cell_type": "code",
   "execution_count": 30,
   "metadata": {},
   "outputs": [
    {
     "name": "stderr",
     "output_type": "stream",
     "text": [
      "(0.001) SELECT \"restaurant_restauranttimeline\".\"id\", \"restaurant_restauranttimeline\".\"created_time\", \"restaurant_restauranttimeline\".\"updated_time\", \"restaurant_restauranttimeline\".\"restaurant_id\", \"restaurant_restauranttimeline\".\"status\", \"restaurant_restauranttimeline\".\"changed_data\", \"restaurant_restauranttimeline\".\"changed_img\", \"restaurant_restauranttimeline\".\"prior_info\", \"restaurant_restauranttimeline\".\"post_info\", \"restaurant_restauranttimeline\".\"timeline_type\", \"restaurant_restauranttimeline\".\"changed_field\", \"restaurant_restaurant\".\"title\" AS \"restaurant_title\", \"restaurant_restaurant\".\"name\" AS \"restaurant_name\", \"restaurant_restaurant\".\"img\" AS \"restaurant_img\", \"restaurant_restaurant\".\"min_order_price\" AS \"min_price\", \"restaurant_restaurant\".\"delivery_charge\" AS \"delivery_charge\", COUNT(\"restaurant_restauranttimeline_like\".\"user_id\") AS \"like_count\" FROM \"restaurant_restauranttimeline\" INNER JOIN \"restaurant_restaurant\" ON (\"restaurant_restauranttimeline\".\"restaurant_id\" = \"restaurant_restaurant\".\"id\") LEFT OUTER JOIN \"restaurant_restauranttimeline_like\" ON (\"restaurant_restauranttimeline\".\"id\" = \"restaurant_restauranttimeline_like\".\"restauranttimeline_id\") WHERE \"restaurant_restauranttimeline\".\"restaurant_id\" IN (2, 1, 8, 9) GROUP BY \"restaurant_restauranttimeline\".\"id\", \"restaurant_restaurant\".\"title\", \"restaurant_restaurant\".\"name\", \"restaurant_restaurant\".\"img\", \"restaurant_restaurant\".\"min_order_price\", \"restaurant_restaurant\".\"delivery_charge\" ORDER BY \"restaurant_restauranttimeline\".\"created_time\" DESC; args=(2, 1, 8, 9)\n"
     ]
    },
    {
     "data": {
      "text/plain": [
       "[{'id': 12,\n",
       "  'created_time': datetime.datetime(2019, 6, 11, 10, 24, 5, 668631, tzinfo=<UTC>),\n",
       "  'updated_time': datetime.datetime(2019, 6, 11, 10, 24, 5, 668653, tzinfo=<UTC>),\n",
       "  'restaurant_id': 8,\n",
       "  'status': 1,\n",
       "  'changed_data': '',\n",
       "  'changed_img': '',\n",
       "  'prior_info': '',\n",
       "  'post_info': '',\n",
       "  'timeline_type': 5,\n",
       "  'changed_field': '',\n",
       "  'restaurant_title': '교촌치킨 한양대점',\n",
       "  'restaurant_name': '교촌치킨',\n",
       "  'restaurant_img': 'restaurant/2019/05/31/kyochon.jpeg',\n",
       "  'min_price': 14000,\n",
       "  'delivery_charge': 2000,\n",
       "  'like_count': 0},\n",
       " {'id': 11,\n",
       "  'created_time': datetime.datetime(2019, 6, 11, 10, 22, 7, 230931, tzinfo=<UTC>),\n",
       "  'updated_time': datetime.datetime(2019, 6, 11, 10, 22, 7, 230954, tzinfo=<UTC>),\n",
       "  'restaurant_id': 9,\n",
       "  'status': 2,\n",
       "  'changed_data': '이벤트',\n",
       "  'changed_img': '',\n",
       "  'prior_info': '',\n",
       "  'post_info': '',\n",
       "  'timeline_type': 2,\n",
       "  'changed_field': 'event',\n",
       "  'restaurant_title': '신전 떡볶이 한양대점',\n",
       "  'restaurant_name': '신전 떡볶이',\n",
       "  'restaurant_img': 'restaurant/2019/05/31/sinjeon.jpeg',\n",
       "  'min_price': 15000,\n",
       "  'delivery_charge': 2000,\n",
       "  'like_count': 0},\n",
       " {'id': 1,\n",
       "  'created_time': datetime.datetime(2019, 6, 10, 7, 18, 29, 655826, tzinfo=<UTC>),\n",
       "  'updated_time': datetime.datetime(2019, 6, 10, 7, 18, 29, 655877, tzinfo=<UTC>),\n",
       "  'restaurant_id': 9,\n",
       "  'status': 2,\n",
       "  'changed_data': '알림',\n",
       "  'changed_img': '',\n",
       "  'prior_info': '',\n",
       "  'post_info': '',\n",
       "  'timeline_type': 1,\n",
       "  'changed_field': 'info',\n",
       "  'restaurant_title': '신전 떡볶이 한양대점',\n",
       "  'restaurant_name': '신전 떡볶이',\n",
       "  'restaurant_img': 'restaurant/2019/05/31/sinjeon.jpeg',\n",
       "  'min_price': 15000,\n",
       "  'delivery_charge': 2000,\n",
       "  'like_count': 0}]"
      ]
     },
     "execution_count": 30,
     "metadata": {},
     "output_type": "execute_result"
    }
   ],
   "source": [
    "list(timeline_values)"
   ]
  },
  {
   "cell_type": "code",
   "execution_count": 31,
   "metadata": {},
   "outputs": [
    {
     "name": "stdout",
     "output_type": "stream",
     "text": [
      "2019-06-11 10:24:05.668631+00:00\n",
      "2019-06-11 10:22:07.230931+00:00\n",
      "2019-06-10 07:18:29.655826+00:00\n"
     ]
    }
   ],
   "source": [
    "for timeline in timeline_values:\n",
    "    print(timeline['created_time'])"
   ]
  },
  {
   "cell_type": "code",
   "execution_count": 32,
   "metadata": {},
   "outputs": [
    {
     "name": "stderr",
     "output_type": "stream",
     "text": [
      "(0.002) SELECT \"menu_menu\".\"id\", \"menu_menu\".\"created_time\", \"menu_menu\".\"updated_time\", \"menu_menu\".\"restaurant_id\", \"menu_menu\".\"name\", \"menu_menu\".\"img\", \"menu_menu\".\"detail\", \"menu_menu\".\"price\", \"menu_menu\".\"type\", \"menu_menu\".\"hit\", \"menu_menu\".\"score\", \"menu_menu\".\"is_recommended\", \"menu_menu\".\"is_group_purchase\", \"menu_menu\".\"min_quantity\", \"menu_menu\".\"max_quantity\" FROM \"menu_menu\"  LIMIT 21; args=()\n"
     ]
    },
    {
     "data": {
      "text/plain": [
       "<QuerySet [<Menu: 고추바사삭>, <Menu: 갈비천왕>, <Menu: 허니멜로>, <Menu: 볼케이노>, <Menu: 통날개>, <Menu: 통다리>, <Menu: 짜장면>, <Menu: 짜장밥>, <Menu: 짬뽕>, <Menu: 짬뽕밥>, <Menu: 군만두>, <Menu: 깐풍기>, <Menu: 탕수육 소>, <Menu: 탕수육 대>, <Menu: 광어회 대>, <Menu: 광어회 중>, <Menu: 광어회 소>, <Menu: 모듬회>, <Menu: 물회>, <Menu: 회덮밥>, '...(remaining elements truncated)...']>"
      ]
     },
     "execution_count": 32,
     "metadata": {},
     "output_type": "execute_result"
    }
   ],
   "source": [
    "Menu.objects.all()"
   ]
  },
  {
   "cell_type": "code",
   "execution_count": 2,
   "metadata": {},
   "outputs": [
    {
     "name": "stderr",
     "output_type": "stream",
     "text": [
      "(0.001) SELECT \"menu_menu\".\"id\", \"menu_menu\".\"created_time\", \"menu_menu\".\"updated_time\", \"menu_menu\".\"restaurant_id\", \"menu_menu\".\"name\", \"menu_menu\".\"img\", \"menu_menu\".\"detail\", \"menu_menu\".\"price\", \"menu_menu\".\"type\", \"menu_menu\".\"hit\", \"menu_menu\".\"score\", \"menu_menu\".\"is_recommended\", \"menu_menu\".\"is_yosigy\", \"menu_menu\".\"is_set_menu\" FROM \"menu_menu\"; args=()\n"
     ]
    },
    {
     "data": {
      "text/plain": [
       "[{'id': 1,\n",
       "  'created_time': datetime.datetime(2019, 5, 2, 6, 8, 55, 691000, tzinfo=<UTC>),\n",
       "  'updated_time': datetime.datetime(2019, 5, 2, 6, 8, 55, 720000, tzinfo=<UTC>),\n",
       "  'restaurant_id': 1,\n",
       "  'name': '고추바사삭',\n",
       "  'img': 'menu/2019/05/01/고추바사삭.jpeg',\n",
       "  'detail': '매콤 바삭한 치킨',\n",
       "  'price': 18000,\n",
       "  'type': '인기 메뉴',\n",
       "  'hit': 0,\n",
       "  'score': 0.0,\n",
       "  'is_recommended': False,\n",
       "  'is_yosigy': False,\n",
       "  'is_set_menu': False},\n",
       " {'id': 2,\n",
       "  'created_time': datetime.datetime(2019, 5, 2, 6, 8, 55, 691000, tzinfo=<UTC>),\n",
       "  'updated_time': datetime.datetime(2019, 5, 2, 6, 8, 55, 720000, tzinfo=<UTC>),\n",
       "  'restaurant_id': 1,\n",
       "  'name': '갈비천왕',\n",
       "  'img': 'menu/2019/05/01/갈비천왕.jpg',\n",
       "  'detail': '갈비양념이 들어간 치킨',\n",
       "  'price': 20000,\n",
       "  'type': '양념류',\n",
       "  'hit': 0,\n",
       "  'score': 0.0,\n",
       "  'is_recommended': False,\n",
       "  'is_yosigy': False,\n",
       "  'is_set_menu': False},\n",
       " {'id': 3,\n",
       "  'created_time': datetime.datetime(2019, 5, 2, 6, 8, 55, 691000, tzinfo=<UTC>),\n",
       "  'updated_time': datetime.datetime(2019, 5, 2, 7, 49, 57, 440000, tzinfo=<UTC>),\n",
       "  'restaurant_id': 1,\n",
       "  'name': '허니멜로',\n",
       "  'img': 'menu/2019/05/01/허니멜로.jpg',\n",
       "  'detail': '달콤한치킨',\n",
       "  'price': 21000,\n",
       "  'type': '인기 메뉴',\n",
       "  'hit': 0,\n",
       "  'score': 0.0,\n",
       "  'is_recommended': False,\n",
       "  'is_yosigy': False,\n",
       "  'is_set_menu': False},\n",
       " {'id': 4,\n",
       "  'created_time': datetime.datetime(2019, 5, 2, 13, 35, 40, 826000, tzinfo=<UTC>),\n",
       "  'updated_time': datetime.datetime(2019, 5, 5, 5, 45, 17, 632000, tzinfo=<UTC>),\n",
       "  'restaurant_id': 1,\n",
       "  'name': '볼케이노',\n",
       "  'img': 'menu/2019/05/05/볼케이노.png',\n",
       "  'detail': '매콤한 치킨',\n",
       "  'price': 22000,\n",
       "  'type': '인기 메뉴',\n",
       "  'hit': 0,\n",
       "  'score': 0.0,\n",
       "  'is_recommended': False,\n",
       "  'is_yosigy': False,\n",
       "  'is_set_menu': False},\n",
       " {'id': 5,\n",
       "  'created_time': datetime.datetime(2019, 5, 16, 8, 59, 13, 787000, tzinfo=<UTC>),\n",
       "  'updated_time': datetime.datetime(2019, 5, 16, 8, 59, 13, 787000, tzinfo=<UTC>),\n",
       "  'restaurant_id': 1,\n",
       "  'name': '통날개',\n",
       "  'img': 'menu/2019/05/16/통날개.jpeg',\n",
       "  'detail': '날개만 있는 메뉴',\n",
       "  'price': 21000,\n",
       "  'type': '단메뉴',\n",
       "  'hit': 0,\n",
       "  'score': 0.0,\n",
       "  'is_recommended': False,\n",
       "  'is_yosigy': False,\n",
       "  'is_set_menu': False},\n",
       " {'id': 6,\n",
       "  'created_time': datetime.datetime(2019, 5, 16, 8, 59, 55, 82000, tzinfo=<UTC>),\n",
       "  'updated_time': datetime.datetime(2019, 5, 16, 8, 59, 55, 82000, tzinfo=<UTC>),\n",
       "  'restaurant_id': 1,\n",
       "  'name': '통다리',\n",
       "  'img': 'menu/2019/05/16/통다리.png',\n",
       "  'detail': '다리가 있는 메뉴',\n",
       "  'price': 24000,\n",
       "  'type': '단메뉴',\n",
       "  'hit': 0,\n",
       "  'score': 0.0,\n",
       "  'is_recommended': False,\n",
       "  'is_yosigy': False,\n",
       "  'is_set_menu': False},\n",
       " {'id': 7,\n",
       "  'created_time': datetime.datetime(2019, 5, 21, 2, 42, 24, 455000, tzinfo=<UTC>),\n",
       "  'updated_time': datetime.datetime(2019, 5, 21, 2, 42, 24, 455000, tzinfo=<UTC>),\n",
       "  'restaurant_id': 5,\n",
       "  'name': '짜장면',\n",
       "  'img': 'menu/2019/05/21/짜장면.jpeg',\n",
       "  'detail': '찰진면',\n",
       "  'price': 5000,\n",
       "  'type': '면류',\n",
       "  'hit': 0,\n",
       "  'score': 0.0,\n",
       "  'is_recommended': False,\n",
       "  'is_yosigy': False,\n",
       "  'is_set_menu': False},\n",
       " {'id': 8,\n",
       "  'created_time': datetime.datetime(2019, 5, 21, 2, 42, 49, 666000, tzinfo=<UTC>),\n",
       "  'updated_time': datetime.datetime(2019, 5, 21, 2, 43, 18, 636000, tzinfo=<UTC>),\n",
       "  'restaurant_id': 5,\n",
       "  'name': '짜장밥',\n",
       "  'img': 'menu/2019/05/21/짜장밥.jpg',\n",
       "  'detail': '고슬고슬한 밥',\n",
       "  'price': 5500,\n",
       "  'type': '밥류',\n",
       "  'hit': 0,\n",
       "  'score': 0.0,\n",
       "  'is_recommended': False,\n",
       "  'is_yosigy': False,\n",
       "  'is_set_menu': False},\n",
       " {'id': 9,\n",
       "  'created_time': datetime.datetime(2019, 5, 21, 2, 43, 48, 780000, tzinfo=<UTC>),\n",
       "  'updated_time': datetime.datetime(2019, 5, 21, 2, 43, 48, 780000, tzinfo=<UTC>),\n",
       "  'restaurant_id': 5,\n",
       "  'name': '짬뽕',\n",
       "  'img': 'menu/2019/05/21/짬뽕.jpg',\n",
       "  'detail': '다양한 해산물',\n",
       "  'price': 6000,\n",
       "  'type': '면류',\n",
       "  'hit': 0,\n",
       "  'score': 0.0,\n",
       "  'is_recommended': False,\n",
       "  'is_yosigy': False,\n",
       "  'is_set_menu': False},\n",
       " {'id': 10,\n",
       "  'created_time': datetime.datetime(2019, 5, 21, 2, 44, 19, 981000, tzinfo=<UTC>),\n",
       "  'updated_time': datetime.datetime(2019, 5, 21, 2, 44, 19, 981000, tzinfo=<UTC>),\n",
       "  'restaurant_id': 5,\n",
       "  'name': '짬뽕밥',\n",
       "  'img': 'menu/2019/05/21/짬뽕밥.jpeg',\n",
       "  'detail': '시원한 국물',\n",
       "  'price': 6000,\n",
       "  'type': '밥류',\n",
       "  'hit': 0,\n",
       "  'score': 0.0,\n",
       "  'is_recommended': False,\n",
       "  'is_yosigy': False,\n",
       "  'is_set_menu': False},\n",
       " {'id': 11,\n",
       "  'created_time': datetime.datetime(2019, 5, 21, 2, 44, 49, 827000, tzinfo=<UTC>),\n",
       "  'updated_time': datetime.datetime(2019, 5, 21, 2, 44, 49, 827000, tzinfo=<UTC>),\n",
       "  'restaurant_id': 5,\n",
       "  'name': '군만두',\n",
       "  'img': 'menu/2019/05/21/군만두.jpg',\n",
       "  'detail': '바삭한 쫄깃한 만두피',\n",
       "  'price': 8000,\n",
       "  'type': '튀김류',\n",
       "  'hit': 0,\n",
       "  'score': 0.0,\n",
       "  'is_recommended': False,\n",
       "  'is_yosigy': False,\n",
       "  'is_set_menu': False},\n",
       " {'id': 12,\n",
       "  'created_time': datetime.datetime(2019, 5, 21, 2, 45, 27, 959000, tzinfo=<UTC>),\n",
       "  'updated_time': datetime.datetime(2019, 5, 21, 2, 45, 27, 959000, tzinfo=<UTC>),\n",
       "  'restaurant_id': 5,\n",
       "  'name': '깐풍기',\n",
       "  'img': 'menu/2019/05/21/깐풍기.jpeg',\n",
       "  'detail': '치킨보다 맛있음',\n",
       "  'price': 15000,\n",
       "  'type': '튀김류',\n",
       "  'hit': 0,\n",
       "  'score': 0.0,\n",
       "  'is_recommended': False,\n",
       "  'is_yosigy': False,\n",
       "  'is_set_menu': False},\n",
       " {'id': 13,\n",
       "  'created_time': datetime.datetime(2019, 5, 21, 2, 45, 57, 670000, tzinfo=<UTC>),\n",
       "  'updated_time': datetime.datetime(2019, 5, 21, 2, 45, 57, 671000, tzinfo=<UTC>),\n",
       "  'restaurant_id': 5,\n",
       "  'name': '탕수육 소',\n",
       "  'img': 'menu/2019/05/21/탕수육_소.jpeg',\n",
       "  'detail': '찹쌀 반죽',\n",
       "  'price': 13000,\n",
       "  'type': '튀김류',\n",
       "  'hit': 0,\n",
       "  'score': 0.0,\n",
       "  'is_recommended': False,\n",
       "  'is_yosigy': False,\n",
       "  'is_set_menu': False},\n",
       " {'id': 14,\n",
       "  'created_time': datetime.datetime(2019, 5, 21, 2, 46, 21, 958000, tzinfo=<UTC>),\n",
       "  'updated_time': datetime.datetime(2019, 5, 21, 2, 46, 21, 958000, tzinfo=<UTC>),\n",
       "  'restaurant_id': 5,\n",
       "  'name': '탕수육 대',\n",
       "  'img': 'menu/2019/05/21/탕수육_대.jpeg',\n",
       "  'detail': '찹쌀 반죽',\n",
       "  'price': 19000,\n",
       "  'type': '튀김류',\n",
       "  'hit': 0,\n",
       "  'score': 0.0,\n",
       "  'is_recommended': False,\n",
       "  'is_yosigy': False,\n",
       "  'is_set_menu': False},\n",
       " {'id': 15,\n",
       "  'created_time': datetime.datetime(2019, 5, 29, 5, 34, 31, 745000, tzinfo=<UTC>),\n",
       "  'updated_time': datetime.datetime(2019, 5, 29, 5, 34, 31, 745000, tzinfo=<UTC>),\n",
       "  'restaurant_id': 6,\n",
       "  'name': '광어회 대',\n",
       "  'img': 'menu/2019/05/29/광어회_대.jpg',\n",
       "  'detail': '잘 먹고 잘 자란 커다란 양식 광어',\n",
       "  'price': 40000,\n",
       "  'type': '회',\n",
       "  'hit': 0,\n",
       "  'score': 0.0,\n",
       "  'is_recommended': False,\n",
       "  'is_yosigy': False,\n",
       "  'is_set_menu': False},\n",
       " {'id': 16,\n",
       "  'created_time': datetime.datetime(2019, 5, 29, 5, 35, 4, 923000, tzinfo=<UTC>),\n",
       "  'updated_time': datetime.datetime(2019, 5, 29, 5, 35, 4, 923000, tzinfo=<UTC>),\n",
       "  'restaurant_id': 6,\n",
       "  'name': '광어회 중',\n",
       "  'img': 'menu/2019/05/29/광어회_중.jpg',\n",
       "  'detail': '3명이 먹기 좋은 양',\n",
       "  'price': 32000,\n",
       "  'type': '회',\n",
       "  'hit': 0,\n",
       "  'score': 0.0,\n",
       "  'is_recommended': False,\n",
       "  'is_yosigy': False,\n",
       "  'is_set_menu': False},\n",
       " {'id': 17,\n",
       "  'created_time': datetime.datetime(2019, 5, 29, 5, 35, 28, 752000, tzinfo=<UTC>),\n",
       "  'updated_time': datetime.datetime(2019, 5, 29, 5, 35, 28, 752000, tzinfo=<UTC>),\n",
       "  'restaurant_id': 6,\n",
       "  'name': '광어회 소',\n",
       "  'img': 'menu/2019/05/29/광어회_소.jpg',\n",
       "  'detail': '가성비 좋은 회',\n",
       "  'price': 27000,\n",
       "  'type': '회',\n",
       "  'hit': 0,\n",
       "  'score': 0.0,\n",
       "  'is_recommended': False,\n",
       "  'is_yosigy': False,\n",
       "  'is_set_menu': False},\n",
       " {'id': 18,\n",
       "  'created_time': datetime.datetime(2019, 5, 29, 5, 36, 42, 146000, tzinfo=<UTC>),\n",
       "  'updated_time': datetime.datetime(2019, 5, 29, 5, 36, 42, 146000, tzinfo=<UTC>),\n",
       "  'restaurant_id': 6,\n",
       "  'name': '모듬회',\n",
       "  'img': 'menu/2019/05/29/모듬회.jpeg',\n",
       "  'detail': '연어 광어 우럭 참치 등 다양한 회를 맛볼 수 있음',\n",
       "  'price': 45000,\n",
       "  'type': '인기 메뉴',\n",
       "  'hit': 0,\n",
       "  'score': 0.0,\n",
       "  'is_recommended': False,\n",
       "  'is_yosigy': False,\n",
       "  'is_set_menu': False},\n",
       " {'id': 19,\n",
       "  'created_time': datetime.datetime(2019, 5, 29, 5, 37, 17, 605000, tzinfo=<UTC>),\n",
       "  'updated_time': datetime.datetime(2019, 5, 29, 5, 37, 17, 605000, tzinfo=<UTC>),\n",
       "  'restaurant_id': 6,\n",
       "  'name': '물회',\n",
       "  'img': 'menu/2019/05/29/물회.jpeg',\n",
       "  'detail': '물 반 고기 반',\n",
       "  'price': 9000,\n",
       "  'type': '덮밥류',\n",
       "  'hit': 0,\n",
       "  'score': 0.0,\n",
       "  'is_recommended': False,\n",
       "  'is_yosigy': False,\n",
       "  'is_set_menu': False},\n",
       " {'id': 21,\n",
       "  'created_time': datetime.datetime(2019, 5, 29, 5, 38, 14, 599000, tzinfo=<UTC>),\n",
       "  'updated_time': datetime.datetime(2019, 5, 29, 5, 38, 14, 599000, tzinfo=<UTC>),\n",
       "  'restaurant_id': 6,\n",
       "  'name': '회덮밥',\n",
       "  'img': 'menu/2019/05/29/회덮밥.jpg',\n",
       "  'detail': '쫄깃한 회와 고슬한 밥',\n",
       "  'price': 8000,\n",
       "  'type': '덮밥류',\n",
       "  'hit': 0,\n",
       "  'score': 0.0,\n",
       "  'is_recommended': False,\n",
       "  'is_yosigy': False,\n",
       "  'is_set_menu': False},\n",
       " {'id': 22,\n",
       "  'created_time': datetime.datetime(2019, 5, 30, 16, 22, 15, 40000, tzinfo=<UTC>),\n",
       "  'updated_time': datetime.datetime(2019, 5, 30, 16, 30, 23, 674000, tzinfo=<UTC>),\n",
       "  'restaurant_id': 7,\n",
       "  'name': '짬뽕',\n",
       "  'img': 'menu/2019/05/31/jjambbong.jpeg',\n",
       "  'detail': '맛있는 짬뽕',\n",
       "  'price': 6000,\n",
       "  'type': '인기메뉴',\n",
       "  'hit': 0,\n",
       "  'score': 85.0,\n",
       "  'is_recommended': False,\n",
       "  'is_yosigy': False,\n",
       "  'is_set_menu': False},\n",
       " {'id': 23,\n",
       "  'created_time': datetime.datetime(2019, 5, 30, 16, 23, 47, 212000, tzinfo=<UTC>),\n",
       "  'updated_time': datetime.datetime(2019, 5, 30, 16, 30, 17, 465000, tzinfo=<UTC>),\n",
       "  'restaurant_id': 7,\n",
       "  'name': '짜장면',\n",
       "  'img': 'menu/2019/05/31/jjajangmyun.jpg',\n",
       "  'detail': '맛있는 짜장면',\n",
       "  'price': 5000,\n",
       "  'type': '인기메뉴',\n",
       "  'hit': 0,\n",
       "  'score': 93.0,\n",
       "  'is_recommended': False,\n",
       "  'is_yosigy': False,\n",
       "  'is_set_menu': False},\n",
       " {'id': 24,\n",
       "  'created_time': datetime.datetime(2019, 5, 30, 16, 25, 22, 321000, tzinfo=<UTC>),\n",
       "  'updated_time': datetime.datetime(2019, 5, 30, 16, 30, 9, 221000, tzinfo=<UTC>),\n",
       "  'restaurant_id': 7,\n",
       "  'name': '탕수육',\n",
       "  'img': 'menu/2019/05/31/tangsuyook.jpg',\n",
       "  'detail': '맛있는 탕수육',\n",
       "  'price': 18000,\n",
       "  'type': '인기메뉴',\n",
       "  'hit': 0,\n",
       "  'score': 96.0,\n",
       "  'is_recommended': False,\n",
       "  'is_yosigy': False,\n",
       "  'is_set_menu': False},\n",
       " {'id': 25,\n",
       "  'created_time': datetime.datetime(2019, 5, 30, 16, 26, 46, 973000, tzinfo=<UTC>),\n",
       "  'updated_time': datetime.datetime(2019, 5, 30, 16, 30, 2, 927000, tzinfo=<UTC>),\n",
       "  'restaurant_id': 7,\n",
       "  'name': '깐풍기',\n",
       "  'img': 'menu/2019/05/31/gganpungi.jpg',\n",
       "  'detail': '맛있는 깐풍기',\n",
       "  'price': 19000,\n",
       "  'type': '인기메뉴',\n",
       "  'hit': 0,\n",
       "  'score': 90.0,\n",
       "  'is_recommended': False,\n",
       "  'is_yosigy': False,\n",
       "  'is_set_menu': False},\n",
       " {'id': 26,\n",
       "  'created_time': datetime.datetime(2019, 5, 30, 16, 28, 14, 344000, tzinfo=<UTC>),\n",
       "  'updated_time': datetime.datetime(2019, 5, 30, 16, 29, 57, 615000, tzinfo=<UTC>),\n",
       "  'restaurant_id': 7,\n",
       "  'name': '양장피',\n",
       "  'img': 'menu/2019/05/31/yangjangpee.jpg',\n",
       "  'detail': '맛있는 양장피',\n",
       "  'price': 25000,\n",
       "  'type': '인기메뉴',\n",
       "  'hit': 0,\n",
       "  'score': 70.0,\n",
       "  'is_recommended': False,\n",
       "  'is_yosigy': False,\n",
       "  'is_set_menu': False},\n",
       " {'id': 27,\n",
       "  'created_time': datetime.datetime(2019, 5, 30, 16, 29, 23, 533000, tzinfo=<UTC>),\n",
       "  'updated_time': datetime.datetime(2019, 5, 31, 1, 45, 56, 678000, tzinfo=<UTC>),\n",
       "  'restaurant_id': 7,\n",
       "  'name': '잡채밥',\n",
       "  'img': 'menu/2019/05/31/jabchaebob.jpg',\n",
       "  'detail': '맛있는 잡채밥',\n",
       "  'price': 7500,\n",
       "  'type': '인기메뉴',\n",
       "  'hit': 0,\n",
       "  'score': 95.0,\n",
       "  'is_recommended': False,\n",
       "  'is_yosigy': False,\n",
       "  'is_set_menu': False},\n",
       " {'id': 28,\n",
       "  'created_time': datetime.datetime(2019, 5, 31, 1, 27, 41, 982000, tzinfo=<UTC>),\n",
       "  'updated_time': datetime.datetime(2019, 5, 31, 1, 45, 50, 544000, tzinfo=<UTC>),\n",
       "  'restaurant_id': 8,\n",
       "  'name': '교촌 라이스 세트',\n",
       "  'img': 'menu/2019/05/31/kyochon_rice_set.png',\n",
       "  'detail': '쌀로 만든 궁극의 바사함, 교촌라이스세트!',\n",
       "  'price': 21000,\n",
       "  'type': '인기메뉴',\n",
       "  'hit': 0,\n",
       "  'score': 75.0,\n",
       "  'is_recommended': False,\n",
       "  'is_yosigy': False,\n",
       "  'is_set_menu': False},\n",
       " {'id': 29,\n",
       "  'created_time': datetime.datetime(2019, 5, 31, 1, 28, 45, 806000, tzinfo=<UTC>),\n",
       "  'updated_time': datetime.datetime(2019, 5, 31, 1, 45, 37, 878000, tzinfo=<UTC>),\n",
       "  'restaurant_id': 8,\n",
       "  'name': '교촌 오리지날',\n",
       "  'img': 'menu/2019/05/31/kychon_original.png',\n",
       "  'detail': '교촌만의 차별화된 마늘과 간장소스의 풍부한 맛이 어우러진 한 마리 치킨',\n",
       "  'price': 15000,\n",
       "  'type': '인기메뉴',\n",
       "  'hit': 0,\n",
       "  'score': 88.0,\n",
       "  'is_recommended': False,\n",
       "  'is_yosigy': False,\n",
       "  'is_set_menu': False},\n",
       " {'id': 30,\n",
       "  'created_time': datetime.datetime(2019, 5, 31, 1, 29, 46, 920000, tzinfo=<UTC>),\n",
       "  'updated_time': datetime.datetime(2019, 5, 31, 1, 45, 37, 883000, tzinfo=<UTC>),\n",
       "  'restaurant_id': 8,\n",
       "  'name': '교촌콤보',\n",
       "  'img': 'menu/2019/05/31/브랜드_list_15-10-231103.png',\n",
       "  'detail': '마늘과 간장소스의 풍부한 맛에 가장 인기있는 부위인 날개와 다리를 함께 즐길 수 있는 메뉴',\n",
       "  'price': 17000,\n",
       "  'type': '인기메뉴',\n",
       "  'hit': 0,\n",
       "  'score': 89.0,\n",
       "  'is_recommended': False,\n",
       "  'is_yosigy': False,\n",
       "  'is_set_menu': False},\n",
       " {'id': 31,\n",
       "  'created_time': datetime.datetime(2019, 5, 31, 1, 38, 0, 941000, tzinfo=<UTC>),\n",
       "  'updated_time': datetime.datetime(2019, 5, 31, 2, 6, 3, 143000, tzinfo=<UTC>),\n",
       "  'restaurant_id': 8,\n",
       "  'name': '교촌레드스틱',\n",
       "  'img': 'menu/2019/05/31/kyochon_red_stick.png',\n",
       "  'detail': '국내산 청양 홍고추의 매콤함에 담백한 다리의 맛이 어우러진 치킨',\n",
       "  'price': 18000,\n",
       "  'type': '인기메뉴',\n",
       "  'hit': 0,\n",
       "  'score': 85.0,\n",
       "  'is_recommended': False,\n",
       "  'is_yosigy': False,\n",
       "  'is_set_menu': False},\n",
       " {'id': 32,\n",
       "  'created_time': datetime.datetime(2019, 5, 31, 1, 39, 52, 716000, tzinfo=<UTC>),\n",
       "  'updated_time': datetime.datetime(2019, 5, 31, 1, 45, 37, 869000, tzinfo=<UTC>),\n",
       "  'restaurant_id': 8,\n",
       "  'name': '교촌레드콤보',\n",
       "  'img': 'menu/2019/05/31/kychon_red_combo.png',\n",
       "  'detail': '국내산 청양 홍고추의 매콤한 맛에 날개와 다리를 함께 즐길 수 있는 메뉴',\n",
       "  'price': 18000,\n",
       "  'type': '인기메뉴',\n",
       "  'hit': 0,\n",
       "  'score': 87.0,\n",
       "  'is_recommended': False,\n",
       "  'is_yosigy': False,\n",
       "  'is_set_menu': False},\n",
       " {'id': 34,\n",
       "  'created_time': datetime.datetime(2019, 5, 31, 1, 55, 13, 194000, tzinfo=<UTC>),\n",
       "  'updated_time': datetime.datetime(2019, 5, 31, 1, 57, 53, 900000, tzinfo=<UTC>),\n",
       "  'restaurant_id': 9,\n",
       "  'name': '튀김만두',\n",
       "  'img': 'menu/2019/05/31/sinjeon_fried_mandu.png',\n",
       "  'detail': '튀김만두',\n",
       "  'price': 6000,\n",
       "  'type': '인기메뉴',\n",
       "  'hit': 0,\n",
       "  'score': 78.0,\n",
       "  'is_recommended': False,\n",
       "  'is_yosigy': False,\n",
       "  'is_set_menu': False},\n",
       " {'id': 35,\n",
       "  'created_time': datetime.datetime(2019, 5, 31, 1, 56, 41, 338000, tzinfo=<UTC>),\n",
       "  'updated_time': datetime.datetime(2019, 5, 31, 1, 57, 53, 897000, tzinfo=<UTC>),\n",
       "  'restaurant_id': 9,\n",
       "  'name': '신전치즈김밥',\n",
       "  'img': 'menu/2019/05/31/sinjeon_cheese_kimbob.png',\n",
       "  'detail': '맛있는 신전치즈김밥',\n",
       "  'price': 8000,\n",
       "  'type': '인기메뉴',\n",
       "  'hit': 0,\n",
       "  'score': 79.0,\n",
       "  'is_recommended': False,\n",
       "  'is_yosigy': False,\n",
       "  'is_set_menu': False},\n",
       " {'id': 36,\n",
       "  'created_time': datetime.datetime(2019, 5, 31, 1, 57, 32, 844000, tzinfo=<UTC>),\n",
       "  'updated_time': datetime.datetime(2019, 5, 31, 1, 57, 53, 893000, tzinfo=<UTC>),\n",
       "  'restaurant_id': 9,\n",
       "  'name': '신전라이스',\n",
       "  'img': 'menu/2019/05/31/sinjeon_rice.png',\n",
       "  'detail': '맛있는 신전라이스',\n",
       "  'price': 8000,\n",
       "  'type': '인기메뉴',\n",
       "  'hit': 0,\n",
       "  'score': 82.0,\n",
       "  'is_recommended': False,\n",
       "  'is_yosigy': False,\n",
       "  'is_set_menu': False},\n",
       " {'id': 33,\n",
       "  'created_time': datetime.datetime(2019, 5, 31, 1, 53, 56, 895000, tzinfo=<UTC>),\n",
       "  'updated_time': datetime.datetime(2019, 6, 7, 2, 41, 55, 622507, tzinfo=<UTC>),\n",
       "  'restaurant_id': 9,\n",
       "  'name': '떡볶이',\n",
       "  'img': 'menu/2019/05/31/sinjeon_ddeokboke.png',\n",
       "  'detail': '맛있는 떡볶이',\n",
       "  'price': 16000,\n",
       "  'type': '인기메뉴',\n",
       "  'hit': 0,\n",
       "  'score': 85.0,\n",
       "  'is_recommended': False,\n",
       "  'is_yosigy': False,\n",
       "  'is_set_menu': False}]"
      ]
     },
     "execution_count": 2,
     "metadata": {},
     "output_type": "execute_result"
    }
   ],
   "source": [
    "list(Menu.objects.all().values())"
   ]
  },
  {
   "cell_type": "code",
   "execution_count": 23,
   "metadata": {},
   "outputs": [
    {
     "name": "stderr",
     "output_type": "stream",
     "text": [
      "(0.001) SELECT \"menu_menu\".\"id\" FROM \"restaurant_restaurant\" LEFT OUTER JOIN \"menu_menu\" ON (\"restaurant_restaurant\".\"id\" = \"menu_menu\".\"restaurant_id\") WHERE \"restaurant_restaurant\".\"id\" = 9; args=(9,)\n"
     ]
    },
    {
     "data": {
      "text/plain": [
       "[36, 35, 34, 33]"
      ]
     },
     "execution_count": 23,
     "metadata": {},
     "output_type": "execute_result"
    }
   ],
   "source": [
    "from restaurant.models import Restaurant\n",
    "restaurant_obj = Restaurant.objects.filter(id=9)\n",
    "restaurant_menus = [menu['menu']for menu in list(restaurant_obj.values('menu'))]\n",
    "restaurant_menus "
   ]
  },
  {
   "cell_type": "code",
   "execution_count": 22,
   "metadata": {},
   "outputs": [
    {
     "data": {
      "text/plain": [
       "[36, 35, 34, 33]"
      ]
     },
     "execution_count": 22,
     "metadata": {},
     "output_type": "execute_result"
    }
   ],
   "source": [
    "menus "
   ]
  },
  {
   "cell_type": "code",
   "execution_count": 24,
   "metadata": {},
   "outputs": [
    {
     "ename": "TypeError",
     "evalue": "cannot convert dictionary update sequence element #0 to a sequence",
     "output_type": "error",
     "traceback": [
      "\u001b[0;31m---------------------------------------------------------------------------\u001b[0m",
      "\u001b[0;31mTypeError\u001b[0m                                 Traceback (most recent call last)",
      "\u001b[0;32m<ipython-input-24-8e09c2d574d6>\u001b[0m in \u001b[0;36m<module>\u001b[0;34m\u001b[0m\n\u001b[0;32m----> 1\u001b[0;31m \u001b[0mdict\u001b[0m\u001b[0;34m(\u001b[0m\u001b[0mmenus\u001b[0m\u001b[0;34m)\u001b[0m\u001b[0;34m\u001b[0m\u001b[0;34m\u001b[0m\u001b[0m\n\u001b[0m",
      "\u001b[0;31mTypeError\u001b[0m: cannot convert dictionary update sequence element #0 to a sequence"
     ]
    }
   ],
   "source": [
    "dict(menus)"
   ]
  },
  {
   "cell_type": "code",
   "execution_count": 26,
   "metadata": {},
   "outputs": [],
   "source": [
    "menu_list =[{\"id\": \"36\", \"discounted_price\": \"17800\"}, {\"id\": \"35\", \"discounted_price\": \"17900\"}]"
   ]
  },
  {
   "cell_type": "code",
   "execution_count": 29,
   "metadata": {},
   "outputs": [
    {
     "ename": "SyntaxError",
     "evalue": "invalid syntax (<ipython-input-29-b15cada210ab>, line 1)",
     "output_type": "error",
     "traceback": [
      "\u001b[0;36m  File \u001b[0;32m\"<ipython-input-29-b15cada210ab>\"\u001b[0;36m, line \u001b[0;32m1\u001b[0m\n\u001b[0;31m    dict(menu_list:menu_list.values())\u001b[0m\n\u001b[0m                  ^\u001b[0m\n\u001b[0;31mSyntaxError\u001b[0m\u001b[0;31m:\u001b[0m invalid syntax\n"
     ]
    }
   ],
   "source": [
    "for menu in menu_list:\n",
    "    menu_ids = "
   ]
  },
  {
   "cell_type": "code",
   "execution_count": 31,
   "metadata": {},
   "outputs": [
    {
     "name": "stderr",
     "output_type": "stream",
     "text": [
      "(0.001) SELECT \"restaurant_restaurant\".\"id\", \"restaurant_restaurant\".\"created_time\", \"restaurant_restaurant\".\"updated_time\", \"restaurant_restaurant\".\"name\", \"restaurant_restaurant\".\"owner\", \"restaurant_restaurant\".\"store_owner_id\", \"restaurant_restaurant\".\"title\", \"restaurant_restaurant\".\"img\", \"restaurant_restaurant\".\"tel\", \"restaurant_restaurant\".\"min_order_price\", \"restaurant_restaurant\".\"order_way\", \"restaurant_restaurant\".\"origin\", \"restaurant_restaurant\".\"delivery_charge\", \"restaurant_restaurant\".\"info\", \"restaurant_restaurant\".\"event\", \"restaurant_restaurant\".\"event_img\", \"restaurant_restaurant\".\"type\", \"restaurant_restaurant\".\"estimated_delivery_time\", \"restaurant_restaurant\".\"operation_start_hour\", \"restaurant_restaurant\".\"operation_end_hour\", \"restaurant_restaurant\".\"is_yosigy\" FROM \"restaurant_restaurant\" WHERE \"restaurant_restaurant\".\"id\" = 9; args=(9,)\n"
     ]
    }
   ],
   "source": [
    "res=Restaurant.objects.get(pk=9)"
   ]
  },
  {
   "cell_type": "code",
   "execution_count": 46,
   "metadata": {},
   "outputs": [
    {
     "name": "stderr",
     "output_type": "stream",
     "text": [
      "(0.001) SELECT \"menu_menu\".\"id\", \"menu_menu\".\"price\" FROM \"menu_menu\" WHERE \"menu_menu\".\"restaurant_id\" = 9; args=(9,)\n"
     ]
    }
   ],
   "source": [
    "menu_list =list(res.menu_set.all().values('id','price'))"
   ]
  },
  {
   "cell_type": "code",
   "execution_count": 41,
   "metadata": {},
   "outputs": [
    {
     "name": "stderr",
     "output_type": "stream",
     "text": [
      "(0.001) SELECT \"accounts_user\".\"id\", \"accounts_user\".\"password\", \"accounts_user\".\"last_login\", \"accounts_user\".\"is_superuser\", \"accounts_user\".\"username\", \"accounts_user\".\"first_name\", \"accounts_user\".\"last_name\", \"accounts_user\".\"email\", \"accounts_user\".\"is_staff\", \"accounts_user\".\"is_active\", \"accounts_user\".\"date_joined\", \"accounts_user\".\"phone\", \"accounts_user\".\"address\", \"accounts_user\".\"address_detail\", \"accounts_user\".\"user_type\", \"accounts_user\".\"deactivate_date\" FROM \"accounts_user\" WHERE \"accounts_user\".\"username\" = 'admin'; args=('admin',)\n",
      "(0.001) SELECT \"restaurant_restaurant\".\"id\", \"restaurant_restaurant\".\"created_time\", \"restaurant_restaurant\".\"updated_time\", \"restaurant_restaurant\".\"name\", \"restaurant_restaurant\".\"owner\", \"restaurant_restaurant\".\"store_owner_id\", \"restaurant_restaurant\".\"title\", \"restaurant_restaurant\".\"img\", \"restaurant_restaurant\".\"tel\", \"restaurant_restaurant\".\"min_order_price\", \"restaurant_restaurant\".\"order_way\", \"restaurant_restaurant\".\"origin\", \"restaurant_restaurant\".\"delivery_charge\", \"restaurant_restaurant\".\"info\", \"restaurant_restaurant\".\"event\", \"restaurant_restaurant\".\"event_img\", \"restaurant_restaurant\".\"type\", \"restaurant_restaurant\".\"estimated_delivery_time\", \"restaurant_restaurant\".\"operation_start_hour\", \"restaurant_restaurant\".\"operation_end_hour\", \"restaurant_restaurant\".\"is_yosigy\" FROM \"restaurant_restaurant\" WHERE (\"restaurant_restaurant\".\"id\" = 9 AND \"restaurant_restaurant\".\"store_owner_id\" = 1); args=(9, 1)\n"
     ]
    }
   ],
   "source": [
    "user = User.objects.get(username='admin')\n",
    "res =Restaurant.objects.get(id=9, store_owner=user)"
   ]
  },
  {
   "cell_type": "code",
   "execution_count": 49,
   "metadata": {},
   "outputs": [
    {
     "data": {
      "text/plain": [
       "36"
      ]
     },
     "execution_count": 49,
     "metadata": {},
     "output_type": "execute_result"
    }
   ],
   "source": [
    "menu_list[0]['id']"
   ]
  },
  {
   "cell_type": "code",
   "execution_count": 51,
   "metadata": {},
   "outputs": [
    {
     "data": {
      "text/plain": [
       "7800"
      ]
     },
     "execution_count": 51,
     "metadata": {},
     "output_type": "execute_result"
    }
   ],
   "source": [
    "menu_list[0]['price']-200"
   ]
  },
  {
   "cell_type": "code",
   "execution_count": 62,
   "metadata": {},
   "outputs": [
    {
     "name": "stderr",
     "output_type": "stream",
     "text": [
      "(0.001) SELECT \"accounts_user\".\"id\", \"accounts_user\".\"password\", \"accounts_user\".\"last_login\", \"accounts_user\".\"is_superuser\", \"accounts_user\".\"username\", \"accounts_user\".\"first_name\", \"accounts_user\".\"last_name\", \"accounts_user\".\"email\", \"accounts_user\".\"is_staff\", \"accounts_user\".\"is_active\", \"accounts_user\".\"date_joined\", \"accounts_user\".\"phone\", \"accounts_user\".\"address\", \"accounts_user\".\"address_detail\", \"accounts_user\".\"user_type\", \"accounts_user\".\"deactivate_date\" FROM \"accounts_user\" WHERE \"accounts_user\".\"username\" = 'admin'; args=('admin',)\n"
     ]
    }
   ],
   "source": [
    "user = User.objects.get(username='admin')\n",
    "subscribed_restaurants = user.subscribed_restaurants.values('id')\n"
   ]
  },
  {
   "cell_type": "code",
   "execution_count": 74,
   "metadata": {},
   "outputs": [],
   "source": [
    "subscribed_restaurants_ids = [restaurant['id'] for restaurant in subscribed_restaurants]\n",
    "timeline_qs =(RestaurantTimeline.objects\n",
    "            .select_related('restaurant', 'yosigy')\n",
    "            .filter(restaurant_id__in=subscribed_restaurants_ids).order_by('-created_time'))"
   ]
  },
  {
   "cell_type": "code",
   "execution_count": 76,
   "metadata": {},
   "outputs": [],
   "source": [
    "timeline_values = (\n",
    "        timeline_qs\n",
    "        .annotate(\n",
    "            restaurant_title=F('restaurant__title'),\n",
    "            restaurant_name=F('restaurant__name'),\n",
    "            restaurant_img=F('restaurant__img'),\n",
    "            min_price=F('restaurant__min_order_price'),\n",
    "            delivery_charge=F('restaurant__delivery_charge'),\n",
    "            like_count=Count('like')\n",
    "        ).values())"
   ]
  },
  {
   "cell_type": "code",
   "execution_count": 77,
   "metadata": {},
   "outputs": [
    {
     "name": "stderr",
     "output_type": "stream",
     "text": [
      "(0.001) SELECT \"restaurant_restauranttimeline\".\"id\", \"restaurant_restauranttimeline\".\"created_time\", \"restaurant_restauranttimeline\".\"updated_time\", \"restaurant_restauranttimeline\".\"restaurant_id\", \"restaurant_restauranttimeline\".\"status\", \"restaurant_restauranttimeline\".\"changed_data\", \"restaurant_restauranttimeline\".\"changed_img\", \"restaurant_restauranttimeline\".\"prior_info\", \"restaurant_restauranttimeline\".\"post_info\", \"restaurant_restauranttimeline\".\"timeline_type\", \"restaurant_restauranttimeline\".\"changed_field\", \"restaurant_restauranttimeline\".\"yosigy_id\", \"restaurant_restaurant\".\"title\" AS \"restaurant_title\", \"restaurant_restaurant\".\"name\" AS \"restaurant_name\", \"restaurant_restaurant\".\"img\" AS \"restaurant_img\", \"restaurant_restaurant\".\"min_order_price\" AS \"min_price\", \"restaurant_restaurant\".\"delivery_charge\" AS \"delivery_charge\", COUNT(\"restaurant_restauranttimeline_like\".\"user_id\") AS \"like_count\" FROM \"restaurant_restauranttimeline\" INNER JOIN \"restaurant_restaurant\" ON (\"restaurant_restauranttimeline\".\"restaurant_id\" = \"restaurant_restaurant\".\"id\") LEFT OUTER JOIN \"restaurant_restauranttimeline_like\" ON (\"restaurant_restauranttimeline\".\"id\" = \"restaurant_restauranttimeline_like\".\"restauranttimeline_id\") WHERE \"restaurant_restauranttimeline\".\"restaurant_id\" IN (9, 1, 5) GROUP BY \"restaurant_restauranttimeline\".\"id\", \"restaurant_restaurant\".\"title\", \"restaurant_restaurant\".\"name\", \"restaurant_restaurant\".\"img\", \"restaurant_restaurant\".\"min_order_price\", \"restaurant_restaurant\".\"delivery_charge\" ORDER BY \"restaurant_restauranttimeline\".\"created_time\" DESC; args=(9, 1, 5)\n"
     ]
    },
    {
     "data": {
      "text/plain": [
       "[{'id': 56,\n",
       "  'created_time': datetime.datetime(2019, 6, 18, 3, 25, 8, 682189, tzinfo=<UTC>),\n",
       "  'updated_time': datetime.datetime(2019, 6, 18, 3, 25, 8, 682208, tzinfo=<UTC>),\n",
       "  'restaurant_id': 5,\n",
       "  'status': 1,\n",
       "  'changed_data': '',\n",
       "  'changed_img': '',\n",
       "  'prior_info': '',\n",
       "  'post_info': '',\n",
       "  'timeline_type': 5,\n",
       "  'changed_field': '요식이 식권 이벤트',\n",
       "  'yosigy_id': 54,\n",
       "  'restaurant_title': '홍콩반점-서초점',\n",
       "  'restaurant_name': '홍콩반점',\n",
       "  'restaurant_img': 'restaurant/2019/05/21/홍콩반점.jpeg',\n",
       "  'min_price': 10000,\n",
       "  'delivery_charge': 2000,\n",
       "  'like_count': 0},\n",
       " {'id': 13,\n",
       "  'created_time': datetime.datetime(2019, 6, 14, 2, 31, 31, 416737, tzinfo=<UTC>),\n",
       "  'updated_time': datetime.datetime(2019, 6, 14, 2, 33, 8, 655835, tzinfo=<UTC>),\n",
       "  'restaurant_id': 1,\n",
       "  'status': 2,\n",
       "  'changed_data': '배달 이벤트 시작합니다!! 두둥!!',\n",
       "  'changed_img': 'timeline/2019/06/14/1559264402767.jpg',\n",
       "  'prior_info': '',\n",
       "  'post_info': '',\n",
       "  'timeline_type': 2,\n",
       "  'changed_field': 'owner',\n",
       "  'yosigy_id': None,\n",
       "  'restaurant_title': '굽네치킨-서초점',\n",
       "  'restaurant_name': '굽네치킨',\n",
       "  'restaurant_img': 'restaurant/2019/05/05/굽네치킨.jpg',\n",
       "  'min_price': 17000,\n",
       "  'delivery_charge': 2000,\n",
       "  'like_count': 0},\n",
       " {'id': 12,\n",
       "  'created_time': datetime.datetime(2019, 6, 14, 2, 31, 31, 406860, tzinfo=<UTC>),\n",
       "  'updated_time': datetime.datetime(2019, 6, 14, 2, 33, 29, 925578, tzinfo=<UTC>),\n",
       "  'restaurant_id': 1,\n",
       "  'status': 2,\n",
       "  'changed_data': '신메뉴가 출시되었습니다.',\n",
       "  'changed_img': '',\n",
       "  'prior_info': '',\n",
       "  'post_info': '',\n",
       "  'timeline_type': 1,\n",
       "  'changed_field': 'owner',\n",
       "  'yosigy_id': None,\n",
       "  'restaurant_title': '굽네치킨-서초점',\n",
       "  'restaurant_name': '굽네치킨',\n",
       "  'restaurant_img': 'restaurant/2019/05/05/굽네치킨.jpg',\n",
       "  'min_price': 17000,\n",
       "  'delivery_charge': 2000,\n",
       "  'like_count': 0},\n",
       " {'id': 10,\n",
       "  'created_time': datetime.datetime(2019, 6, 14, 2, 25, 9, 632413, tzinfo=<UTC>),\n",
       "  'updated_time': datetime.datetime(2019, 6, 14, 2, 25, 9, 632440, tzinfo=<UTC>),\n",
       "  'restaurant_id': 9,\n",
       "  'status': 2,\n",
       "  'changed_data': '',\n",
       "  'changed_img': '',\n",
       "  'prior_info': '15:20-17:20',\n",
       "  'post_info': '16:20-17:20',\n",
       "  'timeline_type': 3,\n",
       "  'changed_field': '운영시간',\n",
       "  'yosigy_id': None,\n",
       "  'restaurant_title': '신전 떡볶이 한양대점',\n",
       "  'restaurant_name': '신전 떡볶이',\n",
       "  'restaurant_img': 'restaurant/2019/06/13/1559264402767_LJRpwkr.jpg',\n",
       "  'min_price': 15000,\n",
       "  'delivery_charge': 2000,\n",
       "  'like_count': 0}]"
      ]
     },
     "execution_count": 77,
     "metadata": {},
     "output_type": "execute_result"
    }
   ],
   "source": [
    "list(timeline_values)"
   ]
  },
  {
   "cell_type": "code",
   "execution_count": 10,
   "metadata": {},
   "outputs": [
    {
     "name": "stderr",
     "output_type": "stream",
     "text": [
      "(0.001) SELECT \"accounts_user\".\"id\", \"accounts_user\".\"password\", \"accounts_user\".\"last_login\", \"accounts_user\".\"is_superuser\", \"accounts_user\".\"username\", \"accounts_user\".\"first_name\", \"accounts_user\".\"last_name\", \"accounts_user\".\"email\", \"accounts_user\".\"is_staff\", \"accounts_user\".\"is_active\", \"accounts_user\".\"date_joined\", \"accounts_user\".\"phone\", \"accounts_user\".\"address\", \"accounts_user\".\"address_detail\", \"accounts_user\".\"user_type\", \"accounts_user\".\"deactivate_date\" FROM \"accounts_user\" WHERE \"accounts_user\".\"username\" = 'admin'; args=('admin',)\n"
     ]
    }
   ],
   "source": [
    "user = User.objects.get(username='admin')\n"
   ]
  },
  {
   "cell_type": "code",
   "execution_count": 14,
   "metadata": {},
   "outputs": [
    {
     "name": "stderr",
     "output_type": "stream",
     "text": [
      "(0.001) SELECT \"yosigy_ticketpayment\".\"id\", \"yosigy_ticketpayment\".\"created_time\", \"yosigy_ticketpayment\".\"updated_time\", \"yosigy_ticketpayment\".\"user_id\", \"yosigy_ticketpayment\".\"total_price\", COUNT(\"yosigy_ticketpayment_yosigy_ticket\".\"yosigyticket_id\") AS \"ticket_num\" FROM \"yosigy_ticketpayment\" LEFT OUTER JOIN \"yosigy_ticketpayment_yosigy_ticket\" ON (\"yosigy_ticketpayment\".\"id\" = \"yosigy_ticketpayment_yosigy_ticket\".\"ticketpayment_id\") WHERE \"yosigy_ticketpayment\".\"user_id\" = 1 GROUP BY \"yosigy_ticketpayment\".\"id\" ORDER BY \"yosigy_ticketpayment\".\"created_time\" DESC; args=(1,)\n"
     ]
    },
    {
     "data": {
      "text/plain": [
       "[{'id': 2,\n",
       "  'created_time': datetime.datetime(2019, 6, 18, 7, 8, 42, 257140, tzinfo=<UTC>),\n",
       "  'updated_time': datetime.datetime(2019, 6, 18, 8, 21, 41, 733140, tzinfo=<UTC>),\n",
       "  'user_id': 1,\n",
       "  'total_price': 0,\n",
       "  'ticket_num': 2}]"
      ]
     },
     "execution_count": 14,
     "metadata": {},
     "output_type": "execute_result"
    }
   ],
   "source": [
    "from django.db.models import Count\n",
    "list(user.ticketpayment_set.select_related('yosigy_ticket').all().annotate(ticket_num = Count('yosigy_ticket')).order_by('-created_time').values())"
   ]
  },
  {
   "cell_type": "code",
   "execution_count": 1,
   "metadata": {},
   "outputs": [
    {
     "name": "stderr",
     "output_type": "stream",
     "text": [
      "(0.002) SELECT \"accounts_user\".\"id\", \"accounts_user\".\"password\", \"accounts_user\".\"last_login\", \"accounts_user\".\"is_superuser\", \"accounts_user\".\"username\", \"accounts_user\".\"first_name\", \"accounts_user\".\"last_name\", \"accounts_user\".\"email\", \"accounts_user\".\"is_staff\", \"accounts_user\".\"is_active\", \"accounts_user\".\"date_joined\", \"accounts_user\".\"phone\", \"accounts_user\".\"address\", \"accounts_user\".\"address_detail\", \"accounts_user\".\"user_type\", \"accounts_user\".\"deactivate_date\" FROM \"accounts_user\" WHERE \"accounts_user\".\"username\" = 'admin'; args=('admin',)\n"
     ]
    }
   ],
   "source": [
    "user = User.objects.get(username='admin')\n"
   ]
  },
  {
   "cell_type": "code",
   "execution_count": 4,
   "metadata": {},
   "outputs": [
    {
     "ename": "FieldError",
     "evalue": "Invalid field name(s) given in select_related: 'yosigy_ticket'. Choices are: user",
     "output_type": "error",
     "traceback": [
      "\u001b[0;31m---------------------------------------------------------------------------\u001b[0m",
      "\u001b[0;31mFieldError\u001b[0m                                Traceback (most recent call last)",
      "\u001b[0;32m~/Desktop/rookiehero/project/venv/lib/python3.7/site-packages/IPython/core/formatters.py\u001b[0m in \u001b[0;36m__call__\u001b[0;34m(self, obj)\u001b[0m\n\u001b[1;32m    700\u001b[0m                 \u001b[0mtype_pprinters\u001b[0m\u001b[0;34m=\u001b[0m\u001b[0mself\u001b[0m\u001b[0;34m.\u001b[0m\u001b[0mtype_printers\u001b[0m\u001b[0;34m,\u001b[0m\u001b[0;34m\u001b[0m\u001b[0;34m\u001b[0m\u001b[0m\n\u001b[1;32m    701\u001b[0m                 deferred_pprinters=self.deferred_printers)\n\u001b[0;32m--> 702\u001b[0;31m             \u001b[0mprinter\u001b[0m\u001b[0;34m.\u001b[0m\u001b[0mpretty\u001b[0m\u001b[0;34m(\u001b[0m\u001b[0mobj\u001b[0m\u001b[0;34m)\u001b[0m\u001b[0;34m\u001b[0m\u001b[0;34m\u001b[0m\u001b[0m\n\u001b[0m\u001b[1;32m    703\u001b[0m             \u001b[0mprinter\u001b[0m\u001b[0;34m.\u001b[0m\u001b[0mflush\u001b[0m\u001b[0;34m(\u001b[0m\u001b[0;34m)\u001b[0m\u001b[0;34m\u001b[0m\u001b[0;34m\u001b[0m\u001b[0m\n\u001b[1;32m    704\u001b[0m             \u001b[0;32mreturn\u001b[0m \u001b[0mstream\u001b[0m\u001b[0;34m.\u001b[0m\u001b[0mgetvalue\u001b[0m\u001b[0;34m(\u001b[0m\u001b[0;34m)\u001b[0m\u001b[0;34m\u001b[0m\u001b[0;34m\u001b[0m\u001b[0m\n",
      "\u001b[0;32m~/Desktop/rookiehero/project/venv/lib/python3.7/site-packages/IPython/lib/pretty.py\u001b[0m in \u001b[0;36mpretty\u001b[0;34m(self, obj)\u001b[0m\n\u001b[1;32m    400\u001b[0m                         \u001b[0;32mif\u001b[0m \u001b[0mcls\u001b[0m \u001b[0;32mis\u001b[0m \u001b[0;32mnot\u001b[0m \u001b[0mobject\u001b[0m\u001b[0;31m \u001b[0m\u001b[0;31m\\\u001b[0m\u001b[0;34m\u001b[0m\u001b[0;34m\u001b[0m\u001b[0m\n\u001b[1;32m    401\u001b[0m                                 \u001b[0;32mand\u001b[0m \u001b[0mcallable\u001b[0m\u001b[0;34m(\u001b[0m\u001b[0mcls\u001b[0m\u001b[0;34m.\u001b[0m\u001b[0m__dict__\u001b[0m\u001b[0;34m.\u001b[0m\u001b[0mget\u001b[0m\u001b[0;34m(\u001b[0m\u001b[0;34m'__repr__'\u001b[0m\u001b[0;34m)\u001b[0m\u001b[0;34m)\u001b[0m\u001b[0;34m:\u001b[0m\u001b[0;34m\u001b[0m\u001b[0;34m\u001b[0m\u001b[0m\n\u001b[0;32m--> 402\u001b[0;31m                             \u001b[0;32mreturn\u001b[0m \u001b[0m_repr_pprint\u001b[0m\u001b[0;34m(\u001b[0m\u001b[0mobj\u001b[0m\u001b[0;34m,\u001b[0m \u001b[0mself\u001b[0m\u001b[0;34m,\u001b[0m \u001b[0mcycle\u001b[0m\u001b[0;34m)\u001b[0m\u001b[0;34m\u001b[0m\u001b[0;34m\u001b[0m\u001b[0m\n\u001b[0m\u001b[1;32m    403\u001b[0m \u001b[0;34m\u001b[0m\u001b[0m\n\u001b[1;32m    404\u001b[0m             \u001b[0;32mreturn\u001b[0m \u001b[0m_default_pprint\u001b[0m\u001b[0;34m(\u001b[0m\u001b[0mobj\u001b[0m\u001b[0;34m,\u001b[0m \u001b[0mself\u001b[0m\u001b[0;34m,\u001b[0m \u001b[0mcycle\u001b[0m\u001b[0;34m)\u001b[0m\u001b[0;34m\u001b[0m\u001b[0;34m\u001b[0m\u001b[0m\n",
      "\u001b[0;32m~/Desktop/rookiehero/project/venv/lib/python3.7/site-packages/IPython/lib/pretty.py\u001b[0m in \u001b[0;36m_repr_pprint\u001b[0;34m(obj, p, cycle)\u001b[0m\n\u001b[1;32m    695\u001b[0m     \u001b[0;34m\"\"\"A pprint that just redirects to the normal repr function.\"\"\"\u001b[0m\u001b[0;34m\u001b[0m\u001b[0;34m\u001b[0m\u001b[0m\n\u001b[1;32m    696\u001b[0m     \u001b[0;31m# Find newlines and replace them with p.break_()\u001b[0m\u001b[0;34m\u001b[0m\u001b[0;34m\u001b[0m\u001b[0;34m\u001b[0m\u001b[0m\n\u001b[0;32m--> 697\u001b[0;31m     \u001b[0moutput\u001b[0m \u001b[0;34m=\u001b[0m \u001b[0mrepr\u001b[0m\u001b[0;34m(\u001b[0m\u001b[0mobj\u001b[0m\u001b[0;34m)\u001b[0m\u001b[0;34m\u001b[0m\u001b[0;34m\u001b[0m\u001b[0m\n\u001b[0m\u001b[1;32m    698\u001b[0m     \u001b[0;32mfor\u001b[0m \u001b[0midx\u001b[0m\u001b[0;34m,\u001b[0m\u001b[0moutput_line\u001b[0m \u001b[0;32min\u001b[0m \u001b[0menumerate\u001b[0m\u001b[0;34m(\u001b[0m\u001b[0moutput\u001b[0m\u001b[0;34m.\u001b[0m\u001b[0msplitlines\u001b[0m\u001b[0;34m(\u001b[0m\u001b[0;34m)\u001b[0m\u001b[0;34m)\u001b[0m\u001b[0;34m:\u001b[0m\u001b[0;34m\u001b[0m\u001b[0;34m\u001b[0m\u001b[0m\n\u001b[1;32m    699\u001b[0m         \u001b[0;32mif\u001b[0m \u001b[0midx\u001b[0m\u001b[0;34m:\u001b[0m\u001b[0;34m\u001b[0m\u001b[0;34m\u001b[0m\u001b[0m\n",
      "\u001b[0;32m~/Desktop/rookiehero/project/venv/lib/python3.7/site-packages/django/db/models/query.py\u001b[0m in \u001b[0;36m__repr__\u001b[0;34m(self)\u001b[0m\n\u001b[1;32m    242\u001b[0m \u001b[0;34m\u001b[0m\u001b[0m\n\u001b[1;32m    243\u001b[0m     \u001b[0;32mdef\u001b[0m \u001b[0m__repr__\u001b[0m\u001b[0;34m(\u001b[0m\u001b[0mself\u001b[0m\u001b[0;34m)\u001b[0m\u001b[0;34m:\u001b[0m\u001b[0;34m\u001b[0m\u001b[0;34m\u001b[0m\u001b[0m\n\u001b[0;32m--> 244\u001b[0;31m         \u001b[0mdata\u001b[0m \u001b[0;34m=\u001b[0m \u001b[0mlist\u001b[0m\u001b[0;34m(\u001b[0m\u001b[0mself\u001b[0m\u001b[0;34m[\u001b[0m\u001b[0;34m:\u001b[0m\u001b[0mREPR_OUTPUT_SIZE\u001b[0m \u001b[0;34m+\u001b[0m \u001b[0;36m1\u001b[0m\u001b[0;34m]\u001b[0m\u001b[0;34m)\u001b[0m\u001b[0;34m\u001b[0m\u001b[0;34m\u001b[0m\u001b[0m\n\u001b[0m\u001b[1;32m    245\u001b[0m         \u001b[0;32mif\u001b[0m \u001b[0mlen\u001b[0m\u001b[0;34m(\u001b[0m\u001b[0mdata\u001b[0m\u001b[0;34m)\u001b[0m \u001b[0;34m>\u001b[0m \u001b[0mREPR_OUTPUT_SIZE\u001b[0m\u001b[0;34m:\u001b[0m\u001b[0;34m\u001b[0m\u001b[0;34m\u001b[0m\u001b[0m\n\u001b[1;32m    246\u001b[0m             \u001b[0mdata\u001b[0m\u001b[0;34m[\u001b[0m\u001b[0;34m-\u001b[0m\u001b[0;36m1\u001b[0m\u001b[0;34m]\u001b[0m \u001b[0;34m=\u001b[0m \u001b[0;34m\"...(remaining elements truncated)...\"\u001b[0m\u001b[0;34m\u001b[0m\u001b[0;34m\u001b[0m\u001b[0m\n",
      "\u001b[0;32m~/Desktop/rookiehero/project/venv/lib/python3.7/site-packages/django/db/models/query.py\u001b[0m in \u001b[0;36m__iter__\u001b[0;34m(self)\u001b[0m\n\u001b[1;32m    266\u001b[0m                \u001b[0;34m-\u001b[0m \u001b[0mResponsible\u001b[0m \u001b[0;32mfor\u001b[0m \u001b[0mturning\u001b[0m \u001b[0mthe\u001b[0m \u001b[0mrows\u001b[0m \u001b[0minto\u001b[0m \u001b[0mmodel\u001b[0m \u001b[0mobjects\u001b[0m\u001b[0;34m.\u001b[0m\u001b[0;34m\u001b[0m\u001b[0;34m\u001b[0m\u001b[0m\n\u001b[1;32m    267\u001b[0m         \"\"\"\n\u001b[0;32m--> 268\u001b[0;31m         \u001b[0mself\u001b[0m\u001b[0;34m.\u001b[0m\u001b[0m_fetch_all\u001b[0m\u001b[0;34m(\u001b[0m\u001b[0;34m)\u001b[0m\u001b[0;34m\u001b[0m\u001b[0;34m\u001b[0m\u001b[0m\n\u001b[0m\u001b[1;32m    269\u001b[0m         \u001b[0;32mreturn\u001b[0m \u001b[0miter\u001b[0m\u001b[0;34m(\u001b[0m\u001b[0mself\u001b[0m\u001b[0;34m.\u001b[0m\u001b[0m_result_cache\u001b[0m\u001b[0;34m)\u001b[0m\u001b[0;34m\u001b[0m\u001b[0;34m\u001b[0m\u001b[0m\n\u001b[1;32m    270\u001b[0m \u001b[0;34m\u001b[0m\u001b[0m\n",
      "\u001b[0;32m~/Desktop/rookiehero/project/venv/lib/python3.7/site-packages/django/db/models/query.py\u001b[0m in \u001b[0;36m_fetch_all\u001b[0;34m(self)\u001b[0m\n\u001b[1;32m   1181\u001b[0m     \u001b[0;32mdef\u001b[0m \u001b[0m_fetch_all\u001b[0m\u001b[0;34m(\u001b[0m\u001b[0mself\u001b[0m\u001b[0;34m)\u001b[0m\u001b[0;34m:\u001b[0m\u001b[0;34m\u001b[0m\u001b[0;34m\u001b[0m\u001b[0m\n\u001b[1;32m   1182\u001b[0m         \u001b[0;32mif\u001b[0m \u001b[0mself\u001b[0m\u001b[0;34m.\u001b[0m\u001b[0m_result_cache\u001b[0m \u001b[0;32mis\u001b[0m \u001b[0;32mNone\u001b[0m\u001b[0;34m:\u001b[0m\u001b[0;34m\u001b[0m\u001b[0;34m\u001b[0m\u001b[0m\n\u001b[0;32m-> 1183\u001b[0;31m             \u001b[0mself\u001b[0m\u001b[0;34m.\u001b[0m\u001b[0m_result_cache\u001b[0m \u001b[0;34m=\u001b[0m \u001b[0mlist\u001b[0m\u001b[0;34m(\u001b[0m\u001b[0mself\u001b[0m\u001b[0;34m.\u001b[0m\u001b[0m_iterable_class\u001b[0m\u001b[0;34m(\u001b[0m\u001b[0mself\u001b[0m\u001b[0;34m)\u001b[0m\u001b[0;34m)\u001b[0m\u001b[0;34m\u001b[0m\u001b[0;34m\u001b[0m\u001b[0m\n\u001b[0m\u001b[1;32m   1184\u001b[0m         \u001b[0;32mif\u001b[0m \u001b[0mself\u001b[0m\u001b[0;34m.\u001b[0m\u001b[0m_prefetch_related_lookups\u001b[0m \u001b[0;32mand\u001b[0m \u001b[0;32mnot\u001b[0m \u001b[0mself\u001b[0m\u001b[0;34m.\u001b[0m\u001b[0m_prefetch_done\u001b[0m\u001b[0;34m:\u001b[0m\u001b[0;34m\u001b[0m\u001b[0;34m\u001b[0m\u001b[0m\n\u001b[1;32m   1185\u001b[0m             \u001b[0mself\u001b[0m\u001b[0;34m.\u001b[0m\u001b[0m_prefetch_related_objects\u001b[0m\u001b[0;34m(\u001b[0m\u001b[0;34m)\u001b[0m\u001b[0;34m\u001b[0m\u001b[0;34m\u001b[0m\u001b[0m\n",
      "\u001b[0;32m~/Desktop/rookiehero/project/venv/lib/python3.7/site-packages/django/db/models/query.py\u001b[0m in \u001b[0;36m__iter__\u001b[0;34m(self)\u001b[0m\n\u001b[1;32m     52\u001b[0m         \u001b[0;31m# Execute the query. This will also fill compiler.select, klass_info,\u001b[0m\u001b[0;34m\u001b[0m\u001b[0;34m\u001b[0m\u001b[0;34m\u001b[0m\u001b[0m\n\u001b[1;32m     53\u001b[0m         \u001b[0;31m# and annotations.\u001b[0m\u001b[0;34m\u001b[0m\u001b[0;34m\u001b[0m\u001b[0;34m\u001b[0m\u001b[0m\n\u001b[0;32m---> 54\u001b[0;31m         \u001b[0mresults\u001b[0m \u001b[0;34m=\u001b[0m \u001b[0mcompiler\u001b[0m\u001b[0;34m.\u001b[0m\u001b[0mexecute_sql\u001b[0m\u001b[0;34m(\u001b[0m\u001b[0mchunked_fetch\u001b[0m\u001b[0;34m=\u001b[0m\u001b[0mself\u001b[0m\u001b[0;34m.\u001b[0m\u001b[0mchunked_fetch\u001b[0m\u001b[0;34m,\u001b[0m \u001b[0mchunk_size\u001b[0m\u001b[0;34m=\u001b[0m\u001b[0mself\u001b[0m\u001b[0;34m.\u001b[0m\u001b[0mchunk_size\u001b[0m\u001b[0;34m)\u001b[0m\u001b[0;34m\u001b[0m\u001b[0;34m\u001b[0m\u001b[0m\n\u001b[0m\u001b[1;32m     55\u001b[0m         select, klass_info, annotation_col_map = (compiler.select, compiler.klass_info,\n\u001b[1;32m     56\u001b[0m                                                   compiler.annotation_col_map)\n",
      "\u001b[0;32m~/Desktop/rookiehero/project/venv/lib/python3.7/site-packages/django/db/models/sql/compiler.py\u001b[0m in \u001b[0;36mexecute_sql\u001b[0;34m(self, result_type, chunked_fetch, chunk_size)\u001b[0m\n\u001b[1;32m   1046\u001b[0m         \u001b[0mresult_type\u001b[0m \u001b[0;34m=\u001b[0m \u001b[0mresult_type\u001b[0m \u001b[0;32mor\u001b[0m \u001b[0mNO_RESULTS\u001b[0m\u001b[0;34m\u001b[0m\u001b[0;34m\u001b[0m\u001b[0m\n\u001b[1;32m   1047\u001b[0m         \u001b[0;32mtry\u001b[0m\u001b[0;34m:\u001b[0m\u001b[0;34m\u001b[0m\u001b[0;34m\u001b[0m\u001b[0m\n\u001b[0;32m-> 1048\u001b[0;31m             \u001b[0msql\u001b[0m\u001b[0;34m,\u001b[0m \u001b[0mparams\u001b[0m \u001b[0;34m=\u001b[0m \u001b[0mself\u001b[0m\u001b[0;34m.\u001b[0m\u001b[0mas_sql\u001b[0m\u001b[0;34m(\u001b[0m\u001b[0;34m)\u001b[0m\u001b[0;34m\u001b[0m\u001b[0;34m\u001b[0m\u001b[0m\n\u001b[0m\u001b[1;32m   1049\u001b[0m             \u001b[0;32mif\u001b[0m \u001b[0;32mnot\u001b[0m \u001b[0msql\u001b[0m\u001b[0;34m:\u001b[0m\u001b[0;34m\u001b[0m\u001b[0;34m\u001b[0m\u001b[0m\n\u001b[1;32m   1050\u001b[0m                 \u001b[0;32mraise\u001b[0m \u001b[0mEmptyResultSet\u001b[0m\u001b[0;34m\u001b[0m\u001b[0;34m\u001b[0m\u001b[0m\n",
      "\u001b[0;32m~/Desktop/rookiehero/project/venv/lib/python3.7/site-packages/django/db/models/sql/compiler.py\u001b[0m in \u001b[0;36mas_sql\u001b[0;34m(self, with_limits, with_col_aliases)\u001b[0m\n\u001b[1;32m    443\u001b[0m         \u001b[0mrefcounts_before\u001b[0m \u001b[0;34m=\u001b[0m \u001b[0mself\u001b[0m\u001b[0;34m.\u001b[0m\u001b[0mquery\u001b[0m\u001b[0;34m.\u001b[0m\u001b[0malias_refcount\u001b[0m\u001b[0;34m.\u001b[0m\u001b[0mcopy\u001b[0m\u001b[0;34m(\u001b[0m\u001b[0;34m)\u001b[0m\u001b[0;34m\u001b[0m\u001b[0;34m\u001b[0m\u001b[0m\n\u001b[1;32m    444\u001b[0m         \u001b[0;32mtry\u001b[0m\u001b[0;34m:\u001b[0m\u001b[0;34m\u001b[0m\u001b[0;34m\u001b[0m\u001b[0m\n\u001b[0;32m--> 445\u001b[0;31m             \u001b[0mextra_select\u001b[0m\u001b[0;34m,\u001b[0m \u001b[0morder_by\u001b[0m\u001b[0;34m,\u001b[0m \u001b[0mgroup_by\u001b[0m \u001b[0;34m=\u001b[0m \u001b[0mself\u001b[0m\u001b[0;34m.\u001b[0m\u001b[0mpre_sql_setup\u001b[0m\u001b[0;34m(\u001b[0m\u001b[0;34m)\u001b[0m\u001b[0;34m\u001b[0m\u001b[0;34m\u001b[0m\u001b[0m\n\u001b[0m\u001b[1;32m    446\u001b[0m             \u001b[0mfor_update_part\u001b[0m \u001b[0;34m=\u001b[0m \u001b[0;32mNone\u001b[0m\u001b[0;34m\u001b[0m\u001b[0;34m\u001b[0m\u001b[0m\n\u001b[1;32m    447\u001b[0m             \u001b[0;31m# Is a LIMIT/OFFSET clause needed?\u001b[0m\u001b[0;34m\u001b[0m\u001b[0;34m\u001b[0m\u001b[0;34m\u001b[0m\u001b[0m\n",
      "\u001b[0;32m~/Desktop/rookiehero/project/venv/lib/python3.7/site-packages/django/db/models/sql/compiler.py\u001b[0m in \u001b[0;36mpre_sql_setup\u001b[0;34m(self)\u001b[0m\n\u001b[1;32m     48\u001b[0m         \u001b[0mmight\u001b[0m \u001b[0;32mnot\u001b[0m \u001b[0mhave\u001b[0m \u001b[0mall\u001b[0m \u001b[0mthe\u001b[0m \u001b[0mpieces\u001b[0m \u001b[0;32min\u001b[0m \u001b[0mplace\u001b[0m \u001b[0mat\u001b[0m \u001b[0mthat\u001b[0m \u001b[0mtime\u001b[0m\u001b[0;34m.\u001b[0m\u001b[0;34m\u001b[0m\u001b[0;34m\u001b[0m\u001b[0m\n\u001b[1;32m     49\u001b[0m         \"\"\"\n\u001b[0;32m---> 50\u001b[0;31m         \u001b[0mself\u001b[0m\u001b[0;34m.\u001b[0m\u001b[0msetup_query\u001b[0m\u001b[0;34m(\u001b[0m\u001b[0;34m)\u001b[0m\u001b[0;34m\u001b[0m\u001b[0;34m\u001b[0m\u001b[0m\n\u001b[0m\u001b[1;32m     51\u001b[0m         \u001b[0morder_by\u001b[0m \u001b[0;34m=\u001b[0m \u001b[0mself\u001b[0m\u001b[0;34m.\u001b[0m\u001b[0mget_order_by\u001b[0m\u001b[0;34m(\u001b[0m\u001b[0;34m)\u001b[0m\u001b[0;34m\u001b[0m\u001b[0;34m\u001b[0m\u001b[0m\n\u001b[1;32m     52\u001b[0m         \u001b[0mself\u001b[0m\u001b[0;34m.\u001b[0m\u001b[0mwhere\u001b[0m\u001b[0;34m,\u001b[0m \u001b[0mself\u001b[0m\u001b[0;34m.\u001b[0m\u001b[0mhaving\u001b[0m \u001b[0;34m=\u001b[0m \u001b[0mself\u001b[0m\u001b[0;34m.\u001b[0m\u001b[0mquery\u001b[0m\u001b[0;34m.\u001b[0m\u001b[0mwhere\u001b[0m\u001b[0;34m.\u001b[0m\u001b[0msplit_having\u001b[0m\u001b[0;34m(\u001b[0m\u001b[0;34m)\u001b[0m\u001b[0;34m\u001b[0m\u001b[0;34m\u001b[0m\u001b[0m\n",
      "\u001b[0;32m~/Desktop/rookiehero/project/venv/lib/python3.7/site-packages/django/db/models/sql/compiler.py\u001b[0m in \u001b[0;36msetup_query\u001b[0;34m(self)\u001b[0m\n\u001b[1;32m     39\u001b[0m         \u001b[0;32mif\u001b[0m \u001b[0mall\u001b[0m\u001b[0;34m(\u001b[0m\u001b[0mself\u001b[0m\u001b[0;34m.\u001b[0m\u001b[0mquery\u001b[0m\u001b[0;34m.\u001b[0m\u001b[0malias_refcount\u001b[0m\u001b[0;34m[\u001b[0m\u001b[0ma\u001b[0m\u001b[0;34m]\u001b[0m \u001b[0;34m==\u001b[0m \u001b[0;36m0\u001b[0m \u001b[0;32mfor\u001b[0m \u001b[0ma\u001b[0m \u001b[0;32min\u001b[0m \u001b[0mself\u001b[0m\u001b[0;34m.\u001b[0m\u001b[0mquery\u001b[0m\u001b[0;34m.\u001b[0m\u001b[0malias_map\u001b[0m\u001b[0;34m)\u001b[0m\u001b[0;34m:\u001b[0m\u001b[0;34m\u001b[0m\u001b[0;34m\u001b[0m\u001b[0m\n\u001b[1;32m     40\u001b[0m             \u001b[0mself\u001b[0m\u001b[0;34m.\u001b[0m\u001b[0mquery\u001b[0m\u001b[0;34m.\u001b[0m\u001b[0mget_initial_alias\u001b[0m\u001b[0;34m(\u001b[0m\u001b[0;34m)\u001b[0m\u001b[0;34m\u001b[0m\u001b[0;34m\u001b[0m\u001b[0m\n\u001b[0;32m---> 41\u001b[0;31m         \u001b[0mself\u001b[0m\u001b[0;34m.\u001b[0m\u001b[0mselect\u001b[0m\u001b[0;34m,\u001b[0m \u001b[0mself\u001b[0m\u001b[0;34m.\u001b[0m\u001b[0mklass_info\u001b[0m\u001b[0;34m,\u001b[0m \u001b[0mself\u001b[0m\u001b[0;34m.\u001b[0m\u001b[0mannotation_col_map\u001b[0m \u001b[0;34m=\u001b[0m \u001b[0mself\u001b[0m\u001b[0;34m.\u001b[0m\u001b[0mget_select\u001b[0m\u001b[0;34m(\u001b[0m\u001b[0;34m)\u001b[0m\u001b[0;34m\u001b[0m\u001b[0;34m\u001b[0m\u001b[0m\n\u001b[0m\u001b[1;32m     42\u001b[0m         \u001b[0mself\u001b[0m\u001b[0;34m.\u001b[0m\u001b[0mcol_count\u001b[0m \u001b[0;34m=\u001b[0m \u001b[0mlen\u001b[0m\u001b[0;34m(\u001b[0m\u001b[0mself\u001b[0m\u001b[0;34m.\u001b[0m\u001b[0mselect\u001b[0m\u001b[0;34m)\u001b[0m\u001b[0;34m\u001b[0m\u001b[0;34m\u001b[0m\u001b[0m\n\u001b[1;32m     43\u001b[0m \u001b[0;34m\u001b[0m\u001b[0m\n",
      "\u001b[0;32m~/Desktop/rookiehero/project/venv/lib/python3.7/site-packages/django/db/models/sql/compiler.py\u001b[0m in \u001b[0;36mget_select\u001b[0;34m(self)\u001b[0m\n\u001b[1;32m    228\u001b[0m \u001b[0;34m\u001b[0m\u001b[0m\n\u001b[1;32m    229\u001b[0m         \u001b[0;32mif\u001b[0m \u001b[0mself\u001b[0m\u001b[0;34m.\u001b[0m\u001b[0mquery\u001b[0m\u001b[0;34m.\u001b[0m\u001b[0mselect_related\u001b[0m\u001b[0;34m:\u001b[0m\u001b[0;34m\u001b[0m\u001b[0;34m\u001b[0m\u001b[0m\n\u001b[0;32m--> 230\u001b[0;31m             \u001b[0mrelated_klass_infos\u001b[0m \u001b[0;34m=\u001b[0m \u001b[0mself\u001b[0m\u001b[0;34m.\u001b[0m\u001b[0mget_related_selections\u001b[0m\u001b[0;34m(\u001b[0m\u001b[0mselect\u001b[0m\u001b[0;34m)\u001b[0m\u001b[0;34m\u001b[0m\u001b[0;34m\u001b[0m\u001b[0m\n\u001b[0m\u001b[1;32m    231\u001b[0m             \u001b[0mklass_info\u001b[0m\u001b[0;34m[\u001b[0m\u001b[0;34m'related_klass_infos'\u001b[0m\u001b[0;34m]\u001b[0m \u001b[0;34m=\u001b[0m \u001b[0mrelated_klass_infos\u001b[0m\u001b[0;34m\u001b[0m\u001b[0;34m\u001b[0m\u001b[0m\n\u001b[1;32m    232\u001b[0m \u001b[0;34m\u001b[0m\u001b[0m\n",
      "\u001b[0;32m~/Desktop/rookiehero/project/venv/lib/python3.7/site-packages/django/db/models/sql/compiler.py\u001b[0m in \u001b[0;36mget_related_selections\u001b[0;34m(self, select, opts, root_alias, cur_depth, requested, restricted)\u001b[0m\n\u001b[1;32m    899\u001b[0m                     'Choices are: %s' % (\n\u001b[1;32m    900\u001b[0m                         \u001b[0;34m', '\u001b[0m\u001b[0;34m.\u001b[0m\u001b[0mjoin\u001b[0m\u001b[0;34m(\u001b[0m\u001b[0minvalid_fields\u001b[0m\u001b[0;34m)\u001b[0m\u001b[0;34m,\u001b[0m\u001b[0;34m\u001b[0m\u001b[0;34m\u001b[0m\u001b[0m\n\u001b[0;32m--> 901\u001b[0;31m                         \u001b[0;34m', '\u001b[0m\u001b[0;34m.\u001b[0m\u001b[0mjoin\u001b[0m\u001b[0;34m(\u001b[0m\u001b[0m_get_field_choices\u001b[0m\u001b[0;34m(\u001b[0m\u001b[0;34m)\u001b[0m\u001b[0;34m)\u001b[0m \u001b[0;32mor\u001b[0m \u001b[0;34m'(none)'\u001b[0m\u001b[0;34m,\u001b[0m\u001b[0;34m\u001b[0m\u001b[0;34m\u001b[0m\u001b[0m\n\u001b[0m\u001b[1;32m    902\u001b[0m                     )\n\u001b[1;32m    903\u001b[0m                 )\n",
      "\u001b[0;31mFieldError\u001b[0m: Invalid field name(s) given in select_related: 'yosigy_ticket'. Choices are: user"
     ]
    }
   ],
   "source": [
    "user.ticketpayment_set.select_related('yosigy_ticket').all()"
   ]
  },
  {
   "cell_type": "code",
   "execution_count": 5,
   "metadata": {},
   "outputs": [],
   "source": [
    "from yosigy.models import TicketPayment"
   ]
  },
  {
   "cell_type": "code",
   "execution_count": 10,
   "metadata": {},
   "outputs": [
    {
     "ename": "FieldError",
     "evalue": "Invalid field name(s) given in select_related: 'yosigy_ticket'. Choices are: user",
     "output_type": "error",
     "traceback": [
      "\u001b[0;31m---------------------------------------------------------------------------\u001b[0m",
      "\u001b[0;31mFieldError\u001b[0m                                Traceback (most recent call last)",
      "\u001b[0;32m~/Desktop/rookiehero/project/venv/lib/python3.7/site-packages/IPython/core/formatters.py\u001b[0m in \u001b[0;36m__call__\u001b[0;34m(self, obj)\u001b[0m\n\u001b[1;32m    700\u001b[0m                 \u001b[0mtype_pprinters\u001b[0m\u001b[0;34m=\u001b[0m\u001b[0mself\u001b[0m\u001b[0;34m.\u001b[0m\u001b[0mtype_printers\u001b[0m\u001b[0;34m,\u001b[0m\u001b[0;34m\u001b[0m\u001b[0;34m\u001b[0m\u001b[0m\n\u001b[1;32m    701\u001b[0m                 deferred_pprinters=self.deferred_printers)\n\u001b[0;32m--> 702\u001b[0;31m             \u001b[0mprinter\u001b[0m\u001b[0;34m.\u001b[0m\u001b[0mpretty\u001b[0m\u001b[0;34m(\u001b[0m\u001b[0mobj\u001b[0m\u001b[0;34m)\u001b[0m\u001b[0;34m\u001b[0m\u001b[0;34m\u001b[0m\u001b[0m\n\u001b[0m\u001b[1;32m    703\u001b[0m             \u001b[0mprinter\u001b[0m\u001b[0;34m.\u001b[0m\u001b[0mflush\u001b[0m\u001b[0;34m(\u001b[0m\u001b[0;34m)\u001b[0m\u001b[0;34m\u001b[0m\u001b[0;34m\u001b[0m\u001b[0m\n\u001b[1;32m    704\u001b[0m             \u001b[0;32mreturn\u001b[0m \u001b[0mstream\u001b[0m\u001b[0;34m.\u001b[0m\u001b[0mgetvalue\u001b[0m\u001b[0;34m(\u001b[0m\u001b[0;34m)\u001b[0m\u001b[0;34m\u001b[0m\u001b[0;34m\u001b[0m\u001b[0m\n",
      "\u001b[0;32m~/Desktop/rookiehero/project/venv/lib/python3.7/site-packages/IPython/lib/pretty.py\u001b[0m in \u001b[0;36mpretty\u001b[0;34m(self, obj)\u001b[0m\n\u001b[1;32m    400\u001b[0m                         \u001b[0;32mif\u001b[0m \u001b[0mcls\u001b[0m \u001b[0;32mis\u001b[0m \u001b[0;32mnot\u001b[0m \u001b[0mobject\u001b[0m\u001b[0;31m \u001b[0m\u001b[0;31m\\\u001b[0m\u001b[0;34m\u001b[0m\u001b[0;34m\u001b[0m\u001b[0m\n\u001b[1;32m    401\u001b[0m                                 \u001b[0;32mand\u001b[0m \u001b[0mcallable\u001b[0m\u001b[0;34m(\u001b[0m\u001b[0mcls\u001b[0m\u001b[0;34m.\u001b[0m\u001b[0m__dict__\u001b[0m\u001b[0;34m.\u001b[0m\u001b[0mget\u001b[0m\u001b[0;34m(\u001b[0m\u001b[0;34m'__repr__'\u001b[0m\u001b[0;34m)\u001b[0m\u001b[0;34m)\u001b[0m\u001b[0;34m:\u001b[0m\u001b[0;34m\u001b[0m\u001b[0;34m\u001b[0m\u001b[0m\n\u001b[0;32m--> 402\u001b[0;31m                             \u001b[0;32mreturn\u001b[0m \u001b[0m_repr_pprint\u001b[0m\u001b[0;34m(\u001b[0m\u001b[0mobj\u001b[0m\u001b[0;34m,\u001b[0m \u001b[0mself\u001b[0m\u001b[0;34m,\u001b[0m \u001b[0mcycle\u001b[0m\u001b[0;34m)\u001b[0m\u001b[0;34m\u001b[0m\u001b[0;34m\u001b[0m\u001b[0m\n\u001b[0m\u001b[1;32m    403\u001b[0m \u001b[0;34m\u001b[0m\u001b[0m\n\u001b[1;32m    404\u001b[0m             \u001b[0;32mreturn\u001b[0m \u001b[0m_default_pprint\u001b[0m\u001b[0;34m(\u001b[0m\u001b[0mobj\u001b[0m\u001b[0;34m,\u001b[0m \u001b[0mself\u001b[0m\u001b[0;34m,\u001b[0m \u001b[0mcycle\u001b[0m\u001b[0;34m)\u001b[0m\u001b[0;34m\u001b[0m\u001b[0;34m\u001b[0m\u001b[0m\n",
      "\u001b[0;32m~/Desktop/rookiehero/project/venv/lib/python3.7/site-packages/IPython/lib/pretty.py\u001b[0m in \u001b[0;36m_repr_pprint\u001b[0;34m(obj, p, cycle)\u001b[0m\n\u001b[1;32m    695\u001b[0m     \u001b[0;34m\"\"\"A pprint that just redirects to the normal repr function.\"\"\"\u001b[0m\u001b[0;34m\u001b[0m\u001b[0;34m\u001b[0m\u001b[0m\n\u001b[1;32m    696\u001b[0m     \u001b[0;31m# Find newlines and replace them with p.break_()\u001b[0m\u001b[0;34m\u001b[0m\u001b[0;34m\u001b[0m\u001b[0;34m\u001b[0m\u001b[0m\n\u001b[0;32m--> 697\u001b[0;31m     \u001b[0moutput\u001b[0m \u001b[0;34m=\u001b[0m \u001b[0mrepr\u001b[0m\u001b[0;34m(\u001b[0m\u001b[0mobj\u001b[0m\u001b[0;34m)\u001b[0m\u001b[0;34m\u001b[0m\u001b[0;34m\u001b[0m\u001b[0m\n\u001b[0m\u001b[1;32m    698\u001b[0m     \u001b[0;32mfor\u001b[0m \u001b[0midx\u001b[0m\u001b[0;34m,\u001b[0m\u001b[0moutput_line\u001b[0m \u001b[0;32min\u001b[0m \u001b[0menumerate\u001b[0m\u001b[0;34m(\u001b[0m\u001b[0moutput\u001b[0m\u001b[0;34m.\u001b[0m\u001b[0msplitlines\u001b[0m\u001b[0;34m(\u001b[0m\u001b[0;34m)\u001b[0m\u001b[0;34m)\u001b[0m\u001b[0;34m:\u001b[0m\u001b[0;34m\u001b[0m\u001b[0;34m\u001b[0m\u001b[0m\n\u001b[1;32m    699\u001b[0m         \u001b[0;32mif\u001b[0m \u001b[0midx\u001b[0m\u001b[0;34m:\u001b[0m\u001b[0;34m\u001b[0m\u001b[0;34m\u001b[0m\u001b[0m\n",
      "\u001b[0;32m~/Desktop/rookiehero/project/venv/lib/python3.7/site-packages/django/db/models/query.py\u001b[0m in \u001b[0;36m__repr__\u001b[0;34m(self)\u001b[0m\n\u001b[1;32m    242\u001b[0m \u001b[0;34m\u001b[0m\u001b[0m\n\u001b[1;32m    243\u001b[0m     \u001b[0;32mdef\u001b[0m \u001b[0m__repr__\u001b[0m\u001b[0;34m(\u001b[0m\u001b[0mself\u001b[0m\u001b[0;34m)\u001b[0m\u001b[0;34m:\u001b[0m\u001b[0;34m\u001b[0m\u001b[0;34m\u001b[0m\u001b[0m\n\u001b[0;32m--> 244\u001b[0;31m         \u001b[0mdata\u001b[0m \u001b[0;34m=\u001b[0m \u001b[0mlist\u001b[0m\u001b[0;34m(\u001b[0m\u001b[0mself\u001b[0m\u001b[0;34m[\u001b[0m\u001b[0;34m:\u001b[0m\u001b[0mREPR_OUTPUT_SIZE\u001b[0m \u001b[0;34m+\u001b[0m \u001b[0;36m1\u001b[0m\u001b[0;34m]\u001b[0m\u001b[0;34m)\u001b[0m\u001b[0;34m\u001b[0m\u001b[0;34m\u001b[0m\u001b[0m\n\u001b[0m\u001b[1;32m    245\u001b[0m         \u001b[0;32mif\u001b[0m \u001b[0mlen\u001b[0m\u001b[0;34m(\u001b[0m\u001b[0mdata\u001b[0m\u001b[0;34m)\u001b[0m \u001b[0;34m>\u001b[0m \u001b[0mREPR_OUTPUT_SIZE\u001b[0m\u001b[0;34m:\u001b[0m\u001b[0;34m\u001b[0m\u001b[0;34m\u001b[0m\u001b[0m\n\u001b[1;32m    246\u001b[0m             \u001b[0mdata\u001b[0m\u001b[0;34m[\u001b[0m\u001b[0;34m-\u001b[0m\u001b[0;36m1\u001b[0m\u001b[0;34m]\u001b[0m \u001b[0;34m=\u001b[0m \u001b[0;34m\"...(remaining elements truncated)...\"\u001b[0m\u001b[0;34m\u001b[0m\u001b[0;34m\u001b[0m\u001b[0m\n",
      "\u001b[0;32m~/Desktop/rookiehero/project/venv/lib/python3.7/site-packages/django/db/models/query.py\u001b[0m in \u001b[0;36m__iter__\u001b[0;34m(self)\u001b[0m\n\u001b[1;32m    266\u001b[0m                \u001b[0;34m-\u001b[0m \u001b[0mResponsible\u001b[0m \u001b[0;32mfor\u001b[0m \u001b[0mturning\u001b[0m \u001b[0mthe\u001b[0m \u001b[0mrows\u001b[0m \u001b[0minto\u001b[0m \u001b[0mmodel\u001b[0m \u001b[0mobjects\u001b[0m\u001b[0;34m.\u001b[0m\u001b[0;34m\u001b[0m\u001b[0;34m\u001b[0m\u001b[0m\n\u001b[1;32m    267\u001b[0m         \"\"\"\n\u001b[0;32m--> 268\u001b[0;31m         \u001b[0mself\u001b[0m\u001b[0;34m.\u001b[0m\u001b[0m_fetch_all\u001b[0m\u001b[0;34m(\u001b[0m\u001b[0;34m)\u001b[0m\u001b[0;34m\u001b[0m\u001b[0;34m\u001b[0m\u001b[0m\n\u001b[0m\u001b[1;32m    269\u001b[0m         \u001b[0;32mreturn\u001b[0m \u001b[0miter\u001b[0m\u001b[0;34m(\u001b[0m\u001b[0mself\u001b[0m\u001b[0;34m.\u001b[0m\u001b[0m_result_cache\u001b[0m\u001b[0;34m)\u001b[0m\u001b[0;34m\u001b[0m\u001b[0;34m\u001b[0m\u001b[0m\n\u001b[1;32m    270\u001b[0m \u001b[0;34m\u001b[0m\u001b[0m\n",
      "\u001b[0;32m~/Desktop/rookiehero/project/venv/lib/python3.7/site-packages/django/db/models/query.py\u001b[0m in \u001b[0;36m_fetch_all\u001b[0;34m(self)\u001b[0m\n\u001b[1;32m   1181\u001b[0m     \u001b[0;32mdef\u001b[0m \u001b[0m_fetch_all\u001b[0m\u001b[0;34m(\u001b[0m\u001b[0mself\u001b[0m\u001b[0;34m)\u001b[0m\u001b[0;34m:\u001b[0m\u001b[0;34m\u001b[0m\u001b[0;34m\u001b[0m\u001b[0m\n\u001b[1;32m   1182\u001b[0m         \u001b[0;32mif\u001b[0m \u001b[0mself\u001b[0m\u001b[0;34m.\u001b[0m\u001b[0m_result_cache\u001b[0m \u001b[0;32mis\u001b[0m \u001b[0;32mNone\u001b[0m\u001b[0;34m:\u001b[0m\u001b[0;34m\u001b[0m\u001b[0;34m\u001b[0m\u001b[0m\n\u001b[0;32m-> 1183\u001b[0;31m             \u001b[0mself\u001b[0m\u001b[0;34m.\u001b[0m\u001b[0m_result_cache\u001b[0m \u001b[0;34m=\u001b[0m \u001b[0mlist\u001b[0m\u001b[0;34m(\u001b[0m\u001b[0mself\u001b[0m\u001b[0;34m.\u001b[0m\u001b[0m_iterable_class\u001b[0m\u001b[0;34m(\u001b[0m\u001b[0mself\u001b[0m\u001b[0;34m)\u001b[0m\u001b[0;34m)\u001b[0m\u001b[0;34m\u001b[0m\u001b[0;34m\u001b[0m\u001b[0m\n\u001b[0m\u001b[1;32m   1184\u001b[0m         \u001b[0;32mif\u001b[0m \u001b[0mself\u001b[0m\u001b[0;34m.\u001b[0m\u001b[0m_prefetch_related_lookups\u001b[0m \u001b[0;32mand\u001b[0m \u001b[0;32mnot\u001b[0m \u001b[0mself\u001b[0m\u001b[0;34m.\u001b[0m\u001b[0m_prefetch_done\u001b[0m\u001b[0;34m:\u001b[0m\u001b[0;34m\u001b[0m\u001b[0;34m\u001b[0m\u001b[0m\n\u001b[1;32m   1185\u001b[0m             \u001b[0mself\u001b[0m\u001b[0;34m.\u001b[0m\u001b[0m_prefetch_related_objects\u001b[0m\u001b[0;34m(\u001b[0m\u001b[0;34m)\u001b[0m\u001b[0;34m\u001b[0m\u001b[0;34m\u001b[0m\u001b[0m\n",
      "\u001b[0;32m~/Desktop/rookiehero/project/venv/lib/python3.7/site-packages/django/db/models/query.py\u001b[0m in \u001b[0;36m__iter__\u001b[0;34m(self)\u001b[0m\n\u001b[1;32m     52\u001b[0m         \u001b[0;31m# Execute the query. This will also fill compiler.select, klass_info,\u001b[0m\u001b[0;34m\u001b[0m\u001b[0;34m\u001b[0m\u001b[0;34m\u001b[0m\u001b[0m\n\u001b[1;32m     53\u001b[0m         \u001b[0;31m# and annotations.\u001b[0m\u001b[0;34m\u001b[0m\u001b[0;34m\u001b[0m\u001b[0;34m\u001b[0m\u001b[0m\n\u001b[0;32m---> 54\u001b[0;31m         \u001b[0mresults\u001b[0m \u001b[0;34m=\u001b[0m \u001b[0mcompiler\u001b[0m\u001b[0;34m.\u001b[0m\u001b[0mexecute_sql\u001b[0m\u001b[0;34m(\u001b[0m\u001b[0mchunked_fetch\u001b[0m\u001b[0;34m=\u001b[0m\u001b[0mself\u001b[0m\u001b[0;34m.\u001b[0m\u001b[0mchunked_fetch\u001b[0m\u001b[0;34m,\u001b[0m \u001b[0mchunk_size\u001b[0m\u001b[0;34m=\u001b[0m\u001b[0mself\u001b[0m\u001b[0;34m.\u001b[0m\u001b[0mchunk_size\u001b[0m\u001b[0;34m)\u001b[0m\u001b[0;34m\u001b[0m\u001b[0;34m\u001b[0m\u001b[0m\n\u001b[0m\u001b[1;32m     55\u001b[0m         select, klass_info, annotation_col_map = (compiler.select, compiler.klass_info,\n\u001b[1;32m     56\u001b[0m                                                   compiler.annotation_col_map)\n",
      "\u001b[0;32m~/Desktop/rookiehero/project/venv/lib/python3.7/site-packages/django/db/models/sql/compiler.py\u001b[0m in \u001b[0;36mexecute_sql\u001b[0;34m(self, result_type, chunked_fetch, chunk_size)\u001b[0m\n\u001b[1;32m   1046\u001b[0m         \u001b[0mresult_type\u001b[0m \u001b[0;34m=\u001b[0m \u001b[0mresult_type\u001b[0m \u001b[0;32mor\u001b[0m \u001b[0mNO_RESULTS\u001b[0m\u001b[0;34m\u001b[0m\u001b[0;34m\u001b[0m\u001b[0m\n\u001b[1;32m   1047\u001b[0m         \u001b[0;32mtry\u001b[0m\u001b[0;34m:\u001b[0m\u001b[0;34m\u001b[0m\u001b[0;34m\u001b[0m\u001b[0m\n\u001b[0;32m-> 1048\u001b[0;31m             \u001b[0msql\u001b[0m\u001b[0;34m,\u001b[0m \u001b[0mparams\u001b[0m \u001b[0;34m=\u001b[0m \u001b[0mself\u001b[0m\u001b[0;34m.\u001b[0m\u001b[0mas_sql\u001b[0m\u001b[0;34m(\u001b[0m\u001b[0;34m)\u001b[0m\u001b[0;34m\u001b[0m\u001b[0;34m\u001b[0m\u001b[0m\n\u001b[0m\u001b[1;32m   1049\u001b[0m             \u001b[0;32mif\u001b[0m \u001b[0;32mnot\u001b[0m \u001b[0msql\u001b[0m\u001b[0;34m:\u001b[0m\u001b[0;34m\u001b[0m\u001b[0;34m\u001b[0m\u001b[0m\n\u001b[1;32m   1050\u001b[0m                 \u001b[0;32mraise\u001b[0m \u001b[0mEmptyResultSet\u001b[0m\u001b[0;34m\u001b[0m\u001b[0;34m\u001b[0m\u001b[0m\n",
      "\u001b[0;32m~/Desktop/rookiehero/project/venv/lib/python3.7/site-packages/django/db/models/sql/compiler.py\u001b[0m in \u001b[0;36mas_sql\u001b[0;34m(self, with_limits, with_col_aliases)\u001b[0m\n\u001b[1;32m    443\u001b[0m         \u001b[0mrefcounts_before\u001b[0m \u001b[0;34m=\u001b[0m \u001b[0mself\u001b[0m\u001b[0;34m.\u001b[0m\u001b[0mquery\u001b[0m\u001b[0;34m.\u001b[0m\u001b[0malias_refcount\u001b[0m\u001b[0;34m.\u001b[0m\u001b[0mcopy\u001b[0m\u001b[0;34m(\u001b[0m\u001b[0;34m)\u001b[0m\u001b[0;34m\u001b[0m\u001b[0;34m\u001b[0m\u001b[0m\n\u001b[1;32m    444\u001b[0m         \u001b[0;32mtry\u001b[0m\u001b[0;34m:\u001b[0m\u001b[0;34m\u001b[0m\u001b[0;34m\u001b[0m\u001b[0m\n\u001b[0;32m--> 445\u001b[0;31m             \u001b[0mextra_select\u001b[0m\u001b[0;34m,\u001b[0m \u001b[0morder_by\u001b[0m\u001b[0;34m,\u001b[0m \u001b[0mgroup_by\u001b[0m \u001b[0;34m=\u001b[0m \u001b[0mself\u001b[0m\u001b[0;34m.\u001b[0m\u001b[0mpre_sql_setup\u001b[0m\u001b[0;34m(\u001b[0m\u001b[0;34m)\u001b[0m\u001b[0;34m\u001b[0m\u001b[0;34m\u001b[0m\u001b[0m\n\u001b[0m\u001b[1;32m    446\u001b[0m             \u001b[0mfor_update_part\u001b[0m \u001b[0;34m=\u001b[0m \u001b[0;32mNone\u001b[0m\u001b[0;34m\u001b[0m\u001b[0;34m\u001b[0m\u001b[0m\n\u001b[1;32m    447\u001b[0m             \u001b[0;31m# Is a LIMIT/OFFSET clause needed?\u001b[0m\u001b[0;34m\u001b[0m\u001b[0;34m\u001b[0m\u001b[0;34m\u001b[0m\u001b[0m\n",
      "\u001b[0;32m~/Desktop/rookiehero/project/venv/lib/python3.7/site-packages/django/db/models/sql/compiler.py\u001b[0m in \u001b[0;36mpre_sql_setup\u001b[0;34m(self)\u001b[0m\n\u001b[1;32m     48\u001b[0m         \u001b[0mmight\u001b[0m \u001b[0;32mnot\u001b[0m \u001b[0mhave\u001b[0m \u001b[0mall\u001b[0m \u001b[0mthe\u001b[0m \u001b[0mpieces\u001b[0m \u001b[0;32min\u001b[0m \u001b[0mplace\u001b[0m \u001b[0mat\u001b[0m \u001b[0mthat\u001b[0m \u001b[0mtime\u001b[0m\u001b[0;34m.\u001b[0m\u001b[0;34m\u001b[0m\u001b[0;34m\u001b[0m\u001b[0m\n\u001b[1;32m     49\u001b[0m         \"\"\"\n\u001b[0;32m---> 50\u001b[0;31m         \u001b[0mself\u001b[0m\u001b[0;34m.\u001b[0m\u001b[0msetup_query\u001b[0m\u001b[0;34m(\u001b[0m\u001b[0;34m)\u001b[0m\u001b[0;34m\u001b[0m\u001b[0;34m\u001b[0m\u001b[0m\n\u001b[0m\u001b[1;32m     51\u001b[0m         \u001b[0morder_by\u001b[0m \u001b[0;34m=\u001b[0m \u001b[0mself\u001b[0m\u001b[0;34m.\u001b[0m\u001b[0mget_order_by\u001b[0m\u001b[0;34m(\u001b[0m\u001b[0;34m)\u001b[0m\u001b[0;34m\u001b[0m\u001b[0;34m\u001b[0m\u001b[0m\n\u001b[1;32m     52\u001b[0m         \u001b[0mself\u001b[0m\u001b[0;34m.\u001b[0m\u001b[0mwhere\u001b[0m\u001b[0;34m,\u001b[0m \u001b[0mself\u001b[0m\u001b[0;34m.\u001b[0m\u001b[0mhaving\u001b[0m \u001b[0;34m=\u001b[0m \u001b[0mself\u001b[0m\u001b[0;34m.\u001b[0m\u001b[0mquery\u001b[0m\u001b[0;34m.\u001b[0m\u001b[0mwhere\u001b[0m\u001b[0;34m.\u001b[0m\u001b[0msplit_having\u001b[0m\u001b[0;34m(\u001b[0m\u001b[0;34m)\u001b[0m\u001b[0;34m\u001b[0m\u001b[0;34m\u001b[0m\u001b[0m\n",
      "\u001b[0;32m~/Desktop/rookiehero/project/venv/lib/python3.7/site-packages/django/db/models/sql/compiler.py\u001b[0m in \u001b[0;36msetup_query\u001b[0;34m(self)\u001b[0m\n\u001b[1;32m     39\u001b[0m         \u001b[0;32mif\u001b[0m \u001b[0mall\u001b[0m\u001b[0;34m(\u001b[0m\u001b[0mself\u001b[0m\u001b[0;34m.\u001b[0m\u001b[0mquery\u001b[0m\u001b[0;34m.\u001b[0m\u001b[0malias_refcount\u001b[0m\u001b[0;34m[\u001b[0m\u001b[0ma\u001b[0m\u001b[0;34m]\u001b[0m \u001b[0;34m==\u001b[0m \u001b[0;36m0\u001b[0m \u001b[0;32mfor\u001b[0m \u001b[0ma\u001b[0m \u001b[0;32min\u001b[0m \u001b[0mself\u001b[0m\u001b[0;34m.\u001b[0m\u001b[0mquery\u001b[0m\u001b[0;34m.\u001b[0m\u001b[0malias_map\u001b[0m\u001b[0;34m)\u001b[0m\u001b[0;34m:\u001b[0m\u001b[0;34m\u001b[0m\u001b[0;34m\u001b[0m\u001b[0m\n\u001b[1;32m     40\u001b[0m             \u001b[0mself\u001b[0m\u001b[0;34m.\u001b[0m\u001b[0mquery\u001b[0m\u001b[0;34m.\u001b[0m\u001b[0mget_initial_alias\u001b[0m\u001b[0;34m(\u001b[0m\u001b[0;34m)\u001b[0m\u001b[0;34m\u001b[0m\u001b[0;34m\u001b[0m\u001b[0m\n\u001b[0;32m---> 41\u001b[0;31m         \u001b[0mself\u001b[0m\u001b[0;34m.\u001b[0m\u001b[0mselect\u001b[0m\u001b[0;34m,\u001b[0m \u001b[0mself\u001b[0m\u001b[0;34m.\u001b[0m\u001b[0mklass_info\u001b[0m\u001b[0;34m,\u001b[0m \u001b[0mself\u001b[0m\u001b[0;34m.\u001b[0m\u001b[0mannotation_col_map\u001b[0m \u001b[0;34m=\u001b[0m \u001b[0mself\u001b[0m\u001b[0;34m.\u001b[0m\u001b[0mget_select\u001b[0m\u001b[0;34m(\u001b[0m\u001b[0;34m)\u001b[0m\u001b[0;34m\u001b[0m\u001b[0;34m\u001b[0m\u001b[0m\n\u001b[0m\u001b[1;32m     42\u001b[0m         \u001b[0mself\u001b[0m\u001b[0;34m.\u001b[0m\u001b[0mcol_count\u001b[0m \u001b[0;34m=\u001b[0m \u001b[0mlen\u001b[0m\u001b[0;34m(\u001b[0m\u001b[0mself\u001b[0m\u001b[0;34m.\u001b[0m\u001b[0mselect\u001b[0m\u001b[0;34m)\u001b[0m\u001b[0;34m\u001b[0m\u001b[0;34m\u001b[0m\u001b[0m\n\u001b[1;32m     43\u001b[0m \u001b[0;34m\u001b[0m\u001b[0m\n",
      "\u001b[0;32m~/Desktop/rookiehero/project/venv/lib/python3.7/site-packages/django/db/models/sql/compiler.py\u001b[0m in \u001b[0;36mget_select\u001b[0;34m(self)\u001b[0m\n\u001b[1;32m    228\u001b[0m \u001b[0;34m\u001b[0m\u001b[0m\n\u001b[1;32m    229\u001b[0m         \u001b[0;32mif\u001b[0m \u001b[0mself\u001b[0m\u001b[0;34m.\u001b[0m\u001b[0mquery\u001b[0m\u001b[0;34m.\u001b[0m\u001b[0mselect_related\u001b[0m\u001b[0;34m:\u001b[0m\u001b[0;34m\u001b[0m\u001b[0;34m\u001b[0m\u001b[0m\n\u001b[0;32m--> 230\u001b[0;31m             \u001b[0mrelated_klass_infos\u001b[0m \u001b[0;34m=\u001b[0m \u001b[0mself\u001b[0m\u001b[0;34m.\u001b[0m\u001b[0mget_related_selections\u001b[0m\u001b[0;34m(\u001b[0m\u001b[0mselect\u001b[0m\u001b[0;34m)\u001b[0m\u001b[0;34m\u001b[0m\u001b[0;34m\u001b[0m\u001b[0m\n\u001b[0m\u001b[1;32m    231\u001b[0m             \u001b[0mklass_info\u001b[0m\u001b[0;34m[\u001b[0m\u001b[0;34m'related_klass_infos'\u001b[0m\u001b[0;34m]\u001b[0m \u001b[0;34m=\u001b[0m \u001b[0mrelated_klass_infos\u001b[0m\u001b[0;34m\u001b[0m\u001b[0;34m\u001b[0m\u001b[0m\n\u001b[1;32m    232\u001b[0m \u001b[0;34m\u001b[0m\u001b[0m\n",
      "\u001b[0;32m~/Desktop/rookiehero/project/venv/lib/python3.7/site-packages/django/db/models/sql/compiler.py\u001b[0m in \u001b[0;36mget_related_selections\u001b[0;34m(self, select, opts, root_alias, cur_depth, requested, restricted)\u001b[0m\n\u001b[1;32m    899\u001b[0m                     'Choices are: %s' % (\n\u001b[1;32m    900\u001b[0m                         \u001b[0;34m', '\u001b[0m\u001b[0;34m.\u001b[0m\u001b[0mjoin\u001b[0m\u001b[0;34m(\u001b[0m\u001b[0minvalid_fields\u001b[0m\u001b[0;34m)\u001b[0m\u001b[0;34m,\u001b[0m\u001b[0;34m\u001b[0m\u001b[0;34m\u001b[0m\u001b[0m\n\u001b[0;32m--> 901\u001b[0;31m                         \u001b[0;34m', '\u001b[0m\u001b[0;34m.\u001b[0m\u001b[0mjoin\u001b[0m\u001b[0;34m(\u001b[0m\u001b[0m_get_field_choices\u001b[0m\u001b[0;34m(\u001b[0m\u001b[0;34m)\u001b[0m\u001b[0;34m)\u001b[0m \u001b[0;32mor\u001b[0m \u001b[0;34m'(none)'\u001b[0m\u001b[0;34m,\u001b[0m\u001b[0;34m\u001b[0m\u001b[0;34m\u001b[0m\u001b[0m\n\u001b[0m\u001b[1;32m    902\u001b[0m                     )\n\u001b[1;32m    903\u001b[0m                 )\n",
      "\u001b[0;31mFieldError\u001b[0m: Invalid field name(s) given in select_related: 'yosigy_ticket'. Choices are: user"
     ]
    }
   ],
   "source": [
    "(user.ticketpayment_set.select_related('yosigy_ticket').all()\n",
    "                )"
   ]
  },
  {
   "cell_type": "code",
   "execution_count": 26,
   "metadata": {},
   "outputs": [],
   "source": [
    "ticket_payment=user.ticketpayment_set.filter(id=2).values('yosigy_ticket__menu__name','yosigy_ticket__yosigy_menu__discounted_price')"
   ]
  },
  {
   "cell_type": "code",
   "execution_count": 27,
   "metadata": {},
   "outputs": [
    {
     "name": "stderr",
     "output_type": "stream",
     "text": [
      "(0.002) SELECT \"menu_menu\".\"name\", \"yosigy_yosigymenu\".\"discounted_price\" FROM \"yosigy_ticketpayment\" LEFT OUTER JOIN \"yosigy_ticketpayment_yosigy_ticket\" ON (\"yosigy_ticketpayment\".\"id\" = \"yosigy_ticketpayment_yosigy_ticket\".\"ticketpayment_id\") LEFT OUTER JOIN \"yosigy_yosigyticket\" ON (\"yosigy_ticketpayment_yosigy_ticket\".\"yosigyticket_id\" = \"yosigy_yosigyticket\".\"id\") LEFT OUTER JOIN \"menu_menu\" ON (\"yosigy_yosigyticket\".\"menu_id\" = \"menu_menu\".\"id\") LEFT OUTER JOIN \"yosigy_yosigymenu\" ON (\"yosigy_yosigyticket\".\"yosigy_menu_id\" = \"yosigy_yosigymenu\".\"id\") WHERE (\"yosigy_ticketpayment\".\"user_id\" = 1 AND \"yosigy_ticketpayment\".\"id\" = 2); args=(1, 2)\n"
     ]
    },
    {
     "data": {
      "text/plain": [
       "[{'yosigy_ticket__menu__name': '탕수육 소',\n",
       "  'yosigy_ticket__yosigy_menu__discounted_price': 10000},\n",
       " {'yosigy_ticket__menu__name': '군만두',\n",
       "  'yosigy_ticket__yosigy_menu__discounted_price': 500}]"
      ]
     },
     "execution_count": 27,
     "metadata": {},
     "output_type": "execute_result"
    }
   ],
   "source": [
    "list(ticket_payment)\n",
    "    "
   ]
  },
  {
   "cell_type": "code",
   "execution_count": 29,
   "metadata": {},
   "outputs": [],
   "source": [
    "ticket_payment = user.ticketpayment_set.filter(id=2)"
   ]
  },
  {
   "cell_type": "code",
   "execution_count": 33,
   "metadata": {},
   "outputs": [
    {
     "name": "stderr",
     "output_type": "stream",
     "text": [
      "(0.001) SELECT \"yosigy_ticketpayment\".\"id\", \"yosigy_ticketpayment\".\"created_time\", \"yosigy_ticketpayment\".\"updated_time\", \"yosigy_ticketpayment\".\"user_id\", \"yosigy_ticketpayment\".\"total_price\" FROM \"yosigy_ticketpayment\" WHERE (\"yosigy_ticketpayment\".\"user_id\" = 1 AND \"yosigy_ticketpayment\".\"id\" = 2); args=(1, 2)\n"
     ]
    },
    {
     "data": {
      "text/plain": [
       "{'id': 2,\n",
       " 'created_time': datetime.datetime(2019, 6, 18, 7, 8, 42, 257140, tzinfo=<UTC>),\n",
       " 'updated_time': datetime.datetime(2019, 6, 18, 9, 8, 28, 534543, tzinfo=<UTC>),\n",
       " 'user_id': 1,\n",
       " 'total_price': 0}"
      ]
     },
     "execution_count": 33,
     "metadata": {},
     "output_type": "execute_result"
    }
   ],
   "source": [
    "list(ticket_payment.values())[0]"
   ]
  },
  {
   "cell_type": "code",
   "execution_count": 5,
   "metadata": {},
   "outputs": [
    {
     "name": "stderr",
     "output_type": "stream",
     "text": [
      "(0.001) SELECT \"accounts_user\".\"id\", \"accounts_user\".\"password\", \"accounts_user\".\"last_login\", \"accounts_user\".\"is_superuser\", \"accounts_user\".\"username\", \"accounts_user\".\"first_name\", \"accounts_user\".\"last_name\", \"accounts_user\".\"email\", \"accounts_user\".\"is_staff\", \"accounts_user\".\"is_active\", \"accounts_user\".\"date_joined\", \"accounts_user\".\"phone\", \"accounts_user\".\"address\", \"accounts_user\".\"address_detail\", \"accounts_user\".\"user_type\", \"accounts_user\".\"deactivate_date\" FROM \"accounts_user\" WHERE \"accounts_user\".\"username\" = 'admin'; args=('admin',)\n"
     ]
    }
   ],
   "source": [
    "user = User.objects.get(username='admin')\n",
    "user_ticket_payment = (\n",
    "            user.ticketpayment_set.select_related('restaurant').all()\n",
    "                .annotate(\n",
    "                    restaurant_name=F('restaurant__title'),\n",
    "                    ticket_count=Count('yosigy_ticket'))\n",
    "                .order_by('-created_time').values())"
   ]
  },
  {
   "cell_type": "code",
   "execution_count": 6,
   "metadata": {},
   "outputs": [
    {
     "name": "stderr",
     "output_type": "stream",
     "text": [
      "(0.001) SELECT \"yosigy_ticketpayment\".\"id\", \"yosigy_ticketpayment\".\"created_time\", \"yosigy_ticketpayment\".\"updated_time\", \"yosigy_ticketpayment\".\"user_id\", \"yosigy_ticketpayment\".\"restaurant_id\", \"yosigy_ticketpayment\".\"total_price\", \"restaurant_restaurant\".\"title\" AS \"restaurant_name\", COUNT(\"yosigy_ticketpayment_yosigy_ticket\".\"yosigyticket_id\") AS \"ticket_count\" FROM \"yosigy_ticketpayment\" INNER JOIN \"restaurant_restaurant\" ON (\"yosigy_ticketpayment\".\"restaurant_id\" = \"restaurant_restaurant\".\"id\") LEFT OUTER JOIN \"yosigy_ticketpayment_yosigy_ticket\" ON (\"yosigy_ticketpayment\".\"id\" = \"yosigy_ticketpayment_yosigy_ticket\".\"ticketpayment_id\") WHERE \"yosigy_ticketpayment\".\"user_id\" = 1 GROUP BY \"yosigy_ticketpayment\".\"id\", \"restaurant_restaurant\".\"title\" ORDER BY \"yosigy_ticketpayment\".\"created_time\" DESC; args=(1,)\n"
     ]
    },
    {
     "data": {
      "text/plain": [
       "[{'id': 2,\n",
       "  'created_time': datetime.datetime(2019, 6, 18, 7, 8, 42, 257140, tzinfo=<UTC>),\n",
       "  'updated_time': datetime.datetime(2019, 6, 18, 9, 8, 28, 534543, tzinfo=<UTC>),\n",
       "  'user_id': 1,\n",
       "  'restaurant_id': 5,\n",
       "  'total_price': 0,\n",
       "  'restaurant_name': '홍콩반점-서초점',\n",
       "  'ticket_count': 3}]"
      ]
     },
     "execution_count": 6,
     "metadata": {},
     "output_type": "execute_result"
    }
   ],
   "source": [
    "list(user_ticket_payment)\n"
   ]
  },
  {
   "cell_type": "code",
   "execution_count": 40,
   "metadata": {},
   "outputs": [
    {
     "name": "stderr",
     "output_type": "stream",
     "text": [
      "(0.008) INSERT INTO \"menu_menu\" (\"created_time\", \"updated_time\", \"restaurant_id\", \"name\", \"img\", \"detail\", \"price\", \"type\", \"hit\", \"score\", \"is_recommended\", \"is_yosigy\", \"is_set_menu\") VALUES ('2019-06-20T01:52:48.033359+00:00'::timestamptz, '2019-06-20T01:52:48.033398+00:00'::timestamptz, 2, '치즈피자', '', '치즈가 듬뿍', 12000, '인기메뉴', 0, 0.0, false, false, false) RETURNING \"menu_menu\".\"id\"; args=(datetime.datetime(2019, 6, 20, 1, 52, 48, 33359, tzinfo=<UTC>), datetime.datetime(2019, 6, 20, 1, 52, 48, 33398, tzinfo=<UTC>), 2, '치즈피자', '', '치즈가 듬뿍', 12000, '인기메뉴', 0, 0.0, False, False, False)\n"
     ]
    },
    {
     "data": {
      "text/plain": [
       "<Menu: 치즈피자>"
      ]
     },
     "execution_count": 40,
     "metadata": {},
     "output_type": "execute_result"
    }
   ],
   "source": [
    "Menu.objects.create(\n",
    "            restaurant_id=2,\n",
    "            name='치즈피자',\n",
    "            detail='치즈가 듬뿍',\n",
    "            price='12000',\n",
    "            type='인기메뉴'\n",
    "        )"
   ]
  },
  {
   "cell_type": "code",
   "execution_count": 7,
   "metadata": {},
   "outputs": [
    {
     "data": {
      "text/plain": [
       "django.db.models.query.QuerySet"
      ]
     },
     "execution_count": 7,
     "metadata": {},
     "output_type": "execute_result"
    }
   ],
   "source": [
    "type(user_ticket_payment)"
   ]
  },
  {
   "cell_type": "code",
   "execution_count": 10,
   "metadata": {},
   "outputs": [],
   "source": [
    "ticket_payment = TicketPayment.objects.filter(user=user, id=2)\n",
    "tickets = (\n",
    "            ticket_payment\n",
    "            .select_related('restaurant')\n",
    "            .prefetch_related('yosigy_ticket')\n",
    "            .annotate(\n",
    "                restaurant_name=F('restaurant__title'),\n",
    "                yosigy_ticket_id=F('yosigy_ticket'),\n",
    "                ticket_menu_id=F('yosigy_ticket__menu'),\n",
    "                menu_id=F('yosigy_ticket__menu'),\n",
    "                menu_price=F('yosigy_ticket__menu__price'),\n",
    "                ticket_menu=F('yosigy_ticket__menu__name'),\n",
    "                ticket_menu_price=F('yosigy_ticket__yosigy_menu__discounted_price'),\n",
    "                ticket_expire_time=F('yosigy_ticket__expire_time'),\n",
    "            \n",
    "            ).order_by('ticket_menu_id')\n",
    "            .values(\n",
    "                'id', 'restaurant_id', 'restaurant_name', 'total_price', 'created_time',\n",
    "                'yosigy_ticket_id', 'ticket_menu', 'menu_id', 'menu_price', 'ticket_menu_price', 'ticket_expire_time'))"
   ]
  },
  {
   "cell_type": "code",
   "execution_count": 11,
   "metadata": {},
   "outputs": [
    {
     "name": "stderr",
     "output_type": "stream",
     "text": [
      "(0.006) SELECT \"yosigy_ticketpayment\".\"id\", \"yosigy_ticketpayment\".\"restaurant_id\", \"yosigy_ticketpayment\".\"total_price\", \"yosigy_ticketpayment\".\"created_time\", \"restaurant_restaurant\".\"title\" AS \"restaurant_name\", \"yosigy_ticketpayment_yosigy_ticket\".\"yosigyticket_id\" AS \"yosigy_ticket_id\", \"yosigy_yosigyticket\".\"menu_id\" AS \"menu_id\", \"menu_menu\".\"price\" AS \"menu_price\", \"menu_menu\".\"name\" AS \"ticket_menu\", \"yosigy_yosigymenu\".\"discounted_price\" AS \"ticket_menu_price\", \"yosigy_yosigyticket\".\"expire_time\" AS \"ticket_expire_time\" FROM \"yosigy_ticketpayment\" INNER JOIN \"restaurant_restaurant\" ON (\"yosigy_ticketpayment\".\"restaurant_id\" = \"restaurant_restaurant\".\"id\") LEFT OUTER JOIN \"yosigy_ticketpayment_yosigy_ticket\" ON (\"yosigy_ticketpayment\".\"id\" = \"yosigy_ticketpayment_yosigy_ticket\".\"ticketpayment_id\") LEFT OUTER JOIN \"yosigy_yosigyticket\" ON (\"yosigy_ticketpayment_yosigy_ticket\".\"yosigyticket_id\" = \"yosigy_yosigyticket\".\"id\") LEFT OUTER JOIN \"menu_menu\" ON (\"yosigy_yosigyticket\".\"menu_id\" = \"menu_menu\".\"id\") LEFT OUTER JOIN \"yosigy_yosigymenu\" ON (\"yosigy_yosigyticket\".\"yosigy_menu_id\" = \"yosigy_yosigymenu\".\"id\") WHERE (\"yosigy_ticketpayment\".\"id\" = 2 AND \"yosigy_ticketpayment\".\"user_id\" = 1) ORDER BY \"yosigy_yosigyticket\".\"menu_id\" ASC; args=(2, 1)\n"
     ]
    },
    {
     "data": {
      "text/plain": [
       "[{'id': 2,\n",
       "  'restaurant_id': 5,\n",
       "  'total_price': 0,\n",
       "  'created_time': datetime.datetime(2019, 6, 18, 7, 8, 42, 257140, tzinfo=<UTC>),\n",
       "  'restaurant_name': '홍콩반점-서초점',\n",
       "  'yosigy_ticket_id': 2,\n",
       "  'menu_id': 11,\n",
       "  'menu_price': 8000,\n",
       "  'ticket_menu': '군만두',\n",
       "  'ticket_menu_price': 500,\n",
       "  'ticket_expire_time': datetime.datetime(2019, 6, 18, 8, 21, 21, tzinfo=<UTC>)},\n",
       " {'id': 2,\n",
       "  'restaurant_id': 5,\n",
       "  'total_price': 0,\n",
       "  'created_time': datetime.datetime(2019, 6, 18, 7, 8, 42, 257140, tzinfo=<UTC>),\n",
       "  'restaurant_name': '홍콩반점-서초점',\n",
       "  'yosigy_ticket_id': 3,\n",
       "  'menu_id': 11,\n",
       "  'menu_price': 8000,\n",
       "  'ticket_menu': '군만두',\n",
       "  'ticket_menu_price': 500,\n",
       "  'ticket_expire_time': datetime.datetime(2019, 6, 18, 9, 6, 59, tzinfo=<UTC>)},\n",
       " {'id': 2,\n",
       "  'restaurant_id': 5,\n",
       "  'total_price': 0,\n",
       "  'created_time': datetime.datetime(2019, 6, 18, 7, 8, 42, 257140, tzinfo=<UTC>),\n",
       "  'restaurant_name': '홍콩반점-서초점',\n",
       "  'yosigy_ticket_id': 1,\n",
       "  'menu_id': 13,\n",
       "  'menu_price': 13000,\n",
       "  'ticket_menu': '탕수육 소',\n",
       "  'ticket_menu_price': 10000,\n",
       "  'ticket_expire_time': datetime.datetime(2019, 6, 18, 7, 7, 32, tzinfo=<UTC>)}]"
      ]
     },
     "execution_count": 11,
     "metadata": {},
     "output_type": "execute_result"
    }
   ],
   "source": [
    "list(tickets)"
   ]
  },
  {
   "cell_type": "code",
   "execution_count": 19,
   "metadata": {},
   "outputs": [
    {
     "name": "stderr",
     "output_type": "stream",
     "text": [
      "(0.002) SELECT \"yosigy_ticketpayment\".\"id\", \"yosigy_ticketpayment\".\"created_time\", \"yosigy_ticketpayment\".\"updated_time\", \"yosigy_ticketpayment\".\"user_id\", \"yosigy_ticketpayment\".\"restaurant_id\", \"yosigy_ticketpayment\".\"total_price\", \"restaurant_restaurant\".\"title\" AS \"restaurant_name\", \"yosigy_ticketpayment_yosigy_ticket\".\"yosigyticket_id\" AS \"yosigy_ticket_id\", \"yosigy_yosigyticket\".\"menu_id\" AS \"ticket_menu_id\", \"yosigy_yosigyticket\".\"menu_id\" AS \"menu_id\", \"menu_menu\".\"price\" AS \"menu_price\", \"menu_menu\".\"name\" AS \"ticket_menu\", \"yosigy_yosigymenu\".\"discounted_price\" AS \"ticket_menu_price\", \"yosigy_yosigyticket\".\"expire_time\" AS \"ticket_expire_time\", \"restaurant_restaurant\".\"id\", \"restaurant_restaurant\".\"created_time\", \"restaurant_restaurant\".\"updated_time\", \"restaurant_restaurant\".\"name\", \"restaurant_restaurant\".\"owner\", \"restaurant_restaurant\".\"store_owner_id\", \"restaurant_restaurant\".\"title\", \"restaurant_restaurant\".\"img\", \"restaurant_restaurant\".\"tel\", \"restaurant_restaurant\".\"min_order_price\", \"restaurant_restaurant\".\"order_way\", \"restaurant_restaurant\".\"origin\", \"restaurant_restaurant\".\"delivery_charge\", \"restaurant_restaurant\".\"info\", \"restaurant_restaurant\".\"event\", \"restaurant_restaurant\".\"event_img\", \"restaurant_restaurant\".\"type\", \"restaurant_restaurant\".\"estimated_delivery_time\", \"restaurant_restaurant\".\"operation_start_hour\", \"restaurant_restaurant\".\"operation_end_hour\", \"restaurant_restaurant\".\"is_yosigy\" FROM \"yosigy_ticketpayment\" INNER JOIN \"restaurant_restaurant\" ON (\"yosigy_ticketpayment\".\"restaurant_id\" = \"restaurant_restaurant\".\"id\") LEFT OUTER JOIN \"yosigy_ticketpayment_yosigy_ticket\" ON (\"yosigy_ticketpayment\".\"id\" = \"yosigy_ticketpayment_yosigy_ticket\".\"ticketpayment_id\") LEFT OUTER JOIN \"yosigy_yosigyticket\" ON (\"yosigy_ticketpayment_yosigy_ticket\".\"yosigyticket_id\" = \"yosigy_yosigyticket\".\"id\") LEFT OUTER JOIN \"menu_menu\" ON (\"yosigy_yosigyticket\".\"menu_id\" = \"menu_menu\".\"id\") LEFT OUTER JOIN \"yosigy_yosigymenu\" ON (\"yosigy_yosigyticket\".\"yosigy_menu_id\" = \"yosigy_yosigymenu\".\"id\") WHERE (\"yosigy_ticketpayment\".\"id\" = 2 AND \"yosigy_ticketpayment\".\"user_id\" = 1) ORDER BY \"ticket_menu_id\" ASC; args=(2, 1)\n"
     ]
    },
    {
     "ename": "TypeError",
     "evalue": "Object of type TicketPayment is not JSON serializable",
     "output_type": "error",
     "traceback": [
      "\u001b[0;31m---------------------------------------------------------------------------\u001b[0m",
      "\u001b[0;31mTypeError\u001b[0m                                 Traceback (most recent call last)",
      "\u001b[0;32m<ipython-input-19-3e51c0b99aa3>\u001b[0m in \u001b[0;36m<module>\u001b[0;34m\u001b[0m\n\u001b[1;32m     14\u001b[0m )\n\u001b[1;32m     15\u001b[0m \u001b[0;32mimport\u001b[0m \u001b[0mjson\u001b[0m\u001b[0;34m\u001b[0m\u001b[0;34m\u001b[0m\u001b[0m\n\u001b[0;32m---> 16\u001b[0;31m \u001b[0mjson\u001b[0m\u001b[0;34m.\u001b[0m\u001b[0mdumps\u001b[0m\u001b[0;34m(\u001b[0m\u001b[0mlist\u001b[0m\u001b[0;34m(\u001b[0m\u001b[0mtickets\u001b[0m\u001b[0;34m)\u001b[0m\u001b[0;34m)\u001b[0m\u001b[0;34m\u001b[0m\u001b[0;34m\u001b[0m\u001b[0m\n\u001b[0m\u001b[1;32m     17\u001b[0m \u001b[0;34m\u001b[0m\u001b[0m\n",
      "\u001b[0;32m/Library/Frameworks/Python.framework/Versions/3.7/lib/python3.7/json/__init__.py\u001b[0m in \u001b[0;36mdumps\u001b[0;34m(obj, skipkeys, ensure_ascii, check_circular, allow_nan, cls, indent, separators, default, sort_keys, **kw)\u001b[0m\n\u001b[1;32m    229\u001b[0m         \u001b[0mcls\u001b[0m \u001b[0;32mis\u001b[0m \u001b[0;32mNone\u001b[0m \u001b[0;32mand\u001b[0m \u001b[0mindent\u001b[0m \u001b[0;32mis\u001b[0m \u001b[0;32mNone\u001b[0m \u001b[0;32mand\u001b[0m \u001b[0mseparators\u001b[0m \u001b[0;32mis\u001b[0m \u001b[0;32mNone\u001b[0m \u001b[0;32mand\u001b[0m\u001b[0;34m\u001b[0m\u001b[0;34m\u001b[0m\u001b[0m\n\u001b[1;32m    230\u001b[0m         default is None and not sort_keys and not kw):\n\u001b[0;32m--> 231\u001b[0;31m         \u001b[0;32mreturn\u001b[0m \u001b[0m_default_encoder\u001b[0m\u001b[0;34m.\u001b[0m\u001b[0mencode\u001b[0m\u001b[0;34m(\u001b[0m\u001b[0mobj\u001b[0m\u001b[0;34m)\u001b[0m\u001b[0;34m\u001b[0m\u001b[0;34m\u001b[0m\u001b[0m\n\u001b[0m\u001b[1;32m    232\u001b[0m     \u001b[0;32mif\u001b[0m \u001b[0mcls\u001b[0m \u001b[0;32mis\u001b[0m \u001b[0;32mNone\u001b[0m\u001b[0;34m:\u001b[0m\u001b[0;34m\u001b[0m\u001b[0;34m\u001b[0m\u001b[0m\n\u001b[1;32m    233\u001b[0m         \u001b[0mcls\u001b[0m \u001b[0;34m=\u001b[0m \u001b[0mJSONEncoder\u001b[0m\u001b[0;34m\u001b[0m\u001b[0;34m\u001b[0m\u001b[0m\n",
      "\u001b[0;32m/Library/Frameworks/Python.framework/Versions/3.7/lib/python3.7/json/encoder.py\u001b[0m in \u001b[0;36mencode\u001b[0;34m(self, o)\u001b[0m\n\u001b[1;32m    197\u001b[0m         \u001b[0;31m# exceptions aren't as detailed.  The list call should be roughly\u001b[0m\u001b[0;34m\u001b[0m\u001b[0;34m\u001b[0m\u001b[0;34m\u001b[0m\u001b[0m\n\u001b[1;32m    198\u001b[0m         \u001b[0;31m# equivalent to the PySequence_Fast that ''.join() would do.\u001b[0m\u001b[0;34m\u001b[0m\u001b[0;34m\u001b[0m\u001b[0;34m\u001b[0m\u001b[0m\n\u001b[0;32m--> 199\u001b[0;31m         \u001b[0mchunks\u001b[0m \u001b[0;34m=\u001b[0m \u001b[0mself\u001b[0m\u001b[0;34m.\u001b[0m\u001b[0miterencode\u001b[0m\u001b[0;34m(\u001b[0m\u001b[0mo\u001b[0m\u001b[0;34m,\u001b[0m \u001b[0m_one_shot\u001b[0m\u001b[0;34m=\u001b[0m\u001b[0;32mTrue\u001b[0m\u001b[0;34m)\u001b[0m\u001b[0;34m\u001b[0m\u001b[0;34m\u001b[0m\u001b[0m\n\u001b[0m\u001b[1;32m    200\u001b[0m         \u001b[0;32mif\u001b[0m \u001b[0;32mnot\u001b[0m \u001b[0misinstance\u001b[0m\u001b[0;34m(\u001b[0m\u001b[0mchunks\u001b[0m\u001b[0;34m,\u001b[0m \u001b[0;34m(\u001b[0m\u001b[0mlist\u001b[0m\u001b[0;34m,\u001b[0m \u001b[0mtuple\u001b[0m\u001b[0;34m)\u001b[0m\u001b[0;34m)\u001b[0m\u001b[0;34m:\u001b[0m\u001b[0;34m\u001b[0m\u001b[0;34m\u001b[0m\u001b[0m\n\u001b[1;32m    201\u001b[0m             \u001b[0mchunks\u001b[0m \u001b[0;34m=\u001b[0m \u001b[0mlist\u001b[0m\u001b[0;34m(\u001b[0m\u001b[0mchunks\u001b[0m\u001b[0;34m)\u001b[0m\u001b[0;34m\u001b[0m\u001b[0;34m\u001b[0m\u001b[0m\n",
      "\u001b[0;32m/Library/Frameworks/Python.framework/Versions/3.7/lib/python3.7/json/encoder.py\u001b[0m in \u001b[0;36miterencode\u001b[0;34m(self, o, _one_shot)\u001b[0m\n\u001b[1;32m    255\u001b[0m                 \u001b[0mself\u001b[0m\u001b[0;34m.\u001b[0m\u001b[0mkey_separator\u001b[0m\u001b[0;34m,\u001b[0m \u001b[0mself\u001b[0m\u001b[0;34m.\u001b[0m\u001b[0mitem_separator\u001b[0m\u001b[0;34m,\u001b[0m \u001b[0mself\u001b[0m\u001b[0;34m.\u001b[0m\u001b[0msort_keys\u001b[0m\u001b[0;34m,\u001b[0m\u001b[0;34m\u001b[0m\u001b[0;34m\u001b[0m\u001b[0m\n\u001b[1;32m    256\u001b[0m                 self.skipkeys, _one_shot)\n\u001b[0;32m--> 257\u001b[0;31m         \u001b[0;32mreturn\u001b[0m \u001b[0m_iterencode\u001b[0m\u001b[0;34m(\u001b[0m\u001b[0mo\u001b[0m\u001b[0;34m,\u001b[0m \u001b[0;36m0\u001b[0m\u001b[0;34m)\u001b[0m\u001b[0;34m\u001b[0m\u001b[0;34m\u001b[0m\u001b[0m\n\u001b[0m\u001b[1;32m    258\u001b[0m \u001b[0;34m\u001b[0m\u001b[0m\n\u001b[1;32m    259\u001b[0m def _make_iterencode(markers, _default, _encoder, _indent, _floatstr,\n",
      "\u001b[0;32m/Library/Frameworks/Python.framework/Versions/3.7/lib/python3.7/json/encoder.py\u001b[0m in \u001b[0;36mdefault\u001b[0;34m(self, o)\u001b[0m\n\u001b[1;32m    177\u001b[0m \u001b[0;34m\u001b[0m\u001b[0m\n\u001b[1;32m    178\u001b[0m         \"\"\"\n\u001b[0;32m--> 179\u001b[0;31m         raise TypeError(f'Object of type {o.__class__.__name__} '\n\u001b[0m\u001b[1;32m    180\u001b[0m                         f'is not JSON serializable')\n\u001b[1;32m    181\u001b[0m \u001b[0;34m\u001b[0m\u001b[0m\n",
      "\u001b[0;31mTypeError\u001b[0m: Object of type TicketPayment is not JSON serializable"
     ]
    }
   ],
   "source": [
    " tickets = (\n",
    "            ticket_payment\n",
    "            .select_related('restaurant')\n",
    "            .annotate(\n",
    "                restaurant_name=F('restaurant__title'),\n",
    "                yosigy_ticket_id=F('yosigy_ticket'),\n",
    "                ticket_menu_id=F('yosigy_ticket__menu'),\n",
    "                menu_id=F('yosigy_ticket__menu'),\n",
    "                menu_price=F('yosigy_ticket__menu__price'),\n",
    "                ticket_menu=F('yosigy_ticket__menu__name'),\n",
    "                ticket_menu_price=F('yosigy_ticket__yosigy_menu__discounted_price'),\n",
    "                ticket_expire_time=F('yosigy_ticket__expire_time')\n",
    "            ).order_by('ticket_menu_id')\n",
    " )\n",
    "import json\n",
    "json.dumps(list(tickets))\n",
    "            "
   ]
  },
  {
   "cell_type": "code",
   "execution_count": 20,
   "metadata": {},
   "outputs": [
    {
     "data": {
      "text/plain": [
       "[<TicketPayment: 2-0원>, <TicketPayment: 2-0원>, <TicketPayment: 2-0원>]"
      ]
     },
     "execution_count": 20,
     "metadata": {},
     "output_type": "execute_result"
    }
   ],
   "source": [
    "list(tickets)"
   ]
  },
  {
   "cell_type": "code",
   "execution_count": 22,
   "metadata": {},
   "outputs": [],
   "source": [
    "tickets = (\n",
    "            ticket_payment\n",
    "                .select_related('restaurant')\n",
    "                .prefetch_related(Prefetch('yosigy_ticket',queryset=YosigyTicket.objects.select_related('menu'))))"
   ]
  },
  {
   "cell_type": "code",
   "execution_count": 33,
   "metadata": {},
   "outputs": [
    {
     "data": {
      "text/plain": [
       "yosigy.models.TicketPayment"
      ]
     },
     "execution_count": 33,
     "metadata": {},
     "output_type": "execute_result"
    }
   ],
   "source": [
    "ticket_payment=list(tickets)[0]\n",
    "type(ticket_payment)"
   ]
  },
  {
   "cell_type": "code",
   "execution_count": 30,
   "metadata": {},
   "outputs": [
    {
     "ename": "SyntaxError",
     "evalue": "invalid syntax (<ipython-input-30-26f51b3571e2>, line 5)",
     "output_type": "error",
     "traceback": [
      "\u001b[0;36m  File \u001b[0;32m\"<ipython-input-30-26f51b3571e2>\"\u001b[0;36m, line \u001b[0;32m5\u001b[0m\n\u001b[0;31m    wanted_asdf=\u001b[0m\n\u001b[0m                ^\u001b[0m\n\u001b[0;31mSyntaxError\u001b[0m\u001b[0;31m:\u001b[0m invalid syntax\n"
     ]
    }
   ],
   "source": [
    "ticket_payment=list(tickets)[0]\n",
    "ticket_payment[0].yosigy_ticket.all()\n",
    "\n",
    "\n",
    "wanted_asdf=\n",
    "{'id':ticket_payment.id,\n",
    " 'restaurant_id':ticket_payment.restaurant.id,\n",
    " 'restaurant_name':ticket_payment.restaurant.title,\n",
    " 'total_price':ticket_payment.total_price,\n",
    " 'created_time': ticket_payment.created_time.strftime('%Y-%m-%d %H:%M'),\n",
    " 'yosigy_tickets':[\n",
    "     {\n",
    "        'yosigy_ticket_id': y_ticket.id,\n",
    "        'ticket_menu': y_ticket.menu.name,\n",
    "        'menu_id': y_ticket.menu.id,\n",
    "        'menu_price': y_ticket.menu.price, \n",
    "        'ticket_menu_price': y_ticket.yosigy_menu.discounted_price,\n",
    "        'ticket_expire_time': y_ticket.exprie_time.strftime('%Y-%m-%d %H:%M') \n",
    "     }\n",
    "     for y_ticket in ticket_payment.yogiyo_ticket.all()\n",
    " ]\n",
    "}\n",
    "    "
   ]
  },
  {
   "cell_type": "code",
   "execution_count": 42,
   "metadata": {},
   "outputs": [
    {
     "name": "stderr",
     "output_type": "stream",
     "text": [
      "(0.001) SELECT \"order_order\".\"created_time\", \"order_order\".\"updated_time\", \"order_order\".\"id\", \"order_order\".\"user_id\", \"order_order\".\"cart_id\", \"order_order\".\"restaurant_id\", \"order_order\".\"total_price\", \"order_order\".\"address\", \"order_order\".\"address_detail\", \"order_order\".\"status\", \"order_order\".\"delivery_status\", \"order_order\".\"weather\", \"order_order\".\"phone_num\", \"order_order\".\"payment_status\", \"order_order\".\"gift_coupon_id\" FROM \"order_order\" ORDER BY \"order_order\".\"created_time\" ASC  LIMIT 1; args=()\n",
      "(0.000) SELECT \"accounts_user\".\"id\", \"accounts_user\".\"password\", \"accounts_user\".\"last_login\", \"accounts_user\".\"is_superuser\", \"accounts_user\".\"username\", \"accounts_user\".\"first_name\", \"accounts_user\".\"last_name\", \"accounts_user\".\"email\", \"accounts_user\".\"is_staff\", \"accounts_user\".\"is_active\", \"accounts_user\".\"date_joined\", \"accounts_user\".\"phone\", \"accounts_user\".\"address\", \"accounts_user\".\"address_detail\", \"accounts_user\".\"user_type\", \"accounts_user\".\"deactivate_date\" FROM \"accounts_user\" WHERE \"accounts_user\".\"id\" = 9; args=(9,)\n",
      "(0.000) SELECT \"restaurant_restaurant\".\"id\", \"restaurant_restaurant\".\"created_time\", \"restaurant_restaurant\".\"updated_time\", \"restaurant_restaurant\".\"name\", \"restaurant_restaurant\".\"owner\", \"restaurant_restaurant\".\"store_owner_id\", \"restaurant_restaurant\".\"title\", \"restaurant_restaurant\".\"img\", \"restaurant_restaurant\".\"tel\", \"restaurant_restaurant\".\"min_order_price\", \"restaurant_restaurant\".\"order_way\", \"restaurant_restaurant\".\"origin\", \"restaurant_restaurant\".\"delivery_charge\", \"restaurant_restaurant\".\"info\", \"restaurant_restaurant\".\"event\", \"restaurant_restaurant\".\"event_img\", \"restaurant_restaurant\".\"type\", \"restaurant_restaurant\".\"estimated_delivery_time\", \"restaurant_restaurant\".\"operation_start_hour\", \"restaurant_restaurant\".\"operation_end_hour\", \"restaurant_restaurant\".\"is_yosigy\" FROM \"restaurant_restaurant\" WHERE \"restaurant_restaurant\".\"id\" = 1; args=(1,)\n"
     ]
    },
    {
     "data": {
      "text/plain": [
       "<Order: mhshimtest - 굽네치킨 - weather : 1>"
      ]
     },
     "execution_count": 42,
     "metadata": {},
     "output_type": "execute_result"
    }
   ],
   "source": [
    "from order.models import Order\n",
    "order= Order.objects.all().order_by('created_time')\n",
    "order[0]"
   ]
  },
  {
   "cell_type": "code",
   "execution_count": 39,
   "metadata": {},
   "outputs": [
    {
     "name": "stderr",
     "output_type": "stream",
     "text": [
      "(0.001) SELECT \"order_order\".\"created_time\", \"order_order\".\"updated_time\", \"order_order\".\"id\", \"order_order\".\"user_id\", \"order_order\".\"cart_id\", \"order_order\".\"restaurant_id\", \"order_order\".\"total_price\", \"order_order\".\"address\", \"order_order\".\"address_detail\", \"order_order\".\"status\", \"order_order\".\"delivery_status\", \"order_order\".\"weather\", \"order_order\".\"phone_num\", \"order_order\".\"payment_status\", \"order_order\".\"gift_coupon_id\" FROM \"order_order\"  LIMIT 1 OFFSET 1; args=()\n",
      "(0.001) SELECT \"yosigy_yosigyticket\".\"id\", \"yosigy_yosigyticket\".\"created_time\", \"yosigy_yosigyticket\".\"updated_time\", \"yosigy_yosigyticket\".\"user_id\", \"yosigy_yosigyticket\".\"yosigy_menu_id\", \"yosigy_yosigyticket\".\"menu_id\", \"yosigy_yosigyticket\".\"expire_time\", \"yosigy_yosigyticket\".\"status\" FROM \"yosigy_yosigyticket\" INNER JOIN \"order_order_yosigy_ticket\" ON (\"yosigy_yosigyticket\".\"id\" = \"order_order_yosigy_ticket\".\"yosigyticket_id\") WHERE \"order_order_yosigy_ticket\".\"order_id\" = '058518bf-7234-43a1-b653-9ceefa276436'::uuid  LIMIT 21; args=(UUID('058518bf-7234-43a1-b653-9ceefa276436'),)\n"
     ]
    },
    {
     "data": {
      "text/plain": [
       "<QuerySet []>"
      ]
     },
     "execution_count": 39,
     "metadata": {},
     "output_type": "execute_result"
    }
   ],
   "source": [
    "order[1].yosigy_ticket.all()\n",
    "\n"
   ]
  },
  {
   "cell_type": "code",
   "execution_count": 43,
   "metadata": {},
   "outputs": [],
   "source": [
    "user_ticket_payment = (\n",
    "            user.ticketpayment_set.select_related('restaurant').all()\n",
    "                .annotate(\n",
    "                    restaurant_name=F('restaurant__title'),\n",
    "                    restaurant_img=F('restaurant__img'),\n",
    "                    ticket_count=Count('yosigy_ticket'),\n",
    "                    payment_time=F('created_time'))\n",
    "                .extra(select={'datestr': \"DATE_FORMAT(payment_time, '%Y-%m-%d')\"})\n",
    "            .order_by('-payment_time').values())"
   ]
  },
  {
   "cell_type": "code",
   "execution_count": 44,
   "metadata": {},
   "outputs": [
    {
     "name": "stderr",
     "output_type": "stream",
     "text": [
      "(0.000) None; args=(1,)\n"
     ]
    },
    {
     "ename": "IndexError",
     "evalue": "tuple index out of range",
     "output_type": "error",
     "traceback": [
      "\u001b[0;31m---------------------------------------------------------------------------\u001b[0m",
      "\u001b[0;31mIndexError\u001b[0m                                Traceback (most recent call last)",
      "\u001b[0;32m~/Desktop/rookiehero/project/venv/lib/python3.7/site-packages/IPython/core/formatters.py\u001b[0m in \u001b[0;36m__call__\u001b[0;34m(self, obj)\u001b[0m\n\u001b[1;32m    700\u001b[0m                 \u001b[0mtype_pprinters\u001b[0m\u001b[0;34m=\u001b[0m\u001b[0mself\u001b[0m\u001b[0;34m.\u001b[0m\u001b[0mtype_printers\u001b[0m\u001b[0;34m,\u001b[0m\u001b[0;34m\u001b[0m\u001b[0;34m\u001b[0m\u001b[0m\n\u001b[1;32m    701\u001b[0m                 deferred_pprinters=self.deferred_printers)\n\u001b[0;32m--> 702\u001b[0;31m             \u001b[0mprinter\u001b[0m\u001b[0;34m.\u001b[0m\u001b[0mpretty\u001b[0m\u001b[0;34m(\u001b[0m\u001b[0mobj\u001b[0m\u001b[0;34m)\u001b[0m\u001b[0;34m\u001b[0m\u001b[0;34m\u001b[0m\u001b[0m\n\u001b[0m\u001b[1;32m    703\u001b[0m             \u001b[0mprinter\u001b[0m\u001b[0;34m.\u001b[0m\u001b[0mflush\u001b[0m\u001b[0;34m(\u001b[0m\u001b[0;34m)\u001b[0m\u001b[0;34m\u001b[0m\u001b[0;34m\u001b[0m\u001b[0m\n\u001b[1;32m    704\u001b[0m             \u001b[0;32mreturn\u001b[0m \u001b[0mstream\u001b[0m\u001b[0;34m.\u001b[0m\u001b[0mgetvalue\u001b[0m\u001b[0;34m(\u001b[0m\u001b[0;34m)\u001b[0m\u001b[0;34m\u001b[0m\u001b[0;34m\u001b[0m\u001b[0m\n",
      "\u001b[0;32m~/Desktop/rookiehero/project/venv/lib/python3.7/site-packages/IPython/lib/pretty.py\u001b[0m in \u001b[0;36mpretty\u001b[0;34m(self, obj)\u001b[0m\n\u001b[1;32m    400\u001b[0m                         \u001b[0;32mif\u001b[0m \u001b[0mcls\u001b[0m \u001b[0;32mis\u001b[0m \u001b[0;32mnot\u001b[0m \u001b[0mobject\u001b[0m\u001b[0;31m \u001b[0m\u001b[0;31m\\\u001b[0m\u001b[0;34m\u001b[0m\u001b[0;34m\u001b[0m\u001b[0m\n\u001b[1;32m    401\u001b[0m                                 \u001b[0;32mand\u001b[0m \u001b[0mcallable\u001b[0m\u001b[0;34m(\u001b[0m\u001b[0mcls\u001b[0m\u001b[0;34m.\u001b[0m\u001b[0m__dict__\u001b[0m\u001b[0;34m.\u001b[0m\u001b[0mget\u001b[0m\u001b[0;34m(\u001b[0m\u001b[0;34m'__repr__'\u001b[0m\u001b[0;34m)\u001b[0m\u001b[0;34m)\u001b[0m\u001b[0;34m:\u001b[0m\u001b[0;34m\u001b[0m\u001b[0;34m\u001b[0m\u001b[0m\n\u001b[0;32m--> 402\u001b[0;31m                             \u001b[0;32mreturn\u001b[0m \u001b[0m_repr_pprint\u001b[0m\u001b[0;34m(\u001b[0m\u001b[0mobj\u001b[0m\u001b[0;34m,\u001b[0m \u001b[0mself\u001b[0m\u001b[0;34m,\u001b[0m \u001b[0mcycle\u001b[0m\u001b[0;34m)\u001b[0m\u001b[0;34m\u001b[0m\u001b[0;34m\u001b[0m\u001b[0m\n\u001b[0m\u001b[1;32m    403\u001b[0m \u001b[0;34m\u001b[0m\u001b[0m\n\u001b[1;32m    404\u001b[0m             \u001b[0;32mreturn\u001b[0m \u001b[0m_default_pprint\u001b[0m\u001b[0;34m(\u001b[0m\u001b[0mobj\u001b[0m\u001b[0;34m,\u001b[0m \u001b[0mself\u001b[0m\u001b[0;34m,\u001b[0m \u001b[0mcycle\u001b[0m\u001b[0;34m)\u001b[0m\u001b[0;34m\u001b[0m\u001b[0;34m\u001b[0m\u001b[0m\n",
      "\u001b[0;32m~/Desktop/rookiehero/project/venv/lib/python3.7/site-packages/IPython/lib/pretty.py\u001b[0m in \u001b[0;36m_repr_pprint\u001b[0;34m(obj, p, cycle)\u001b[0m\n\u001b[1;32m    695\u001b[0m     \u001b[0;34m\"\"\"A pprint that just redirects to the normal repr function.\"\"\"\u001b[0m\u001b[0;34m\u001b[0m\u001b[0;34m\u001b[0m\u001b[0m\n\u001b[1;32m    696\u001b[0m     \u001b[0;31m# Find newlines and replace them with p.break_()\u001b[0m\u001b[0;34m\u001b[0m\u001b[0;34m\u001b[0m\u001b[0;34m\u001b[0m\u001b[0m\n\u001b[0;32m--> 697\u001b[0;31m     \u001b[0moutput\u001b[0m \u001b[0;34m=\u001b[0m \u001b[0mrepr\u001b[0m\u001b[0;34m(\u001b[0m\u001b[0mobj\u001b[0m\u001b[0;34m)\u001b[0m\u001b[0;34m\u001b[0m\u001b[0;34m\u001b[0m\u001b[0m\n\u001b[0m\u001b[1;32m    698\u001b[0m     \u001b[0;32mfor\u001b[0m \u001b[0midx\u001b[0m\u001b[0;34m,\u001b[0m\u001b[0moutput_line\u001b[0m \u001b[0;32min\u001b[0m \u001b[0menumerate\u001b[0m\u001b[0;34m(\u001b[0m\u001b[0moutput\u001b[0m\u001b[0;34m.\u001b[0m\u001b[0msplitlines\u001b[0m\u001b[0;34m(\u001b[0m\u001b[0;34m)\u001b[0m\u001b[0;34m)\u001b[0m\u001b[0;34m:\u001b[0m\u001b[0;34m\u001b[0m\u001b[0;34m\u001b[0m\u001b[0m\n\u001b[1;32m    699\u001b[0m         \u001b[0;32mif\u001b[0m \u001b[0midx\u001b[0m\u001b[0;34m:\u001b[0m\u001b[0;34m\u001b[0m\u001b[0;34m\u001b[0m\u001b[0m\n",
      "\u001b[0;32m~/Desktop/rookiehero/project/venv/lib/python3.7/site-packages/django/db/models/query.py\u001b[0m in \u001b[0;36m__repr__\u001b[0;34m(self)\u001b[0m\n\u001b[1;32m    242\u001b[0m \u001b[0;34m\u001b[0m\u001b[0m\n\u001b[1;32m    243\u001b[0m     \u001b[0;32mdef\u001b[0m \u001b[0m__repr__\u001b[0m\u001b[0;34m(\u001b[0m\u001b[0mself\u001b[0m\u001b[0;34m)\u001b[0m\u001b[0;34m:\u001b[0m\u001b[0;34m\u001b[0m\u001b[0;34m\u001b[0m\u001b[0m\n\u001b[0;32m--> 244\u001b[0;31m         \u001b[0mdata\u001b[0m \u001b[0;34m=\u001b[0m \u001b[0mlist\u001b[0m\u001b[0;34m(\u001b[0m\u001b[0mself\u001b[0m\u001b[0;34m[\u001b[0m\u001b[0;34m:\u001b[0m\u001b[0mREPR_OUTPUT_SIZE\u001b[0m \u001b[0;34m+\u001b[0m \u001b[0;36m1\u001b[0m\u001b[0;34m]\u001b[0m\u001b[0;34m)\u001b[0m\u001b[0;34m\u001b[0m\u001b[0;34m\u001b[0m\u001b[0m\n\u001b[0m\u001b[1;32m    245\u001b[0m         \u001b[0;32mif\u001b[0m \u001b[0mlen\u001b[0m\u001b[0;34m(\u001b[0m\u001b[0mdata\u001b[0m\u001b[0;34m)\u001b[0m \u001b[0;34m>\u001b[0m \u001b[0mREPR_OUTPUT_SIZE\u001b[0m\u001b[0;34m:\u001b[0m\u001b[0;34m\u001b[0m\u001b[0;34m\u001b[0m\u001b[0m\n\u001b[1;32m    246\u001b[0m             \u001b[0mdata\u001b[0m\u001b[0;34m[\u001b[0m\u001b[0;34m-\u001b[0m\u001b[0;36m1\u001b[0m\u001b[0;34m]\u001b[0m \u001b[0;34m=\u001b[0m \u001b[0;34m\"...(remaining elements truncated)...\"\u001b[0m\u001b[0;34m\u001b[0m\u001b[0;34m\u001b[0m\u001b[0m\n",
      "\u001b[0;32m~/Desktop/rookiehero/project/venv/lib/python3.7/site-packages/django/db/models/query.py\u001b[0m in \u001b[0;36m__iter__\u001b[0;34m(self)\u001b[0m\n\u001b[1;32m    266\u001b[0m                \u001b[0;34m-\u001b[0m \u001b[0mResponsible\u001b[0m \u001b[0;32mfor\u001b[0m \u001b[0mturning\u001b[0m \u001b[0mthe\u001b[0m \u001b[0mrows\u001b[0m \u001b[0minto\u001b[0m \u001b[0mmodel\u001b[0m \u001b[0mobjects\u001b[0m\u001b[0;34m.\u001b[0m\u001b[0;34m\u001b[0m\u001b[0;34m\u001b[0m\u001b[0m\n\u001b[1;32m    267\u001b[0m         \"\"\"\n\u001b[0;32m--> 268\u001b[0;31m         \u001b[0mself\u001b[0m\u001b[0;34m.\u001b[0m\u001b[0m_fetch_all\u001b[0m\u001b[0;34m(\u001b[0m\u001b[0;34m)\u001b[0m\u001b[0;34m\u001b[0m\u001b[0;34m\u001b[0m\u001b[0m\n\u001b[0m\u001b[1;32m    269\u001b[0m         \u001b[0;32mreturn\u001b[0m \u001b[0miter\u001b[0m\u001b[0;34m(\u001b[0m\u001b[0mself\u001b[0m\u001b[0;34m.\u001b[0m\u001b[0m_result_cache\u001b[0m\u001b[0;34m)\u001b[0m\u001b[0;34m\u001b[0m\u001b[0;34m\u001b[0m\u001b[0m\n\u001b[1;32m    270\u001b[0m \u001b[0;34m\u001b[0m\u001b[0m\n",
      "\u001b[0;32m~/Desktop/rookiehero/project/venv/lib/python3.7/site-packages/django/db/models/query.py\u001b[0m in \u001b[0;36m_fetch_all\u001b[0;34m(self)\u001b[0m\n\u001b[1;32m   1181\u001b[0m     \u001b[0;32mdef\u001b[0m \u001b[0m_fetch_all\u001b[0m\u001b[0;34m(\u001b[0m\u001b[0mself\u001b[0m\u001b[0;34m)\u001b[0m\u001b[0;34m:\u001b[0m\u001b[0;34m\u001b[0m\u001b[0;34m\u001b[0m\u001b[0m\n\u001b[1;32m   1182\u001b[0m         \u001b[0;32mif\u001b[0m \u001b[0mself\u001b[0m\u001b[0;34m.\u001b[0m\u001b[0m_result_cache\u001b[0m \u001b[0;32mis\u001b[0m \u001b[0;32mNone\u001b[0m\u001b[0;34m:\u001b[0m\u001b[0;34m\u001b[0m\u001b[0;34m\u001b[0m\u001b[0m\n\u001b[0;32m-> 1183\u001b[0;31m             \u001b[0mself\u001b[0m\u001b[0;34m.\u001b[0m\u001b[0m_result_cache\u001b[0m \u001b[0;34m=\u001b[0m \u001b[0mlist\u001b[0m\u001b[0;34m(\u001b[0m\u001b[0mself\u001b[0m\u001b[0;34m.\u001b[0m\u001b[0m_iterable_class\u001b[0m\u001b[0;34m(\u001b[0m\u001b[0mself\u001b[0m\u001b[0;34m)\u001b[0m\u001b[0;34m)\u001b[0m\u001b[0;34m\u001b[0m\u001b[0;34m\u001b[0m\u001b[0m\n\u001b[0m\u001b[1;32m   1184\u001b[0m         \u001b[0;32mif\u001b[0m \u001b[0mself\u001b[0m\u001b[0;34m.\u001b[0m\u001b[0m_prefetch_related_lookups\u001b[0m \u001b[0;32mand\u001b[0m \u001b[0;32mnot\u001b[0m \u001b[0mself\u001b[0m\u001b[0;34m.\u001b[0m\u001b[0m_prefetch_done\u001b[0m\u001b[0;34m:\u001b[0m\u001b[0;34m\u001b[0m\u001b[0;34m\u001b[0m\u001b[0m\n\u001b[1;32m   1185\u001b[0m             \u001b[0mself\u001b[0m\u001b[0;34m.\u001b[0m\u001b[0m_prefetch_related_objects\u001b[0m\u001b[0;34m(\u001b[0m\u001b[0;34m)\u001b[0m\u001b[0;34m\u001b[0m\u001b[0;34m\u001b[0m\u001b[0m\n",
      "\u001b[0;32m~/Desktop/rookiehero/project/venv/lib/python3.7/site-packages/django/db/models/query.py\u001b[0m in \u001b[0;36m__iter__\u001b[0;34m(self)\u001b[0m\n\u001b[1;32m    104\u001b[0m \u001b[0;34m\u001b[0m\u001b[0m\n\u001b[1;32m    105\u001b[0m         \u001b[0mindexes\u001b[0m \u001b[0;34m=\u001b[0m \u001b[0mrange\u001b[0m\u001b[0;34m(\u001b[0m\u001b[0mlen\u001b[0m\u001b[0;34m(\u001b[0m\u001b[0mnames\u001b[0m\u001b[0;34m)\u001b[0m\u001b[0;34m)\u001b[0m\u001b[0;34m\u001b[0m\u001b[0;34m\u001b[0m\u001b[0m\n\u001b[0;32m--> 106\u001b[0;31m         \u001b[0;32mfor\u001b[0m \u001b[0mrow\u001b[0m \u001b[0;32min\u001b[0m \u001b[0mcompiler\u001b[0m\u001b[0;34m.\u001b[0m\u001b[0mresults_iter\u001b[0m\u001b[0;34m(\u001b[0m\u001b[0mchunked_fetch\u001b[0m\u001b[0;34m=\u001b[0m\u001b[0mself\u001b[0m\u001b[0;34m.\u001b[0m\u001b[0mchunked_fetch\u001b[0m\u001b[0;34m,\u001b[0m \u001b[0mchunk_size\u001b[0m\u001b[0;34m=\u001b[0m\u001b[0mself\u001b[0m\u001b[0;34m.\u001b[0m\u001b[0mchunk_size\u001b[0m\u001b[0;34m)\u001b[0m\u001b[0;34m:\u001b[0m\u001b[0;34m\u001b[0m\u001b[0;34m\u001b[0m\u001b[0m\n\u001b[0m\u001b[1;32m    107\u001b[0m             \u001b[0;32myield\u001b[0m \u001b[0;34m{\u001b[0m\u001b[0mnames\u001b[0m\u001b[0;34m[\u001b[0m\u001b[0mi\u001b[0m\u001b[0;34m]\u001b[0m\u001b[0;34m:\u001b[0m \u001b[0mrow\u001b[0m\u001b[0;34m[\u001b[0m\u001b[0mi\u001b[0m\u001b[0;34m]\u001b[0m \u001b[0;32mfor\u001b[0m \u001b[0mi\u001b[0m \u001b[0;32min\u001b[0m \u001b[0mindexes\u001b[0m\u001b[0;34m}\u001b[0m\u001b[0;34m\u001b[0m\u001b[0;34m\u001b[0m\u001b[0m\n\u001b[1;32m    108\u001b[0m \u001b[0;34m\u001b[0m\u001b[0m\n",
      "\u001b[0;32m~/Desktop/rookiehero/project/venv/lib/python3.7/site-packages/django/db/models/sql/compiler.py\u001b[0m in \u001b[0;36mresults_iter\u001b[0;34m(self, results, tuple_expected, chunked_fetch, chunk_size)\u001b[0m\n\u001b[1;32m   1011\u001b[0m         \u001b[0;34m\"\"\"Return an iterator over the results from executing this query.\"\"\"\u001b[0m\u001b[0;34m\u001b[0m\u001b[0;34m\u001b[0m\u001b[0m\n\u001b[1;32m   1012\u001b[0m         \u001b[0;32mif\u001b[0m \u001b[0mresults\u001b[0m \u001b[0;32mis\u001b[0m \u001b[0;32mNone\u001b[0m\u001b[0;34m:\u001b[0m\u001b[0;34m\u001b[0m\u001b[0;34m\u001b[0m\u001b[0m\n\u001b[0;32m-> 1013\u001b[0;31m             \u001b[0mresults\u001b[0m \u001b[0;34m=\u001b[0m \u001b[0mself\u001b[0m\u001b[0;34m.\u001b[0m\u001b[0mexecute_sql\u001b[0m\u001b[0;34m(\u001b[0m\u001b[0mMULTI\u001b[0m\u001b[0;34m,\u001b[0m \u001b[0mchunked_fetch\u001b[0m\u001b[0;34m=\u001b[0m\u001b[0mchunked_fetch\u001b[0m\u001b[0;34m,\u001b[0m \u001b[0mchunk_size\u001b[0m\u001b[0;34m=\u001b[0m\u001b[0mchunk_size\u001b[0m\u001b[0;34m)\u001b[0m\u001b[0;34m\u001b[0m\u001b[0;34m\u001b[0m\u001b[0m\n\u001b[0m\u001b[1;32m   1014\u001b[0m         \u001b[0mfields\u001b[0m \u001b[0;34m=\u001b[0m \u001b[0;34m[\u001b[0m\u001b[0ms\u001b[0m\u001b[0;34m[\u001b[0m\u001b[0;36m0\u001b[0m\u001b[0;34m]\u001b[0m \u001b[0;32mfor\u001b[0m \u001b[0ms\u001b[0m \u001b[0;32min\u001b[0m \u001b[0mself\u001b[0m\u001b[0;34m.\u001b[0m\u001b[0mselect\u001b[0m\u001b[0;34m[\u001b[0m\u001b[0;36m0\u001b[0m\u001b[0;34m:\u001b[0m\u001b[0mself\u001b[0m\u001b[0;34m.\u001b[0m\u001b[0mcol_count\u001b[0m\u001b[0;34m]\u001b[0m\u001b[0;34m]\u001b[0m\u001b[0;34m\u001b[0m\u001b[0;34m\u001b[0m\u001b[0m\n\u001b[1;32m   1015\u001b[0m         \u001b[0mconverters\u001b[0m \u001b[0;34m=\u001b[0m \u001b[0mself\u001b[0m\u001b[0;34m.\u001b[0m\u001b[0mget_converters\u001b[0m\u001b[0;34m(\u001b[0m\u001b[0mfields\u001b[0m\u001b[0;34m)\u001b[0m\u001b[0;34m\u001b[0m\u001b[0;34m\u001b[0m\u001b[0m\n",
      "\u001b[0;32m~/Desktop/rookiehero/project/venv/lib/python3.7/site-packages/django/db/models/sql/compiler.py\u001b[0m in \u001b[0;36mexecute_sql\u001b[0;34m(self, result_type, chunked_fetch, chunk_size)\u001b[0m\n\u001b[1;32m   1059\u001b[0m             \u001b[0mcursor\u001b[0m \u001b[0;34m=\u001b[0m \u001b[0mself\u001b[0m\u001b[0;34m.\u001b[0m\u001b[0mconnection\u001b[0m\u001b[0;34m.\u001b[0m\u001b[0mcursor\u001b[0m\u001b[0;34m(\u001b[0m\u001b[0;34m)\u001b[0m\u001b[0;34m\u001b[0m\u001b[0;34m\u001b[0m\u001b[0m\n\u001b[1;32m   1060\u001b[0m         \u001b[0;32mtry\u001b[0m\u001b[0;34m:\u001b[0m\u001b[0;34m\u001b[0m\u001b[0;34m\u001b[0m\u001b[0m\n\u001b[0;32m-> 1061\u001b[0;31m             \u001b[0mcursor\u001b[0m\u001b[0;34m.\u001b[0m\u001b[0mexecute\u001b[0m\u001b[0;34m(\u001b[0m\u001b[0msql\u001b[0m\u001b[0;34m,\u001b[0m \u001b[0mparams\u001b[0m\u001b[0;34m)\u001b[0m\u001b[0;34m\u001b[0m\u001b[0;34m\u001b[0m\u001b[0m\n\u001b[0m\u001b[1;32m   1062\u001b[0m         \u001b[0;32mexcept\u001b[0m \u001b[0mException\u001b[0m\u001b[0;34m:\u001b[0m\u001b[0;34m\u001b[0m\u001b[0;34m\u001b[0m\u001b[0m\n\u001b[1;32m   1063\u001b[0m             \u001b[0;31m# Might fail for server-side cursors (e.g. connection closed)\u001b[0m\u001b[0;34m\u001b[0m\u001b[0;34m\u001b[0m\u001b[0;34m\u001b[0m\u001b[0m\n",
      "\u001b[0;32m~/Desktop/rookiehero/project/venv/lib/python3.7/site-packages/django/db/backends/utils.py\u001b[0m in \u001b[0;36mexecute\u001b[0;34m(self, sql, params)\u001b[0m\n\u001b[1;32m     98\u001b[0m         \u001b[0mstart\u001b[0m \u001b[0;34m=\u001b[0m \u001b[0mtime\u001b[0m\u001b[0;34m(\u001b[0m\u001b[0;34m)\u001b[0m\u001b[0;34m\u001b[0m\u001b[0;34m\u001b[0m\u001b[0m\n\u001b[1;32m     99\u001b[0m         \u001b[0;32mtry\u001b[0m\u001b[0;34m:\u001b[0m\u001b[0;34m\u001b[0m\u001b[0;34m\u001b[0m\u001b[0m\n\u001b[0;32m--> 100\u001b[0;31m             \u001b[0;32mreturn\u001b[0m \u001b[0msuper\u001b[0m\u001b[0;34m(\u001b[0m\u001b[0;34m)\u001b[0m\u001b[0;34m.\u001b[0m\u001b[0mexecute\u001b[0m\u001b[0;34m(\u001b[0m\u001b[0msql\u001b[0m\u001b[0;34m,\u001b[0m \u001b[0mparams\u001b[0m\u001b[0;34m)\u001b[0m\u001b[0;34m\u001b[0m\u001b[0;34m\u001b[0m\u001b[0m\n\u001b[0m\u001b[1;32m    101\u001b[0m         \u001b[0;32mfinally\u001b[0m\u001b[0;34m:\u001b[0m\u001b[0;34m\u001b[0m\u001b[0;34m\u001b[0m\u001b[0m\n\u001b[1;32m    102\u001b[0m             \u001b[0mstop\u001b[0m \u001b[0;34m=\u001b[0m \u001b[0mtime\u001b[0m\u001b[0;34m(\u001b[0m\u001b[0;34m)\u001b[0m\u001b[0;34m\u001b[0m\u001b[0;34m\u001b[0m\u001b[0m\n",
      "\u001b[0;32m~/Desktop/rookiehero/project/venv/lib/python3.7/site-packages/django/db/backends/utils.py\u001b[0m in \u001b[0;36mexecute\u001b[0;34m(self, sql, params)\u001b[0m\n\u001b[1;32m     66\u001b[0m \u001b[0;34m\u001b[0m\u001b[0m\n\u001b[1;32m     67\u001b[0m     \u001b[0;32mdef\u001b[0m \u001b[0mexecute\u001b[0m\u001b[0;34m(\u001b[0m\u001b[0mself\u001b[0m\u001b[0;34m,\u001b[0m \u001b[0msql\u001b[0m\u001b[0;34m,\u001b[0m \u001b[0mparams\u001b[0m\u001b[0;34m=\u001b[0m\u001b[0;32mNone\u001b[0m\u001b[0;34m)\u001b[0m\u001b[0;34m:\u001b[0m\u001b[0;34m\u001b[0m\u001b[0;34m\u001b[0m\u001b[0m\n\u001b[0;32m---> 68\u001b[0;31m         \u001b[0;32mreturn\u001b[0m \u001b[0mself\u001b[0m\u001b[0;34m.\u001b[0m\u001b[0m_execute_with_wrappers\u001b[0m\u001b[0;34m(\u001b[0m\u001b[0msql\u001b[0m\u001b[0;34m,\u001b[0m \u001b[0mparams\u001b[0m\u001b[0;34m,\u001b[0m \u001b[0mmany\u001b[0m\u001b[0;34m=\u001b[0m\u001b[0;32mFalse\u001b[0m\u001b[0;34m,\u001b[0m \u001b[0mexecutor\u001b[0m\u001b[0;34m=\u001b[0m\u001b[0mself\u001b[0m\u001b[0;34m.\u001b[0m\u001b[0m_execute\u001b[0m\u001b[0;34m)\u001b[0m\u001b[0;34m\u001b[0m\u001b[0;34m\u001b[0m\u001b[0m\n\u001b[0m\u001b[1;32m     69\u001b[0m \u001b[0;34m\u001b[0m\u001b[0m\n\u001b[1;32m     70\u001b[0m     \u001b[0;32mdef\u001b[0m \u001b[0mexecutemany\u001b[0m\u001b[0;34m(\u001b[0m\u001b[0mself\u001b[0m\u001b[0;34m,\u001b[0m \u001b[0msql\u001b[0m\u001b[0;34m,\u001b[0m \u001b[0mparam_list\u001b[0m\u001b[0;34m)\u001b[0m\u001b[0;34m:\u001b[0m\u001b[0;34m\u001b[0m\u001b[0;34m\u001b[0m\u001b[0m\n",
      "\u001b[0;32m~/Desktop/rookiehero/project/venv/lib/python3.7/site-packages/django/db/backends/utils.py\u001b[0m in \u001b[0;36m_execute_with_wrappers\u001b[0;34m(self, sql, params, many, executor)\u001b[0m\n\u001b[1;32m     75\u001b[0m         \u001b[0;32mfor\u001b[0m \u001b[0mwrapper\u001b[0m \u001b[0;32min\u001b[0m \u001b[0mreversed\u001b[0m\u001b[0;34m(\u001b[0m\u001b[0mself\u001b[0m\u001b[0;34m.\u001b[0m\u001b[0mdb\u001b[0m\u001b[0;34m.\u001b[0m\u001b[0mexecute_wrappers\u001b[0m\u001b[0;34m)\u001b[0m\u001b[0;34m:\u001b[0m\u001b[0;34m\u001b[0m\u001b[0;34m\u001b[0m\u001b[0m\n\u001b[1;32m     76\u001b[0m             \u001b[0mexecutor\u001b[0m \u001b[0;34m=\u001b[0m \u001b[0mfunctools\u001b[0m\u001b[0;34m.\u001b[0m\u001b[0mpartial\u001b[0m\u001b[0;34m(\u001b[0m\u001b[0mwrapper\u001b[0m\u001b[0;34m,\u001b[0m \u001b[0mexecutor\u001b[0m\u001b[0;34m)\u001b[0m\u001b[0;34m\u001b[0m\u001b[0;34m\u001b[0m\u001b[0m\n\u001b[0;32m---> 77\u001b[0;31m         \u001b[0;32mreturn\u001b[0m \u001b[0mexecutor\u001b[0m\u001b[0;34m(\u001b[0m\u001b[0msql\u001b[0m\u001b[0;34m,\u001b[0m \u001b[0mparams\u001b[0m\u001b[0;34m,\u001b[0m \u001b[0mmany\u001b[0m\u001b[0;34m,\u001b[0m \u001b[0mcontext\u001b[0m\u001b[0;34m)\u001b[0m\u001b[0;34m\u001b[0m\u001b[0;34m\u001b[0m\u001b[0m\n\u001b[0m\u001b[1;32m     78\u001b[0m \u001b[0;34m\u001b[0m\u001b[0m\n\u001b[1;32m     79\u001b[0m     \u001b[0;32mdef\u001b[0m \u001b[0m_execute\u001b[0m\u001b[0;34m(\u001b[0m\u001b[0mself\u001b[0m\u001b[0;34m,\u001b[0m \u001b[0msql\u001b[0m\u001b[0;34m,\u001b[0m \u001b[0mparams\u001b[0m\u001b[0;34m,\u001b[0m \u001b[0;34m*\u001b[0m\u001b[0mignored_wrapper_args\u001b[0m\u001b[0;34m)\u001b[0m\u001b[0;34m:\u001b[0m\u001b[0;34m\u001b[0m\u001b[0;34m\u001b[0m\u001b[0m\n",
      "\u001b[0;32m~/Desktop/rookiehero/project/venv/lib/python3.7/site-packages/django/db/backends/utils.py\u001b[0m in \u001b[0;36m_execute\u001b[0;34m(self, sql, params, *ignored_wrapper_args)\u001b[0m\n\u001b[1;32m     83\u001b[0m                 \u001b[0;32mreturn\u001b[0m \u001b[0mself\u001b[0m\u001b[0;34m.\u001b[0m\u001b[0mcursor\u001b[0m\u001b[0;34m.\u001b[0m\u001b[0mexecute\u001b[0m\u001b[0;34m(\u001b[0m\u001b[0msql\u001b[0m\u001b[0;34m)\u001b[0m\u001b[0;34m\u001b[0m\u001b[0;34m\u001b[0m\u001b[0m\n\u001b[1;32m     84\u001b[0m             \u001b[0;32melse\u001b[0m\u001b[0;34m:\u001b[0m\u001b[0;34m\u001b[0m\u001b[0;34m\u001b[0m\u001b[0m\n\u001b[0;32m---> 85\u001b[0;31m                 \u001b[0;32mreturn\u001b[0m \u001b[0mself\u001b[0m\u001b[0;34m.\u001b[0m\u001b[0mcursor\u001b[0m\u001b[0;34m.\u001b[0m\u001b[0mexecute\u001b[0m\u001b[0;34m(\u001b[0m\u001b[0msql\u001b[0m\u001b[0;34m,\u001b[0m \u001b[0mparams\u001b[0m\u001b[0;34m)\u001b[0m\u001b[0;34m\u001b[0m\u001b[0;34m\u001b[0m\u001b[0m\n\u001b[0m\u001b[1;32m     86\u001b[0m \u001b[0;34m\u001b[0m\u001b[0m\n\u001b[1;32m     87\u001b[0m     \u001b[0;32mdef\u001b[0m \u001b[0m_executemany\u001b[0m\u001b[0;34m(\u001b[0m\u001b[0mself\u001b[0m\u001b[0;34m,\u001b[0m \u001b[0msql\u001b[0m\u001b[0;34m,\u001b[0m \u001b[0mparam_list\u001b[0m\u001b[0;34m,\u001b[0m \u001b[0;34m*\u001b[0m\u001b[0mignored_wrapper_args\u001b[0m\u001b[0;34m)\u001b[0m\u001b[0;34m:\u001b[0m\u001b[0;34m\u001b[0m\u001b[0;34m\u001b[0m\u001b[0m\n",
      "\u001b[0;31mIndexError\u001b[0m: tuple index out of range"
     ]
    }
   ],
   "source": [
    "user_ticket_payment"
   ]
  },
  {
   "cell_type": "code",
   "execution_count": 4,
   "metadata": {},
   "outputs": [],
   "source": [
    "from restaurant.models import Restaurant\n",
    "\n",
    "prior_restaurant_obj = Restaurant.objects.filter(pk=2).values()"
   ]
  },
  {
   "cell_type": "code",
   "execution_count": 10,
   "metadata": {},
   "outputs": [
    {
     "ename": "KeyError",
     "evalue": "'store_owner__username'",
     "output_type": "error",
     "traceback": [
      "\u001b[0;31m---------------------------------------------------------------------------\u001b[0m",
      "\u001b[0;31mKeyError\u001b[0m                                  Traceback (most recent call last)",
      "\u001b[0;32m<ipython-input-10-2ccd7ea26514>\u001b[0m in \u001b[0;36m<module>\u001b[0;34m\u001b[0m\n\u001b[0;32m----> 1\u001b[0;31m \u001b[0mlist\u001b[0m\u001b[0;34m(\u001b[0m\u001b[0mprior_restaurant_obj\u001b[0m\u001b[0;34m)\u001b[0m\u001b[0;34m[\u001b[0m\u001b[0;36m0\u001b[0m\u001b[0;34m]\u001b[0m\u001b[0;34m[\u001b[0m\u001b[0;34m'store_owner__username'\u001b[0m\u001b[0;34m]\u001b[0m\u001b[0;34m\u001b[0m\u001b[0;34m\u001b[0m\u001b[0m\n\u001b[0m",
      "\u001b[0;31mKeyError\u001b[0m: 'store_owner__username'"
     ]
    }
   ],
   "source": [
    "list(prior_restaurant_obj)[0]['store_owner__username']"
   ]
  },
  {
   "cell_type": "code",
   "execution_count": 9,
   "metadata": {},
   "outputs": [
    {
     "name": "stderr",
     "output_type": "stream",
     "text": [
      "(0.001) SELECT \"accounts_user\".\"id\", \"accounts_user\".\"password\", \"accounts_user\".\"last_login\", \"accounts_user\".\"is_superuser\", \"accounts_user\".\"username\", \"accounts_user\".\"first_name\", \"accounts_user\".\"last_name\", \"accounts_user\".\"email\", \"accounts_user\".\"is_staff\", \"accounts_user\".\"is_active\", \"accounts_user\".\"date_joined\", \"accounts_user\".\"phone\", \"accounts_user\".\"address\", \"accounts_user\".\"address_detail\", \"accounts_user\".\"user_type\", \"accounts_user\".\"deactivate_date\" FROM \"accounts_user\" WHERE \"accounts_user\".\"username\" = 'admin'; args=('admin',)\n"
     ]
    }
   ],
   "source": [
    "user = User.objects.get(username='admin')\n",
    "restaurant_timeline_id=56"
   ]
  },
  {
   "cell_type": "code",
   "execution_count": 10,
   "metadata": {},
   "outputs": [],
   "source": [
    "restaurant_timeline = RestaurantTimeline.objects.filter(id=restaurant_timeline_id)"
   ]
  },
  {
   "cell_type": "code",
   "execution_count": 21,
   "metadata": {},
   "outputs": [
    {
     "name": "stderr",
     "output_type": "stream",
     "text": [
      "(0.001) SELECT \"restaurant_restauranttimeline\".\"id\", \"restaurant_restauranttimeline\".\"created_time\", \"restaurant_restauranttimeline\".\"updated_time\", \"restaurant_restauranttimeline\".\"restaurant_id\", \"restaurant_restauranttimeline\".\"status\", \"restaurant_restauranttimeline\".\"changed_data\", \"restaurant_restauranttimeline\".\"changed_img\", \"restaurant_restauranttimeline\".\"prior_info\", \"restaurant_restauranttimeline\".\"post_info\", \"restaurant_restauranttimeline\".\"timeline_type\", \"restaurant_restauranttimeline\".\"changed_field\", \"restaurant_restauranttimeline\".\"yosigy_id\" FROM \"restaurant_restauranttimeline\" WHERE \"restaurant_restauranttimeline\".\"id\" = 56  LIMIT 1; args=(56,)\n",
      "(0.000) SELECT \"restaurant_restauranttimeline_like\".\"user_id\" FROM \"restaurant_restauranttimeline_like\" WHERE (\"restaurant_restauranttimeline_like\".\"restauranttimeline_id\" = 56 AND \"restaurant_restauranttimeline_like\".\"user_id\" IN (1)); args=(56, 1)\n"
     ]
    }
   ],
   "source": [
    "result=restaurant_timeline[0].like.add(user)"
   ]
  },
  {
   "cell_type": "code",
   "execution_count": 22,
   "metadata": {},
   "outputs": [
    {
     "name": "stdout",
     "output_type": "stream",
     "text": [
      "None\n"
     ]
    }
   ],
   "source": [
    "print(result)"
   ]
  },
  {
   "cell_type": "code",
   "execution_count": 23,
   "metadata": {},
   "outputs": [
    {
     "name": "stderr",
     "output_type": "stream",
     "text": [
      "(0.001) SELECT \"restaurant_restauranttimeline\".\"id\", \"restaurant_restauranttimeline\".\"created_time\", \"restaurant_restauranttimeline\".\"updated_time\", \"restaurant_restauranttimeline\".\"restaurant_id\", \"restaurant_restauranttimeline\".\"status\", \"restaurant_restauranttimeline\".\"changed_data\", \"restaurant_restauranttimeline\".\"changed_img\", \"restaurant_restauranttimeline\".\"prior_info\", \"restaurant_restauranttimeline\".\"post_info\", \"restaurant_restauranttimeline\".\"timeline_type\", \"restaurant_restauranttimeline\".\"changed_field\", \"restaurant_restauranttimeline\".\"yosigy_id\" FROM \"restaurant_restauranttimeline\" WHERE \"restaurant_restauranttimeline\".\"id\" = 56  LIMIT 1; args=(56,)\n"
     ]
    }
   ],
   "source": [
    "timeline_like = restaurant_timeline[0].like"
   ]
  },
  {
   "cell_type": "code",
   "execution_count": 50,
   "metadata": {},
   "outputs": [
    {
     "data": {
      "text/plain": [
       "<django.db.models.fields.related_descriptors.create_forward_many_to_many_manager.<locals>.ManyRelatedManager at 0x10fee9f28>"
      ]
     },
     "execution_count": 50,
     "metadata": {},
     "output_type": "execute_result"
    }
   ],
   "source": [
    "timeline_like.filter()"
   ]
  },
  {
   "cell_type": "code",
   "execution_count": 34,
   "metadata": {},
   "outputs": [
    {
     "ename": "AttributeError",
     "evalue": "'User' object has no attribute 'restaurant_timeline_like'",
     "output_type": "error",
     "traceback": [
      "\u001b[0;31m---------------------------------------------------------------------------\u001b[0m",
      "\u001b[0;31mAttributeError\u001b[0m                            Traceback (most recent call last)",
      "\u001b[0;32m<ipython-input-34-04f7e931fd93>\u001b[0m in \u001b[0;36m<module>\u001b[0;34m\u001b[0m\n\u001b[0;32m----> 1\u001b[0;31m \u001b[0muser\u001b[0m\u001b[0;34m.\u001b[0m\u001b[0mrestaurant_timeline_like\u001b[0m\u001b[0;34m\u001b[0m\u001b[0;34m\u001b[0m\u001b[0m\n\u001b[0m",
      "\u001b[0;31mAttributeError\u001b[0m: 'User' object has no attribute 'restaurant_timeline_like'"
     ]
    }
   ],
   "source": [
    "user.restaurant_timeline_like"
   ]
  },
  {
   "cell_type": "code",
   "execution_count": 52,
   "metadata": {},
   "outputs": [
    {
     "name": "stderr",
     "output_type": "stream",
     "text": [
      "(0.001) SELECT \"restaurant_restaurant\".\"id\" FROM \"restaurant_restaurant\" INNER JOIN \"accounts_user_subscribed_restaurants\" ON (\"restaurant_restaurant\".\"id\" = \"accounts_user_subscribed_restaurants\".\"restaurant_id\") WHERE \"accounts_user_subscribed_restaurants\".\"user_id\" = 1; args=(1,)\n"
     ]
    }
   ],
   "source": [
    "subscribed_restaurants = user.subscribed_restaurants.values('id')\n",
    "        \n",
    "\n",
    "\n",
    "subscribed_restaurants_ids = [restaurant['id'] for restaurant in subscribed_restaurants]\n",
    "\n",
    "timeline_qs = (\n",
    "    RestaurantTimeline.objects\n",
    "    .select_related('restaurant', 'yosigy')\n",
    "    .filter(restaurant_id__in=subscribed_restaurants_ids).order_by('-created_time'))\n",
    "\n",
    "timeline_values = (\n",
    "    timeline_qs\n",
    "    .annotate(\n",
    "        restaurant_title=F('restaurant__title'),\n",
    "        restaurant_name=F('restaurant__name'),\n",
    "        restaurant_img=F('restaurant__img'),\n",
    "        min_price=F('restaurant__min_order_price'),\n",
    "        delivery_charge=F('restaurant__delivery_charge'),\n",
    "        like_count=Count('like'),\n",
    "        yosigy_notice=F('yosigy__notice'),\n",
    "        yosigy_deadline=F('yosigy__deadline')\n",
    "    ))"
   ]
  },
  {
   "cell_type": "code",
   "execution_count": 48,
   "metadata": {},
   "outputs": [],
   "source": [
    "timeline_list = [\n",
    "    {'restaurant_id': timeline['restaurant_id'],\n",
    "     'restaurant_timeline_id': timeline['id'],\n",
    "     'restaurant_name': timeline['restaurant_name'],\n",
    "     'restaurant_title': timeline['restaurant_title'],\n",
    "     'restaurant_img': timeline['restaurant_img'],\n",
    "     'min_price': timeline['min_price'],\n",
    "     'delivery_charge':timeline['delivery_charge'],\n",
    "     'created_time':timeline['created_time'],\n",
    "     'updated_time':timeline['updated_time'],\n",
    "     'post_img': timeline['changed_img'],\n",
    "     'prior_info': timeline['prior_info'],\n",
    "     'post_info': (timeline['yosigy_notice']\n",
    "                   if timeline['yosigy_id'] is not None else timeline['post_info']+timeline['changed_data']),\n",
    "     'timeline_type': timeline['timeline_type'],\n",
    "     'changed_item': timeline['changed_field'],\n",
    "     'like': timeline['like_flag'],\n",
    "     'like_count': timeline['like_count'],\n",
    "     'yosigy_id': timeline['yosigy_id'],\n",
    "     'yosidy_deadline':timeline['yosigy_deadline']}\n",
    "    for timeline in timeline_values]"
   ]
  },
  {
   "cell_type": "code",
   "execution_count": 51,
   "metadata": {},
   "outputs": [
    {
     "data": {
      "text/plain": [
       "{'restaurant_id': 1,\n",
       " 'restaurant_timeline_id': 58,\n",
       " 'restaurant_name': '굽네치킨',\n",
       " 'restaurant_title': '굽네치킨-서초점',\n",
       " 'restaurant_img': 'restaurant/2019/05/05/굽네치킨.jpg',\n",
       " 'min_price': 17000,\n",
       " 'delivery_charge': 2000,\n",
       " 'created_time': datetime.datetime(2019, 6, 21, 3, 23, 8, 800589, tzinfo=<UTC>),\n",
       " 'updated_time': datetime.datetime(2019, 6, 21, 3, 23, 8, 800611, tzinfo=<UTC>),\n",
       " 'post_img': '',\n",
       " 'prior_info': '',\n",
       " 'post_info': '',\n",
       " 'timeline_type': 5,\n",
       " 'changed_item': '요식이 식권 이벤트',\n",
       " 'like': 1,\n",
       " 'like_count': 1,\n",
       " 'yosigy_id': 55,\n",
       " 'yosidy_deadline': datetime.date(2019, 7, 1)}"
      ]
     },
     "execution_count": 51,
     "metadata": {},
     "output_type": "execute_result"
    }
   ],
   "source": [
    "timeline_list[0]"
   ]
  },
  {
   "cell_type": "code",
   "execution_count": 54,
   "metadata": {},
   "outputs": [
    {
     "name": "stderr",
     "output_type": "stream",
     "text": [
      "(0.001) SELECT \"restaurant_restauranttimeline\".\"id\", \"restaurant_restauranttimeline\".\"created_time\", \"restaurant_restauranttimeline\".\"updated_time\", \"restaurant_restauranttimeline\".\"restaurant_id\", \"restaurant_restauranttimeline\".\"status\", \"restaurant_restauranttimeline\".\"changed_data\", \"restaurant_restauranttimeline\".\"changed_img\", \"restaurant_restauranttimeline\".\"prior_info\", \"restaurant_restauranttimeline\".\"post_info\", \"restaurant_restauranttimeline\".\"timeline_type\", \"restaurant_restauranttimeline\".\"changed_field\", \"restaurant_restauranttimeline\".\"yosigy_id\", \"restaurant_restaurant\".\"title\" AS \"restaurant_title\", \"restaurant_restaurant\".\"name\" AS \"restaurant_name\", \"restaurant_restaurant\".\"img\" AS \"restaurant_img\", \"restaurant_restaurant\".\"min_order_price\" AS \"min_price\", \"restaurant_restaurant\".\"delivery_charge\" AS \"delivery_charge\", COUNT(\"restaurant_restauranttimeline_like\".\"user_id\") AS \"like_count\", \"yosigy_yosigy\".\"notice\" AS \"yosigy_notice\", \"yosigy_yosigy\".\"deadline\" AS \"yosigy_deadline\", \"restaurant_restaurant\".\"id\", \"restaurant_restaurant\".\"created_time\", \"restaurant_restaurant\".\"updated_time\", \"restaurant_restaurant\".\"name\", \"restaurant_restaurant\".\"owner\", \"restaurant_restaurant\".\"store_owner_id\", \"restaurant_restaurant\".\"title\", \"restaurant_restaurant\".\"img\", \"restaurant_restaurant\".\"tel\", \"restaurant_restaurant\".\"min_order_price\", \"restaurant_restaurant\".\"order_way\", \"restaurant_restaurant\".\"origin\", \"restaurant_restaurant\".\"delivery_charge\", \"restaurant_restaurant\".\"info\", \"restaurant_restaurant\".\"event\", \"restaurant_restaurant\".\"event_img\", \"restaurant_restaurant\".\"type\", \"restaurant_restaurant\".\"estimated_delivery_time\", \"restaurant_restaurant\".\"operation_start_hour\", \"restaurant_restaurant\".\"operation_end_hour\", \"restaurant_restaurant\".\"is_yosigy\", \"yosigy_yosigy\".\"id\", \"yosigy_yosigy\".\"created_time\", \"yosigy_yosigy\".\"updated_time\", \"yosigy_yosigy\".\"restaurant_id\", \"yosigy_yosigy\".\"user_id\", \"yosigy_yosigy\".\"deadline\", \"yosigy_yosigy\".\"notice\", \"yosigy_yosigy\".\"min_price\" FROM \"restaurant_restauranttimeline\" INNER JOIN \"restaurant_restaurant\" ON (\"restaurant_restauranttimeline\".\"restaurant_id\" = \"restaurant_restaurant\".\"id\") LEFT OUTER JOIN \"restaurant_restauranttimeline_like\" ON (\"restaurant_restauranttimeline\".\"id\" = \"restaurant_restauranttimeline_like\".\"restauranttimeline_id\") LEFT OUTER JOIN \"yosigy_yosigy\" ON (\"restaurant_restauranttimeline\".\"yosigy_id\" = \"yosigy_yosigy\".\"id\") WHERE \"restaurant_restauranttimeline\".\"restaurant_id\" IN (9, 1, 5) GROUP BY \"restaurant_restauranttimeline\".\"id\", \"restaurant_restaurant\".\"id\", \"yosigy_yosigy\".\"id\" ORDER BY \"restaurant_restauranttimeline\".\"created_time\" DESC  LIMIT 1; args=(9, 1, 5)\n"
     ]
    }
   ],
   "source": [
    "timeline=timeline_values[0]"
   ]
  },
  {
   "cell_type": "code",
   "execution_count": 55,
   "metadata": {},
   "outputs": [
    {
     "data": {
      "text/plain": [
       "<django.db.models.fields.related_descriptors.create_forward_many_to_many_manager.<locals>.ManyRelatedManager at 0x10ff1e400>"
      ]
     },
     "execution_count": 55,
     "metadata": {},
     "output_type": "execute_result"
    }
   ],
   "source": [
    "timeline.like"
   ]
  },
  {
   "cell_type": "code",
   "execution_count": 73,
   "metadata": {},
   "outputs": [
    {
     "ename": "ValueError",
     "evalue": "Cannot query \"admin\": Must be \"UserGiftCoupon\" instance.",
     "output_type": "error",
     "traceback": [
      "\u001b[0;31m---------------------------------------------------------------------------\u001b[0m",
      "\u001b[0;31mValueError\u001b[0m                                Traceback (most recent call last)",
      "\u001b[0;32m<ipython-input-73-24fc01dfbc11>\u001b[0m in \u001b[0;36m<module>\u001b[0;34m\u001b[0m\n\u001b[0;32m----> 1\u001b[0;31m \u001b[0mtimeline\u001b[0m\u001b[0;34m.\u001b[0m\u001b[0mlike\u001b[0m\u001b[0;34m.\u001b[0m\u001b[0mfilter\u001b[0m\u001b[0;34m(\u001b[0m\u001b[0muser__in\u001b[0m\u001b[0;34m=\u001b[0m\u001b[0muser\u001b[0m\u001b[0;34m)\u001b[0m\u001b[0;34m\u001b[0m\u001b[0;34m\u001b[0m\u001b[0m\n\u001b[0m",
      "\u001b[0;32m~/Desktop/rookiehero/project/venv/lib/python3.7/site-packages/django/db/models/manager.py\u001b[0m in \u001b[0;36mmanager_method\u001b[0;34m(self, *args, **kwargs)\u001b[0m\n\u001b[1;32m     80\u001b[0m         \u001b[0;32mdef\u001b[0m \u001b[0mcreate_method\u001b[0m\u001b[0;34m(\u001b[0m\u001b[0mname\u001b[0m\u001b[0;34m,\u001b[0m \u001b[0mmethod\u001b[0m\u001b[0;34m)\u001b[0m\u001b[0;34m:\u001b[0m\u001b[0;34m\u001b[0m\u001b[0;34m\u001b[0m\u001b[0m\n\u001b[1;32m     81\u001b[0m             \u001b[0;32mdef\u001b[0m \u001b[0mmanager_method\u001b[0m\u001b[0;34m(\u001b[0m\u001b[0mself\u001b[0m\u001b[0;34m,\u001b[0m \u001b[0;34m*\u001b[0m\u001b[0margs\u001b[0m\u001b[0;34m,\u001b[0m \u001b[0;34m**\u001b[0m\u001b[0mkwargs\u001b[0m\u001b[0;34m)\u001b[0m\u001b[0;34m:\u001b[0m\u001b[0;34m\u001b[0m\u001b[0;34m\u001b[0m\u001b[0m\n\u001b[0;32m---> 82\u001b[0;31m                 \u001b[0;32mreturn\u001b[0m \u001b[0mgetattr\u001b[0m\u001b[0;34m(\u001b[0m\u001b[0mself\u001b[0m\u001b[0;34m.\u001b[0m\u001b[0mget_queryset\u001b[0m\u001b[0;34m(\u001b[0m\u001b[0;34m)\u001b[0m\u001b[0;34m,\u001b[0m \u001b[0mname\u001b[0m\u001b[0;34m)\u001b[0m\u001b[0;34m(\u001b[0m\u001b[0;34m*\u001b[0m\u001b[0margs\u001b[0m\u001b[0;34m,\u001b[0m \u001b[0;34m**\u001b[0m\u001b[0mkwargs\u001b[0m\u001b[0;34m)\u001b[0m\u001b[0;34m\u001b[0m\u001b[0;34m\u001b[0m\u001b[0m\n\u001b[0m\u001b[1;32m     83\u001b[0m             \u001b[0mmanager_method\u001b[0m\u001b[0;34m.\u001b[0m\u001b[0m__name__\u001b[0m \u001b[0;34m=\u001b[0m \u001b[0mmethod\u001b[0m\u001b[0;34m.\u001b[0m\u001b[0m__name__\u001b[0m\u001b[0;34m\u001b[0m\u001b[0;34m\u001b[0m\u001b[0m\n\u001b[1;32m     84\u001b[0m             \u001b[0mmanager_method\u001b[0m\u001b[0;34m.\u001b[0m\u001b[0m__doc__\u001b[0m \u001b[0;34m=\u001b[0m \u001b[0mmethod\u001b[0m\u001b[0;34m.\u001b[0m\u001b[0m__doc__\u001b[0m\u001b[0;34m\u001b[0m\u001b[0;34m\u001b[0m\u001b[0m\n",
      "\u001b[0;32m~/Desktop/rookiehero/project/venv/lib/python3.7/site-packages/django/db/models/query.py\u001b[0m in \u001b[0;36mfilter\u001b[0;34m(self, *args, **kwargs)\u001b[0m\n\u001b[1;32m    839\u001b[0m         \u001b[0mset\u001b[0m\u001b[0;34m.\u001b[0m\u001b[0;34m\u001b[0m\u001b[0;34m\u001b[0m\u001b[0m\n\u001b[1;32m    840\u001b[0m         \"\"\"\n\u001b[0;32m--> 841\u001b[0;31m         \u001b[0;32mreturn\u001b[0m \u001b[0mself\u001b[0m\u001b[0;34m.\u001b[0m\u001b[0m_filter_or_exclude\u001b[0m\u001b[0;34m(\u001b[0m\u001b[0;32mFalse\u001b[0m\u001b[0;34m,\u001b[0m \u001b[0;34m*\u001b[0m\u001b[0margs\u001b[0m\u001b[0;34m,\u001b[0m \u001b[0;34m**\u001b[0m\u001b[0mkwargs\u001b[0m\u001b[0;34m)\u001b[0m\u001b[0;34m\u001b[0m\u001b[0;34m\u001b[0m\u001b[0m\n\u001b[0m\u001b[1;32m    842\u001b[0m \u001b[0;34m\u001b[0m\u001b[0m\n\u001b[1;32m    843\u001b[0m     \u001b[0;32mdef\u001b[0m \u001b[0mexclude\u001b[0m\u001b[0;34m(\u001b[0m\u001b[0mself\u001b[0m\u001b[0;34m,\u001b[0m \u001b[0;34m*\u001b[0m\u001b[0margs\u001b[0m\u001b[0;34m,\u001b[0m \u001b[0;34m**\u001b[0m\u001b[0mkwargs\u001b[0m\u001b[0;34m)\u001b[0m\u001b[0;34m:\u001b[0m\u001b[0;34m\u001b[0m\u001b[0;34m\u001b[0m\u001b[0m\n",
      "\u001b[0;32m~/Desktop/rookiehero/project/venv/lib/python3.7/site-packages/django/db/models/query.py\u001b[0m in \u001b[0;36m_filter_or_exclude\u001b[0;34m(self, negate, *args, **kwargs)\u001b[0m\n\u001b[1;32m    857\u001b[0m             \u001b[0mclone\u001b[0m\u001b[0;34m.\u001b[0m\u001b[0mquery\u001b[0m\u001b[0;34m.\u001b[0m\u001b[0madd_q\u001b[0m\u001b[0;34m(\u001b[0m\u001b[0;34m~\u001b[0m\u001b[0mQ\u001b[0m\u001b[0;34m(\u001b[0m\u001b[0;34m*\u001b[0m\u001b[0margs\u001b[0m\u001b[0;34m,\u001b[0m \u001b[0;34m**\u001b[0m\u001b[0mkwargs\u001b[0m\u001b[0;34m)\u001b[0m\u001b[0;34m)\u001b[0m\u001b[0;34m\u001b[0m\u001b[0;34m\u001b[0m\u001b[0m\n\u001b[1;32m    858\u001b[0m         \u001b[0;32melse\u001b[0m\u001b[0;34m:\u001b[0m\u001b[0;34m\u001b[0m\u001b[0;34m\u001b[0m\u001b[0m\n\u001b[0;32m--> 859\u001b[0;31m             \u001b[0mclone\u001b[0m\u001b[0;34m.\u001b[0m\u001b[0mquery\u001b[0m\u001b[0;34m.\u001b[0m\u001b[0madd_q\u001b[0m\u001b[0;34m(\u001b[0m\u001b[0mQ\u001b[0m\u001b[0;34m(\u001b[0m\u001b[0;34m*\u001b[0m\u001b[0margs\u001b[0m\u001b[0;34m,\u001b[0m \u001b[0;34m**\u001b[0m\u001b[0mkwargs\u001b[0m\u001b[0;34m)\u001b[0m\u001b[0;34m)\u001b[0m\u001b[0;34m\u001b[0m\u001b[0;34m\u001b[0m\u001b[0m\n\u001b[0m\u001b[1;32m    860\u001b[0m         \u001b[0;32mreturn\u001b[0m \u001b[0mclone\u001b[0m\u001b[0;34m\u001b[0m\u001b[0;34m\u001b[0m\u001b[0m\n\u001b[1;32m    861\u001b[0m \u001b[0;34m\u001b[0m\u001b[0m\n",
      "\u001b[0;32m~/Desktop/rookiehero/project/venv/lib/python3.7/site-packages/django/db/models/sql/query.py\u001b[0m in \u001b[0;36madd_q\u001b[0;34m(self, q_object)\u001b[0m\n\u001b[1;32m   1261\u001b[0m         \u001b[0;31m# So, demotion is OK.\u001b[0m\u001b[0;34m\u001b[0m\u001b[0;34m\u001b[0m\u001b[0;34m\u001b[0m\u001b[0m\n\u001b[1;32m   1262\u001b[0m         \u001b[0mexisting_inner\u001b[0m \u001b[0;34m=\u001b[0m \u001b[0;34m{\u001b[0m\u001b[0ma\u001b[0m \u001b[0;32mfor\u001b[0m \u001b[0ma\u001b[0m \u001b[0;32min\u001b[0m \u001b[0mself\u001b[0m\u001b[0;34m.\u001b[0m\u001b[0malias_map\u001b[0m \u001b[0;32mif\u001b[0m \u001b[0mself\u001b[0m\u001b[0;34m.\u001b[0m\u001b[0malias_map\u001b[0m\u001b[0;34m[\u001b[0m\u001b[0ma\u001b[0m\u001b[0;34m]\u001b[0m\u001b[0;34m.\u001b[0m\u001b[0mjoin_type\u001b[0m \u001b[0;34m==\u001b[0m \u001b[0mINNER\u001b[0m\u001b[0;34m}\u001b[0m\u001b[0;34m\u001b[0m\u001b[0;34m\u001b[0m\u001b[0m\n\u001b[0;32m-> 1263\u001b[0;31m         \u001b[0mclause\u001b[0m\u001b[0;34m,\u001b[0m \u001b[0m_\u001b[0m \u001b[0;34m=\u001b[0m \u001b[0mself\u001b[0m\u001b[0;34m.\u001b[0m\u001b[0m_add_q\u001b[0m\u001b[0;34m(\u001b[0m\u001b[0mq_object\u001b[0m\u001b[0;34m,\u001b[0m \u001b[0mself\u001b[0m\u001b[0;34m.\u001b[0m\u001b[0mused_aliases\u001b[0m\u001b[0;34m)\u001b[0m\u001b[0;34m\u001b[0m\u001b[0;34m\u001b[0m\u001b[0m\n\u001b[0m\u001b[1;32m   1264\u001b[0m         \u001b[0;32mif\u001b[0m \u001b[0mclause\u001b[0m\u001b[0;34m:\u001b[0m\u001b[0;34m\u001b[0m\u001b[0;34m\u001b[0m\u001b[0m\n\u001b[1;32m   1265\u001b[0m             \u001b[0mself\u001b[0m\u001b[0;34m.\u001b[0m\u001b[0mwhere\u001b[0m\u001b[0;34m.\u001b[0m\u001b[0madd\u001b[0m\u001b[0;34m(\u001b[0m\u001b[0mclause\u001b[0m\u001b[0;34m,\u001b[0m \u001b[0mAND\u001b[0m\u001b[0;34m)\u001b[0m\u001b[0;34m\u001b[0m\u001b[0;34m\u001b[0m\u001b[0m\n",
      "\u001b[0;32m~/Desktop/rookiehero/project/venv/lib/python3.7/site-packages/django/db/models/sql/query.py\u001b[0m in \u001b[0;36m_add_q\u001b[0;34m(self, q_object, used_aliases, branch_negated, current_negated, allow_joins, split_subq)\u001b[0m\n\u001b[1;32m   1285\u001b[0m                     \u001b[0mchild\u001b[0m\u001b[0;34m,\u001b[0m \u001b[0mcan_reuse\u001b[0m\u001b[0;34m=\u001b[0m\u001b[0mused_aliases\u001b[0m\u001b[0;34m,\u001b[0m \u001b[0mbranch_negated\u001b[0m\u001b[0;34m=\u001b[0m\u001b[0mbranch_negated\u001b[0m\u001b[0;34m,\u001b[0m\u001b[0;34m\u001b[0m\u001b[0;34m\u001b[0m\u001b[0m\n\u001b[1;32m   1286\u001b[0m                     \u001b[0mcurrent_negated\u001b[0m\u001b[0;34m=\u001b[0m\u001b[0mcurrent_negated\u001b[0m\u001b[0;34m,\u001b[0m \u001b[0mallow_joins\u001b[0m\u001b[0;34m=\u001b[0m\u001b[0mallow_joins\u001b[0m\u001b[0;34m,\u001b[0m\u001b[0;34m\u001b[0m\u001b[0;34m\u001b[0m\u001b[0m\n\u001b[0;32m-> 1287\u001b[0;31m                     \u001b[0msplit_subq\u001b[0m\u001b[0;34m=\u001b[0m\u001b[0msplit_subq\u001b[0m\u001b[0;34m,\u001b[0m\u001b[0;34m\u001b[0m\u001b[0;34m\u001b[0m\u001b[0m\n\u001b[0m\u001b[1;32m   1288\u001b[0m                 )\n\u001b[1;32m   1289\u001b[0m                 \u001b[0mjoinpromoter\u001b[0m\u001b[0;34m.\u001b[0m\u001b[0madd_votes\u001b[0m\u001b[0;34m(\u001b[0m\u001b[0mneeded_inner\u001b[0m\u001b[0;34m)\u001b[0m\u001b[0;34m\u001b[0m\u001b[0;34m\u001b[0m\u001b[0m\n",
      "\u001b[0;32m~/Desktop/rookiehero/project/venv/lib/python3.7/site-packages/django/db/models/sql/query.py\u001b[0m in \u001b[0;36mbuild_filter\u001b[0;34m(self, filter_expr, branch_negated, current_negated, can_reuse, allow_joins, split_subq, reuse_with_filtered_relation)\u001b[0m\n\u001b[1;32m   1196\u001b[0m             \u001b[0;32mif\u001b[0m \u001b[0misinstance\u001b[0m\u001b[0;34m(\u001b[0m\u001b[0mvalue\u001b[0m\u001b[0;34m,\u001b[0m \u001b[0mIterator\u001b[0m\u001b[0;34m)\u001b[0m\u001b[0;34m:\u001b[0m\u001b[0;34m\u001b[0m\u001b[0;34m\u001b[0m\u001b[0m\n\u001b[1;32m   1197\u001b[0m                 \u001b[0mvalue\u001b[0m \u001b[0;34m=\u001b[0m \u001b[0mlist\u001b[0m\u001b[0;34m(\u001b[0m\u001b[0mvalue\u001b[0m\u001b[0;34m)\u001b[0m\u001b[0;34m\u001b[0m\u001b[0;34m\u001b[0m\u001b[0m\n\u001b[0;32m-> 1198\u001b[0;31m             \u001b[0mself\u001b[0m\u001b[0;34m.\u001b[0m\u001b[0mcheck_related_objects\u001b[0m\u001b[0;34m(\u001b[0m\u001b[0mjoin_info\u001b[0m\u001b[0;34m.\u001b[0m\u001b[0mfinal_field\u001b[0m\u001b[0;34m,\u001b[0m \u001b[0mvalue\u001b[0m\u001b[0;34m,\u001b[0m \u001b[0mjoin_info\u001b[0m\u001b[0;34m.\u001b[0m\u001b[0mopts\u001b[0m\u001b[0;34m)\u001b[0m\u001b[0;34m\u001b[0m\u001b[0;34m\u001b[0m\u001b[0m\n\u001b[0m\u001b[1;32m   1199\u001b[0m \u001b[0;34m\u001b[0m\u001b[0m\n\u001b[1;32m   1200\u001b[0m             \u001b[0;31m# split_exclude() needs to know which joins were generated for the\u001b[0m\u001b[0;34m\u001b[0m\u001b[0;34m\u001b[0m\u001b[0;34m\u001b[0m\u001b[0m\n",
      "\u001b[0;32m~/Desktop/rookiehero/project/venv/lib/python3.7/site-packages/django/db/models/sql/query.py\u001b[0m in \u001b[0;36mcheck_related_objects\u001b[0;34m(self, field, value, opts)\u001b[0m\n\u001b[1;32m   1061\u001b[0m                 )\n\u001b[1;32m   1062\u001b[0m             \u001b[0;32melif\u001b[0m \u001b[0mhasattr\u001b[0m\u001b[0;34m(\u001b[0m\u001b[0mvalue\u001b[0m\u001b[0;34m,\u001b[0m \u001b[0;34m'_meta'\u001b[0m\u001b[0;34m)\u001b[0m\u001b[0;34m:\u001b[0m\u001b[0;34m\u001b[0m\u001b[0;34m\u001b[0m\u001b[0m\n\u001b[0;32m-> 1063\u001b[0;31m                 \u001b[0mself\u001b[0m\u001b[0;34m.\u001b[0m\u001b[0mcheck_query_object_type\u001b[0m\u001b[0;34m(\u001b[0m\u001b[0mvalue\u001b[0m\u001b[0;34m,\u001b[0m \u001b[0mopts\u001b[0m\u001b[0;34m,\u001b[0m \u001b[0mfield\u001b[0m\u001b[0;34m)\u001b[0m\u001b[0;34m\u001b[0m\u001b[0;34m\u001b[0m\u001b[0m\n\u001b[0m\u001b[1;32m   1064\u001b[0m             \u001b[0;32melif\u001b[0m \u001b[0mhasattr\u001b[0m\u001b[0;34m(\u001b[0m\u001b[0mvalue\u001b[0m\u001b[0;34m,\u001b[0m \u001b[0;34m'__iter__'\u001b[0m\u001b[0;34m)\u001b[0m\u001b[0;34m:\u001b[0m\u001b[0;34m\u001b[0m\u001b[0;34m\u001b[0m\u001b[0m\n\u001b[1;32m   1065\u001b[0m                 \u001b[0;32mfor\u001b[0m \u001b[0mv\u001b[0m \u001b[0;32min\u001b[0m \u001b[0mvalue\u001b[0m\u001b[0;34m:\u001b[0m\u001b[0;34m\u001b[0m\u001b[0;34m\u001b[0m\u001b[0m\n",
      "\u001b[0;32m~/Desktop/rookiehero/project/venv/lib/python3.7/site-packages/django/db/models/sql/query.py\u001b[0m in \u001b[0;36mcheck_query_object_type\u001b[0;34m(self, value, opts, field)\u001b[0m\n\u001b[1;32m   1044\u001b[0m                 raise ValueError(\n\u001b[1;32m   1045\u001b[0m                     \u001b[0;34m'Cannot query \"%s\": Must be \"%s\" instance.'\u001b[0m \u001b[0;34m%\u001b[0m\u001b[0;34m\u001b[0m\u001b[0;34m\u001b[0m\u001b[0m\n\u001b[0;32m-> 1046\u001b[0;31m                     (value, opts.object_name))\n\u001b[0m\u001b[1;32m   1047\u001b[0m \u001b[0;34m\u001b[0m\u001b[0m\n\u001b[1;32m   1048\u001b[0m     \u001b[0;32mdef\u001b[0m \u001b[0mcheck_related_objects\u001b[0m\u001b[0;34m(\u001b[0m\u001b[0mself\u001b[0m\u001b[0;34m,\u001b[0m \u001b[0mfield\u001b[0m\u001b[0;34m,\u001b[0m \u001b[0mvalue\u001b[0m\u001b[0;34m,\u001b[0m \u001b[0mopts\u001b[0m\u001b[0;34m)\u001b[0m\u001b[0;34m:\u001b[0m\u001b[0;34m\u001b[0m\u001b[0;34m\u001b[0m\u001b[0m\n",
      "\u001b[0;31mValueError\u001b[0m: Cannot query \"admin\": Must be \"UserGiftCoupon\" instance."
     ]
    }
   ],
   "source": [
    "timeline.like.filter(user__in=user)\n"
   ]
  },
  {
   "cell_type": "code",
   "execution_count": 89,
   "metadata": {},
   "outputs": [
    {
     "name": "stderr",
     "output_type": "stream",
     "text": [
      "(0.001) SELECT \"restaurant_restauranttimeline\".\"id\" FROM \"restaurant_restauranttimeline\" INNER JOIN \"restaurant_restauranttimeline_like\" ON (\"restaurant_restauranttimeline\".\"id\" = \"restaurant_restauranttimeline_like\".\"restauranttimeline_id\") WHERE \"restaurant_restauranttimeline_like\".\"user_id\" = 1; args=(1,)\n"
     ]
    },
    {
     "ename": "AttributeError",
     "evalue": "'list' object has no attribute 'values'",
     "output_type": "error",
     "traceback": [
      "\u001b[0;31m---------------------------------------------------------------------------\u001b[0m",
      "\u001b[0;31mAttributeError\u001b[0m                            Traceback (most recent call last)",
      "\u001b[0;32m<ipython-input-89-6850d5695996>\u001b[0m in \u001b[0;36m<module>\u001b[0;34m\u001b[0m\n\u001b[0;32m----> 1\u001b[0;31m \u001b[0mlist\u001b[0m\u001b[0;34m(\u001b[0m\u001b[0muser\u001b[0m\u001b[0;34m.\u001b[0m\u001b[0mrestauranttimeline_set\u001b[0m\u001b[0;34m.\u001b[0m\u001b[0mvalues\u001b[0m\u001b[0;34m(\u001b[0m\u001b[0;34m'id'\u001b[0m\u001b[0;34m)\u001b[0m\u001b[0;34m)\u001b[0m\u001b[0;34m.\u001b[0m\u001b[0mvalues\u001b[0m\u001b[0;34m(\u001b[0m\u001b[0;34m)\u001b[0m\u001b[0;34m\u001b[0m\u001b[0;34m\u001b[0m\u001b[0m\n\u001b[0m",
      "\u001b[0;31mAttributeError\u001b[0m: 'list' object has no attribute 'values'"
     ]
    }
   ],
   "source": [
    "list(user.restauranttimeline_set.values('id')).values()"
   ]
  },
  {
   "cell_type": "code",
   "execution_count": 98,
   "metadata": {},
   "outputs": [],
   "source": [
    "restaurant_timeline = RestaurantTimeline.objects.filter(id=55)"
   ]
  },
  {
   "cell_type": "code",
   "execution_count": 99,
   "metadata": {},
   "outputs": [
    {
     "name": "stderr",
     "output_type": "stream",
     "text": [
      "(0.001) SELECT \"restaurant_restauranttimeline\".\"id\", \"restaurant_restauranttimeline\".\"created_time\", \"restaurant_restauranttimeline\".\"updated_time\", \"restaurant_restauranttimeline\".\"restaurant_id\", \"restaurant_restauranttimeline\".\"status\", \"restaurant_restauranttimeline\".\"changed_data\", \"restaurant_restauranttimeline\".\"changed_img\", \"restaurant_restauranttimeline\".\"prior_info\", \"restaurant_restauranttimeline\".\"post_info\", \"restaurant_restauranttimeline\".\"timeline_type\", \"restaurant_restauranttimeline\".\"changed_field\", \"restaurant_restauranttimeline\".\"yosigy_id\" FROM \"restaurant_restauranttimeline\" WHERE \"restaurant_restauranttimeline\".\"id\" = 55  LIMIT 1; args=(55,)\n"
     ]
    },
    {
     "ename": "IndexError",
     "evalue": "list index out of range",
     "output_type": "error",
     "traceback": [
      "\u001b[0;31m---------------------------------------------------------------------------\u001b[0m",
      "\u001b[0;31mIndexError\u001b[0m                                Traceback (most recent call last)",
      "\u001b[0;32m<ipython-input-99-49b4b831d518>\u001b[0m in \u001b[0;36m<module>\u001b[0;34m\u001b[0m\n\u001b[0;32m----> 1\u001b[0;31m \u001b[0mrestaurant_timeline\u001b[0m\u001b[0;34m[\u001b[0m\u001b[0;36m0\u001b[0m\u001b[0;34m]\u001b[0m\u001b[0;34m\u001b[0m\u001b[0;34m\u001b[0m\u001b[0m\n\u001b[0m",
      "\u001b[0;32m~/Desktop/rookiehero/project/venv/lib/python3.7/site-packages/django/db/models/query.py\u001b[0m in \u001b[0;36m__getitem__\u001b[0;34m(self, k)\u001b[0m\n\u001b[1;32m    301\u001b[0m         \u001b[0mqs\u001b[0m\u001b[0;34m.\u001b[0m\u001b[0mquery\u001b[0m\u001b[0;34m.\u001b[0m\u001b[0mset_limits\u001b[0m\u001b[0;34m(\u001b[0m\u001b[0mk\u001b[0m\u001b[0;34m,\u001b[0m \u001b[0mk\u001b[0m \u001b[0;34m+\u001b[0m \u001b[0;36m1\u001b[0m\u001b[0;34m)\u001b[0m\u001b[0;34m\u001b[0m\u001b[0;34m\u001b[0m\u001b[0m\n\u001b[1;32m    302\u001b[0m         \u001b[0mqs\u001b[0m\u001b[0;34m.\u001b[0m\u001b[0m_fetch_all\u001b[0m\u001b[0;34m(\u001b[0m\u001b[0;34m)\u001b[0m\u001b[0;34m\u001b[0m\u001b[0;34m\u001b[0m\u001b[0m\n\u001b[0;32m--> 303\u001b[0;31m         \u001b[0;32mreturn\u001b[0m \u001b[0mqs\u001b[0m\u001b[0;34m.\u001b[0m\u001b[0m_result_cache\u001b[0m\u001b[0;34m[\u001b[0m\u001b[0;36m0\u001b[0m\u001b[0;34m]\u001b[0m\u001b[0;34m\u001b[0m\u001b[0;34m\u001b[0m\u001b[0m\n\u001b[0m\u001b[1;32m    304\u001b[0m \u001b[0;34m\u001b[0m\u001b[0m\n\u001b[1;32m    305\u001b[0m     \u001b[0;32mdef\u001b[0m \u001b[0m__and__\u001b[0m\u001b[0;34m(\u001b[0m\u001b[0mself\u001b[0m\u001b[0;34m,\u001b[0m \u001b[0mother\u001b[0m\u001b[0;34m)\u001b[0m\u001b[0;34m:\u001b[0m\u001b[0;34m\u001b[0m\u001b[0;34m\u001b[0m\u001b[0m\n",
      "\u001b[0;31mIndexError\u001b[0m: list index out of range"
     ]
    }
   ],
   "source": [
    "restaurant_timeline[0]"
   ]
  },
  {
   "cell_type": "code",
   "execution_count": 106,
   "metadata": {},
   "outputs": [
    {
     "ename": "FieldError",
     "evalue": "Cannot resolve keyword 'restauranttimelinecomment' into field. Choices are: changed_data, changed_field, changed_img, created_time, id, like, post_info, prior_info, restaurant, restaurant_id, status, timeline_type, updated_time, yosigy, yosigy_id",
     "output_type": "error",
     "traceback": [
      "\u001b[0;31m---------------------------------------------------------------------------\u001b[0m",
      "\u001b[0;31mFieldError\u001b[0m                                Traceback (most recent call last)",
      "\u001b[0;32m<ipython-input-106-493e733dcfc1>\u001b[0m in \u001b[0;36m<module>\u001b[0;34m\u001b[0m\n\u001b[1;32m      1\u001b[0m \u001b[0;32mfrom\u001b[0m \u001b[0mdjango\u001b[0m\u001b[0;34m.\u001b[0m\u001b[0mdb\u001b[0m\u001b[0;34m.\u001b[0m\u001b[0mmodels\u001b[0m \u001b[0;32mimport\u001b[0m \u001b[0mCount\u001b[0m\u001b[0;34m,\u001b[0m \u001b[0mF\u001b[0m\u001b[0;34m\u001b[0m\u001b[0;34m\u001b[0m\u001b[0m\n\u001b[0;32m----> 2\u001b[0;31m \u001b[0mtimeline\u001b[0m\u001b[0;34m=\u001b[0m\u001b[0mRestaurantTimeline\u001b[0m\u001b[0;34m.\u001b[0m\u001b[0mobjects\u001b[0m\u001b[0;34m.\u001b[0m\u001b[0mannotate\u001b[0m\u001b[0;34m(\u001b[0m\u001b[0mcomment_id\u001b[0m\u001b[0;34m=\u001b[0m\u001b[0mF\u001b[0m\u001b[0;34m(\u001b[0m\u001b[0;34m'restauranttimelinecomment'\u001b[0m\u001b[0;34m)\u001b[0m\u001b[0;34m)\u001b[0m\u001b[0;34m.\u001b[0m\u001b[0mget\u001b[0m\u001b[0;34m(\u001b[0m\u001b[0mid\u001b[0m\u001b[0;34m=\u001b[0m\u001b[0;36m58\u001b[0m\u001b[0;34m)\u001b[0m\u001b[0;34m\u001b[0m\u001b[0;34m\u001b[0m\u001b[0m\n\u001b[0m",
      "\u001b[0;32m~/Desktop/rookiehero/project/venv/lib/python3.7/site-packages/django/db/models/manager.py\u001b[0m in \u001b[0;36mmanager_method\u001b[0;34m(self, *args, **kwargs)\u001b[0m\n\u001b[1;32m     80\u001b[0m         \u001b[0;32mdef\u001b[0m \u001b[0mcreate_method\u001b[0m\u001b[0;34m(\u001b[0m\u001b[0mname\u001b[0m\u001b[0;34m,\u001b[0m \u001b[0mmethod\u001b[0m\u001b[0;34m)\u001b[0m\u001b[0;34m:\u001b[0m\u001b[0;34m\u001b[0m\u001b[0;34m\u001b[0m\u001b[0m\n\u001b[1;32m     81\u001b[0m             \u001b[0;32mdef\u001b[0m \u001b[0mmanager_method\u001b[0m\u001b[0;34m(\u001b[0m\u001b[0mself\u001b[0m\u001b[0;34m,\u001b[0m \u001b[0;34m*\u001b[0m\u001b[0margs\u001b[0m\u001b[0;34m,\u001b[0m \u001b[0;34m**\u001b[0m\u001b[0mkwargs\u001b[0m\u001b[0;34m)\u001b[0m\u001b[0;34m:\u001b[0m\u001b[0;34m\u001b[0m\u001b[0;34m\u001b[0m\u001b[0m\n\u001b[0;32m---> 82\u001b[0;31m                 \u001b[0;32mreturn\u001b[0m \u001b[0mgetattr\u001b[0m\u001b[0;34m(\u001b[0m\u001b[0mself\u001b[0m\u001b[0;34m.\u001b[0m\u001b[0mget_queryset\u001b[0m\u001b[0;34m(\u001b[0m\u001b[0;34m)\u001b[0m\u001b[0;34m,\u001b[0m \u001b[0mname\u001b[0m\u001b[0;34m)\u001b[0m\u001b[0;34m(\u001b[0m\u001b[0;34m*\u001b[0m\u001b[0margs\u001b[0m\u001b[0;34m,\u001b[0m \u001b[0;34m**\u001b[0m\u001b[0mkwargs\u001b[0m\u001b[0;34m)\u001b[0m\u001b[0;34m\u001b[0m\u001b[0;34m\u001b[0m\u001b[0m\n\u001b[0m\u001b[1;32m     83\u001b[0m             \u001b[0mmanager_method\u001b[0m\u001b[0;34m.\u001b[0m\u001b[0m__name__\u001b[0m \u001b[0;34m=\u001b[0m \u001b[0mmethod\u001b[0m\u001b[0;34m.\u001b[0m\u001b[0m__name__\u001b[0m\u001b[0;34m\u001b[0m\u001b[0;34m\u001b[0m\u001b[0m\n\u001b[1;32m     84\u001b[0m             \u001b[0mmanager_method\u001b[0m\u001b[0;34m.\u001b[0m\u001b[0m__doc__\u001b[0m \u001b[0;34m=\u001b[0m \u001b[0mmethod\u001b[0m\u001b[0;34m.\u001b[0m\u001b[0m__doc__\u001b[0m\u001b[0;34m\u001b[0m\u001b[0;34m\u001b[0m\u001b[0m\n",
      "\u001b[0;32m~/Desktop/rookiehero/project/venv/lib/python3.7/site-packages/django/db/models/query.py\u001b[0m in \u001b[0;36mannotate\u001b[0;34m(self, *args, **kwargs)\u001b[0m\n\u001b[1;32m   1003\u001b[0m                 \u001b[0mclone\u001b[0m\u001b[0;34m.\u001b[0m\u001b[0mquery\u001b[0m\u001b[0;34m.\u001b[0m\u001b[0madd_filtered_relation\u001b[0m\u001b[0;34m(\u001b[0m\u001b[0mannotation\u001b[0m\u001b[0;34m,\u001b[0m \u001b[0malias\u001b[0m\u001b[0;34m)\u001b[0m\u001b[0;34m\u001b[0m\u001b[0;34m\u001b[0m\u001b[0m\n\u001b[1;32m   1004\u001b[0m             \u001b[0;32melse\u001b[0m\u001b[0;34m:\u001b[0m\u001b[0;34m\u001b[0m\u001b[0;34m\u001b[0m\u001b[0m\n\u001b[0;32m-> 1005\u001b[0;31m                 \u001b[0mclone\u001b[0m\u001b[0;34m.\u001b[0m\u001b[0mquery\u001b[0m\u001b[0;34m.\u001b[0m\u001b[0madd_annotation\u001b[0m\u001b[0;34m(\u001b[0m\u001b[0mannotation\u001b[0m\u001b[0;34m,\u001b[0m \u001b[0malias\u001b[0m\u001b[0;34m,\u001b[0m \u001b[0mis_summary\u001b[0m\u001b[0;34m=\u001b[0m\u001b[0;32mFalse\u001b[0m\u001b[0;34m)\u001b[0m\u001b[0;34m\u001b[0m\u001b[0;34m\u001b[0m\u001b[0m\n\u001b[0m\u001b[1;32m   1006\u001b[0m \u001b[0;34m\u001b[0m\u001b[0m\n\u001b[1;32m   1007\u001b[0m         \u001b[0;32mfor\u001b[0m \u001b[0malias\u001b[0m\u001b[0;34m,\u001b[0m \u001b[0mannotation\u001b[0m \u001b[0;32min\u001b[0m \u001b[0mclone\u001b[0m\u001b[0;34m.\u001b[0m\u001b[0mquery\u001b[0m\u001b[0;34m.\u001b[0m\u001b[0mannotations\u001b[0m\u001b[0;34m.\u001b[0m\u001b[0mitems\u001b[0m\u001b[0;34m(\u001b[0m\u001b[0;34m)\u001b[0m\u001b[0;34m:\u001b[0m\u001b[0;34m\u001b[0m\u001b[0;34m\u001b[0m\u001b[0m\n",
      "\u001b[0;32m~/Desktop/rookiehero/project/venv/lib/python3.7/site-packages/django/db/models/sql/query.py\u001b[0m in \u001b[0;36madd_annotation\u001b[0;34m(self, annotation, alias, is_summary)\u001b[0m\n\u001b[1;32m    986\u001b[0m         \u001b[0;34m\"\"\"Add a single annotation expression to the Query.\"\"\"\u001b[0m\u001b[0;34m\u001b[0m\u001b[0;34m\u001b[0m\u001b[0m\n\u001b[1;32m    987\u001b[0m         annotation = annotation.resolve_expression(self, allow_joins=True, reuse=None,\n\u001b[0;32m--> 988\u001b[0;31m                                                    summarize=is_summary)\n\u001b[0m\u001b[1;32m    989\u001b[0m         \u001b[0mself\u001b[0m\u001b[0;34m.\u001b[0m\u001b[0mappend_annotation_mask\u001b[0m\u001b[0;34m(\u001b[0m\u001b[0;34m[\u001b[0m\u001b[0malias\u001b[0m\u001b[0;34m]\u001b[0m\u001b[0;34m)\u001b[0m\u001b[0;34m\u001b[0m\u001b[0;34m\u001b[0m\u001b[0m\n\u001b[1;32m    990\u001b[0m         \u001b[0mself\u001b[0m\u001b[0;34m.\u001b[0m\u001b[0mannotations\u001b[0m\u001b[0;34m[\u001b[0m\u001b[0malias\u001b[0m\u001b[0;34m]\u001b[0m \u001b[0;34m=\u001b[0m \u001b[0mannotation\u001b[0m\u001b[0;34m\u001b[0m\u001b[0;34m\u001b[0m\u001b[0m\n",
      "\u001b[0;32m~/Desktop/rookiehero/project/venv/lib/python3.7/site-packages/django/db/models/expressions.py\u001b[0m in \u001b[0;36mresolve_expression\u001b[0;34m(self, query, allow_joins, reuse, summarize, for_save)\u001b[0m\n\u001b[1;32m    507\u001b[0m \u001b[0;34m\u001b[0m\u001b[0m\n\u001b[1;32m    508\u001b[0m     \u001b[0;32mdef\u001b[0m \u001b[0mresolve_expression\u001b[0m\u001b[0;34m(\u001b[0m\u001b[0mself\u001b[0m\u001b[0;34m,\u001b[0m \u001b[0mquery\u001b[0m\u001b[0;34m=\u001b[0m\u001b[0;32mNone\u001b[0m\u001b[0;34m,\u001b[0m \u001b[0mallow_joins\u001b[0m\u001b[0;34m=\u001b[0m\u001b[0;32mTrue\u001b[0m\u001b[0;34m,\u001b[0m \u001b[0mreuse\u001b[0m\u001b[0;34m=\u001b[0m\u001b[0;32mNone\u001b[0m\u001b[0;34m,\u001b[0m \u001b[0msummarize\u001b[0m\u001b[0;34m=\u001b[0m\u001b[0;32mFalse\u001b[0m\u001b[0;34m,\u001b[0m \u001b[0mfor_save\u001b[0m\u001b[0;34m=\u001b[0m\u001b[0;32mFalse\u001b[0m\u001b[0;34m)\u001b[0m\u001b[0;34m:\u001b[0m\u001b[0;34m\u001b[0m\u001b[0;34m\u001b[0m\u001b[0m\n\u001b[0;32m--> 509\u001b[0;31m         \u001b[0;32mreturn\u001b[0m \u001b[0mquery\u001b[0m\u001b[0;34m.\u001b[0m\u001b[0mresolve_ref\u001b[0m\u001b[0;34m(\u001b[0m\u001b[0mself\u001b[0m\u001b[0;34m.\u001b[0m\u001b[0mname\u001b[0m\u001b[0;34m,\u001b[0m \u001b[0mallow_joins\u001b[0m\u001b[0;34m,\u001b[0m \u001b[0mreuse\u001b[0m\u001b[0;34m,\u001b[0m \u001b[0msummarize\u001b[0m\u001b[0;34m)\u001b[0m\u001b[0;34m\u001b[0m\u001b[0;34m\u001b[0m\u001b[0m\n\u001b[0m\u001b[1;32m    510\u001b[0m \u001b[0;34m\u001b[0m\u001b[0m\n\u001b[1;32m    511\u001b[0m     \u001b[0;32mdef\u001b[0m \u001b[0masc\u001b[0m\u001b[0;34m(\u001b[0m\u001b[0mself\u001b[0m\u001b[0;34m,\u001b[0m \u001b[0;34m**\u001b[0m\u001b[0mkwargs\u001b[0m\u001b[0;34m)\u001b[0m\u001b[0;34m:\u001b[0m\u001b[0;34m\u001b[0m\u001b[0;34m\u001b[0m\u001b[0m\n",
      "\u001b[0;32m~/Desktop/rookiehero/project/venv/lib/python3.7/site-packages/django/db/models/sql/query.py\u001b[0m in \u001b[0;36mresolve_ref\u001b[0;34m(self, name, allow_joins, reuse, summarize)\u001b[0m\n\u001b[1;32m   1568\u001b[0m         \u001b[0;32melse\u001b[0m\u001b[0;34m:\u001b[0m\u001b[0;34m\u001b[0m\u001b[0;34m\u001b[0m\u001b[0m\n\u001b[1;32m   1569\u001b[0m             \u001b[0mfield_list\u001b[0m \u001b[0;34m=\u001b[0m \u001b[0mname\u001b[0m\u001b[0;34m.\u001b[0m\u001b[0msplit\u001b[0m\u001b[0;34m(\u001b[0m\u001b[0mLOOKUP_SEP\u001b[0m\u001b[0;34m)\u001b[0m\u001b[0;34m\u001b[0m\u001b[0;34m\u001b[0m\u001b[0m\n\u001b[0;32m-> 1570\u001b[0;31m             \u001b[0mjoin_info\u001b[0m \u001b[0;34m=\u001b[0m \u001b[0mself\u001b[0m\u001b[0;34m.\u001b[0m\u001b[0msetup_joins\u001b[0m\u001b[0;34m(\u001b[0m\u001b[0mfield_list\u001b[0m\u001b[0;34m,\u001b[0m \u001b[0mself\u001b[0m\u001b[0;34m.\u001b[0m\u001b[0mget_meta\u001b[0m\u001b[0;34m(\u001b[0m\u001b[0;34m)\u001b[0m\u001b[0;34m,\u001b[0m \u001b[0mself\u001b[0m\u001b[0;34m.\u001b[0m\u001b[0mget_initial_alias\u001b[0m\u001b[0;34m(\u001b[0m\u001b[0;34m)\u001b[0m\u001b[0;34m,\u001b[0m \u001b[0mcan_reuse\u001b[0m\u001b[0;34m=\u001b[0m\u001b[0mreuse\u001b[0m\u001b[0;34m)\u001b[0m\u001b[0;34m\u001b[0m\u001b[0;34m\u001b[0m\u001b[0m\n\u001b[0m\u001b[1;32m   1571\u001b[0m             \u001b[0mtargets\u001b[0m\u001b[0;34m,\u001b[0m \u001b[0m_\u001b[0m\u001b[0;34m,\u001b[0m \u001b[0mjoin_list\u001b[0m \u001b[0;34m=\u001b[0m \u001b[0mself\u001b[0m\u001b[0;34m.\u001b[0m\u001b[0mtrim_joins\u001b[0m\u001b[0;34m(\u001b[0m\u001b[0mjoin_info\u001b[0m\u001b[0;34m.\u001b[0m\u001b[0mtargets\u001b[0m\u001b[0;34m,\u001b[0m \u001b[0mjoin_info\u001b[0m\u001b[0;34m.\u001b[0m\u001b[0mjoins\u001b[0m\u001b[0;34m,\u001b[0m \u001b[0mjoin_info\u001b[0m\u001b[0;34m.\u001b[0m\u001b[0mpath\u001b[0m\u001b[0;34m)\u001b[0m\u001b[0;34m\u001b[0m\u001b[0;34m\u001b[0m\u001b[0m\n\u001b[1;32m   1572\u001b[0m             \u001b[0;32mif\u001b[0m \u001b[0mlen\u001b[0m\u001b[0;34m(\u001b[0m\u001b[0mtargets\u001b[0m\u001b[0;34m)\u001b[0m \u001b[0;34m>\u001b[0m \u001b[0;36m1\u001b[0m\u001b[0;34m:\u001b[0m\u001b[0;34m\u001b[0m\u001b[0;34m\u001b[0m\u001b[0m\n",
      "\u001b[0;32m~/Desktop/rookiehero/project/venv/lib/python3.7/site-packages/django/db/models/sql/query.py\u001b[0m in \u001b[0;36msetup_joins\u001b[0;34m(self, names, opts, alias, can_reuse, allow_many, reuse_with_filtered_relation)\u001b[0m\n\u001b[1;32m   1471\u001b[0m             \u001b[0;32mtry\u001b[0m\u001b[0;34m:\u001b[0m\u001b[0;34m\u001b[0m\u001b[0;34m\u001b[0m\u001b[0m\n\u001b[1;32m   1472\u001b[0m                 path, final_field, targets, rest = self.names_to_path(\n\u001b[0;32m-> 1473\u001b[0;31m                     \u001b[0mnames\u001b[0m\u001b[0;34m[\u001b[0m\u001b[0;34m:\u001b[0m\u001b[0mpivot\u001b[0m\u001b[0;34m]\u001b[0m\u001b[0;34m,\u001b[0m \u001b[0mopts\u001b[0m\u001b[0;34m,\u001b[0m \u001b[0mallow_many\u001b[0m\u001b[0;34m,\u001b[0m \u001b[0mfail_on_missing\u001b[0m\u001b[0;34m=\u001b[0m\u001b[0;32mTrue\u001b[0m\u001b[0;34m,\u001b[0m\u001b[0;34m\u001b[0m\u001b[0;34m\u001b[0m\u001b[0m\n\u001b[0m\u001b[1;32m   1474\u001b[0m                 )\n\u001b[1;32m   1475\u001b[0m             \u001b[0;32mexcept\u001b[0m \u001b[0mFieldError\u001b[0m \u001b[0;32mas\u001b[0m \u001b[0mexc\u001b[0m\u001b[0;34m:\u001b[0m\u001b[0;34m\u001b[0m\u001b[0;34m\u001b[0m\u001b[0m\n",
      "\u001b[0;32m~/Desktop/rookiehero/project/venv/lib/python3.7/site-packages/django/db/models/sql/query.py\u001b[0m in \u001b[0;36mnames_to_path\u001b[0;34m(self, names, opts, allow_many, fail_on_missing)\u001b[0m\n\u001b[1;32m   1387\u001b[0m                     )\n\u001b[1;32m   1388\u001b[0m                     raise FieldError(\"Cannot resolve keyword '%s' into field. \"\n\u001b[0;32m-> 1389\u001b[0;31m                                      \"Choices are: %s\" % (name, \", \".join(available)))\n\u001b[0m\u001b[1;32m   1390\u001b[0m                 \u001b[0;32mbreak\u001b[0m\u001b[0;34m\u001b[0m\u001b[0;34m\u001b[0m\u001b[0m\n\u001b[1;32m   1391\u001b[0m             \u001b[0;31m# Check if we need any joins for concrete inheritance cases (the\u001b[0m\u001b[0;34m\u001b[0m\u001b[0;34m\u001b[0m\u001b[0;34m\u001b[0m\u001b[0m\n",
      "\u001b[0;31mFieldError\u001b[0m: Cannot resolve keyword 'restauranttimelinecomment' into field. Choices are: changed_data, changed_field, changed_img, created_time, id, like, post_info, prior_info, restaurant, restaurant_id, status, timeline_type, updated_time, yosigy, yosigy_id"
     ]
    }
   ],
   "source": [
    "from django.db.models import Count, F\n",
    "timeline=RestaurantTimeline.objects.annotate(comment_id=F('restauranttimelinecomment')).get(id=58)"
   ]
  },
  {
   "cell_type": "code",
   "execution_count": 108,
   "metadata": {},
   "outputs": [
    {
     "name": "stderr",
     "output_type": "stream",
     "text": [
      "(0.001) SELECT COUNT(*) AS \"__count\" FROM \"accounts_user\" INNER JOIN \"restaurant_restauranttimeline_like\" ON (\"accounts_user\".\"id\" = \"restaurant_restauranttimeline_like\".\"user_id\") WHERE \"restaurant_restauranttimeline_like\".\"restauranttimeline_id\" = 58; args=(58,)\n"
     ]
    },
    {
     "data": {
      "text/plain": [
       "1"
      ]
     },
     "execution_count": 108,
     "metadata": {},
     "output_type": "execute_result"
    }
   ],
   "source": [
    "timeline.like.count()"
   ]
  },
  {
   "cell_type": "code",
   "execution_count": 29,
   "metadata": {},
   "outputs": [
    {
     "ename": "FieldError",
     "evalue": "Cannot resolve keyword 'tatest' into field. Choices are: cartitem, created_time, detail, grouppurchase, hit, id, img, is_recommended, is_set_menu, is_yosigy, like, menutimeline, name, price, restaurant, restaurant_id, score, tastes, type, updated_time, yosigymenu, yosigyticket",
     "output_type": "error",
     "traceback": [
      "\u001b[0;31m---------------------------------------------------------------------------\u001b[0m",
      "\u001b[0;31mFieldError\u001b[0m                                Traceback (most recent call last)",
      "\u001b[0;32m<ipython-input-29-37d1d3a283ba>\u001b[0m in \u001b[0;36m<module>\u001b[0;34m\u001b[0m\n\u001b[1;32m      2\u001b[0m     \u001b[0mQ\u001b[0m\u001b[0;34m(\u001b[0m\u001b[0mtastes\u001b[0m\u001b[0;34m=\u001b[0m\u001b[0;36m5\u001b[0m\u001b[0;34m)\u001b[0m\u001b[0;34m&\u001b[0m\u001b[0mQ\u001b[0m\u001b[0;34m(\u001b[0m\u001b[0mtastes\u001b[0m\u001b[0;34m=\u001b[0m\u001b[0;36m6\u001b[0m\u001b[0;34m)\u001b[0m\u001b[0;34m&\u001b[0m\u001b[0mQ\u001b[0m\u001b[0;34m(\u001b[0m\u001b[0mtastes\u001b[0m\u001b[0;34m=\u001b[0m\u001b[0;32mNone\u001b[0m\u001b[0;34m)\u001b[0m\u001b[0;34m\u001b[0m\u001b[0;34m\u001b[0m\u001b[0m\n\u001b[1;32m      3\u001b[0m )\n\u001b[0;32m----> 4\u001b[0;31m \u001b[0mMenu\u001b[0m\u001b[0;34m.\u001b[0m\u001b[0mobjects\u001b[0m\u001b[0;34m.\u001b[0m\u001b[0mprefetch_related\u001b[0m\u001b[0;34m(\u001b[0m\u001b[0;34m'tastes'\u001b[0m\u001b[0;34m)\u001b[0m\u001b[0;34m.\u001b[0m\u001b[0mfilter\u001b[0m\u001b[0;34m(\u001b[0m\u001b[0mtatest\u001b[0m\u001b[0;34m=\u001b[0m\u001b[0;36m5\u001b[0m\u001b[0;34m)\u001b[0m\u001b[0;31m##, queryset=(Menu.objects.filter(Q(tastes=5)&Q(tastes=6)))))\u001b[0m\u001b[0;34m\u001b[0m\u001b[0;34m\u001b[0m\u001b[0m\n\u001b[0m",
      "\u001b[0;32m~/Desktop/rookiehero/project/venv/lib/python3.7/site-packages/django/db/models/query.py\u001b[0m in \u001b[0;36mfilter\u001b[0;34m(self, *args, **kwargs)\u001b[0m\n\u001b[1;32m    839\u001b[0m         \u001b[0mset\u001b[0m\u001b[0;34m.\u001b[0m\u001b[0;34m\u001b[0m\u001b[0;34m\u001b[0m\u001b[0m\n\u001b[1;32m    840\u001b[0m         \"\"\"\n\u001b[0;32m--> 841\u001b[0;31m         \u001b[0;32mreturn\u001b[0m \u001b[0mself\u001b[0m\u001b[0;34m.\u001b[0m\u001b[0m_filter_or_exclude\u001b[0m\u001b[0;34m(\u001b[0m\u001b[0;32mFalse\u001b[0m\u001b[0;34m,\u001b[0m \u001b[0;34m*\u001b[0m\u001b[0margs\u001b[0m\u001b[0;34m,\u001b[0m \u001b[0;34m**\u001b[0m\u001b[0mkwargs\u001b[0m\u001b[0;34m)\u001b[0m\u001b[0;34m\u001b[0m\u001b[0;34m\u001b[0m\u001b[0m\n\u001b[0m\u001b[1;32m    842\u001b[0m \u001b[0;34m\u001b[0m\u001b[0m\n\u001b[1;32m    843\u001b[0m     \u001b[0;32mdef\u001b[0m \u001b[0mexclude\u001b[0m\u001b[0;34m(\u001b[0m\u001b[0mself\u001b[0m\u001b[0;34m,\u001b[0m \u001b[0;34m*\u001b[0m\u001b[0margs\u001b[0m\u001b[0;34m,\u001b[0m \u001b[0;34m**\u001b[0m\u001b[0mkwargs\u001b[0m\u001b[0;34m)\u001b[0m\u001b[0;34m:\u001b[0m\u001b[0;34m\u001b[0m\u001b[0;34m\u001b[0m\u001b[0m\n",
      "\u001b[0;32m~/Desktop/rookiehero/project/venv/lib/python3.7/site-packages/django/db/models/query.py\u001b[0m in \u001b[0;36m_filter_or_exclude\u001b[0;34m(self, negate, *args, **kwargs)\u001b[0m\n\u001b[1;32m    857\u001b[0m             \u001b[0mclone\u001b[0m\u001b[0;34m.\u001b[0m\u001b[0mquery\u001b[0m\u001b[0;34m.\u001b[0m\u001b[0madd_q\u001b[0m\u001b[0;34m(\u001b[0m\u001b[0;34m~\u001b[0m\u001b[0mQ\u001b[0m\u001b[0;34m(\u001b[0m\u001b[0;34m*\u001b[0m\u001b[0margs\u001b[0m\u001b[0;34m,\u001b[0m \u001b[0;34m**\u001b[0m\u001b[0mkwargs\u001b[0m\u001b[0;34m)\u001b[0m\u001b[0;34m)\u001b[0m\u001b[0;34m\u001b[0m\u001b[0;34m\u001b[0m\u001b[0m\n\u001b[1;32m    858\u001b[0m         \u001b[0;32melse\u001b[0m\u001b[0;34m:\u001b[0m\u001b[0;34m\u001b[0m\u001b[0;34m\u001b[0m\u001b[0m\n\u001b[0;32m--> 859\u001b[0;31m             \u001b[0mclone\u001b[0m\u001b[0;34m.\u001b[0m\u001b[0mquery\u001b[0m\u001b[0;34m.\u001b[0m\u001b[0madd_q\u001b[0m\u001b[0;34m(\u001b[0m\u001b[0mQ\u001b[0m\u001b[0;34m(\u001b[0m\u001b[0;34m*\u001b[0m\u001b[0margs\u001b[0m\u001b[0;34m,\u001b[0m \u001b[0;34m**\u001b[0m\u001b[0mkwargs\u001b[0m\u001b[0;34m)\u001b[0m\u001b[0;34m)\u001b[0m\u001b[0;34m\u001b[0m\u001b[0;34m\u001b[0m\u001b[0m\n\u001b[0m\u001b[1;32m    860\u001b[0m         \u001b[0;32mreturn\u001b[0m \u001b[0mclone\u001b[0m\u001b[0;34m\u001b[0m\u001b[0;34m\u001b[0m\u001b[0m\n\u001b[1;32m    861\u001b[0m \u001b[0;34m\u001b[0m\u001b[0m\n",
      "\u001b[0;32m~/Desktop/rookiehero/project/venv/lib/python3.7/site-packages/django/db/models/sql/query.py\u001b[0m in \u001b[0;36madd_q\u001b[0;34m(self, q_object)\u001b[0m\n\u001b[1;32m   1261\u001b[0m         \u001b[0;31m# So, demotion is OK.\u001b[0m\u001b[0;34m\u001b[0m\u001b[0;34m\u001b[0m\u001b[0;34m\u001b[0m\u001b[0m\n\u001b[1;32m   1262\u001b[0m         \u001b[0mexisting_inner\u001b[0m \u001b[0;34m=\u001b[0m \u001b[0;34m{\u001b[0m\u001b[0ma\u001b[0m \u001b[0;32mfor\u001b[0m \u001b[0ma\u001b[0m \u001b[0;32min\u001b[0m \u001b[0mself\u001b[0m\u001b[0;34m.\u001b[0m\u001b[0malias_map\u001b[0m \u001b[0;32mif\u001b[0m \u001b[0mself\u001b[0m\u001b[0;34m.\u001b[0m\u001b[0malias_map\u001b[0m\u001b[0;34m[\u001b[0m\u001b[0ma\u001b[0m\u001b[0;34m]\u001b[0m\u001b[0;34m.\u001b[0m\u001b[0mjoin_type\u001b[0m \u001b[0;34m==\u001b[0m \u001b[0mINNER\u001b[0m\u001b[0;34m}\u001b[0m\u001b[0;34m\u001b[0m\u001b[0;34m\u001b[0m\u001b[0m\n\u001b[0;32m-> 1263\u001b[0;31m         \u001b[0mclause\u001b[0m\u001b[0;34m,\u001b[0m \u001b[0m_\u001b[0m \u001b[0;34m=\u001b[0m \u001b[0mself\u001b[0m\u001b[0;34m.\u001b[0m\u001b[0m_add_q\u001b[0m\u001b[0;34m(\u001b[0m\u001b[0mq_object\u001b[0m\u001b[0;34m,\u001b[0m \u001b[0mself\u001b[0m\u001b[0;34m.\u001b[0m\u001b[0mused_aliases\u001b[0m\u001b[0;34m)\u001b[0m\u001b[0;34m\u001b[0m\u001b[0;34m\u001b[0m\u001b[0m\n\u001b[0m\u001b[1;32m   1264\u001b[0m         \u001b[0;32mif\u001b[0m \u001b[0mclause\u001b[0m\u001b[0;34m:\u001b[0m\u001b[0;34m\u001b[0m\u001b[0;34m\u001b[0m\u001b[0m\n\u001b[1;32m   1265\u001b[0m             \u001b[0mself\u001b[0m\u001b[0;34m.\u001b[0m\u001b[0mwhere\u001b[0m\u001b[0;34m.\u001b[0m\u001b[0madd\u001b[0m\u001b[0;34m(\u001b[0m\u001b[0mclause\u001b[0m\u001b[0;34m,\u001b[0m \u001b[0mAND\u001b[0m\u001b[0;34m)\u001b[0m\u001b[0;34m\u001b[0m\u001b[0;34m\u001b[0m\u001b[0m\n",
      "\u001b[0;32m~/Desktop/rookiehero/project/venv/lib/python3.7/site-packages/django/db/models/sql/query.py\u001b[0m in \u001b[0;36m_add_q\u001b[0;34m(self, q_object, used_aliases, branch_negated, current_negated, allow_joins, split_subq)\u001b[0m\n\u001b[1;32m   1285\u001b[0m                     \u001b[0mchild\u001b[0m\u001b[0;34m,\u001b[0m \u001b[0mcan_reuse\u001b[0m\u001b[0;34m=\u001b[0m\u001b[0mused_aliases\u001b[0m\u001b[0;34m,\u001b[0m \u001b[0mbranch_negated\u001b[0m\u001b[0;34m=\u001b[0m\u001b[0mbranch_negated\u001b[0m\u001b[0;34m,\u001b[0m\u001b[0;34m\u001b[0m\u001b[0;34m\u001b[0m\u001b[0m\n\u001b[1;32m   1286\u001b[0m                     \u001b[0mcurrent_negated\u001b[0m\u001b[0;34m=\u001b[0m\u001b[0mcurrent_negated\u001b[0m\u001b[0;34m,\u001b[0m \u001b[0mallow_joins\u001b[0m\u001b[0;34m=\u001b[0m\u001b[0mallow_joins\u001b[0m\u001b[0;34m,\u001b[0m\u001b[0;34m\u001b[0m\u001b[0;34m\u001b[0m\u001b[0m\n\u001b[0;32m-> 1287\u001b[0;31m                     \u001b[0msplit_subq\u001b[0m\u001b[0;34m=\u001b[0m\u001b[0msplit_subq\u001b[0m\u001b[0;34m,\u001b[0m\u001b[0;34m\u001b[0m\u001b[0;34m\u001b[0m\u001b[0m\n\u001b[0m\u001b[1;32m   1288\u001b[0m                 )\n\u001b[1;32m   1289\u001b[0m                 \u001b[0mjoinpromoter\u001b[0m\u001b[0;34m.\u001b[0m\u001b[0madd_votes\u001b[0m\u001b[0;34m(\u001b[0m\u001b[0mneeded_inner\u001b[0m\u001b[0;34m)\u001b[0m\u001b[0;34m\u001b[0m\u001b[0;34m\u001b[0m\u001b[0m\n",
      "\u001b[0;32m~/Desktop/rookiehero/project/venv/lib/python3.7/site-packages/django/db/models/sql/query.py\u001b[0m in \u001b[0;36mbuild_filter\u001b[0;34m(self, filter_expr, branch_negated, current_negated, can_reuse, allow_joins, split_subq, reuse_with_filtered_relation)\u001b[0m\n\u001b[1;32m   1162\u001b[0m         \u001b[0;32mif\u001b[0m \u001b[0;32mnot\u001b[0m \u001b[0marg\u001b[0m\u001b[0;34m:\u001b[0m\u001b[0;34m\u001b[0m\u001b[0;34m\u001b[0m\u001b[0m\n\u001b[1;32m   1163\u001b[0m             \u001b[0;32mraise\u001b[0m \u001b[0mFieldError\u001b[0m\u001b[0;34m(\u001b[0m\u001b[0;34m\"Cannot parse keyword query %r\"\u001b[0m \u001b[0;34m%\u001b[0m \u001b[0marg\u001b[0m\u001b[0;34m)\u001b[0m\u001b[0;34m\u001b[0m\u001b[0;34m\u001b[0m\u001b[0m\n\u001b[0;32m-> 1164\u001b[0;31m         \u001b[0mlookups\u001b[0m\u001b[0;34m,\u001b[0m \u001b[0mparts\u001b[0m\u001b[0;34m,\u001b[0m \u001b[0mreffed_expression\u001b[0m \u001b[0;34m=\u001b[0m \u001b[0mself\u001b[0m\u001b[0;34m.\u001b[0m\u001b[0msolve_lookup_type\u001b[0m\u001b[0;34m(\u001b[0m\u001b[0marg\u001b[0m\u001b[0;34m)\u001b[0m\u001b[0;34m\u001b[0m\u001b[0;34m\u001b[0m\u001b[0m\n\u001b[0m\u001b[1;32m   1165\u001b[0m \u001b[0;34m\u001b[0m\u001b[0m\n\u001b[1;32m   1166\u001b[0m         \u001b[0;32mif\u001b[0m \u001b[0;32mnot\u001b[0m \u001b[0mgetattr\u001b[0m\u001b[0;34m(\u001b[0m\u001b[0mreffed_expression\u001b[0m\u001b[0;34m,\u001b[0m \u001b[0;34m'filterable'\u001b[0m\u001b[0;34m,\u001b[0m \u001b[0;32mTrue\u001b[0m\u001b[0;34m)\u001b[0m\u001b[0;34m:\u001b[0m\u001b[0;34m\u001b[0m\u001b[0;34m\u001b[0m\u001b[0m\n",
      "\u001b[0;32m~/Desktop/rookiehero/project/venv/lib/python3.7/site-packages/django/db/models/sql/query.py\u001b[0m in \u001b[0;36msolve_lookup_type\u001b[0;34m(self, lookup)\u001b[0m\n\u001b[1;32m   1026\u001b[0m             \u001b[0;32mif\u001b[0m \u001b[0mexpression\u001b[0m\u001b[0;34m:\u001b[0m\u001b[0;34m\u001b[0m\u001b[0;34m\u001b[0m\u001b[0m\n\u001b[1;32m   1027\u001b[0m                 \u001b[0;32mreturn\u001b[0m \u001b[0mexpression_lookups\u001b[0m\u001b[0;34m,\u001b[0m \u001b[0;34m(\u001b[0m\u001b[0;34m)\u001b[0m\u001b[0;34m,\u001b[0m \u001b[0mexpression\u001b[0m\u001b[0;34m\u001b[0m\u001b[0;34m\u001b[0m\u001b[0m\n\u001b[0;32m-> 1028\u001b[0;31m         \u001b[0m_\u001b[0m\u001b[0;34m,\u001b[0m \u001b[0mfield\u001b[0m\u001b[0;34m,\u001b[0m \u001b[0m_\u001b[0m\u001b[0;34m,\u001b[0m \u001b[0mlookup_parts\u001b[0m \u001b[0;34m=\u001b[0m \u001b[0mself\u001b[0m\u001b[0;34m.\u001b[0m\u001b[0mnames_to_path\u001b[0m\u001b[0;34m(\u001b[0m\u001b[0mlookup_splitted\u001b[0m\u001b[0;34m,\u001b[0m \u001b[0mself\u001b[0m\u001b[0;34m.\u001b[0m\u001b[0mget_meta\u001b[0m\u001b[0;34m(\u001b[0m\u001b[0;34m)\u001b[0m\u001b[0;34m)\u001b[0m\u001b[0;34m\u001b[0m\u001b[0;34m\u001b[0m\u001b[0m\n\u001b[0m\u001b[1;32m   1029\u001b[0m         \u001b[0mfield_parts\u001b[0m \u001b[0;34m=\u001b[0m \u001b[0mlookup_splitted\u001b[0m\u001b[0;34m[\u001b[0m\u001b[0;36m0\u001b[0m\u001b[0;34m:\u001b[0m\u001b[0mlen\u001b[0m\u001b[0;34m(\u001b[0m\u001b[0mlookup_splitted\u001b[0m\u001b[0;34m)\u001b[0m \u001b[0;34m-\u001b[0m \u001b[0mlen\u001b[0m\u001b[0;34m(\u001b[0m\u001b[0mlookup_parts\u001b[0m\u001b[0;34m)\u001b[0m\u001b[0;34m]\u001b[0m\u001b[0;34m\u001b[0m\u001b[0;34m\u001b[0m\u001b[0m\n\u001b[1;32m   1030\u001b[0m         \u001b[0;32mif\u001b[0m \u001b[0mlen\u001b[0m\u001b[0;34m(\u001b[0m\u001b[0mlookup_parts\u001b[0m\u001b[0;34m)\u001b[0m \u001b[0;34m>\u001b[0m \u001b[0;36m1\u001b[0m \u001b[0;32mand\u001b[0m \u001b[0;32mnot\u001b[0m \u001b[0mfield_parts\u001b[0m\u001b[0;34m:\u001b[0m\u001b[0;34m\u001b[0m\u001b[0;34m\u001b[0m\u001b[0m\n",
      "\u001b[0;32m~/Desktop/rookiehero/project/venv/lib/python3.7/site-packages/django/db/models/sql/query.py\u001b[0m in \u001b[0;36mnames_to_path\u001b[0;34m(self, names, opts, allow_many, fail_on_missing)\u001b[0m\n\u001b[1;32m   1387\u001b[0m                     )\n\u001b[1;32m   1388\u001b[0m                     raise FieldError(\"Cannot resolve keyword '%s' into field. \"\n\u001b[0;32m-> 1389\u001b[0;31m                                      \"Choices are: %s\" % (name, \", \".join(available)))\n\u001b[0m\u001b[1;32m   1390\u001b[0m                 \u001b[0;32mbreak\u001b[0m\u001b[0;34m\u001b[0m\u001b[0;34m\u001b[0m\u001b[0m\n\u001b[1;32m   1391\u001b[0m             \u001b[0;31m# Check if we need any joins for concrete inheritance cases (the\u001b[0m\u001b[0;34m\u001b[0m\u001b[0;34m\u001b[0m\u001b[0;34m\u001b[0m\u001b[0m\n",
      "\u001b[0;31mFieldError\u001b[0m: Cannot resolve keyword 'tatest' into field. Choices are: cartitem, created_time, detail, grouppurchase, hit, id, img, is_recommended, is_set_menu, is_yosigy, like, menutimeline, name, price, restaurant, restaurant_id, score, tastes, type, updated_time, yosigymenu, yosigyticket"
     ]
    }
   ],
   "source": [
    "Menu.objects.prefetch_related('tastes').filter(\n",
    "    Q(tastes=5)&Q(tastes=6)&Q(tastes=None) \n",
    ")\n",
    "Menu.objects.prefetch_related('tastes').filter(tatest=5)##, queryset=(Menu.objects.filter(Q(tastes=5)&Q(tastes=6)))))"
   ]
  },
  {
   "cell_type": "code",
   "execution_count": 4,
   "metadata": {},
   "outputs": [
    {
     "name": "stderr",
     "output_type": "stream",
     "text": [
      "(0.002) SELECT \"menu_menu\".\"id\", \"menu_menu\".\"created_time\", \"menu_menu\".\"updated_time\", \"menu_menu\".\"restaurant_id\", \"menu_menu\".\"name\", \"menu_menu\".\"img\", \"menu_menu\".\"detail\", \"menu_menu\".\"price\", \"menu_menu\".\"type\", \"menu_menu\".\"hit\", \"menu_menu\".\"score\", \"menu_menu\".\"is_recommended\", \"menu_menu\".\"is_yosigy\", \"menu_menu\".\"is_set_menu\" FROM \"menu_menu\" INNER JOIN \"menu_menu_tastes\" ON (\"menu_menu\".\"id\" = \"menu_menu_tastes\".\"menu_id\") LEFT OUTER JOIN \"menu_menu_tastes\" T4 ON (\"menu_menu\".\"id\" = T4.\"menu_id\") WHERE (\"menu_menu_tastes\".\"taste_id\" = 5 AND T4.\"taste_id\" = 6)  LIMIT 21; args=(5, 6)\n"
     ]
    },
    {
     "data": {
      "text/plain": [
       "<QuerySet [<Menu: 짬뽕>]>"
      ]
     },
     "execution_count": 4,
     "metadata": {},
     "output_type": "execute_result"
    }
   ],
   "source": [
    "a = Menu.objects.filter(\n",
    "    Q(tastes=5)\n",
    ")\n",
    "\n",
    "b = Menu.objects.filter(\n",
    "    Q(tastes=6)\n",
    ")\n",
    "\n",
    "a & b"
   ]
  },
  {
   "cell_type": "code",
   "execution_count": 8,
   "metadata": {},
   "outputs": [
    {
     "name": "stderr",
     "output_type": "stream",
     "text": [
      "(0.001) SELECT \"menu_menu\".\"id\", \"menu_menu\".\"created_time\", \"menu_menu\".\"updated_time\", \"menu_menu\".\"restaurant_id\", \"menu_menu\".\"name\", \"menu_menu\".\"img\", \"menu_menu\".\"detail\", \"menu_menu\".\"price\", \"menu_menu\".\"type\", \"menu_menu\".\"hit\", \"menu_menu\".\"score\", \"menu_menu\".\"is_recommended\", \"menu_menu\".\"is_yosigy\", \"menu_menu\".\"is_set_menu\" FROM \"menu_menu\" INNER JOIN \"menu_menu_tastes\" ON (\"menu_menu\".\"id\" = \"menu_menu_tastes\".\"menu_id\") INNER JOIN \"menu_menu_tastes\" T4 ON (\"menu_menu\".\"id\" = T4.\"menu_id\") WHERE (\"menu_menu_tastes\".\"taste_id\" = 5 AND T4.\"taste_id\" = 6)  LIMIT 21; args=(5, 6)\n"
     ]
    },
    {
     "data": {
      "text/plain": [
       "<QuerySet [<Menu: 짬뽕>]>"
      ]
     },
     "execution_count": 8,
     "metadata": {},
     "output_type": "execute_result"
    }
   ],
   "source": [
    "Menu.objects.filter(\n",
    "    Q(tastes=5)\n",
    ").filter(Q(tastes=6))"
   ]
  },
  {
   "cell_type": "code",
   "execution_count": 42,
   "metadata": {},
   "outputs": [
    {
     "name": "stderr",
     "output_type": "stream",
     "text": [
      "(0.001) SELECT \"menu_menu\".\"id\", \"menu_menu\".\"created_time\", \"menu_menu\".\"updated_time\", \"menu_menu\".\"restaurant_id\", \"menu_menu\".\"name\", \"menu_menu\".\"img\", \"menu_menu\".\"detail\", \"menu_menu\".\"price\", \"menu_menu\".\"type\", \"menu_menu\".\"hit\", \"menu_menu\".\"score\", \"menu_menu\".\"is_recommended\", \"menu_menu\".\"is_yosigy\", \"menu_menu\".\"is_set_menu\" FROM \"menu_menu\" LEFT OUTER JOIN \"menu_menu_tastes\" ON (\"menu_menu\".\"id\" = \"menu_menu_tastes\".\"menu_id\") WHERE (\"menu_menu_tastes\".\"taste_id\" IS NULL OR (\"menu_menu_tastes\".\"taste_id\" = 5 AND \"menu_menu_tastes\".\"taste_id\" = 6))  LIMIT 21; args=(5, 6)\n"
     ]
    },
    {
     "data": {
      "text/plain": [
       "<QuerySet [<Menu: 갈비천왕>, <Menu: 탕수육 소>, <Menu: 고추바사삭>, <Menu: 탕수육 대>]>"
      ]
     },
     "execution_count": 42,
     "metadata": {},
     "output_type": "execute_result"
    }
   ],
   "source": [
    "Menu.objects.filter(Q(tastes=None)|(Q(tastes=5)&Q(tastes=6)))"
   ]
  },
  {
   "cell_type": "code",
   "execution_count": 59,
   "metadata": {},
   "outputs": [],
   "source": [
    "cart=(Cart.objects\n",
    "    .prefetch_related('order', 'cartitem')\n",
    "    .filter(\n",
    "        Q(order__delivery_status=2) &\n",
    "        Q(order__status=1)&\n",
    "        ~Q(order=None)\n",
    "    ))"
   ]
  },
  {
   "cell_type": "code",
   "execution_count": 50,
   "metadata": {},
   "outputs": [
    {
     "name": "stderr",
     "output_type": "stream",
     "text": [
      "(0.001) SELECT \"cart_cart\".\"created_time\", \"cart_cart\".\"updated_time\", \"cart_cart\".\"id\", \"cart_cart\".\"user_id\" FROM \"cart_cart\" INNER JOIN \"order_order\" ON (\"cart_cart\".\"id\" = \"order_order\".\"cart_id\") WHERE (\"order_order\".\"delivery_status\" = 2 AND \"order_order\".\"status\" = 1 AND NOT (\"cart_cart\".\"id\" IN (SELECT U0.\"id\" FROM \"cart_cart\" U0 LEFT OUTER JOIN \"order_order\" U1 ON (U0.\"id\" = U1.\"cart_id\") WHERE (U1.\"id\" IS NULL AND U0.\"id\" = (\"cart_cart\".\"id\")))))  LIMIT 21; args=(2, 1)\n"
     ]
    },
    {
     "ename": "AttributeError",
     "evalue": "Cannot find 'order' on Cart object, 'order' is an invalid parameter to prefetch_related()",
     "output_type": "error",
     "traceback": [
      "\u001b[0;31m---------------------------------------------------------------------------\u001b[0m",
      "\u001b[0;31mAttributeError\u001b[0m                            Traceback (most recent call last)",
      "\u001b[0;32m~/Desktop/rookiehero/project/venv/lib/python3.7/site-packages/IPython/core/formatters.py\u001b[0m in \u001b[0;36m__call__\u001b[0;34m(self, obj)\u001b[0m\n\u001b[1;32m    700\u001b[0m                 \u001b[0mtype_pprinters\u001b[0m\u001b[0;34m=\u001b[0m\u001b[0mself\u001b[0m\u001b[0;34m.\u001b[0m\u001b[0mtype_printers\u001b[0m\u001b[0;34m,\u001b[0m\u001b[0;34m\u001b[0m\u001b[0;34m\u001b[0m\u001b[0m\n\u001b[1;32m    701\u001b[0m                 deferred_pprinters=self.deferred_printers)\n\u001b[0;32m--> 702\u001b[0;31m             \u001b[0mprinter\u001b[0m\u001b[0;34m.\u001b[0m\u001b[0mpretty\u001b[0m\u001b[0;34m(\u001b[0m\u001b[0mobj\u001b[0m\u001b[0;34m)\u001b[0m\u001b[0;34m\u001b[0m\u001b[0;34m\u001b[0m\u001b[0m\n\u001b[0m\u001b[1;32m    703\u001b[0m             \u001b[0mprinter\u001b[0m\u001b[0;34m.\u001b[0m\u001b[0mflush\u001b[0m\u001b[0;34m(\u001b[0m\u001b[0;34m)\u001b[0m\u001b[0;34m\u001b[0m\u001b[0;34m\u001b[0m\u001b[0m\n\u001b[1;32m    704\u001b[0m             \u001b[0;32mreturn\u001b[0m \u001b[0mstream\u001b[0m\u001b[0;34m.\u001b[0m\u001b[0mgetvalue\u001b[0m\u001b[0;34m(\u001b[0m\u001b[0;34m)\u001b[0m\u001b[0;34m\u001b[0m\u001b[0;34m\u001b[0m\u001b[0m\n",
      "\u001b[0;32m~/Desktop/rookiehero/project/venv/lib/python3.7/site-packages/IPython/lib/pretty.py\u001b[0m in \u001b[0;36mpretty\u001b[0;34m(self, obj)\u001b[0m\n\u001b[1;32m    400\u001b[0m                         \u001b[0;32mif\u001b[0m \u001b[0mcls\u001b[0m \u001b[0;32mis\u001b[0m \u001b[0;32mnot\u001b[0m \u001b[0mobject\u001b[0m\u001b[0;31m \u001b[0m\u001b[0;31m\\\u001b[0m\u001b[0;34m\u001b[0m\u001b[0;34m\u001b[0m\u001b[0m\n\u001b[1;32m    401\u001b[0m                                 \u001b[0;32mand\u001b[0m \u001b[0mcallable\u001b[0m\u001b[0;34m(\u001b[0m\u001b[0mcls\u001b[0m\u001b[0;34m.\u001b[0m\u001b[0m__dict__\u001b[0m\u001b[0;34m.\u001b[0m\u001b[0mget\u001b[0m\u001b[0;34m(\u001b[0m\u001b[0;34m'__repr__'\u001b[0m\u001b[0;34m)\u001b[0m\u001b[0;34m)\u001b[0m\u001b[0;34m:\u001b[0m\u001b[0;34m\u001b[0m\u001b[0;34m\u001b[0m\u001b[0m\n\u001b[0;32m--> 402\u001b[0;31m                             \u001b[0;32mreturn\u001b[0m \u001b[0m_repr_pprint\u001b[0m\u001b[0;34m(\u001b[0m\u001b[0mobj\u001b[0m\u001b[0;34m,\u001b[0m \u001b[0mself\u001b[0m\u001b[0;34m,\u001b[0m \u001b[0mcycle\u001b[0m\u001b[0;34m)\u001b[0m\u001b[0;34m\u001b[0m\u001b[0;34m\u001b[0m\u001b[0m\n\u001b[0m\u001b[1;32m    403\u001b[0m \u001b[0;34m\u001b[0m\u001b[0m\n\u001b[1;32m    404\u001b[0m             \u001b[0;32mreturn\u001b[0m \u001b[0m_default_pprint\u001b[0m\u001b[0;34m(\u001b[0m\u001b[0mobj\u001b[0m\u001b[0;34m,\u001b[0m \u001b[0mself\u001b[0m\u001b[0;34m,\u001b[0m \u001b[0mcycle\u001b[0m\u001b[0;34m)\u001b[0m\u001b[0;34m\u001b[0m\u001b[0;34m\u001b[0m\u001b[0m\n",
      "\u001b[0;32m~/Desktop/rookiehero/project/venv/lib/python3.7/site-packages/IPython/lib/pretty.py\u001b[0m in \u001b[0;36m_repr_pprint\u001b[0;34m(obj, p, cycle)\u001b[0m\n\u001b[1;32m    695\u001b[0m     \u001b[0;34m\"\"\"A pprint that just redirects to the normal repr function.\"\"\"\u001b[0m\u001b[0;34m\u001b[0m\u001b[0;34m\u001b[0m\u001b[0m\n\u001b[1;32m    696\u001b[0m     \u001b[0;31m# Find newlines and replace them with p.break_()\u001b[0m\u001b[0;34m\u001b[0m\u001b[0;34m\u001b[0m\u001b[0;34m\u001b[0m\u001b[0m\n\u001b[0;32m--> 697\u001b[0;31m     \u001b[0moutput\u001b[0m \u001b[0;34m=\u001b[0m \u001b[0mrepr\u001b[0m\u001b[0;34m(\u001b[0m\u001b[0mobj\u001b[0m\u001b[0;34m)\u001b[0m\u001b[0;34m\u001b[0m\u001b[0;34m\u001b[0m\u001b[0m\n\u001b[0m\u001b[1;32m    698\u001b[0m     \u001b[0;32mfor\u001b[0m \u001b[0midx\u001b[0m\u001b[0;34m,\u001b[0m\u001b[0moutput_line\u001b[0m \u001b[0;32min\u001b[0m \u001b[0menumerate\u001b[0m\u001b[0;34m(\u001b[0m\u001b[0moutput\u001b[0m\u001b[0;34m.\u001b[0m\u001b[0msplitlines\u001b[0m\u001b[0;34m(\u001b[0m\u001b[0;34m)\u001b[0m\u001b[0;34m)\u001b[0m\u001b[0;34m:\u001b[0m\u001b[0;34m\u001b[0m\u001b[0;34m\u001b[0m\u001b[0m\n\u001b[1;32m    699\u001b[0m         \u001b[0;32mif\u001b[0m \u001b[0midx\u001b[0m\u001b[0;34m:\u001b[0m\u001b[0;34m\u001b[0m\u001b[0;34m\u001b[0m\u001b[0m\n",
      "\u001b[0;32m~/Desktop/rookiehero/project/venv/lib/python3.7/site-packages/django/db/models/query.py\u001b[0m in \u001b[0;36m__repr__\u001b[0;34m(self)\u001b[0m\n\u001b[1;32m    242\u001b[0m \u001b[0;34m\u001b[0m\u001b[0m\n\u001b[1;32m    243\u001b[0m     \u001b[0;32mdef\u001b[0m \u001b[0m__repr__\u001b[0m\u001b[0;34m(\u001b[0m\u001b[0mself\u001b[0m\u001b[0;34m)\u001b[0m\u001b[0;34m:\u001b[0m\u001b[0;34m\u001b[0m\u001b[0;34m\u001b[0m\u001b[0m\n\u001b[0;32m--> 244\u001b[0;31m         \u001b[0mdata\u001b[0m \u001b[0;34m=\u001b[0m \u001b[0mlist\u001b[0m\u001b[0;34m(\u001b[0m\u001b[0mself\u001b[0m\u001b[0;34m[\u001b[0m\u001b[0;34m:\u001b[0m\u001b[0mREPR_OUTPUT_SIZE\u001b[0m \u001b[0;34m+\u001b[0m \u001b[0;36m1\u001b[0m\u001b[0;34m]\u001b[0m\u001b[0;34m)\u001b[0m\u001b[0;34m\u001b[0m\u001b[0;34m\u001b[0m\u001b[0m\n\u001b[0m\u001b[1;32m    245\u001b[0m         \u001b[0;32mif\u001b[0m \u001b[0mlen\u001b[0m\u001b[0;34m(\u001b[0m\u001b[0mdata\u001b[0m\u001b[0;34m)\u001b[0m \u001b[0;34m>\u001b[0m \u001b[0mREPR_OUTPUT_SIZE\u001b[0m\u001b[0;34m:\u001b[0m\u001b[0;34m\u001b[0m\u001b[0;34m\u001b[0m\u001b[0m\n\u001b[1;32m    246\u001b[0m             \u001b[0mdata\u001b[0m\u001b[0;34m[\u001b[0m\u001b[0;34m-\u001b[0m\u001b[0;36m1\u001b[0m\u001b[0;34m]\u001b[0m \u001b[0;34m=\u001b[0m \u001b[0;34m\"...(remaining elements truncated)...\"\u001b[0m\u001b[0;34m\u001b[0m\u001b[0;34m\u001b[0m\u001b[0m\n",
      "\u001b[0;32m~/Desktop/rookiehero/project/venv/lib/python3.7/site-packages/django/db/models/query.py\u001b[0m in \u001b[0;36m__iter__\u001b[0;34m(self)\u001b[0m\n\u001b[1;32m    266\u001b[0m                \u001b[0;34m-\u001b[0m \u001b[0mResponsible\u001b[0m \u001b[0;32mfor\u001b[0m \u001b[0mturning\u001b[0m \u001b[0mthe\u001b[0m \u001b[0mrows\u001b[0m \u001b[0minto\u001b[0m \u001b[0mmodel\u001b[0m \u001b[0mobjects\u001b[0m\u001b[0;34m.\u001b[0m\u001b[0;34m\u001b[0m\u001b[0;34m\u001b[0m\u001b[0m\n\u001b[1;32m    267\u001b[0m         \"\"\"\n\u001b[0;32m--> 268\u001b[0;31m         \u001b[0mself\u001b[0m\u001b[0;34m.\u001b[0m\u001b[0m_fetch_all\u001b[0m\u001b[0;34m(\u001b[0m\u001b[0;34m)\u001b[0m\u001b[0;34m\u001b[0m\u001b[0;34m\u001b[0m\u001b[0m\n\u001b[0m\u001b[1;32m    269\u001b[0m         \u001b[0;32mreturn\u001b[0m \u001b[0miter\u001b[0m\u001b[0;34m(\u001b[0m\u001b[0mself\u001b[0m\u001b[0;34m.\u001b[0m\u001b[0m_result_cache\u001b[0m\u001b[0;34m)\u001b[0m\u001b[0;34m\u001b[0m\u001b[0;34m\u001b[0m\u001b[0m\n\u001b[1;32m    270\u001b[0m \u001b[0;34m\u001b[0m\u001b[0m\n",
      "\u001b[0;32m~/Desktop/rookiehero/project/venv/lib/python3.7/site-packages/django/db/models/query.py\u001b[0m in \u001b[0;36m_fetch_all\u001b[0;34m(self)\u001b[0m\n\u001b[1;32m   1183\u001b[0m             \u001b[0mself\u001b[0m\u001b[0;34m.\u001b[0m\u001b[0m_result_cache\u001b[0m \u001b[0;34m=\u001b[0m \u001b[0mlist\u001b[0m\u001b[0;34m(\u001b[0m\u001b[0mself\u001b[0m\u001b[0;34m.\u001b[0m\u001b[0m_iterable_class\u001b[0m\u001b[0;34m(\u001b[0m\u001b[0mself\u001b[0m\u001b[0;34m)\u001b[0m\u001b[0;34m)\u001b[0m\u001b[0;34m\u001b[0m\u001b[0;34m\u001b[0m\u001b[0m\n\u001b[1;32m   1184\u001b[0m         \u001b[0;32mif\u001b[0m \u001b[0mself\u001b[0m\u001b[0;34m.\u001b[0m\u001b[0m_prefetch_related_lookups\u001b[0m \u001b[0;32mand\u001b[0m \u001b[0;32mnot\u001b[0m \u001b[0mself\u001b[0m\u001b[0;34m.\u001b[0m\u001b[0m_prefetch_done\u001b[0m\u001b[0;34m:\u001b[0m\u001b[0;34m\u001b[0m\u001b[0;34m\u001b[0m\u001b[0m\n\u001b[0;32m-> 1185\u001b[0;31m             \u001b[0mself\u001b[0m\u001b[0;34m.\u001b[0m\u001b[0m_prefetch_related_objects\u001b[0m\u001b[0;34m(\u001b[0m\u001b[0;34m)\u001b[0m\u001b[0;34m\u001b[0m\u001b[0;34m\u001b[0m\u001b[0m\n\u001b[0m\u001b[1;32m   1186\u001b[0m \u001b[0;34m\u001b[0m\u001b[0m\n\u001b[1;32m   1187\u001b[0m     \u001b[0;32mdef\u001b[0m \u001b[0m_next_is_sticky\u001b[0m\u001b[0;34m(\u001b[0m\u001b[0mself\u001b[0m\u001b[0;34m)\u001b[0m\u001b[0;34m:\u001b[0m\u001b[0;34m\u001b[0m\u001b[0;34m\u001b[0m\u001b[0m\n",
      "\u001b[0;32m~/Desktop/rookiehero/project/venv/lib/python3.7/site-packages/django/db/models/query.py\u001b[0m in \u001b[0;36m_prefetch_related_objects\u001b[0;34m(self)\u001b[0m\n\u001b[1;32m    718\u001b[0m     \u001b[0;32mdef\u001b[0m \u001b[0m_prefetch_related_objects\u001b[0m\u001b[0;34m(\u001b[0m\u001b[0mself\u001b[0m\u001b[0;34m)\u001b[0m\u001b[0;34m:\u001b[0m\u001b[0;34m\u001b[0m\u001b[0;34m\u001b[0m\u001b[0m\n\u001b[1;32m    719\u001b[0m         \u001b[0;31m# This method can only be called once the result cache has been filled.\u001b[0m\u001b[0;34m\u001b[0m\u001b[0;34m\u001b[0m\u001b[0;34m\u001b[0m\u001b[0m\n\u001b[0;32m--> 720\u001b[0;31m         \u001b[0mprefetch_related_objects\u001b[0m\u001b[0;34m(\u001b[0m\u001b[0mself\u001b[0m\u001b[0;34m.\u001b[0m\u001b[0m_result_cache\u001b[0m\u001b[0;34m,\u001b[0m \u001b[0;34m*\u001b[0m\u001b[0mself\u001b[0m\u001b[0;34m.\u001b[0m\u001b[0m_prefetch_related_lookups\u001b[0m\u001b[0;34m)\u001b[0m\u001b[0;34m\u001b[0m\u001b[0;34m\u001b[0m\u001b[0m\n\u001b[0m\u001b[1;32m    721\u001b[0m         \u001b[0mself\u001b[0m\u001b[0;34m.\u001b[0m\u001b[0m_prefetch_done\u001b[0m \u001b[0;34m=\u001b[0m \u001b[0;32mTrue\u001b[0m\u001b[0;34m\u001b[0m\u001b[0;34m\u001b[0m\u001b[0m\n\u001b[1;32m    722\u001b[0m \u001b[0;34m\u001b[0m\u001b[0m\n",
      "\u001b[0;32m~/Desktop/rookiehero/project/venv/lib/python3.7/site-packages/django/db/models/query.py\u001b[0m in \u001b[0;36mprefetch_related_objects\u001b[0;34m(model_instances, *related_lookups)\u001b[0m\n\u001b[1;32m   1553\u001b[0m                 raise AttributeError(\"Cannot find '%s' on %s object, '%s' is an invalid \"\n\u001b[1;32m   1554\u001b[0m                                      \u001b[0;34m\"parameter to prefetch_related()\"\u001b[0m \u001b[0;34m%\u001b[0m\u001b[0;34m\u001b[0m\u001b[0;34m\u001b[0m\u001b[0m\n\u001b[0;32m-> 1555\u001b[0;31m                                      (through_attr, first_obj.__class__.__name__, lookup.prefetch_through))\n\u001b[0m\u001b[1;32m   1556\u001b[0m \u001b[0;34m\u001b[0m\u001b[0m\n\u001b[1;32m   1557\u001b[0m             \u001b[0;32mif\u001b[0m \u001b[0mlevel\u001b[0m \u001b[0;34m==\u001b[0m \u001b[0mlen\u001b[0m\u001b[0;34m(\u001b[0m\u001b[0mthrough_attrs\u001b[0m\u001b[0;34m)\u001b[0m \u001b[0;34m-\u001b[0m \u001b[0;36m1\u001b[0m \u001b[0;32mand\u001b[0m \u001b[0mprefetcher\u001b[0m \u001b[0;32mis\u001b[0m \u001b[0;32mNone\u001b[0m\u001b[0;34m:\u001b[0m\u001b[0;34m\u001b[0m\u001b[0;34m\u001b[0m\u001b[0m\n",
      "\u001b[0;31mAttributeError\u001b[0m: Cannot find 'order' on Cart object, 'order' is an invalid parameter to prefetch_related()"
     ]
    }
   ],
   "source": [
    "cart"
   ]
  },
  {
   "cell_type": "code",
   "execution_count": 56,
   "metadata": {},
   "outputs": [
    {
     "name": "stderr",
     "output_type": "stream",
     "text": [
      "(0.000) SELECT \"cart_cart\".\"created_time\", \"cart_cart\".\"updated_time\", \"cart_cart\".\"id\", \"cart_cart\".\"user_id\" FROM \"cart_cart\"  LIMIT 21; args=()\n"
     ]
    },
    {
     "ename": "AttributeError",
     "evalue": "Cannot find 'order' on Cart object, 'order' is an invalid parameter to prefetch_related()",
     "output_type": "error",
     "traceback": [
      "\u001b[0;31m---------------------------------------------------------------------------\u001b[0m",
      "\u001b[0;31mAttributeError\u001b[0m                            Traceback (most recent call last)",
      "\u001b[0;32m~/Desktop/rookiehero/project/venv/lib/python3.7/site-packages/IPython/core/formatters.py\u001b[0m in \u001b[0;36m__call__\u001b[0;34m(self, obj)\u001b[0m\n\u001b[1;32m    700\u001b[0m                 \u001b[0mtype_pprinters\u001b[0m\u001b[0;34m=\u001b[0m\u001b[0mself\u001b[0m\u001b[0;34m.\u001b[0m\u001b[0mtype_printers\u001b[0m\u001b[0;34m,\u001b[0m\u001b[0;34m\u001b[0m\u001b[0;34m\u001b[0m\u001b[0m\n\u001b[1;32m    701\u001b[0m                 deferred_pprinters=self.deferred_printers)\n\u001b[0;32m--> 702\u001b[0;31m             \u001b[0mprinter\u001b[0m\u001b[0;34m.\u001b[0m\u001b[0mpretty\u001b[0m\u001b[0;34m(\u001b[0m\u001b[0mobj\u001b[0m\u001b[0;34m)\u001b[0m\u001b[0;34m\u001b[0m\u001b[0;34m\u001b[0m\u001b[0m\n\u001b[0m\u001b[1;32m    703\u001b[0m             \u001b[0mprinter\u001b[0m\u001b[0;34m.\u001b[0m\u001b[0mflush\u001b[0m\u001b[0;34m(\u001b[0m\u001b[0;34m)\u001b[0m\u001b[0;34m\u001b[0m\u001b[0;34m\u001b[0m\u001b[0m\n\u001b[1;32m    704\u001b[0m             \u001b[0;32mreturn\u001b[0m \u001b[0mstream\u001b[0m\u001b[0;34m.\u001b[0m\u001b[0mgetvalue\u001b[0m\u001b[0;34m(\u001b[0m\u001b[0;34m)\u001b[0m\u001b[0;34m\u001b[0m\u001b[0;34m\u001b[0m\u001b[0m\n",
      "\u001b[0;32m~/Desktop/rookiehero/project/venv/lib/python3.7/site-packages/IPython/lib/pretty.py\u001b[0m in \u001b[0;36mpretty\u001b[0;34m(self, obj)\u001b[0m\n\u001b[1;32m    400\u001b[0m                         \u001b[0;32mif\u001b[0m \u001b[0mcls\u001b[0m \u001b[0;32mis\u001b[0m \u001b[0;32mnot\u001b[0m \u001b[0mobject\u001b[0m\u001b[0;31m \u001b[0m\u001b[0;31m\\\u001b[0m\u001b[0;34m\u001b[0m\u001b[0;34m\u001b[0m\u001b[0m\n\u001b[1;32m    401\u001b[0m                                 \u001b[0;32mand\u001b[0m \u001b[0mcallable\u001b[0m\u001b[0;34m(\u001b[0m\u001b[0mcls\u001b[0m\u001b[0;34m.\u001b[0m\u001b[0m__dict__\u001b[0m\u001b[0;34m.\u001b[0m\u001b[0mget\u001b[0m\u001b[0;34m(\u001b[0m\u001b[0;34m'__repr__'\u001b[0m\u001b[0;34m)\u001b[0m\u001b[0;34m)\u001b[0m\u001b[0;34m:\u001b[0m\u001b[0;34m\u001b[0m\u001b[0;34m\u001b[0m\u001b[0m\n\u001b[0;32m--> 402\u001b[0;31m                             \u001b[0;32mreturn\u001b[0m \u001b[0m_repr_pprint\u001b[0m\u001b[0;34m(\u001b[0m\u001b[0mobj\u001b[0m\u001b[0;34m,\u001b[0m \u001b[0mself\u001b[0m\u001b[0;34m,\u001b[0m \u001b[0mcycle\u001b[0m\u001b[0;34m)\u001b[0m\u001b[0;34m\u001b[0m\u001b[0;34m\u001b[0m\u001b[0m\n\u001b[0m\u001b[1;32m    403\u001b[0m \u001b[0;34m\u001b[0m\u001b[0m\n\u001b[1;32m    404\u001b[0m             \u001b[0;32mreturn\u001b[0m \u001b[0m_default_pprint\u001b[0m\u001b[0;34m(\u001b[0m\u001b[0mobj\u001b[0m\u001b[0;34m,\u001b[0m \u001b[0mself\u001b[0m\u001b[0;34m,\u001b[0m \u001b[0mcycle\u001b[0m\u001b[0;34m)\u001b[0m\u001b[0;34m\u001b[0m\u001b[0;34m\u001b[0m\u001b[0m\n",
      "\u001b[0;32m~/Desktop/rookiehero/project/venv/lib/python3.7/site-packages/IPython/lib/pretty.py\u001b[0m in \u001b[0;36m_repr_pprint\u001b[0;34m(obj, p, cycle)\u001b[0m\n\u001b[1;32m    695\u001b[0m     \u001b[0;34m\"\"\"A pprint that just redirects to the normal repr function.\"\"\"\u001b[0m\u001b[0;34m\u001b[0m\u001b[0;34m\u001b[0m\u001b[0m\n\u001b[1;32m    696\u001b[0m     \u001b[0;31m# Find newlines and replace them with p.break_()\u001b[0m\u001b[0;34m\u001b[0m\u001b[0;34m\u001b[0m\u001b[0;34m\u001b[0m\u001b[0m\n\u001b[0;32m--> 697\u001b[0;31m     \u001b[0moutput\u001b[0m \u001b[0;34m=\u001b[0m \u001b[0mrepr\u001b[0m\u001b[0;34m(\u001b[0m\u001b[0mobj\u001b[0m\u001b[0;34m)\u001b[0m\u001b[0;34m\u001b[0m\u001b[0;34m\u001b[0m\u001b[0m\n\u001b[0m\u001b[1;32m    698\u001b[0m     \u001b[0;32mfor\u001b[0m \u001b[0midx\u001b[0m\u001b[0;34m,\u001b[0m\u001b[0moutput_line\u001b[0m \u001b[0;32min\u001b[0m \u001b[0menumerate\u001b[0m\u001b[0;34m(\u001b[0m\u001b[0moutput\u001b[0m\u001b[0;34m.\u001b[0m\u001b[0msplitlines\u001b[0m\u001b[0;34m(\u001b[0m\u001b[0;34m)\u001b[0m\u001b[0;34m)\u001b[0m\u001b[0;34m:\u001b[0m\u001b[0;34m\u001b[0m\u001b[0;34m\u001b[0m\u001b[0m\n\u001b[1;32m    699\u001b[0m         \u001b[0;32mif\u001b[0m \u001b[0midx\u001b[0m\u001b[0;34m:\u001b[0m\u001b[0;34m\u001b[0m\u001b[0;34m\u001b[0m\u001b[0m\n",
      "\u001b[0;32m~/Desktop/rookiehero/project/venv/lib/python3.7/site-packages/django/db/models/query.py\u001b[0m in \u001b[0;36m__repr__\u001b[0;34m(self)\u001b[0m\n\u001b[1;32m    242\u001b[0m \u001b[0;34m\u001b[0m\u001b[0m\n\u001b[1;32m    243\u001b[0m     \u001b[0;32mdef\u001b[0m \u001b[0m__repr__\u001b[0m\u001b[0;34m(\u001b[0m\u001b[0mself\u001b[0m\u001b[0;34m)\u001b[0m\u001b[0;34m:\u001b[0m\u001b[0;34m\u001b[0m\u001b[0;34m\u001b[0m\u001b[0m\n\u001b[0;32m--> 244\u001b[0;31m         \u001b[0mdata\u001b[0m \u001b[0;34m=\u001b[0m \u001b[0mlist\u001b[0m\u001b[0;34m(\u001b[0m\u001b[0mself\u001b[0m\u001b[0;34m[\u001b[0m\u001b[0;34m:\u001b[0m\u001b[0mREPR_OUTPUT_SIZE\u001b[0m \u001b[0;34m+\u001b[0m \u001b[0;36m1\u001b[0m\u001b[0;34m]\u001b[0m\u001b[0;34m)\u001b[0m\u001b[0;34m\u001b[0m\u001b[0;34m\u001b[0m\u001b[0m\n\u001b[0m\u001b[1;32m    245\u001b[0m         \u001b[0;32mif\u001b[0m \u001b[0mlen\u001b[0m\u001b[0;34m(\u001b[0m\u001b[0mdata\u001b[0m\u001b[0;34m)\u001b[0m \u001b[0;34m>\u001b[0m \u001b[0mREPR_OUTPUT_SIZE\u001b[0m\u001b[0;34m:\u001b[0m\u001b[0;34m\u001b[0m\u001b[0;34m\u001b[0m\u001b[0m\n\u001b[1;32m    246\u001b[0m             \u001b[0mdata\u001b[0m\u001b[0;34m[\u001b[0m\u001b[0;34m-\u001b[0m\u001b[0;36m1\u001b[0m\u001b[0;34m]\u001b[0m \u001b[0;34m=\u001b[0m \u001b[0;34m\"...(remaining elements truncated)...\"\u001b[0m\u001b[0;34m\u001b[0m\u001b[0;34m\u001b[0m\u001b[0m\n",
      "\u001b[0;32m~/Desktop/rookiehero/project/venv/lib/python3.7/site-packages/django/db/models/query.py\u001b[0m in \u001b[0;36m__iter__\u001b[0;34m(self)\u001b[0m\n\u001b[1;32m    266\u001b[0m                \u001b[0;34m-\u001b[0m \u001b[0mResponsible\u001b[0m \u001b[0;32mfor\u001b[0m \u001b[0mturning\u001b[0m \u001b[0mthe\u001b[0m \u001b[0mrows\u001b[0m \u001b[0minto\u001b[0m \u001b[0mmodel\u001b[0m \u001b[0mobjects\u001b[0m\u001b[0;34m.\u001b[0m\u001b[0;34m\u001b[0m\u001b[0;34m\u001b[0m\u001b[0m\n\u001b[1;32m    267\u001b[0m         \"\"\"\n\u001b[0;32m--> 268\u001b[0;31m         \u001b[0mself\u001b[0m\u001b[0;34m.\u001b[0m\u001b[0m_fetch_all\u001b[0m\u001b[0;34m(\u001b[0m\u001b[0;34m)\u001b[0m\u001b[0;34m\u001b[0m\u001b[0;34m\u001b[0m\u001b[0m\n\u001b[0m\u001b[1;32m    269\u001b[0m         \u001b[0;32mreturn\u001b[0m \u001b[0miter\u001b[0m\u001b[0;34m(\u001b[0m\u001b[0mself\u001b[0m\u001b[0;34m.\u001b[0m\u001b[0m_result_cache\u001b[0m\u001b[0;34m)\u001b[0m\u001b[0;34m\u001b[0m\u001b[0;34m\u001b[0m\u001b[0m\n\u001b[1;32m    270\u001b[0m \u001b[0;34m\u001b[0m\u001b[0m\n",
      "\u001b[0;32m~/Desktop/rookiehero/project/venv/lib/python3.7/site-packages/django/db/models/query.py\u001b[0m in \u001b[0;36m_fetch_all\u001b[0;34m(self)\u001b[0m\n\u001b[1;32m   1183\u001b[0m             \u001b[0mself\u001b[0m\u001b[0;34m.\u001b[0m\u001b[0m_result_cache\u001b[0m \u001b[0;34m=\u001b[0m \u001b[0mlist\u001b[0m\u001b[0;34m(\u001b[0m\u001b[0mself\u001b[0m\u001b[0;34m.\u001b[0m\u001b[0m_iterable_class\u001b[0m\u001b[0;34m(\u001b[0m\u001b[0mself\u001b[0m\u001b[0;34m)\u001b[0m\u001b[0;34m)\u001b[0m\u001b[0;34m\u001b[0m\u001b[0;34m\u001b[0m\u001b[0m\n\u001b[1;32m   1184\u001b[0m         \u001b[0;32mif\u001b[0m \u001b[0mself\u001b[0m\u001b[0;34m.\u001b[0m\u001b[0m_prefetch_related_lookups\u001b[0m \u001b[0;32mand\u001b[0m \u001b[0;32mnot\u001b[0m \u001b[0mself\u001b[0m\u001b[0;34m.\u001b[0m\u001b[0m_prefetch_done\u001b[0m\u001b[0;34m:\u001b[0m\u001b[0;34m\u001b[0m\u001b[0;34m\u001b[0m\u001b[0m\n\u001b[0;32m-> 1185\u001b[0;31m             \u001b[0mself\u001b[0m\u001b[0;34m.\u001b[0m\u001b[0m_prefetch_related_objects\u001b[0m\u001b[0;34m(\u001b[0m\u001b[0;34m)\u001b[0m\u001b[0;34m\u001b[0m\u001b[0;34m\u001b[0m\u001b[0m\n\u001b[0m\u001b[1;32m   1186\u001b[0m \u001b[0;34m\u001b[0m\u001b[0m\n\u001b[1;32m   1187\u001b[0m     \u001b[0;32mdef\u001b[0m \u001b[0m_next_is_sticky\u001b[0m\u001b[0;34m(\u001b[0m\u001b[0mself\u001b[0m\u001b[0;34m)\u001b[0m\u001b[0;34m:\u001b[0m\u001b[0;34m\u001b[0m\u001b[0;34m\u001b[0m\u001b[0m\n",
      "\u001b[0;32m~/Desktop/rookiehero/project/venv/lib/python3.7/site-packages/django/db/models/query.py\u001b[0m in \u001b[0;36m_prefetch_related_objects\u001b[0;34m(self)\u001b[0m\n\u001b[1;32m    718\u001b[0m     \u001b[0;32mdef\u001b[0m \u001b[0m_prefetch_related_objects\u001b[0m\u001b[0;34m(\u001b[0m\u001b[0mself\u001b[0m\u001b[0;34m)\u001b[0m\u001b[0;34m:\u001b[0m\u001b[0;34m\u001b[0m\u001b[0;34m\u001b[0m\u001b[0m\n\u001b[1;32m    719\u001b[0m         \u001b[0;31m# This method can only be called once the result cache has been filled.\u001b[0m\u001b[0;34m\u001b[0m\u001b[0;34m\u001b[0m\u001b[0;34m\u001b[0m\u001b[0m\n\u001b[0;32m--> 720\u001b[0;31m         \u001b[0mprefetch_related_objects\u001b[0m\u001b[0;34m(\u001b[0m\u001b[0mself\u001b[0m\u001b[0;34m.\u001b[0m\u001b[0m_result_cache\u001b[0m\u001b[0;34m,\u001b[0m \u001b[0;34m*\u001b[0m\u001b[0mself\u001b[0m\u001b[0;34m.\u001b[0m\u001b[0m_prefetch_related_lookups\u001b[0m\u001b[0;34m)\u001b[0m\u001b[0;34m\u001b[0m\u001b[0;34m\u001b[0m\u001b[0m\n\u001b[0m\u001b[1;32m    721\u001b[0m         \u001b[0mself\u001b[0m\u001b[0;34m.\u001b[0m\u001b[0m_prefetch_done\u001b[0m \u001b[0;34m=\u001b[0m \u001b[0;32mTrue\u001b[0m\u001b[0;34m\u001b[0m\u001b[0;34m\u001b[0m\u001b[0m\n\u001b[1;32m    722\u001b[0m \u001b[0;34m\u001b[0m\u001b[0m\n",
      "\u001b[0;32m~/Desktop/rookiehero/project/venv/lib/python3.7/site-packages/django/db/models/query.py\u001b[0m in \u001b[0;36mprefetch_related_objects\u001b[0;34m(model_instances, *related_lookups)\u001b[0m\n\u001b[1;32m   1553\u001b[0m                 raise AttributeError(\"Cannot find '%s' on %s object, '%s' is an invalid \"\n\u001b[1;32m   1554\u001b[0m                                      \u001b[0;34m\"parameter to prefetch_related()\"\u001b[0m \u001b[0;34m%\u001b[0m\u001b[0;34m\u001b[0m\u001b[0;34m\u001b[0m\u001b[0m\n\u001b[0;32m-> 1555\u001b[0;31m                                      (through_attr, first_obj.__class__.__name__, lookup.prefetch_through))\n\u001b[0m\u001b[1;32m   1556\u001b[0m \u001b[0;34m\u001b[0m\u001b[0m\n\u001b[1;32m   1557\u001b[0m             \u001b[0;32mif\u001b[0m \u001b[0mlevel\u001b[0m \u001b[0;34m==\u001b[0m \u001b[0mlen\u001b[0m\u001b[0;34m(\u001b[0m\u001b[0mthrough_attrs\u001b[0m\u001b[0;34m)\u001b[0m \u001b[0;34m-\u001b[0m \u001b[0;36m1\u001b[0m \u001b[0;32mand\u001b[0m \u001b[0mprefetcher\u001b[0m \u001b[0;32mis\u001b[0m \u001b[0;32mNone\u001b[0m\u001b[0;34m:\u001b[0m\u001b[0;34m\u001b[0m\u001b[0;34m\u001b[0m\u001b[0m\n",
      "\u001b[0;31mAttributeError\u001b[0m: Cannot find 'order' on Cart object, 'order' is an invalid parameter to prefetch_related()"
     ]
    }
   ],
   "source": [
    "from cart.models import Cart\n",
    "Cart.objects.prefetch_related('order', 'cartitem')"
   ]
  },
  {
   "cell_type": "code",
   "execution_count": 68,
   "metadata": {},
   "outputs": [
    {
     "name": "stderr",
     "output_type": "stream",
     "text": [
      "(0.002) SELECT DISTINCT \"cart_cartitem\".\"menu_id\" AS \"menu_id\", \"menu_menu\".\"img\" AS \"img\", \"menu_menu\".\"name\" AS \"name\", \"menu_menu\".\"detail\" AS \"detail\", \"menu_menu\".\"price\" AS \"price\", \"restaurant_restaurant\".\"name\" AS \"restaurant_name\", \"restaurant_restaurant\".\"min_order_price\" AS \"restaurant_min_order_price\", \"restaurant_restaurant\".\"delivery_charge\" AS \"restaurant_delivery_charge\" FROM \"cart_cart\" INNER JOIN \"order_order\" ON (\"cart_cart\".\"id\" = \"order_order\".\"cart_id\") LEFT OUTER JOIN \"cart_cartitem\" ON (\"cart_cart\".\"id\" = \"cart_cartitem\".\"cart_id\") LEFT OUTER JOIN \"menu_menu\" ON (\"cart_cartitem\".\"menu_id\" = \"menu_menu\".\"id\") LEFT OUTER JOIN \"restaurant_restaurant\" ON (\"menu_menu\".\"restaurant_id\" = \"restaurant_restaurant\".\"id\") WHERE (\"order_order\".\"delivery_status\" = 2 AND \"order_order\".\"status\" = 1 AND NOT (\"cart_cart\".\"id\" IN (SELECT U0.\"id\" FROM \"cart_cart\" U0 LEFT OUTER JOIN \"order_order\" U1 ON (U0.\"id\" = U1.\"cart_id\") WHERE (U1.\"id\" IS NULL AND U0.\"id\" = (\"cart_cart\".\"id\")))))  LIMIT 21; args=(2, 1)\n"
     ]
    },
    {
     "data": {
      "text/plain": [
       "<QuerySet [{'menu_id': 2, 'img': 'menu/2019/05/01/갈비천왕.jpg', 'name': '갈비천왕', 'detail': '갈비양념이 들어간 치킨', 'price': 20000, 'restaurant_name': '굽네치킨', 'restaurant_min_order_price': 17000, 'restaurant_delivery_charge': 2000}, {'menu_id': 15, 'img': 'menu/2019/05/29/광어회_대.jpg', 'name': '광어회 대', 'detail': '잘 먹고 잘 자란 커다란 양식 광어', 'price': 40000, 'restaurant_name': '척횟집', 'restaurant_min_order_price': 15000, 'restaurant_delivery_charge': 2000}, {'menu_id': 18, 'img': 'menu/2019/05/29/모듬회.jpeg', 'name': '모듬회', 'detail': '연어 광어 우럭 참치 등 다양한 회를 맛볼 수 있음', 'price': 45000, 'restaurant_name': '척횟집', 'restaurant_min_order_price': 15000, 'restaurant_delivery_charge': 2000}, {'menu_id': 21, 'img': 'menu/2019/05/29/회덮밥.jpg', 'name': '회덮밥', 'detail': '쫄깃한 회와 고슬한 밥', 'price': 8000, 'restaurant_name': '척횟집', 'restaurant_min_order_price': 15000, 'restaurant_delivery_charge': 2000}, {'menu_id': 23, 'img': 'menu/2019/05/31/jjajangmyun.jpg', 'name': '짜장면', 'detail': '맛있는 짜장면', 'price': 5000, 'restaurant_name': '금룡', 'restaurant_min_order_price': 15000, 'restaurant_delivery_charge': 2000}, {'menu_id': 24, 'img': 'menu/2019/05/31/tangsuyook.jpg', 'name': '탕수육', 'detail': '맛있는 탕수육', 'price': 18000, 'restaurant_name': '금룡', 'restaurant_min_order_price': 15000, 'restaurant_delivery_charge': 2000}, {'menu_id': 25, 'img': 'menu/2019/05/31/gganpungi.jpg', 'name': '깐풍기', 'detail': '맛있는 깐풍기', 'price': 19000, 'restaurant_name': '금룡', 'restaurant_min_order_price': 15000, 'restaurant_delivery_charge': 2000}, {'menu_id': 26, 'img': 'menu/2019/05/31/yangjangpee.jpg', 'name': '양장피', 'detail': '맛있는 양장피', 'price': 25000, 'restaurant_name': '금룡', 'restaurant_min_order_price': 15000, 'restaurant_delivery_charge': 2000}, {'menu_id': 27, 'img': 'menu/2019/05/31/jabchaebob.jpg', 'name': '잡채밥', 'detail': '맛있는 잡채밥', 'price': 7500, 'restaurant_name': '금룡', 'restaurant_min_order_price': 15000, 'restaurant_delivery_charge': 2000}, {'menu_id': 28, 'img': 'menu/2019/05/31/kyochon_rice_set.png', 'name': '교촌 라이스 세트', 'detail': '쌀로 만든 궁극의 바사함, 교촌라이스세트!', 'price': 21000, 'restaurant_name': '교촌치킨', 'restaurant_min_order_price': 14000, 'restaurant_delivery_charge': 2000}, {'menu_id': 29, 'img': 'menu/2019/05/31/kychon_original.png', 'name': '교촌 오리지날', 'detail': '교촌만의 차별화된 마늘과 간장소스의 풍부한 맛이 어우러진 한 마리 치킨', 'price': 15000, 'restaurant_name': '교촌치킨', 'restaurant_min_order_price': 14000, 'restaurant_delivery_charge': 2000}, {'menu_id': 32, 'img': 'menu/2019/05/31/kychon_red_combo.png', 'name': '교촌레드콤보', 'detail': '국내산 청양 홍고추의 매콤한 맛에 날개와 다리를 함께 즐길 수 있는 메뉴', 'price': 18000, 'restaurant_name': '교촌치킨', 'restaurant_min_order_price': 14000, 'restaurant_delivery_charge': 2000}, {'menu_id': 33, 'img': 'menu/2019/05/31/sinjeon_ddeokboke.png', 'name': '떡볶이', 'detail': '맛있는 떡볶이', 'price': 15000, 'restaurant_name': '신전 떡볶이', 'restaurant_min_order_price': 15000, 'restaurant_delivery_charge': 2000}, {'menu_id': 35, 'img': 'menu/2019/05/31/sinjeon_cheese_kimbob.png', 'name': '신전치즈김밥', 'detail': '맛있는 신전치즈김밥', 'price': 8000, 'restaurant_name': '신전 떡볶이', 'restaurant_min_order_price': 15000, 'restaurant_delivery_charge': 2000}, {'menu_id': 36, 'img': 'menu/2019/05/31/sinjeon_rice.png', 'name': '신전라이스', 'detail': '맛있는 신전라이스', 'price': 8000, 'restaurant_name': '신전 떡볶이', 'restaurant_min_order_price': 15000, 'restaurant_delivery_charge': 2000}, {'menu_id': None, 'img': None, 'name': None, 'detail': None, 'price': None, 'restaurant_name': None, 'restaurant_min_order_price': None, 'restaurant_delivery_charge': None}]>"
      ]
     },
     "execution_count": 68,
     "metadata": {},
     "output_type": "execute_result"
    }
   ],
   "source": [
    "(Cart.objects\n",
    ".filter(\n",
    "    Q(order__delivery_status=2) &\n",
    "    Q(order__status=1) &\n",
    "    ~Q(order=None)\n",
    ")\n",
    ".distinct()\n",
    ".annotate(\n",
    "                menu_id=F('cartitem__menu__id'),\n",
    "                img=F('cartitem__menu__img'),\n",
    "                name=F('cartitem__menu__name'),\n",
    "                detail=F('cartitem__menu__detail'),\n",
    "                price=F('cartitem__menu__price'),\n",
    "                restaurant_name=F('cartitem__menu__restaurant__name'),\n",
    "                restaurant_min_order_price=F(\n",
    "                    'cartitem__menu__restaurant__min_order_price'),\n",
    "                restaurant_delivery_charge=F(\n",
    "                    'cartitem__menu__restaurant__delivery_charge'),\n",
    "            ).values(\n",
    "                'menu_id',\n",
    "                'img',\n",
    "                'name',\n",
    "                'detail',\n",
    "                'price',\n",
    "                'restaurant_name',\n",
    "                'restaurant_min_order_price',\n",
    "                'restaurant_delivery_charge',\n",
    "            ))"
   ]
  },
  {
   "cell_type": "code",
   "execution_count": 73,
   "metadata": {},
   "outputs": [
    {
     "name": "stderr",
     "output_type": "stream",
     "text": [
      "(0.001) SELECT \"accounts_user\".\"id\", \"accounts_user\".\"password\", \"accounts_user\".\"last_login\", \"accounts_user\".\"is_superuser\", \"accounts_user\".\"username\", \"accounts_user\".\"first_name\", \"accounts_user\".\"last_name\", \"accounts_user\".\"email\", \"accounts_user\".\"is_staff\", \"accounts_user\".\"is_active\", \"accounts_user\".\"date_joined\", \"accounts_user\".\"phone\", \"accounts_user\".\"address\", \"accounts_user\".\"address_detail\", \"accounts_user\".\"user_type\", \"accounts_user\".\"deactivate_date\" FROM \"accounts_user\" WHERE \"accounts_user\".\"username\" = '사장님'; args=('사장님',)\n",
      "(0.001) SELECT DISTINCT \"restaurant_restaurant\".\"id\", \"restaurant_restaurant\".\"name\", \"restaurant_restaurant\".\"title\" FROM \"restaurant_restaurant\" LEFT OUTER JOIN \"yosigy_yosigy\" ON (\"restaurant_restaurant\".\"id\" = \"yosigy_yosigy\".\"restaurant_id\") WHERE (\"restaurant_restaurant\".\"store_owner_id\" = 14 AND (\"yosigy_yosigy\".\"id\" IS NULL OR \"yosigy_yosigy\".\"deadline\" <= '2019-07-04'::date)) ORDER BY \"restaurant_restaurant\".\"name\" ASC  LIMIT 21; args=(14, datetime.date(2019, 7, 4))\n"
     ]
    },
    {
     "data": {
      "text/plain": [
       "<QuerySet [{'id': 7, 'name': '금룡', 'title': '금룡 한양대점'}]>"
      ]
     },
     "execution_count": 73,
     "metadata": {},
     "output_type": "execute_result"
    }
   ],
   "source": [
    "import datetime\n",
    "(Restaurant.objects.distinct().select_related('yosigy')\n",
    "            .filter(\n",
    "               Q(store_owner=User.objects.get(username='사장님')) & (Q(yosigy=None) | Q(yosigy__deadline__lte=datetime.datetime.now()))\n",
    "            )\n",
    "            .order_by(\n",
    "                'name'\n",
    "            ).values('id', 'name', 'title'))"
   ]
  },
  {
   "cell_type": "code",
   "execution_count": 75,
   "metadata": {},
   "outputs": [],
   "source": [
    "a=[1,3,'five',['list', 'of', 'lists']]\n"
   ]
  },
  {
   "cell_type": "code",
   "execution_count": 77,
   "metadata": {},
   "outputs": [
    {
     "data": {
      "text/plain": [
       "'lists'"
      ]
     },
     "execution_count": 77,
     "metadata": {},
     "output_type": "execute_result"
    }
   ],
   "source": [
    "a[-1][2]"
   ]
  },
  {
   "cell_type": "code",
   "execution_count": 85,
   "metadata": {},
   "outputs": [
    {
     "data": {
      "text/plain": [
       "[1, 3, 'five']"
      ]
     },
     "execution_count": 85,
     "metadata": {},
     "output_type": "execute_result"
    }
   ],
   "source": [
    "a[:3]"
   ]
  },
  {
   "cell_type": "code",
   "execution_count": 86,
   "metadata": {},
   "outputs": [],
   "source": [
    "list_a=[1,3,4,5,2,10]"
   ]
  },
  {
   "cell_type": "code",
   "execution_count": 88,
   "metadata": {},
   "outputs": [],
   "source": [
    "list_a.sort()"
   ]
  },
  {
   "cell_type": "code",
   "execution_count": 89,
   "metadata": {},
   "outputs": [
    {
     "data": {
      "text/plain": [
       "[1, 2, 3, 4, 5, 10]"
      ]
     },
     "execution_count": 89,
     "metadata": {},
     "output_type": "execute_result"
    }
   ],
   "source": [
    "list_a"
   ]
  },
  {
   "cell_type": "code",
   "execution_count": 91,
   "metadata": {},
   "outputs": [],
   "source": [
    "list_a.extend([7,13])"
   ]
  },
  {
   "cell_type": "code",
   "execution_count": 92,
   "metadata": {},
   "outputs": [
    {
     "data": {
      "text/plain": [
       "[1, 2, 3, 4, 5, 10, 7, 13]"
      ]
     },
     "execution_count": 92,
     "metadata": {},
     "output_type": "execute_result"
    }
   ],
   "source": [
    "list_a"
   ]
  },
  {
   "cell_type": "code",
   "execution_count": 93,
   "metadata": {},
   "outputs": [],
   "source": [
    "list_a.insert(2,3)"
   ]
  },
  {
   "cell_type": "code",
   "execution_count": 95,
   "metadata": {},
   "outputs": [],
   "source": [
    "list_a.insert(0,0)"
   ]
  },
  {
   "cell_type": "code",
   "execution_count": 96,
   "metadata": {},
   "outputs": [
    {
     "data": {
      "text/plain": [
       "[0, 1, 2, 3, 3, 4, 5, 10, 7, 13]"
      ]
     },
     "execution_count": 96,
     "metadata": {},
     "output_type": "execute_result"
    }
   ],
   "source": [
    "list_a"
   ]
  },
  {
   "cell_type": "code",
   "execution_count": 97,
   "metadata": {},
   "outputs": [],
   "source": [
    "t = (1, 2, 3)"
   ]
  },
  {
   "cell_type": "code",
   "execution_count": 98,
   "metadata": {},
   "outputs": [
    {
     "data": {
      "text/plain": [
       "(1, 2)"
      ]
     },
     "execution_count": 98,
     "metadata": {},
     "output_type": "execute_result"
    }
   ],
   "source": [
    "t[:2]"
   ]
  },
  {
   "cell_type": "code",
   "execution_count": 99,
   "metadata": {},
   "outputs": [],
   "source": [
    "t2=(1,2,3,4,5,6)"
   ]
  },
  {
   "cell_type": "code",
   "execution_count": 101,
   "metadata": {},
   "outputs": [
    {
     "data": {
      "text/plain": [
       "(1, 2, 3, 4, 5, 6, 1, 2, 3)"
      ]
     },
     "execution_count": 101,
     "metadata": {},
     "output_type": "execute_result"
    }
   ],
   "source": [
    "t2+t"
   ]
  },
  {
   "cell_type": "code",
   "execution_count": 102,
   "metadata": {},
   "outputs": [
    {
     "data": {
      "text/plain": [
       "(1, 2, 3, 1, 2, 3, 1, 2, 3)"
      ]
     },
     "execution_count": 102,
     "metadata": {},
     "output_type": "execute_result"
    }
   ],
   "source": [
    "t*3"
   ]
  },
  {
   "cell_type": "code",
   "execution_count": 103,
   "metadata": {},
   "outputs": [],
   "source": [
    "dict = {'key1': '영어', 'key2': 123}"
   ]
  },
  {
   "cell_type": "code",
   "execution_count": 107,
   "metadata": {},
   "outputs": [
    {
     "data": {
      "text/plain": [
       "dict_items([('key1', '영어'), ('key2', 123)])"
      ]
     },
     "execution_count": 107,
     "metadata": {},
     "output_type": "execute_result"
    }
   ],
   "source": [
    "dict.items()"
   ]
  },
  {
   "cell_type": "code",
   "execution_count": 108,
   "metadata": {},
   "outputs": [
    {
     "data": {
      "text/plain": [
       "True"
      ]
     },
     "execution_count": 108,
     "metadata": {},
     "output_type": "execute_result"
    }
   ],
   "source": [
    "'key1' in dict"
   ]
  },
  {
   "cell_type": "code",
   "execution_count": 111,
   "metadata": {},
   "outputs": [
    {
     "data": {
      "text/plain": [
       "True"
      ]
     },
     "execution_count": 111,
     "metadata": {},
     "output_type": "execute_result"
    }
   ],
   "source": [
    "'영어' in dict.values()"
   ]
  },
  {
   "cell_type": "code",
   "execution_count": 113,
   "metadata": {},
   "outputs": [
    {
     "name": "stdout",
     "output_type": "stream",
     "text": [
      "[1, 4, 9, 16, 25]\n"
     ]
    }
   ],
   "source": [
    "def square_numbers(nums):\n",
    "    result = []\n",
    "    for i in nums:\n",
    "        result.append(i * i)\n",
    "    return result\n",
    "\n",
    "my_nums = square_numbers([1, 2, 3, 4, 5])\n",
    "\n",
    "print( my_nums)"
   ]
  },
  {
   "cell_type": "code",
   "execution_count": 115,
   "metadata": {},
   "outputs": [
    {
     "name": "stdout",
     "output_type": "stream",
     "text": [
      "1\n"
     ]
    }
   ],
   "source": [
    "def square_numbers(nums):\n",
    "    for i in nums:\n",
    "        yield i * i\n",
    "\n",
    "my_nums = square_numbers([1, 2, 3, 4, 5])\n",
    "\n",
    "print (next(my_nums))"
   ]
  },
  {
   "cell_type": "code",
   "execution_count": 116,
   "metadata": {},
   "outputs": [
    {
     "name": "stdout",
     "output_type": "stream",
     "text": [
      "4\n"
     ]
    }
   ],
   "source": [
    "print (next(my_nums))"
   ]
  },
  {
   "cell_type": "code",
   "execution_count": 117,
   "metadata": {},
   "outputs": [],
   "source": [
    "my_num = [x*x for x in [1,2,3,4,5]]"
   ]
  },
  {
   "cell_type": "code",
   "execution_count": 118,
   "metadata": {},
   "outputs": [
    {
     "data": {
      "text/plain": [
       "[1, 4, 9, 16, 25]"
      ]
     },
     "execution_count": 118,
     "metadata": {},
     "output_type": "execute_result"
    }
   ],
   "source": [
    "my_num"
   ]
  },
  {
   "cell_type": "code",
   "execution_count": 119,
   "metadata": {},
   "outputs": [
    {
     "name": "stdout",
     "output_type": "stream",
     "text": [
      "1\n",
      "4\n",
      "9\n",
      "16\n",
      "25\n"
     ]
    }
   ],
   "source": [
    "for i in my_num:\n",
    "    print(i)"
   ]
  },
  {
   "cell_type": "code",
   "execution_count": 120,
   "metadata": {},
   "outputs": [],
   "source": [
    "my_num=(x*x for x in [1,2,3,4,5])"
   ]
  },
  {
   "cell_type": "code",
   "execution_count": 121,
   "metadata": {},
   "outputs": [
    {
     "data": {
      "text/plain": [
       "<generator object <genexpr> at 0x1101d6c00>"
      ]
     },
     "execution_count": 121,
     "metadata": {},
     "output_type": "execute_result"
    }
   ],
   "source": [
    "my_num"
   ]
  },
  {
   "cell_type": "code",
   "execution_count": 122,
   "metadata": {},
   "outputs": [
    {
     "data": {
      "text/plain": [
       "1"
      ]
     },
     "execution_count": 122,
     "metadata": {},
     "output_type": "execute_result"
    }
   ],
   "source": [
    "next(my_num)"
   ]
  },
  {
   "cell_type": "code",
   "execution_count": 123,
   "metadata": {},
   "outputs": [
    {
     "data": {
      "text/plain": [
       "[4, 9, 16, 25]"
      ]
     },
     "execution_count": 123,
     "metadata": {},
     "output_type": "execute_result"
    }
   ],
   "source": [
    "list(my_num)"
   ]
  },
  {
   "cell_type": "code",
   "execution_count": 124,
   "metadata": {},
   "outputs": [],
   "source": [
    "names = ['최용호', '지길정', '진영욱', '김세훈', '오세훈', '김민우']\n",
    "majors = ['컴퓨터 공학', '국문학', '영문학', '수학', '정치']\n"
   ]
  },
  {
   "cell_type": "code",
   "execution_count": 125,
   "metadata": {},
   "outputs": [
    {
     "ename": "ModuleNotFoundError",
     "evalue": "No module named 'psutil'",
     "output_type": "error",
     "traceback": [
      "\u001b[0;31m---------------------------------------------------------------------------\u001b[0m",
      "\u001b[0;31mModuleNotFoundError\u001b[0m                       Traceback (most recent call last)",
      "\u001b[0;32m<ipython-input-125-86777a52b481>\u001b[0m in \u001b[0;36m<module>\u001b[0;34m\u001b[0m\n\u001b[1;32m      1\u001b[0m \u001b[0;32mimport\u001b[0m \u001b[0mos\u001b[0m\u001b[0;34m\u001b[0m\u001b[0;34m\u001b[0m\u001b[0m\n\u001b[0;32m----> 2\u001b[0;31m \u001b[0;32mimport\u001b[0m \u001b[0mpsutil\u001b[0m\u001b[0;34m\u001b[0m\u001b[0;34m\u001b[0m\u001b[0m\n\u001b[0m",
      "\u001b[0;31mModuleNotFoundError\u001b[0m: No module named 'psutil'"
     ]
    }
   ],
   "source": [
    "import os\n",
    "import psutil"
   ]
  },
  {
   "cell_type": "code",
   "execution_count": 126,
   "metadata": {},
   "outputs": [
    {
     "data": {
      "text/plain": [
       "<function __main__.<lambda>(x)>"
      ]
     },
     "execution_count": 126,
     "metadata": {},
     "output_type": "execute_result"
    }
   ],
   "source": [
    "lambda x: x+1"
   ]
  },
  {
   "cell_type": "code",
   "execution_count": 127,
   "metadata": {},
   "outputs": [
    {
     "name": "stdout",
     "output_type": "stream",
     "text": [
      "<function <lambda> at 0x110210598>\n"
     ]
    }
   ],
   "source": [
    "print(lambda x: x+1)"
   ]
  },
  {
   "cell_type": "code",
   "execution_count": 129,
   "metadata": {},
   "outputs": [],
   "source": [
    "add= lambda x,y: x+y\n"
   ]
  },
  {
   "cell_type": "code",
   "execution_count": 130,
   "metadata": {},
   "outputs": [
    {
     "data": {
      "text/plain": [
       "4"
      ]
     },
     "execution_count": 130,
     "metadata": {},
     "output_type": "execute_result"
    }
   ],
   "source": [
    "add(1,3)"
   ]
  },
  {
   "cell_type": "code",
   "execution_count": 131,
   "metadata": {},
   "outputs": [],
   "source": [
    "xs=list(range(10))"
   ]
  },
  {
   "cell_type": "code",
   "execution_count": 132,
   "metadata": {},
   "outputs": [
    {
     "data": {
      "text/plain": [
       "[0, 1, 2, 3, 4, 5, 6, 7, 8, 9]"
      ]
     },
     "execution_count": 132,
     "metadata": {},
     "output_type": "execute_result"
    }
   ],
   "source": [
    "xs"
   ]
  },
  {
   "cell_type": "code",
   "execution_count": 133,
   "metadata": {},
   "outputs": [],
   "source": [
    "doubled=map(lambda x:x*2,xs)"
   ]
  },
  {
   "cell_type": "code",
   "execution_count": 134,
   "metadata": {},
   "outputs": [
    {
     "data": {
      "text/plain": [
       "[0, 2, 4, 6, 8, 10, 12, 14, 16, 18]"
      ]
     },
     "execution_count": 134,
     "metadata": {},
     "output_type": "execute_result"
    }
   ],
   "source": [
    "list(doubled)"
   ]
  },
  {
   "cell_type": "code",
   "execution_count": 135,
   "metadata": {},
   "outputs": [],
   "source": [
    "squared=map(lambda x: (x+1)**2,xs)"
   ]
  },
  {
   "cell_type": "code",
   "execution_count": 136,
   "metadata": {},
   "outputs": [
    {
     "data": {
      "text/plain": [
       "[1, 4, 9, 16, 25, 36, 49, 64, 81, 100]"
      ]
     },
     "execution_count": 136,
     "metadata": {},
     "output_type": "execute_result"
    }
   ],
   "source": [
    "list(squared)"
   ]
  },
  {
   "cell_type": "code",
   "execution_count": 141,
   "metadata": {},
   "outputs": [],
   "source": [
    "evens=filter(lambda x:x%2 is 0,xs)"
   ]
  },
  {
   "cell_type": "code",
   "execution_count": 139,
   "metadata": {},
   "outputs": [
    {
     "data": {
      "text/plain": [
       "[0, 2, 4, 6, 8]"
      ]
     },
     "execution_count": 139,
     "metadata": {},
     "output_type": "execute_result"
    }
   ],
   "source": [
    "list(evens)\n"
   ]
  },
  {
   "cell_type": "code",
   "execution_count": 148,
   "metadata": {},
   "outputs": [],
   "source": [
    "xs=range(10)\n",
    "doubled=(x*x for x in xs)"
   ]
  },
  {
   "cell_type": "code",
   "execution_count": 151,
   "metadata": {},
   "outputs": [
    {
     "data": {
      "text/plain": [
       "4"
      ]
     },
     "execution_count": 151,
     "metadata": {},
     "output_type": "execute_result"
    }
   ],
   "source": [
    "next(doubled)"
   ]
  },
  {
   "cell_type": "code",
   "execution_count": 152,
   "metadata": {},
   "outputs": [],
   "source": [
    "line=','.join(str(x+1) for  x in xs)"
   ]
  },
  {
   "cell_type": "code",
   "execution_count": 153,
   "metadata": {},
   "outputs": [
    {
     "data": {
      "text/plain": [
       "'1,2,3,4,5,6,7,8,9,10'"
      ]
     },
     "execution_count": 153,
     "metadata": {},
     "output_type": "execute_result"
    }
   ],
   "source": [
    "line"
   ]
  },
  {
   "cell_type": "code",
   "execution_count": 163,
   "metadata": {},
   "outputs": [],
   "source": [
    "def reduce(fn, xs, init=None):\n",
    "    if init is None:\n",
    "        return reduce(fn, xs[1:],xs[0])\n",
    "    acc=init\n",
    "    for x in xs:\n",
    "        acc=fn(acc,x)\n",
    "    return acc"
   ]
  },
  {
   "cell_type": "code",
   "execution_count": 156,
   "metadata": {},
   "outputs": [],
   "source": [
    "xs=range(10)"
   ]
  },
  {
   "cell_type": "code",
   "execution_count": 164,
   "metadata": {},
   "outputs": [],
   "source": [
    "total=reduce(lambda x,y:x+y, xs)"
   ]
  },
  {
   "cell_type": "code",
   "execution_count": 165,
   "metadata": {},
   "outputs": [
    {
     "data": {
      "text/plain": [
       "45"
      ]
     },
     "execution_count": 165,
     "metadata": {},
     "output_type": "execute_result"
    }
   ],
   "source": [
    "total"
   ]
  },
  {
   "cell_type": "code",
   "execution_count": 166,
   "metadata": {},
   "outputs": [],
   "source": [
    "def reduce(fn,xs, init=None):\n",
    "    if init is None:\n",
    "        return reduce(fn, xs[1:], xs[0])\n",
    "    acc=init\n",
    "    for x in xs:\n",
    "        acc=fn(acc, x)\n",
    "    return acc"
   ]
  },
  {
   "cell_type": "code",
   "execution_count": 171,
   "metadata": {},
   "outputs": [],
   "source": [
    "xs=range(1,10)"
   ]
  },
  {
   "cell_type": "code",
   "execution_count": 172,
   "metadata": {},
   "outputs": [
    {
     "data": {
      "text/plain": [
       "362880"
      ]
     },
     "execution_count": 172,
     "metadata": {},
     "output_type": "execute_result"
    }
   ],
   "source": [
    "reduce(lambda x,y:x*y, xs)"
   ]
  },
  {
   "cell_type": "code",
   "execution_count": 174,
   "metadata": {},
   "outputs": [],
   "source": [
    "product=reduce(lambda x,y: x*y, xs)"
   ]
  },
  {
   "cell_type": "code",
   "execution_count": 175,
   "metadata": {},
   "outputs": [],
   "source": [
    "factorial=lambda n: product(range(1,n+1))"
   ]
  },
  {
   "cell_type": "code",
   "execution_count": 176,
   "metadata": {},
   "outputs": [
    {
     "data": {
      "text/plain": [
       "<function __main__.<lambda>(n)>"
      ]
     },
     "execution_count": 176,
     "metadata": {},
     "output_type": "execute_result"
    }
   ],
   "source": [
    "factorial"
   ]
  },
  {
   "cell_type": "code",
   "execution_count": 177,
   "metadata": {},
   "outputs": [
    {
     "data": {
      "text/plain": [
       "362880"
      ]
     },
     "execution_count": 177,
     "metadata": {},
     "output_type": "execute_result"
    }
   ],
   "source": [
    "product"
   ]
  },
  {
   "cell_type": "code",
   "execution_count": 178,
   "metadata": {},
   "outputs": [],
   "source": [
    "min_xs=reduce(lambda x, y :x if x<y else y, xs)"
   ]
  },
  {
   "cell_type": "code",
   "execution_count": 179,
   "metadata": {},
   "outputs": [
    {
     "data": {
      "text/plain": [
       "1"
      ]
     },
     "execution_count": 179,
     "metadata": {},
     "output_type": "execute_result"
    }
   ],
   "source": [
    "min_xs"
   ]
  },
  {
   "cell_type": "code",
   "execution_count": 180,
   "metadata": {},
   "outputs": [],
   "source": [
    "max_xs=reduce(lambda x,y :x if x>y else y, xs)"
   ]
  },
  {
   "cell_type": "code",
   "execution_count": 181,
   "metadata": {},
   "outputs": [
    {
     "data": {
      "text/plain": [
       "9"
      ]
     },
     "execution_count": 181,
     "metadata": {},
     "output_type": "execute_result"
    }
   ],
   "source": [
    "max_xs"
   ]
  },
  {
   "cell_type": "code",
   "execution_count": 195,
   "metadata": {},
   "outputs": [],
   "source": [
    "a=list('abcde')\n"
   ]
  },
  {
   "cell_type": "code",
   "execution_count": 200,
   "metadata": {},
   "outputs": [],
   "source": [
    "a='hello world'"
   ]
  },
  {
   "cell_type": "code",
   "execution_count": 201,
   "metadata": {},
   "outputs": [
    {
     "data": {
      "text/plain": [
       "'dlrow olleh'"
      ]
     },
     "execution_count": 201,
     "metadata": {},
     "output_type": "execute_result"
    }
   ],
   "source": [
    "a[::-1]"
   ]
  },
  {
   "cell_type": "code",
   "execution_count": 230,
   "metadata": {},
   "outputs": [],
   "source": [
    "list_a=[1,2,3,4,5]"
   ]
  },
  {
   "cell_type": "code",
   "execution_count": 214,
   "metadata": {},
   "outputs": [],
   "source": [
    "list_a.reverse()"
   ]
  },
  {
   "cell_type": "code",
   "execution_count": 229,
   "metadata": {},
   "outputs": [
    {
     "data": {
      "text/plain": [
       "[5, 4]"
      ]
     },
     "execution_count": 229,
     "metadata": {},
     "output_type": "execute_result"
    }
   ],
   "source": [
    "list_a"
   ]
  },
  {
   "cell_type": "code",
   "execution_count": 228,
   "metadata": {},
   "outputs": [
    {
     "data": {
      "text/plain": [
       "[5, 4]"
      ]
     },
     "execution_count": 228,
     "metadata": {},
     "output_type": "execute_result"
    }
   ],
   "source": [
    "list_a"
   ]
  },
  {
   "cell_type": "code",
   "execution_count": 231,
   "metadata": {},
   "outputs": [],
   "source": [
    "list_b=[list_a.pop() for x in list_a]"
   ]
  },
  {
   "cell_type": "code",
   "execution_count": 235,
   "metadata": {},
   "outputs": [],
   "source": [
    "list_a=[1,2,3,4,5]\n",
    "list_b=[list_a.pop() for i in range(len(list_a))]"
   ]
  },
  {
   "cell_type": "code",
   "execution_count": 236,
   "metadata": {},
   "outputs": [
    {
     "data": {
      "text/plain": [
       "[5, 4, 3, 2, 1]"
      ]
     },
     "execution_count": 236,
     "metadata": {},
     "output_type": "execute_result"
    }
   ],
   "source": [
    "list_b"
   ]
  },
  {
   "cell_type": "code",
   "execution_count": 237,
   "metadata": {},
   "outputs": [],
   "source": [
    "class Node:\n",
    "    def __init__(self, key, value):\n",
    "        self.key=key\n",
    "        self.value=value"
   ]
  },
  {
   "cell_type": "code",
   "execution_count": 238,
   "metadata": {},
   "outputs": [],
   "source": [
    "class HashTable():\n",
    "    def __init__(self, size=7):\n",
    "        self._table=[[] for i in range(size)]\n",
    "        self.size=size\n",
    "        \n",
    "    def set(self, key, value):\n",
    "        new_node=Node(key, value)\n",
    "        box, item, in_index =self.find(key)\n",
    "        \n",
    "        if item is None:\n",
    "            box.append(new_node)\n",
    "        else:\n",
    "            item = new_node\n",
    "            \n",
    "    def get(self, key)"
   ]
  },
  {
   "cell_type": "code",
   "execution_count": 241,
   "metadata": {},
   "outputs": [],
   "source": [
    "a=[i for i in range(10000)]\n",
    "b=(i for i in range(10000))"
   ]
  },
  {
   "cell_type": "code",
   "execution_count": 243,
   "metadata": {},
   "outputs": [
    {
     "data": {
      "text/plain": [
       "87624"
      ]
     },
     "execution_count": 243,
     "metadata": {},
     "output_type": "execute_result"
    }
   ],
   "source": [
    "import sys\n",
    "sys.getsizeof(a)"
   ]
  },
  {
   "cell_type": "code",
   "execution_count": 244,
   "metadata": {},
   "outputs": [
    {
     "data": {
      "text/plain": [
       "120"
      ]
     },
     "execution_count": 244,
     "metadata": {},
     "output_type": "execute_result"
    }
   ],
   "source": [
    "sys.getsizeof(b)"
   ]
  },
  {
   "cell_type": "code",
   "execution_count": 245,
   "metadata": {},
   "outputs": [
    {
     "ename": "ModuleNotFoundError",
     "evalue": "No module named 'celery'",
     "output_type": "error",
     "traceback": [
      "\u001b[0;31m---------------------------------------------------------------------------\u001b[0m",
      "\u001b[0;31mModuleNotFoundError\u001b[0m                       Traceback (most recent call last)",
      "\u001b[0;32m<ipython-input-245-5f4b9c0d179f>\u001b[0m in \u001b[0;36m<module>\u001b[0;34m\u001b[0m\n\u001b[0;32m----> 1\u001b[0;31m \u001b[0;32mfrom\u001b[0m \u001b[0mcelery\u001b[0m \u001b[0;32mimport\u001b[0m \u001b[0mCelery\u001b[0m\u001b[0;34m\u001b[0m\u001b[0;34m\u001b[0m\u001b[0m\n\u001b[0m",
      "\u001b[0;31mModuleNotFoundError\u001b[0m: No module named 'celery'"
     ]
    }
   ],
   "source": [
    "from celery import Celery"
   ]
  },
  {
   "cell_type": "code",
   "execution_count": 246,
   "metadata": {},
   "outputs": [],
   "source": [
    "l=[9,5,5,7,3]"
   ]
  },
  {
   "cell_type": "code",
   "execution_count": 247,
   "metadata": {},
   "outputs": [
    {
     "data": {
      "text/plain": [
       "[9, 3, 5, 7]"
      ]
     },
     "execution_count": 247,
     "metadata": {},
     "output_type": "execute_result"
    }
   ],
   "source": [
    "list(set(l))"
   ]
  },
  {
   "cell_type": "code",
   "execution_count": null,
   "metadata": {},
   "outputs": [],
   "source": []
  }
 ],
 "metadata": {
  "kernelspec": {
   "display_name": "Django Shell-Plus",
   "language": "python",
   "name": "django_extensions"
  },
  "language_info": {
   "codemirror_mode": {
    "name": "ipython",
    "version": 3
   },
   "file_extension": ".py",
   "mimetype": "text/x-python",
   "name": "python",
   "nbconvert_exporter": "python",
   "pygments_lexer": "ipython3",
   "version": "3.7.2"
  }
 },
 "nbformat": 4,
 "nbformat_minor": 2
}
